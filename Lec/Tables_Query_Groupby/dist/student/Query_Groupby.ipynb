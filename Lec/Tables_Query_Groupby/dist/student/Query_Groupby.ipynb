{
 "cells": [
  {
   "cell_type": "code",
   "execution_count": null,
   "id": "91c1569e",
   "metadata": {
    "deletable": false,
    "editable": false
   },
   "outputs": [],
   "source": [
    "# Initialize Otter\n",
    "import otter\n",
    "grader = otter.Notebook(\"Query_Groupby.ipynb\")"
   ]
  },
  {
   "cell_type": "code",
   "execution_count": null,
   "id": "97766e7a-7695-464e-9061-ef743f2f5d80",
   "metadata": {},
   "outputs": [],
   "source": [
    "import pandas as pd\n",
    "import numpy as np"
   ]
  },
  {
   "cell_type": "markdown",
   "id": "7d0ee2c9-aefe-4541-9147-fe6babd7acc1",
   "metadata": {},
   "source": [
    "# <span style=\"color:red\">Treating Pandas Series as a Numpy array</span>\n",
    "\n",
    "Pandas and Numpy are designed in such a way that they are compatible to each other, which means, you can apply numpy methods to pandas series in most cases. \n",
    "\n",
    "For example: Consider the `Housing Conditions in Copenhagen` dataset. This is a table classifying 1681 residents of twelve areas in Copenhagen in terms of:\n",
    "- **housing**: the type of housing they had (tower blocks, apartments, atrium houses and terraced houses)\n",
    "- **influence**: their feeling of influence on apartment management (low, high)\n",
    "- **contact**: their degree of contact with neighbours (low, high)\n",
    "- **satisfaction**: their satisfaction with housing conditions (low, medium, high)\n",
    "- **n**: the number of cases/residents\n",
    "\n"
   ]
  },
  {
   "cell_type": "code",
   "execution_count": null,
   "id": "a3f4d651-472c-45a4-8dc8-91d05223ebeb",
   "metadata": {},
   "outputs": [],
   "source": [
    "copen = pd.read_csv('data/copen.dat', sep='\\\\s+') \n",
    "copen.head()"
   ]
  },
  {
   "cell_type": "markdown",
   "id": "154a4ee0-256e-42e5-8ec7-b8990acf32a1",
   "metadata": {},
   "source": [
    "`copen.loc[:, 'n']` returns a pandas series with values of the column `n`. However, you can treat the returned series as a numpy array, and can apply `np.sum` method to find the sum of all values in that column. "
   ]
  },
  {
   "cell_type": "code",
   "execution_count": null,
   "id": "30a5e21d-13cb-49a8-8225-3cd080035c14",
   "metadata": {},
   "outputs": [],
   "source": [
    "np.sum(copen.loc[:, 'n'])"
   ]
  },
  {
   "cell_type": "markdown",
   "id": "1b3a1fd2-bef0-4895-8ab6-756206b4c552",
   "metadata": {},
   "source": [
    "Similarly, we know that when a scalar value is applied using an operator to a numpy array, then that operation is applied to each element of the array with the scalar value. \n",
    "This behavior is also true when a pandas series is applied using an operator and a scalar value. \n",
    "\n",
    "For eg: "
   ]
  },
  {
   "cell_type": "code",
   "execution_count": null,
   "id": "49a76456-2638-479d-972b-1bee4072825c",
   "metadata": {},
   "outputs": [],
   "source": [
    "copen.loc[:, 'n'] > 20 "
   ]
  },
  {
   "cell_type": "markdown",
   "id": "26b0d051-91ad-4696-a957-f2769ef8f1ea",
   "metadata": {},
   "source": [
    "# <span style=\"color:red\">Selecting rows based on conditions</span>\n",
    "\n",
    "In this notebook, we will dive further into exploring few more methods and behaviors of pandas dataframe, which will help us in our data exploration. \n",
    "\n",
    "So far, we have learnt about selecting rows and columns using `loc` and `iloc` property. Now, we will look into selecting rows and columns based on a condition. Such conditions are expressed as boolean expressions. We can select such rows and columns using boolean masking or using query method. \n",
    "\n",
    "For eg: Given the `copen.dat` dataset, suppose we want to select all the rows where residents lived in an apartment. \n",
    "\n",
    "### <span style=\"color:green\">Option 1: using boolean masking</span>\n",
    "\n",
    "Step1: Create a boolean mask with the boolean condition (in this example, the condition would be where housing is apartments). <br>\n",
    "Step2: Apply this mask on the entire dataframe. This will select only those rows where mask is True.  <br>\n",
    "Final result: Step2 will return a pandas dataframe or a pandas series; if more than one rows, or only one row has residents living in apartments, respectively. \n",
    "\n",
    "<img src='pics/maskingonDF.jpg' width=1000/>"
   ]
  },
  {
   "cell_type": "code",
   "execution_count": null,
   "id": "bca9141f-85a7-4229-b2ab-052c50667ba0",
   "metadata": {},
   "outputs": [],
   "source": [
    "from IPython.display import HTML\n",
    "\n",
    "HTML(\"\"\"\n",
    "    <video width=\"500\" height=\"300\" controls>\n",
    "        <source src=\"videos/query.mp4\" type=\"video/mp4\" width=400>\n",
    "    </video>\n",
    "\"\"\")"
   ]
  },
  {
   "cell_type": "code",
   "execution_count": null,
   "id": "05cb3692-576c-42aa-a25b-56de78536533",
   "metadata": {},
   "outputs": [],
   "source": [
    "from IPython.display import HTML\n",
    "\n",
    "HTML(\"\"\"\n",
    "    <video width=\"500\" height=\"300\" controls>\n",
    "        <source src=\"videos/query2.mp4\" type=\"video/mp4\" width=400>\n",
    "    </video>\n",
    "\"\"\")"
   ]
  },
  {
   "cell_type": "code",
   "execution_count": null,
   "id": "8633ca0d-3482-4af2-be31-ae42dc7f92e7",
   "metadata": {},
   "outputs": [],
   "source": [
    "# Step1: Generate the boolean mask where housing is set to apartments\n",
    "mask = (copen.loc[:, 'housing'] == 'apartments') # or simply (copen['housing'] == 'apartments')\n",
    "mask"
   ]
  },
  {
   "cell_type": "code",
   "execution_count": null,
   "id": "e99fd6ce-e3d4-4ea3-845a-8558b6c85f6e",
   "metadata": {},
   "outputs": [],
   "source": [
    "# Step2: Apply the mask on the dataframe; this will select the rows where mask is True\n",
    "copen[mask] "
   ]
  },
  {
   "cell_type": "markdown",
   "id": "bb08db35-cc5f-4186-a8b4-f5be234632d1",
   "metadata": {},
   "source": [
    "### <span style=\"color:green\">Option 2: using query method</span> \n",
    "\n",
    "We could have simplified the above query, using the `query` method. `query` method takes a string as input argument. This string is usually the boolean expression based on the condition you would like to query the dataframe on. \n",
    "\n",
    "For eg: "
   ]
  },
  {
   "cell_type": "code",
   "execution_count": null,
   "id": "b9979248-3474-47b3-8eae-7daa38bf1b2f",
   "metadata": {},
   "outputs": [],
   "source": [
    "query_str = (\"housing == 'apartments'\")\n",
    "copen.query(query_str)"
   ]
  },
  {
   "cell_type": "markdown",
   "id": "cd2c5bab-56a5-49c1-9f01-abe84d3eb127",
   "metadata": {
    "deletable": false,
    "editable": false
   },
   "source": [
    "### Question 1\n",
    "\n",
    "Find the total number of residents who lived in `apartments`. Store your result in a variable, `your_ans`. \n",
    "\n",
    "Hint: Think of the steps you need to go through to reach to the answer. \n",
    "1. Select all the rows where housing is apartments\n",
    "2. Select the column name 'n'\n",
    "3. Sum all the values of that column to get the total number of residents\n",
    "\n",
    "#### (a): Solve the question using boolean masking. "
   ]
  },
  {
   "cell_type": "code",
   "execution_count": null,
   "id": "5c31685f-0072-4b14-8bbc-256ca96505c6",
   "metadata": {
    "tags": []
   },
   "outputs": [],
   "source": [
    "your_ans = ...\n",
    "your_ans"
   ]
  },
  {
   "cell_type": "code",
   "execution_count": null,
   "id": "b4b75944",
   "metadata": {
    "deletable": false,
    "editable": false
   },
   "outputs": [],
   "source": [
    "grader.check(\"q1(a)\")"
   ]
  },
  {
   "cell_type": "markdown",
   "id": "7ee5ac22-8ee7-4b10-ab94-2e9badd23ee4",
   "metadata": {
    "deletable": false,
    "editable": false
   },
   "source": [
    "#### (b): Solve the question using query method. "
   ]
  },
  {
   "cell_type": "code",
   "execution_count": null,
   "id": "e133d3b6-0d55-4f7a-b053-b659a35006b6",
   "metadata": {
    "tags": []
   },
   "outputs": [],
   "source": [
    "your_ans = ...\n",
    "your_ans"
   ]
  },
  {
   "cell_type": "code",
   "execution_count": null,
   "id": "67c450e7",
   "metadata": {
    "deletable": false,
    "editable": false
   },
   "outputs": [],
   "source": [
    "grader.check(\"q1(b)\")"
   ]
  },
  {
   "cell_type": "markdown",
   "id": "c5a00cb4-bf2c-4970-b1fe-c59012fce2db",
   "metadata": {
    "deletable": false,
    "editable": false
   },
   "source": [
    "### Question 2\n",
    "\n",
    "Find the number of residents who have high degree of contact with their neighbors. Store your answer in the variable, `your_ans`. \n",
    "\n",
    "Think of the steps you would need to reach to the solution. \n",
    "\n",
    "#### (a): Solve the question using boolean masking. "
   ]
  },
  {
   "cell_type": "code",
   "execution_count": null,
   "id": "3283878c-aa84-4a82-b4c2-33a404035e63",
   "metadata": {
    "tags": []
   },
   "outputs": [],
   "source": [
    "your_ans = ...\n",
    "your_ans"
   ]
  },
  {
   "cell_type": "code",
   "execution_count": null,
   "id": "935b0e04",
   "metadata": {
    "deletable": false,
    "editable": false
   },
   "outputs": [],
   "source": [
    "grader.check(\"q2(a)\")"
   ]
  },
  {
   "cell_type": "markdown",
   "id": "e529fda5-3a5b-417e-93f3-f9a0cad6e012",
   "metadata": {
    "deletable": false,
    "editable": false
   },
   "source": [
    "#### (b): Solve the question using query method. "
   ]
  },
  {
   "cell_type": "code",
   "execution_count": null,
   "id": "34cbe51b-6302-46ce-a9f1-678ffa51fcb7",
   "metadata": {
    "tags": []
   },
   "outputs": [],
   "source": [
    "your_ans = ...\n",
    "your_ans"
   ]
  },
  {
   "cell_type": "code",
   "execution_count": null,
   "id": "5947fe9e",
   "metadata": {
    "deletable": false,
    "editable": false
   },
   "outputs": [],
   "source": [
    "grader.check(\"q2(b)\")"
   ]
  },
  {
   "cell_type": "markdown",
   "id": "2b52eb8c-6403-453d-9aa6-3971873fc946",
   "metadata": {
    "deletable": false,
    "editable": false
   },
   "source": [
    "### Question 3\n",
    "\n",
    "Find the number of residents who lived in apartments and have high contact with their neighbors. Store your answer in variable, `your_ans`. \n",
    "\n",
    "Solve this question using boolean masking. "
   ]
  },
  {
   "cell_type": "code",
   "execution_count": null,
   "id": "4d907ebe-71c9-4d92-b162-67c98463ca21",
   "metadata": {
    "tags": []
   },
   "outputs": [],
   "source": [
    "your_ans = ...\n",
    "your_ans"
   ]
  },
  {
   "cell_type": "code",
   "execution_count": null,
   "id": "93a3b994-1e4a-449b-a942-91eaa4b92d09",
   "metadata": {
    "tags": []
   },
   "outputs": [],
   "source": [
    "your_ans.item() == 448"
   ]
  },
  {
   "cell_type": "markdown",
   "id": "dbdf62fd-65be-4d9c-ae79-3af430b6e0eb",
   "metadata": {},
   "source": [
    "#### Solving Question 3 using query method"
   ]
  },
  {
   "cell_type": "code",
   "execution_count": null,
   "id": "51502dcb-76a4-4e6b-97aa-a117cad899c4",
   "metadata": {},
   "outputs": [],
   "source": [
    "high_contact_apartments = copen.query('housing == \"apartments\" and contact == \"high\"')\n",
    "your_ans = np.sum(high_contact_apartments['n'])\n",
    "your_ans"
   ]
  },
  {
   "cell_type": "markdown",
   "id": "d18ea0a9-04a1-42e9-9704-353901cde1c9",
   "metadata": {
    "deletable": false,
    "editable": false
   },
   "source": [
    "### Question 4\n",
    "\n",
    "Find the number of residents who live in apartments and have high contact with their neighbors; however, they have low satisfaction on their housing conditions. Store your result in a variable, `your_ans`. \n",
    "\n",
    "#### (a) Solve your question with boolean masking "
   ]
  },
  {
   "cell_type": "code",
   "execution_count": null,
   "id": "9f3ea085-bb37-4f8a-8c3a-e4662b18f93a",
   "metadata": {
    "tags": []
   },
   "outputs": [],
   "source": [
    "\n",
    "\n",
    "\n",
    "\n",
    "your_ans = ...\n",
    "your_ans"
   ]
  },
  {
   "cell_type": "code",
   "execution_count": null,
   "id": "1197040e",
   "metadata": {
    "deletable": false,
    "editable": false
   },
   "outputs": [],
   "source": [
    "grader.check(\"q4\")"
   ]
  },
  {
   "cell_type": "markdown",
   "id": "6fc4163c-1e34-4a0b-888d-636a9b1146cb",
   "metadata": {
    "deletable": false,
    "editable": false
   },
   "source": [
    "### (b) Solve it using query method"
   ]
  },
  {
   "cell_type": "code",
   "execution_count": null,
   "id": "5654117d-24e6-4481-b135-9e008d97919d",
   "metadata": {
    "tags": []
   },
   "outputs": [],
   "source": [
    "your_ans = ...\n",
    "your_ans"
   ]
  },
  {
   "cell_type": "code",
   "execution_count": null,
   "id": "751dddc8",
   "metadata": {
    "deletable": false,
    "editable": false
   },
   "outputs": [],
   "source": [
    "grader.check(\"q4(b)\")"
   ]
  },
  {
   "cell_type": "markdown",
   "id": "f7e19292-0fda-46d2-ab67-29ac562a8582",
   "metadata": {},
   "source": [
    "# <span style=\"color:red\">Pandas Groupby</span>\n",
    "\n",
    "During data exploration, it's often useful to analyze a dataset by dividing it into groups. For example, if we have data on Netflix users, including their age, the genres of movies they've watched in the past six months, their gender, and geographic locations, we might want to investigate which movie genres are most popular among users. To do this, we could group Netflix users based on the genres they've watched. For instance, we could look at which users watched action movies and which ones watched horror films.\n",
    "\n",
    "The Pandas `groupby` method allows us to accomplish such task by typically following these steps:\n",
    "1. **Splitting** the data into groups based on some criteria. \n",
    "2. **Applying** a function to each group independently.\n",
    "3. **Joining** the results into a data structure (typically a dataframe). \n",
    "\n",
    "Let's understand it further through an example. Suppose, you are given the [US Congress Legislators](https://github.com/unitedstates/congress-legislators?tab=readme-ov-file) dataset, consisting of current serving members of congress. "
   ]
  },
  {
   "cell_type": "code",
   "execution_count": null,
   "id": "ca5b3dd7-fc3c-4419-a231-93bfb42c4b69",
   "metadata": {},
   "outputs": [],
   "source": [
    "columns = [\"full_name\",\"birthday\",\"gender\",\"type\",\"state\",\"party\"]\n",
    "congress_members = pd.read_csv('data/legislators-current.csv', usecols=columns)\n",
    "congress_members.head()"
   ]
  },
  {
   "cell_type": "markdown",
   "id": "6db65fb1-cd31-4597-b63e-618dc1b2ae3e",
   "metadata": {},
   "source": [
    "Side Note: We can check how many unique values exist in the dataset, using numpy `unique` method. "
   ]
  },
  {
   "cell_type": "code",
   "execution_count": null,
   "id": "0c2759ba-7100-44ab-89fa-1110015320b9",
   "metadata": {},
   "outputs": [],
   "source": [
    "np.unique(congress_members['gender'])"
   ]
  },
  {
   "cell_type": "markdown",
   "id": "74e5b72f-5e49-4379-a0e5-83d9c56c6482",
   "metadata": {},
   "source": [
    "Let’s say we want to count the total number of male and female congress members. To achieve this, we would follow these steps:\n",
    "1. **Split** the dataframe into groups based on gender.\n",
    "2. **Apply** the count function to each group to determine the total number of rows, where each row represents an individual congress member. This will give the total count for each gender.\n",
    "3. **Combine** the results from each group into a final dataframe.\n",
    "\n",
    "<img src=\"pics/groupby.png\" width=900/>"
   ]
  },
  {
   "cell_type": "code",
   "execution_count": null,
   "id": "3762b1b2-4938-4fd0-9304-5a0648a2c599",
   "metadata": {},
   "outputs": [],
   "source": [
    "from IPython.display import HTML\n",
    "\n",
    "HTML(\"\"\"\n",
    "    <video width=\"500\" height=\"300\" controls>\n",
    "        <source src=\"videos/groupby.mp4\" type=\"video/mp4\" width=400>\n",
    "    </video>\n",
    "\"\"\")"
   ]
  },
  {
   "cell_type": "code",
   "execution_count": null,
   "id": "cd00665b-34c7-4488-a2a6-8efc61a07cea",
   "metadata": {},
   "outputs": [],
   "source": [
    "congress_members[congress_members.isna()['full_name']]"
   ]
  },
  {
   "cell_type": "code",
   "execution_count": null,
   "id": "e3b59048-f40c-4097-9ec2-4fe58a6f8187",
   "metadata": {},
   "outputs": [],
   "source": [
    "female = congress_members.query(\"gender == 'F'\")\n",
    "female.shape[0]"
   ]
  },
  {
   "cell_type": "code",
   "execution_count": null,
   "id": "09c95d50-7c71-4a14-be33-629fb493df77",
   "metadata": {},
   "outputs": [],
   "source": [
    "male = congress_members.query(\"gender == 'M'\")\n",
    "male.shape[0]"
   ]
  },
  {
   "cell_type": "code",
   "execution_count": null,
   "id": "a707295f-f317-45a3-9f03-b44e1de68d81",
   "metadata": {},
   "outputs": [],
   "source": [
    "# Step 1: \n",
    "grouped = congress_members[['gender', 'full_name']].groupby('gender')"
   ]
  },
  {
   "cell_type": "code",
   "execution_count": null,
   "id": "2f3ea0a7-2a9d-49ce-aae3-bedc22c41af1",
   "metadata": {},
   "outputs": [],
   "source": [
    "grouped.get_group('F')"
   ]
  },
  {
   "cell_type": "code",
   "execution_count": null,
   "id": "cb00ef17-1771-4c3d-91d2-556a6e082aeb",
   "metadata": {},
   "outputs": [],
   "source": [
    "# Step 2 and Step 3: \n",
    "grouped.count()"
   ]
  },
  {
   "cell_type": "markdown",
   "id": "67c26712-2a24-45f4-bc43-3eecf5a6a741",
   "metadata": {},
   "source": [
    "In the resulting dataframe, there is one column called full_name, and gender is simply used as the row index labels. The dataframe has two row labels, each corresponding to the criteria used to split the dataset.\n",
    "\n",
    "If you want the row index labels to also appear as a column, you can do the following:\n",
    "\n",
    "```\n",
    "congress_members[['gender', 'full_name']].groupby('gender', as_index=False)\n",
    "```"
   ]
  },
  {
   "cell_type": "code",
   "execution_count": null,
   "id": "ccb68bbe-d0fe-4dd8-92db-1e9abf8200a6",
   "metadata": {},
   "outputs": [],
   "source": [
    "grouped = congress_members[['gender', 'full_name']].groupby('gender', as_index=False)\n",
    "result = grouped.count()\n",
    "result"
   ]
  },
  {
   "cell_type": "markdown",
   "id": "e009a8c9-3e10-4cd7-8dd3-638c495ff203",
   "metadata": {},
   "source": [
    "If you look at the above dataframe, you'll see that the column names, like full_name, have been preserved during the splitting process. To give the full_name column a more meaningful name in the resulting dataframe, you can easily rename the column."
   ]
  },
  {
   "cell_type": "code",
   "execution_count": null,
   "id": "3b44f065-9476-449e-a100-abca7d544797",
   "metadata": {},
   "outputs": [],
   "source": [
    "result = result.rename(columns = {'full_name': 'Total Congress Members'})\n",
    "result"
   ]
  },
  {
   "cell_type": "markdown",
   "id": "bfdf393f-d402-44e2-ab66-cb9c0e726fd8",
   "metadata": {
    "deletable": false,
    "editable": false
   },
   "source": [
    "### Question 5\n",
    "\n",
    "Write a Python code to calculate the total number of congress members for each political party. Store the result in a variable named `your_ans`. The resulting dataframe, `your_ans`, will have two columns: `party`, which represents the parties (Democrat, Independent, and Republican), and `Total Congress Members`, which shows the count of members from each party."
   ]
  },
  {
   "cell_type": "code",
   "execution_count": null,
   "id": "f74fecae-fdbb-4479-bb36-06c4ea538edd",
   "metadata": {
    "tags": []
   },
   "outputs": [],
   "source": [
    "your_ans = ...\n",
    "your_ans"
   ]
  },
  {
   "cell_type": "code",
   "execution_count": null,
   "id": "af82e676",
   "metadata": {
    "deletable": false,
    "editable": false
   },
   "outputs": [],
   "source": [
    "grader.check(\"q5\")"
   ]
  },
  {
   "cell_type": "markdown",
   "id": "9b5ec33f-db17-462c-9d7c-1becb5242afe",
   "metadata": {
    "deletable": false,
    "editable": false
   },
   "source": [
    "### Question 6\n",
    "\n",
    "Write a python code to count the total number of congress members in the state of Texas from each party. Store your result, in the variable, `your_ans`. "
   ]
  },
  {
   "cell_type": "code",
   "execution_count": null,
   "id": "269cd1f0-76b8-46b2-b06c-e41e283ff922",
   "metadata": {
    "tags": []
   },
   "outputs": [],
   "source": [
    "your_ans = ...\n",
    "your_ans"
   ]
  },
  {
   "cell_type": "code",
   "execution_count": null,
   "id": "8239fb88",
   "metadata": {
    "deletable": false,
    "editable": false
   },
   "outputs": [],
   "source": [
    "grader.check(\"q6\")"
   ]
  },
  {
   "cell_type": "markdown",
   "id": "156e59f0-615d-4f66-8afb-6770e4f4af01",
   "metadata": {},
   "source": [
    "In the **Apply** step, we usually would do one of the following:\n",
    "\n",
    "**Aggregation**: compute a summary statistic (or statistics) for each group. For example:\n",
    "- Compute group sums or means.\n",
    "- Compute group sizes / counts.\n",
    "\n",
    "A complete list of in-built aggregation function can be found here: [Built-in aggregation methods](https://pandas.pydata.org/pandas-docs/stable/user_guide/groupby.html#built-in-aggregation-methods): \n",
    "\n",
    "**Transformation**:  perform some group-specific computations and return a like-indexed object. For example: \n",
    "- Standardize data (zscore) within a group\n",
    "\n",
    "**Filtering**: discard some groups, according to a group-wise computation that evaluates to True or False. For example: \n",
    "- Discard data that belong to groups with only a few members.\n",
    "- Filter out data based on the group sum or mean.\n",
    "\n"
   ]
  },
  {
   "cell_type": "markdown",
   "id": "d586eb18-c39c-40cd-9f85-e15f38ebc778",
   "metadata": {},
   "source": [
    "### Apply user-defined function on a groupby (using agg)\n",
    "\n",
    "You can apply your own aggregation function. However, you should keep in mind that your function should return one value for the group. For eg: suppose I want to write my own aggregation method to find the mean of each group. \n",
    "\n",
    "Given the dataframe `employees`. Find the average age (rounded upto two decimal points) of people from each gender. "
   ]
  },
  {
   "cell_type": "code",
   "execution_count": null,
   "id": "82793bcd-0837-41b9-bb4d-f0168317f6de",
   "metadata": {},
   "outputs": [],
   "source": [
    "employees = pd.DataFrame({'Name': ['Tyler', 'Kyla', 'Kevin', 'Cynthia', 'Bailey'],\n",
    "                  'Age': [45, 32, 18, 59, 22],\n",
    "                  'Sex': ['M', 'F', 'M', 'F', 'F'], \n",
    "                  'Salary': [100133, 59599, 86747, 98494, 103056]})\n",
    "employees"
   ]
  },
  {
   "cell_type": "code",
   "execution_count": null,
   "id": "f54a846f-4cbc-426e-84a9-debe6d0e2aa2",
   "metadata": {},
   "outputs": [],
   "source": [
    "# Solution 1: Using in-built function\n",
    "\n",
    "grouped = employees[['Age', 'Sex']].groupby('Sex', as_index=False)\n",
    "ans = grouped.mean()\n",
    "ans"
   ]
  },
  {
   "cell_type": "code",
   "execution_count": null,
   "id": "05b6aad6-1010-46b8-9dae-baa14c931d23",
   "metadata": {},
   "outputs": [],
   "source": [
    "# Solution 2: Using user-defined function\n",
    "\n",
    "def findAvg(group):\n",
    "    avg_age = np.mean(group)\n",
    "    return np.round(avg_age, 2)"
   ]
  },
  {
   "cell_type": "code",
   "execution_count": null,
   "id": "6b650bff-1a46-4bea-a300-1b04504e2f1d",
   "metadata": {},
   "outputs": [],
   "source": [
    "grouped = employees[['Age', 'Sex']].groupby('Sex', as_index=False)\n",
    "ans = grouped.agg(findAvg)\n",
    "ans"
   ]
  },
  {
   "cell_type": "markdown",
   "id": "4dffdbe9-6356-4daa-8ce4-1b58b70a2e6f",
   "metadata": {},
   "source": [
    "The method `findAvg` will take **each group** as input argument, and the body of the method is executed to each column of the group.\n",
    "For example: "
   ]
  },
  {
   "cell_type": "code",
   "execution_count": null,
   "id": "4d18bb47-8af2-444a-bcf4-796f3b5972ac",
   "metadata": {},
   "outputs": [],
   "source": [
    "grouped = employees[['Age', 'Sex', 'Salary']].groupby('Sex', as_index=False)\n",
    "ans = grouped.agg(findAvg)\n",
    "ans"
   ]
  },
  {
   "cell_type": "markdown",
   "id": "33537853-12cc-4f23-b202-eba7d54a3433",
   "metadata": {},
   "source": [
    "<img src=\"pics/agg.png\" width=800 />"
   ]
  },
  {
   "cell_type": "markdown",
   "id": "25d22fc8-1e35-4f83-addc-c2bc0988054c",
   "metadata": {},
   "source": [
    "### Transforming groups \n",
    "\n",
    "The [in-built transform methods](https://pandas.pydata.org/pandas-docs/stable/user_guide/groupby.html#built-in-transformation-methods) can be applied to transform the values in each group. The transformed group will have same index as the original group. \n",
    "\n",
    "For eg: \n",
    "\n",
    "Consider the `employees` dataframe, and let's transform the `Age` column for each gender with the cumulative sum within a group. "
   ]
  },
  {
   "cell_type": "code",
   "execution_count": null,
   "id": "22e7d5fc-b46f-42f0-9112-15869a4accd0",
   "metadata": {},
   "outputs": [],
   "source": [
    "employees"
   ]
  },
  {
   "cell_type": "code",
   "execution_count": null,
   "id": "f39e5a41-b958-46bd-a1f0-74817ce2fc0d",
   "metadata": {},
   "outputs": [],
   "source": [
    "grouped = employees[['Age', 'Sex']].groupby('Sex', as_index=False)\n",
    "grouped.cumsum()"
   ]
  },
  {
   "cell_type": "markdown",
   "id": "f9b5dc7c-32a7-4e4a-bb33-33290e7c92db",
   "metadata": {},
   "source": [
    "You can even apply user-defined function to transform the groups using `transform` method. For eg: Suppose we want to subtract the `Age` column within a group by the mean of that group. "
   ]
  },
  {
   "cell_type": "code",
   "execution_count": null,
   "id": "e398869d-15e5-4f95-9afe-9ff402354d57",
   "metadata": {},
   "outputs": [],
   "source": [
    "def my_transform(x):\n",
    "    return x - np.mean(x)"
   ]
  },
  {
   "cell_type": "code",
   "execution_count": null,
   "id": "e3198d33-7f64-4432-a9e3-c67dfc077ffb",
   "metadata": {},
   "outputs": [],
   "source": [
    "grouped = employees[['Age', 'Sex']].groupby('Sex', as_index=False)\n",
    "grouped.transform(my_transform)"
   ]
  },
  {
   "cell_type": "code",
   "execution_count": null,
   "id": "f7a2c709-f3d6-4191-9c9e-de2e1ea409d6",
   "metadata": {},
   "outputs": [],
   "source": [
    "grouped = employees[['Age', 'Sex', 'Salary']].groupby('Sex', as_index=False)\n",
    "grouped.transform(my_transform)"
   ]
  },
  {
   "cell_type": "markdown",
   "id": "6b359b49-54a3-42cf-b875-28799f1a1a0e",
   "metadata": {},
   "source": [
    "<img src=\"pics/trans.png\" width=800 />"
   ]
  },
  {
   "cell_type": "markdown",
   "id": "5eff5d4c-298d-4cff-a51a-0059457e855e",
   "metadata": {},
   "source": [
    "### Filtering groups\n",
    "\n",
    "The `filter` method takes a User-Defined Function (UDF) that, when applied to an entire group, returns either `True` or `False`. The result of the filter method is then the subset of groups for which the UDF returned `True`.\n",
    "\n",
    "\n",
    "For eg: Suppose we want to filter out the group for which the average age is less than 35 in the `employees` dataframe. Since the mean age of male is 31.50 and female is 37.67. It will filter out the rows of male. \n",
    "\n",
    "<img src=\"pics/filteringGroupby.jpg\" width=900/>"
   ]
  },
  {
   "cell_type": "code",
   "execution_count": null,
   "id": "955d2c59-a959-446e-aa79-fbfe00b607ff",
   "metadata": {},
   "outputs": [],
   "source": [
    "def filter_age(x):\n",
    "    return np.mean(x['Age']) > 35"
   ]
  },
  {
   "cell_type": "code",
   "execution_count": null,
   "id": "c9e91b85-4420-490c-9229-a67caf1e7c9a",
   "metadata": {},
   "outputs": [],
   "source": [
    "grouped = employees[['Age', 'Sex', 'Salary']].groupby('Sex', as_index=False)\n",
    "grouped.filter(filter_age)"
   ]
  }
 ],
 "metadata": {
  "kernelspec": {
   "display_name": "Python 3 (ipykernel)",
   "language": "python",
   "name": "python3"
  },
  "language_info": {
   "codemirror_mode": {
    "name": "ipython",
    "version": 3
   },
   "file_extension": ".py",
   "mimetype": "text/x-python",
   "name": "python",
   "nbconvert_exporter": "python",
   "pygments_lexer": "ipython3",
   "version": "3.12.6"
  },
  "otter": {
   "OK_FORMAT": true,
   "tests": {
    "q1(a)": {
     "name": "q1(a)",
     "points": null,
     "suites": [
      {
       "cases": [
        {
         "code": ">>> your_ans.item() == 765\nTrue",
         "hidden": false,
         "locked": false
        }
       ],
       "scored": true,
       "setup": "",
       "teardown": "",
       "type": "doctest"
      }
     ]
    },
    "q1(b)": {
     "name": "q1(b)",
     "points": null,
     "suites": [
      {
       "cases": [
        {
         "code": ">>> your_ans.item() == 765\nTrue",
         "hidden": false,
         "locked": false
        }
       ],
       "scored": true,
       "setup": "",
       "teardown": "",
       "type": "doctest"
      }
     ]
    },
    "q2(a)": {
     "name": "q2(a)",
     "points": null,
     "suites": [
      {
       "cases": [
        {
         "code": ">>> your_ans.item() == 968\nTrue",
         "hidden": false,
         "locked": false
        }
       ],
       "scored": true,
       "setup": "",
       "teardown": "",
       "type": "doctest"
      }
     ]
    },
    "q2(b)": {
     "name": "q2(b)",
     "points": null,
     "suites": [
      {
       "cases": [
        {
         "code": ">>> your_ans.item() == 968\nTrue",
         "hidden": false,
         "locked": false
        }
       ],
       "scored": true,
       "setup": "",
       "teardown": "",
       "type": "doctest"
      }
     ]
    },
    "q4": {
     "name": "q4",
     "points": null,
     "suites": [
      {
       "cases": [
        {
         "code": ">>> your_ans.item() == 141\nTrue",
         "hidden": false,
         "locked": false
        }
       ],
       "scored": true,
       "setup": "",
       "teardown": "",
       "type": "doctest"
      }
     ]
    },
    "q4(b)": {
     "name": "q4(b)",
     "points": null,
     "suites": [
      {
       "cases": [
        {
         "code": ">>> your_ans.item() == 141\nTrue",
         "hidden": false,
         "locked": false
        }
       ],
       "scored": true,
       "setup": "",
       "teardown": "",
       "type": "doctest"
      }
     ]
    },
    "q5": {
     "name": "q5",
     "points": null,
     "suites": [
      {
       "cases": [
        {
         "code": ">>> len(your_ans.columns) == 2\nTrue",
         "hidden": false,
         "locked": false
        },
        {
         "code": ">>> your_ans.loc[0, 'Total Congress Members'].item() == 261\nTrue",
         "hidden": false,
         "locked": false
        }
       ],
       "scored": true,
       "setup": "",
       "teardown": "",
       "type": "doctest"
      }
     ]
    },
    "q6": {
     "name": "q6",
     "points": null,
     "suites": [
      {
       "cases": [
        {
         "code": ">>> len(your_ans.columns) == 2\nTrue",
         "hidden": false,
         "locked": false
        },
        {
         "code": ">>> your_ans.query('party == \"Democrat\"').loc[0, 'Total Congress Members'].item() == 12\nTrue",
         "hidden": false,
         "locked": false
        }
       ],
       "scored": true,
       "setup": "",
       "teardown": "",
       "type": "doctest"
      }
     ]
    }
   }
  }
 },
 "nbformat": 4,
 "nbformat_minor": 5
}
