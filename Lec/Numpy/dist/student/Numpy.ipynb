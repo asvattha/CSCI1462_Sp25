{
 "cells": [
  {
   "cell_type": "code",
   "execution_count": null,
   "id": "4dbee3bc",
   "metadata": {
    "deletable": false,
    "editable": false
   },
   "outputs": [],
   "source": [
    "# Initialize Otter\n",
    "import otter\n",
    "grader = otter.Notebook(\"Numpy.ipynb\")"
   ]
  },
  {
   "cell_type": "markdown",
   "id": "07f809dd-f808-477a-86f5-e0129fd23925",
   "metadata": {},
   "source": [
    "# Numpy\n",
    "\n",
    "Similar to lists, NumPy arrays allow us to store data in a sequential and ordered fashion. Here are some key features of NumPy arrays:\n",
    "1. **Homogeneous Data Types**: In a NumPy array, all elements must be of the same data type. This uniformity allows NumPy to optimize performance and memory usage, whereas Python lists can contain elements of mixed types.\n",
    "\n",
    "2. **Fixed Size**: Once created, the size of a NumPy array is fixed. If you need to change the size, you typically create a new array. This fixed size helps in optimizing computations and memory management.\n",
    "\n",
    "3. **Shape and Dimensions**: Each element in a NumPy array has a well-defined shape, which is crucial for performing vectorized operations. For instance, in a 2D array (matrix), all rows have the same number of columns, ensuring consistent dimensionality.\n",
    "\n",
    "A major advantage of using NumPy arrays is their ability to execute computations more swiftly and efficiently with NumPy’s functions, as opposed to using lists. NumPy is highly valued in scientific computing and is extensively used in data analysis and machine learning. "
   ]
  },
  {
   "cell_type": "code",
   "execution_count": null,
   "id": "385dadd8-04b0-44a7-b609-74d18ae5da28",
   "metadata": {},
   "outputs": [],
   "source": [
    "import numpy as np"
   ]
  },
  {
   "cell_type": "markdown",
   "id": "ab3dc879-b1ec-4c8e-95d0-65e40aac2d14",
   "metadata": {},
   "source": [
    "## Create a numpy array"
   ]
  },
  {
   "cell_type": "markdown",
   "id": "4bf02cb8-505f-410b-9415-0fddee86bdfb",
   "metadata": {},
   "source": [
    "Numpy is used to work with arrays. The array in numpy is called **ndarray**. We can create a numpy array by using `array` method. "
   ]
  },
  {
   "cell_type": "code",
   "execution_count": null,
   "id": "e27c2435-026f-46bc-9664-6fba10dd441b",
   "metadata": {},
   "outputs": [],
   "source": [
    "my_arr = np.array([1, 3, 5, 10])\n",
    "my_arr"
   ]
  },
  {
   "cell_type": "code",
   "execution_count": null,
   "id": "f3f58375-7887-4015-856c-f77b585b3d89",
   "metadata": {},
   "outputs": [],
   "source": [
    "type(my_arr)"
   ]
  },
  {
   "cell_type": "markdown",
   "id": "c51a4277-ac38-4343-9f11-07aaac144c74",
   "metadata": {
    "deletable": false,
    "editable": false
   },
   "source": [
    "### Question 1\n",
    "Create a numpy array to store the values 5, 10, 15 in a variable `arr`. "
   ]
  },
  {
   "cell_type": "code",
   "execution_count": null,
   "id": "1a52f634-ad74-42b6-aa90-a0b61ae185e5",
   "metadata": {
    "tags": []
   },
   "outputs": [],
   "source": [
    "arr = ...\n",
    "arr"
   ]
  },
  {
   "cell_type": "code",
   "execution_count": null,
   "id": "c8558e49",
   "metadata": {
    "deletable": false,
    "editable": false
   },
   "outputs": [],
   "source": [
    "grader.check(\"q1\")"
   ]
  },
  {
   "cell_type": "markdown",
   "id": "161da5d3-91da-48e8-9c00-cd0d035e9953",
   "metadata": {
    "deletable": false,
    "editable": false
   },
   "source": [
    "### Question 2\n",
    "\n",
    "Create a numpy array to store the names of your favorite three fruits. Store your answer in a variable, `my_fruits`. "
   ]
  },
  {
   "cell_type": "code",
   "execution_count": null,
   "id": "a6cebc1a-bd66-4b45-abe4-e25350becb11",
   "metadata": {
    "tags": []
   },
   "outputs": [],
   "source": [
    "my_fruits = ...\n",
    "my_fruits"
   ]
  },
  {
   "cell_type": "code",
   "execution_count": null,
   "id": "31d7e267",
   "metadata": {
    "deletable": false,
    "editable": false
   },
   "outputs": [],
   "source": [
    "grader.check(\"q2\")"
   ]
  },
  {
   "cell_type": "markdown",
   "id": "257982aa-062c-4cf0-be5a-603ae5b03905",
   "metadata": {
    "deletable": false,
    "editable": false
   },
   "source": [
    "<!-- BEGIN QUESTION -->\n",
    "\n",
    "### Question 3 \n",
    "\n",
    "Previously, I noted that a NumPy array should only contain elements of the same data type. However, in the code example below, I created a NumPy array with both integer and string types. Why isn’t NumPy throwing an error in this case? Does the absence of an error imply that NumPy can handle elements of varying data types? What is happening under the hood?"
   ]
  },
  {
   "cell_type": "code",
   "execution_count": null,
   "id": "61e22401-b839-4a40-97ac-bb3ab2ab5ee7",
   "metadata": {
    "deletable": false,
    "editable": false
   },
   "outputs": [],
   "source": [
    "arr = np.array([10, \"hello\"])\n",
    "arr"
   ]
  },
  {
   "cell_type": "markdown",
   "id": "98b30956",
   "metadata": {},
   "source": [
    "_Type your answer here, replacing this text._"
   ]
  },
  {
   "cell_type": "markdown",
   "id": "b8156964-b6e8-4a97-a228-287e5ed5752f",
   "metadata": {
    "deletable": false,
    "editable": false
   },
   "source": [
    "<!-- END QUESTION -->\n",
    "\n",
    "### 0-D arrays (Scalars)\n",
    "\n",
    "One value stored in a numpy array are 0-D array or scalar. "
   ]
  },
  {
   "cell_type": "code",
   "execution_count": null,
   "id": "abf0447b-1aef-4dd9-8faa-09a0487d1316",
   "metadata": {},
   "outputs": [],
   "source": [
    "arr = np.array([56])\n",
    "arr"
   ]
  },
  {
   "cell_type": "markdown",
   "id": "555d4f21-b2ee-4a7d-bf41-1fd97b4d1f50",
   "metadata": {},
   "source": [
    "Numpy arrays have `shape` property that tells us the number of elements in each dimension. "
   ]
  },
  {
   "cell_type": "code",
   "execution_count": null,
   "id": "873c499e-911e-49c5-8b4e-233ae87dd563",
   "metadata": {},
   "outputs": [],
   "source": [
    "arr.shape"
   ]
  },
  {
   "cell_type": "markdown",
   "id": "c1a9f19e-f5f6-41c7-81d9-d22192ad8db8",
   "metadata": {},
   "source": [
    "### 1-D arrays \n",
    "\n",
    "An array that has 0-D arrays as its elements  is called 1-D array. "
   ]
  },
  {
   "cell_type": "code",
   "execution_count": null,
   "id": "ccf87522-9535-46d7-804a-36a8c1b27529",
   "metadata": {},
   "outputs": [],
   "source": [
    "arr = np.array([5, 6, 7, 8, 9])\n",
    "arr"
   ]
  },
  {
   "cell_type": "code",
   "execution_count": null,
   "id": "8df8918a-9d7a-45d4-8174-42149c5c0258",
   "metadata": {},
   "outputs": [],
   "source": [
    "arr.shape"
   ]
  },
  {
   "cell_type": "markdown",
   "id": "de6661ab-96cd-4937-9d3d-e9679c0347aa",
   "metadata": {},
   "source": [
    "### 2-D arrays\n",
    "\n",
    "An array that has 1-D arrays as its elements is called 2D array.\n",
    "\n",
    "\n",
    "For eg: \\begin{bmatrix}\n",
    "10 & 20 & 30 \\\\\n",
    "1 & 1 & 1 \\\\\n",
    "\\end{bmatrix}"
   ]
  },
  {
   "cell_type": "code",
   "execution_count": null,
   "id": "2e6a5306-3e29-447f-868a-20d5ed2d1e65",
   "metadata": {},
   "outputs": [],
   "source": [
    "mat = np.array([[10, 20, 30], [1, 1, 1]])\n",
    "mat"
   ]
  },
  {
   "cell_type": "code",
   "execution_count": null,
   "id": "03435dd1-e3be-4b15-911a-4dbafe3333c5",
   "metadata": {},
   "outputs": [],
   "source": [
    "mat.shape"
   ]
  },
  {
   "cell_type": "markdown",
   "id": "c78af2cb-b3da-43fb-a77a-1503347e5834",
   "metadata": {
    "deletable": false,
    "editable": false
   },
   "source": [
    "<!-- BEGIN QUESTION -->\n",
    "\n",
    "### Question 4\n",
    "\n",
    "What is the cause of error in the following code snippet? \n",
    "\n",
    "Hint: Check the `shape` of each element of the numpy array. "
   ]
  },
  {
   "cell_type": "raw",
   "id": "433bf66c-9277-4ac7-9f08-dd9a01f9f002",
   "metadata": {
    "deletable": false,
    "editable": false
   },
   "source": [
    "arr = np.array([[10, 20], [30]])"
   ]
  },
  {
   "cell_type": "markdown",
   "id": "25f064b9",
   "metadata": {},
   "source": [
    "_Type your answer here, replacing this text._"
   ]
  },
  {
   "cell_type": "markdown",
   "id": "7869c4a2-e91c-4de9-a9b9-fae0a2cf47b6",
   "metadata": {
    "deletable": false,
    "editable": false
   },
   "source": [
    "<!-- END QUESTION -->\n",
    "\n",
    "### Question 5\n",
    "\n",
    "Create a 2-dimensional array which looks like the following: \n",
    "\n",
    "\\begin{bmatrix}\n",
    "10 & 20 \\\\\n",
    "11 & 11 \\\\\n",
    "100 & 200 \\\\\n",
    "\\end{bmatrix}\n",
    "\n",
    "Store your answer in the variable, `your_ans`. What is the shape of the resultant array, `your_ans`? "
   ]
  },
  {
   "cell_type": "code",
   "execution_count": null,
   "id": "8e43ce22-3813-41dd-98cf-64faf9a02983",
   "metadata": {
    "tags": []
   },
   "outputs": [],
   "source": [
    "your_ans = ...\n",
    "your_ans"
   ]
  },
  {
   "cell_type": "code",
   "execution_count": null,
   "id": "47673c52",
   "metadata": {
    "deletable": false,
    "editable": false
   },
   "outputs": [],
   "source": [
    "grader.check(\"q5\")"
   ]
  },
  {
   "cell_type": "markdown",
   "id": "5adecdee-0326-4fef-820b-8725f225771d",
   "metadata": {
    "deletable": false,
    "editable": false
   },
   "source": [
    "### Question 6\n",
    "3-D arrays\n",
    "\n",
    "An array that has 2-D arrays (matrices) as its elements is called a 3-D array. \n",
    "\n",
    "Store the following 3D array in a variable, `arr3d`.  What is the shape of the resultant array? \n",
    "\n",
    "<img src=\"pics/numpyTensors.jpg\" style=\"width:300px\" />"
   ]
  },
  {
   "cell_type": "code",
   "execution_count": null,
   "id": "56d2ff98-9cb4-4446-a90c-37ecd521352b",
   "metadata": {
    "tags": []
   },
   "outputs": [],
   "source": [
    "arr3d = ...\n",
    "\n",
    "arr3d"
   ]
  },
  {
   "cell_type": "code",
   "execution_count": null,
   "id": "22b7343b-9680-422f-820b-adbbea360ac4",
   "metadata": {
    "tags": []
   },
   "outputs": [],
   "source": [
    "arr3d.shape"
   ]
  },
  {
   "cell_type": "code",
   "execution_count": null,
   "id": "e122ee22",
   "metadata": {
    "deletable": false,
    "editable": false
   },
   "outputs": [],
   "source": [
    "grader.check(\"q6\")"
   ]
  },
  {
   "cell_type": "markdown",
   "id": "79b8bbc3-47ea-480f-ae94-02f809ac5b9d",
   "metadata": {},
   "source": [
    "### Comparison operators in Python"
   ]
  },
  {
   "cell_type": "markdown",
   "id": "4f0f03c1-c0d0-41e0-b4ff-f25dfb59d5a6",
   "metadata": {},
   "source": [
    "We've already covered numerical operators like +, -, *, /, //, **, and % in our discussion on expressions. Now, let’s explore another category of operators known as comparison operators. These operators are used to compare two values and produce a Boolean result (either True or False).\n",
    "\n",
    "| Operator | Meaning | Example | Value | \n",
    "| -----   | ---- | ----- | ----- |\n",
    "| < | less than | 3 < 2 | True |\n",
    "| <= | less than or equal to | 2 <= 2 | True |\n",
    "| > | greater than | 3 > 20 | False |\n",
    "| >= | greater than or equal to | 3 >= 3 | True |\n",
    "| == | equal to | 50 == 50 | True |\n",
    "| != | not equal to | 4 != 4 | False |"
   ]
  },
  {
   "cell_type": "markdown",
   "id": "e698fc77-a86b-41eb-8a48-9532030a15ba",
   "metadata": {
    "deletable": false,
    "editable": false
   },
   "source": [
    "<!-- BEGIN QUESTION -->\n",
    "\n",
    "### Question 7\n",
    "\n",
    "What will be the result of the following expressions? Please determine this without executing any code."
   ]
  },
  {
   "cell_type": "raw",
   "id": "2027b0cf-4a18-4ea1-90a3-14706ea27c1b",
   "metadata": {
    "deletable": false,
    "editable": false
   },
   "source": [
    "expr = ((5 * 2) == (2 * 4 + 2))\n",
    "expr"
   ]
  },
  {
   "cell_type": "markdown",
   "id": "7872afbb",
   "metadata": {},
   "source": [
    "_Type your answer here, replacing this text._"
   ]
  },
  {
   "cell_type": "markdown",
   "id": "ed7f101f",
   "metadata": {
    "deletable": false,
    "editable": false
   },
   "source": [
    "<!-- END QUESTION -->\n",
    "\n"
   ]
  },
  {
   "cell_type": "code",
   "execution_count": null,
   "id": "4f931fda-8bf8-4532-9ec8-28f1612f626d",
   "metadata": {},
   "outputs": [],
   "source": [
    "10e298429 # a very large number is interpreted as infinity in python"
   ]
  },
  {
   "cell_type": "code",
   "execution_count": null,
   "id": "800db4d1-9195-48ad-96b2-26fc3dea044b",
   "metadata": {},
   "outputs": [],
   "source": [
    "10e-292393 # a very small number is interpreted as zero in python"
   ]
  },
  {
   "cell_type": "markdown",
   "id": "44291951-c050-4c80-86d9-691d4c210429",
   "metadata": {},
   "source": [
    "Python stores floating-point numbers without guaranteeing exact precision."
   ]
  },
  {
   "cell_type": "code",
   "execution_count": null,
   "id": "c792561c-d444-43fc-a534-02bd6b5811cf",
   "metadata": {},
   "outputs": [],
   "source": [
    "import math\n",
    "(math.sqrt(2) ** 2) == 2 # Do not compare between two floating numbers in python; always check if they are close enough"
   ]
  },
  {
   "cell_type": "code",
   "execution_count": null,
   "id": "0e0bac46-6326-44bc-a745-ef09c5678825",
   "metadata": {},
   "outputs": [],
   "source": [
    "np.isclose(math.sqrt(2) ** 2, 2 )"
   ]
  },
  {
   "cell_type": "markdown",
   "id": "e18b2236-50ec-4da8-aa78-30cdafb55676",
   "metadata": {},
   "source": [
    "### Boolean operators in Python\n",
    "\n",
    "Boolean expressions are those that evaluate to either True or False.\n",
    "\n",
    "Python offers boolean operators as well, specifically and and or. These operators work with boolean values. For example, the expression `p and q` utilizes a boolean operator where both p and q are boolean expressions. \n",
    "\n",
    "| p | q | p and q | \n",
    "| --- | --- | --- |\n",
    "| True | True | True | \n",
    "| True | False | False |\n",
    "| False | True | False | \n",
    "| False | False | False |\n",
    "\n",
    "\n",
    "| p | q | p or q | \n",
    "| --- | --- | --- |\n",
    "| True | True | True | \n",
    "| True | False | True |\n",
    "| False | True | True | \n",
    "| False | False | False |"
   ]
  },
  {
   "cell_type": "markdown",
   "id": "d9595b2d-3fce-4ee7-b34c-52d19757cc07",
   "metadata": {
    "deletable": false,
    "editable": false
   },
   "source": [
    "<!-- BEGIN QUESTION -->\n",
    "\n",
    "### Question 8\n",
    "\n",
    "What will be the result of the following expressions? Please determine this without executing any code."
   ]
  },
  {
   "cell_type": "raw",
   "id": "53a49886-cda3-40ad-9a63-90d9ea0f6f3b",
   "metadata": {
    "deletable": false,
    "editable": false
   },
   "source": [
    "expr = (4 < 5) and (5 == 5)"
   ]
  },
  {
   "cell_type": "markdown",
   "id": "d927284a",
   "metadata": {},
   "source": [
    "_Type your answer here, replacing this text._"
   ]
  },
  {
   "cell_type": "markdown",
   "id": "09285824-9954-4e6a-ab3e-430926175b2e",
   "metadata": {
    "deletable": false,
    "editable": false
   },
   "source": [
    "<!-- END QUESTION -->\n",
    "\n",
    "<!-- BEGIN QUESTION -->\n",
    "\n",
    "### Question 9\n",
    "\n",
    "What will be the result of the following expressions? Please determine this without executing any code."
   ]
  },
  {
   "cell_type": "raw",
   "id": "b9e4bb8a-c501-4552-9dee-f649a278dca6",
   "metadata": {
    "deletable": false,
    "editable": false
   },
   "source": [
    "expr = (5 < 3) or (9 != 9)"
   ]
  },
  {
   "cell_type": "markdown",
   "id": "208c347e",
   "metadata": {},
   "source": [
    "_Type your answer here, replacing this text._"
   ]
  },
  {
   "cell_type": "markdown",
   "id": "501f2d66-0a48-4c0d-b8ab-0257cf8ce5db",
   "metadata": {
    "deletable": false,
    "editable": false
   },
   "source": [
    "<!-- END QUESTION -->\n",
    "\n",
    "### Scalar computation on a numpy\n",
    "\n",
    "When a scalar value (just one number) is added to a numpy array, then that value is added to all the elements of the numpy array at the same time, and produce a new numpy aray as an output, as illustrated in the figure below: \n",
    "\n",
    "<img src=\"pics/broadcast1.jpg\" width=500px />"
   ]
  },
  {
   "cell_type": "code",
   "execution_count": null,
   "id": "10d1b896-54c6-4f0f-9345-1a2e23d8c2c4",
   "metadata": {},
   "outputs": [],
   "source": [
    "arr = np.array([1, 2, 3])\n",
    "arr * 2"
   ]
  },
  {
   "cell_type": "markdown",
   "id": "01d5afe1-3a5f-46ce-8e8c-e5f755d8bd38",
   "metadata": {
    "deletable": false,
    "editable": false
   },
   "source": [
    "<!-- BEGIN QUESTION -->\n",
    "\n",
    "### Question 10\n",
    "\n",
    "What is the output of the following python code?  Please determine this without executing any code."
   ]
  },
  {
   "cell_type": "raw",
   "id": "7fda73ea-e4fb-46e3-94a9-f5acf7339eb5",
   "metadata": {
    "deletable": false,
    "editable": false
   },
   "source": [
    "arr = np.array([1, 2, 3]) + 2\n",
    "arr"
   ]
  },
  {
   "cell_type": "markdown",
   "id": "ad06fb09",
   "metadata": {},
   "source": [
    "_Type your answer here, replacing this text._"
   ]
  },
  {
   "cell_type": "markdown",
   "id": "e413ea80-d775-41fd-b70e-ab90064c0e2a",
   "metadata": {
    "deletable": false,
    "editable": false
   },
   "source": [
    "<!-- END QUESTION -->\n",
    "\n",
    "<!-- BEGIN QUESTION -->\n",
    "\n",
    "### Question 11\n",
    "\n",
    "What is the output of the following python code?  Please determine this without executing any code."
   ]
  },
  {
   "cell_type": "raw",
   "id": "3c2fffdb-1abf-40f6-be53-08c6a99cb904",
   "metadata": {
    "deletable": false,
    "editable": false
   },
   "source": [
    "arr = np.array([10, 20, 30]) / 10\n",
    "arr"
   ]
  },
  {
   "cell_type": "markdown",
   "id": "4871b50e",
   "metadata": {},
   "source": [
    "_Type your answer here, replacing this text._"
   ]
  },
  {
   "cell_type": "markdown",
   "id": "11b51181-939e-4947-bc66-1a26e774ee32",
   "metadata": {
    "deletable": false,
    "editable": false
   },
   "source": [
    "<!-- END QUESTION -->\n",
    "\n",
    "<!-- BEGIN QUESTION -->\n",
    "\n",
    "### Question 12\n",
    "\n",
    "What is the output of the following python code?  Please determine this without executing any code."
   ]
  },
  {
   "cell_type": "raw",
   "id": "cee1546a-c47c-451f-8da8-2d2963d4accb",
   "metadata": {
    "deletable": false,
    "editable": false
   },
   "source": [
    "arr = np.array([1, 2, 3]) < 3\n",
    "arr"
   ]
  },
  {
   "cell_type": "markdown",
   "id": "6286f643",
   "metadata": {},
   "source": [
    "_Type your answer here, replacing this text._"
   ]
  },
  {
   "cell_type": "markdown",
   "id": "4223d053-d2a0-4486-9f2f-d2343807ce44",
   "metadata": {
    "deletable": false,
    "editable": false
   },
   "source": [
    "<!-- END QUESTION -->\n",
    "\n",
    "<!-- BEGIN QUESTION -->\n",
    "\n",
    "### Question 13\n",
    "\n",
    "What is the output of the following python code?  Please determine this without executing any code."
   ]
  },
  {
   "cell_type": "raw",
   "id": "fba7f55d-be56-44c3-8602-5d50608edabc",
   "metadata": {
    "deletable": false,
    "editable": false
   },
   "source": [
    "arr = np.array([1, 2, 3]) == 3\n",
    "arr"
   ]
  },
  {
   "cell_type": "markdown",
   "id": "bb5a3475",
   "metadata": {},
   "source": [
    "_Type your answer here, replacing this text._"
   ]
  },
  {
   "cell_type": "markdown",
   "id": "e7657775-3269-4433-b07f-faa6c2088f76",
   "metadata": {
    "deletable": false,
    "editable": false
   },
   "source": [
    "<!-- END QUESTION -->\n",
    "\n",
    "### Question 14\n",
    "\n",
    "Given the temperatures of five cities in Celsius—14, 53, 19, and 25—write a Python program to convert these temperatures to Fahrenheit. The formula for converting Celsius to Fahrenheit is:\n",
    "\n",
    "$temp\\_in\\_fahr = \\frac{9 * temp\\_in\\_celcius}{5} + 32$\n",
    "\n",
    "Store your answer in a variable, `temps_in_fahr`. \n",
    "\n",
    "Hint: \n",
    "1. Create a numpy array, which stores the temperatures in celcius\n",
    "2. Then use the scalar computation trick to compute the temperatures in fahrenheit all at once"
   ]
  },
  {
   "cell_type": "code",
   "execution_count": null,
   "id": "d1b8d969-1b59-44d9-9801-42a1f90e98c1",
   "metadata": {
    "tags": []
   },
   "outputs": [],
   "source": [
    "temps_in_cel = ...\n",
    "temps_in_fahr = ...\n",
    "temps_in_fahr "
   ]
  },
  {
   "cell_type": "code",
   "execution_count": null,
   "id": "ae9bf849",
   "metadata": {
    "deletable": false,
    "editable": false
   },
   "outputs": [],
   "source": [
    "grader.check(\"q14\")"
   ]
  },
  {
   "cell_type": "markdown",
   "id": "7928ea04-c1f7-423a-a48f-dfe466c1d8cc",
   "metadata": {},
   "source": [
    "### Computation between two numpy arrays\n",
    "\n",
    "Sometimes, we need to perform computations on two arrays, such as adding or multiplying them. These operations are known as elementwise addition or multiplication, where each element in one array is combined with the corresponding element in the other array. To perform these operations, the two arrays must have the same shape.\n",
    "\n",
    "For example, consider the table below showing the number of students graduating from various colleges at a university:\n",
    "\n",
    "| College name | Number of students graduating in 2019 | Number of students graduating in 2022 |\n",
    "| --- | :----: | :---: |\n",
    "| College of Science and Mathematics | 457 | 532 |\n",
    "| College of Arts | 385 | 433 | \n",
    "| College of Business | 573 | 501 |\n",
    "| College of Education | 382 | 293 |\n",
    "\n",
    "\n",
    "Create a Python code to determine the difference in the number of students graduating from each college in 2019 compared to 2022."
   ]
  },
  {
   "cell_type": "code",
   "execution_count": null,
   "id": "5f44ee0b-e636-4eae-a42e-199279b55450",
   "metadata": {},
   "outputs": [],
   "source": [
    "studs_in_2019 = np.array([457, 385, 573, 382])\n",
    "studs_in_2022 = np.array([532, 433, 501, 292])\n",
    "\n",
    "diff = studs_in_2022 - studs_in_2019\n",
    "diff "
   ]
  },
  {
   "cell_type": "markdown",
   "id": "7f1eda05-d662-4d44-bfca-44c39cb0730b",
   "metadata": {},
   "source": [
    "Keep in mind that for two NumPy arrays to be subtracted from one another, they must have the same shape. In this example, both `studs_in_2019` and `studs_in_2022` have a shape of (4,)."
   ]
  },
  {
   "cell_type": "markdown",
   "id": "dbda5ced-2aba-4f51-ac54-9d1574bd5e77",
   "metadata": {
    "deletable": false,
    "editable": false
   },
   "source": [
    "### Question 15\n",
    "\n",
    "Suppose you are given two matrices A and B, where  $A = \\begin{bmatrix}\n",
    "1 & 2 \\\\\n",
    "1 & 1 \\\\\n",
    "10 & 20 \\\\\n",
    "\\end{bmatrix}$ and $B = \\begin{bmatrix}\n",
    "1 & 1 \\\\\n",
    "2 & 2 \\\\\n",
    "3 & 3 \\\\\n",
    "\\end{bmatrix}$ . Write a python code to add these two matrices together and store your answer in a variable, `C`. "
   ]
  },
  {
   "cell_type": "code",
   "execution_count": null,
   "id": "7013d050-c271-42e4-992b-177415b650cd",
   "metadata": {
    "tags": []
   },
   "outputs": [],
   "source": [
    "A = ...\n",
    "B = ...\n",
    "C = ...\n",
    "C"
   ]
  },
  {
   "cell_type": "code",
   "execution_count": null,
   "id": "ac66152c",
   "metadata": {
    "deletable": false,
    "editable": false
   },
   "outputs": [],
   "source": [
    "grader.check(\"q15\")"
   ]
  },
  {
   "cell_type": "markdown",
   "id": "4f9b12e5-4b12-41a6-bdbb-d4a7c704a141",
   "metadata": {},
   "source": [
    "### Numpy methods \n",
    "\n",
    "#### Range (np.arange)\n",
    "\n",
    "A range is an array of numbers arranged in either increasing or decreasing order, with each number separated by a consistent interval. Ranges are quite useful in various situations, making it important to understand them. You can create ranges using the `np.arange` method, which can accept one, two, or three arguments: the start, end, and step size.\n",
    "\n",
    "If you provide one argument to `np.arange`, it is treated as the end value, with the start set to 0 and the step to 1 by default. When you provide two arguments, they specify the start and end values, with a default step of 1. Supplying three arguments explicitly sets the start, end, and step values."
   ]
  },
  {
   "cell_type": "code",
   "execution_count": null,
   "id": "95d47a68-a4df-43fe-86a3-8553e4ba62f9",
   "metadata": {},
   "outputs": [],
   "source": [
    "np.arange(10) # here start = 0 and step = 1 are set by default"
   ]
  },
  {
   "cell_type": "code",
   "execution_count": null,
   "id": "2e5ca2d7-28d4-49f2-b6b7-b15d5f2951c6",
   "metadata": {},
   "outputs": [],
   "source": [
    "np.arange(3, 9) # here start = 3, end = 8, step = 1 by default"
   ]
  },
  {
   "cell_type": "code",
   "execution_count": null,
   "id": "2db1119b-f231-4942-88d1-639c6eaddcc6",
   "metadata": {},
   "outputs": [],
   "source": [
    "np.arange(3, 30, 5) # start = 3, end = 29, step = 5 "
   ]
  },
  {
   "cell_type": "markdown",
   "id": "ef37add0-febb-4f65-bbbf-281bf33e9d82",
   "metadata": {},
   "source": [
    "The start, end, and step values can all be positive or negative and can be whole numbers or fractions. For example:"
   ]
  },
  {
   "cell_type": "code",
   "execution_count": null,
   "id": "c885c38e-b4b3-49ab-8074-21f8cea9070b",
   "metadata": {},
   "outputs": [],
   "source": [
    "np.arange(1.5, -2, -0.5) # start = 1.5, end = -1.99999.... , step = -0.5"
   ]
  },
  {
   "cell_type": "markdown",
   "id": "4feb99b3-18ce-4f05-bd20-09c072faa3a0",
   "metadata": {},
   "source": [
    "### Accessing elements of a numpy array\n",
    "\n",
    "Like python lists and strings, numpy array also maintain index for each element. The element of a numpy array can be accessed using these indices. For example: "
   ]
  },
  {
   "cell_type": "code",
   "execution_count": null,
   "id": "0a30b249-a237-4a59-bc55-aa43539827f2",
   "metadata": {},
   "outputs": [],
   "source": [
    "arr = np.arange(10)\n",
    "arr"
   ]
  },
  {
   "cell_type": "code",
   "execution_count": null,
   "id": "e4e79b67-b221-4eb2-a25d-461b4c50e66f",
   "metadata": {},
   "outputs": [],
   "source": [
    "arr[0] # returns the first element of the numpy array"
   ]
  },
  {
   "cell_type": "code",
   "execution_count": null,
   "id": "73203b90-8a09-4d19-bc01-544dd0cf7bd4",
   "metadata": {},
   "outputs": [],
   "source": [
    "arr[4] # returns the fifth element of the numpy array"
   ]
  },
  {
   "cell_type": "markdown",
   "id": "bb0123b7-e49c-4859-8a79-79b1cc9668f6",
   "metadata": {},
   "source": [
    "You can also do slicing on a numpy array"
   ]
  },
  {
   "cell_type": "code",
   "execution_count": null,
   "id": "eb4c1475-5e7a-4a10-84fd-14d286e97644",
   "metadata": {},
   "outputs": [],
   "source": [
    "arr[4: 9]"
   ]
  },
  {
   "cell_type": "code",
   "execution_count": null,
   "id": "be5a124e-cea5-4a27-b628-1c199e1be5e2",
   "metadata": {},
   "outputs": [],
   "source": [
    "arr[:5]"
   ]
  },
  {
   "cell_type": "code",
   "execution_count": null,
   "id": "fe75f371-5ac6-426e-8ba3-2fd92a47db4e",
   "metadata": {},
   "outputs": [],
   "source": [
    "arr[1: : 2]"
   ]
  },
  {
   "cell_type": "markdown",
   "id": "32df5ea0-c0d2-4488-bafd-9c48480241b7",
   "metadata": {
    "deletable": false,
    "editable": false
   },
   "source": [
    "### Question 16\n",
    "\n",
    "You are given the following matrix, $A = \\begin{bmatrix}\n",
    "1 & 2 & 3 & 4 \\\\\n",
    "10 & 20 & 30 & 40 \\\\\n",
    "100 & 200 & 300 & 400 \\\\\n",
    "-10 & -20 & -30 & -40 \\\\\n",
    "-1 & -2 & -3 & -4 \\\\\n",
    "\\end{bmatrix}$\n",
    "\n",
    "\n",
    "Your task is to write a python code to only access the elements of 3rd row (100, 200, 300, 400) from the matrix A. Your answer should be of shape (4, )"
   ]
  },
  {
   "cell_type": "code",
   "execution_count": null,
   "id": "bfe78c3e-e1d4-4479-a415-56df732528c0",
   "metadata": {
    "tags": []
   },
   "outputs": [],
   "source": [
    "A = np.array([\n",
    "             [1, 2, 3, 4],\n",
    "             [10, 20, 30, 40],\n",
    "             [100, 200, 300, 400],\n",
    "             [-10, -20, -30, -40],\n",
    "             [-1, -2, -3, -4]\n",
    "            ])\n",
    "\n",
    "A"
   ]
  },
  {
   "cell_type": "code",
   "execution_count": null,
   "id": "a7b6a119-88c2-4d7e-ad85-43ecccafb057",
   "metadata": {
    "tags": []
   },
   "outputs": [],
   "source": [
    "A.shape"
   ]
  },
  {
   "cell_type": "code",
   "execution_count": null,
   "id": "40cab323-a384-45fd-afbe-f42a5819f9e0",
   "metadata": {
    "tags": []
   },
   "outputs": [],
   "source": [
    "your_ans = ...\n",
    "your_ans"
   ]
  },
  {
   "cell_type": "code",
   "execution_count": null,
   "id": "218f5652",
   "metadata": {
    "deletable": false,
    "editable": false
   },
   "outputs": [],
   "source": [
    "grader.check(\"q16\")"
   ]
  },
  {
   "cell_type": "markdown",
   "id": "92d6faaa-14bd-44f8-90f4-9c97df33746e",
   "metadata": {
    "deletable": false,
    "editable": false
   },
   "source": [
    "### Question 17\n",
    "\n",
    "Given the array A (see Q. 16), write a python code to access first two rows of the matrix. Your answer should be $\\begin{bmatrix}\n",
    "1 & 2 & 3 & 4 \\\\\n",
    "10 & 20 & 30 & 40 \\\\\n",
    "\\end{bmatrix}$ \n",
    "of shape (2, 4)"
   ]
  },
  {
   "cell_type": "code",
   "execution_count": null,
   "id": "eba1618f-a1b4-482a-bada-200751d72184",
   "metadata": {
    "tags": []
   },
   "outputs": [],
   "source": [
    "your_ans = ...\n",
    "your_ans"
   ]
  },
  {
   "cell_type": "code",
   "execution_count": null,
   "id": "cabdc834-875b-4611-9907-29c07eae07a1",
   "metadata": {
    "tags": []
   },
   "outputs": [],
   "source": [
    "your_ans.shape"
   ]
  },
  {
   "cell_type": "code",
   "execution_count": null,
   "id": "677c1757",
   "metadata": {
    "deletable": false,
    "editable": false
   },
   "outputs": [],
   "source": [
    "grader.check(\"q17\")"
   ]
  },
  {
   "cell_type": "markdown",
   "id": "29747893-3e48-41e4-a4d8-a11764b86ba4",
   "metadata": {
    "deletable": false,
    "editable": false
   },
   "source": [
    "### Question 18\n",
    "\n",
    "Given the array A (see Q. 16), write a python code to access the last two rows of the matrix. Your answer should be $\\begin{bmatrix}\n",
    "-10 & -20 & -30 & -40 \\\\\n",
    "-1 & -2 & -3 & -4 \\\\\n",
    "\\end{bmatrix}$ \n",
    "of shape (2, 4)"
   ]
  },
  {
   "cell_type": "code",
   "execution_count": null,
   "id": "cfebacf8-2fca-45d2-ac5c-da6f347abcd2",
   "metadata": {
    "tags": []
   },
   "outputs": [],
   "source": [
    "your_ans = ...\n",
    "your_ans"
   ]
  },
  {
   "cell_type": "code",
   "execution_count": null,
   "id": "04bb2bc4-5ec8-4ba1-81e5-784a7478562d",
   "metadata": {
    "deletable": false,
    "editable": false
   },
   "outputs": [],
   "source": [
    "your_ans.shape"
   ]
  },
  {
   "cell_type": "code",
   "execution_count": null,
   "id": "916d4180",
   "metadata": {
    "deletable": false,
    "editable": false
   },
   "outputs": [],
   "source": [
    "grader.check(\"q18\")"
   ]
  },
  {
   "cell_type": "markdown",
   "id": "172fa2ae-a3e5-499e-85e8-737c2d87b22a",
   "metadata": {
    "deletable": false,
    "editable": false
   },
   "source": [
    "### Question 19\n",
    "\n",
    "Given the array A (see Q. 16), write a python code to access the first two columns of the matrix. Your answer should be $\\begin{bmatrix}\n",
    "1 & 2  \\\\\n",
    "10 & 20  \\\\\n",
    "100 & 200  \\\\\n",
    "-10 & -20  \\\\\n",
    "-1 & -2  \\\\\n",
    "\\end{bmatrix}$\n",
    "of shape (5, 2)"
   ]
  },
  {
   "cell_type": "code",
   "execution_count": null,
   "id": "788f46e1-974e-46f4-bb5d-5f9b572b5adf",
   "metadata": {
    "tags": []
   },
   "outputs": [],
   "source": [
    "your_ans = ...\n",
    "your_ans"
   ]
  },
  {
   "cell_type": "code",
   "execution_count": null,
   "id": "75df5499-7ad7-4166-a770-5f8dbc5719b9",
   "metadata": {
    "tags": []
   },
   "outputs": [],
   "source": [
    "your_ans.shape"
   ]
  },
  {
   "cell_type": "code",
   "execution_count": null,
   "id": "e216b398",
   "metadata": {
    "deletable": false,
    "editable": false
   },
   "outputs": [],
   "source": [
    "grader.check(\"q19\")"
   ]
  },
  {
   "cell_type": "markdown",
   "id": "18c1c1a9-8657-4972-b167-d3482a298fdf",
   "metadata": {
    "deletable": false,
    "editable": false
   },
   "source": [
    "### Question 20\n",
    "\n",
    "Given the array A (see Q. 16), write a python code to access the last two columns of the matrix. Your answer should be \n",
    "$\\begin{bmatrix}\n",
    "3 & 4 \\\\\n",
    "30 & 40 \\\\\n",
    "300 & 400 \\\\\n",
    "-30 & -40 \\\\\n",
    "-3 & -4 \\\\\n",
    "\\end{bmatrix}$\n",
    "of shape (5, 2)"
   ]
  },
  {
   "cell_type": "code",
   "execution_count": null,
   "id": "328aa6cd-0e60-487c-81ef-90bd9ca77d33",
   "metadata": {
    "tags": []
   },
   "outputs": [],
   "source": [
    "your_ans = ...\n",
    "your_ans"
   ]
  },
  {
   "cell_type": "code",
   "execution_count": null,
   "id": "7eac8905-9ed4-4ba4-b3de-c1dc45f7070d",
   "metadata": {
    "tags": []
   },
   "outputs": [],
   "source": [
    "your_ans.shape"
   ]
  },
  {
   "cell_type": "code",
   "execution_count": null,
   "id": "44e2799a",
   "metadata": {
    "deletable": false,
    "editable": false
   },
   "outputs": [],
   "source": [
    "grader.check(\"q20\")"
   ]
  },
  {
   "cell_type": "markdown",
   "id": "4b5455ad-5446-43bc-9dee-3d9b48299d30",
   "metadata": {
    "deletable": false,
    "editable": false
   },
   "source": [
    "### Question 21\n",
    "\n",
    "Given the array A (see Q. 16), write a python code to access the first and the last rows of the matrix. Your answer should be \n",
    "$\\begin{bmatrix}\n",
    "1 & 2 & 3 & 4 \\\\\n",
    "-1 & -2 & -3 & -4 \\\\\n",
    "\\end{bmatrix}$\n",
    "of shape (2, 4)"
   ]
  },
  {
   "cell_type": "code",
   "execution_count": null,
   "id": "433ab1c1-c862-4011-b7ad-45dc4e4822ea",
   "metadata": {
    "tags": []
   },
   "outputs": [],
   "source": [
    "your_ans = ...\n",
    "your_ans"
   ]
  },
  {
   "cell_type": "code",
   "execution_count": null,
   "id": "7fb8bb11-c893-4b4a-9205-65aec42c5dee",
   "metadata": {
    "tags": []
   },
   "outputs": [],
   "source": [
    "your_ans.shape"
   ]
  },
  {
   "cell_type": "code",
   "execution_count": null,
   "id": "fd5e6056",
   "metadata": {
    "deletable": false,
    "editable": false
   },
   "outputs": [],
   "source": [
    "grader.check(\"q21\")"
   ]
  },
  {
   "cell_type": "markdown",
   "id": "67e8e39e-26f1-4312-9f84-99fb84cd6cfa",
   "metadata": {
    "deletable": false,
    "editable": false
   },
   "source": [
    "### Question 22\n",
    "\n",
    "Given the array A (see Q. 16), write a python code to access the first and the last columns of the matrix. Your answer should be \n",
    "$ \\begin{bmatrix}\n",
    "1  & 4 \\\\\n",
    "10   & 40 \\\\\n",
    "100  & 400 \\\\\n",
    "-10 & -40 \\\\\n",
    "-1  & -4 \\\\\n",
    "\\end{bmatrix}$\n",
    "of shape (5, 2)"
   ]
  },
  {
   "cell_type": "code",
   "execution_count": null,
   "id": "3680f935-36ba-4a43-b088-8e88b5e2f027",
   "metadata": {
    "tags": []
   },
   "outputs": [],
   "source": [
    "your_ans = ...\n",
    "your_ans"
   ]
  },
  {
   "cell_type": "code",
   "execution_count": null,
   "id": "7583bf5b-43a2-4014-9061-736dee817f8d",
   "metadata": {
    "tags": []
   },
   "outputs": [],
   "source": [
    "your_ans.shape"
   ]
  },
  {
   "cell_type": "code",
   "execution_count": null,
   "id": "254a6130",
   "metadata": {
    "deletable": false,
    "editable": false
   },
   "outputs": [],
   "source": [
    "grader.check(\"q22\")"
   ]
  },
  {
   "cell_type": "markdown",
   "id": "4296afb5-050b-4f28-bd5e-946d13a733c3",
   "metadata": {
    "deletable": false,
    "editable": false
   },
   "source": [
    "### Question 23\n",
    "\n",
    "Given the array A (see Q. 16), write a python code to access every second row of the matrix starting from first row i.e, first row, third row, fifth row and so on. Your answer should be \n",
    "$\\begin{bmatrix}\n",
    "1 & 2 & 3 & 4 \\\\\n",
    "100 & 200 & 300 & 400 \\\\\n",
    "-1 & -2 & -3 & -4 \\\\\n",
    "\\end{bmatrix}$\n",
    "of shape (3, 5)"
   ]
  },
  {
   "cell_type": "code",
   "execution_count": null,
   "id": "744fbee0-7fcf-410c-9884-a67c9ce2b6d8",
   "metadata": {
    "tags": []
   },
   "outputs": [],
   "source": [
    "your_ans = ...\n",
    "your_ans"
   ]
  },
  {
   "cell_type": "code",
   "execution_count": null,
   "id": "d83b3fc0-e84d-42f4-9786-8b9c2a86ec18",
   "metadata": {
    "tags": []
   },
   "outputs": [],
   "source": [
    "your_ans.shape"
   ]
  },
  {
   "cell_type": "code",
   "execution_count": null,
   "id": "aa649fd2",
   "metadata": {
    "deletable": false,
    "editable": false
   },
   "outputs": [],
   "source": [
    "grader.check(\"q23\")"
   ]
  },
  {
   "cell_type": "markdown",
   "id": "2298316a-67b5-4c0d-962b-e7616a8b8bad",
   "metadata": {
    "deletable": false,
    "editable": false
   },
   "source": [
    "### Question 24\n",
    "\n",
    "Given the array A (see Q. 16), write a python code to access the element 200. "
   ]
  },
  {
   "cell_type": "code",
   "execution_count": null,
   "id": "d658799a-67b2-4df7-aa64-8a9925b6128d",
   "metadata": {
    "tags": []
   },
   "outputs": [],
   "source": [
    "your_ans = ...\n",
    "your_ans"
   ]
  },
  {
   "cell_type": "code",
   "execution_count": null,
   "id": "8748cb90",
   "metadata": {
    "deletable": false,
    "editable": false
   },
   "outputs": [],
   "source": [
    "grader.check(\"q24\")"
   ]
  },
  {
   "cell_type": "markdown",
   "id": "d9759cfd-549a-4060-806b-626e5a1d9eef",
   "metadata": {
    "deletable": false,
    "editable": false
   },
   "source": [
    "### Question 25\n",
    "\n",
    "Given the array A (see Q. 16), write a python code to access the element -4. "
   ]
  },
  {
   "cell_type": "code",
   "execution_count": null,
   "id": "5de99a8e-7666-4340-a69c-a78f4831b08b",
   "metadata": {
    "tags": []
   },
   "outputs": [],
   "source": [
    "your_ans = ...\n",
    "your_ans"
   ]
  },
  {
   "cell_type": "code",
   "execution_count": null,
   "id": "4947e07b",
   "metadata": {
    "deletable": false,
    "editable": false
   },
   "outputs": [],
   "source": [
    "grader.check(\"q25\")"
   ]
  },
  {
   "cell_type": "markdown",
   "id": "6f0b46c0-eda4-4ef4-bea4-9e9371937df5",
   "metadata": {
    "deletable": false,
    "editable": false
   },
   "source": [
    "### Question 26\n",
    "\n",
    "Given the square matrix $A = \\begin{bmatrix}\n",
    "1 & 2 & 3 \\\\\n",
    "40 & 50 & 60  \\\\\n",
    "-7 & -8 & -9  \\\\\n",
    "\\end{bmatrix}$. Write a python code to extract the diagonal elements of the matrix. Your answer should be a numpy array. "
   ]
  },
  {
   "cell_type": "code",
   "execution_count": null,
   "id": "94ad5938-ad87-409a-afcc-6975be9c67a6",
   "metadata": {
    "tags": []
   },
   "outputs": [],
   "source": [
    "A = ...\n",
    "your_ans = ...\n",
    "your_ans"
   ]
  },
  {
   "cell_type": "code",
   "execution_count": null,
   "id": "92f7b10c",
   "metadata": {
    "deletable": false,
    "editable": false
   },
   "outputs": [],
   "source": [
    "grader.check(\"q26\")"
   ]
  },
  {
   "cell_type": "markdown",
   "id": "770786f1-f597-493c-8404-ccd9cc65802b",
   "metadata": {},
   "source": [
    "### Numpy methods\n",
    "\n",
    "Numpy module provides us many methods that can be applied on numpy array. \n",
    "\n",
    "Each of the functions shown below takes an array as an argument and returns a single value. "
   ]
  },
  {
   "cell_type": "code",
   "execution_count": null,
   "id": "a02a5508-0909-453b-948a-261bde52e163",
   "metadata": {},
   "outputs": [],
   "source": [
    "arr = np.array([1, 2, 3])\n",
    "arr"
   ]
  },
  {
   "cell_type": "code",
   "execution_count": null,
   "id": "20d504e1-7851-459e-b4a2-d9abb3372931",
   "metadata": {},
   "outputs": [],
   "source": [
    "np.sum(arr) # add all elements of an array"
   ]
  },
  {
   "cell_type": "code",
   "execution_count": null,
   "id": "0a7076ae-be5a-45db-8b0f-eceaff756de7",
   "metadata": {},
   "outputs": [],
   "source": [
    "np.mean(arr) # returns the mean of all the elements of the array"
   ]
  },
  {
   "cell_type": "code",
   "execution_count": null,
   "id": "e5c721cd-30a1-442d-8a7f-97233813b16d",
   "metadata": {},
   "outputs": [],
   "source": [
    "np.prod(arr) # returns the product of all the elements of the array"
   ]
  },
  {
   "cell_type": "code",
   "execution_count": null,
   "id": "a153a0ac-6f46-4e17-b105-e7177a4a1765",
   "metadata": {},
   "outputs": [],
   "source": [
    "arr = np.array([0, 5, 3, 0])\n",
    "np.all(arr) # returns True if all elements are True or non-zero values"
   ]
  },
  {
   "cell_type": "code",
   "execution_count": null,
   "id": "9def429b-c6ac-40bf-acfd-7526ce399144",
   "metadata": {},
   "outputs": [],
   "source": [
    "barr = np.array([True, True, True])\n",
    "np.all(barr)"
   ]
  },
  {
   "cell_type": "code",
   "execution_count": null,
   "id": "1f032f31-c5a2-4d38-b9f7-a693dad4d9f8",
   "metadata": {},
   "outputs": [],
   "source": [
    "barr = np.array([True, True, True, False])\n",
    "np.all(barr)"
   ]
  },
  {
   "cell_type": "code",
   "execution_count": null,
   "id": "f4e82d6f-40e6-429e-929e-08337759689b",
   "metadata": {},
   "outputs": [],
   "source": [
    "arr = np.array([0, 5, 3, 0])\n",
    "np.any(arr) # returns True if any of the elements are True or non-zero value "
   ]
  },
  {
   "cell_type": "code",
   "execution_count": null,
   "id": "2ccfb37e-a373-4540-b62b-61a62b1a44d9",
   "metadata": {},
   "outputs": [],
   "source": [
    "barr = np.array([False, False, False])\n",
    "np.any(barr)"
   ]
  },
  {
   "cell_type": "code",
   "execution_count": null,
   "id": "74b3f852-69fb-44fb-8136-a9462234312a",
   "metadata": {},
   "outputs": [],
   "source": [
    "barr = np.array([False, False, False, True])\n",
    "np.any(barr)"
   ]
  },
  {
   "cell_type": "code",
   "execution_count": null,
   "id": "85b970de-d891-420b-beeb-4660696de853",
   "metadata": {},
   "outputs": [],
   "source": [
    "arr = np.array([0, 5, 3, 0, 8])\n",
    "np.count_nonzero(arr) # counts the number of True or non-zero elements in the array"
   ]
  },
  {
   "cell_type": "markdown",
   "id": "153a8ff6-e673-4db4-a496-00b16953fd13",
   "metadata": {},
   "source": [
    "Each of the following functions takes an array as an argument and returns a numpy array"
   ]
  },
  {
   "cell_type": "code",
   "execution_count": null,
   "id": "ba7c741f-ea88-43ad-9326-025a77094c91",
   "metadata": {},
   "outputs": [],
   "source": [
    "arr = 3 ** np.arange(5)\n",
    "arr"
   ]
  },
  {
   "cell_type": "code",
   "execution_count": null,
   "id": "144ec66c-dde9-49e2-b0a6-e0bef7f4e797",
   "metadata": {},
   "outputs": [],
   "source": [
    "np.diff(arr) # returns the difference of the consecutive elements "
   ]
  },
  {
   "cell_type": "code",
   "execution_count": null,
   "id": "3897e1f8-6dca-4449-990f-aee03baebfe0",
   "metadata": {},
   "outputs": [],
   "source": [
    "arr = np.array([0.5, 0.239, 0.8238])\n",
    "np.round(arr) # returns the round of each number to the nearest integer"
   ]
  },
  {
   "cell_type": "code",
   "execution_count": null,
   "id": "db1fe4c2-48fb-4f3f-95e0-1a802d2d4363",
   "metadata": {},
   "outputs": [],
   "source": [
    "arr = np.array([1, 2, 3, 4])\n",
    "np.cumprod(arr) # a cumulative product"
   ]
  },
  {
   "cell_type": "code",
   "execution_count": null,
   "id": "8e4ecce9-436c-4862-bc11-a406279200d7",
   "metadata": {},
   "outputs": [],
   "source": [
    "np.cumsum(arr) # a cumulative sum"
   ]
  },
  {
   "cell_type": "code",
   "execution_count": null,
   "id": "d7415c54-8797-41e2-995e-63a5f82dc9c0",
   "metadata": {},
   "outputs": [],
   "source": [
    "np.exp(arr) # exponentiate each element "
   ]
  },
  {
   "cell_type": "code",
   "execution_count": null,
   "id": "58c1ff50-872c-41c3-8e27-b93debad1d82",
   "metadata": {},
   "outputs": [],
   "source": [
    "np.log(arr) # natural logarithm of each element"
   ]
  },
  {
   "cell_type": "code",
   "execution_count": null,
   "id": "b59d6359-6ac8-47bb-a04f-654544d8edbc",
   "metadata": {},
   "outputs": [],
   "source": [
    "np.sqrt(arr) # square root of each element"
   ]
  },
  {
   "cell_type": "code",
   "execution_count": null,
   "id": "79293d45-8791-4e29-9c78-52995f70fb90",
   "metadata": {},
   "outputs": [],
   "source": [
    "arr = np.arange(10, 1, -1)\n",
    "arr"
   ]
  },
  {
   "cell_type": "code",
   "execution_count": null,
   "id": "de6e69ab-f904-4bfa-b1ff-5cfbd26ecf34",
   "metadata": {},
   "outputs": [],
   "source": [
    "np.sort(arr) # sort elements in ascending order"
   ]
  },
  {
   "cell_type": "markdown",
   "id": "60fa45fd-48c1-450e-8fe6-e9db4b1b33c3",
   "metadata": {},
   "source": [
    "### Boolean Arrays and Boolean Masking\n",
    "\n"
   ]
  },
  {
   "cell_type": "markdown",
   "id": "4d6ef0cb-f4a7-459e-a400-ae9285872467",
   "metadata": {},
   "source": [
    "#### Boolean array: \n",
    "A numpy array where all values of the array are Boolean (True or False). \n",
    "\n",
    "Examples of boolean array: "
   ]
  },
  {
   "cell_type": "code",
   "execution_count": null,
   "id": "f9a0e11b-8eee-4522-be9b-e7a429dfd015",
   "metadata": {},
   "outputs": [],
   "source": [
    "barr = np.array([True, False, True, True, False])\n",
    "barr"
   ]
  },
  {
   "cell_type": "code",
   "execution_count": null,
   "id": "a432f974-3d64-4ba5-95de-de82a8baf781",
   "metadata": {},
   "outputs": [],
   "source": [
    "type(barr), type(barr[0])"
   ]
  },
  {
   "cell_type": "code",
   "execution_count": null,
   "id": "c3e0f636-b0f3-4898-9ff0-c51589fc7c0d",
   "metadata": {},
   "outputs": [],
   "source": [
    "arr = np.array([[5, 6], [9, 10]])\n",
    "arr"
   ]
  },
  {
   "cell_type": "code",
   "execution_count": null,
   "id": "d8c79ebf-3adf-4990-b5fe-566dbfa55fa5",
   "metadata": {},
   "outputs": [],
   "source": [
    "barr = arr > 6\n",
    "barr"
   ]
  },
  {
   "cell_type": "markdown",
   "id": "23aaed12-ecc9-4d0b-bf65-b2c4f62e83a3",
   "metadata": {},
   "source": [
    "#### Methods on boolean array"
   ]
  },
  {
   "cell_type": "code",
   "execution_count": null,
   "id": "ef307db9-da9f-4255-819a-a30d96e5315d",
   "metadata": {},
   "outputs": [],
   "source": [
    "barr1 = np.array([True, True, False, False, True])\n",
    "barr2 = np.array([True, False, False, True, True])"
   ]
  },
  {
   "cell_type": "code",
   "execution_count": null,
   "id": "7cbef266-edc1-4a89-b82a-adf09eda85ca",
   "metadata": {},
   "outputs": [],
   "source": [
    "np.logical_and(barr1, barr2) # elementwise and operator"
   ]
  },
  {
   "cell_type": "code",
   "execution_count": null,
   "id": "a2eb590e-19f6-4eda-830f-e935b96eafb1",
   "metadata": {},
   "outputs": [],
   "source": [
    "np.logical_or(barr1, barr2) # elementwise or operator"
   ]
  },
  {
   "cell_type": "markdown",
   "id": "b22095e4-0487-4766-9470-1e766750bbdd",
   "metadata": {},
   "source": [
    "### Boolean Masking\n",
    "\n",
    "A Boolean mask is a technique used to select elements from a NumPy array by applying a Boolean array of the same shape. The resulting array will be one-dimensional and contain only the elements corresponding to the True values in the Boolean array.\n",
    "\n",
    "For example: \n",
    "\n",
    "<img src=\"pics/bm1.drawio.png\" width=700 />"
   ]
  },
  {
   "cell_type": "code",
   "execution_count": null,
   "id": "38108858-3439-48b7-bdc7-c18c7816c9d7",
   "metadata": {},
   "outputs": [],
   "source": [
    "arr = np.array([10, 20, 30, 40])\n",
    "barr = np.array([True, True, False, True])\n",
    "arr[barr]"
   ]
  },
  {
   "cell_type": "markdown",
   "id": "047c9971-1318-4a19-a6a2-ee06b6bcecb1",
   "metadata": {},
   "source": [
    "Example: \n",
    "\n",
    "<img src=\"pics/bm2.drawio.png\" width=700 />"
   ]
  },
  {
   "cell_type": "code",
   "execution_count": null,
   "id": "075f504e-a1d0-4753-a504-7b61d8feda46",
   "metadata": {},
   "outputs": [],
   "source": [
    "arr = np.array([[10, -20, 30], [-1, 3, 5], [-6, -4, 9]])\n",
    "arr"
   ]
  },
  {
   "cell_type": "code",
   "execution_count": null,
   "id": "47d833ee-e39f-42b5-a194-26d48356460f",
   "metadata": {},
   "outputs": [],
   "source": [
    "arr > 0"
   ]
  },
  {
   "cell_type": "code",
   "execution_count": null,
   "id": "943de331-6fdf-4f3a-ace7-9c0fa6c8a0af",
   "metadata": {},
   "outputs": [],
   "source": [
    "arr[arr > 0]"
   ]
  },
  {
   "cell_type": "markdown",
   "id": "a392aa29-cb3e-4a10-a659-ae29e71e23b6",
   "metadata": {
    "deletable": false,
    "editable": false
   },
   "source": [
    "### Question 27\n",
    "\n",
    "Write a python code to find the sum of all positive integers in the matrix $A= \\begin{bmatrix}\n",
    "1 & -2 & -3 & 4 \\\\\n",
    "1 & 1 & -1 & -1 \\\\\n",
    "2 & -2 & -1 & 0 \\\\\n",
    "\\end{bmatrix}$"
   ]
  },
  {
   "cell_type": "code",
   "execution_count": null,
   "id": "9f55f530-c4bb-4004-a642-a44c16279a36",
   "metadata": {
    "tags": []
   },
   "outputs": [],
   "source": [
    "A = np.array([[1, -2, -3, 4], [1, 1, -1, -1], [2, -2, -1, 0]]) \n",
    "your_ans = ...\n",
    "your_ans"
   ]
  },
  {
   "cell_type": "code",
   "execution_count": null,
   "id": "57401de6",
   "metadata": {
    "deletable": false,
    "editable": false
   },
   "outputs": [],
   "source": [
    "grader.check(\"q27\")"
   ]
  },
  {
   "cell_type": "markdown",
   "id": "154cadf1-7c90-4757-bd99-bfcbde9ab1fc",
   "metadata": {
    "deletable": false,
    "editable": false
   },
   "source": [
    "### Question 28\n",
    "\n",
    "Write a python code to find the sum of the positive integers present in the second row of the matrix A (defined in Question 26). "
   ]
  },
  {
   "cell_type": "code",
   "execution_count": null,
   "id": "f879cbe8-35a9-4724-ba26-b891ba5df5a1",
   "metadata": {
    "tags": []
   },
   "outputs": [],
   "source": [
    "your_ans = ...\n",
    "your_ans"
   ]
  },
  {
   "cell_type": "code",
   "execution_count": null,
   "id": "5c749ce5",
   "metadata": {
    "deletable": false,
    "editable": false
   },
   "outputs": [],
   "source": [
    "grader.check(\"q28\")"
   ]
  },
  {
   "cell_type": "markdown",
   "id": "e91a6180-2953-4864-85f1-601a280f5a06",
   "metadata": {
    "deletable": false,
    "editable": false
   },
   "source": [
    "### Question 29\n",
    "\n",
    "Write a python code to count the total number of zeros present in the matrix $A= \\begin{bmatrix}\n",
    "1 & 5 & 0 & 4 \\\\\n",
    "1 & 3 & 0 & 0 \\\\\n",
    "2 & -2 & -1 & 0 \\\\\n",
    "4 & 0 & 9  & 0  \\\\\n",
    "2 & 9 & 0 & 0 \\\\\n",
    "\\end{bmatrix}$"
   ]
  },
  {
   "cell_type": "code",
   "execution_count": null,
   "id": "28ee82d9-208c-4a04-affc-fe01cd24173d",
   "metadata": {
    "tags": []
   },
   "outputs": [],
   "source": [
    "A = ...\n",
    "A"
   ]
  },
  {
   "cell_type": "code",
   "execution_count": null,
   "id": "5db62bff-1dd7-4f83-9ab5-62a461847bb1",
   "metadata": {
    "tags": []
   },
   "outputs": [],
   "source": [
    "your_ans = np.sum(A == 0)\n",
    "your_ans"
   ]
  },
  {
   "cell_type": "code",
   "execution_count": null,
   "id": "c19a0f23",
   "metadata": {
    "deletable": false,
    "editable": false
   },
   "outputs": [],
   "source": [
    "grader.check(\"q29\")"
   ]
  },
  {
   "cell_type": "markdown",
   "id": "6cbd2e04-1ce7-4ff4-803c-ec00fb3b74b3",
   "metadata": {
    "deletable": false,
    "editable": false
   },
   "source": [
    "### Question 30\n",
    "\n",
    "Write a python code to replace all the negative numbers with 0 in the given array $A= \\begin{bmatrix}\n",
    "1 & -4 & -1 & 4 \\\\\n",
    "1 & 3 & -8 & 1 \\\\\n",
    "\\end{bmatrix}$. \n",
    "\n",
    "Your resultant array A will be $\\begin{bmatrix}\n",
    "1 & 0 & 0 & 4 \\\\\n",
    "1 & 3 & 0 & 1 \\\\\n",
    "\\end{bmatrix}$. "
   ]
  },
  {
   "cell_type": "code",
   "execution_count": null,
   "id": "2e08779a-6671-4bcc-bc25-1c487d7111f0",
   "metadata": {
    "tags": []
   },
   "outputs": [],
   "source": [
    "A = np.array([[1, -4, -1, 4], [1, 3, -8, 1]])\n",
    "A"
   ]
  },
  {
   "cell_type": "code",
   "execution_count": null,
   "id": "dc183c3f-92e0-463e-b84d-4008649a2d06",
   "metadata": {
    "tags": []
   },
   "outputs": [],
   "source": [
    "mask = ...\n",
    "A[mask] = ...\n",
    "A"
   ]
  },
  {
   "cell_type": "code",
   "execution_count": null,
   "id": "ec9c6f27",
   "metadata": {
    "deletable": false,
    "editable": false
   },
   "outputs": [],
   "source": [
    "grader.check(\"q30\")"
   ]
  },
  {
   "cell_type": "markdown",
   "id": "f62d6227-b026-4e90-a443-1405ba1fe695",
   "metadata": {},
   "source": [
    "### Miscelleneous Questions"
   ]
  },
  {
   "cell_type": "markdown",
   "id": "474f02db-786c-41aa-967c-3a2e995aa876",
   "metadata": {
    "deletable": false,
    "editable": false
   },
   "source": [
    "### Question 31\n",
    "\n",
    "#### Estimate $\\pi$ using Leibniz's formula\n",
    "\n",
    "Leibniz has given us formula to estimate the value of $\\pi$ using the following equation: \n",
    "$$\\pi = 4 * \\left(1 - \\frac{1}{3} +  \\frac{1}{5} -  \\frac{1}{7} + \\frac{1}{9} -  \\frac{1}{11} + ... \\right)$$\n",
    "\n",
    "We are going to verify if this equation is true by computing the right hand side of equation, if the result is approximately 3.14 (close to the value of $\\pi$) then the equation is correct. \n",
    "\n",
    "Instead of finding the sum infinitely, we will caculate it upto large value (say 100001), then the equation becomes:\n",
    "$$\\left(1 - \\frac{1}{3} + \\frac{1}{5} - \\frac{1}{7} + \\frac{1}{9} - \\frac{1}{11} + ... - \\frac{1}{99999} + \\frac{1}{100001} \\right)$$\n",
    "\n",
    "Now we will separate this equation by grouping the negative fractions and positive fractions together respectively. So the equation becomes:\n",
    "$$\\left(1 + \\frac{1}{5} + \\frac{1}{9} + ... + \\frac{1}{100001} \\right) - \\left(\\frac{1}{3} + \\frac{1}{7} + \\frac{1}{11} + ... + \\frac{1}{99999} \\right)$$\n",
    "\n",
    "Therefore, let's first calculate the positive fractions first. \n",
    "$$\\left(1 + \\frac{1}{5} + \\frac{1}{9} + ... + \\frac{1}{100001} \\right)$$\n",
    "\n",
    "We see pattern in the denominator 1, 5, 9, ..., 100001. \n",
    "Therefore, we can store these denominators in a numpy array. \n",
    "\n",
    "Then, we can divide them by 1, and then add them together. That will be the output for the sum of all positive fractions. "
   ]
  },
  {
   "cell_type": "code",
   "execution_count": null,
   "id": "c7bb7ecb-1006-4c35-8799-24dcaaa659b5",
   "metadata": {
    "tags": []
   },
   "outputs": [],
   "source": [
    "positive_fractions = ...\n",
    "left_equation = ..."
   ]
  },
  {
   "cell_type": "code",
   "execution_count": null,
   "id": "96c249ee-28e2-4dcb-8142-2017b84141d9",
   "metadata": {
    "tags": []
   },
   "outputs": [],
   "source": [
    "negative_fractions = ...\n",
    "right_equation = ..."
   ]
  },
  {
   "cell_type": "code",
   "execution_count": null,
   "id": "9036c045-e6bb-4cdf-8d01-42bef1268153",
   "metadata": {
    "tags": []
   },
   "outputs": [],
   "source": [
    "pi = ...\n",
    "pi"
   ]
  },
  {
   "cell_type": "code",
   "execution_count": null,
   "id": "a16c2ff0",
   "metadata": {
    "deletable": false,
    "editable": false
   },
   "outputs": [],
   "source": [
    "grader.check(\"q31\")"
   ]
  },
  {
   "cell_type": "markdown",
   "id": "41bd345b-b83f-4766-8af6-35377fe85ff8",
   "metadata": {
    "deletable": false,
    "editable": false
   },
   "source": [
    "### Question 32\n",
    "\n",
    "#### Estimate $\\pi$ using Walli's Formula\n",
    "\n",
    "About half a centure before Leibniz, John Wallis gave an expression to estimate the value of $\\pi$ as an infinite product. \n",
    "\n",
    "$$\\pi = 2 \\cdot \\left(\\frac{2}{1} \\cdot \\frac{2}{3} \\cdot \\frac{4}{3} \\cdot \\frac{4}{5} \\cdot \\frac{6}{5} \\cdot \\frac{6}{7} \\cdots \\right) $$\n",
    "\n",
    "This is a product of \"even/odd\" fractions. Let's use arrays to multiple a million of them, and see if the product is close to $\\pi$. \n",
    "\n",
    "$$\\pi = 2 \\cdot \\left(\\frac{2}{1} \\cdot \\frac{4}{3} \\cdot \\frac{6}{5} \\cdots \\frac{100000}{99999} \\right) \\cdot \\left(\\frac{2}{3} \\cdot \\frac{4}{5} \\cdot \\frac{6}{7} \\cdots \\frac{100000}{100001} \\right) $$\n",
    "\n",
    "We start by creating an array of even numbers 2, 4, 6, and so on upto 100000. Then we create two lists of odd numbers: 1, 3, 5, 7, ... upto 99999 and 3, 5, 7, ... upto 100001\n"
   ]
  },
  {
   "cell_type": "code",
   "execution_count": null,
   "id": "45423fd1-1e01-4989-9727-3560e0a429e5",
   "metadata": {
    "tags": []
   },
   "outputs": [],
   "source": [
    "\n",
    "left_equation = ...\n",
    "\n",
    "right_equation = ...\n",
    "\n",
    "pi = 2 * left_equation * right_equation\n",
    "pi"
   ]
  },
  {
   "cell_type": "code",
   "execution_count": null,
   "id": "82f792f9",
   "metadata": {
    "deletable": false,
    "editable": false
   },
   "outputs": [],
   "source": [
    "grader.check(\"q32\")"
   ]
  },
  {
   "cell_type": "markdown",
   "id": "e333bc7c-35b2-4542-b4e4-bae27e50fa36",
   "metadata": {
    "deletable": false,
    "editable": false
   },
   "source": [
    "### Question 33\n",
    "\n",
    "A numpy array of integers, named `nvidia` contains the rough adjusted closing monthly stock prices (in dollars) of NVIDIA corporation, a key innovator in computer graphics, and AI technology, for the year 2023. It has total 12 items.\n"
   ]
  },
  {
   "cell_type": "code",
   "execution_count": null,
   "id": "eaa292c3-fa98-46bf-9b5a-8c40f42ee4fc",
   "metadata": {
    "deletable": false,
    "editable": false
   },
   "outputs": [],
   "source": [
    "nvidia = np.array([19.52, 23.20, 27.76, 27.74, 37.82, 42.28, 46.71, 49.34, 43.48, 40.77, 46.76, 49.51])\n",
    "nvidia"
   ]
  },
  {
   "cell_type": "markdown",
   "id": "2738e4e8-b484-4493-9980-33dd1ffcadd0",
   "metadata": {
    "deletable": false,
    "editable": false
   },
   "source": [
    "Write a Python code to answer each of the following questions.\n",
    "\n",
    "#### Question 33(a)\n",
    "What is the stock price value in October? Round your answer upto two decimal points."
   ]
  },
  {
   "cell_type": "code",
   "execution_count": null,
   "id": "549293c9-298f-4741-962c-c551b4ae9d97",
   "metadata": {
    "tags": []
   },
   "outputs": [],
   "source": [
    "your_ans = ...\n",
    "your_ans"
   ]
  },
  {
   "cell_type": "code",
   "execution_count": null,
   "id": "cc310339",
   "metadata": {
    "deletable": false,
    "editable": false
   },
   "outputs": [],
   "source": [
    "grader.check(\"q33\")"
   ]
  },
  {
   "cell_type": "markdown",
   "id": "d16fde63-7017-4369-b7bf-a55dba490ed2",
   "metadata": {
    "deletable": false,
    "editable": false
   },
   "source": [
    "### Question 33(b)\n",
    "The stock price change for each consecutive month from Jan to Dec. For eg: the change of stock price between month of Feb and Jan is 23.2 - 19.52 = 3.68. Round your answer upto two decimal points. Your final answer should be a numpy array with 11 elements. Store your answer in the variable, `nvidia_diff`. "
   ]
  },
  {
   "cell_type": "code",
   "execution_count": null,
   "id": "8208ac69-3e83-42e6-a880-c30f196b274b",
   "metadata": {
    "tags": []
   },
   "outputs": [],
   "source": [
    "nvidia_diff = ...\n",
    "nvidia_diff"
   ]
  },
  {
   "cell_type": "code",
   "execution_count": null,
   "id": "ade3213c",
   "metadata": {
    "deletable": false,
    "editable": false
   },
   "outputs": [],
   "source": [
    "grader.check(\"q33b\")"
   ]
  },
  {
   "cell_type": "markdown",
   "id": "28f32d5b-9965-403f-8a18-df4c46152c0d",
   "metadata": {
    "deletable": false,
    "editable": false
   },
   "source": [
    "### Question 33(c)\n",
    "\n",
    "Check if the stock prices ever rose by more than 4 dollars between consecutive months. Your solution should include Python code that returns either True or False (without explicitly writing True or False in the answer)."
   ]
  },
  {
   "cell_type": "code",
   "execution_count": null,
   "id": "1f553b08-a926-4958-991b-891f093e49f7",
   "metadata": {
    "tags": []
   },
   "outputs": [],
   "source": [
    "nvidia_diff"
   ]
  },
  {
   "cell_type": "code",
   "execution_count": null,
   "id": "522fda58-1757-477a-a81b-6f3d50cd7bb2",
   "metadata": {
    "tags": []
   },
   "outputs": [],
   "source": [
    "your_ans = ...\n",
    "your_ans"
   ]
  },
  {
   "cell_type": "code",
   "execution_count": null,
   "id": "95ccf244",
   "metadata": {
    "deletable": false,
    "editable": false
   },
   "outputs": [],
   "source": [
    "grader.check(\"q33c\")"
   ]
  },
  {
   "cell_type": "markdown",
   "id": "8d58ccf8-11f1-4bc1-a777-a89dae80de81",
   "metadata": {
    "deletable": false,
    "editable": false
   },
   "source": [
    "### Question 33(d)\n",
    "\n",
    "Determine how many times the stock prices increased by more than 4 dollars between consecutive months. Your answer should include Python code that returns either True or False (without directly writing True or False in your answer)."
   ]
  },
  {
   "cell_type": "code",
   "execution_count": null,
   "id": "0ce3c36f-4527-40e0-9f09-5edb2f3dfe2b",
   "metadata": {
    "tags": []
   },
   "outputs": [],
   "source": [
    "your_ans = ...\n",
    "your_ans"
   ]
  },
  {
   "cell_type": "markdown",
   "id": "2b22e99d-57a7-42d2-9fa8-7b2c438dc4c7",
   "metadata": {
    "deletable": false,
    "editable": false
   },
   "source": [
    "### Question 33(e)\n",
    "\n",
    "Determine how many times the stock prices ever **rose** by less than 4 dollars between consecutive months. Your solution should include Python code that returns either True or False (without explicitly writing True or False in the answer)."
   ]
  },
  {
   "cell_type": "code",
   "execution_count": null,
   "id": "dc6fb8e0-0bf9-43d4-ad20-8ea94b4c9281",
   "metadata": {
    "tags": []
   },
   "outputs": [],
   "source": [
    "nvidia_diff"
   ]
  },
  {
   "cell_type": "code",
   "execution_count": null,
   "id": "69c00f0d-f078-477f-a9a5-7438fd98650c",
   "metadata": {
    "tags": []
   },
   "outputs": [],
   "source": [
    "your_ans = ...\n",
    "your_ans"
   ]
  },
  {
   "cell_type": "code",
   "execution_count": null,
   "id": "27070613",
   "metadata": {
    "deletable": false,
    "editable": false
   },
   "outputs": [],
   "source": [
    "grader.check(\"q33e\")"
   ]
  },
  {
   "cell_type": "markdown",
   "id": "eaefddf5-0606-4fa2-8686-d527848b2c96",
   "metadata": {
    "deletable": false,
    "editable": false
   },
   "source": [
    "<!-- BEGIN QUESTION -->\n",
    "\n",
    "### Question 34:\n",
    "\n",
    "For each of the Python expressions below, write the output when the expression is evaluated. If the\n",
    "expression evaluates to an array, you should format your answer like so: `array([..., ..., ...])`. If the expression fails to run, then write `Error` as your answer. You\n",
    "may assume the standard import:\n",
    "\n",
    "```import numpy as np```  \n",
    "\n",
    "Do not run any code to answer these questions. \n",
    "\n",
    "#### Question 34(a) \n",
    "\n",
    "```np.array([5, 6, -3]) > 4```"
   ]
  },
  {
   "cell_type": "markdown",
   "id": "ebb9ff33",
   "metadata": {},
   "source": [
    "_Type your answer here, replacing this text._"
   ]
  },
  {
   "cell_type": "markdown",
   "id": "3d261317-00cf-4f60-9dd7-3162234b2b1d",
   "metadata": {
    "deletable": false,
    "editable": false
   },
   "source": [
    "<!-- END QUESTION -->\n",
    "\n",
    "<!-- BEGIN QUESTION -->\n",
    "\n",
    "### Question 34(b)\n",
    "\n",
    "```np.sum(np.array([5, 2, 0]) < 3)```"
   ]
  },
  {
   "cell_type": "markdown",
   "id": "e3f1e154",
   "metadata": {},
   "source": [
    "_Type your answer here, replacing this text._"
   ]
  },
  {
   "cell_type": "markdown",
   "id": "c0eeecd0-e607-4145-a38f-618f6a3617a6",
   "metadata": {
    "deletable": false,
    "editable": false
   },
   "source": [
    "<!-- END QUESTION -->\n",
    "\n",
    "<!-- BEGIN QUESTION -->\n",
    "\n",
    "### Question 34(c)\n",
    "\n",
    "```np.array([1, 2, 3]) - np.array([1, 1, 1])```"
   ]
  },
  {
   "cell_type": "markdown",
   "id": "d9f35c35",
   "metadata": {},
   "source": [
    "_Type your answer here, replacing this text._"
   ]
  },
  {
   "cell_type": "markdown",
   "id": "ae1d4b0f-ede8-4a65-82c5-f10c19e2ab01",
   "metadata": {
    "deletable": false,
    "editable": false
   },
   "source": [
    "<!-- END QUESTION -->\n",
    "\n",
    "<!-- BEGIN QUESTION -->\n",
    "\n",
    "### Question 34(d)\n",
    "\n",
    "```np.array([2, 2, 2]) - 2 ```"
   ]
  },
  {
   "cell_type": "markdown",
   "id": "807bb830",
   "metadata": {},
   "source": [
    "_Type your answer here, replacing this text._"
   ]
  },
  {
   "cell_type": "markdown",
   "id": "072dcc2c-597b-4397-9548-31966bf58c8c",
   "metadata": {
    "deletable": false,
    "editable": false
   },
   "source": [
    "<!-- END QUESTION -->\n",
    "\n",
    "<!-- BEGIN QUESTION -->\n",
    "\n",
    "### Question 34(e)\n",
    "\n",
    "```np.array([4, 4, 5]) - np.array([2, 2])```"
   ]
  },
  {
   "cell_type": "markdown",
   "id": "5fd2ebb7",
   "metadata": {},
   "source": [
    "_Type your answer here, replacing this text._"
   ]
  },
  {
   "cell_type": "markdown",
   "id": "3d10a769-c59c-4f4b-8c6c-e8521b4ba990",
   "metadata": {
    "deletable": false,
    "editable": false
   },
   "source": [
    "<!-- END QUESTION -->\n",
    "\n",
    "<!-- BEGIN QUESTION -->\n",
    "\n",
    "### Question 34(f)\n",
    "\n",
    "```np.arange(1, 10, 2)```"
   ]
  },
  {
   "cell_type": "markdown",
   "id": "b45ed34a",
   "metadata": {},
   "source": [
    "_Type your answer here, replacing this text._"
   ]
  },
  {
   "cell_type": "markdown",
   "id": "42a7e3c8-d99d-460f-babc-e65580c79a57",
   "metadata": {
    "deletable": false,
    "editable": false
   },
   "source": [
    "<!-- END QUESTION -->\n",
    "\n",
    "<!-- BEGIN QUESTION -->\n",
    "\n",
    "### Question 34(g)\n",
    "\n",
    "```\n",
    "arr = np.arange(10, 100, 10)\n",
    "new_arr = arr[np.arange(1, 5)]\n",
    "print(new_arr)\n",
    "```"
   ]
  },
  {
   "cell_type": "markdown",
   "id": "8c00ab4f",
   "metadata": {},
   "source": [
    "_Type your answer here, replacing this text._"
   ]
  },
  {
   "cell_type": "markdown",
   "id": "094f292e-fb90-466a-9684-86f3b3636b69",
   "metadata": {
    "deletable": false,
    "editable": false
   },
   "source": [
    "<!-- END QUESTION -->\n",
    "\n",
    "<!-- BEGIN QUESTION -->\n",
    "\n",
    "### Question 34(h)\n",
    "\n",
    "```np.arange(1, 10, 3)```"
   ]
  },
  {
   "cell_type": "markdown",
   "id": "5976eb97",
   "metadata": {},
   "source": [
    "_Type your answer here, replacing this text._"
   ]
  },
  {
   "cell_type": "markdown",
   "id": "2c085da7-07a1-4078-be3a-8547e596465b",
   "metadata": {
    "deletable": false,
    "editable": false
   },
   "source": [
    "<!-- END QUESTION -->\n",
    "\n",
    "<!-- BEGIN QUESTION -->\n",
    "\n",
    "### Question 34(i)\n",
    "\n",
    "```\n",
    "arr = np.arange(10, 100, 10)\n",
    "new_arr = arr[np.arange(1, 7, 2)]\n",
    "print(new_arr)\n",
    "```"
   ]
  },
  {
   "cell_type": "markdown",
   "id": "fae42e11",
   "metadata": {},
   "source": [
    "_Type your answer here, replacing this text._"
   ]
  },
  {
   "cell_type": "markdown",
   "id": "f4b9e74e-ea79-4ba4-9337-121c1f78178d",
   "metadata": {
    "deletable": false,
    "editable": false
   },
   "source": [
    "<!-- END QUESTION -->\n",
    "\n",
    "<!-- BEGIN QUESTION -->\n",
    "\n",
    "### Question 34j\n",
    "\n",
    "```\n",
    "arr = np.arange(10, 100, 10)\n",
    "new_arr = arr[np.arange(1, 10, 2)]\n",
    "print(new_arr)\n",
    "```"
   ]
  },
  {
   "cell_type": "markdown",
   "id": "0bce1e32",
   "metadata": {},
   "source": [
    "_Type your answer here, replacing this text._"
   ]
  },
  {
   "cell_type": "markdown",
   "id": "8accdd4c-534c-441a-ae45-501d4baac750",
   "metadata": {
    "deletable": false,
    "editable": false
   },
   "source": [
    "<!-- END QUESTION -->\n",
    "\n",
    "<!-- BEGIN QUESTION -->\n",
    "\n",
    "### Question 34k\n",
    "\n",
    "```\n",
    "np.cumsum(np.array([1, 2, 4]))\n",
    "```"
   ]
  },
  {
   "cell_type": "markdown",
   "id": "1173793c",
   "metadata": {},
   "source": [
    "_Type your answer here, replacing this text._"
   ]
  },
  {
   "cell_type": "markdown",
   "id": "bc17865e-a381-4530-bf6b-7c1302dadcb2",
   "metadata": {
    "deletable": false,
    "editable": false
   },
   "source": [
    "<!-- END QUESTION -->\n",
    "\n",
    "<!-- BEGIN QUESTION -->\n",
    "\n",
    "### Question 34l\n",
    "\n",
    "```\n",
    "arr = np.array([3, 5, 7])\n",
    "arr[np.array([True, False, False])]\n",
    "```"
   ]
  },
  {
   "cell_type": "markdown",
   "id": "fe8d9907",
   "metadata": {},
   "source": [
    "_Type your answer here, replacing this text._"
   ]
  },
  {
   "cell_type": "markdown",
   "id": "49d34bb8-3e82-4576-ac19-0bc131979eb6",
   "metadata": {
    "deletable": false,
    "editable": false
   },
   "source": [
    "<!-- END QUESTION -->\n",
    "\n",
    "<!-- BEGIN QUESTION -->\n",
    "\n",
    "### Question 34m\n",
    "\n",
    "```\n",
    "arr = np.array([[1, 1], [-2, 3]])\n",
    "arr[arr > 0]\n",
    "```"
   ]
  },
  {
   "cell_type": "markdown",
   "id": "8d0faaac",
   "metadata": {},
   "source": [
    "_Type your answer here, replacing this text._"
   ]
  },
  {
   "cell_type": "markdown",
   "id": "d5787eef-d274-4985-af00-6c295da9f9d1",
   "metadata": {
    "deletable": false,
    "editable": false
   },
   "source": [
    "<!-- END QUESTION -->\n",
    "\n",
    "<!-- BEGIN QUESTION -->\n",
    "\n",
    "### Question 34(n)\n",
    "\n",
    "```\n",
    "arr = np.array([[1, 1], [-2, 3]])\n",
    "arr[arr < 0] = 1000\n",
    "arr\n",
    "```"
   ]
  },
  {
   "cell_type": "markdown",
   "id": "5734e43a",
   "metadata": {},
   "source": [
    "_Type your answer here, replacing this text._"
   ]
  },
  {
   "cell_type": "markdown",
   "id": "1d777d94-6d44-4a2e-bf66-192ff4d34d70",
   "metadata": {
    "deletable": false,
    "editable": false
   },
   "source": [
    "<!-- END QUESTION -->\n",
    "\n",
    "<!-- BEGIN QUESTION -->\n",
    "\n",
    "### Question 34(o)\n",
    "\n",
    "```\n",
    "\"csci\" + str(round(1461.78))\n",
    "```"
   ]
  },
  {
   "cell_type": "markdown",
   "id": "d2dd18de",
   "metadata": {},
   "source": [
    "_Type your answer here, replacing this text._"
   ]
  },
  {
   "cell_type": "markdown",
   "id": "0d67e3f6",
   "metadata": {
    "deletable": false,
    "editable": false
   },
   "source": [
    "<!-- END QUESTION -->\n",
    "\n"
   ]
  }
 ],
 "metadata": {
  "kernelspec": {
   "display_name": "Python 3 (ipykernel)",
   "language": "python",
   "name": "python3"
  },
  "language_info": {
   "codemirror_mode": {
    "name": "ipython",
    "version": 3
   },
   "file_extension": ".py",
   "mimetype": "text/x-python",
   "name": "python",
   "nbconvert_exporter": "python",
   "pygments_lexer": "ipython3",
   "version": "3.12.6"
  },
  "otter": {
   "OK_FORMAT": true,
   "tests": {
    "q1": {
     "name": "q1",
     "points": null,
     "suites": [
      {
       "cases": [
        {
         "code": ">>> isinstance(arr, np.ndarray)\nTrue",
         "hidden": false,
         "locked": false
        }
       ],
       "scored": true,
       "setup": "",
       "teardown": "",
       "type": "doctest"
      }
     ]
    },
    "q14": {
     "name": "q14",
     "points": null,
     "suites": [
      {
       "cases": [
        {
         "code": ">>> temps_in_fahr[-1] == 77\nnp.True_",
         "hidden": false,
         "locked": false
        },
        {
         "code": ">>> len(temps_in_fahr) == 4\nTrue",
         "hidden": false,
         "locked": false
        }
       ],
       "scored": true,
       "setup": "",
       "teardown": "",
       "type": "doctest"
      }
     ]
    },
    "q15": {
     "name": "q15",
     "points": null,
     "suites": [
      {
       "cases": [
        {
         "code": ">>> C.shape == (3, 2)\nTrue",
         "hidden": false,
         "locked": false
        },
        {
         "code": ">>> C[-1, -1].item() == 23\nnp.True_",
         "hidden": false,
         "locked": false
        }
       ],
       "scored": true,
       "setup": "",
       "teardown": "",
       "type": "doctest"
      }
     ]
    },
    "q16": {
     "name": "q16",
     "points": null,
     "suites": [
      {
       "cases": [
        {
         "code": ">>> your_ans.shape == (4,)\nTrue",
         "hidden": false,
         "locked": false
        },
        {
         "code": ">>> your_ans[-1].item() == 400\nTrue",
         "hidden": false,
         "locked": false
        }
       ],
       "scored": true,
       "setup": "",
       "teardown": "",
       "type": "doctest"
      }
     ]
    },
    "q17": {
     "name": "q17",
     "points": null,
     "suites": [
      {
       "cases": [
        {
         "code": ">>> your_ans.shape == (2, 4)\nTrue",
         "hidden": false,
         "locked": false
        },
        {
         "code": ">>> your_ans[-1, -1].item() == 40\nTrue",
         "hidden": false,
         "locked": false
        }
       ],
       "scored": true,
       "setup": "",
       "teardown": "",
       "type": "doctest"
      }
     ]
    },
    "q18": {
     "name": "q18",
     "points": null,
     "suites": [
      {
       "cases": [
        {
         "code": ">>> your_ans.shape == (2, 4)\nTrue",
         "hidden": false,
         "locked": false
        },
        {
         "code": ">>> your_ans[-1, -1].item() == -4\nTrue",
         "hidden": false,
         "locked": false
        }
       ],
       "scored": true,
       "setup": "",
       "teardown": "",
       "type": "doctest"
      }
     ]
    },
    "q19": {
     "name": "q19",
     "points": null,
     "suites": [
      {
       "cases": [
        {
         "code": ">>> your_ans.shape == (5, 2)\nTrue",
         "hidden": false,
         "locked": false
        },
        {
         "code": ">>> your_ans[-1, -1].item() == -2\nTrue",
         "hidden": false,
         "locked": false
        }
       ],
       "scored": true,
       "setup": "",
       "teardown": "",
       "type": "doctest"
      }
     ]
    },
    "q2": {
     "name": "q2",
     "points": null,
     "suites": [
      {
       "cases": [
        {
         "code": ">>> isinstance(my_fruits, np.ndarray)\nTrue",
         "hidden": false,
         "locked": false
        },
        {
         "code": ">>> len(my_fruits) == 3\nTrue",
         "hidden": false,
         "locked": false
        }
       ],
       "scored": true,
       "setup": "",
       "teardown": "",
       "type": "doctest"
      }
     ]
    },
    "q20": {
     "name": "q20",
     "points": null,
     "suites": [
      {
       "cases": [
        {
         "code": ">>> your_ans.shape == (5, 2)\nTrue",
         "hidden": false,
         "locked": false
        },
        {
         "code": ">>> your_ans[-1, -1].item() == -4\nTrue",
         "hidden": false,
         "locked": false
        }
       ],
       "scored": true,
       "setup": "",
       "teardown": "",
       "type": "doctest"
      }
     ]
    },
    "q21": {
     "name": "q21",
     "points": null,
     "suites": [
      {
       "cases": [
        {
         "code": ">>> your_ans.shape == (2, 4)\nTrue",
         "hidden": false,
         "locked": false
        },
        {
         "code": ">>> your_ans[-1, -1].item() == -4\nTrue",
         "hidden": false,
         "locked": false
        }
       ],
       "scored": true,
       "setup": "",
       "teardown": "",
       "type": "doctest"
      }
     ]
    },
    "q22": {
     "name": "q22",
     "points": null,
     "suites": [
      {
       "cases": [
        {
         "code": ">>> your_ans.shape == (5, 2)\nTrue",
         "hidden": false,
         "locked": false
        },
        {
         "code": ">>> your_ans[-1, -1].item() == -4\nTrue",
         "hidden": false,
         "locked": false
        }
       ],
       "scored": true,
       "setup": "",
       "teardown": "",
       "type": "doctest"
      }
     ]
    },
    "q23": {
     "name": "q23",
     "points": null,
     "suites": [
      {
       "cases": [
        {
         "code": ">>> your_ans.shape == (3, 4)\nTrue",
         "hidden": false,
         "locked": false
        },
        {
         "code": ">>> your_ans[-1, -1].item() == -4\nTrue",
         "hidden": false,
         "locked": false
        }
       ],
       "scored": true,
       "setup": "",
       "teardown": "",
       "type": "doctest"
      }
     ]
    },
    "q24": {
     "name": "q24",
     "points": null,
     "suites": [
      {
       "cases": [
        {
         "code": ">>> your_ans.item() == 200\nTrue",
         "hidden": false,
         "locked": false
        }
       ],
       "scored": true,
       "setup": "",
       "teardown": "",
       "type": "doctest"
      }
     ]
    },
    "q25": {
     "name": "q25",
     "points": null,
     "suites": [
      {
       "cases": [
        {
         "code": ">>> your_ans.item() == -4\nTrue",
         "hidden": false,
         "locked": false
        }
       ],
       "scored": true,
       "setup": "",
       "teardown": "",
       "type": "doctest"
      }
     ]
    },
    "q26": {
     "name": "q26",
     "points": null,
     "suites": [
      {
       "cases": [
        {
         "code": ">>> your_ans[-1].item() == -9\nTrue",
         "hidden": false,
         "locked": false
        },
        {
         "code": ">>> isinstance(your_ans, np.ndarray)\nTrue",
         "hidden": false,
         "locked": false
        }
       ],
       "scored": true,
       "setup": "",
       "teardown": "",
       "type": "doctest"
      }
     ]
    },
    "q27": {
     "name": "q27",
     "points": null,
     "suites": [
      {
       "cases": [
        {
         "code": ">>> your_ans.item() == 9\nTrue",
         "hidden": false,
         "locked": false
        }
       ],
       "scored": true,
       "setup": "",
       "teardown": "",
       "type": "doctest"
      }
     ]
    },
    "q28": {
     "name": "q28",
     "points": null,
     "suites": [
      {
       "cases": [
        {
         "code": ">>> your_ans.item() == 2\nTrue",
         "hidden": false,
         "locked": false
        }
       ],
       "scored": true,
       "setup": "",
       "teardown": "",
       "type": "doctest"
      }
     ]
    },
    "q29": {
     "name": "q29",
     "points": null,
     "suites": [
      {
       "cases": [
        {
         "code": ">>> your_ans.item() == 8\nTrue",
         "hidden": false,
         "locked": false
        }
       ],
       "scored": true,
       "setup": "",
       "teardown": "",
       "type": "doctest"
      }
     ]
    },
    "q30": {
     "name": "q30",
     "points": null,
     "suites": [
      {
       "cases": [
        {
         "code": ">>> A.shape == (2, 4)\nTrue",
         "hidden": false,
         "locked": false
        },
        {
         "code": ">>> A[0, 2].item() == 0 and A[0, 1].item() == 0 and (A[1, 2].item() == 0)\nTrue",
         "hidden": false,
         "locked": false
        }
       ],
       "scored": true,
       "setup": "",
       "teardown": "",
       "type": "doctest"
      }
     ]
    },
    "q31": {
     "name": "q31",
     "points": null,
     "suites": [
      {
       "cases": [
        {
         "code": ">>> np.isclose(3.14, np.round(pi, 2)).item()\nTrue",
         "hidden": false,
         "locked": false
        }
       ],
       "scored": true,
       "setup": "",
       "teardown": "",
       "type": "doctest"
      }
     ]
    },
    "q32": {
     "name": "q32",
     "points": null,
     "suites": [
      {
       "cases": [
        {
         "code": ">>> np.isclose(3.14, np.round(pi, 2)).item()\nTrue",
         "hidden": false,
         "locked": false
        }
       ],
       "scored": true,
       "setup": "",
       "teardown": "",
       "type": "doctest"
      }
     ]
    },
    "q33": {
     "name": "q33",
     "points": null,
     "suites": [
      {
       "cases": [
        {
         "code": ">>> np.isclose(40.77, your_ans).item()\nTrue",
         "hidden": false,
         "locked": false
        }
       ],
       "scored": true,
       "setup": "",
       "teardown": "",
       "type": "doctest"
      }
     ]
    },
    "q33b": {
     "name": "q33b",
     "points": null,
     "suites": [
      {
       "cases": [
        {
         "code": ">>> len(nvidia_diff) == 11\nTrue",
         "hidden": false,
         "locked": false
        },
        {
         "code": ">>> np.isclose(nvidia_diff[-1], 2.75).item()\nnp.True_",
         "hidden": false,
         "locked": false
        }
       ],
       "scored": true,
       "setup": "",
       "teardown": "",
       "type": "doctest"
      }
     ]
    },
    "q33c": {
     "name": "q33c",
     "points": null,
     "suites": [
      {
       "cases": [
        {
         "code": ">>> your_ans.item() == True\nTrue",
         "hidden": false,
         "locked": false
        }
       ],
       "scored": true,
       "setup": "",
       "teardown": "",
       "type": "doctest"
      }
     ]
    },
    "q33e": {
     "name": "q33e",
     "points": null,
     "suites": [
      {
       "cases": [
        {
         "code": ">>> your_ans == 3\nTrue",
         "hidden": false,
         "locked": false
        }
       ],
       "scored": true,
       "setup": "",
       "teardown": "",
       "type": "doctest"
      }
     ]
    },
    "q5": {
     "name": "q5",
     "points": null,
     "suites": [
      {
       "cases": [
        {
         "code": ">>> your_ans.shape == (3, 2)\nTrue",
         "hidden": false,
         "locked": false
        }
       ],
       "scored": true,
       "setup": "",
       "teardown": "",
       "type": "doctest"
      }
     ]
    },
    "q6": {
     "name": "q6",
     "points": null,
     "suites": [
      {
       "cases": [
        {
         "code": ">>> arr3d.shape == (3, 3, 3)\nTrue",
         "hidden": false,
         "locked": false
        }
       ],
       "scored": true,
       "setup": "",
       "teardown": "",
       "type": "doctest"
      }
     ]
    }
   }
  }
 },
 "nbformat": 4,
 "nbformat_minor": 5
}
