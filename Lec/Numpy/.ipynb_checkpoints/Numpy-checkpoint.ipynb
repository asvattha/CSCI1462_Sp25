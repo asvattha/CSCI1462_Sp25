{
 "cells": [
  {
   "cell_type": "raw",
   "id": "ef735e79-f8c3-46fa-b3c2-0885327d30c3",
   "metadata": {},
   "source": [
    "# ASSIGNMENT CONFIG\n",
    "requirements: \n",
    "files: \n",
    "    - pics\n",
    "solutions_pdf: false\n",
    "run_tests: false\n",
    "export_cell: false\n",
    "generate:\n",
    "    pdf: true\n",
    "    filtering: true\n",
    "    pagebreaks: true"
   ]
  },
  {
   "cell_type": "markdown",
   "id": "07f809dd-f808-477a-86f5-e0129fd23925",
   "metadata": {},
   "source": [
    "# Numpy\n",
    "\n",
    "Similar to lists, NumPy arrays allow us to store data in a sequential and ordered fashion. Here are some key features of NumPy arrays:\n",
    "1. **Homogeneous Data Types**: In a NumPy array, all elements must be of the same data type. This uniformity allows NumPy to optimize performance and memory usage, whereas Python lists can contain elements of mixed types.\n",
    "\n",
    "2. **Fixed Size**: Once created, the size of a NumPy array is fixed. If you need to change the size, you typically create a new array. This fixed size helps in optimizing computations and memory management.\n",
    "\n",
    "3. **Shape and Dimensions**: Each element in a NumPy array has a well-defined shape, which is crucial for performing vectorized operations. For instance, in a 2D array (matrix), all rows have the same number of columns, ensuring consistent dimensionality.\n",
    "\n",
    "A major advantage of using NumPy arrays is their ability to execute computations more swiftly and efficiently with NumPy’s functions, as opposed to using lists. NumPy is highly valued in scientific computing and is extensively used in data analysis and machine learning. "
   ]
  },
  {
   "cell_type": "code",
   "execution_count": 1,
   "id": "385dadd8-04b0-44a7-b609-74d18ae5da28",
   "metadata": {},
   "outputs": [],
   "source": [
    "import numpy as np"
   ]
  },
  {
   "cell_type": "markdown",
   "id": "ab3dc879-b1ec-4c8e-95d0-65e40aac2d14",
   "metadata": {},
   "source": [
    "## Create a numpy array"
   ]
  },
  {
   "cell_type": "markdown",
   "id": "4bf02cb8-505f-410b-9415-0fddee86bdfb",
   "metadata": {},
   "source": [
    "Numpy is used to work with arrays. The array in numpy is called **ndarray**. We can create a numpy array by using `array` method. "
   ]
  },
  {
   "cell_type": "code",
   "execution_count": 2,
   "id": "e27c2435-026f-46bc-9664-6fba10dd441b",
   "metadata": {},
   "outputs": [
    {
     "data": {
      "text/plain": [
       "array([ 1,  3,  5, 10])"
      ]
     },
     "execution_count": 2,
     "metadata": {},
     "output_type": "execute_result"
    }
   ],
   "source": [
    "my_arr = np.array([1, 3, 5, 10])\n",
    "my_arr"
   ]
  },
  {
   "cell_type": "code",
   "execution_count": 3,
   "id": "f3f58375-7887-4015-856c-f77b585b3d89",
   "metadata": {},
   "outputs": [
    {
     "data": {
      "text/plain": [
       "numpy.ndarray"
      ]
     },
     "execution_count": 3,
     "metadata": {},
     "output_type": "execute_result"
    }
   ],
   "source": [
    "type(my_arr)"
   ]
  },
  {
   "cell_type": "raw",
   "id": "30c2f150-2494-4519-8170-a76ff9655ed6",
   "metadata": {},
   "source": [
    "# BEGIN QUESTION\n",
    "name: q1"
   ]
  },
  {
   "cell_type": "markdown",
   "id": "c51a4277-ac38-4343-9f11-07aaac144c74",
   "metadata": {},
   "source": [
    "### Question 1\n",
    "Create a numpy array to store the values 5, 10, 15 in a variable `arr`. "
   ]
  },
  {
   "cell_type": "raw",
   "id": "cea13976-aa6f-4157-954a-f3a05acdd2f2",
   "metadata": {},
   "source": [
    "# BEGIN SOLUTION"
   ]
  },
  {
   "cell_type": "code",
   "execution_count": 4,
   "id": "1a52f634-ad74-42b6-aa90-a0b61ae185e5",
   "metadata": {},
   "outputs": [
    {
     "data": {
      "text/plain": [
       "array([ 5, 10, 15])"
      ]
     },
     "execution_count": 4,
     "metadata": {},
     "output_type": "execute_result"
    }
   ],
   "source": [
    "arr = np.array([5, 10, 15]) # SOLUTION\n",
    "arr"
   ]
  },
  {
   "cell_type": "raw",
   "id": "f329df56-c5c0-4525-b1cd-dde96583c8fe",
   "metadata": {},
   "source": [
    "# END SOLUTION"
   ]
  },
  {
   "cell_type": "raw",
   "id": "030d3d38-223a-462c-bc3e-44a4bf132d6c",
   "metadata": {},
   "source": [
    "# BEGIN TESTS"
   ]
  },
  {
   "cell_type": "code",
   "execution_count": 5,
   "id": "f7f7dc07-9c7f-4483-9f03-1b0975ad1c5c",
   "metadata": {},
   "outputs": [
    {
     "data": {
      "text/plain": [
       "True"
      ]
     },
     "execution_count": 5,
     "metadata": {},
     "output_type": "execute_result"
    }
   ],
   "source": [
    "isinstance(arr, np.ndarray)"
   ]
  },
  {
   "cell_type": "raw",
   "id": "5e70fca9-a040-40bc-83af-eb8537e4f223",
   "metadata": {},
   "source": [
    "# END TESTS"
   ]
  },
  {
   "cell_type": "raw",
   "id": "ba0f9a00-4567-42b1-ab94-7973e5f4cb64",
   "metadata": {},
   "source": [
    "# END QUESTION"
   ]
  },
  {
   "cell_type": "raw",
   "id": "5c44ca48-9349-40ec-8a22-95b6743619ff",
   "metadata": {},
   "source": [
    "# BEGIN QUESTION\n",
    "name: q2"
   ]
  },
  {
   "cell_type": "markdown",
   "id": "161da5d3-91da-48e8-9c00-cd0d035e9953",
   "metadata": {},
   "source": [
    "### Question 2\n",
    "\n",
    "Create a numpy array to store the names of your favorite three fruits. Store your answer in a variable, `my_fruits`. "
   ]
  },
  {
   "cell_type": "raw",
   "id": "5441fea2-554e-4248-89db-d2f0768d4c90",
   "metadata": {},
   "source": [
    "# BEGIN SOLUTION"
   ]
  },
  {
   "cell_type": "code",
   "execution_count": 6,
   "id": "a6cebc1a-bd66-4b45-abe4-e25350becb11",
   "metadata": {},
   "outputs": [
    {
     "data": {
      "text/plain": [
       "array(['Mango', 'Apple', 'Peach'], dtype='<U5')"
      ]
     },
     "execution_count": 6,
     "metadata": {},
     "output_type": "execute_result"
    }
   ],
   "source": [
    "my_fruits = np.array(['Mango', 'Apple', 'Peach']) # SOLUTION\n",
    "my_fruits"
   ]
  },
  {
   "cell_type": "raw",
   "id": "2ef07a02-ca78-498f-a033-661651127218",
   "metadata": {},
   "source": [
    "# END SOLUTION"
   ]
  },
  {
   "cell_type": "raw",
   "id": "b87b07b6-5949-4dac-8f55-51986a7ccabf",
   "metadata": {},
   "source": [
    "# BEGIN TESTS"
   ]
  },
  {
   "cell_type": "code",
   "execution_count": 7,
   "id": "b7fc3a01-dd91-4062-8870-17dd5f0a1742",
   "metadata": {},
   "outputs": [
    {
     "data": {
      "text/plain": [
       "True"
      ]
     },
     "execution_count": 7,
     "metadata": {},
     "output_type": "execute_result"
    }
   ],
   "source": [
    "isinstance(my_fruits, np.ndarray)"
   ]
  },
  {
   "cell_type": "code",
   "execution_count": 8,
   "id": "e636f271-45dd-411f-b6e6-154f6ffb9ddb",
   "metadata": {},
   "outputs": [
    {
     "data": {
      "text/plain": [
       "True"
      ]
     },
     "execution_count": 8,
     "metadata": {},
     "output_type": "execute_result"
    }
   ],
   "source": [
    "len(my_fruits) == 3"
   ]
  },
  {
   "cell_type": "raw",
   "id": "dbb5a815-a651-41e2-869c-87a415f124e2",
   "metadata": {},
   "source": [
    "# END TESTS"
   ]
  },
  {
   "cell_type": "raw",
   "id": "4e9545dd-ffae-45a7-ad8b-a7684bf1f4da",
   "metadata": {},
   "source": [
    "# END QUESTION"
   ]
  },
  {
   "cell_type": "raw",
   "id": "b5afb1d0-4323-4c6a-9c22-4caa0bb45203",
   "metadata": {},
   "source": [
    "# BEGIN QUESTION\n",
    "name: q3\n",
    "manual: True"
   ]
  },
  {
   "cell_type": "markdown",
   "id": "257982aa-062c-4cf0-be5a-603ae5b03905",
   "metadata": {},
   "source": [
    "### Question 3 \n",
    "\n",
    "Previously, I noted that a NumPy array should only contain elements of the same data type. However, in the code example below, I created a NumPy array with both integer and string types. Why isn’t NumPy throwing an error in this case? Does the absence of an error imply that NumPy can handle elements of varying data types? What is happening under the hood?"
   ]
  },
  {
   "cell_type": "code",
   "execution_count": 9,
   "id": "61e22401-b839-4a40-97ac-bb3ab2ab5ee7",
   "metadata": {},
   "outputs": [
    {
     "data": {
      "text/plain": [
       "array(['10', 'hello'], dtype='<U21')"
      ]
     },
     "execution_count": 9,
     "metadata": {},
     "output_type": "execute_result"
    }
   ],
   "source": [
    "arr = np.array([10, \"hello\"])\n",
    "arr"
   ]
  },
  {
   "cell_type": "raw",
   "id": "30e89334-2d34-44ca-bfa6-174aa72e09ce",
   "metadata": {},
   "source": [
    "# BEGIN SOLUTION"
   ]
  },
  {
   "cell_type": "markdown",
   "id": "966e7b83-fdd4-4cde-bbb5-9a5174fb44cc",
   "metadata": {},
   "source": [
    "The python interpreter is converting the integer value 10, to a string value '10'. As a result, both values are now of string type, and the values are then stored in the `arr` numpy array. So, the numpy array can store data of same types.  "
   ]
  },
  {
   "cell_type": "raw",
   "id": "40356640-50f9-4e04-a8e4-f010d36efab7",
   "metadata": {},
   "source": [
    "# END SOLUTION"
   ]
  },
  {
   "cell_type": "raw",
   "id": "71530eb1-91c5-43b7-ba93-87894e9a6a24",
   "metadata": {},
   "source": [
    "# BEGIN TESTS"
   ]
  },
  {
   "cell_type": "raw",
   "id": "3545f6db-f338-4366-b26c-f2de7d13a78b",
   "metadata": {},
   "source": [
    "# END TESTS"
   ]
  },
  {
   "cell_type": "raw",
   "id": "669e7f53-ffd5-42fb-9bf5-1832ff97b7e2",
   "metadata": {},
   "source": [
    "# END QUESTION"
   ]
  },
  {
   "cell_type": "markdown",
   "id": "b8156964-b6e8-4a97-a228-287e5ed5752f",
   "metadata": {},
   "source": [
    "### 0-D arrays (Scalars)\n",
    "\n",
    "One value stored in a numpy array are 0-D array or scalar. "
   ]
  },
  {
   "cell_type": "code",
   "execution_count": 10,
   "id": "abf0447b-1aef-4dd9-8faa-09a0487d1316",
   "metadata": {},
   "outputs": [
    {
     "data": {
      "text/plain": [
       "array([56])"
      ]
     },
     "execution_count": 10,
     "metadata": {},
     "output_type": "execute_result"
    }
   ],
   "source": [
    "arr = np.array([56])\n",
    "arr"
   ]
  },
  {
   "cell_type": "markdown",
   "id": "555d4f21-b2ee-4a7d-bf41-1fd97b4d1f50",
   "metadata": {},
   "source": [
    "Numpy arrays have `shape` property that tells us the number of elements in each dimension. "
   ]
  },
  {
   "cell_type": "code",
   "execution_count": 11,
   "id": "873c499e-911e-49c5-8b4e-233ae87dd563",
   "metadata": {},
   "outputs": [
    {
     "data": {
      "text/plain": [
       "(1,)"
      ]
     },
     "execution_count": 11,
     "metadata": {},
     "output_type": "execute_result"
    }
   ],
   "source": [
    "arr.shape"
   ]
  },
  {
   "cell_type": "markdown",
   "id": "c1a9f19e-f5f6-41c7-81d9-d22192ad8db8",
   "metadata": {},
   "source": [
    "### 1-D arrays \n",
    "\n",
    "An array that has 0-D arrays as its elements  is called 1-D array. "
   ]
  },
  {
   "cell_type": "code",
   "execution_count": 12,
   "id": "ccf87522-9535-46d7-804a-36a8c1b27529",
   "metadata": {},
   "outputs": [
    {
     "data": {
      "text/plain": [
       "array([5, 6, 7, 8, 9])"
      ]
     },
     "execution_count": 12,
     "metadata": {},
     "output_type": "execute_result"
    }
   ],
   "source": [
    "arr = np.array([5, 6, 7, 8, 9])\n",
    "arr"
   ]
  },
  {
   "cell_type": "code",
   "execution_count": 13,
   "id": "8df8918a-9d7a-45d4-8174-42149c5c0258",
   "metadata": {},
   "outputs": [
    {
     "data": {
      "text/plain": [
       "(5,)"
      ]
     },
     "execution_count": 13,
     "metadata": {},
     "output_type": "execute_result"
    }
   ],
   "source": [
    "arr.shape"
   ]
  },
  {
   "cell_type": "markdown",
   "id": "de6661ab-96cd-4937-9d3d-e9679c0347aa",
   "metadata": {},
   "source": [
    "### 2-D arrays\n",
    "\n",
    "An array that has 1-D arrays as its elements is called 2D array.\n",
    "\n",
    "\n",
    "For eg: \\begin{bmatrix}\n",
    "10 & 20 & 30 \\\\\n",
    "1 & 1 & 1 \\\\\n",
    "\\end{bmatrix}"
   ]
  },
  {
   "cell_type": "code",
   "execution_count": 14,
   "id": "2e6a5306-3e29-447f-868a-20d5ed2d1e65",
   "metadata": {},
   "outputs": [
    {
     "data": {
      "text/plain": [
       "array([[10, 20, 30],\n",
       "       [ 1,  1,  1]])"
      ]
     },
     "execution_count": 14,
     "metadata": {},
     "output_type": "execute_result"
    }
   ],
   "source": [
    "mat = np.array([[10, 20, 30], [1, 1, 1]])\n",
    "mat"
   ]
  },
  {
   "cell_type": "code",
   "execution_count": 15,
   "id": "03435dd1-e3be-4b15-911a-4dbafe3333c5",
   "metadata": {},
   "outputs": [
    {
     "data": {
      "text/plain": [
       "(2, 3)"
      ]
     },
     "execution_count": 15,
     "metadata": {},
     "output_type": "execute_result"
    }
   ],
   "source": [
    "mat.shape"
   ]
  },
  {
   "cell_type": "raw",
   "id": "2f3ecedc-bec4-4d7d-9cbd-82eb4ad1b726",
   "metadata": {},
   "source": [
    "# BEGIN QUESTION\n",
    "name: q4\n",
    "manual: true"
   ]
  },
  {
   "cell_type": "markdown",
   "id": "c78af2cb-b3da-43fb-a77a-1503347e5834",
   "metadata": {},
   "source": [
    "### Question 4\n",
    "\n",
    "What is the cause of error in the following code snippet? \n",
    "\n",
    "Hint: Check the `shape` of each element of the numpy array. "
   ]
  },
  {
   "cell_type": "raw",
   "id": "433bf66c-9277-4ac7-9f08-dd9a01f9f002",
   "metadata": {},
   "source": [
    "arr = np.array([[10, 20], [30]])"
   ]
  },
  {
   "cell_type": "raw",
   "id": "4da64f2b-5061-43ea-98e0-f60a175b40ea",
   "metadata": {},
   "source": [
    "# BEGIN SOLUTION"
   ]
  },
  {
   "cell_type": "markdown",
   "id": "10c2cbe0-20db-45af-a50c-4c79f69100cf",
   "metadata": {},
   "source": [
    "The cause of the error is that the number of items for first element in the array is 2, whereas for the second element is 1. Each element of a numpy array should have same number of items. See point 3 of the numpy array features as mentioned in earlier cell. "
   ]
  },
  {
   "cell_type": "raw",
   "id": "7266b818-18f2-4a47-95dc-1c6a0a413430",
   "metadata": {},
   "source": [
    "# END SOLUTION"
   ]
  },
  {
   "cell_type": "raw",
   "id": "5b4f7c2c-fb94-47d3-8c4e-7400d40229f2",
   "metadata": {},
   "source": [
    "# BEGIN TESTS"
   ]
  },
  {
   "cell_type": "raw",
   "id": "be233ad9-7508-460d-96f9-ed48b15b5619",
   "metadata": {},
   "source": [
    "# END TESTS"
   ]
  },
  {
   "cell_type": "raw",
   "id": "97cea401-762d-468c-8ea7-c1d06b843aa2",
   "metadata": {},
   "source": [
    "# END QUESTION"
   ]
  },
  {
   "cell_type": "raw",
   "id": "5205dc21-5d08-4409-9672-ad7651c67cb1",
   "metadata": {},
   "source": [
    "# BEGIN QUESTION\n",
    "name: q5"
   ]
  },
  {
   "cell_type": "markdown",
   "id": "7869c4a2-e91c-4de9-a9b9-fae0a2cf47b6",
   "metadata": {},
   "source": [
    "### Question 5\n",
    "\n",
    "Create a 2-dimensional array which looks like the following: \n",
    "\n",
    "\\begin{bmatrix}\n",
    "10 & 20 \\\\\n",
    "11 & 11 \\\\\n",
    "100 & 200 \\\\\n",
    "\\end{bmatrix}\n",
    "\n",
    "Store your answer in the variable, `your_ans`. What is the shape of the resultant array, `your_ans`? "
   ]
  },
  {
   "cell_type": "raw",
   "id": "41203522-a82a-4cf1-ae4e-d34400f90d6e",
   "metadata": {},
   "source": [
    "# BEGIN SOLUTION"
   ]
  },
  {
   "cell_type": "code",
   "execution_count": 16,
   "id": "8e43ce22-3813-41dd-98cf-64faf9a02983",
   "metadata": {},
   "outputs": [
    {
     "data": {
      "text/plain": [
       "array([[ 10,  20],\n",
       "       [ 11,  11],\n",
       "       [100, 200]])"
      ]
     },
     "execution_count": 16,
     "metadata": {},
     "output_type": "execute_result"
    }
   ],
   "source": [
    "your_ans = np.array([[10, 20], [11, 11], [100, 200]]) # SOLUTION\n",
    "your_ans"
   ]
  },
  {
   "cell_type": "raw",
   "id": "9d1fc8db-ba93-4ad7-b3be-f3f1a4e73c47",
   "metadata": {},
   "source": [
    "# END SOLUTION"
   ]
  },
  {
   "cell_type": "raw",
   "id": "faf989c6-6f7a-4ba9-8b01-bba2ca3a3671",
   "metadata": {},
   "source": [
    "# BEGIN TESTS"
   ]
  },
  {
   "cell_type": "code",
   "execution_count": 17,
   "id": "12dc5dfa-9823-42a2-a3f5-7733a2be7e0b",
   "metadata": {},
   "outputs": [
    {
     "data": {
      "text/plain": [
       "True"
      ]
     },
     "execution_count": 17,
     "metadata": {},
     "output_type": "execute_result"
    }
   ],
   "source": [
    "your_ans.shape == (3, 2)"
   ]
  },
  {
   "cell_type": "raw",
   "id": "a9c38b88-1aea-41e7-aa05-ca46676304b8",
   "metadata": {},
   "source": [
    "# END TESTS"
   ]
  },
  {
   "cell_type": "raw",
   "id": "32b3c1ff-df8e-4b0e-8ca6-66f58c850fbf",
   "metadata": {},
   "source": [
    "# END QUESTION"
   ]
  },
  {
   "cell_type": "raw",
   "id": "bf4d6a9d-fba9-4cd0-8712-45639421f7e4",
   "metadata": {},
   "source": [
    "# BEGIN QUESTION\n",
    "name: q6"
   ]
  },
  {
   "cell_type": "markdown",
   "id": "5adecdee-0326-4fef-820b-8725f225771d",
   "metadata": {},
   "source": [
    "### Question 6\n",
    "3-D arrays\n",
    "\n",
    "An array that has 2-D arrays (matrices) as its elements is called a 3-D array. \n",
    "\n",
    "Store the following 3D array in a variable, `arr3d`.  What is the shape of the resultant array? \n",
    "\n",
    "<img src=\"pics/numpyTensors.jpg\" style=\"width:300px\" />"
   ]
  },
  {
   "cell_type": "raw",
   "id": "85152f17-4044-47c8-8c90-8221b695bc6f",
   "metadata": {},
   "source": [
    "# BEGIN SOLUTION"
   ]
  },
  {
   "cell_type": "code",
   "execution_count": 18,
   "id": "56d2ff98-9cb4-4446-a90c-37ecd521352b",
   "metadata": {},
   "outputs": [
    {
     "data": {
      "text/plain": [
       "array([[[ 1,  8,  1],\n",
       "        [47,  7, 46],\n",
       "        [84, 13, 15]],\n",
       "\n",
       "       [[98,  5, 53],\n",
       "        [15,  2, 35],\n",
       "        [ 9, 25,  3]],\n",
       "\n",
       "       [[34, 59, 67],\n",
       "        [50,  1, 59],\n",
       "        [91,  5, 58]]])"
      ]
     },
     "execution_count": 18,
     "metadata": {},
     "output_type": "execute_result"
    }
   ],
   "source": [
    "arr3d = np.array([ # SOLUTION\n",
    "                [[1, 8, 1], [47, 7, 46], [84, 13, 15]], # SOLUTION NO PROMPT\n",
    "                [[98, 5, 53], [15, 2, 35], [9, 25, 3]], # SOLUTION NO PROMPT\n",
    "                [[34, 59, 67], [50, 1, 59], [91, 5, 58]] # SOLUTION NO PROMPT\n",
    "                ]) # SOLUTION NO PROMPT\n",
    "\n",
    "arr3d"
   ]
  },
  {
   "cell_type": "code",
   "execution_count": 19,
   "id": "22b7343b-9680-422f-820b-adbbea360ac4",
   "metadata": {},
   "outputs": [
    {
     "data": {
      "text/plain": [
       "(3, 3, 3)"
      ]
     },
     "execution_count": 19,
     "metadata": {},
     "output_type": "execute_result"
    }
   ],
   "source": [
    "arr3d.shape"
   ]
  },
  {
   "cell_type": "raw",
   "id": "a09dba3e-8a3a-4473-95cc-de27b5077485",
   "metadata": {},
   "source": [
    "# END SOLUTION"
   ]
  },
  {
   "cell_type": "raw",
   "id": "40045af4-582e-4762-bc6d-13d8e4907af7",
   "metadata": {},
   "source": [
    "# BEGIN TESTS"
   ]
  },
  {
   "cell_type": "code",
   "execution_count": 20,
   "id": "51dc1d8c-5a54-431c-ab3d-ae020092da7c",
   "metadata": {},
   "outputs": [
    {
     "data": {
      "text/plain": [
       "True"
      ]
     },
     "execution_count": 20,
     "metadata": {},
     "output_type": "execute_result"
    }
   ],
   "source": [
    "arr3d.shape == (3, 3, 3)"
   ]
  },
  {
   "cell_type": "raw",
   "id": "71440bf5-3d4f-4bc8-a62f-8b4d36e71c31",
   "metadata": {},
   "source": [
    "# END TESTS"
   ]
  },
  {
   "cell_type": "raw",
   "id": "6446fb48-d4dc-414b-b3b1-1d8690774bd5",
   "metadata": {},
   "source": [
    "# END QUESTION"
   ]
  },
  {
   "cell_type": "markdown",
   "id": "79b8bbc3-47ea-480f-ae94-02f809ac5b9d",
   "metadata": {},
   "source": [
    "### Comparison operators in Python"
   ]
  },
  {
   "cell_type": "markdown",
   "id": "4f0f03c1-c0d0-41e0-b4ff-f25dfb59d5a6",
   "metadata": {},
   "source": [
    "We've already covered numerical operators like +, -, *, /, //, **, and % in our discussion on expressions. Now, let’s explore another category of operators known as comparison operators. These operators are used to compare two values and produce a Boolean result (either True or False).\n",
    "\n",
    "| Operator | Meaning | Example | Value | \n",
    "| -----   | ---- | ----- | ----- |\n",
    "| < | less than | 3 < 2 | True |\n",
    "| <= | less than or equal to | 2 <= 2 | True |\n",
    "| > | greater than | 3 > 20 | False |\n",
    "| >= | greater than or equal to | 3 >= 3 | True |\n",
    "| == | equal to | 50 == 50 | True |\n",
    "| != | not equal to | 4 != 4 | False |"
   ]
  },
  {
   "cell_type": "raw",
   "id": "a9199885-fac5-4324-92b1-3b6b3632a6fc",
   "metadata": {},
   "source": [
    "# BEGIN QUESTION\n",
    "name: q7\n",
    "manual: true"
   ]
  },
  {
   "cell_type": "markdown",
   "id": "e698fc77-a86b-41eb-8a48-9532030a15ba",
   "metadata": {},
   "source": [
    "### Question 7\n",
    "\n",
    "What will be the result of the following expressions? Please determine this without executing any code."
   ]
  },
  {
   "cell_type": "raw",
   "id": "2027b0cf-4a18-4ea1-90a3-14706ea27c1b",
   "metadata": {},
   "source": [
    "expr = ((5 * 2) == (2 * 4 + 2))\n",
    "expr"
   ]
  },
  {
   "cell_type": "raw",
   "id": "27e6f3bb-0084-4eed-8b89-8dc0ac0e0c3b",
   "metadata": {},
   "source": [
    "# BEGIN SOLUTION"
   ]
  },
  {
   "cell_type": "markdown",
   "id": "2862ffb7-6cc1-42db-b3ae-f349ca41b604",
   "metadata": {},
   "source": [
    "True"
   ]
  },
  {
   "cell_type": "raw",
   "id": "b8c82455-1130-4fff-a3fc-6cfbdefbd5c6",
   "metadata": {},
   "source": [
    "# END SOLUTION"
   ]
  },
  {
   "cell_type": "raw",
   "id": "6ac9c88e-ca35-4e8b-b9b0-a4515b854353",
   "metadata": {},
   "source": [
    "# BEGIN TESTS"
   ]
  },
  {
   "cell_type": "raw",
   "id": "ad8b8a9f-4fe3-4a80-9bcd-25b12feb3518",
   "metadata": {},
   "source": [
    "# END TESTS"
   ]
  },
  {
   "cell_type": "raw",
   "id": "ce29857c-9d82-4cac-a71b-23893ad518be",
   "metadata": {},
   "source": [
    "# END QUESTION"
   ]
  },
  {
   "cell_type": "code",
   "execution_count": 21,
   "id": "4f931fda-8bf8-4532-9ec8-28f1612f626d",
   "metadata": {},
   "outputs": [
    {
     "data": {
      "text/plain": [
       "inf"
      ]
     },
     "execution_count": 21,
     "metadata": {},
     "output_type": "execute_result"
    }
   ],
   "source": [
    "10e298429 # a very large number is interpreted as infinity in python"
   ]
  },
  {
   "cell_type": "code",
   "execution_count": 22,
   "id": "800db4d1-9195-48ad-96b2-26fc3dea044b",
   "metadata": {},
   "outputs": [
    {
     "data": {
      "text/plain": [
       "0.0"
      ]
     },
     "execution_count": 22,
     "metadata": {},
     "output_type": "execute_result"
    }
   ],
   "source": [
    "10e-292393 # a very small number is interpreted as zero in python"
   ]
  },
  {
   "cell_type": "markdown",
   "id": "44291951-c050-4c80-86d9-691d4c210429",
   "metadata": {},
   "source": [
    "Python stores floating-point numbers without guaranteeing exact precision."
   ]
  },
  {
   "cell_type": "code",
   "execution_count": 23,
   "id": "c792561c-d444-43fc-a534-02bd6b5811cf",
   "metadata": {},
   "outputs": [
    {
     "data": {
      "text/plain": [
       "False"
      ]
     },
     "execution_count": 23,
     "metadata": {},
     "output_type": "execute_result"
    }
   ],
   "source": [
    "import math\n",
    "(math.sqrt(2) ** 2) == 2 # Do not compare between two floating numbers in python; always check if they are close enough"
   ]
  },
  {
   "cell_type": "code",
   "execution_count": 24,
   "id": "0e0bac46-6326-44bc-a745-ef09c5678825",
   "metadata": {},
   "outputs": [
    {
     "data": {
      "text/plain": [
       "np.True_"
      ]
     },
     "execution_count": 24,
     "metadata": {},
     "output_type": "execute_result"
    }
   ],
   "source": [
    "np.isclose(math.sqrt(2) ** 2, 2 )"
   ]
  },
  {
   "cell_type": "markdown",
   "id": "e18b2236-50ec-4da8-aa78-30cdafb55676",
   "metadata": {},
   "source": [
    "### Boolean operators in Python\n",
    "\n",
    "Boolean expressions are those that evaluate to either True or False.\n",
    "\n",
    "Python offers boolean operators as well, specifically and and or. These operators work with boolean values. For example, the expression `p and q` utilizes a boolean operator where both p and q are boolean expressions. \n",
    "\n",
    "| p | q | p and q | \n",
    "| --- | --- | --- |\n",
    "| True | True | True | \n",
    "| True | False | False |\n",
    "| False | True | False | \n",
    "| False | False | False |\n",
    "\n",
    "\n",
    "| p | q | p or q | \n",
    "| --- | --- | --- |\n",
    "| True | True | True | \n",
    "| True | False | True |\n",
    "| False | True | True | \n",
    "| False | False | False |"
   ]
  },
  {
   "cell_type": "raw",
   "id": "ed98666e-3ccb-49e9-ba64-13cf7765c277",
   "metadata": {},
   "source": [
    "# BEGIN QUESTION\n",
    "name: q8\n",
    "manual: true"
   ]
  },
  {
   "cell_type": "markdown",
   "id": "d9595b2d-3fce-4ee7-b34c-52d19757cc07",
   "metadata": {},
   "source": [
    "### Question 8\n",
    "\n",
    "What will be the result of the following expressions? Please determine this without executing any code."
   ]
  },
  {
   "cell_type": "raw",
   "id": "53a49886-cda3-40ad-9a63-90d9ea0f6f3b",
   "metadata": {},
   "source": [
    "expr = (4 < 5) and (5 == 5)"
   ]
  },
  {
   "cell_type": "raw",
   "id": "aba8f031-0e1a-4bc8-a9db-0112948a91c6",
   "metadata": {},
   "source": [
    "# BEGIN SOLUTION"
   ]
  },
  {
   "cell_type": "markdown",
   "id": "29643091-d2b8-42d3-b118-e2fd42caa48c",
   "metadata": {},
   "source": [
    "True and True; so True is the final answer"
   ]
  },
  {
   "cell_type": "raw",
   "id": "9b2938dd-fd57-4dd1-9a69-1cb9d6558955",
   "metadata": {},
   "source": [
    "# END SOLUTION"
   ]
  },
  {
   "cell_type": "raw",
   "id": "2d1dc331-20a6-4a6d-9883-113cfd882803",
   "metadata": {},
   "source": [
    "# BEGIN TESTS"
   ]
  },
  {
   "cell_type": "raw",
   "id": "1882df3e-e3b3-4a2d-8832-b6a71e76c122",
   "metadata": {},
   "source": [
    "# END TESTS"
   ]
  },
  {
   "cell_type": "raw",
   "id": "c339d73d-626e-4a21-97ea-b6e9c60223fd",
   "metadata": {},
   "source": [
    "# END QUESTION"
   ]
  },
  {
   "cell_type": "raw",
   "id": "65ce819d-7501-422c-9d62-f4857bb4cee5",
   "metadata": {},
   "source": [
    "# BEGIN QUESTION\n",
    "name: q9\n",
    "manual: true"
   ]
  },
  {
   "cell_type": "markdown",
   "id": "09285824-9954-4e6a-ab3e-430926175b2e",
   "metadata": {},
   "source": [
    "### Question 9\n",
    "\n",
    "What will be the result of the following expressions? Please determine this without executing any code."
   ]
  },
  {
   "cell_type": "raw",
   "id": "b9e4bb8a-c501-4552-9dee-f649a278dca6",
   "metadata": {},
   "source": [
    "expr = (5 < 3) or (9 != 9)"
   ]
  },
  {
   "cell_type": "raw",
   "id": "83184f0a-7cc0-41b3-8194-d07e33d9e1b7",
   "metadata": {},
   "source": [
    "# BEGIN SOLUTION"
   ]
  },
  {
   "cell_type": "markdown",
   "id": "2034f290-d839-4705-a6e7-bdb0b99a442b",
   "metadata": {},
   "source": [
    "The answer is False"
   ]
  },
  {
   "cell_type": "raw",
   "id": "bc4f83eb-cb6a-4c3c-8061-9a6ccb195ae4",
   "metadata": {},
   "source": [
    "# END SOLUTION"
   ]
  },
  {
   "cell_type": "raw",
   "id": "1d9bd332-d865-4ed0-a4f0-bfe3424a62a6",
   "metadata": {},
   "source": [
    "# BEGIN TESTS"
   ]
  },
  {
   "cell_type": "raw",
   "id": "dd736b2c-6f56-4aa9-b6c8-e7bc3f2c14b9",
   "metadata": {},
   "source": [
    "# END TESTS"
   ]
  },
  {
   "cell_type": "raw",
   "id": "4e3eb9ba-8811-42f7-a70b-9ccc38331191",
   "metadata": {},
   "source": [
    "# END QUESTION"
   ]
  },
  {
   "cell_type": "markdown",
   "id": "501f2d66-0a48-4c0d-b8ab-0257cf8ce5db",
   "metadata": {},
   "source": [
    "### Scalar computation on a numpy\n",
    "\n",
    "When a scalar value (just one number) is added to a numpy array, then that value is added to all the elements of the numpy array at the same time, and produce a new numpy aray as an output, as illustrated in the figure below: \n",
    "\n",
    "<img src=\"pics/broadcast1.jpg\" width=500px />"
   ]
  },
  {
   "cell_type": "code",
   "execution_count": 25,
   "id": "10d1b896-54c6-4f0f-9345-1a2e23d8c2c4",
   "metadata": {},
   "outputs": [
    {
     "data": {
      "text/plain": [
       "array([2, 4, 6])"
      ]
     },
     "execution_count": 25,
     "metadata": {},
     "output_type": "execute_result"
    }
   ],
   "source": [
    "arr = np.array([1, 2, 3])\n",
    "arr * 2"
   ]
  },
  {
   "cell_type": "raw",
   "id": "37935942-ab30-4d2e-a29f-30252a5c83c6",
   "metadata": {},
   "source": [
    "# BEGIN QUESTION\n",
    "name: q10\n",
    "manual: true"
   ]
  },
  {
   "cell_type": "markdown",
   "id": "01d5afe1-3a5f-46ce-8e8c-e5f755d8bd38",
   "metadata": {},
   "source": [
    "### Question 10\n",
    "\n",
    "What is the output of the following python code?  Please determine this without executing any code."
   ]
  },
  {
   "cell_type": "raw",
   "id": "7fda73ea-e4fb-46e3-94a9-f5acf7339eb5",
   "metadata": {},
   "source": [
    "arr = np.array([1, 2, 3]) + 2\n",
    "arr"
   ]
  },
  {
   "cell_type": "raw",
   "id": "97106e62-472e-4999-8357-8757820836eb",
   "metadata": {},
   "source": [
    "# BEGIN SOLUTION"
   ]
  },
  {
   "cell_type": "markdown",
   "id": "aa2acbe6-54e4-4d41-9ddf-f884f58139d4",
   "metadata": {},
   "source": [
    "arr will be array([3, 4, 5])"
   ]
  },
  {
   "cell_type": "raw",
   "id": "d52220fc-57a8-4ab7-9b76-c9550ade5d6e",
   "metadata": {},
   "source": [
    "# END SOLUTION"
   ]
  },
  {
   "cell_type": "raw",
   "id": "5d203309-1eb5-4dbb-8bcb-60c56930ad55",
   "metadata": {},
   "source": [
    "# BEGIN TESTS"
   ]
  },
  {
   "cell_type": "raw",
   "id": "e920223e-a837-4e94-b7fe-eac920b5eeb5",
   "metadata": {},
   "source": [
    "# END TESTS"
   ]
  },
  {
   "cell_type": "raw",
   "id": "1caa65e9-089d-4891-878d-b4b522a5df50",
   "metadata": {},
   "source": [
    "# END QUESTION"
   ]
  },
  {
   "cell_type": "raw",
   "id": "5aad25e0-7af6-4c39-a2d2-0da893888117",
   "metadata": {},
   "source": [
    "# BEGIN QUESTION\n",
    "name: q11\n",
    "manual: true"
   ]
  },
  {
   "cell_type": "markdown",
   "id": "e413ea80-d775-41fd-b70e-ab90064c0e2a",
   "metadata": {},
   "source": [
    "### Question 11\n",
    "\n",
    "What is the output of the following python code?  Please determine this without executing any code."
   ]
  },
  {
   "cell_type": "raw",
   "id": "3c2fffdb-1abf-40f6-be53-08c6a99cb904",
   "metadata": {},
   "source": [
    "arr = np.array([10, 20, 30]) / 10\n",
    "arr"
   ]
  },
  {
   "cell_type": "raw",
   "id": "04fd82e3-a59f-4943-9e74-da4a7985d7a6",
   "metadata": {},
   "source": [
    "# BEGIN SOLUTION"
   ]
  },
  {
   "cell_type": "markdown",
   "id": "93c8a8cc-89e3-4b07-9131-30fe4e09bcb3",
   "metadata": {},
   "source": [
    "array([1, 2, 3])"
   ]
  },
  {
   "cell_type": "raw",
   "id": "3aca4eba-bd80-4804-9aec-0276261439c8",
   "metadata": {},
   "source": [
    "# END SOLUTION"
   ]
  },
  {
   "cell_type": "raw",
   "id": "c2ed6430-d6cf-4e88-a8f1-f398a531ccf1",
   "metadata": {},
   "source": [
    "# BEGIN TESTS"
   ]
  },
  {
   "cell_type": "raw",
   "id": "a72cb876-7d0f-437d-8fb6-2ab5190bcecb",
   "metadata": {},
   "source": [
    "# END TESTS"
   ]
  },
  {
   "cell_type": "raw",
   "id": "2643801b-7c9c-4884-ad42-9c9dc0e3f6f9",
   "metadata": {},
   "source": [
    "# END QUESTION"
   ]
  },
  {
   "cell_type": "raw",
   "id": "9eac01f8-7de5-4b78-ab61-c4a7a7714674",
   "metadata": {},
   "source": [
    "# BEGIN QUESTION\n",
    "name: q12\n",
    "manual: true"
   ]
  },
  {
   "cell_type": "markdown",
   "id": "11b51181-939e-4947-bc66-1a26e774ee32",
   "metadata": {},
   "source": [
    "### Question 12\n",
    "\n",
    "What is the output of the following python code?  Please determine this without executing any code."
   ]
  },
  {
   "cell_type": "raw",
   "id": "cee1546a-c47c-451f-8da8-2d2963d4accb",
   "metadata": {},
   "source": [
    "arr = np.array([1, 2, 3]) < 3\n",
    "arr"
   ]
  },
  {
   "cell_type": "raw",
   "id": "019223e2-c5d3-4f3e-aae7-397bb9090d8e",
   "metadata": {},
   "source": [
    "# BEGIN SOLUTION"
   ]
  },
  {
   "cell_type": "markdown",
   "id": "f5d3ee8d-b7be-486d-987c-8af9145a3e70",
   "metadata": {},
   "source": [
    "array([ True,  True, False])"
   ]
  },
  {
   "cell_type": "raw",
   "id": "24550c9e-5599-45b5-9e4e-f02bf47d37e0",
   "metadata": {},
   "source": [
    "# END SOLUTION"
   ]
  },
  {
   "cell_type": "raw",
   "id": "ee82c6ab-bcf7-431b-b40c-7eb167d77291",
   "metadata": {},
   "source": [
    "# BEGIN TESTS"
   ]
  },
  {
   "cell_type": "raw",
   "id": "746e59b4-d960-4938-8f98-c3b3c9aef532",
   "metadata": {},
   "source": [
    "# END TESTS"
   ]
  },
  {
   "cell_type": "raw",
   "id": "23a6fb66-9a08-4d2d-81b8-d2a7bca51b58",
   "metadata": {},
   "source": [
    "# END QUESTION"
   ]
  },
  {
   "cell_type": "raw",
   "id": "85d04f28-5e3a-4442-9184-604a8e148e35",
   "metadata": {},
   "source": [
    "# BEGIN QUESTION\n",
    "name: q13\n",
    "manual: true"
   ]
  },
  {
   "cell_type": "markdown",
   "id": "4223d053-d2a0-4486-9f2f-d2343807ce44",
   "metadata": {},
   "source": [
    "### Question 13\n",
    "\n",
    "What is the output of the following python code?  Please determine this without executing any code."
   ]
  },
  {
   "cell_type": "raw",
   "id": "fba7f55d-be56-44c3-8602-5d50608edabc",
   "metadata": {},
   "source": [
    "arr = np.array([1, 2, 3]) == 3\n",
    "arr"
   ]
  },
  {
   "cell_type": "raw",
   "id": "79f6fd0c-5b98-413a-9262-129dcb6a4ce8",
   "metadata": {},
   "source": [
    "# BEGIN SOLUTION"
   ]
  },
  {
   "cell_type": "markdown",
   "id": "faf3e4e0-9308-45ef-ab71-0f0802339f2c",
   "metadata": {},
   "source": [
    "array([False, False,  True])"
   ]
  },
  {
   "cell_type": "raw",
   "id": "05290477-7aaa-4f58-b4f4-7f2399df5463",
   "metadata": {},
   "source": [
    "# END SOLUTION"
   ]
  },
  {
   "cell_type": "raw",
   "id": "5280e5bb-cab6-4412-bfd6-a4a1c80c15b6",
   "metadata": {},
   "source": [
    "# BEGIN TESTS"
   ]
  },
  {
   "cell_type": "raw",
   "id": "c0c6e53e-d012-445c-a6fe-074a3c9b7196",
   "metadata": {},
   "source": [
    "# END TESTS"
   ]
  },
  {
   "cell_type": "raw",
   "id": "5d5fae26-cadb-4a5b-a457-cfabb0b87403",
   "metadata": {},
   "source": [
    "# END QUESTION"
   ]
  },
  {
   "cell_type": "raw",
   "id": "606463aa-9bd5-40c5-b3b8-388e9c953e3a",
   "metadata": {},
   "source": [
    "# BEGIN QUESTION\n",
    "name: q14"
   ]
  },
  {
   "cell_type": "markdown",
   "id": "e7657775-3269-4433-b07f-faa6c2088f76",
   "metadata": {},
   "source": [
    "### Question 14\n",
    "\n",
    "Given the temperatures of five cities in Celsius—14, 53, 19, and 25—write a Python program to convert these temperatures to Fahrenheit. The formula for converting Celsius to Fahrenheit is:\n",
    "\n",
    "$temp\\_in\\_fahr = \\frac{9 * temp\\_in\\_celcius}{5} + 32$\n",
    "\n",
    "Store your answer in a variable, `temps_in_fahr`. \n",
    "\n",
    "Hint: \n",
    "1. Create a numpy array, which stores the temperatures in celcius\n",
    "2. Then use the scalar computation trick to compute the temperatures in fahrenheit all at once"
   ]
  },
  {
   "cell_type": "raw",
   "id": "077f4311-85b9-405c-aa46-1878ac13c941",
   "metadata": {},
   "source": [
    "# BEGIN SOLUTION"
   ]
  },
  {
   "cell_type": "code",
   "execution_count": 26,
   "id": "d1b8d969-1b59-44d9-9801-42a1f90e98c1",
   "metadata": {},
   "outputs": [
    {
     "data": {
      "text/plain": [
       "array([ 57.2, 127.4,  66.2,  77. ])"
      ]
     },
     "execution_count": 26,
     "metadata": {},
     "output_type": "execute_result"
    }
   ],
   "source": [
    "temps_in_cel = np.array([14, 53, 19, 25]) # SOLUTION\n",
    "temps_in_fahr = (9/5) * temps_in_cel + 32 # SOLUTION\n",
    "temps_in_fahr "
   ]
  },
  {
   "cell_type": "raw",
   "id": "f4c04e43-53e7-4756-a18f-f5cde682c8e3",
   "metadata": {},
   "source": [
    "# END SOLUTION"
   ]
  },
  {
   "cell_type": "raw",
   "id": "631c9552-0220-48e8-9ecd-038352c1b0fd",
   "metadata": {},
   "source": [
    "# BEGIN TESTS"
   ]
  },
  {
   "cell_type": "code",
   "execution_count": 27,
   "id": "44575cec-c71e-4270-b14d-fbc737840704",
   "metadata": {},
   "outputs": [
    {
     "data": {
      "text/plain": [
       "np.True_"
      ]
     },
     "execution_count": 27,
     "metadata": {},
     "output_type": "execute_result"
    }
   ],
   "source": [
    "temps_in_fahr[-1] == 77"
   ]
  },
  {
   "cell_type": "code",
   "execution_count": 28,
   "id": "310e652f-6c7d-4863-a1c2-30e12a867b5e",
   "metadata": {},
   "outputs": [
    {
     "data": {
      "text/plain": [
       "True"
      ]
     },
     "execution_count": 28,
     "metadata": {},
     "output_type": "execute_result"
    }
   ],
   "source": [
    "len(temps_in_fahr) == 4"
   ]
  },
  {
   "cell_type": "raw",
   "id": "1e379834-97cb-4181-866c-d2f4150f6156",
   "metadata": {},
   "source": [
    "# END TESTS"
   ]
  },
  {
   "cell_type": "raw",
   "id": "b2fa6f0e-ba74-4d72-9bb1-3b759026c5d4",
   "metadata": {},
   "source": [
    "# END QUESTION"
   ]
  },
  {
   "cell_type": "markdown",
   "id": "7928ea04-c1f7-423a-a48f-dfe466c1d8cc",
   "metadata": {},
   "source": [
    "### Computation between two numpy arrays\n",
    "\n",
    "Sometimes, we need to perform computations on two arrays, such as adding or multiplying them. These operations are known as elementwise addition or multiplication, where each element in one array is combined with the corresponding element in the other array. To perform these operations, the two arrays must have the same shape.\n",
    "\n",
    "For example, consider the table below showing the number of students graduating from various colleges at a university:\n",
    "\n",
    "| College name | Number of students graduating in 2019 | Number of students graduating in 2022 |\n",
    "| --- | :----: | :---: |\n",
    "| College of Science and Mathematics | 457 | 532 |\n",
    "| College of Arts | 385 | 433 | \n",
    "| College of Business | 573 | 501 |\n",
    "| College of Education | 382 | 293 |\n",
    "\n",
    "\n",
    "Create a Python code to determine the difference in the number of students graduating from each college in 2019 compared to 2022."
   ]
  },
  {
   "cell_type": "code",
   "execution_count": 29,
   "id": "5f44ee0b-e636-4eae-a42e-199279b55450",
   "metadata": {},
   "outputs": [
    {
     "data": {
      "text/plain": [
       "array([ 75,  48, -72, -90])"
      ]
     },
     "execution_count": 29,
     "metadata": {},
     "output_type": "execute_result"
    }
   ],
   "source": [
    "studs_in_2019 = np.array([457, 385, 573, 382])\n",
    "studs_in_2022 = np.array([532, 433, 501, 292])\n",
    "\n",
    "diff = studs_in_2022 - studs_in_2019\n",
    "diff "
   ]
  },
  {
   "cell_type": "markdown",
   "id": "7f1eda05-d662-4d44-bfca-44c39cb0730b",
   "metadata": {},
   "source": [
    "Keep in mind that for two NumPy arrays to be subtracted from one another, they must have the same shape. In this example, both `studs_in_2019` and `studs_in_2022` have a shape of (4,)."
   ]
  },
  {
   "cell_type": "raw",
   "id": "5379afab-1bba-4f1f-8a36-6606ed4256be",
   "metadata": {},
   "source": [
    "# BEGIN QUESTION\n",
    "name: q15"
   ]
  },
  {
   "cell_type": "markdown",
   "id": "dbda5ced-2aba-4f51-ac54-9d1574bd5e77",
   "metadata": {},
   "source": [
    "### Question 15\n",
    "\n",
    "Suppose you are given two matrices A and B, where  $A = \\begin{bmatrix}\n",
    "1 & 2 \\\\\n",
    "1 & 1 \\\\\n",
    "10 & 20 \\\\\n",
    "\\end{bmatrix}$ and $B = \\begin{bmatrix}\n",
    "1 & 1 \\\\\n",
    "2 & 2 \\\\\n",
    "3 & 3 \\\\\n",
    "\\end{bmatrix}$ . Write a python code to add these two matrices together and store your answer in a variable, `C`. "
   ]
  },
  {
   "cell_type": "raw",
   "id": "a8140e99-101f-42e8-b5fd-b093e4291998",
   "metadata": {},
   "source": [
    "# BEGIN SOLUTION"
   ]
  },
  {
   "cell_type": "code",
   "execution_count": 30,
   "id": "7013d050-c271-42e4-992b-177415b650cd",
   "metadata": {},
   "outputs": [
    {
     "data": {
      "text/plain": [
       "array([[ 2,  3],\n",
       "       [ 3,  3],\n",
       "       [13, 23]])"
      ]
     },
     "execution_count": 30,
     "metadata": {},
     "output_type": "execute_result"
    }
   ],
   "source": [
    "A = np.array([[1, 2], [1, 1], [10, 20]]) # SOLUTION\n",
    "B = np.array([[1, 1], [2, 2], [3, 3]]) # SOLUTION\n",
    "C = A + B # SOLUTION \n",
    "C"
   ]
  },
  {
   "cell_type": "raw",
   "id": "f5e8a91c-ee80-49a0-b83d-27c46c7c406a",
   "metadata": {},
   "source": [
    "# END SOLUTION"
   ]
  },
  {
   "cell_type": "raw",
   "id": "4094e572-370a-405d-8fee-360b352f70de",
   "metadata": {},
   "source": [
    "# BEGIN TESTS"
   ]
  },
  {
   "cell_type": "code",
   "execution_count": 31,
   "id": "c3cf99d7-c31e-49e8-8541-10e355c7d664",
   "metadata": {},
   "outputs": [
    {
     "data": {
      "text/plain": [
       "True"
      ]
     },
     "execution_count": 31,
     "metadata": {},
     "output_type": "execute_result"
    }
   ],
   "source": [
    "C.shape == (3, 2)"
   ]
  },
  {
   "cell_type": "code",
   "execution_count": 32,
   "id": "8c83b6bf-3429-4d3b-8e64-a965d7b8a765",
   "metadata": {},
   "outputs": [
    {
     "data": {
      "text/plain": [
       "np.True_"
      ]
     },
     "execution_count": 32,
     "metadata": {},
     "output_type": "execute_result"
    }
   ],
   "source": [
    "C[-1, -1].item() == 23"
   ]
  },
  {
   "cell_type": "raw",
   "id": "458d5076-49e0-491b-a5cb-8db4bfda9bc7",
   "metadata": {},
   "source": [
    "# END TESTS"
   ]
  },
  {
   "cell_type": "raw",
   "id": "26ac6546-7fe6-44ce-913c-5e893e135298",
   "metadata": {},
   "source": [
    "# END QUESTION"
   ]
  },
  {
   "cell_type": "markdown",
   "id": "4f9b12e5-4b12-41a6-bdbb-d4a7c704a141",
   "metadata": {},
   "source": [
    "### Numpy methods \n",
    "\n",
    "#### Range (np.arange)\n",
    "\n",
    "A range is an array of numbers arranged in either increasing or decreasing order, with each number separated by a consistent interval. Ranges are quite useful in various situations, making it important to understand them. You can create ranges using the `np.arange` method, which can accept one, two, or three arguments: the start, end, and step size.\n",
    "\n",
    "If you provide one argument to `np.arange`, it is treated as the end value, with the start set to 0 and the step to 1 by default. When you provide two arguments, they specify the start and end values, with a default step of 1. Supplying three arguments explicitly sets the start, end, and step values."
   ]
  },
  {
   "cell_type": "code",
   "execution_count": 33,
   "id": "95d47a68-a4df-43fe-86a3-8553e4ba62f9",
   "metadata": {},
   "outputs": [
    {
     "data": {
      "text/plain": [
       "array([0, 1, 2, 3, 4, 5, 6, 7, 8, 9])"
      ]
     },
     "execution_count": 33,
     "metadata": {},
     "output_type": "execute_result"
    }
   ],
   "source": [
    "np.arange(10) # here start = 0 and step = 1 are set by default"
   ]
  },
  {
   "cell_type": "code",
   "execution_count": 34,
   "id": "2e5ca2d7-28d4-49f2-b6b7-b15d5f2951c6",
   "metadata": {},
   "outputs": [
    {
     "data": {
      "text/plain": [
       "array([3, 4, 5, 6, 7, 8])"
      ]
     },
     "execution_count": 34,
     "metadata": {},
     "output_type": "execute_result"
    }
   ],
   "source": [
    "np.arange(3, 9) # here start = 3, end = 8, step = 1 by default"
   ]
  },
  {
   "cell_type": "code",
   "execution_count": 35,
   "id": "2db1119b-f231-4942-88d1-639c6eaddcc6",
   "metadata": {},
   "outputs": [
    {
     "data": {
      "text/plain": [
       "array([ 3,  8, 13, 18, 23, 28])"
      ]
     },
     "execution_count": 35,
     "metadata": {},
     "output_type": "execute_result"
    }
   ],
   "source": [
    "np.arange(3, 30, 5) # start = 3, end = 29, step = 5 "
   ]
  },
  {
   "cell_type": "markdown",
   "id": "ef37add0-febb-4f65-bbbf-281bf33e9d82",
   "metadata": {},
   "source": [
    "The start, end, and step values can all be positive or negative and can be whole numbers or fractions. For example:"
   ]
  },
  {
   "cell_type": "code",
   "execution_count": 36,
   "id": "c885c38e-b4b3-49ab-8074-21f8cea9070b",
   "metadata": {},
   "outputs": [
    {
     "data": {
      "text/plain": [
       "array([ 1.5,  1. ,  0.5,  0. , -0.5, -1. , -1.5])"
      ]
     },
     "execution_count": 36,
     "metadata": {},
     "output_type": "execute_result"
    }
   ],
   "source": [
    "np.arange(1.5, -2, -0.5) # start = 1.5, end = -1.99999.... , step = -0.5"
   ]
  },
  {
   "cell_type": "markdown",
   "id": "4feb99b3-18ce-4f05-bd20-09c072faa3a0",
   "metadata": {},
   "source": [
    "### Accessing elements of a numpy array\n",
    "\n",
    "Like python lists and strings, numpy array also maintain index for each element. The element of a numpy array can be accessed using these indices. For example: "
   ]
  },
  {
   "cell_type": "code",
   "execution_count": 37,
   "id": "0a30b249-a237-4a59-bc55-aa43539827f2",
   "metadata": {},
   "outputs": [
    {
     "data": {
      "text/plain": [
       "array([0, 1, 2, 3, 4, 5, 6, 7, 8, 9])"
      ]
     },
     "execution_count": 37,
     "metadata": {},
     "output_type": "execute_result"
    }
   ],
   "source": [
    "arr = np.arange(10)\n",
    "arr"
   ]
  },
  {
   "cell_type": "code",
   "execution_count": 38,
   "id": "e4e79b67-b221-4eb2-a25d-461b4c50e66f",
   "metadata": {},
   "outputs": [
    {
     "data": {
      "text/plain": [
       "np.int64(0)"
      ]
     },
     "execution_count": 38,
     "metadata": {},
     "output_type": "execute_result"
    }
   ],
   "source": [
    "arr[0] # returns the first element of the numpy array"
   ]
  },
  {
   "cell_type": "code",
   "execution_count": 39,
   "id": "73203b90-8a09-4d19-bc01-544dd0cf7bd4",
   "metadata": {},
   "outputs": [
    {
     "data": {
      "text/plain": [
       "np.int64(4)"
      ]
     },
     "execution_count": 39,
     "metadata": {},
     "output_type": "execute_result"
    }
   ],
   "source": [
    "arr[4] # returns the fifth element of the numpy array"
   ]
  },
  {
   "cell_type": "markdown",
   "id": "bb0123b7-e49c-4859-8a79-79b1cc9668f6",
   "metadata": {},
   "source": [
    "You can also do slicing on a numpy array"
   ]
  },
  {
   "cell_type": "code",
   "execution_count": 40,
   "id": "eb4c1475-5e7a-4a10-84fd-14d286e97644",
   "metadata": {},
   "outputs": [
    {
     "data": {
      "text/plain": [
       "array([4, 5, 6, 7, 8])"
      ]
     },
     "execution_count": 40,
     "metadata": {},
     "output_type": "execute_result"
    }
   ],
   "source": [
    "arr[4: 9]"
   ]
  },
  {
   "cell_type": "code",
   "execution_count": 41,
   "id": "be5a124e-cea5-4a27-b628-1c199e1be5e2",
   "metadata": {},
   "outputs": [
    {
     "data": {
      "text/plain": [
       "array([0, 1, 2, 3, 4])"
      ]
     },
     "execution_count": 41,
     "metadata": {},
     "output_type": "execute_result"
    }
   ],
   "source": [
    "arr[:5]"
   ]
  },
  {
   "cell_type": "code",
   "execution_count": 42,
   "id": "fe75f371-5ac6-426e-8ba3-2fd92a47db4e",
   "metadata": {},
   "outputs": [
    {
     "data": {
      "text/plain": [
       "array([1, 3, 5, 7, 9])"
      ]
     },
     "execution_count": 42,
     "metadata": {},
     "output_type": "execute_result"
    }
   ],
   "source": [
    "arr[1: : 2]"
   ]
  },
  {
   "cell_type": "raw",
   "id": "3230d175-eeb4-4905-bc14-51234d70cd0a",
   "metadata": {},
   "source": [
    "# BEGIN QUESTION\n",
    "name: q16"
   ]
  },
  {
   "cell_type": "markdown",
   "id": "32df5ea0-c0d2-4488-bafd-9c48480241b7",
   "metadata": {},
   "source": [
    "### Question 16\n",
    "\n",
    "You are given the following matrix, $A = \\begin{bmatrix}\n",
    "1 & 2 & 3 & 4 \\\\\n",
    "10 & 20 & 30 & 40 \\\\\n",
    "100 & 200 & 300 & 400 \\\\\n",
    "-10 & -20 & -30 & -40 \\\\\n",
    "-1 & -2 & -3 & -4 \\\\\n",
    "\\end{bmatrix}$\n",
    "\n",
    "\n",
    "Your task is to write a python code to only access the elements of 3rd row (100, 200, 300, 400) from the matrix A. Your answer should be of shape (4, )"
   ]
  },
  {
   "cell_type": "raw",
   "id": "2bb4f044-8340-4679-a5da-361d1f36302c",
   "metadata": {},
   "source": [
    "# BEGIN SOLUTION"
   ]
  },
  {
   "cell_type": "code",
   "execution_count": 43,
   "id": "bfe78c3e-e1d4-4479-a415-56df732528c0",
   "metadata": {},
   "outputs": [
    {
     "data": {
      "text/plain": [
       "array([[  1,   2,   3,   4],\n",
       "       [ 10,  20,  30,  40],\n",
       "       [100, 200, 300, 400],\n",
       "       [-10, -20, -30, -40],\n",
       "       [ -1,  -2,  -3,  -4]])"
      ]
     },
     "execution_count": 43,
     "metadata": {},
     "output_type": "execute_result"
    }
   ],
   "source": [
    "A = np.array([\n",
    "             [1, 2, 3, 4],\n",
    "             [10, 20, 30, 40],\n",
    "             [100, 200, 300, 400],\n",
    "             [-10, -20, -30, -40],\n",
    "             [-1, -2, -3, -4]\n",
    "            ])\n",
    "\n",
    "A"
   ]
  },
  {
   "cell_type": "code",
   "execution_count": 44,
   "id": "a7b6a119-88c2-4d7e-ad85-43ecccafb057",
   "metadata": {},
   "outputs": [
    {
     "data": {
      "text/plain": [
       "(5, 4)"
      ]
     },
     "execution_count": 44,
     "metadata": {},
     "output_type": "execute_result"
    }
   ],
   "source": [
    "A.shape"
   ]
  },
  {
   "cell_type": "code",
   "execution_count": 45,
   "id": "40cab323-a384-45fd-afbe-f42a5819f9e0",
   "metadata": {},
   "outputs": [
    {
     "data": {
      "text/plain": [
       "array([100, 200, 300, 400])"
      ]
     },
     "execution_count": 45,
     "metadata": {},
     "output_type": "execute_result"
    }
   ],
   "source": [
    "your_ans = A[2] # SOLUTION\n",
    "your_ans"
   ]
  },
  {
   "cell_type": "raw",
   "id": "d6ec9388-eb60-4105-95a5-3bec221873d1",
   "metadata": {},
   "source": [
    "# END SOLUTION"
   ]
  },
  {
   "cell_type": "raw",
   "id": "31a4adf1-e6e0-4ea1-b7b0-c2835decb6e5",
   "metadata": {},
   "source": [
    "# BEGIN TESTS"
   ]
  },
  {
   "cell_type": "code",
   "execution_count": 46,
   "id": "f3a46a28-ab51-431a-81da-8a5ba6ddca26",
   "metadata": {},
   "outputs": [
    {
     "data": {
      "text/plain": [
       "True"
      ]
     },
     "execution_count": 46,
     "metadata": {},
     "output_type": "execute_result"
    }
   ],
   "source": [
    "your_ans.shape == (4,)"
   ]
  },
  {
   "cell_type": "code",
   "execution_count": 47,
   "id": "4a746580-c784-432e-8973-cc5b90e8e61f",
   "metadata": {},
   "outputs": [
    {
     "data": {
      "text/plain": [
       "True"
      ]
     },
     "execution_count": 47,
     "metadata": {},
     "output_type": "execute_result"
    }
   ],
   "source": [
    "your_ans[-1].item() == 400"
   ]
  },
  {
   "cell_type": "raw",
   "id": "85936c31-90cb-43d7-a8eb-540a89c255c6",
   "metadata": {},
   "source": [
    "# END TESTS"
   ]
  },
  {
   "cell_type": "raw",
   "id": "fd78d77c-f296-4ce4-a6b1-607060186566",
   "metadata": {},
   "source": [
    "# END QUESTION"
   ]
  },
  {
   "cell_type": "raw",
   "id": "ce87deef-dbfb-4d28-9232-0af3e82ea2e2",
   "metadata": {},
   "source": [
    "# BEGIN QUESTION\n",
    "name: q17"
   ]
  },
  {
   "cell_type": "markdown",
   "id": "92d6faaa-14bd-44f8-90f4-9c97df33746e",
   "metadata": {},
   "source": [
    "### Question 17\n",
    "\n",
    "Given the array A (see Q. 16), write a python code to access first two rows of the matrix. Your answer should be $\\begin{bmatrix}\n",
    "1 & 2 & 3 & 4 \\\\\n",
    "10 & 20 & 30 & 40 \\\\\n",
    "\\end{bmatrix}$ \n",
    "of shape (2, 4)"
   ]
  },
  {
   "cell_type": "raw",
   "id": "8463b4cc-4ef3-4800-9f20-4b9c3e50242a",
   "metadata": {},
   "source": [
    "# BEGIN SOLUTION"
   ]
  },
  {
   "cell_type": "code",
   "execution_count": 48,
   "id": "eba1618f-a1b4-482a-bada-200751d72184",
   "metadata": {},
   "outputs": [
    {
     "data": {
      "text/plain": [
       "array([[ 1,  2,  3,  4],\n",
       "       [10, 20, 30, 40]])"
      ]
     },
     "execution_count": 48,
     "metadata": {},
     "output_type": "execute_result"
    }
   ],
   "source": [
    "your_ans = A[:2] # SOLUTION\n",
    "your_ans"
   ]
  },
  {
   "cell_type": "code",
   "execution_count": 49,
   "id": "cabdc834-875b-4611-9907-29c07eae07a1",
   "metadata": {},
   "outputs": [
    {
     "data": {
      "text/plain": [
       "(2, 4)"
      ]
     },
     "execution_count": 49,
     "metadata": {},
     "output_type": "execute_result"
    }
   ],
   "source": [
    "your_ans.shape"
   ]
  },
  {
   "cell_type": "raw",
   "id": "0b23f6f0-32d9-4c1e-a2a1-6b9ea30a8959",
   "metadata": {},
   "source": [
    "# END SOLUTION"
   ]
  },
  {
   "cell_type": "raw",
   "id": "d43eb7a8-eb00-4324-913f-732ee4bd934d",
   "metadata": {},
   "source": [
    "# BEGIN TESTS"
   ]
  },
  {
   "cell_type": "code",
   "execution_count": 50,
   "id": "34f7728d-72b7-4d78-afca-a14235ae99fe",
   "metadata": {},
   "outputs": [
    {
     "data": {
      "text/plain": [
       "True"
      ]
     },
     "execution_count": 50,
     "metadata": {},
     "output_type": "execute_result"
    }
   ],
   "source": [
    "your_ans.shape == (2,4)"
   ]
  },
  {
   "cell_type": "code",
   "execution_count": 51,
   "id": "0d056b91-f860-46f3-acdf-f60b253b126f",
   "metadata": {},
   "outputs": [
    {
     "data": {
      "text/plain": [
       "True"
      ]
     },
     "execution_count": 51,
     "metadata": {},
     "output_type": "execute_result"
    }
   ],
   "source": [
    "your_ans[-1,-1].item() == 40"
   ]
  },
  {
   "cell_type": "raw",
   "id": "a5df943a-da33-4516-908e-374b81b3cef0",
   "metadata": {},
   "source": [
    "# END TESTS"
   ]
  },
  {
   "cell_type": "raw",
   "id": "689b5da0-07ba-4ccb-ad85-31d4ba4dac4b",
   "metadata": {},
   "source": [
    "# END QUESTION"
   ]
  },
  {
   "cell_type": "raw",
   "id": "d7e84e5f-7893-4a59-b7ba-59e8555b48a5",
   "metadata": {},
   "source": [
    "# BEGIN QUESTION\n",
    "name: q18"
   ]
  },
  {
   "cell_type": "markdown",
   "id": "29747893-3e48-41e4-a4d8-a11764b86ba4",
   "metadata": {},
   "source": [
    "### Question 18\n",
    "\n",
    "Given the array A (see Q. 16), write a python code to access the last two rows of the matrix. Your answer should be $\\begin{bmatrix}\n",
    "-10 & -20 & -30 & -40 \\\\\n",
    "-1 & -2 & -3 & -4 \\\\\n",
    "\\end{bmatrix}$ \n",
    "of shape (2, 4)"
   ]
  },
  {
   "cell_type": "raw",
   "id": "4548c2ab-f49d-4012-b448-fbc314e67f90",
   "metadata": {},
   "source": [
    "# BEGIN SOLUTION"
   ]
  },
  {
   "cell_type": "code",
   "execution_count": 52,
   "id": "cfebacf8-2fca-45d2-ac5c-da6f347abcd2",
   "metadata": {},
   "outputs": [
    {
     "data": {
      "text/plain": [
       "array([[-10, -20, -30, -40],\n",
       "       [ -1,  -2,  -3,  -4]])"
      ]
     },
     "execution_count": 52,
     "metadata": {},
     "output_type": "execute_result"
    }
   ],
   "source": [
    "your_ans = A[-2:] # SOLUTION\n",
    "your_ans"
   ]
  },
  {
   "cell_type": "raw",
   "id": "9662bc7a-e0ab-44d9-be29-6561e0cf5d49",
   "metadata": {},
   "source": [
    "# END SOLUTION"
   ]
  },
  {
   "cell_type": "code",
   "execution_count": 53,
   "id": "04bb2bc4-5ec8-4ba1-81e5-784a7478562d",
   "metadata": {},
   "outputs": [
    {
     "data": {
      "text/plain": [
       "(2, 4)"
      ]
     },
     "execution_count": 53,
     "metadata": {},
     "output_type": "execute_result"
    }
   ],
   "source": [
    "your_ans.shape"
   ]
  },
  {
   "cell_type": "raw",
   "id": "8f7de858-fefc-4ed0-b2d8-d96fed27e93a",
   "metadata": {},
   "source": [
    "# BEGIN TESTS"
   ]
  },
  {
   "cell_type": "code",
   "execution_count": 54,
   "id": "a1cd65b7-45df-42ab-a4d3-f5f55286496e",
   "metadata": {},
   "outputs": [
    {
     "data": {
      "text/plain": [
       "True"
      ]
     },
     "execution_count": 54,
     "metadata": {},
     "output_type": "execute_result"
    }
   ],
   "source": [
    "your_ans.shape == (2,4)"
   ]
  },
  {
   "cell_type": "code",
   "execution_count": 55,
   "id": "bf249b35-fc56-4ff9-b417-d1fe66a5a7df",
   "metadata": {},
   "outputs": [
    {
     "data": {
      "text/plain": [
       "True"
      ]
     },
     "execution_count": 55,
     "metadata": {},
     "output_type": "execute_result"
    }
   ],
   "source": [
    "your_ans[-1,-1].item() == -4"
   ]
  },
  {
   "cell_type": "raw",
   "id": "3429f6e2-f109-4731-811d-f1b65602b2c1",
   "metadata": {},
   "source": [
    "# END TESTS"
   ]
  },
  {
   "cell_type": "raw",
   "id": "f0d06f3c-c9a1-4dd1-9915-a27310b552e2",
   "metadata": {},
   "source": [
    "# END QUESTION"
   ]
  },
  {
   "cell_type": "raw",
   "id": "684350b0-a8f8-47e0-9ebc-183cd66583f3",
   "metadata": {},
   "source": [
    "# BEGIN QUESTION\n",
    "name: q19"
   ]
  },
  {
   "cell_type": "markdown",
   "id": "172fa2ae-a3e5-499e-85e8-737c2d87b22a",
   "metadata": {},
   "source": [
    "### Question 19\n",
    "\n",
    "Given the array A (see Q. 16), write a python code to access the first two columns of the matrix. Your answer should be $\\begin{bmatrix}\n",
    "1 & 2  \\\\\n",
    "10 & 20  \\\\\n",
    "100 & 200  \\\\\n",
    "-10 & -20  \\\\\n",
    "-1 & -2  \\\\\n",
    "\\end{bmatrix}$\n",
    "of shape (5, 2)"
   ]
  },
  {
   "cell_type": "raw",
   "id": "e10766f7-6606-4b80-bc43-5a94bdf6c577",
   "metadata": {},
   "source": [
    "# BEGIN SOLUTION"
   ]
  },
  {
   "cell_type": "code",
   "execution_count": 56,
   "id": "788f46e1-974e-46f4-bb5d-5f9b572b5adf",
   "metadata": {},
   "outputs": [
    {
     "data": {
      "text/plain": [
       "array([[  1,   2],\n",
       "       [ 10,  20],\n",
       "       [100, 200],\n",
       "       [-10, -20],\n",
       "       [ -1,  -2]])"
      ]
     },
     "execution_count": 56,
     "metadata": {},
     "output_type": "execute_result"
    }
   ],
   "source": [
    "your_ans = A[:, :2] # SOLUTION\n",
    "your_ans"
   ]
  },
  {
   "cell_type": "code",
   "execution_count": 57,
   "id": "75df5499-7ad7-4166-a770-5f8dbc5719b9",
   "metadata": {},
   "outputs": [
    {
     "data": {
      "text/plain": [
       "(5, 2)"
      ]
     },
     "execution_count": 57,
     "metadata": {},
     "output_type": "execute_result"
    }
   ],
   "source": [
    "your_ans.shape"
   ]
  },
  {
   "cell_type": "raw",
   "id": "4c2afbca-9c71-4580-9f82-f61014a215b0",
   "metadata": {},
   "source": [
    "# END SOLUTION"
   ]
  },
  {
   "cell_type": "raw",
   "id": "eb726949-8d8a-4171-b069-48381010350d",
   "metadata": {},
   "source": [
    "# BEGIN TESTS"
   ]
  },
  {
   "cell_type": "code",
   "execution_count": 58,
   "id": "41a3b5cb-c651-4c3c-b59f-1f4b40746302",
   "metadata": {},
   "outputs": [
    {
     "data": {
      "text/plain": [
       "True"
      ]
     },
     "execution_count": 58,
     "metadata": {},
     "output_type": "execute_result"
    }
   ],
   "source": [
    "your_ans.shape == (5, 2)"
   ]
  },
  {
   "cell_type": "code",
   "execution_count": 59,
   "id": "e50162cf-83ad-4300-ae2d-5e28056fbb50",
   "metadata": {},
   "outputs": [
    {
     "data": {
      "text/plain": [
       "True"
      ]
     },
     "execution_count": 59,
     "metadata": {},
     "output_type": "execute_result"
    }
   ],
   "source": [
    "your_ans[-1,-1].item() == -2"
   ]
  },
  {
   "cell_type": "raw",
   "id": "82aab420-3c7b-45c4-92c2-acb53943ebfa",
   "metadata": {},
   "source": [
    "# END TESTS"
   ]
  },
  {
   "cell_type": "raw",
   "id": "4c2405d3-35c7-422a-8e49-4c28af1a8b85",
   "metadata": {},
   "source": [
    "# END QUESTION"
   ]
  },
  {
   "cell_type": "raw",
   "id": "219d081f-8965-401c-9466-5a7eb740df60",
   "metadata": {},
   "source": [
    "# BEGIN QUESTION\n",
    "name: q20"
   ]
  },
  {
   "cell_type": "markdown",
   "id": "18c1c1a9-8657-4972-b167-d3482a298fdf",
   "metadata": {},
   "source": [
    "### Question 20\n",
    "\n",
    "Given the array A (see Q. 16), write a python code to access the last two columns of the matrix. Your answer should be \n",
    "$\\begin{bmatrix}\n",
    "3 & 4 \\\\\n",
    "30 & 40 \\\\\n",
    "300 & 400 \\\\\n",
    "-30 & -40 \\\\\n",
    "-3 & -4 \\\\\n",
    "\\end{bmatrix}$\n",
    "of shape (5, 2)"
   ]
  },
  {
   "cell_type": "raw",
   "id": "ef1a8102-9939-4f5f-a2ab-a8299bc46a86",
   "metadata": {},
   "source": [
    "# BEGIN SOLUTION"
   ]
  },
  {
   "cell_type": "code",
   "execution_count": 60,
   "id": "328aa6cd-0e60-487c-81ef-90bd9ca77d33",
   "metadata": {},
   "outputs": [
    {
     "data": {
      "text/plain": [
       "array([[  3,   4],\n",
       "       [ 30,  40],\n",
       "       [300, 400],\n",
       "       [-30, -40],\n",
       "       [ -3,  -4]])"
      ]
     },
     "execution_count": 60,
     "metadata": {},
     "output_type": "execute_result"
    }
   ],
   "source": [
    "your_ans = A[:, -2:] # SOLUTION\n",
    "your_ans"
   ]
  },
  {
   "cell_type": "code",
   "execution_count": 61,
   "id": "7eac8905-9ed4-4ba4-b3de-c1dc45f7070d",
   "metadata": {},
   "outputs": [
    {
     "data": {
      "text/plain": [
       "(5, 2)"
      ]
     },
     "execution_count": 61,
     "metadata": {},
     "output_type": "execute_result"
    }
   ],
   "source": [
    "your_ans.shape"
   ]
  },
  {
   "cell_type": "raw",
   "id": "ba9812b0-2b61-4216-a5cc-a67756f73228",
   "metadata": {},
   "source": [
    "# END SOLUTION"
   ]
  },
  {
   "cell_type": "raw",
   "id": "b23dce4b-e90f-44bf-af3c-484fce471ea3",
   "metadata": {},
   "source": [
    "# BEGIN TESTS"
   ]
  },
  {
   "cell_type": "code",
   "execution_count": 62,
   "id": "b4daa8af-2fc2-4152-8db3-e84045ef139b",
   "metadata": {},
   "outputs": [
    {
     "data": {
      "text/plain": [
       "True"
      ]
     },
     "execution_count": 62,
     "metadata": {},
     "output_type": "execute_result"
    }
   ],
   "source": [
    "your_ans.shape == (5, 2)"
   ]
  },
  {
   "cell_type": "code",
   "execution_count": 63,
   "id": "c8348be4-c2f7-416e-84c8-eff903de6fde",
   "metadata": {},
   "outputs": [
    {
     "data": {
      "text/plain": [
       "True"
      ]
     },
     "execution_count": 63,
     "metadata": {},
     "output_type": "execute_result"
    }
   ],
   "source": [
    "your_ans[-1, -1].item() == -4"
   ]
  },
  {
   "cell_type": "raw",
   "id": "e33a079d-7dab-497b-a6e8-a678f63c15f1",
   "metadata": {},
   "source": [
    "# END TESTS"
   ]
  },
  {
   "cell_type": "raw",
   "id": "73b8bad2-3646-4a00-ba57-ccadec6ca837",
   "metadata": {},
   "source": [
    "# END QUESTION"
   ]
  },
  {
   "cell_type": "raw",
   "id": "6c64d655-a40a-4209-b173-857b4dd7b9e2",
   "metadata": {},
   "source": [
    "# BEGIN QUESTION\n",
    "name: q21"
   ]
  },
  {
   "cell_type": "markdown",
   "id": "4b5455ad-5446-43bc-9dee-3d9b48299d30",
   "metadata": {},
   "source": [
    "### Question 21\n",
    "\n",
    "Given the array A (see Q. 16), write a python code to access the first and the last rows of the matrix. Your answer should be \n",
    "$\\begin{bmatrix}\n",
    "1 & 2 & 3 & 4 \\\\\n",
    "-1 & -2 & -3 & -4 \\\\\n",
    "\\end{bmatrix}$\n",
    "of shape (2, 4)"
   ]
  },
  {
   "cell_type": "raw",
   "id": "86f1ffd3-821a-4023-902f-dbe9ce4bd11d",
   "metadata": {},
   "source": [
    "# BEGIN SOLUTION"
   ]
  },
  {
   "cell_type": "code",
   "execution_count": 64,
   "id": "433ab1c1-c862-4011-b7ad-45dc4e4822ea",
   "metadata": {},
   "outputs": [
    {
     "data": {
      "text/plain": [
       "array([[ 1,  2,  3,  4],\n",
       "       [-1, -2, -3, -4]])"
      ]
     },
     "execution_count": 64,
     "metadata": {},
     "output_type": "execute_result"
    }
   ],
   "source": [
    "your_ans = A[[0, 4]] # SOLUTION\n",
    "your_ans"
   ]
  },
  {
   "cell_type": "code",
   "execution_count": 65,
   "id": "7fb8bb11-c893-4b4a-9205-65aec42c5dee",
   "metadata": {},
   "outputs": [
    {
     "data": {
      "text/plain": [
       "(2, 4)"
      ]
     },
     "execution_count": 65,
     "metadata": {},
     "output_type": "execute_result"
    }
   ],
   "source": [
    "your_ans.shape"
   ]
  },
  {
   "cell_type": "raw",
   "id": "10d5a192-04b2-40af-8f30-1fc39d0c0ea5",
   "metadata": {},
   "source": [
    "# END SOLUTION"
   ]
  },
  {
   "cell_type": "raw",
   "id": "27768761-37c7-4051-bcf5-8b3db088198f",
   "metadata": {},
   "source": [
    "# BEGIN TESTS"
   ]
  },
  {
   "cell_type": "code",
   "execution_count": 66,
   "id": "b727979d-37ca-4164-8581-d8aa908c6601",
   "metadata": {},
   "outputs": [
    {
     "data": {
      "text/plain": [
       "True"
      ]
     },
     "execution_count": 66,
     "metadata": {},
     "output_type": "execute_result"
    }
   ],
   "source": [
    "your_ans.shape == (2, 4)"
   ]
  },
  {
   "cell_type": "code",
   "execution_count": 67,
   "id": "f895a84f-171b-4c7e-b074-24816961bd54",
   "metadata": {},
   "outputs": [
    {
     "data": {
      "text/plain": [
       "True"
      ]
     },
     "execution_count": 67,
     "metadata": {},
     "output_type": "execute_result"
    }
   ],
   "source": [
    "your_ans[-1,-1].item() == -4"
   ]
  },
  {
   "cell_type": "raw",
   "id": "c440688a-31af-4768-a782-038baca6d900",
   "metadata": {},
   "source": [
    "# END TESTS"
   ]
  },
  {
   "cell_type": "raw",
   "id": "13ab6ef3-6052-4d97-9469-f22fe92e0156",
   "metadata": {},
   "source": [
    "# END QUESTION"
   ]
  },
  {
   "cell_type": "raw",
   "id": "003f28d5-7d28-4e00-8b53-9d492f25bed2",
   "metadata": {},
   "source": [
    "# BEGIN QUESTION\n",
    "name: q22"
   ]
  },
  {
   "cell_type": "markdown",
   "id": "67e8e39e-26f1-4312-9f84-99fb84cd6cfa",
   "metadata": {},
   "source": [
    "### Question 22\n",
    "\n",
    "Given the array A (see Q. 16), write a python code to access the first and the last columns of the matrix. Your answer should be \n",
    "$ \\begin{bmatrix}\n",
    "1  & 4 \\\\\n",
    "10   & 40 \\\\\n",
    "100  & 400 \\\\\n",
    "-10 & -40 \\\\\n",
    "-1  & -4 \\\\\n",
    "\\end{bmatrix}$\n",
    "of shape (5, 2)"
   ]
  },
  {
   "cell_type": "raw",
   "id": "0360ce7c-7e36-4a4d-a9ef-8e715c1b6c2e",
   "metadata": {},
   "source": [
    "# BEGIN SOLUTION"
   ]
  },
  {
   "cell_type": "code",
   "execution_count": 68,
   "id": "3680f935-36ba-4a43-b088-8e88b5e2f027",
   "metadata": {},
   "outputs": [
    {
     "data": {
      "text/plain": [
       "array([[  1,   4],\n",
       "       [ 10,  40],\n",
       "       [100, 400],\n",
       "       [-10, -40],\n",
       "       [ -1,  -4]])"
      ]
     },
     "execution_count": 68,
     "metadata": {},
     "output_type": "execute_result"
    }
   ],
   "source": [
    "your_ans = A[:, [0, 3]] # SOLUTION\n",
    "your_ans"
   ]
  },
  {
   "cell_type": "code",
   "execution_count": 69,
   "id": "7583bf5b-43a2-4014-9061-736dee817f8d",
   "metadata": {},
   "outputs": [
    {
     "data": {
      "text/plain": [
       "(5, 2)"
      ]
     },
     "execution_count": 69,
     "metadata": {},
     "output_type": "execute_result"
    }
   ],
   "source": [
    "your_ans.shape"
   ]
  },
  {
   "cell_type": "raw",
   "id": "a4aa1d97-df0f-4df7-94af-7a2ffd803946",
   "metadata": {},
   "source": [
    "# END SOLUTION"
   ]
  },
  {
   "cell_type": "raw",
   "id": "3ea282ef-9075-4a11-b5d4-b0e0b2f34398",
   "metadata": {},
   "source": [
    "# BEGIN TESTS"
   ]
  },
  {
   "cell_type": "code",
   "execution_count": 70,
   "id": "9c5847ec-2c80-4524-b15f-ef6e14ff768c",
   "metadata": {},
   "outputs": [
    {
     "data": {
      "text/plain": [
       "True"
      ]
     },
     "execution_count": 70,
     "metadata": {},
     "output_type": "execute_result"
    }
   ],
   "source": [
    "your_ans.shape == (5, 2)"
   ]
  },
  {
   "cell_type": "code",
   "execution_count": 71,
   "id": "df521546-b2ce-421e-8088-f4f2dc12cb14",
   "metadata": {},
   "outputs": [
    {
     "data": {
      "text/plain": [
       "True"
      ]
     },
     "execution_count": 71,
     "metadata": {},
     "output_type": "execute_result"
    }
   ],
   "source": [
    "your_ans[-1, -1].item() == -4"
   ]
  },
  {
   "cell_type": "raw",
   "id": "aed0616e-de50-4b14-ba20-4cdea5e11c4a",
   "metadata": {},
   "source": [
    "# END TESTS"
   ]
  },
  {
   "cell_type": "raw",
   "id": "d6bc6f4d-4614-4e21-bfbb-bd37ac568d66",
   "metadata": {},
   "source": [
    "# END QUESTION"
   ]
  },
  {
   "cell_type": "raw",
   "id": "ae46adfb-3dcd-433c-8cbe-9d47a64b0d11",
   "metadata": {},
   "source": [
    "# BEGIN QUESTION\n",
    "name: q23"
   ]
  },
  {
   "cell_type": "markdown",
   "id": "4296afb5-050b-4f28-bd5e-946d13a733c3",
   "metadata": {},
   "source": [
    "### Question 23\n",
    "\n",
    "Given the array A (see Q. 16), write a python code to access every second row of the matrix starting from first row i.e, first row, third row, fifth row and so on. Your answer should be \n",
    "$\\begin{bmatrix}\n",
    "1 & 2 & 3 & 4 \\\\\n",
    "100 & 200 & 300 & 400 \\\\\n",
    "-1 & -2 & -3 & -4 \\\\\n",
    "\\end{bmatrix}$\n",
    "of shape (3, 5)"
   ]
  },
  {
   "cell_type": "raw",
   "id": "09735448-df95-40fd-8c64-10fedb6c3edb",
   "metadata": {},
   "source": [
    "# BEGIN SOLUTION"
   ]
  },
  {
   "cell_type": "code",
   "execution_count": 72,
   "id": "744fbee0-7fcf-410c-9884-a67c9ce2b6d8",
   "metadata": {},
   "outputs": [
    {
     "data": {
      "text/plain": [
       "array([[  1,   2,   3,   4],\n",
       "       [100, 200, 300, 400],\n",
       "       [ -1,  -2,  -3,  -4]])"
      ]
     },
     "execution_count": 72,
     "metadata": {},
     "output_type": "execute_result"
    }
   ],
   "source": [
    "your_ans = A[::2] # SOLUTION\n",
    "your_ans"
   ]
  },
  {
   "cell_type": "code",
   "execution_count": 73,
   "id": "d83b3fc0-e84d-42f4-9786-8b9c2a86ec18",
   "metadata": {},
   "outputs": [
    {
     "data": {
      "text/plain": [
       "(3, 4)"
      ]
     },
     "execution_count": 73,
     "metadata": {},
     "output_type": "execute_result"
    }
   ],
   "source": [
    "your_ans.shape"
   ]
  },
  {
   "cell_type": "raw",
   "id": "3c82cb4c-094b-4e8d-8ad5-2983cf78d379",
   "metadata": {},
   "source": [
    "# END SOLUTION"
   ]
  },
  {
   "cell_type": "raw",
   "id": "2733afec-2708-4cc3-ab00-d696ed724670",
   "metadata": {},
   "source": [
    "# BEGIN TESTS"
   ]
  },
  {
   "cell_type": "code",
   "execution_count": 74,
   "id": "6fb20908-4882-4075-b74a-c2c8f2f06da3",
   "metadata": {},
   "outputs": [
    {
     "data": {
      "text/plain": [
       "True"
      ]
     },
     "execution_count": 74,
     "metadata": {},
     "output_type": "execute_result"
    }
   ],
   "source": [
    "your_ans.shape == (3, 4)"
   ]
  },
  {
   "cell_type": "code",
   "execution_count": 75,
   "id": "3518a25b-bacf-48c9-816a-c412668f957d",
   "metadata": {},
   "outputs": [
    {
     "data": {
      "text/plain": [
       "True"
      ]
     },
     "execution_count": 75,
     "metadata": {},
     "output_type": "execute_result"
    }
   ],
   "source": [
    "your_ans[-1, -1].item() == -4"
   ]
  },
  {
   "cell_type": "raw",
   "id": "dc1640db-225f-4129-a9a5-24564ae66f54",
   "metadata": {},
   "source": [
    "# END TESTS"
   ]
  },
  {
   "cell_type": "raw",
   "id": "1d5ea8f0-3cd4-4d13-8a8b-190455062a1e",
   "metadata": {},
   "source": [
    "# END QUESTION"
   ]
  },
  {
   "cell_type": "raw",
   "id": "f4a179c8-a238-4a28-bc53-f1be17e12d2f",
   "metadata": {},
   "source": [
    "# BEGIN QUESTION\n",
    "name: q24"
   ]
  },
  {
   "cell_type": "markdown",
   "id": "2298316a-67b5-4c0d-962b-e7616a8b8bad",
   "metadata": {},
   "source": [
    "### Question 24\n",
    "\n",
    "Given the array A (see Q. 16), write a python code to access the element 200. "
   ]
  },
  {
   "cell_type": "raw",
   "id": "b738da6a-c6b6-4983-8889-635087fa59ef",
   "metadata": {},
   "source": [
    "# BEGIN SOLUTION"
   ]
  },
  {
   "cell_type": "code",
   "execution_count": 76,
   "id": "d658799a-67b2-4df7-aa64-8a9925b6128d",
   "metadata": {},
   "outputs": [
    {
     "data": {
      "text/plain": [
       "np.int64(200)"
      ]
     },
     "execution_count": 76,
     "metadata": {},
     "output_type": "execute_result"
    }
   ],
   "source": [
    "your_ans = A[2, 1] # SOLUTION\n",
    "your_ans"
   ]
  },
  {
   "cell_type": "raw",
   "id": "869ed5dc-f8d8-494e-bc05-db2ca4477299",
   "metadata": {},
   "source": [
    "# END SOLUTION"
   ]
  },
  {
   "cell_type": "raw",
   "id": "cf275be7-fb2d-4030-91d6-23646161eb68",
   "metadata": {},
   "source": [
    "# BEGIN TESTS"
   ]
  },
  {
   "cell_type": "code",
   "execution_count": 77,
   "id": "abacc7c5-1bf3-45f1-bbe6-87f50ee62598",
   "metadata": {},
   "outputs": [
    {
     "data": {
      "text/plain": [
       "True"
      ]
     },
     "execution_count": 77,
     "metadata": {},
     "output_type": "execute_result"
    }
   ],
   "source": [
    "your_ans.item() == 200"
   ]
  },
  {
   "cell_type": "raw",
   "id": "69267f9e-c3b4-49c9-bf0e-8fda221c078f",
   "metadata": {},
   "source": [
    "# END TESTS"
   ]
  },
  {
   "cell_type": "raw",
   "id": "0b08f978-360e-4e3d-9e2e-9c969f878cd4",
   "metadata": {},
   "source": [
    "# END QUESTION"
   ]
  },
  {
   "cell_type": "raw",
   "id": "ba049b8b-4214-44a9-ac78-7b1390b1586c",
   "metadata": {},
   "source": [
    "# BEGIN QUESTION\n",
    "name: q25"
   ]
  },
  {
   "cell_type": "markdown",
   "id": "d9759cfd-549a-4060-806b-626e5a1d9eef",
   "metadata": {},
   "source": [
    "### Question 25\n",
    "\n",
    "Given the array A (see Q. 16), write a python code to access the element -4. "
   ]
  },
  {
   "cell_type": "raw",
   "id": "3c751a6d-0cf2-433b-8f01-00b34ed7003c",
   "metadata": {},
   "source": [
    "# BEGIN SOLUTION"
   ]
  },
  {
   "cell_type": "code",
   "execution_count": 78,
   "id": "5de99a8e-7666-4340-a69c-a78f4831b08b",
   "metadata": {},
   "outputs": [
    {
     "data": {
      "text/plain": [
       "np.int64(-4)"
      ]
     },
     "execution_count": 78,
     "metadata": {},
     "output_type": "execute_result"
    }
   ],
   "source": [
    "your_ans = A[-1, -1] # SOLUTION\n",
    "your_ans"
   ]
  },
  {
   "cell_type": "raw",
   "id": "0501e0b4-4d91-48fc-8f7a-0f5376b9fcd5",
   "metadata": {},
   "source": [
    "# END SOLUTION"
   ]
  },
  {
   "cell_type": "raw",
   "id": "c0637ec5-9524-418e-acf5-d96d1fa1c7d3",
   "metadata": {},
   "source": [
    "# BEGIN TESTS"
   ]
  },
  {
   "cell_type": "code",
   "execution_count": 79,
   "id": "7bfd5031-f072-45ed-a4fe-124d90f9fbcc",
   "metadata": {},
   "outputs": [
    {
     "data": {
      "text/plain": [
       "True"
      ]
     },
     "execution_count": 79,
     "metadata": {},
     "output_type": "execute_result"
    }
   ],
   "source": [
    "your_ans.item() == -4"
   ]
  },
  {
   "cell_type": "raw",
   "id": "78806c62-4d60-40a2-afd2-12589934627a",
   "metadata": {},
   "source": [
    "# END TESTS"
   ]
  },
  {
   "cell_type": "raw",
   "id": "5c94462f-e7be-421d-a4f7-137435394e13",
   "metadata": {},
   "source": [
    "# END QUESTION"
   ]
  },
  {
   "cell_type": "raw",
   "id": "0ba862ca-0247-477a-a591-11f2d88a1a61",
   "metadata": {},
   "source": [
    "# BEGIN QUESTION\n",
    "name: q26"
   ]
  },
  {
   "cell_type": "markdown",
   "id": "6f0b46c0-eda4-4ef4-bea4-9e9371937df5",
   "metadata": {},
   "source": [
    "### Question 26\n",
    "\n",
    "Given the square matrix $A = \\begin{bmatrix}\n",
    "1 & 2 & 3 \\\\\n",
    "40 & 50 & 60  \\\\\n",
    "-7 & -8 & -9  \\\\\n",
    "\\end{bmatrix}$. Write a python code to extract the diagonal elements of the matrix. Your answer should be a numpy array. "
   ]
  },
  {
   "cell_type": "raw",
   "id": "a08e3bc3-eef6-4f46-907e-463512ee1048",
   "metadata": {},
   "source": [
    "# BEGIN SOLUTION"
   ]
  },
  {
   "cell_type": "code",
   "execution_count": 80,
   "id": "94ad5938-ad87-409a-afcc-6975be9c67a6",
   "metadata": {},
   "outputs": [
    {
     "data": {
      "text/plain": [
       "array([ 1, 50, -9])"
      ]
     },
     "execution_count": 80,
     "metadata": {},
     "output_type": "execute_result"
    }
   ],
   "source": [
    "A = np.array([[1, 2, 3], [40, 50, 60], [-7, -8, -9]]) # SOLUTION\n",
    "your_ans = A[np.arange(3), np.arange(3)] # SOLUTION\n",
    "your_ans"
   ]
  },
  {
   "cell_type": "raw",
   "id": "20f003d3-8c06-475a-8b76-3169f1474ea0",
   "metadata": {},
   "source": [
    "# END SOLUTION"
   ]
  },
  {
   "cell_type": "raw",
   "id": "a342a609-deba-4181-97db-8a332b30ffdf",
   "metadata": {},
   "source": [
    "# BEGIN TESTS"
   ]
  },
  {
   "cell_type": "code",
   "execution_count": 81,
   "id": "f83acccc-1a07-487e-9859-dbc9ef40426c",
   "metadata": {},
   "outputs": [
    {
     "data": {
      "text/plain": [
       "True"
      ]
     },
     "execution_count": 81,
     "metadata": {},
     "output_type": "execute_result"
    }
   ],
   "source": [
    "your_ans[-1].item() == -9"
   ]
  },
  {
   "cell_type": "code",
   "execution_count": 82,
   "id": "a2d3eedf-4cf6-4d01-b6f1-188416cc8078",
   "metadata": {},
   "outputs": [
    {
     "data": {
      "text/plain": [
       "True"
      ]
     },
     "execution_count": 82,
     "metadata": {},
     "output_type": "execute_result"
    }
   ],
   "source": [
    "isinstance(your_ans, np.ndarray)"
   ]
  },
  {
   "cell_type": "raw",
   "id": "0744c566-710b-4e28-8fd9-c8fe91718a72",
   "metadata": {},
   "source": [
    "# END TESTS"
   ]
  },
  {
   "cell_type": "raw",
   "id": "9282b0b5-2221-4ee8-a714-39d9504aeb4d",
   "metadata": {},
   "source": [
    "# END QUESTION"
   ]
  },
  {
   "cell_type": "markdown",
   "id": "770786f1-f597-493c-8404-ccd9cc65802b",
   "metadata": {},
   "source": [
    "### Numpy methods\n",
    "\n",
    "Numpy module provides us many methods that can be applied on numpy array. \n",
    "\n",
    "Each of the functions shown below takes an array as an argument and returns a single value. "
   ]
  },
  {
   "cell_type": "code",
   "execution_count": 83,
   "id": "a02a5508-0909-453b-948a-261bde52e163",
   "metadata": {},
   "outputs": [
    {
     "data": {
      "text/plain": [
       "array([1, 2, 3])"
      ]
     },
     "execution_count": 83,
     "metadata": {},
     "output_type": "execute_result"
    }
   ],
   "source": [
    "arr = np.array([1, 2, 3])\n",
    "arr"
   ]
  },
  {
   "cell_type": "code",
   "execution_count": 84,
   "id": "20d504e1-7851-459e-b4a2-d9abb3372931",
   "metadata": {},
   "outputs": [
    {
     "data": {
      "text/plain": [
       "np.int64(6)"
      ]
     },
     "execution_count": 84,
     "metadata": {},
     "output_type": "execute_result"
    }
   ],
   "source": [
    "np.sum(arr) # add all elements of an array"
   ]
  },
  {
   "cell_type": "code",
   "execution_count": 85,
   "id": "0a7076ae-be5a-45db-8b0f-eceaff756de7",
   "metadata": {},
   "outputs": [
    {
     "data": {
      "text/plain": [
       "np.float64(2.0)"
      ]
     },
     "execution_count": 85,
     "metadata": {},
     "output_type": "execute_result"
    }
   ],
   "source": [
    "np.mean(arr) # returns the mean of all the elements of the array"
   ]
  },
  {
   "cell_type": "code",
   "execution_count": 86,
   "id": "e5c721cd-30a1-442d-8a7f-97233813b16d",
   "metadata": {},
   "outputs": [
    {
     "data": {
      "text/plain": [
       "np.int64(6)"
      ]
     },
     "execution_count": 86,
     "metadata": {},
     "output_type": "execute_result"
    }
   ],
   "source": [
    "np.prod(arr) # returns the product of all the elements of the array"
   ]
  },
  {
   "cell_type": "code",
   "execution_count": 87,
   "id": "a153a0ac-6f46-4e17-b105-e7177a4a1765",
   "metadata": {},
   "outputs": [
    {
     "data": {
      "text/plain": [
       "np.False_"
      ]
     },
     "execution_count": 87,
     "metadata": {},
     "output_type": "execute_result"
    }
   ],
   "source": [
    "arr = np.array([0, 5, 3, 0])\n",
    "np.all(arr) # returns True if all elements are True or non-zero values"
   ]
  },
  {
   "cell_type": "code",
   "execution_count": 88,
   "id": "9def429b-c6ac-40bf-acfd-7526ce399144",
   "metadata": {},
   "outputs": [
    {
     "data": {
      "text/plain": [
       "np.True_"
      ]
     },
     "execution_count": 88,
     "metadata": {},
     "output_type": "execute_result"
    }
   ],
   "source": [
    "barr = np.array([True, True, True])\n",
    "np.all(barr)"
   ]
  },
  {
   "cell_type": "code",
   "execution_count": 89,
   "id": "1f032f31-c5a2-4d38-b9f7-a693dad4d9f8",
   "metadata": {},
   "outputs": [
    {
     "data": {
      "text/plain": [
       "np.False_"
      ]
     },
     "execution_count": 89,
     "metadata": {},
     "output_type": "execute_result"
    }
   ],
   "source": [
    "barr = np.array([True, True, True, False])\n",
    "np.all(barr)"
   ]
  },
  {
   "cell_type": "code",
   "execution_count": 90,
   "id": "f4e82d6f-40e6-429e-929e-08337759689b",
   "metadata": {},
   "outputs": [
    {
     "data": {
      "text/plain": [
       "np.True_"
      ]
     },
     "execution_count": 90,
     "metadata": {},
     "output_type": "execute_result"
    }
   ],
   "source": [
    "arr = np.array([0, 5, 3, 0])\n",
    "np.any(arr) # returns True if any of the elements are True or non-zero value "
   ]
  },
  {
   "cell_type": "code",
   "execution_count": 91,
   "id": "2ccfb37e-a373-4540-b62b-61a62b1a44d9",
   "metadata": {},
   "outputs": [
    {
     "data": {
      "text/plain": [
       "np.False_"
      ]
     },
     "execution_count": 91,
     "metadata": {},
     "output_type": "execute_result"
    }
   ],
   "source": [
    "barr = np.array([False, False, False])\n",
    "np.any(barr)"
   ]
  },
  {
   "cell_type": "code",
   "execution_count": 92,
   "id": "74b3f852-69fb-44fb-8136-a9462234312a",
   "metadata": {},
   "outputs": [
    {
     "data": {
      "text/plain": [
       "np.True_"
      ]
     },
     "execution_count": 92,
     "metadata": {},
     "output_type": "execute_result"
    }
   ],
   "source": [
    "barr = np.array([False, False, False, True])\n",
    "np.any(barr)"
   ]
  },
  {
   "cell_type": "code",
   "execution_count": 93,
   "id": "85b970de-d891-420b-beeb-4660696de853",
   "metadata": {},
   "outputs": [
    {
     "data": {
      "text/plain": [
       "3"
      ]
     },
     "execution_count": 93,
     "metadata": {},
     "output_type": "execute_result"
    }
   ],
   "source": [
    "arr = np.array([0, 5, 3, 0, 8])\n",
    "np.count_nonzero(arr) # counts the number of True or non-zero elements in the array"
   ]
  },
  {
   "cell_type": "markdown",
   "id": "153a8ff6-e673-4db4-a496-00b16953fd13",
   "metadata": {},
   "source": [
    "Each of the following functions takes an array as an argument and returns a numpy array"
   ]
  },
  {
   "cell_type": "code",
   "execution_count": 94,
   "id": "ba7c741f-ea88-43ad-9326-025a77094c91",
   "metadata": {},
   "outputs": [
    {
     "data": {
      "text/plain": [
       "array([ 1,  3,  9, 27, 81])"
      ]
     },
     "execution_count": 94,
     "metadata": {},
     "output_type": "execute_result"
    }
   ],
   "source": [
    "arr = 3 ** np.arange(5)\n",
    "arr"
   ]
  },
  {
   "cell_type": "code",
   "execution_count": 95,
   "id": "144ec66c-dde9-49e2-b0a6-e0bef7f4e797",
   "metadata": {},
   "outputs": [
    {
     "data": {
      "text/plain": [
       "array([ 2,  6, 18, 54])"
      ]
     },
     "execution_count": 95,
     "metadata": {},
     "output_type": "execute_result"
    }
   ],
   "source": [
    "np.diff(arr) # returns the difference of the consecutive elements "
   ]
  },
  {
   "cell_type": "code",
   "execution_count": 96,
   "id": "3897e1f8-6dca-4449-990f-aee03baebfe0",
   "metadata": {},
   "outputs": [
    {
     "data": {
      "text/plain": [
       "array([0., 0., 1.])"
      ]
     },
     "execution_count": 96,
     "metadata": {},
     "output_type": "execute_result"
    }
   ],
   "source": [
    "arr = np.array([0.5, 0.239, 0.8238])\n",
    "np.round(arr) # returns the round of each number to the nearest integer"
   ]
  },
  {
   "cell_type": "code",
   "execution_count": 97,
   "id": "db1fe4c2-48fb-4f3f-95e0-1a802d2d4363",
   "metadata": {},
   "outputs": [
    {
     "data": {
      "text/plain": [
       "array([ 1,  2,  6, 24])"
      ]
     },
     "execution_count": 97,
     "metadata": {},
     "output_type": "execute_result"
    }
   ],
   "source": [
    "arr = np.array([1, 2, 3, 4])\n",
    "np.cumprod(arr) # a cumulative product"
   ]
  },
  {
   "cell_type": "code",
   "execution_count": 98,
   "id": "8e4ecce9-436c-4862-bc11-a406279200d7",
   "metadata": {},
   "outputs": [
    {
     "data": {
      "text/plain": [
       "array([ 1,  3,  6, 10])"
      ]
     },
     "execution_count": 98,
     "metadata": {},
     "output_type": "execute_result"
    }
   ],
   "source": [
    "np.cumsum(arr) # a cumulative sum"
   ]
  },
  {
   "cell_type": "code",
   "execution_count": 99,
   "id": "d7415c54-8797-41e2-995e-63a5f82dc9c0",
   "metadata": {},
   "outputs": [
    {
     "data": {
      "text/plain": [
       "array([ 2.71828183,  7.3890561 , 20.08553692, 54.59815003])"
      ]
     },
     "execution_count": 99,
     "metadata": {},
     "output_type": "execute_result"
    }
   ],
   "source": [
    "np.exp(arr) # exponentiate each element "
   ]
  },
  {
   "cell_type": "code",
   "execution_count": 100,
   "id": "58c1ff50-872c-41c3-8e27-b93debad1d82",
   "metadata": {},
   "outputs": [
    {
     "data": {
      "text/plain": [
       "array([0.        , 0.69314718, 1.09861229, 1.38629436])"
      ]
     },
     "execution_count": 100,
     "metadata": {},
     "output_type": "execute_result"
    }
   ],
   "source": [
    "np.log(arr) # natural logarithm of each element"
   ]
  },
  {
   "cell_type": "code",
   "execution_count": 101,
   "id": "b59d6359-6ac8-47bb-a04f-654544d8edbc",
   "metadata": {},
   "outputs": [
    {
     "data": {
      "text/plain": [
       "array([1.        , 1.41421356, 1.73205081, 2.        ])"
      ]
     },
     "execution_count": 101,
     "metadata": {},
     "output_type": "execute_result"
    }
   ],
   "source": [
    "np.sqrt(arr) # square root of each element"
   ]
  },
  {
   "cell_type": "code",
   "execution_count": 102,
   "id": "79293d45-8791-4e29-9c78-52995f70fb90",
   "metadata": {},
   "outputs": [
    {
     "data": {
      "text/plain": [
       "array([10,  9,  8,  7,  6,  5,  4,  3,  2])"
      ]
     },
     "execution_count": 102,
     "metadata": {},
     "output_type": "execute_result"
    }
   ],
   "source": [
    "arr = np.arange(10, 1, -1)\n",
    "arr"
   ]
  },
  {
   "cell_type": "code",
   "execution_count": 103,
   "id": "de6e69ab-f904-4bfa-b1ff-5cfbd26ecf34",
   "metadata": {},
   "outputs": [
    {
     "data": {
      "text/plain": [
       "array([ 2,  3,  4,  5,  6,  7,  8,  9, 10])"
      ]
     },
     "execution_count": 103,
     "metadata": {},
     "output_type": "execute_result"
    }
   ],
   "source": [
    "np.sort(arr) # sort elements in ascending order"
   ]
  },
  {
   "cell_type": "markdown",
   "id": "60fa45fd-48c1-450e-8fe6-e9db4b1b33c3",
   "metadata": {},
   "source": [
    "### Boolean Arrays and Boolean Masking\n",
    "\n"
   ]
  },
  {
   "cell_type": "markdown",
   "id": "4d6ef0cb-f4a7-459e-a400-ae9285872467",
   "metadata": {},
   "source": [
    "#### Boolean array: \n",
    "A numpy array where all values of the array are Boolean (True or False). \n",
    "\n",
    "Examples of boolean array: "
   ]
  },
  {
   "cell_type": "code",
   "execution_count": 104,
   "id": "f9a0e11b-8eee-4522-be9b-e7a429dfd015",
   "metadata": {},
   "outputs": [
    {
     "data": {
      "text/plain": [
       "array([ True, False,  True,  True, False])"
      ]
     },
     "execution_count": 104,
     "metadata": {},
     "output_type": "execute_result"
    }
   ],
   "source": [
    "barr = np.array([True, False, True, True, False])\n",
    "barr"
   ]
  },
  {
   "cell_type": "code",
   "execution_count": 105,
   "id": "a432f974-3d64-4ba5-95de-de82a8baf781",
   "metadata": {},
   "outputs": [
    {
     "data": {
      "text/plain": [
       "(numpy.ndarray, numpy.bool)"
      ]
     },
     "execution_count": 105,
     "metadata": {},
     "output_type": "execute_result"
    }
   ],
   "source": [
    "type(barr), type(barr[0])"
   ]
  },
  {
   "cell_type": "code",
   "execution_count": 106,
   "id": "c3e0f636-b0f3-4898-9ff0-c51589fc7c0d",
   "metadata": {},
   "outputs": [
    {
     "data": {
      "text/plain": [
       "array([[ 5,  6],\n",
       "       [ 9, 10]])"
      ]
     },
     "execution_count": 106,
     "metadata": {},
     "output_type": "execute_result"
    }
   ],
   "source": [
    "arr = np.array([[5, 6], [9, 10]])\n",
    "arr"
   ]
  },
  {
   "cell_type": "code",
   "execution_count": 107,
   "id": "d8c79ebf-3adf-4990-b5fe-566dbfa55fa5",
   "metadata": {},
   "outputs": [
    {
     "data": {
      "text/plain": [
       "array([[False, False],\n",
       "       [ True,  True]])"
      ]
     },
     "execution_count": 107,
     "metadata": {},
     "output_type": "execute_result"
    }
   ],
   "source": [
    "barr = arr > 6\n",
    "barr"
   ]
  },
  {
   "cell_type": "markdown",
   "id": "23aaed12-ecc9-4d0b-bf65-b2c4f62e83a3",
   "metadata": {},
   "source": [
    "#### Methods on boolean array"
   ]
  },
  {
   "cell_type": "code",
   "execution_count": 108,
   "id": "ef307db9-da9f-4255-819a-a30d96e5315d",
   "metadata": {},
   "outputs": [],
   "source": [
    "barr1 = np.array([True, True, False, False, True])\n",
    "barr2 = np.array([True, False, False, True, True])"
   ]
  },
  {
   "cell_type": "code",
   "execution_count": 109,
   "id": "7cbef266-edc1-4a89-b82a-adf09eda85ca",
   "metadata": {},
   "outputs": [
    {
     "data": {
      "text/plain": [
       "array([ True, False, False, False,  True])"
      ]
     },
     "execution_count": 109,
     "metadata": {},
     "output_type": "execute_result"
    }
   ],
   "source": [
    "np.logical_and(barr1, barr2) # elementwise and operator"
   ]
  },
  {
   "cell_type": "code",
   "execution_count": 110,
   "id": "a2eb590e-19f6-4eda-830f-e935b96eafb1",
   "metadata": {},
   "outputs": [
    {
     "data": {
      "text/plain": [
       "array([ True,  True, False,  True,  True])"
      ]
     },
     "execution_count": 110,
     "metadata": {},
     "output_type": "execute_result"
    }
   ],
   "source": [
    "np.logical_or(barr1, barr2) # elementwise or operator"
   ]
  },
  {
   "cell_type": "markdown",
   "id": "b22095e4-0487-4766-9470-1e766750bbdd",
   "metadata": {},
   "source": [
    "### Boolean Masking\n",
    "\n",
    "A Boolean mask is a technique used to select elements from a NumPy array by applying a Boolean array of the same shape. The resulting array will be one-dimensional and contain only the elements corresponding to the True values in the Boolean array.\n",
    "\n",
    "For example: \n",
    "\n",
    "<img src=\"pics/bm1.drawio.png\" width=700 />"
   ]
  },
  {
   "cell_type": "code",
   "execution_count": 111,
   "id": "38108858-3439-48b7-bdc7-c18c7816c9d7",
   "metadata": {},
   "outputs": [
    {
     "data": {
      "text/plain": [
       "array([10, 20, 40])"
      ]
     },
     "execution_count": 111,
     "metadata": {},
     "output_type": "execute_result"
    }
   ],
   "source": [
    "arr = np.array([10, 20, 30, 40])\n",
    "barr = np.array([True, True, False, True])\n",
    "arr[barr]"
   ]
  },
  {
   "cell_type": "markdown",
   "id": "047c9971-1318-4a19-a6a2-ee06b6bcecb1",
   "metadata": {},
   "source": [
    "Example: \n",
    "\n",
    "<img src=\"pics/bm2.drawio.png\" width=700 />"
   ]
  },
  {
   "cell_type": "code",
   "execution_count": 112,
   "id": "075f504e-a1d0-4753-a504-7b61d8feda46",
   "metadata": {},
   "outputs": [
    {
     "data": {
      "text/plain": [
       "array([[ 10, -20,  30],\n",
       "       [ -1,   3,   5],\n",
       "       [ -6,  -4,   9]])"
      ]
     },
     "execution_count": 112,
     "metadata": {},
     "output_type": "execute_result"
    }
   ],
   "source": [
    "arr = np.array([[10, -20, 30], [-1, 3, 5], [-6, -4, 9]])\n",
    "arr"
   ]
  },
  {
   "cell_type": "code",
   "execution_count": 113,
   "id": "47d833ee-e39f-42b5-a194-26d48356460f",
   "metadata": {},
   "outputs": [
    {
     "data": {
      "text/plain": [
       "array([[ True, False,  True],\n",
       "       [False,  True,  True],\n",
       "       [False, False,  True]])"
      ]
     },
     "execution_count": 113,
     "metadata": {},
     "output_type": "execute_result"
    }
   ],
   "source": [
    "arr > 0"
   ]
  },
  {
   "cell_type": "code",
   "execution_count": 114,
   "id": "943de331-6fdf-4f3a-ace7-9c0fa6c8a0af",
   "metadata": {},
   "outputs": [
    {
     "data": {
      "text/plain": [
       "array([10, 30,  3,  5,  9])"
      ]
     },
     "execution_count": 114,
     "metadata": {},
     "output_type": "execute_result"
    }
   ],
   "source": [
    "arr[arr > 0]"
   ]
  },
  {
   "cell_type": "raw",
   "id": "95095052-0fdb-4d1d-ab52-a8bccd0518bd",
   "metadata": {},
   "source": [
    "# BEGIN QUESTION\n",
    "name: q27"
   ]
  },
  {
   "cell_type": "markdown",
   "id": "a392aa29-cb3e-4a10-a659-ae29e71e23b6",
   "metadata": {},
   "source": [
    "### Question 27\n",
    "\n",
    "Write a python code to find the sum of all positive integers in the matrix $A= \\begin{bmatrix}\n",
    "1 & -2 & -3 & 4 \\\\\n",
    "1 & 1 & -1 & -1 \\\\\n",
    "2 & -2 & -1 & 0 \\\\\n",
    "\\end{bmatrix}$"
   ]
  },
  {
   "cell_type": "raw",
   "id": "573fe48f-00d1-42dd-bf38-07d7ce00ccb8",
   "metadata": {},
   "source": [
    "# BEGIN SOLUTION"
   ]
  },
  {
   "cell_type": "code",
   "execution_count": 115,
   "id": "9f55f530-c4bb-4004-a642-a44c16279a36",
   "metadata": {},
   "outputs": [
    {
     "data": {
      "text/plain": [
       "np.int64(9)"
      ]
     },
     "execution_count": 115,
     "metadata": {},
     "output_type": "execute_result"
    }
   ],
   "source": [
    "A = np.array([[1, -2, -3, 4], [1, 1, -1, -1], [2, -2, -1, 0]]) \n",
    "your_ans = np.sum(A[A > 0]) # SOLUTION\n",
    "your_ans"
   ]
  },
  {
   "cell_type": "raw",
   "id": "d206e226-6813-4143-a99a-8e294f190e0c",
   "metadata": {},
   "source": [
    "# END SOLUTION"
   ]
  },
  {
   "cell_type": "raw",
   "id": "27e31399-3972-460a-9dd4-f2a0d2f9aee2",
   "metadata": {},
   "source": [
    "# BEGIN TESTS"
   ]
  },
  {
   "cell_type": "code",
   "execution_count": 116,
   "id": "9dbf9f49-9fec-4d57-8d38-c627612f4384",
   "metadata": {},
   "outputs": [
    {
     "data": {
      "text/plain": [
       "True"
      ]
     },
     "execution_count": 116,
     "metadata": {},
     "output_type": "execute_result"
    }
   ],
   "source": [
    "your_ans.item() == 9"
   ]
  },
  {
   "cell_type": "raw",
   "id": "cc681755-841b-4a69-83c8-2b6a99943398",
   "metadata": {},
   "source": [
    "# END TESTS"
   ]
  },
  {
   "cell_type": "raw",
   "id": "ea1fdab4-02b5-4bc9-9145-ec94325748cc",
   "metadata": {},
   "source": [
    "# END QUESTION"
   ]
  },
  {
   "cell_type": "raw",
   "id": "3a7073cb-789d-45c2-9da4-5e5ad56c95d5",
   "metadata": {},
   "source": [
    "# BEGIN QUESTION\n",
    "name: q28"
   ]
  },
  {
   "cell_type": "markdown",
   "id": "154cadf1-7c90-4757-bd99-bfcbde9ab1fc",
   "metadata": {},
   "source": [
    "### Question 28\n",
    "\n",
    "Write a python code to find the sum of the positive integers present in the second row of the matrix A (defined in Question 26). "
   ]
  },
  {
   "cell_type": "raw",
   "id": "2c66b2fe-ae8b-45ce-aa0a-ef876a365842",
   "metadata": {},
   "source": [
    "# BEGIN SOLUTION"
   ]
  },
  {
   "cell_type": "code",
   "execution_count": 117,
   "id": "f879cbe8-35a9-4724-ba26-b891ba5df5a1",
   "metadata": {},
   "outputs": [
    {
     "data": {
      "text/plain": [
       "np.int64(2)"
      ]
     },
     "execution_count": 117,
     "metadata": {},
     "output_type": "execute_result"
    }
   ],
   "source": [
    "second_row = A[1] # SOLUTION NO PROMPT\n",
    "your_ans = np.sum(second_row[second_row > 0]) # SOLUTION\n",
    "your_ans"
   ]
  },
  {
   "cell_type": "raw",
   "id": "70d2f1ab-5f1a-472d-8d02-47079e7670b8",
   "metadata": {},
   "source": [
    "# END SOLUTION"
   ]
  },
  {
   "cell_type": "raw",
   "id": "e2474189-537d-46d3-8688-47755c9c334d",
   "metadata": {},
   "source": [
    "# BEGIN TESTS"
   ]
  },
  {
   "cell_type": "code",
   "execution_count": 118,
   "id": "8e04c6a4-bb7d-4d82-b487-3895595e79ca",
   "metadata": {},
   "outputs": [
    {
     "data": {
      "text/plain": [
       "True"
      ]
     },
     "execution_count": 118,
     "metadata": {},
     "output_type": "execute_result"
    }
   ],
   "source": [
    "your_ans.item() == 2"
   ]
  },
  {
   "cell_type": "raw",
   "id": "a15d92b3-da22-4637-ba4f-1a00f4f8d3d9",
   "metadata": {},
   "source": [
    "# END TESTS"
   ]
  },
  {
   "cell_type": "raw",
   "id": "0379fdea-582f-40dc-9bc0-fa6f5f68cbfb",
   "metadata": {},
   "source": [
    "# END QUESTION"
   ]
  },
  {
   "cell_type": "raw",
   "id": "2b29ba80-1e2e-4ba2-9f6d-f2b9d4a055f2",
   "metadata": {},
   "source": [
    "# BEGIN QUESTION\n",
    "name: q29"
   ]
  },
  {
   "cell_type": "markdown",
   "id": "e91a6180-2953-4864-85f1-601a280f5a06",
   "metadata": {},
   "source": [
    "### Question 29\n",
    "\n",
    "Write a python code to count the total number of zeros present in the matrix $A= \\begin{bmatrix}\n",
    "1 & 5 & 0 & 4 \\\\\n",
    "1 & 3 & 0 & 0 \\\\\n",
    "2 & -2 & -1 & 0 \\\\\n",
    "4 & 0 & 9  & 0  \\\\\n",
    "2 & 9 & 0 & 0 \\\\\n",
    "\\end{bmatrix}$"
   ]
  },
  {
   "cell_type": "raw",
   "id": "f498f5d9-305f-4cc9-881e-d70906a1200a",
   "metadata": {},
   "source": [
    "# BEGIN SOLUTION"
   ]
  },
  {
   "cell_type": "code",
   "execution_count": 119,
   "id": "28ee82d9-208c-4a04-affc-fe01cd24173d",
   "metadata": {},
   "outputs": [
    {
     "data": {
      "text/plain": [
       "array([[ 1,  5,  0,  4],\n",
       "       [ 1,  3,  0,  0],\n",
       "       [ 2, -2, -1,  0],\n",
       "       [ 4,  0,  9,  0],\n",
       "       [ 2,  9,  0,  0]])"
      ]
     },
     "execution_count": 119,
     "metadata": {},
     "output_type": "execute_result"
    }
   ],
   "source": [
    "A = np.array([[1, 5, 0, 4], [1, 3, 0, 0], [2, -2, -1, 0], [4, 0, 9, 0], [2, 9, 0, 0]]) # SOLUTION\n",
    "A"
   ]
  },
  {
   "cell_type": "code",
   "execution_count": 120,
   "id": "5db62bff-1dd7-4f83-9ab5-62a461847bb1",
   "metadata": {},
   "outputs": [
    {
     "data": {
      "text/plain": [
       "np.int64(8)"
      ]
     },
     "execution_count": 120,
     "metadata": {},
     "output_type": "execute_result"
    }
   ],
   "source": [
    "your_ans = np.sum(A == 0)\n",
    "your_ans"
   ]
  },
  {
   "cell_type": "raw",
   "id": "dd6ec960-6b4c-4450-8b4f-51af02207790",
   "metadata": {},
   "source": [
    "# END SOLUTION"
   ]
  },
  {
   "cell_type": "raw",
   "id": "03ed85ba-da53-4cdc-9dab-258f394e7600",
   "metadata": {},
   "source": [
    "# BEGIN TESTS"
   ]
  },
  {
   "cell_type": "code",
   "execution_count": 121,
   "id": "f3e4a31b-b6fc-45b8-aef9-9ba23cac3e36",
   "metadata": {},
   "outputs": [
    {
     "data": {
      "text/plain": [
       "True"
      ]
     },
     "execution_count": 121,
     "metadata": {},
     "output_type": "execute_result"
    }
   ],
   "source": [
    "your_ans.item() == 8"
   ]
  },
  {
   "cell_type": "raw",
   "id": "40f25785-80d8-4bea-ad35-4baf96c6a0bc",
   "metadata": {},
   "source": [
    "# END TESTS"
   ]
  },
  {
   "cell_type": "raw",
   "id": "f2b5bfb1-b9c6-48d6-830d-acd317c5b3b9",
   "metadata": {},
   "source": [
    "# END QUESTION"
   ]
  },
  {
   "cell_type": "raw",
   "id": "fc665175-a290-42b0-be3e-540c810ea918",
   "metadata": {},
   "source": [
    "# BEGIN QUESTION\n",
    "name: q30"
   ]
  },
  {
   "cell_type": "markdown",
   "id": "6cbd2e04-1ce7-4ff4-803c-ec00fb3b74b3",
   "metadata": {},
   "source": [
    "### Question 30\n",
    "\n",
    "Write a python code to replace all the negative numbers with 0 in the given array $A= \\begin{bmatrix}\n",
    "1 & -4 & -1 & 4 \\\\\n",
    "1 & 3 & -8 & 1 \\\\\n",
    "\\end{bmatrix}$. \n",
    "\n",
    "Your resultant array A will be $\\begin{bmatrix}\n",
    "1 & 0 & 0 & 4 \\\\\n",
    "1 & 3 & 0 & 1 \\\\\n",
    "\\end{bmatrix}$. "
   ]
  },
  {
   "cell_type": "raw",
   "id": "f04a3624-f801-41e4-825c-d7fe0dc1dd93",
   "metadata": {},
   "source": [
    "# BEGIN SOLUTION"
   ]
  },
  {
   "cell_type": "code",
   "execution_count": 122,
   "id": "2e08779a-6671-4bcc-bc25-1c487d7111f0",
   "metadata": {},
   "outputs": [
    {
     "data": {
      "text/plain": [
       "array([[ 1, -4, -1,  4],\n",
       "       [ 1,  3, -8,  1]])"
      ]
     },
     "execution_count": 122,
     "metadata": {},
     "output_type": "execute_result"
    }
   ],
   "source": [
    "A = np.array([[1, -4, -1, 4], [1, 3, -8, 1]])\n",
    "A"
   ]
  },
  {
   "cell_type": "code",
   "execution_count": 123,
   "id": "dc183c3f-92e0-463e-b84d-4008649a2d06",
   "metadata": {},
   "outputs": [
    {
     "data": {
      "text/plain": [
       "array([[1, 0, 0, 4],\n",
       "       [1, 3, 0, 1]])"
      ]
     },
     "execution_count": 123,
     "metadata": {},
     "output_type": "execute_result"
    }
   ],
   "source": [
    "mask = A < 0 # SOLUTION\n",
    "A[mask] = 0 # SOLUTION\n",
    "A"
   ]
  },
  {
   "cell_type": "raw",
   "id": "510fdf0e-6614-490c-b99d-abdbc36306c8",
   "metadata": {},
   "source": [
    "# END SOLUTION"
   ]
  },
  {
   "cell_type": "raw",
   "id": "f3136a18-7b6c-4bd8-9624-fea957a405e7",
   "metadata": {},
   "source": [
    "# BEGIN TESTS"
   ]
  },
  {
   "cell_type": "code",
   "execution_count": 124,
   "id": "ce2fba52-4895-4dd5-a59b-5eb433db31ee",
   "metadata": {},
   "outputs": [
    {
     "data": {
      "text/plain": [
       "True"
      ]
     },
     "execution_count": 124,
     "metadata": {},
     "output_type": "execute_result"
    }
   ],
   "source": [
    "A.shape == (2, 4)"
   ]
  },
  {
   "cell_type": "code",
   "execution_count": 125,
   "id": "e08e257b-457f-4f20-b67a-3ff5620aee89",
   "metadata": {},
   "outputs": [
    {
     "data": {
      "text/plain": [
       "True"
      ]
     },
     "execution_count": 125,
     "metadata": {},
     "output_type": "execute_result"
    }
   ],
   "source": [
    "A[0, 2].item() == 0 and A[0, 1].item() == 0 and A[1, 2].item() == 0"
   ]
  },
  {
   "cell_type": "raw",
   "id": "e6ee1991-fe15-4aba-9ed8-1597469ec929",
   "metadata": {},
   "source": [
    "# END TESTS"
   ]
  },
  {
   "cell_type": "raw",
   "id": "512b2d3f-a917-42a6-b0ba-3038d7c6f65d",
   "metadata": {},
   "source": [
    "# END QUESTION"
   ]
  },
  {
   "cell_type": "markdown",
   "id": "f62d6227-b026-4e90-a443-1405ba1fe695",
   "metadata": {},
   "source": [
    "### Miscelleneous Questions"
   ]
  },
  {
   "cell_type": "raw",
   "id": "cbc876f9-252a-442d-958e-0e38bc8fbf47",
   "metadata": {},
   "source": [
    "# BEGIN QUESTION\n",
    "name: q31"
   ]
  },
  {
   "cell_type": "markdown",
   "id": "474f02db-786c-41aa-967c-3a2e995aa876",
   "metadata": {},
   "source": [
    "### Question 31\n",
    "\n",
    "#### Estimate $\\pi$ using Leibniz's formula\n",
    "\n",
    "Leibniz has given us formula to estimate the value of $\\pi$ using the following equation: \n",
    "$$\\pi = 4 * \\left(1 - \\frac{1}{3} +  \\frac{1}{5} -  \\frac{1}{7} + \\frac{1}{9} -  \\frac{1}{11} + ... \\right)$$\n",
    "\n",
    "We are going to verify if this equation is true by computing the right hand side of equation, if the result is approximately 3.14 (close to the value of $\\pi$) then the equation is correct. \n",
    "\n",
    "Instead of finding the sum infinitely, we will caculate it upto large value (say 100001), then the equation becomes:\n",
    "$$\\left(1 - \\frac{1}{3} + \\frac{1}{5} - \\frac{1}{7} + \\frac{1}{9} - \\frac{1}{11} + ... - \\frac{1}{99999} + \\frac{1}{100001} \\right)$$\n",
    "\n",
    "Now we will separate this equation by grouping the negative fractions and positive fractions together respectively. So the equation becomes:\n",
    "$$\\left(1 + \\frac{1}{5} + \\frac{1}{9} + ... + \\frac{1}{100001} \\right) - \\left(\\frac{1}{3} + \\frac{1}{7} + \\frac{1}{11} + ... + \\frac{1}{99999} \\right)$$\n",
    "\n",
    "Therefore, let's first calculate the positive fractions first. \n",
    "$$\\left(1 + \\frac{1}{5} + \\frac{1}{9} + ... + \\frac{1}{100001} \\right)$$\n",
    "\n",
    "We see pattern in the denominator 1, 5, 9, ..., 100001. \n",
    "Therefore, we can store these denominators in a numpy array. \n",
    "\n",
    "Then, we can divide them by 1, and then add them together. That will be the output for the sum of all positive fractions. "
   ]
  },
  {
   "cell_type": "raw",
   "id": "50c1e0c6-67ab-4f79-9120-e1e43641447e",
   "metadata": {},
   "source": [
    "# BEGIN SOLUTION"
   ]
  },
  {
   "cell_type": "code",
   "execution_count": 126,
   "id": "c7bb7ecb-1006-4c35-8799-24dcaaa659b5",
   "metadata": {},
   "outputs": [],
   "source": [
    "positive_fractions = 1 / np.arange(1, 100002, 4) # SOLUTION\n",
    "left_equation = np.sum(positive_fractions) # SOLUTION"
   ]
  },
  {
   "cell_type": "code",
   "execution_count": 127,
   "id": "96c249ee-28e2-4dcb-8142-2017b84141d9",
   "metadata": {},
   "outputs": [],
   "source": [
    "negative_fractions = 1 / np.arange(3, 100000, 4) # SOLUTION\n",
    "right_equation = np.sum(negative_fractions) # SOLUTION"
   ]
  },
  {
   "cell_type": "code",
   "execution_count": 128,
   "id": "9036c045-e6bb-4cdf-8d01-42bef1268153",
   "metadata": {},
   "outputs": [
    {
     "data": {
      "text/plain": [
       "np.float64(3.141612653189794)"
      ]
     },
     "execution_count": 128,
     "metadata": {},
     "output_type": "execute_result"
    }
   ],
   "source": [
    "pi = 4 * (left_equation - right_equation) # SOLUTION\n",
    "pi"
   ]
  },
  {
   "cell_type": "raw",
   "id": "74b1fc52-0ee8-4583-a77e-0ceb9199a450",
   "metadata": {},
   "source": [
    "# END SOLUTION"
   ]
  },
  {
   "cell_type": "raw",
   "id": "f133d563-5a1b-4aa0-b403-bf1df294a80d",
   "metadata": {},
   "source": [
    "# BEGIN TESTS"
   ]
  },
  {
   "cell_type": "code",
   "execution_count": 145,
   "id": "f6cf2bb1-6b6a-487a-bd65-cc884fc24a13",
   "metadata": {},
   "outputs": [
    {
     "data": {
      "text/plain": [
       "True"
      ]
     },
     "execution_count": 145,
     "metadata": {},
     "output_type": "execute_result"
    }
   ],
   "source": [
    "np.isclose(3.14, np.round(pi, 2)).item()"
   ]
  },
  {
   "cell_type": "raw",
   "id": "d2de710e-dbef-46b9-b605-bcfdc166ef1c",
   "metadata": {},
   "source": [
    "# END TESTS"
   ]
  },
  {
   "cell_type": "raw",
   "id": "7f6cae04-67b9-49df-a319-b9528788819f",
   "metadata": {},
   "source": [
    "# END QUESTION"
   ]
  },
  {
   "cell_type": "raw",
   "id": "0f702358-efe8-405e-9676-6a1f49f1059c",
   "metadata": {},
   "source": [
    "# BEGIN QUESTION\n",
    "name: q32"
   ]
  },
  {
   "cell_type": "markdown",
   "id": "41bd345b-b83f-4766-8af6-35377fe85ff8",
   "metadata": {},
   "source": [
    "### Question 32\n",
    "\n",
    "#### Estimate $\\pi$ using Walli's Formula\n",
    "\n",
    "About half a centure before Leibniz, John Wallis gave an expression to estimate the value of $\\pi$ as an infinite product. \n",
    "\n",
    "$$\\pi = 2 \\cdot \\left(\\frac{2}{1} \\cdot \\frac{2}{3} \\cdot \\frac{4}{3} \\cdot \\frac{4}{5} \\cdot \\frac{6}{5} \\cdot \\frac{6}{7} \\cdots \\right) $$\n",
    "\n",
    "This is a product of \"even/odd\" fractions. Let's use arrays to multiple a million of them, and see if the product is close to $\\pi$. \n",
    "\n",
    "$$\\pi = 2 \\cdot \\left(\\frac{2}{1} \\cdot \\frac{4}{3} \\cdot \\frac{6}{5} \\cdots \\frac{100000}{99999} \\right) \\cdot \\left(\\frac{2}{3} \\cdot \\frac{4}{5} \\cdot \\frac{6}{7} \\cdots \\frac{100000}{100001} \\right) $$\n",
    "\n",
    "We start by creating an array of even numbers 2, 4, 6, and so on upto 100000. Then we create two lists of odd numbers: 1, 3, 5, 7, ... upto 99999 and 3, 5, 7, ... upto 100001\n"
   ]
  },
  {
   "cell_type": "raw",
   "id": "19be2266-2e2a-4faa-95db-da628f685d69",
   "metadata": {},
   "source": [
    "# BEGIN SOLUTION"
   ]
  },
  {
   "cell_type": "code",
   "execution_count": 130,
   "id": "45423fd1-1e01-4989-9727-3560e0a429e5",
   "metadata": {},
   "outputs": [
    {
     "data": {
      "text/plain": [
       "np.float64(3.1415769458227314)"
      ]
     },
     "execution_count": 130,
     "metadata": {},
     "output_type": "execute_result"
    }
   ],
   "source": [
    "numerator = np.arange(2, 100001, 2) # SOLUTION NO PROMPT\n",
    "left_denominator = numerator - 1 # SOLUTION NO PROMPT\n",
    "right_denominator = numerator + 1 # SOLUTION NO PROMPT\n",
    "\n",
    "left_equation = np.prod(numerator / left_denominator) # SOLUTION\n",
    "\n",
    "right_equation = np.prod(numerator / right_denominator) # SOLUTION\n",
    "\n",
    "pi = 2 * left_equation * right_equation\n",
    "pi"
   ]
  },
  {
   "cell_type": "raw",
   "id": "d17168ee-a601-427b-95e9-b5599df4d6e5",
   "metadata": {},
   "source": [
    "# END SOLUTION"
   ]
  },
  {
   "cell_type": "raw",
   "id": "24b9cafd-2b34-42a2-b260-97e1ceace8ca",
   "metadata": {},
   "source": [
    "# BEGIN TESTS"
   ]
  },
  {
   "cell_type": "code",
   "execution_count": 146,
   "id": "5f5e955c-7383-4e3d-95db-c846e04247db",
   "metadata": {},
   "outputs": [
    {
     "data": {
      "text/plain": [
       "True"
      ]
     },
     "execution_count": 146,
     "metadata": {},
     "output_type": "execute_result"
    }
   ],
   "source": [
    "np.isclose(3.14, np.round(pi, 2)).item()"
   ]
  },
  {
   "cell_type": "raw",
   "id": "e86df5e9-b6d7-4f93-a598-09050c7bb1e8",
   "metadata": {},
   "source": [
    "# END TESTS"
   ]
  },
  {
   "cell_type": "raw",
   "id": "cfb6262b-f248-43c9-97fc-5982e6f33877",
   "metadata": {},
   "source": [
    "# END QUESTION"
   ]
  },
  {
   "cell_type": "raw",
   "id": "562f40e8-fab2-4d99-89ac-bef409c2103e",
   "metadata": {},
   "source": [
    "# BEGIN QUESTION\n",
    "name: q33"
   ]
  },
  {
   "cell_type": "markdown",
   "id": "e333bc7c-35b2-4542-b4e4-bae27e50fa36",
   "metadata": {},
   "source": [
    "### Question 33\n",
    "\n",
    "A numpy array of integers, named `nvidia` contains the rough adjusted closing monthly stock prices (in dollars) of NVIDIA corporation, a key innovator in computer graphics, and AI technology, for the year 2023. It has total 12 items.\n"
   ]
  },
  {
   "cell_type": "code",
   "execution_count": 132,
   "id": "eaa292c3-fa98-46bf-9b5a-8c40f42ee4fc",
   "metadata": {},
   "outputs": [
    {
     "data": {
      "text/plain": [
       "array([19.52, 23.2 , 27.76, 27.74, 37.82, 42.28, 46.71, 49.34, 43.48,\n",
       "       40.77, 46.76, 49.51])"
      ]
     },
     "execution_count": 132,
     "metadata": {},
     "output_type": "execute_result"
    }
   ],
   "source": [
    "nvidia = np.array([19.52, 23.20, 27.76, 27.74, 37.82, 42.28, 46.71, 49.34, 43.48, 40.77, 46.76, 49.51])\n",
    "nvidia"
   ]
  },
  {
   "cell_type": "markdown",
   "id": "2738e4e8-b484-4493-9980-33dd1ffcadd0",
   "metadata": {},
   "source": [
    "Write a Python code to answer each of the following questions.\n",
    "\n",
    "#### Question 33(a)\n",
    "What is the stock price value in October? Round your answer upto two decimal points."
   ]
  },
  {
   "cell_type": "raw",
   "id": "fbd4ba15-9cf3-480d-a7d1-d04f70591e59",
   "metadata": {},
   "source": [
    "# BEGIN SOLUTION"
   ]
  },
  {
   "cell_type": "code",
   "execution_count": 148,
   "id": "549293c9-298f-4741-962c-c551b4ae9d97",
   "metadata": {},
   "outputs": [
    {
     "data": {
      "text/plain": [
       "np.float64(40.77)"
      ]
     },
     "execution_count": 148,
     "metadata": {},
     "output_type": "execute_result"
    }
   ],
   "source": [
    "your_ans = np.round(nvidia[9], 2) # SOLUTION\n",
    "your_ans"
   ]
  },
  {
   "cell_type": "raw",
   "id": "30c6cb3c-c7c2-492c-bf5f-046d6635b837",
   "metadata": {},
   "source": [
    "# END SOLUTION"
   ]
  },
  {
   "cell_type": "raw",
   "id": "ed9c72ca-9cb5-4ebd-affc-6e3631848c23",
   "metadata": {},
   "source": [
    "# BEGIN TESTS"
   ]
  },
  {
   "cell_type": "code",
   "execution_count": 149,
   "id": "641d2860-9f62-427d-91c9-1c63cbe11e58",
   "metadata": {},
   "outputs": [
    {
     "data": {
      "text/plain": [
       "True"
      ]
     },
     "execution_count": 149,
     "metadata": {},
     "output_type": "execute_result"
    }
   ],
   "source": [
    "np.isclose(40.77, your_ans).item()"
   ]
  },
  {
   "cell_type": "raw",
   "id": "663144d4-963e-4aa5-a653-921a55c7d3a1",
   "metadata": {},
   "source": [
    "# END TESTS"
   ]
  },
  {
   "cell_type": "raw",
   "id": "2c2dcccc-6c1a-4fb1-a129-1a3f96f270bf",
   "metadata": {},
   "source": [
    "# END QUESTION"
   ]
  },
  {
   "cell_type": "raw",
   "id": "9dc036b3-2222-4460-be03-dca8e2091c60",
   "metadata": {},
   "source": [
    "# BEGIN QUESTION\n",
    "name: q33b"
   ]
  },
  {
   "cell_type": "markdown",
   "id": "d16fde63-7017-4369-b7bf-a55dba490ed2",
   "metadata": {},
   "source": [
    "### Question 33(b)\n",
    "The stock price change for each consecutive month from Jan to Dec. For eg: the change of stock price between month of Feb and Jan is 23.2 - 19.52 = 3.68. Round your answer upto two decimal points. Your final answer should be a numpy array with 11 elements. Store your answer in the variable, `nvidia_diff`. "
   ]
  },
  {
   "cell_type": "raw",
   "id": "6cfb2a55-d798-43e9-98ab-8c802904dcdf",
   "metadata": {},
   "source": [
    "# BEGIN SOLUTION"
   ]
  },
  {
   "cell_type": "code",
   "execution_count": 135,
   "id": "8208ac69-3e83-42e6-a880-c30f196b274b",
   "metadata": {},
   "outputs": [
    {
     "data": {
      "text/plain": [
       "array([ 3.68,  4.56, -0.02, 10.08,  4.46,  4.43,  2.63, -5.86, -2.71,\n",
       "        5.99,  2.75])"
      ]
     },
     "execution_count": 135,
     "metadata": {},
     "output_type": "execute_result"
    }
   ],
   "source": [
    "nvidia_diff = np.round(np.diff(nvidia), 2) # SOLUTION\n",
    "nvidia_diff"
   ]
  },
  {
   "cell_type": "raw",
   "id": "6105aa08-4863-4cb0-b2b8-8d1d751d9e8b",
   "metadata": {},
   "source": [
    "# END SOLUTION"
   ]
  },
  {
   "cell_type": "raw",
   "id": "43388583-5be3-423a-ba7b-8eb7edd1aeaa",
   "metadata": {},
   "source": [
    "# BEGIN TESTS"
   ]
  },
  {
   "cell_type": "code",
   "execution_count": 136,
   "id": "b6ddb4bc-a5ee-4b28-afd4-1c676d9405ca",
   "metadata": {},
   "outputs": [
    {
     "data": {
      "text/plain": [
       "True"
      ]
     },
     "execution_count": 136,
     "metadata": {},
     "output_type": "execute_result"
    }
   ],
   "source": [
    "len(nvidia_diff) == 11"
   ]
  },
  {
   "cell_type": "code",
   "execution_count": 137,
   "id": "e31672c8-e652-44f1-88fe-ee82ca7f9ada",
   "metadata": {},
   "outputs": [
    {
     "data": {
      "text/plain": [
       "np.True_"
      ]
     },
     "execution_count": 137,
     "metadata": {},
     "output_type": "execute_result"
    }
   ],
   "source": [
    "np.isclose(nvidia_diff[-1], 2.75).item()"
   ]
  },
  {
   "cell_type": "raw",
   "id": "bdb5383d-f678-4e1e-96fa-1cfd033013cb",
   "metadata": {},
   "source": [
    "# END TESTS"
   ]
  },
  {
   "cell_type": "raw",
   "id": "8b3907de-7688-417a-bca6-35c902509c98",
   "metadata": {},
   "source": [
    "# END QUESTION"
   ]
  },
  {
   "cell_type": "raw",
   "id": "f1f64dee-ca84-424d-9a34-50ed804b0855",
   "metadata": {},
   "source": [
    "# BEGIN QUESTION\n",
    "name: q33c"
   ]
  },
  {
   "cell_type": "markdown",
   "id": "28f32d5b-9965-403f-8a18-df4c46152c0d",
   "metadata": {},
   "source": [
    "### Question 33(c)\n",
    "\n",
    "Check if the stock prices ever rose by more than 4 dollars between consecutive months. Your solution should include Python code that returns either True or False (without explicitly writing True or False in the answer)."
   ]
  },
  {
   "cell_type": "raw",
   "id": "efb70193-a7c2-4c71-9be7-d9c0556ccf48",
   "metadata": {},
   "source": [
    "# BEGIN SOLUTION"
   ]
  },
  {
   "cell_type": "code",
   "execution_count": 138,
   "id": "1f553b08-a926-4958-991b-891f093e49f7",
   "metadata": {},
   "outputs": [
    {
     "data": {
      "text/plain": [
       "array([ 3.68,  4.56, -0.02, 10.08,  4.46,  4.43,  2.63, -5.86, -2.71,\n",
       "        5.99,  2.75])"
      ]
     },
     "execution_count": 138,
     "metadata": {},
     "output_type": "execute_result"
    }
   ],
   "source": [
    "nvidia_diff"
   ]
  },
  {
   "cell_type": "code",
   "execution_count": 150,
   "id": "522fda58-1757-477a-a81b-6f3d50cd7bb2",
   "metadata": {},
   "outputs": [
    {
     "data": {
      "text/plain": [
       "np.True_"
      ]
     },
     "execution_count": 150,
     "metadata": {},
     "output_type": "execute_result"
    }
   ],
   "source": [
    "your_ans = np.any(nvidia_diff > 4) # SOLUTION\n",
    "your_ans"
   ]
  },
  {
   "cell_type": "raw",
   "id": "98b1493d-b15b-4aa6-85d6-f38a932b9539",
   "metadata": {},
   "source": [
    "# END SOLUTION"
   ]
  },
  {
   "cell_type": "raw",
   "id": "67d7368e-2889-490b-a5d2-9ae6ff28a523",
   "metadata": {},
   "source": [
    "# BEGIN TESTS"
   ]
  },
  {
   "cell_type": "code",
   "execution_count": 151,
   "id": "4b6061c6-700f-4a00-9d74-4904d346259c",
   "metadata": {},
   "outputs": [
    {
     "data": {
      "text/plain": [
       "True"
      ]
     },
     "execution_count": 151,
     "metadata": {},
     "output_type": "execute_result"
    }
   ],
   "source": [
    "your_ans.item() == True"
   ]
  },
  {
   "cell_type": "raw",
   "id": "ca650898-bcce-4857-89e4-b49e3af82bd4",
   "metadata": {},
   "source": [
    "# END TESTS"
   ]
  },
  {
   "cell_type": "raw",
   "id": "12bfd9cb-0051-4b03-a6b9-0ea8190c15a5",
   "metadata": {},
   "source": [
    "# END QUESTION"
   ]
  },
  {
   "cell_type": "raw",
   "id": "39c15111-63cc-4160-9219-4682d4b1b586",
   "metadata": {},
   "source": [
    "# BEGIN QUESTION\n",
    "name: q33d"
   ]
  },
  {
   "cell_type": "markdown",
   "id": "8d58ccf8-11f1-4bc1-a777-a89dae80de81",
   "metadata": {},
   "source": [
    "### Question 33(d)\n",
    "\n",
    "Determine how many times the stock prices increased by more than 4 dollars between consecutive months. Your answer should include Python code that returns either True or False (without directly writing True or False in your answer)."
   ]
  },
  {
   "cell_type": "raw",
   "id": "2fce8152-e858-4031-ad7d-ae1be68974dd",
   "metadata": {},
   "source": [
    "# BEGIN SOLUTION"
   ]
  },
  {
   "cell_type": "code",
   "execution_count": 141,
   "id": "0ce3c36f-4527-40e0-9f09-5edb2f3dfe2b",
   "metadata": {},
   "outputs": [
    {
     "data": {
      "text/plain": [
       "5"
      ]
     },
     "execution_count": 141,
     "metadata": {},
     "output_type": "execute_result"
    }
   ],
   "source": [
    "your_ans = np.count_nonzero(nvidia_diff > 4) # SOLUTION\n",
    "your_ans"
   ]
  },
  {
   "cell_type": "raw",
   "id": "ce1e6bb3-d69c-4a96-96f7-91c60928c945",
   "metadata": {},
   "source": [
    "# END SOLUTION"
   ]
  },
  {
   "cell_type": "raw",
   "id": "0e2427c7-d75d-4017-b912-fe6e31ef8987",
   "metadata": {},
   "source": [
    "# BEGIN TESTS"
   ]
  },
  {
   "cell_type": "raw",
   "id": "48b28308-97e6-4181-af0f-06eb0c67ec64",
   "metadata": {},
   "source": [
    "# END TESTS"
   ]
  },
  {
   "cell_type": "raw",
   "id": "41104faf-ae52-42ef-9ca2-8f739d724dac",
   "metadata": {},
   "source": [
    "# END QUESTION"
   ]
  },
  {
   "cell_type": "raw",
   "id": "fe436856-f0a6-42ae-8a08-193820525a85",
   "metadata": {},
   "source": [
    "# BEGIN QUESTION\n",
    "name: q33e"
   ]
  },
  {
   "cell_type": "markdown",
   "id": "2b22e99d-57a7-42d2-9fa8-7b2c438dc4c7",
   "metadata": {},
   "source": [
    "### Question 33(e)\n",
    "\n",
    "Determine how many times the stock prices ever **rose** by less than 4 dollars between consecutive months. Your solution should include Python code that returns either True or False (without explicitly writing True or False in the answer)."
   ]
  },
  {
   "cell_type": "raw",
   "id": "1b59c8d9-93d6-45f5-acd2-e1dd02bb223f",
   "metadata": {},
   "source": [
    "# BEGIN SOLUTION"
   ]
  },
  {
   "cell_type": "code",
   "execution_count": 142,
   "id": "dc6fb8e0-0bf9-43d4-ad20-8ea94b4c9281",
   "metadata": {},
   "outputs": [
    {
     "data": {
      "text/plain": [
       "array([ 3.68,  4.56, -0.02, 10.08,  4.46,  4.43,  2.63, -5.86, -2.71,\n",
       "        5.99,  2.75])"
      ]
     },
     "execution_count": 142,
     "metadata": {},
     "output_type": "execute_result"
    }
   ],
   "source": [
    "nvidia_diff"
   ]
  },
  {
   "cell_type": "code",
   "execution_count": 143,
   "id": "69c00f0d-f078-477f-a9a5-7438fd98650c",
   "metadata": {},
   "outputs": [
    {
     "data": {
      "text/plain": [
       "3"
      ]
     },
     "execution_count": 143,
     "metadata": {},
     "output_type": "execute_result"
    }
   ],
   "source": [
    "mask = np.logical_and(nvidia_diff < 4, nvidia_diff > 0) # SOLUTION NO PROMPT\n",
    "your_ans = len(nvidia_diff[mask]) # SOLUTION\n",
    "your_ans"
   ]
  },
  {
   "cell_type": "raw",
   "id": "2e9cbb1a-9974-4d9c-8d04-c0edba05d793",
   "metadata": {},
   "source": [
    "# END SOLUTION"
   ]
  },
  {
   "cell_type": "raw",
   "id": "1c0b344c-633b-4258-9696-23e170e31a96",
   "metadata": {},
   "source": [
    "# BEGIN TESTS"
   ]
  },
  {
   "cell_type": "code",
   "execution_count": 144,
   "id": "f7a8d0d0-e2e4-4017-8a84-a13854b9b085",
   "metadata": {},
   "outputs": [
    {
     "data": {
      "text/plain": [
       "True"
      ]
     },
     "execution_count": 144,
     "metadata": {},
     "output_type": "execute_result"
    }
   ],
   "source": [
    "your_ans == 3"
   ]
  },
  {
   "cell_type": "raw",
   "id": "b0609dec-5b3a-42d4-b6d9-a7c5e3965255",
   "metadata": {},
   "source": [
    "# END TESTS"
   ]
  },
  {
   "cell_type": "raw",
   "id": "654cb9cb-a4b1-40ba-a5f2-6117a854d51c",
   "metadata": {},
   "source": [
    "# END QUESTION"
   ]
  },
  {
   "cell_type": "raw",
   "id": "6af8689b-cb25-4150-a34d-36d0da8ab967",
   "metadata": {},
   "source": [
    "# BEGIN QUESTION\n",
    "name: q34a\n",
    "manual: true"
   ]
  },
  {
   "cell_type": "markdown",
   "id": "eaefddf5-0606-4fa2-8686-d527848b2c96",
   "metadata": {},
   "source": [
    "### Question 34:\n",
    "\n",
    "For each of the Python expressions below, write the output when the expression is evaluated. If the\n",
    "expression evaluates to an array, you should format your answer like so: `array([..., ..., ...])`. If the expression fails to run, then write `Error` as your answer. You\n",
    "may assume the standard import:\n",
    "\n",
    "```import numpy as np```  \n",
    "\n",
    "Do not run any code to answer these questions. \n",
    "\n",
    "#### Question 34(a) \n",
    "\n",
    "```np.array([5, 6, -3]) > 4```"
   ]
  },
  {
   "cell_type": "raw",
   "id": "e4f0c5e4-9d7f-45b3-acc2-6afcaebc0def",
   "metadata": {},
   "source": [
    "# BEGIN SOLUTION"
   ]
  },
  {
   "cell_type": "markdown",
   "id": "f459f8af-0094-4bc9-9d2f-293f7113a6b4",
   "metadata": {},
   "source": [
    "array([True, True, False])"
   ]
  },
  {
   "cell_type": "raw",
   "id": "f89f5622-7ead-4cc3-ba70-df59db104346",
   "metadata": {},
   "source": [
    "# END SOLUTION"
   ]
  },
  {
   "cell_type": "raw",
   "id": "a946ff6f-452b-4226-92ff-21ad3e6a0152",
   "metadata": {},
   "source": [
    "# BEGIN TESTS"
   ]
  },
  {
   "cell_type": "raw",
   "id": "62baf9b9-1546-4230-bb22-785ba3977772",
   "metadata": {},
   "source": [
    "# END TESTS"
   ]
  },
  {
   "cell_type": "raw",
   "id": "384af59c-6415-41f0-8cdc-89d12f774f62",
   "metadata": {},
   "source": [
    "# END QUESTION"
   ]
  },
  {
   "cell_type": "raw",
   "id": "06975546-71fe-4070-a95b-8785afdb3d73",
   "metadata": {},
   "source": [
    "# BEGIN QUESTION\n",
    "name: q34b\n",
    "manual: true"
   ]
  },
  {
   "cell_type": "markdown",
   "id": "3d261317-00cf-4f60-9dd7-3162234b2b1d",
   "metadata": {},
   "source": [
    "### Question 34(b)\n",
    "\n",
    "```np.sum(np.array([5, 2, 0]) < 3)```"
   ]
  },
  {
   "cell_type": "raw",
   "id": "ad2d2f23-2cad-4f61-b212-3503955d2100",
   "metadata": {},
   "source": [
    "# BEGIN SOLUTION"
   ]
  },
  {
   "cell_type": "markdown",
   "id": "df7a9b31-c4b2-4266-a852-40d3e459cc87",
   "metadata": {},
   "source": [
    "2"
   ]
  },
  {
   "cell_type": "raw",
   "id": "c4893b34-c927-429d-ad46-8ca1f44303f1",
   "metadata": {},
   "source": [
    "# END SOLUTION"
   ]
  },
  {
   "cell_type": "raw",
   "id": "b5949d2d-5f6c-4555-8db5-fed53ea20a5d",
   "metadata": {},
   "source": [
    "# BEGIN TESTS"
   ]
  },
  {
   "cell_type": "raw",
   "id": "551c1f98-4eac-4725-a832-f082a0436c04",
   "metadata": {},
   "source": [
    "# END TESTS"
   ]
  },
  {
   "cell_type": "raw",
   "id": "e61fa02a-0ed4-4d5f-a7bf-02b44504e839",
   "metadata": {},
   "source": [
    "# END QUESTION"
   ]
  },
  {
   "cell_type": "raw",
   "id": "19fe73ed-fb59-4e56-a224-e39a471f05c2",
   "metadata": {},
   "source": [
    "# BEGIN QUESTION\n",
    "name: q34c\n",
    "manual: true"
   ]
  },
  {
   "cell_type": "markdown",
   "id": "c0eeecd0-e607-4145-a38f-618f6a3617a6",
   "metadata": {},
   "source": [
    "### Question 34(c)\n",
    "\n",
    "```np.array([1, 2, 3]) - np.array([1, 1, 1])```"
   ]
  },
  {
   "cell_type": "raw",
   "id": "10e6671f-dcd8-4f1a-8979-18d13123e4a3",
   "metadata": {},
   "source": [
    "# BEGIN SOLUTION"
   ]
  },
  {
   "cell_type": "markdown",
   "id": "cafe77e5-7eba-498a-8a49-eb12bed1d729",
   "metadata": {},
   "source": [
    "array([0, 1, 2])"
   ]
  },
  {
   "cell_type": "raw",
   "id": "d2f10f03-553b-4e67-b5d6-e9be7ae57066",
   "metadata": {},
   "source": [
    "# END SOLUTION"
   ]
  },
  {
   "cell_type": "raw",
   "id": "84ecc323-6fd8-43e1-bb55-62bc87c55702",
   "metadata": {},
   "source": [
    "# BEGIN TESTS"
   ]
  },
  {
   "cell_type": "raw",
   "id": "5a7add48-89e9-4ada-9bd2-9eff85474c7f",
   "metadata": {},
   "source": [
    "# END TESTS"
   ]
  },
  {
   "cell_type": "raw",
   "id": "905945fd-9dbf-4874-8d8e-b97deba946c7",
   "metadata": {},
   "source": [
    "# END QUESTION"
   ]
  },
  {
   "cell_type": "raw",
   "id": "630c8d83-d719-49a4-9b22-2d558a06bbb1",
   "metadata": {},
   "source": [
    "# BEGIN QUESTION\n",
    "name: q34d\n",
    "manual: true"
   ]
  },
  {
   "cell_type": "markdown",
   "id": "ae1d4b0f-ede8-4a65-82c5-f10c19e2ab01",
   "metadata": {},
   "source": [
    "### Question 34(d)\n",
    "\n",
    "```np.array([2, 2, 2]) - 2 ```"
   ]
  },
  {
   "cell_type": "raw",
   "id": "8ed6baf3-86d2-4603-b644-1b62f0cbff81",
   "metadata": {},
   "source": [
    "# BEGIN SOLUTION"
   ]
  },
  {
   "cell_type": "markdown",
   "id": "86bf8376-d43d-460e-8817-c0b7c3ca168d",
   "metadata": {},
   "source": [
    "array([0, 0, 0]) "
   ]
  },
  {
   "cell_type": "raw",
   "id": "7b617c59-e8a7-49e4-a739-b72b5f7fe8c8",
   "metadata": {},
   "source": [
    "# END SOLUTION"
   ]
  },
  {
   "cell_type": "raw",
   "id": "2bf68931-22ca-4d19-9953-c40b48e7bb1e",
   "metadata": {},
   "source": [
    "# BEGIN TESTS"
   ]
  },
  {
   "cell_type": "raw",
   "id": "60104912-42a3-4efc-9b48-67ff9ac84583",
   "metadata": {},
   "source": [
    "# END TESTS"
   ]
  },
  {
   "cell_type": "raw",
   "id": "bb395d25-0996-4950-8fa5-9190d44917e8",
   "metadata": {},
   "source": [
    "# END QUESTION"
   ]
  },
  {
   "cell_type": "raw",
   "id": "a65ebe19-08e2-4f18-8c06-09dbe60b8ef8",
   "metadata": {},
   "source": [
    "# BEGIN QUESTION\n",
    "name: q34e\n",
    "manual: true"
   ]
  },
  {
   "cell_type": "markdown",
   "id": "072dcc2c-597b-4397-9548-31966bf58c8c",
   "metadata": {},
   "source": [
    "### Question 34(e)\n",
    "\n",
    "```np.array([4, 4, 5]) - np.array([2, 2])```"
   ]
  },
  {
   "cell_type": "raw",
   "id": "0870d3d0-9f8a-4c7f-8544-2dd53a17ebd4",
   "metadata": {},
   "source": [
    "# BEGIN SOLUTION"
   ]
  },
  {
   "cell_type": "markdown",
   "id": "daebc341-3e4b-4a06-9610-287754891bca",
   "metadata": {},
   "source": [
    "Error, numpy arrays of different shape"
   ]
  },
  {
   "cell_type": "raw",
   "id": "e1a76320-ad38-4c9a-a017-90cf56011116",
   "metadata": {},
   "source": [
    "# END SOLUTION"
   ]
  },
  {
   "cell_type": "raw",
   "id": "06bdc7bc-8e69-4d87-b24d-73898681eb0d",
   "metadata": {},
   "source": [
    "# BEGIN TESTS"
   ]
  },
  {
   "cell_type": "raw",
   "id": "11c5a953-61c5-4baa-ada3-f772861858b4",
   "metadata": {},
   "source": [
    "# END TESTS"
   ]
  },
  {
   "cell_type": "raw",
   "id": "d8384e65-2728-4eaa-ae84-070dcff58a8d",
   "metadata": {},
   "source": [
    "# END QUESTION"
   ]
  },
  {
   "cell_type": "raw",
   "id": "6c8c08f0-90ed-40b2-9507-8af4f3bd9d04",
   "metadata": {},
   "source": [
    "# BEGIN QUESTION\n",
    "name: q34f\n",
    "manual: true"
   ]
  },
  {
   "cell_type": "markdown",
   "id": "3d10a769-c59c-4f4b-8c6c-e8521b4ba990",
   "metadata": {},
   "source": [
    "### Question 34(f)\n",
    "\n",
    "```np.arange(1, 10, 2)```"
   ]
  },
  {
   "cell_type": "raw",
   "id": "326c8152-ec4f-48cc-8ac8-859791200b6c",
   "metadata": {},
   "source": [
    "# BEGIN SOLUTION"
   ]
  },
  {
   "cell_type": "markdown",
   "id": "d797e88e-94e9-432f-a488-e1c83777b8a8",
   "metadata": {},
   "source": [
    "array([1, 3, 5, 7, 9])"
   ]
  },
  {
   "cell_type": "raw",
   "id": "ee1ec108-5013-4c04-8c32-97990ced05fb",
   "metadata": {},
   "source": [
    "# END SOLUTION"
   ]
  },
  {
   "cell_type": "raw",
   "id": "2d4cbf7f-7f16-4f5a-a8c1-a2ec9a9cf5db",
   "metadata": {},
   "source": [
    "# BEGIN TESTS"
   ]
  },
  {
   "cell_type": "raw",
   "id": "544c0b7f-dba4-4cfd-909a-be9080d32b46",
   "metadata": {},
   "source": [
    "# END TESTS"
   ]
  },
  {
   "cell_type": "raw",
   "id": "edd08bfc-c6fc-4a8c-b865-c74092fcb067",
   "metadata": {},
   "source": [
    "# END QUESTION"
   ]
  },
  {
   "cell_type": "raw",
   "id": "46a7b193-f019-4065-ab32-81dce83eb65e",
   "metadata": {},
   "source": [
    "# BEGIN QUESTION\n",
    "name: q34g\n",
    "manual: true"
   ]
  },
  {
   "cell_type": "markdown",
   "id": "42a7e3c8-d99d-460f-babc-e65580c79a57",
   "metadata": {},
   "source": [
    "### Question 34(g)\n",
    "\n",
    "```\n",
    "arr = np.arange(10, 100, 10)\n",
    "new_arr = arr[np.arange(1, 5)]\n",
    "print(new_arr)\n",
    "```"
   ]
  },
  {
   "cell_type": "raw",
   "id": "b020f522-dafa-4ab0-ae14-df6954a85af2",
   "metadata": {},
   "source": [
    "# BEGIN SOLUTION"
   ]
  },
  {
   "cell_type": "markdown",
   "id": "f40344e3-29c5-4d40-9f71-ea4df6174837",
   "metadata": {},
   "source": [
    "array([20, 30, 40, 50])"
   ]
  },
  {
   "cell_type": "raw",
   "id": "4ffc8e1e-c6c1-4674-bc7b-1ed7091c7ebf",
   "metadata": {},
   "source": [
    "# END SOLUTION"
   ]
  },
  {
   "cell_type": "raw",
   "id": "9093960b-cf4a-496f-abaf-09a402166e92",
   "metadata": {},
   "source": [
    "# BEGIN TESTS"
   ]
  },
  {
   "cell_type": "raw",
   "id": "3cc9bbde-8570-4522-aa9b-4392c65a3ee9",
   "metadata": {},
   "source": [
    "# END TESTS"
   ]
  },
  {
   "cell_type": "raw",
   "id": "c1247ffb-ee13-49bb-96a7-7f4f69cd05cf",
   "metadata": {},
   "source": [
    "# END QUESTION"
   ]
  },
  {
   "cell_type": "raw",
   "id": "35f957fb-2438-4f10-81ff-9afbad4274f9",
   "metadata": {},
   "source": [
    "# BEGIN QUESTION\n",
    "name: q34h\n",
    "manual: true"
   ]
  },
  {
   "cell_type": "markdown",
   "id": "094f292e-fb90-466a-9684-86f3b3636b69",
   "metadata": {},
   "source": [
    "### Question 34(h)\n",
    "\n",
    "```np.arange(1, 10, 3)```"
   ]
  },
  {
   "cell_type": "raw",
   "id": "44ce3c61-3cb7-4d3c-b5c0-084f75ad5431",
   "metadata": {},
   "source": [
    "# BEGIN SOLUTION"
   ]
  },
  {
   "cell_type": "markdown",
   "id": "00d787de-99d7-4a5f-91e3-1f6dd2a5ee5e",
   "metadata": {},
   "source": [
    "array([1, 4, 7])"
   ]
  },
  {
   "cell_type": "raw",
   "id": "b80edaef-c808-496e-bf6f-cd645db4ee8c",
   "metadata": {},
   "source": [
    "# END SOLUTION"
   ]
  },
  {
   "cell_type": "raw",
   "id": "0ae8f19f-2874-40c7-9679-82b2ceda6e84",
   "metadata": {},
   "source": [
    "# BEGIN TESTS"
   ]
  },
  {
   "cell_type": "raw",
   "id": "bfd3084f-9c24-4976-921e-0af6f6d5d758",
   "metadata": {},
   "source": [
    "# END TESTS"
   ]
  },
  {
   "cell_type": "raw",
   "id": "e89cc264-70f2-48e6-a2e7-13e0cb714709",
   "metadata": {},
   "source": [
    "# END QUESTION"
   ]
  },
  {
   "cell_type": "raw",
   "id": "1cbc4d8f-2d26-4bf0-a3e1-a29f7035cba0",
   "metadata": {},
   "source": [
    "# BEGIN QUESTION\n",
    "name: q34i\n",
    "manual: true"
   ]
  },
  {
   "cell_type": "markdown",
   "id": "2c085da7-07a1-4078-be3a-8547e596465b",
   "metadata": {},
   "source": [
    "### Question 34(i)\n",
    "\n",
    "```\n",
    "arr = np.arange(10, 100, 10)\n",
    "new_arr = arr[np.arange(1, 7, 2)]\n",
    "print(new_arr)\n",
    "```"
   ]
  },
  {
   "cell_type": "raw",
   "id": "13b1dcff-22e9-43a8-bd04-27ad9a6d186d",
   "metadata": {},
   "source": [
    "# BEGIN SOLUTION"
   ]
  },
  {
   "cell_type": "markdown",
   "id": "f9c314aa-8c00-433c-860b-e620075a3863",
   "metadata": {},
   "source": [
    "array([20 40 60])"
   ]
  },
  {
   "cell_type": "raw",
   "id": "fc7d1148-eea7-48e1-9bb3-7503b4204954",
   "metadata": {},
   "source": [
    "# END SOLUTION"
   ]
  },
  {
   "cell_type": "raw",
   "id": "7330f24a-d550-4dd9-94d5-7c7f9595ecb7",
   "metadata": {},
   "source": [
    "# BEGIN TESTS"
   ]
  },
  {
   "cell_type": "raw",
   "id": "48ff98af-49ce-4976-976e-2c3c1710cea6",
   "metadata": {},
   "source": [
    "# END TESTS"
   ]
  },
  {
   "cell_type": "raw",
   "id": "876bc6d7-da9d-4179-9fa8-742dddaac639",
   "metadata": {},
   "source": [
    "# END QUESTION"
   ]
  },
  {
   "cell_type": "raw",
   "id": "b0b1cbaf-3b5e-4826-94fe-deaffaeaf0fd",
   "metadata": {},
   "source": [
    "# BEGIN QUESTION\n",
    "name: q34j\n",
    "manual: true"
   ]
  },
  {
   "cell_type": "markdown",
   "id": "f4b9e74e-ea79-4ba4-9337-121c1f78178d",
   "metadata": {},
   "source": [
    "### Question 34j\n",
    "\n",
    "```\n",
    "arr = np.arange(10, 100, 10)\n",
    "new_arr = arr[np.arange(1, 10, 2)]\n",
    "print(new_arr)\n",
    "```"
   ]
  },
  {
   "cell_type": "raw",
   "id": "52dc7763-a880-4cb7-a382-5bc26c555c7c",
   "metadata": {},
   "source": [
    "# BEGIN SOLUTION"
   ]
  },
  {
   "cell_type": "markdown",
   "id": "05e10099-4f44-478c-996e-0545462c9c42",
   "metadata": {},
   "source": [
    "Error, arr[9] do not exist"
   ]
  },
  {
   "cell_type": "raw",
   "id": "d1144a2a-d12c-4ace-9c77-c0f5c0971ab4",
   "metadata": {},
   "source": [
    "# END SOLUTION"
   ]
  },
  {
   "cell_type": "raw",
   "id": "326ad2cd-8078-4824-916f-6006e36548d0",
   "metadata": {},
   "source": [
    "# BEGIN TESTS"
   ]
  },
  {
   "cell_type": "raw",
   "id": "87f6471b-8c9c-471b-b708-753b491ae8e9",
   "metadata": {},
   "source": [
    "# END TESTS"
   ]
  },
  {
   "cell_type": "raw",
   "id": "26276aad-5b23-4584-ada9-4cfb888a90b8",
   "metadata": {},
   "source": [
    "# END QUESTION"
   ]
  },
  {
   "cell_type": "raw",
   "id": "761ffbed-14dc-4deb-a11f-12cb00585248",
   "metadata": {},
   "source": [
    "# BEGIN QUESTION\n",
    "name: q34k\n",
    "manual: true"
   ]
  },
  {
   "cell_type": "markdown",
   "id": "8accdd4c-534c-441a-ae45-501d4baac750",
   "metadata": {},
   "source": [
    "### Question 34k\n",
    "\n",
    "```\n",
    "np.cumsum(np.array([1, 2, 4]))\n",
    "```"
   ]
  },
  {
   "cell_type": "raw",
   "id": "40798234-36e4-4ec8-acae-b57acc19c67d",
   "metadata": {},
   "source": [
    "# BEGIN SOLUTION"
   ]
  },
  {
   "cell_type": "markdown",
   "id": "a35cc3b0-6e62-4936-b9ba-aa623f2b8e88",
   "metadata": {},
   "source": [
    "array([1, 3, 7])"
   ]
  },
  {
   "cell_type": "raw",
   "id": "208f16c4-0b45-43f8-b4e9-0b3286a3e3c0",
   "metadata": {},
   "source": [
    "# END SOLUTION"
   ]
  },
  {
   "cell_type": "raw",
   "id": "1e74aa76-acbf-46bf-8aea-d79940e7e566",
   "metadata": {},
   "source": [
    "# BEGIN TESTS"
   ]
  },
  {
   "cell_type": "raw",
   "id": "264659ea-250a-4422-9dcc-1b6da14f055a",
   "metadata": {},
   "source": [
    "# END TESTS"
   ]
  },
  {
   "cell_type": "raw",
   "id": "45052206-9626-4ad7-b003-7c8fc0cb6997",
   "metadata": {},
   "source": [
    "# END QUESTION"
   ]
  },
  {
   "cell_type": "raw",
   "id": "04eb4956-c2d4-435b-8c6a-b655a59a1317",
   "metadata": {},
   "source": [
    "# BEGIN QUESTION\n",
    "name: q34l\n",
    "manual: true"
   ]
  },
  {
   "cell_type": "markdown",
   "id": "bc17865e-a381-4530-bf6b-7c1302dadcb2",
   "metadata": {},
   "source": [
    "### Question 34l\n",
    "\n",
    "```\n",
    "arr = np.array([3, 5, 7])\n",
    "arr[np.array([True, False, False])]\n",
    "```"
   ]
  },
  {
   "cell_type": "raw",
   "id": "ea3f444b-7d07-4ab3-80db-f3139bb9937c",
   "metadata": {},
   "source": [
    "# BEGIN SOLUTION"
   ]
  },
  {
   "cell_type": "markdown",
   "id": "83521365-c110-48b2-9752-5a8108b38de4",
   "metadata": {},
   "source": [
    "array([3])"
   ]
  },
  {
   "cell_type": "raw",
   "id": "b95f972e-520d-4016-9e1e-1f48b74d6f83",
   "metadata": {},
   "source": [
    "# END SOLUTION"
   ]
  },
  {
   "cell_type": "raw",
   "id": "ce1bc45c-95a0-4ca5-85ed-4908d9e5c3d7",
   "metadata": {},
   "source": [
    "# BEGIN TESTS"
   ]
  },
  {
   "cell_type": "raw",
   "id": "e79747c7-cba3-4af5-a2d2-79da41234800",
   "metadata": {},
   "source": [
    "# END TESTS"
   ]
  },
  {
   "cell_type": "raw",
   "id": "4916bac4-0785-4772-b577-0d83258a0670",
   "metadata": {},
   "source": [
    "# END QUESTION"
   ]
  },
  {
   "cell_type": "raw",
   "id": "2561c582-95a0-4429-a66c-a9b50246c993",
   "metadata": {},
   "source": [
    "# BEGIN QUESTION\n",
    "name: q34m\n",
    "manual: true"
   ]
  },
  {
   "cell_type": "markdown",
   "id": "49d34bb8-3e82-4576-ac19-0bc131979eb6",
   "metadata": {},
   "source": [
    "### Question 34m\n",
    "\n",
    "```\n",
    "arr = np.array([[1, 1], [-2, 3]])\n",
    "arr[arr > 0]\n",
    "```"
   ]
  },
  {
   "cell_type": "raw",
   "id": "7d6fea8c-6510-4d21-bd46-d36139a09d84",
   "metadata": {},
   "source": [
    "# BEGIN SOLUTION"
   ]
  },
  {
   "cell_type": "markdown",
   "id": "dca54234-8d3e-48c9-b454-d53594ffecdf",
   "metadata": {},
   "source": [
    "array([1, 1, 3])"
   ]
  },
  {
   "cell_type": "raw",
   "id": "0a2cf9b0-1d24-491d-891e-4721f15414de",
   "metadata": {},
   "source": [
    "# END SOLUTION"
   ]
  },
  {
   "cell_type": "raw",
   "id": "783707db-6e20-4db6-9c15-6125ea374ac1",
   "metadata": {},
   "source": [
    "# BEGIN TESTS"
   ]
  },
  {
   "cell_type": "raw",
   "id": "2671862d-8571-4252-b3b2-877825621600",
   "metadata": {},
   "source": [
    "# END TESTS"
   ]
  },
  {
   "cell_type": "raw",
   "id": "b86fcb73-4536-4f4b-8b6c-6909ce7d4363",
   "metadata": {},
   "source": [
    "# END QUESTION"
   ]
  },
  {
   "cell_type": "raw",
   "id": "ebb59fe8-8d05-46fc-9ad6-26029a7d4cb8",
   "metadata": {},
   "source": [
    "# BEGIN QUESTION\n",
    "name: q34n\n",
    "manual: true"
   ]
  },
  {
   "cell_type": "markdown",
   "id": "d5787eef-d274-4985-af00-6c295da9f9d1",
   "metadata": {},
   "source": [
    "### Question 34(n)\n",
    "\n",
    "```\n",
    "arr = np.array([[1, 1], [-2, 3]])\n",
    "arr[arr < 0] = 1000\n",
    "arr\n",
    "```"
   ]
  },
  {
   "cell_type": "raw",
   "id": "ef062419-583b-4f62-a8c8-a973448e30ff",
   "metadata": {},
   "source": [
    "# BEGIN SOLUTION"
   ]
  },
  {
   "cell_type": "markdown",
   "id": "321a9db7-6b2a-4933-a4c3-1b9d1e0d0e19",
   "metadata": {},
   "source": [
    "array([[   1,    1],\n",
    "       [1000,    3]])"
   ]
  },
  {
   "cell_type": "raw",
   "id": "5a9d1c58-97cb-4d12-a3c2-bf1e2b935fd8",
   "metadata": {},
   "source": [
    "# END SOLUTION"
   ]
  },
  {
   "cell_type": "raw",
   "id": "a7706171-fcdb-4a07-88d3-b21a9fa8359d",
   "metadata": {},
   "source": [
    "# BEGIN TESTS"
   ]
  },
  {
   "cell_type": "raw",
   "id": "94a4e1f3-2e48-4069-872d-06ae55509030",
   "metadata": {},
   "source": [
    "# END TESTS"
   ]
  },
  {
   "cell_type": "raw",
   "id": "117409d4-1b36-49ae-b631-3d41bf9362bf",
   "metadata": {},
   "source": [
    "# END QUESTION"
   ]
  },
  {
   "cell_type": "raw",
   "id": "fed3ee70-60c1-4a41-be11-4ff4635c8f7c",
   "metadata": {},
   "source": [
    "# BEGIN QUESTION\n",
    "name: q34o\n",
    "manual: true"
   ]
  },
  {
   "cell_type": "markdown",
   "id": "1d777d94-6d44-4a2e-bf66-192ff4d34d70",
   "metadata": {},
   "source": [
    "### Question 34(o)\n",
    "\n",
    "```\n",
    "\"csci\" + str(round(1461.78))\n",
    "```"
   ]
  },
  {
   "cell_type": "raw",
   "id": "f97853f5-7a06-46dd-b2f6-e27890f323f8",
   "metadata": {},
   "source": [
    "# BEGIN SOLUTION"
   ]
  },
  {
   "cell_type": "markdown",
   "id": "42263a41-4086-40f7-99e9-35650200c34a",
   "metadata": {},
   "source": [
    "csci1462"
   ]
  },
  {
   "cell_type": "raw",
   "id": "afb998f9-b1b5-47f9-9c23-66a203797c34",
   "metadata": {},
   "source": [
    "# END SOLUTION"
   ]
  },
  {
   "cell_type": "raw",
   "id": "be9536dd-5ee6-4cec-a2df-358b0d839e80",
   "metadata": {},
   "source": [
    "# BEGIN TESTS"
   ]
  },
  {
   "cell_type": "raw",
   "id": "7ec0d244-76f0-4959-84d9-bb369087f2da",
   "metadata": {},
   "source": [
    "# END TESTS"
   ]
  },
  {
   "cell_type": "raw",
   "id": "632f3934-f65f-4528-9360-7274c732ae5c",
   "metadata": {},
   "source": [
    "# END QUESTION"
   ]
  }
 ],
 "metadata": {
  "kernelspec": {
   "display_name": "Python 3 (ipykernel)",
   "language": "python",
   "name": "python3"
  },
  "language_info": {
   "codemirror_mode": {
    "name": "ipython",
    "version": 3
   },
   "file_extension": ".py",
   "mimetype": "text/x-python",
   "name": "python",
   "nbconvert_exporter": "python",
   "pygments_lexer": "ipython3",
   "version": "3.12.6"
  }
 },
 "nbformat": 4,
 "nbformat_minor": 5
}
