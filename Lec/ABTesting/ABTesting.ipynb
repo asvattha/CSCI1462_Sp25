{
 "cells": [
  {
   "cell_type": "markdown",
   "id": "edebb248-80d5-4c52-8650-29c9649b91c0",
   "metadata": {},
   "source": [
    "# A/B Testing\n",
    "\n"
   ]
  },
  {
   "cell_type": "code",
   "execution_count": 1,
   "id": "94ca0167-8ff6-40aa-a8a1-2042d312f465",
   "metadata": {},
   "outputs": [],
   "source": [
    "import pandas as pd\n",
    "import numpy as np\n",
    "import matplotlib.pyplot as plt\n",
    "from matplotlib import style \n",
    "plt.style.use('tableau-colorblind10') "
   ]
  },
  {
   "cell_type": "code",
   "execution_count": 2,
   "id": "b8e5cc3c-60f8-48c2-a37a-111b38745d0d",
   "metadata": {},
   "outputs": [
    {
     "data": {
      "text/html": [
       "<div>\n",
       "<style scoped>\n",
       "    .dataframe tbody tr th:only-of-type {\n",
       "        vertical-align: middle;\n",
       "    }\n",
       "\n",
       "    .dataframe tbody tr th {\n",
       "        vertical-align: top;\n",
       "    }\n",
       "\n",
       "    .dataframe thead th {\n",
       "        text-align: right;\n",
       "    }\n",
       "</style>\n",
       "<table border=\"1\" class=\"dataframe\">\n",
       "  <thead>\n",
       "    <tr style=\"text-align: right;\">\n",
       "      <th></th>\n",
       "      <th>Birth Weight</th>\n",
       "      <th>Gestational Days</th>\n",
       "      <th>Maternal Age</th>\n",
       "      <th>Maternal Height</th>\n",
       "      <th>Maternal Pregnancy Weight</th>\n",
       "      <th>Maternal Smoker</th>\n",
       "    </tr>\n",
       "  </thead>\n",
       "  <tbody>\n",
       "    <tr>\n",
       "      <th>0</th>\n",
       "      <td>120</td>\n",
       "      <td>284</td>\n",
       "      <td>27</td>\n",
       "      <td>62</td>\n",
       "      <td>100</td>\n",
       "      <td>False</td>\n",
       "    </tr>\n",
       "    <tr>\n",
       "      <th>1</th>\n",
       "      <td>113</td>\n",
       "      <td>282</td>\n",
       "      <td>33</td>\n",
       "      <td>64</td>\n",
       "      <td>135</td>\n",
       "      <td>False</td>\n",
       "    </tr>\n",
       "    <tr>\n",
       "      <th>2</th>\n",
       "      <td>128</td>\n",
       "      <td>279</td>\n",
       "      <td>28</td>\n",
       "      <td>64</td>\n",
       "      <td>115</td>\n",
       "      <td>True</td>\n",
       "    </tr>\n",
       "  </tbody>\n",
       "</table>\n",
       "</div>"
      ],
      "text/plain": [
       "   Birth Weight  Gestational Days  Maternal Age  Maternal Height  \\\n",
       "0           120               284            27               62   \n",
       "1           113               282            33               64   \n",
       "2           128               279            28               64   \n",
       "\n",
       "   Maternal Pregnancy Weight  Maternal Smoker  \n",
       "0                        100            False  \n",
       "1                        135            False  \n",
       "2                        115             True  "
      ]
     },
     "execution_count": 2,
     "metadata": {},
     "output_type": "execute_result"
    }
   ],
   "source": [
    "baby = pd.read_csv('data/baby.csv')\n",
    "baby.head(3)"
   ]
  },
  {
   "cell_type": "code",
   "execution_count": 3,
   "id": "fdc6981b-14d4-434c-953e-5e839027df5d",
   "metadata": {},
   "outputs": [],
   "source": [
    "smoking_mothers = baby.query('`Maternal Smoker` == True')\n",
    "nonsmoking_mothers = baby.query('`Maternal Smoker` == False')"
   ]
  },
  {
   "cell_type": "code",
   "execution_count": 4,
   "id": "f8537b04-f4e1-485f-9aed-9eca3eec32a7",
   "metadata": {},
   "outputs": [
    {
     "data": {
      "image/png": "[encoded data removed]",
      "text/plain": [
       "<Figure size 640x480 with 1 Axes>"
      ]
     },
     "metadata": {},
     "output_type": "display_data"
    }
   ],
   "source": [
    "plt.hist(smoking_mothers['Birth Weight'], edgecolor='black', label='Smoker', density=True, alpha=0.7)\n",
    "plt.hist(nonsmoking_mothers['Birth Weight'], edgecolor='black', label='Non-Smoker', density=True, alpha=0.7)\n",
    "plt.legend()\n",
    "plt.grid()\n",
    "plt.xlabel(\"Baby Weight\")\n",
    "plt.ylabel(\"Density of babies per lbs\")\n",
    "plt.show()"
   ]
  },
  {
   "cell_type": "code",
   "execution_count": 5,
   "id": "70dc1cc9-2c0c-4d0f-9885-a2aa3d4a707c",
   "metadata": {},
   "outputs": [
    {
     "data": {
      "text/html": [
       "<div>\n",
       "<style scoped>\n",
       "    .dataframe tbody tr th:only-of-type {\n",
       "        vertical-align: middle;\n",
       "    }\n",
       "\n",
       "    .dataframe tbody tr th {\n",
       "        vertical-align: top;\n",
       "    }\n",
       "\n",
       "    .dataframe thead th {\n",
       "        text-align: right;\n",
       "    }\n",
       "</style>\n",
       "<table border=\"1\" class=\"dataframe\">\n",
       "  <thead>\n",
       "    <tr style=\"text-align: right;\">\n",
       "      <th></th>\n",
       "      <th>Birth Weight</th>\n",
       "      <th>Gestational Days</th>\n",
       "      <th>Maternal Age</th>\n",
       "      <th>Maternal Height</th>\n",
       "      <th>Maternal Pregnancy Weight</th>\n",
       "      <th>Maternal Smoker</th>\n",
       "    </tr>\n",
       "  </thead>\n",
       "  <tbody>\n",
       "    <tr>\n",
       "      <th>0</th>\n",
       "      <td>120</td>\n",
       "      <td>284</td>\n",
       "      <td>27</td>\n",
       "      <td>62</td>\n",
       "      <td>100</td>\n",
       "      <td>False</td>\n",
       "    </tr>\n",
       "    <tr>\n",
       "      <th>1</th>\n",
       "      <td>113</td>\n",
       "      <td>282</td>\n",
       "      <td>33</td>\n",
       "      <td>64</td>\n",
       "      <td>135</td>\n",
       "      <td>False</td>\n",
       "    </tr>\n",
       "    <tr>\n",
       "      <th>2</th>\n",
       "      <td>128</td>\n",
       "      <td>279</td>\n",
       "      <td>28</td>\n",
       "      <td>64</td>\n",
       "      <td>115</td>\n",
       "      <td>True</td>\n",
       "    </tr>\n",
       "  </tbody>\n",
       "</table>\n",
       "</div>"
      ],
      "text/plain": [
       "   Birth Weight  Gestational Days  Maternal Age  Maternal Height  \\\n",
       "0           120               284            27               62   \n",
       "1           113               282            33               64   \n",
       "2           128               279            28               64   \n",
       "\n",
       "   Maternal Pregnancy Weight  Maternal Smoker  \n",
       "0                        100            False  \n",
       "1                        135            False  \n",
       "2                        115             True  "
      ]
     },
     "execution_count": 5,
     "metadata": {},
     "output_type": "execute_result"
    }
   ],
   "source": [
    "baby.head(3)"
   ]
  },
  {
   "cell_type": "code",
   "execution_count": 6,
   "id": "246e1993-b401-4a62-b107-4cc9f9be9b7c",
   "metadata": {},
   "outputs": [],
   "source": [
    "avg_bw_smoking = np.mean(smoking_mothers['Birth Weight'])\n",
    "avg_bw_nonsmoking = np.mean(nonsmoking_mothers['Birth Weight'])"
   ]
  },
  {
   "cell_type": "code",
   "execution_count": 7,
   "id": "c63756da-d677-4959-9fc4-8757717f8140",
   "metadata": {},
   "outputs": [
    {
     "data": {
      "text/plain": [
       "np.float64(-9.266142572024918)"
      ]
     },
     "execution_count": 7,
     "metadata": {},
     "output_type": "execute_result"
    }
   ],
   "source": [
    "observed_statistic = avg_bw_smoking - avg_bw_nonsmoking\n",
    "observed_statistic"
   ]
  },
  {
   "cell_type": "code",
   "execution_count": 8,
   "id": "9f9522be-ed4b-42af-8c18-7750f910a05a",
   "metadata": {},
   "outputs": [],
   "source": [
    "def calculate_statistic(dist1, dist2): # dist1 and dist2 are the distributions of the birth weight of smoking and non smoking mothers\n",
    "    statistic = np.mean(dist1) - np.mean(dist2)\n",
    "    return statistic"
   ]
  },
  {
   "cell_type": "code",
   "execution_count": 9,
   "id": "8fe2d5ca-5d09-4d8b-88f4-48d00041273f",
   "metadata": {},
   "outputs": [],
   "source": [
    "def one_simulation():\n",
    "    shuffled_smoker = baby.sample(baby.shape[0], replace=False)['Maternal Smoker']\n",
    "    shuffled_df = pd.DataFrame({'Maternal Smoker': shuffled_smoker.values,\n",
    "                               'Birth Weight': baby['Birth Weight'].values})\n",
    "    smoking = shuffled_df.query('`Maternal Smoker` == True')['Birth Weight']\n",
    "    nonsmoking = shuffled_df.query('`Maternal Smoker` == False')['Birth Weight']\n",
    "    statistic = calculate_statistic(smoking, nonsmoking)\n",
    "    return statistic"
   ]
  },
  {
   "cell_type": "code",
   "execution_count": 10,
   "id": "556f37cf-3abe-46c2-b4e1-8b5e2f66b053",
   "metadata": {},
   "outputs": [
    {
     "data": {
      "text/plain": [
       "np.float64(-2.075868793515852)"
      ]
     },
     "execution_count": 10,
     "metadata": {},
     "output_type": "execute_result"
    }
   ],
   "source": [
    "one_simulation()"
   ]
  },
  {
   "cell_type": "code",
   "execution_count": 11,
   "id": "5235cafc-9fd1-4f06-b89b-d004f1e821b8",
   "metadata": {},
   "outputs": [],
   "source": [
    "repetitions = 20000\n",
    "total_statistics = []\n",
    "\n",
    "\n",
    "for _ in np.arange(repetitions):\n",
    "    statistic = one_simulation()\n",
    "    total_statistics.append(statistic)\n",
    "\n",
    "total_statistics = np.array(total_statistics)"
   ]
  },
  {
   "cell_type": "code",
   "execution_count": 12,
   "id": "76d19114-55f8-4f03-a0c7-de206df5b50e",
   "metadata": {},
   "outputs": [
    {
     "data": {
      "image/png": "[encoded data removed]",
      "text/plain": [
       "<Figure size 640x480 with 1 Axes>"
      ]
     },
     "metadata": {},
     "output_type": "display_data"
    }
   ],
   "source": [
    "plt.hist(total_statistics, bins=20, density=True, edgecolor='black')\n",
    "plt.scatter(observed_statistic, 0.005, color='red')\n",
    "plt.grid()\n",
    "plt.xlabel('Statistics')\n",
    "plt.show()"
   ]
  },
  {
   "cell_type": "code",
   "execution_count": 13,
   "id": "d51d2e36-11b0-4b23-bad8-e6eca97942ec",
   "metadata": {},
   "outputs": [
    {
     "data": {
      "text/plain": [
       "np.float64(0.0)"
      ]
     },
     "execution_count": 13,
     "metadata": {},
     "output_type": "execute_result"
    }
   ],
   "source": [
    "p_value = np.sum(total_statistics <= observed_statistic) / repetitions\n",
    "p_value"
   ]
  },
  {
   "cell_type": "code",
   "execution_count": null,
   "id": "47d176b9-3233-4feb-a5dd-70093e953bbe",
   "metadata": {},
   "outputs": [],
   "source": []
  }
 ],
 "metadata": {
  "kernelspec": {
   "display_name": "Python 3 (ipykernel)",
   "language": "python",
   "name": "python3"
  },
  "language_info": {
   "codemirror_mode": {
    "name": "ipython",
    "version": 3
   },
   "file_extension": ".py",
   "mimetype": "text/x-python",
   "name": "python",
   "nbconvert_exporter": "python",
   "pygments_lexer": "ipython3",
   "version": "3.12.6"
  }
 },
 "nbformat": 4,
 "nbformat_minor": 5
}
