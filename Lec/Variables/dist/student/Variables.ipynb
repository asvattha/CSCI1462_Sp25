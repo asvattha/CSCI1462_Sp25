{
 "cells": [
  {
   "cell_type": "code",
   "execution_count": null,
   "id": "11ba3d1c",
   "metadata": {
    "deletable": false,
    "editable": false
   },
   "outputs": [],
   "source": [
    "# Initialize Otter\n",
    "import otter\n",
    "grader = otter.Notebook(\"Variables.ipynb\")"
   ]
  },
  {
   "cell_type": "markdown",
   "id": "84d18626-398b-421b-b693-dd8085cd2b65",
   "metadata": {},
   "source": [
    "# Variables in Python\n",
    "\n",
    "<img src=\"https://smartnumbers.com/wp-content/uploads/2022/01/Blog-Home-Thumbnail-Can-phone-numbers-be-used-to-authenticate-customers-in-the-contact-centre-scaled.jpg\"\n",
    "     alt=\"Contact\"\n",
    "     style=\"display: block; margin-left: auto; margin-right: auto; width: 300px;\" />\n",
    "    \n",
    "    \n",
    "A python **variable** is a name given to a value. They are used to store data, and are created the moment you assign a value to it. \n",
    "\n",
    "For eg: In your phone contacts list, the value is a phone number, and the name of the person you save corresponding to that phone number represents the variable. \n",
    "\n",
    "Every variable should have:\n",
    "1. Name\n",
    "2. Value\n",
    "3. Type (Data Types)"
   ]
  },
  {
   "cell_type": "markdown",
   "id": "76df2aba-4bc9-4c5a-a1e7-d5e4c8ef9381",
   "metadata": {},
   "source": [
    "## Variable Names\n",
    "\n",
    "Just like parents follow certain norm to name their child, such as, the names shouldn't be numbers, or shouldn't sound absurd. Similarly, python variable names follows rules given below:\n",
    "- A variable name must start with a letter or the underscore character\n",
    "- A variable name cannot start with a number\n",
    "- A variable name can only contain alpha-numeric characters and underscores (`A-Z`, `a-z`, `0-9`, ` _`)\n",
    "- Variable names are case-sensitive (name, NaMe, NAME are three different variable names)\n",
    "- A variable name cannot be any of the [Python keywords](https://www.geeksforgeeks.org/python-keywords/)\n",
    "\n",
    "Variable names with more than one word can be difficult to read. Therefore, we follow several techniques, such as Camel Case and Snake Case, to make variable names more readable.\n",
    "\n",
    "#### Camel case\n",
    "Each word, except the first, starts with a capital letter\n",
    "\n",
    "#### Snake case\n",
    "Each word is separated by an underscore character. \n",
    "\n",
    "> Use one of the technique to name your multiword variable names. \n",
    "\n",
    "For eg: `numberofstudents` is difficult to read. Let's convert it into one of the case\n",
    "\n",
    "Camel case: `numberOfStudents` \n",
    "Snake case: `number_of_students`"
   ]
  },
  {
   "cell_type": "markdown",
   "id": "ae29f9e0-2126-46e4-905b-dd8a36b28c39",
   "metadata": {},
   "source": [
    "## Values\n",
    "\n",
    "Values represent the data stored in the variable. There are different types of values that can be stored in a variable. Some of those can be classified into the following categories:\n",
    "\n",
    "| Categories | Example |\n",
    "| -----      | -----   |\n",
    "| Text       | \"hello how are you\", \"apple\", 'michael jackson' |\n",
    "| Discrete   | 12395923, -293823593, 5, 0, 239 |\n",
    "| Continuous | 1238.23595, -297851.5, 5.0, 293.59 |\n",
    "| Boolean    | True, False |\n",
    "\n",
    "... etc"
   ]
  },
  {
   "cell_type": "markdown",
   "id": "3c4182b1-b1b7-445c-99bd-f831eb6b045e",
   "metadata": {
    "deletable": false,
    "editable": false
   },
   "source": [
    "### Question 1: \n",
    "Create a variable named `personName` and assign your name to it. \n",
    "\n",
    "> Every text values in python should always be enclosed with double or single quotes. "
   ]
  },
  {
   "cell_type": "code",
   "execution_count": null,
   "id": "25f96338-7643-49ea-98e8-a55a7d0c36ca",
   "metadata": {
    "tags": []
   },
   "outputs": [],
   "source": [
    "personName = ..."
   ]
  },
  {
   "cell_type": "code",
   "execution_count": null,
   "id": "9d001777",
   "metadata": {
    "deletable": false,
    "editable": false
   },
   "outputs": [],
   "source": [
    "grader.check(\"q1\")"
   ]
  },
  {
   "cell_type": "markdown",
   "id": "7c717014-cb90-4f65-b40d-c8487b07c8e0",
   "metadata": {
    "deletable": false,
    "editable": false
   },
   "source": [
    "### Question 2:\n",
    "Which of the following is a valid variable name? Select all that apply. \n",
    "\n",
    "A. _counter <br>\n",
    "B. numberOfStudent123 <br>\n",
    "C. DataAnalytics <br>\n",
    "D. 2023Fall <br>\n",
    "E. def <br>\n",
    "F. max_radius <br>\n",
    "G. #miles <br>\n",
    "H. data+analytics <br>\n",
    "\n",
    "Write your options(separated by comma) in the `your_answer` variables. Do not remove the double quotes, or else, your test will fail. \n",
    "For eg: If the answers are option A, C, and E then your answer variable will look like `your_answer = \"A, C, E\"`"
   ]
  },
  {
   "cell_type": "code",
   "execution_count": null,
   "id": "4344aefc-c9a1-49f4-ab9a-fc1b43507501",
   "metadata": {
    "tags": []
   },
   "outputs": [],
   "source": [
    "your_answer = ..."
   ]
  },
  {
   "cell_type": "code",
   "execution_count": null,
   "id": "78ef3524",
   "metadata": {
    "deletable": false,
    "editable": false
   },
   "outputs": [],
   "source": [
    "grader.check(\"q2\")"
   ]
  },
  {
   "cell_type": "markdown",
   "id": "3c651df9-4fd1-467b-bf11-81760aa31a31",
   "metadata": {},
   "source": [
    "## Data Types\n",
    "\n",
    "Every value (stored in a variable) has an associated data type.\n",
    "\n",
    "Python has the following in-built data types by default:\n",
    "| Values | Types |\n",
    "| ---- | ---- |\n",
    "| Text | str |\n",
    "| Discrete | int |\n",
    "| Continuous | float |\n",
    "| Boolean | bool |\n",
    "... etc"
   ]
  },
  {
   "cell_type": "markdown",
   "id": "6545624c-6d7b-42b0-9a07-6f98f36db8ef",
   "metadata": {},
   "source": [
    "You can get the data type of any variable by using the `type()` function\n",
    "\n",
    "For eg:"
   ]
  },
  {
   "cell_type": "code",
   "execution_count": null,
   "id": "b0e9b60a-1352-4ed7-9581-b967edfda812",
   "metadata": {},
   "outputs": [],
   "source": [
    "x = 5\n",
    "type(x)"
   ]
  },
  {
   "cell_type": "code",
   "execution_count": null,
   "id": "27c8dea4-739b-40ed-9ef1-8bad5f5906b6",
   "metadata": {},
   "outputs": [],
   "source": [
    "y = \"hello world\"\n",
    "type(y)"
   ]
  },
  {
   "cell_type": "code",
   "execution_count": null,
   "id": "fad9c814-4ad4-4c15-8c2d-2a4928fbc856",
   "metadata": {},
   "outputs": [],
   "source": [
    "z = True\n",
    "type(z)"
   ]
  },
  {
   "cell_type": "markdown",
   "id": "bdc9a4e0-043c-4c6c-8811-2ab183a68581",
   "metadata": {
    "deletable": false,
    "editable": false
   },
   "source": [
    "### Question 3: \n",
    "Create a variable named `gpa` and store the value 3.6 into it. \n",
    "Use `type()` function to display the type of that variable. "
   ]
  },
  {
   "cell_type": "code",
   "execution_count": null,
   "id": "00c6148b-aa0f-498f-9789-b1b97869f778",
   "metadata": {
    "tags": []
   },
   "outputs": [],
   "source": []
  },
  {
   "cell_type": "code",
   "execution_count": null,
   "id": "8f052199-de6a-495b-8d33-7d700a1b037f",
   "metadata": {
    "tags": []
   },
   "outputs": [],
   "source": [
    "..."
   ]
  },
  {
   "cell_type": "code",
   "execution_count": null,
   "id": "230cb11d",
   "metadata": {
    "deletable": false,
    "editable": false
   },
   "outputs": [],
   "source": [
    "grader.check(\"q3\")"
   ]
  },
  {
   "cell_type": "markdown",
   "id": "60a73f05-76fa-4ec1-bb2f-82f9155513e9",
   "metadata": {},
   "source": [
    "### Why to use variables?\n",
    "\n",
    "Variables are used to easy access and update the values to be later used in your python code. \n",
    "\n",
    "For eg: Suppose you did not save your friend's name in your contact list. In that case, everytime you call your friend, you will have to type all the ten digits. This is a cumbersome and frustrating process. To fix this problem, you save your friend's number with his/her name, so that it is easy to understand and provides you a quick shortcut to dial your friend. Similarly, in order to re-use the data in the variable in later parts of our program, we use variable. \n",
    "\n",
    "Moreover, the values stored in the variable can be changed at a later stage of the program, and the variable would store that updated value. Similar to when your friend changes his/her phone number, you update the phone number in your phone, and now calling your friend dials the new updated number. "
   ]
  },
  {
   "cell_type": "markdown",
   "id": "566cd9a6-4aad-4dde-8c84-58098a7f823f",
   "metadata": {
    "deletable": false,
    "editable": false
   },
   "source": [
    "<!-- BEGIN QUESTION -->\n",
    "\n",
    "### Question 4:\n",
    "What will be the output of the following code? Try to answer it without running the program. \n",
    "```\n",
    "x = 5\n",
    "x = x + 10\n",
    "print(x)\n",
    "```"
   ]
  },
  {
   "cell_type": "markdown",
   "id": "09ff3445",
   "metadata": {},
   "source": [
    "_Type your answer here, replacing this text._"
   ]
  },
  {
   "cell_type": "markdown",
   "id": "92813e74-9b46-44b9-a150-1f86c5ca9915",
   "metadata": {
    "deletable": false,
    "editable": false
   },
   "source": [
    "<!-- END QUESTION -->\n",
    "\n",
    "<!-- BEGIN QUESTION -->\n",
    "\n",
    "### Question 5: \n",
    "What will be the output of the following code? Try to answer it without running the program. \n",
    "\n",
    "```\n",
    "x = 5\n",
    "y = 2\n",
    "x = x * 2\n",
    "y = x + y\n",
    "print(y)\n",
    "```"
   ]
  },
  {
   "cell_type": "markdown",
   "id": "03ca892d",
   "metadata": {},
   "source": [
    "_Type your answer here, replacing this text._"
   ]
  },
  {
   "cell_type": "markdown",
   "id": "dbdba312",
   "metadata": {
    "deletable": false,
    "editable": false
   },
   "source": [
    "<!-- END QUESTION -->\n",
    "\n"
   ]
  }
 ],
 "metadata": {
  "kernelspec": {
   "display_name": "Python 3 (ipykernel)",
   "language": "python",
   "name": "python3"
  },
  "language_info": {
   "codemirror_mode": {
    "name": "ipython",
    "version": 3
   },
   "file_extension": ".py",
   "mimetype": "text/x-python",
   "name": "python",
   "nbconvert_exporter": "python",
   "pygments_lexer": "ipython3",
   "version": "3.12.6"
  },
  "otter": {
   "OK_FORMAT": true,
   "tests": {
    "q1": {
     "name": "q1",
     "points": null,
     "suites": [
      {
       "cases": [
        {
         "code": ">>> (type(personName) is str) == True\nTrue",
         "hidden": false,
         "locked": false
        }
       ],
       "scored": true,
       "setup": "",
       "teardown": "",
       "type": "doctest"
      }
     ]
    },
    "q2": {
     "name": "q2",
     "points": null,
     "suites": [
      {
       "cases": [
        {
         "code": ">>> ('A' in your_answer and 'B' in your_answer and ('C' in your_answer) and ('F' in your_answer)) == True\nTrue",
         "hidden": false,
         "locked": false
        }
       ],
       "scored": true,
       "setup": "",
       "teardown": "",
       "type": "doctest"
      }
     ]
    },
    "q3": {
     "name": "q3",
     "points": null,
     "suites": [
      {
       "cases": [
        {
         "code": ">>> gpa == 3\nTrue",
         "hidden": false,
         "locked": false
        },
        {
         "code": ">>> (type(gpa) is float) == True\nTrue",
         "hidden": false,
         "locked": false
        }
       ],
       "scored": true,
       "setup": "",
       "teardown": "",
       "type": "doctest"
      }
     ]
    }
   }
  }
 },
 "nbformat": 4,
 "nbformat_minor": 5
}
