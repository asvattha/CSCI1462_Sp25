{
 "cells": [
  {
   "cell_type": "code",
   "execution_count": null,
   "id": "f694b19f",
   "metadata": {
    "deletable": false,
    "editable": false
   },
   "outputs": [],
   "source": [
    "# Initialize Otter\n",
    "import otter\n",
    "grader = otter.Notebook(\"MergeTables.ipynb\")"
   ]
  },
  {
   "cell_type": "code",
   "execution_count": null,
   "id": "6ce4ae0d-3799-4162-ac8e-4c7365c37062",
   "metadata": {},
   "outputs": [],
   "source": [
    "import pandas as pd\n",
    "import numpy as np"
   ]
  },
  {
   "cell_type": "markdown",
   "id": "df8e203a-6c16-4486-af9a-10542e7d87b8",
   "metadata": {},
   "source": [
    "# <span style=\"color:red\">Merging Tables</span>\n",
    "\n",
    "When making data-driven decisions, we often need information from various sources. For example, to identify at-risk students on campus, we'd analyze data from platforms like Brightspace, course registration, dining, AARC, and personal records. The Pandas library offers several methods to compare and merge these different dataframes, aiding in the analysis."
   ]
  },
  {
   "cell_type": "markdown",
   "id": "435a21af-afbb-45b4-9086-47509f1afb59",
   "metadata": {},
   "source": [
    "### Concatenate two dataframes together (vertically)\n",
    "\n",
    "Pandas `concat` method simply concatenates two dataframes together. "
   ]
  },
  {
   "cell_type": "code",
   "execution_count": null,
   "id": "502d2165-ab74-4078-813c-e61d62e39c65",
   "metadata": {},
   "outputs": [],
   "source": [
    "df1 = pd.DataFrame({'Name': ['Kevin', 'Tyler', 'Kyla', 'Josh'],\n",
    "                   'Age': [22, 35, 21, 50]},\n",
    "                  index=[0, 1, 2, 3])\n",
    "df1"
   ]
  },
  {
   "cell_type": "code",
   "execution_count": null,
   "id": "da94b382-9290-4438-8afa-1288c128a9c0",
   "metadata": {},
   "outputs": [],
   "source": [
    "df2 = pd.DataFrame({'Name': ['Justin', 'Jacob', 'Ben', 'Hector'],\n",
    "                   'Age': [20, 15, 44, 9]}, \n",
    "                  index = [4, 5, 6, 7])\n",
    "df2"
   ]
  },
  {
   "cell_type": "code",
   "execution_count": null,
   "id": "b878f110-6faa-41fa-8591-25a6cfcc3606",
   "metadata": {},
   "outputs": [],
   "source": [
    "df3 = pd.concat([df1, df2]) # Try to run the code by removing the index parameter from the df1 and df2; and see the difference\n",
    "df3"
   ]
  },
  {
   "cell_type": "markdown",
   "id": "2f6d2b0c-c075-4328-8830-ab2e1a4856bb",
   "metadata": {},
   "source": [
    "### Concatenate two dataframes together (horizontally)"
   ]
  },
  {
   "cell_type": "code",
   "execution_count": null,
   "id": "62ed1b93-e5a8-4ca3-92f3-048b134da489",
   "metadata": {},
   "outputs": [],
   "source": [
    "df4 = pd.DataFrame({'Name': ['Cynthia', 'Ben', 'Emily', 'Hector'],\n",
    "                   'City': ['Houston', 'Dallas', 'New York', 'Seattle']}, \n",
    "                  index = [8, 6, 9, 7])\n",
    "df4"
   ]
  },
  {
   "cell_type": "code",
   "execution_count": null,
   "id": "803187e7-8998-4533-b136-5aaed43ba551",
   "metadata": {},
   "outputs": [],
   "source": [
    "pd.concat([df3, df4], axis='columns')"
   ]
  },
  {
   "cell_type": "code",
   "execution_count": null,
   "id": "1f363480-e901-4177-8c20-1a775bfe6949",
   "metadata": {},
   "outputs": [],
   "source": [
    "pd.concat([df3, df4], axis='columns', join='inner')"
   ]
  },
  {
   "cell_type": "code",
   "execution_count": null,
   "id": "1f9e7059-8389-4883-a5dd-24cdd0a20731",
   "metadata": {},
   "outputs": [],
   "source": [
    "df1 = pd.DataFrame({'Name': ['Kevin', 'Cynthia', 'Hector', 'Justin'],\n",
    "                       'Dept': ['CS', 'Math', 'Math', 'Business']})\n",
    "\n",
    "df1"
   ]
  },
  {
   "cell_type": "code",
   "execution_count": null,
   "id": "c39f81c2-3fd4-4930-9230-3b3ae2e68728",
   "metadata": {},
   "outputs": [],
   "source": [
    "df2 = pd.DataFrame({'Gpa': [2.9, 3.3, 3.9, 2.2],\n",
    "                       'City': ['Houston', 'Dallas', 'Seattle', 'Austin']})\n",
    "\n",
    "df2"
   ]
  },
  {
   "cell_type": "code",
   "execution_count": null,
   "id": "492d46db-1225-4069-bdd0-2abe4b58da25",
   "metadata": {},
   "outputs": [],
   "source": [
    "pd.concat([df1, df2], axis='columns')"
   ]
  },
  {
   "cell_type": "markdown",
   "id": "554a45eb-6c19-459f-9003-b1d3686837c9",
   "metadata": {},
   "source": [
    "### Merging tables\n",
    "\n",
    "#### Performing cartesian product of rows of two tables\n",
    "\n",
    "A cartesian product joins each row of left table with every rows of right table. The resulant table will have n1 * n2 rows, where n1 and n2 are the number of rows in left and right table respectively. "
   ]
  },
  {
   "cell_type": "code",
   "execution_count": null,
   "id": "b2d1b537-17c6-4e7e-a814-e95969965ea9",
   "metadata": {},
   "outputs": [],
   "source": [
    "left = pd.DataFrame({'SID': [111, 222, 111, 333],\n",
    "                    'Name': ['Kelly', 'John', 'Kelly', 'Megan'],\n",
    "                    'Course': ['CSCI1302', 'MTH1304', 'CSCI1462', 'CSCI1462']})\n",
    "\n",
    "right = pd.DataFrame({'EID': ['XY03', 'ZZ02', 'FF02', 'YYY2'],\n",
    "                    'Name': ['Kelly', 'Ben', 'John', 'Max'],\n",
    "                    'Designation': ['Manager', 'CEO', 'HRManager', 'Developer']})"
   ]
  },
  {
   "cell_type": "code",
   "execution_count": null,
   "id": "d5f209ec-1909-4765-93a9-f6764143b38b",
   "metadata": {},
   "outputs": [],
   "source": [
    "left"
   ]
  },
  {
   "cell_type": "code",
   "execution_count": null,
   "id": "b172c5a1-f702-4db6-8829-f0e2bd701442",
   "metadata": {},
   "outputs": [],
   "source": [
    "right"
   ]
  },
  {
   "cell_type": "code",
   "execution_count": null,
   "id": "ea1f2b44-e7df-49fc-bf7e-b62adb07aa37",
   "metadata": {},
   "outputs": [],
   "source": [
    "pd.merge(left, right, how='cross')"
   ]
  },
  {
   "cell_type": "markdown",
   "id": "2ec8d6aa-a177-41eb-9690-08bbf75f696c",
   "metadata": {},
   "source": [
    "<img src=\"https://www.ionos.fr/digitalguide/fileadmin/DigitalGuide/Screenshots_2019/sql-outer-join.png\" width=500 />"
   ]
  },
  {
   "cell_type": "markdown",
   "id": "d36a9d6d-4a24-4cf3-a1ab-af1b0a48af4e",
   "metadata": {},
   "source": [
    "### Performing inner join between rows of tables\n",
    "\n",
    "Inner join select rows from both the tables that have matching keys in both the tables. "
   ]
  },
  {
   "cell_type": "code",
   "execution_count": null,
   "id": "6bf4bfb5-3830-429b-9739-6851f077133b",
   "metadata": {},
   "outputs": [],
   "source": [
    "left"
   ]
  },
  {
   "cell_type": "code",
   "execution_count": null,
   "id": "641bc6be-3788-4e79-81ef-bc288b9ec30a",
   "metadata": {},
   "outputs": [],
   "source": [
    "right"
   ]
  },
  {
   "cell_type": "code",
   "execution_count": null,
   "id": "f04ffc8c-0d1b-4d21-91a4-5b15aee9706f",
   "metadata": {},
   "outputs": [],
   "source": [
    "pd.merge(left, right, how='inner', on='Name')"
   ]
  },
  {
   "cell_type": "markdown",
   "id": "9faf0d6b-45df-4161-b6b0-4c0304b03b91",
   "metadata": {},
   "source": [
    "### Performing outer join between rows of tables\n",
    "\n",
    "The outer join returns all the rows from both the tables when there is a match between the keys (like inner join). Moreover,  if there are rows in one table that do not have matches in the other, those rows will also be listed, with missing(NaN) values in the columns from the table without a match. "
   ]
  },
  {
   "cell_type": "code",
   "execution_count": null,
   "id": "4d81baf1-b1fd-4b9c-a3eb-da10cd9fd67b",
   "metadata": {},
   "outputs": [],
   "source": [
    "left"
   ]
  },
  {
   "cell_type": "code",
   "execution_count": null,
   "id": "9634b594-9ba8-4226-81a5-79ca88bc5e98",
   "metadata": {},
   "outputs": [],
   "source": [
    "right"
   ]
  },
  {
   "cell_type": "code",
   "execution_count": null,
   "id": "0e9b381c-767a-4809-8ab9-12d4c14c3284",
   "metadata": {},
   "outputs": [],
   "source": [
    "pd.merge(left, right, how='outer', on='Name')"
   ]
  },
  {
   "cell_type": "markdown",
   "id": "0608689d-59e6-437e-8b92-125f43048e94",
   "metadata": {},
   "source": [
    "### Performing left join between rows of tables\n",
    "\n",
    "The left join returns all the rows from the left table and the matching rows from the right table. Moreover,  if there are rows in left table that do not have matches in the right, those rows will also be listed, with missing(NaN) values in the columns from the right table without a match. "
   ]
  },
  {
   "cell_type": "code",
   "execution_count": null,
   "id": "e2e02d94-2828-4949-b179-71df7da98956",
   "metadata": {},
   "outputs": [],
   "source": [
    "left"
   ]
  },
  {
   "cell_type": "code",
   "execution_count": null,
   "id": "a2cba65a-2de0-4d8e-8517-87ed55813e68",
   "metadata": {},
   "outputs": [],
   "source": [
    "right"
   ]
  },
  {
   "cell_type": "code",
   "execution_count": null,
   "id": "aaa73ff2-f232-4c5c-afcc-2e3f6c922d97",
   "metadata": {},
   "outputs": [],
   "source": [
    "pd.merge(left, right, how='left', on='Name')"
   ]
  },
  {
   "cell_type": "markdown",
   "id": "64a5e437-7a69-4f84-b26a-1a3bcc695ea2",
   "metadata": {},
   "source": [
    "### Performing right join between rows of tables\n",
    "\n",
    "The right join returns all the rows from the right table and the matching rows from the left table. Moreover,  if there are rows in right table that do not have matches in the left, those rows will also be listed, with missing(NaN) values in the columns from the left table without a match. "
   ]
  },
  {
   "cell_type": "code",
   "execution_count": null,
   "id": "49375926-df84-4e4e-b35f-8fc2822a590e",
   "metadata": {},
   "outputs": [],
   "source": [
    "left"
   ]
  },
  {
   "cell_type": "code",
   "execution_count": null,
   "id": "32c9344c-c17b-4bc0-b118-09d1c4101cab",
   "metadata": {},
   "outputs": [],
   "source": [
    "right"
   ]
  },
  {
   "cell_type": "code",
   "execution_count": null,
   "id": "009b9c01-1cac-40dd-b867-6baba8ee6320",
   "metadata": {},
   "outputs": [],
   "source": [
    "pd.merge(left, right, how='right', on='Name')"
   ]
  },
  {
   "cell_type": "code",
   "execution_count": null,
   "id": "6e191c2e-5a01-4192-b0af-57f0776f2735",
   "metadata": {},
   "outputs": [],
   "source": [
    "left = pd.DataFrame({'Id': [100, 200, 300],\n",
    "                    'FirstName': ['Mary', 'Vincent', 'Jack'],\n",
    "                    'LastName': ['Dufrene', 'Robin', 'Sparrow']})\n",
    "\n",
    "right = pd.DataFrame({'FirstName': ['Jack', 'Mary', 'Vincent', 'Jack'],\n",
    "                      'LastName' : ['Sullivan', 'Dufrene', 'Morgan', 'Sparrow'],\n",
    "                      'City': ['Nacogdoches', 'Houston', 'Dallas', 'Houston']})\n"
   ]
  },
  {
   "cell_type": "code",
   "execution_count": null,
   "id": "1391dada-3b90-4c79-8e9d-0f6ca3e04390",
   "metadata": {},
   "outputs": [],
   "source": [
    "left"
   ]
  },
  {
   "cell_type": "code",
   "execution_count": null,
   "id": "0cce40ae-cb04-45a1-ab4b-cab4aef47850",
   "metadata": {},
   "outputs": [],
   "source": [
    "right"
   ]
  },
  {
   "cell_type": "code",
   "execution_count": null,
   "id": "586d23a4-e737-4b2a-ad40-8f5b17789758",
   "metadata": {},
   "outputs": [],
   "source": [
    "pd.merge(left, right, how='inner', on='FirstName')"
   ]
  },
  {
   "cell_type": "markdown",
   "id": "4ff8ab86-c9b4-4013-9b3a-9d4e25a721e1",
   "metadata": {},
   "source": [
    "### Question 1\n",
    "\n",
    "A table named `mealSwipes` contains a row for each time a student swipe meals during the month of Oct, Nov and Dec. The table contains four columns: \n",
    "- Email: a string, the email address of the student\n",
    "- Department: a string, the department that the student belongs to\n",
    "- Meal Swipes: an int, the number of meal swipes per month\n",
    "- Month: a string, the month in which the student swiped for the meals\n",
    "\n",
    "A second table `roster` contains a row for each student enrolled at SFA. It has two columns: \n",
    "- Email: a string, the email address of the student\n",
    "- Name: a string, the first name of the student\n",
    "\n",
    "Note: Every student has one unique email address, but two students might have the same name. \n",
    "\n",
    "Write python code to answer the following questions: "
   ]
  },
  {
   "cell_type": "code",
   "execution_count": null,
   "id": "906a87cc-6d06-45e8-a4d7-f7559d69b22b",
   "metadata": {},
   "outputs": [],
   "source": [
    "mealSwipes = pd.read_csv('data/mealSwipes.csv')\n",
    "mealSwipes.head(3)"
   ]
  },
  {
   "cell_type": "code",
   "execution_count": null,
   "id": "aa0b324f-9613-4bc1-a5c3-d761bfde0a45",
   "metadata": {},
   "outputs": [],
   "source": [
    "roster = pd.read_csv('data/roster.csv')\n",
    "roster.head(3)"
   ]
  },
  {
   "cell_type": "markdown",
   "id": "e1cbc6e5-554a-4cb4-b16d-65cb0b441b90",
   "metadata": {
    "deletable": false,
    "editable": false
   },
   "source": [
    "### Question 1(a) \n",
    "The largest number of meal swipes made by any student. Store your result in `your_ans`. \n",
    "\n",
    "Hint: Use numpy `max` method"
   ]
  },
  {
   "cell_type": "code",
   "execution_count": null,
   "id": "4b401956-f432-4f65-84ed-a4d43147aa1a",
   "metadata": {
    "tags": []
   },
   "outputs": [],
   "source": [
    "your_ans = np.max(mealSwipes['MealSwipes'])\n",
    "your_ans"
   ]
  },
  {
   "cell_type": "code",
   "execution_count": null,
   "id": "34f9b473",
   "metadata": {
    "deletable": false,
    "editable": false
   },
   "outputs": [],
   "source": [
    "grader.check(\"q1(a)\")"
   ]
  },
  {
   "cell_type": "markdown",
   "id": "ff188fb0-7be5-42d3-a45a-4f814dcc18f4",
   "metadata": {
    "deletable": false,
    "editable": false
   },
   "source": [
    "### Question 1(b)\n",
    "\n",
    "The department that appears most often in the `mealSwipes` table. Store your result in the variable `your_ans`. "
   ]
  },
  {
   "cell_type": "code",
   "execution_count": null,
   "id": "bcdd9aef-7d8e-48a5-83a4-f7e746466db1",
   "metadata": {
    "tags": []
   },
   "outputs": [],
   "source": [
    "your_ans = ...\n",
    "your_ans"
   ]
  },
  {
   "cell_type": "code",
   "execution_count": null,
   "id": "1106ac9b",
   "metadata": {
    "deletable": false,
    "editable": false
   },
   "outputs": [],
   "source": [
    "grader.check(\"q1(b)\")"
   ]
  },
  {
   "cell_type": "markdown",
   "id": "59bc7e07-bc35-4dd2-8884-2cd60223814b",
   "metadata": {
    "deletable": false,
    "editable": false
   },
   "source": [
    "### Question 1(c)\n",
    "\n",
    "The total number of meal swipes for the month of November for students belonging to the department of `CompSci`, `Chemistry` and `Mathematics`. "
   ]
  },
  {
   "cell_type": "code",
   "execution_count": null,
   "id": "ba1e4e47-171b-42a7-8cac-31d007a0557c",
   "metadata": {
    "tags": []
   },
   "outputs": [],
   "source": [
    "your_ans = ...\n",
    "your_ans"
   ]
  },
  {
   "cell_type": "code",
   "execution_count": null,
   "id": "67784ba5",
   "metadata": {
    "deletable": false,
    "editable": false
   },
   "outputs": [],
   "source": [
    "grader.check(\"q1(c)\")"
   ]
  },
  {
   "cell_type": "markdown",
   "id": "569e6d2e-1b5e-4454-9d42-16e32f4fa22b",
   "metadata": {
    "deletable": false,
    "editable": false
   },
   "source": [
    "### Question 1(d)\n",
    "\n",
    "The name of the student who had most meal swipes across all three months. (Assume no ties; i.e, no two students have the most swipes)"
   ]
  },
  {
   "cell_type": "code",
   "execution_count": null,
   "id": "6c2e2962-e103-4e49-90cb-064c65e16e2a",
   "metadata": {
    "tags": []
   },
   "outputs": [],
   "source": [
    "your_ans = ...\n",
    "your_ans"
   ]
  },
  {
   "cell_type": "code",
   "execution_count": null,
   "id": "a035f0fa",
   "metadata": {
    "deletable": false,
    "editable": false
   },
   "outputs": [],
   "source": [
    "grader.check(\"q1(d)\")"
   ]
  }
 ],
 "metadata": {
  "kernelspec": {
   "display_name": "Python 3 (ipykernel)",
   "language": "python",
   "name": "python3"
  },
  "language_info": {
   "codemirror_mode": {
    "name": "ipython",
    "version": 3
   },
   "file_extension": ".py",
   "mimetype": "text/x-python",
   "name": "python",
   "nbconvert_exporter": "python",
   "pygments_lexer": "ipython3",
   "version": "3.12.6"
  },
  "otter": {
   "OK_FORMAT": true,
   "tests": {
    "q1(a)": {
     "name": "q1(a)",
     "points": null,
     "suites": [
      {
       "cases": [
        {
         "code": ">>> your_ans.item() == 499\nTrue",
         "hidden": false,
         "locked": false
        }
       ],
       "scored": true,
       "setup": "",
       "teardown": "",
       "type": "doctest"
      }
     ]
    },
    "q1(b)": {
     "name": "q1(b)",
     "points": null,
     "suites": [
      {
       "cases": [
        {
         "code": ">>> your_ans == 'EarthSci'\nTrue",
         "hidden": false,
         "locked": false
        }
       ],
       "scored": true,
       "setup": "",
       "teardown": "",
       "type": "doctest"
      }
     ]
    },
    "q1(c)": {
     "name": "q1(c)",
     "points": null,
     "suites": [
      {
       "cases": [
        {
         "code": ">>> your_ans.item() == 3093\nTrue",
         "hidden": false,
         "locked": false
        }
       ],
       "scored": true,
       "setup": "",
       "teardown": "",
       "type": "doctest"
      }
     ]
    },
    "q1(d)": {
     "name": "q1(d)",
     "points": null,
     "suites": [
      {
       "cases": [
        {
         "code": ">>> your_ans == 'Merrill'\nTrue",
         "hidden": false,
         "locked": false
        }
       ],
       "scored": true,
       "setup": "",
       "teardown": "",
       "type": "doctest"
      }
     ]
    }
   }
  }
 },
 "nbformat": 4,
 "nbformat_minor": 5
}
