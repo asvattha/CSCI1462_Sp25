{
 "cells": [
  {
   "cell_type": "code",
   "execution_count": null,
   "id": "0802fe26",
   "metadata": {
    "deletable": false,
    "editable": false
   },
   "outputs": [],
   "source": [
    "# Initialize Otter\n",
    "import otter\n",
    "grader = otter.Notebook(\"Intro_to_tables.ipynb\")"
   ]
  },
  {
   "cell_type": "markdown",
   "id": "4c67d636-657d-4b65-ba90-4373d8a737a5",
   "metadata": {},
   "source": [
    "# Rectangular Data\n",
    "\n",
    "Data is produced from various sources in forms like text, images, videos, and sensor readings. A significant portion of this data is unstructured, meaning it does not adhere to a specific data model or format. For instance, unstructured data includes textual content like books or articles, which can be organized in different ways (e.g., chapters, headings) but lack a consistent structure across all texts. Other examples of unstructured data include social media posts, emails, and multimedia files such as photos and videos.\n",
    "\n",
    "In contrast, some data is organized in a well-defined format with rows and columns, similar to what you find in an Excel spreadsheet. This type of data is referred to as **rectangular data**.\n",
    "\n",
    "Rectangular data refers to a two-dimensional matrix where rows represent individual records (data points) and columns represent features (attributes or variables). In Python, the term **dataframe** specifically denotes this type of rectangular data, especially when using the pandas library. In this course, we will primarily concentrate on working with rectangular data."
   ]
  },
  {
   "cell_type": "markdown",
   "id": "69927071-e338-4230-95e3-6b3d832cd7e6",
   "metadata": {},
   "source": [
    "### Reading Rectangular Data in Pandas\n",
    "\n",
    "To handle structured data in Python, we can utilize the pandas module. For CSV files, the [`read_csv`](https://pandas.pydata.org/pandas-docs/stable/reference/api/pandas.read_csv.html) method is used. For rectangular data in text files, the `read_txt` method can be employed, and for Excel files, the `read_xls` method is applicable.\n",
    "\n",
    "Let's see these methods in action. You have been given `Nascar Driver Results`. Driver results for all NASCAR races between 1975 and 2003, inclusive. The dataset constitutes all participants in each of 898 races, and includes their start/finish positions, prize winnings, car make and laps completed. For more information about the dataset, read [here](https://jse.amstat.org/datasets/nascard.txt)\n",
    "\n",
    "There are total 34,884 observations and 10 features. The feature description is given below:\n",
    "\n",
    "1. **Series Race**: The race id (int)\n",
    "2. **Year**: the year the race occured (int)\n",
    "3. **Race/Year**: the race id within that year (int)\n",
    "4. **Fin Pos**: the finishing position, 1 represents the winner (int)\n",
    "5. **Start Pos**: the starting position (int)\n",
    "6. **Laps Completed**: the number of laps completed (int)\n",
    "7. **Winnings**: the prize winnings, in dollars (int)\n",
    "8. **Total Cars**: the total number of cars in the race (int)\n",
    "9. **Car Make**: the make of the car (str)\n",
    "10. **Driver**: the name of the driver (str)"
   ]
  },
  {
   "cell_type": "code",
   "execution_count": null,
   "id": "2e435bd3-4845-4a12-93ea-f2a88eeb6c03",
   "metadata": {},
   "outputs": [],
   "source": [
    "import pandas as pd"
   ]
  },
  {
   "cell_type": "code",
   "execution_count": null,
   "id": "a8e64aca-347a-43e6-989a-ccf29c03025d",
   "metadata": {},
   "outputs": [],
   "source": [
    "nascar = pd.read_csv('data/nascar.csv')"
   ]
  },
  {
   "cell_type": "markdown",
   "id": "6195040b-1eef-4c41-9f55-791ecae65fc5",
   "metadata": {},
   "source": [
    "You'll see that the [`read_csv`](https://pandas.pydata.org/pandas-docs/stable/reference/api/pandas.read_csv.html) method has many parameters. To understand the purpose of each one, you can consult the documentation. For now, let's concentrate on the first parameter, `filepath_or_buffer`\n",
    "\n",
    "<img src=\"pics/read_csv.png\" alt=\"read_csv_filepath_or_buffer\" width=\"500\"/>"
   ]
  },
  {
   "cell_type": "markdown",
   "id": "4f7b7934-d02a-435c-8df2-fd36ade20f8f",
   "metadata": {},
   "source": [
    "Essentially, this means that the first parameter of this method should be a string representing the URL, address, or file path from which to read the CSV file. In our case, since the file is located in the data directory, we specify the file path as `data/nascar.csv`."
   ]
  },
  {
   "cell_type": "markdown",
   "id": "5c09345f-2916-4a58-b0e2-7bb3a6049e22",
   "metadata": {},
   "source": [
    "Let's check the data type of the `nascar` variable. Remember, a variable's data type is determined by the value it holds. In pandas, any tabular or rectangular data is represented as a **DataFrame**."
   ]
  },
  {
   "cell_type": "code",
   "execution_count": null,
   "id": "16b426f8-b24e-494f-a061-c5b05a30662d",
   "metadata": {},
   "outputs": [],
   "source": [
    "type(nascar)"
   ]
  },
  {
   "cell_type": "markdown",
   "id": "29c27a0e-0988-4349-9927-ad356f95f53a",
   "metadata": {},
   "source": [
    "Let's now display the contents of the `nascar` dataframe. \n",
    "\n",
    "Pandas DataFrame has a [`head`](https://pandas.pydata.org/pandas-docs/stable/reference/api/pandas.DataFrame.head.html#pandas.DataFrame.head) method, which is used to display the first 5 rows of the dataframe. "
   ]
  },
  {
   "cell_type": "code",
   "execution_count": null,
   "id": "a4a3930b-c577-4296-9a54-02304a321c8d",
   "metadata": {},
   "outputs": [],
   "source": [
    "nascar.head()"
   ]
  },
  {
   "cell_type": "markdown",
   "id": "70025142-278a-4b04-a874-e872e37888bf",
   "metadata": {
    "deletable": false,
    "editable": false
   },
   "source": [
    "### Question 1\n",
    "Write a python code to display the first 10 rows of the `nascar` dataframe.\n"
   ]
  },
  {
   "cell_type": "code",
   "execution_count": null,
   "id": "14847e5d-7162-4aca-9530-45bbc170a3d8",
   "metadata": {
    "tags": []
   },
   "outputs": [],
   "source": [
    "..."
   ]
  },
  {
   "cell_type": "markdown",
   "id": "41905e02-9053-4318-b721-910af6b0f658",
   "metadata": {
    "deletable": false,
    "editable": false
   },
   "source": [
    "### Question 2\n",
    "Write a python code to display the last 3 rows of the `nascar` dataframe. \n",
    "\n",
    "Hint: Read dataframe [`tail`](https://pandas.pydata.org/pandas-docs/stable/reference/api/pandas.DataFrame.tail.html#pandas.DataFrame.tail) method. \n"
   ]
  },
  {
   "cell_type": "code",
   "execution_count": null,
   "id": "e92f8dbf-730a-4f59-90f8-a2e118c17a76",
   "metadata": {
    "tags": []
   },
   "outputs": [],
   "source": [
    "..."
   ]
  },
  {
   "attachments": {},
   "cell_type": "markdown",
   "id": "3b590a84-9703-4509-984a-aec8d4dc6fd9",
   "metadata": {
    "deletable": false,
    "editable": false
   },
   "source": [
    "### Question 3\n",
    "\n",
    "You have a `cancer.dat` file located in the data directory. Write Python code to correctly load this file into a DataFrame so that the resulting table appears as shown below:\n",
    "\n",
    "<img src=\"pics/cancer.png\" width=200 />\n",
    "\n",
    "Do not make any change to the `cancer.dat` file. Read [here](https://grodri.github.io/glms/datasets/#cancer) for more detail about the dataset. \n",
    "\n",
    "Hint: You can use `read_csv` method to read `.dat` files. Moreover, check the **delimiter** parameter of the [`read_csv`](https://pandas.pydata.org/pandas-docs/stable/reference/api/pandas.read_csv.html) method. "
   ]
  },
  {
   "cell_type": "code",
   "execution_count": null,
   "id": "558be61d-c3da-4e70-a81e-95ee79e56441",
   "metadata": {
    "tags": []
   },
   "outputs": [],
   "source": [
    "cancer = ...\n",
    "cancer.head()"
   ]
  },
  {
   "cell_type": "code",
   "execution_count": null,
   "id": "a9e0f350",
   "metadata": {
    "deletable": false,
    "editable": false
   },
   "outputs": [],
   "source": [
    "grader.check(\"q3\")"
   ]
  },
  {
   "cell_type": "markdown",
   "id": "2b0c4568-dd03-4063-b679-7599338a2a01",
   "metadata": {
    "deletable": false,
    "editable": false
   },
   "source": [
    "### Question 4\n",
    "\n",
    "You have [`copen.data`](https://grodri.github.io/glms/datasets/#copen) file located in data directory. \n",
    "\n",
    "Kevin, a student in the Data Analytics program tries to read the datafile as follows: "
   ]
  },
  {
   "cell_type": "code",
   "execution_count": null,
   "id": "cebff18a-80b3-4187-872c-986b2b56ff2b",
   "metadata": {
    "deletable": false,
    "editable": false
   },
   "outputs": [],
   "source": [
    "copen = pd.read_csv('data/copen.dat', delimiter=';')\n",
    "copen.head()"
   ]
  },
  {
   "cell_type": "markdown",
   "id": "27e3aa29-8c65-4543-aebb-aa7531fa80d2",
   "metadata": {
    "deletable": false,
    "editable": false
   },
   "source": [
    "He was puzzled as to why the first row of the DataFrame was being interpreted as column names. Upon manually inspecting the copen.dat file, he discovered that it lacks column names. Assist Kevin by assigning the column names `housing, influence, contact, satisfaction, n` to the DataFrame.\n",
    "\n",
    "Do NOT alter the `copen.dat` file.\n",
    "\n",
    "Hint: Check the **names** parameter in the `read_csv` method.\n",
    "\n",
    "The first 5 rows of your DataFrame should appear as follows:\n",
    "\n",
    "<img src=\"pics/names.png\" width=200 />\n"
   ]
  },
  {
   "cell_type": "code",
   "execution_count": null,
   "id": "65242961-0eb0-491d-a519-d2ce8b333dcb",
   "metadata": {
    "tags": []
   },
   "outputs": [],
   "source": [
    "copen = ...\n",
    "copen.head()"
   ]
  },
  {
   "cell_type": "code",
   "execution_count": null,
   "id": "897cd394",
   "metadata": {
    "deletable": false,
    "editable": false
   },
   "outputs": [],
   "source": [
    "grader.check(\"q4\")"
   ]
  },
  {
   "cell_type": "markdown",
   "id": "17266d07-f3be-4cc8-bd0c-49f831688e71",
   "metadata": {
    "deletable": false,
    "editable": false
   },
   "source": [
    "### Question 5\n",
    "\n",
    "You are given `brazil.dat` file located in data directory. Kevin tries to read this file; however he gets the following table. \n"
   ]
  },
  {
   "cell_type": "code",
   "execution_count": null,
   "id": "82fe0493-4df6-4a42-9d93-66c600d98acb",
   "metadata": {
    "deletable": false,
    "editable": false
   },
   "outputs": [],
   "source": [
    "brazil = pd.read_csv('data/brazil.dat')\n",
    "brazil.head()"
   ]
  },
  {
   "cell_type": "markdown",
   "id": "6c52c5d0-257c-4b9a-9b3f-b606ea1d155e",
   "metadata": {
    "deletable": false,
    "editable": false
   },
   "source": [
    "After examining the `brazil.dat` file, Kevin noticed that the first two lines contain descriptions about the dataset, which he does not want to include in the DataFrame. Help Kevin read the data file correctly, ensuring that these initial lines are skipped. Do NOT modify the `brazil.dat` file. The first 5 rows of the resulting DataFrame should look like this:\n",
    "\n",
    "<img src=\"pics/header.png\" width=200 />\n",
    "\n",
    "Hint: Look into **header** parameter of the `read_csv` method. "
   ]
  },
  {
   "cell_type": "code",
   "execution_count": null,
   "id": "5f9752eb-c5f1-4c19-82c3-ba4d34aa94ef",
   "metadata": {
    "tags": []
   },
   "outputs": [],
   "source": [
    "brazil = ...\n",
    "brazil.head()"
   ]
  },
  {
   "cell_type": "code",
   "execution_count": null,
   "id": "700c113e",
   "metadata": {
    "deletable": false,
    "editable": false
   },
   "outputs": [],
   "source": [
    "grader.check(\"q5\")"
   ]
  },
  {
   "cell_type": "markdown",
   "id": "d0c1e6f4-5cbd-4be3-b6c9-f0120ca3f940",
   "metadata": {
    "deletable": false,
    "editable": false
   },
   "source": [
    "### Question 6\n",
    "\n",
    "Kevin is only interested in reading the `Age-group` and `Frequency` columns into the DataFrame. Help him achieve this. The first five rows of the resulting DataFrame should appear as follows:\n",
    "\n",
    "<img src='pics/usecols.png' width=200 />\n",
    "\n",
    "Hint: Look into **use_cols** parameter of the `read_csv` method. "
   ]
  },
  {
   "cell_type": "code",
   "execution_count": null,
   "id": "c9b913ba-dc00-487a-99b0-a6de439377fc",
   "metadata": {
    "tags": []
   },
   "outputs": [],
   "source": [
    "brazil = ...\n",
    "brazil.head()"
   ]
  },
  {
   "cell_type": "code",
   "execution_count": null,
   "id": "197a627d",
   "metadata": {
    "deletable": false,
    "editable": false
   },
   "outputs": [],
   "source": [
    "grader.check(\"q6\")"
   ]
  },
  {
   "cell_type": "markdown",
   "id": "f6613e44-ed0f-41c5-8ce4-5656f77afdfc",
   "metadata": {},
   "source": [
    "### Determing the number of rows and columns of a dataframe"
   ]
  },
  {
   "cell_type": "markdown",
   "id": "1286b750-8569-4088-b6ed-d33628540c8d",
   "metadata": {},
   "source": [
    "The `shape` property of a dataframe returns a tuple with number of rows and columns of a dataframe. "
   ]
  },
  {
   "cell_type": "code",
   "execution_count": null,
   "id": "ee942261-9070-4ecb-9b44-bd1782aa99de",
   "metadata": {},
   "outputs": [],
   "source": [
    "nascar.shape # Do NOT use rounded brackets () after shape, as it is a property and not a method/function"
   ]
  },
  {
   "cell_type": "code",
   "execution_count": null,
   "id": "ae596bdc-32c9-48e1-8e84-86dd3846430a",
   "metadata": {},
   "outputs": [],
   "source": [
    "nrows = nascar.shape[0]\n",
    "ncols = nascar.shape[1]\n",
    "print(f\"The number of rows: {nrows}, The number columns: {ncols}\")"
   ]
  },
  {
   "cell_type": "markdown",
   "id": "d673c0bb-439b-4e90-af53-acd9d8a9e707",
   "metadata": {
    "deletable": false,
    "editable": false
   },
   "source": [
    "### Question 7\n",
    "\n",
    "Write a python code to determine the number of rows and columns in the `cancer` dataframe (defined in Question 3). Store your answer in variable `nrows` and `ncols` for the number of rows and the number of columns respectively."
   ]
  },
  {
   "cell_type": "code",
   "execution_count": null,
   "id": "ff3fe000-e2f5-4886-9427-07a7fcec675b",
   "metadata": {
    "tags": []
   },
   "outputs": [],
   "source": [
    "nrows = ...\n",
    "ncols = ...\n",
    "print(f\"The number of rows: {nrows}, The number columns: {ncols}\")"
   ]
  },
  {
   "cell_type": "code",
   "execution_count": null,
   "id": "7abab151",
   "metadata": {
    "deletable": false,
    "editable": false
   },
   "outputs": [],
   "source": [
    "grader.check(\"q7\")"
   ]
  },
  {
   "cell_type": "markdown",
   "id": "0fef812d-2cdc-4bc4-9bd2-7ea98285ee7f",
   "metadata": {},
   "source": [
    "### Indexing in DataFrame\n",
    "\n",
    "A dataframe maintains two kinds of indices; numbered index and named index. \n",
    "Numbered index are automatically assigned to each row and each column of a dataframe. When you printed the first few rows of the dataframe using head method, you may have noticed that pandas automatically added a number starting from 0 to each row of the dataframe. These numbers are the numbered index for a row. Similary, pandas maintains a column index number for each column. Both the indices starts with 0. \n",
    "\n",
    "Moreover, a dataframe also maintains named index. That is you can assign a name to each item of a dataframe. For eg: the row#1 can be assigned a name say, \"xxx\", and row#2 can be assigned a name, say, \"yyy\". Similarly, each column can be assigned a name in the dataframe. Actually, each column name is nothing but a named index for each column of the dataframe. Therefore, row#1 has numbered index 1, and column#1 has numbered index 0 and named index `Race`. "
   ]
  },
  {
   "cell_type": "markdown",
   "id": "be7a0688-3f0d-4cd7-b767-4f46a2e86ef6",
   "metadata": {},
   "source": [
    "### Accessing items of a dataframe\n",
    "\n",
    "You can access items of a dataframe using `loc` and `iloc` property. `loc` is used to access items using named index, whereas `iloc` is used to access items based on named index. "
   ]
  },
  {
   "cell_type": "code",
   "execution_count": null,
   "id": "a156f8e5-5622-4eac-92eb-654a88a5ece0",
   "metadata": {},
   "outputs": [],
   "source": [
    "nascar.head()"
   ]
  },
  {
   "cell_type": "code",
   "execution_count": null,
   "id": "21c113c8-d1c5-4568-b684-25b9b2d8daae",
   "metadata": {},
   "outputs": [],
   "source": [
    "race_column = nascar.loc[:, 'Race'] # Select all rows and Race column\n",
    "race_column"
   ]
  },
  {
   "cell_type": "markdown",
   "id": "869e085f-7426-408b-bd5c-1967e2a7a08d",
   "metadata": {},
   "source": [
    "Let's see what's the type of the column returned in the previous cell. "
   ]
  },
  {
   "cell_type": "code",
   "execution_count": null,
   "id": "e7204725-3a60-4445-8260-b48158d35116",
   "metadata": {},
   "outputs": [],
   "source": [
    "type(race_column)"
   ]
  },
  {
   "cell_type": "markdown",
   "id": "394e12cb-d41e-44b4-abf9-a84b0ee65591",
   "metadata": {},
   "source": [
    "### Pandas Series "
   ]
  },
  {
   "cell_type": "markdown",
   "id": "7ab32350-b24c-4057-bb8e-724f84c28450",
   "metadata": {},
   "source": [
    "A Pandas series is a **one-dimensional array**. It holds any data type supported in Python and uses labels to locate each data value for retrieval. These labels can be named or numbered index. "
   ]
  },
  {
   "cell_type": "markdown",
   "id": "817192fc-7753-4244-8752-21614924c00d",
   "metadata": {},
   "source": [
    "#### How to create a pandas Series?"
   ]
  },
  {
   "cell_type": "code",
   "execution_count": null,
   "id": "64234abe-cd79-45e6-85d7-cb172af3fe0f",
   "metadata": {},
   "outputs": [],
   "source": [
    "names = pd.Series(data = [\"john\", \"mary\"]) \n",
    "names"
   ]
  },
  {
   "cell_type": "code",
   "execution_count": null,
   "id": "010cc651-f4ab-47be-bb10-a2086cb3fa31",
   "metadata": {},
   "outputs": [],
   "source": [
    "type(names)"
   ]
  },
  {
   "cell_type": "code",
   "execution_count": null,
   "id": "7c83ec3b-d73d-415f-b67a-131aab27d48b",
   "metadata": {},
   "outputs": [],
   "source": [
    "# You can also assign named index to each item of a series\n",
    "\n",
    "names = pd.Series(data=['john', 'mary'], index=['A', 'B'])\n",
    "names"
   ]
  },
  {
   "cell_type": "markdown",
   "id": "bae8b3a2-7a65-4c9e-a0da-6d97677b03ed",
   "metadata": {},
   "source": [
    "To access the values only from a pandas series, you can use the `values` property:"
   ]
  },
  {
   "cell_type": "code",
   "execution_count": null,
   "id": "acc2565f-682e-4f09-ad75-7dd48278b855",
   "metadata": {},
   "outputs": [],
   "source": [
    "names.values"
   ]
  },
  {
   "cell_type": "markdown",
   "id": "44987327-b2cc-4a54-81d8-bd98530907b5",
   "metadata": {},
   "source": [
    "To access the index of a series, you can use the `index` property:"
   ]
  },
  {
   "cell_type": "code",
   "execution_count": null,
   "id": "2f3decd9-1fde-4b26-a469-6942fbb19ca2",
   "metadata": {},
   "outputs": [],
   "source": [
    "names.index"
   ]
  },
  {
   "cell_type": "markdown",
   "id": "87f0c58e-0525-4d47-a3c9-2e13b2cad9ba",
   "metadata": {
    "deletable": false,
    "editable": false
   },
   "source": [
    "### Question 8:\n",
    "\n",
    "Write a python code to create a pnadas series which takes three car owner names, `John, David and Kyla` as input values, and assign the vehicle plate number `BN1950, SA3593, TL5959` as named index. \n"
   ]
  },
  {
   "cell_type": "code",
   "execution_count": null,
   "id": "8744644a-910c-4a15-a08c-3226ea008b33",
   "metadata": {
    "tags": []
   },
   "outputs": [],
   "source": [
    "car_owners = ...\n",
    "car_owners"
   ]
  },
  {
   "cell_type": "code",
   "execution_count": null,
   "id": "bb9a5aa9",
   "metadata": {
    "deletable": false,
    "editable": false
   },
   "outputs": [],
   "source": [
    "grader.check(\"q8\")"
   ]
  },
  {
   "cell_type": "markdown",
   "id": "28d44253-5064-4dcc-aa51-5fa44832d29e",
   "metadata": {},
   "source": [
    "### How to create a dataframe? \n",
    "\n",
    "To create a dataframe, we can use the `pd.DataFrame` method. "
   ]
  },
  {
   "cell_type": "code",
   "execution_count": null,
   "id": "19e7924e-5625-4a1c-a0d1-f097454018e8",
   "metadata": {},
   "outputs": [],
   "source": [
    "population = pd.DataFrame({'Country': ['India', 'China', 'USA'], \n",
    "                           'Population': [1425423212, 1425179569,341534046]\n",
    "                          })\n",
    "population"
   ]
  },
  {
   "cell_type": "markdown",
   "id": "bf5ea3c8-99a9-40d6-ab57-9312c6cfe8ea",
   "metadata": {},
   "source": [
    "Each row or each column of a dataframe is a pandas series"
   ]
  },
  {
   "cell_type": "code",
   "execution_count": null,
   "id": "730280ee-51b1-4c1e-a4cd-47f66066f0cf",
   "metadata": {},
   "outputs": [],
   "source": [
    "countries = pd.Series(['India', 'China', 'USA'])\n",
    "headcounts = pd.Series([1425423212, 1425179569,341534046])\n",
    "population = pd.DataFrame({'Country': countries, 'Population': headcounts}) # Dictionary with each column added as pandas series\n",
    "population"
   ]
  },
  {
   "cell_type": "markdown",
   "id": "e596a6b6-b13c-4ed9-a062-e75908d68164",
   "metadata": {},
   "source": [
    "### Setting index to a dataframe\n",
    "\n",
    "You can set a column of a dataframe as index using `set_index` method. \n",
    "\n",
    "You may also set an index for each row of a dataframe using `set_index` method. "
   ]
  },
  {
   "cell_type": "code",
   "execution_count": null,
   "id": "d8fbf485-dc80-4e9d-aa24-4ac13ca06adb",
   "metadata": {},
   "outputs": [],
   "source": [
    "population = population.set_index('Country')\n",
    "population"
   ]
  },
  {
   "cell_type": "markdown",
   "id": "4ee3269b-fe9e-4ee7-9e98-16d9d35bff6b",
   "metadata": {},
   "source": [
    "#### To unset the index labels to column, we can use the `reset_index` method. "
   ]
  },
  {
   "cell_type": "code",
   "execution_count": null,
   "id": "ef7afa20-eb6d-4664-ae95-e21a95c0859b",
   "metadata": {},
   "outputs": [],
   "source": [
    "population = population.reset_index()\n",
    "population"
   ]
  },
  {
   "cell_type": "markdown",
   "id": "cede914a-cdbe-410a-9680-40cc865f3261",
   "metadata": {},
   "source": [
    "#### To set new column as index "
   ]
  },
  {
   "cell_type": "code",
   "execution_count": null,
   "id": "4d053d36-2259-4873-868b-f8c5f0a178d6",
   "metadata": {},
   "outputs": [],
   "source": [
    "population = population.set_index(pd.Series([\"Asia\", 'Asia', 'North America']))\n",
    "population"
   ]
  },
  {
   "cell_type": "markdown",
   "id": "3f1932b6-0d67-4d2b-bdb2-63470070c302",
   "metadata": {},
   "source": [
    "#### Access a row/column of a dataframe using `iloc` property"
   ]
  },
  {
   "cell_type": "code",
   "execution_count": null,
   "id": "6c34ea30-dbcc-4138-939c-3a280b421bb7",
   "metadata": {},
   "outputs": [],
   "source": [
    "population.iloc[0] # returns the first row of the dataframe"
   ]
  },
  {
   "cell_type": "code",
   "execution_count": null,
   "id": "bb80ebbb-901c-481f-8582-bdabc276da0e",
   "metadata": {},
   "outputs": [],
   "source": [
    "population.iloc[:, 0] # returns the first column of the dataframe"
   ]
  },
  {
   "cell_type": "markdown",
   "id": "288b2426-d04f-485b-9f62-6b2b9d67b849",
   "metadata": {},
   "source": [
    "#### Acess cell(s) of a dataframe using `iloc` property"
   ]
  },
  {
   "cell_type": "code",
   "execution_count": null,
   "id": "ed09e461-c75d-4814-b2c0-7f2de2622ad3",
   "metadata": {},
   "outputs": [],
   "source": [
    "population.iloc[2, 1] # returns the third row and second column of the dataframe"
   ]
  },
  {
   "cell_type": "code",
   "execution_count": null,
   "id": "26f57977-6ef9-4d1b-90e6-e7344e1fe53c",
   "metadata": {},
   "outputs": [],
   "source": [
    "population.iloc[:2, 1] # you can do slicing as well"
   ]
  },
  {
   "cell_type": "markdown",
   "id": "7212bc31-c35c-4a84-88e2-65683dcd9ad3",
   "metadata": {},
   "source": [
    "#### Access a row/column of a dataframe using `loc` property"
   ]
  },
  {
   "cell_type": "code",
   "execution_count": null,
   "id": "5cf21f82-9e86-4e91-9b50-4a7b275e2913",
   "metadata": {},
   "outputs": [],
   "source": [
    "population.loc['Asia']"
   ]
  },
  {
   "cell_type": "code",
   "execution_count": null,
   "id": "70bb64a9-76c2-41fb-a0ca-ba08e2032b14",
   "metadata": {},
   "outputs": [],
   "source": [
    "population.loc[:, 'Country']"
   ]
  },
  {
   "cell_type": "code",
   "execution_count": null,
   "id": "145a7b2d-93bb-4462-887b-8a43f5c5fb30",
   "metadata": {},
   "outputs": [],
   "source": [
    "population.loc[:, ['Country', 'Population']]"
   ]
  },
  {
   "cell_type": "markdown",
   "id": "11d828ee-1bd8-4183-9a40-1f337194e72b",
   "metadata": {},
   "source": [
    "#### Access cell(s) of a dataframe using `loc` property"
   ]
  },
  {
   "cell_type": "code",
   "execution_count": null,
   "id": "c4435c65-d1f8-42f8-a854-c3f1c14979cf",
   "metadata": {},
   "outputs": [],
   "source": [
    "population.loc['Asia', 'Population']"
   ]
  },
  {
   "cell_type": "markdown",
   "id": "e1d24a45-ea28-4dea-8a5f-a41fbf4636f4",
   "metadata": {
    "deletable": false,
    "editable": false
   },
   "source": [
    "### Question 9:\n",
    "\n",
    "Write a python code to create the following table: \n",
    "| Congress Member | Party | \n",
    "| --- | ---- |\n",
    "| Daniel Webster | R | \n",
    "| Jared Huffman | D | \n",
    "| Michael McCaul | R | \n",
    "| Al Green | D | "
   ]
  },
  {
   "cell_type": "code",
   "execution_count": null,
   "id": "ea50cc29-36e6-42b7-ac21-181a4c35a0c7",
   "metadata": {
    "tags": []
   },
   "outputs": [],
   "source": [
    "cong_members = ...\n",
    "cong_members"
   ]
  },
  {
   "cell_type": "code",
   "execution_count": null,
   "id": "cfb4e6d2",
   "metadata": {
    "deletable": false,
    "editable": false
   },
   "outputs": [],
   "source": [
    "grader.check(\"q9\")"
   ]
  },
  {
   "cell_type": "markdown",
   "id": "5a6b6afd-0591-4f1a-8b93-652324bc38d4",
   "metadata": {
    "deletable": false,
    "editable": false
   },
   "source": [
    "### Question 10\n",
    "\n",
    "Write a python code to extract the second row of the dataframe, `cong_members`. Your answer should be of type pandas series. \n"
   ]
  },
  {
   "cell_type": "code",
   "execution_count": null,
   "id": "a14e925e-55c2-43b3-a570-832859de21bb",
   "metadata": {
    "tags": []
   },
   "outputs": [],
   "source": [
    "second_row = ...\n",
    "second_row"
   ]
  },
  {
   "cell_type": "code",
   "execution_count": null,
   "id": "9a3305c6",
   "metadata": {
    "deletable": false,
    "editable": false
   },
   "outputs": [],
   "source": [
    "grader.check(\"q10\")"
   ]
  },
  {
   "cell_type": "markdown",
   "id": "c6dc40e6-5f5a-48a9-8ec4-a6ce13a3407d",
   "metadata": {
    "deletable": false,
    "editable": false
   },
   "source": [
    "### Question 11\n",
    "\n",
    "Write a python code to add state names `Florida, California, Texas, Texas` as named labels for each row in the dataframe in that order. \n"
   ]
  },
  {
   "cell_type": "code",
   "execution_count": null,
   "id": "00826a9c-f77a-4217-9846-4f26bac56aed",
   "metadata": {
    "tags": []
   },
   "outputs": [],
   "source": [
    "states = ['Florida', 'California', 'Texas', 'Texas']\n",
    "cong_members = ...\n",
    "cong_members"
   ]
  },
  {
   "cell_type": "code",
   "execution_count": null,
   "id": "78875bf0",
   "metadata": {
    "deletable": false,
    "editable": false
   },
   "outputs": [],
   "source": [
    "grader.check(\"q11\")"
   ]
  },
  {
   "cell_type": "markdown",
   "id": "595207d1-a3c7-46c3-afb0-47c353ec380c",
   "metadata": {
    "deletable": false,
    "editable": false
   },
   "source": [
    "### Question 12\n",
    "\n",
    "Write a python code to access all the congress members names using `iloc` property. Your answer should be a pandas series. \n"
   ]
  },
  {
   "cell_type": "code",
   "execution_count": null,
   "id": "17da173f-5b19-4c3b-b69c-1f57d14604dd",
   "metadata": {
    "tags": []
   },
   "outputs": [],
   "source": [
    "your_ans = ...\n",
    "your_ans"
   ]
  },
  {
   "cell_type": "code",
   "execution_count": null,
   "id": "96c5de5d",
   "metadata": {
    "deletable": false,
    "editable": false
   },
   "outputs": [],
   "source": [
    "grader.check(\"q12\")"
   ]
  },
  {
   "cell_type": "markdown",
   "id": "552661f1-1fb0-4aef-b3b0-ee762793b9e2",
   "metadata": {
    "deletable": false,
    "editable": false
   },
   "source": [
    "### Question 13\n",
    "\n",
    "Write a python code to access the name of the congress member who is from Florida using `iloc` property. Your answer should be a string. \n"
   ]
  },
  {
   "cell_type": "code",
   "execution_count": null,
   "id": "80d57512-6289-46a0-ab55-d33b3cd8a925",
   "metadata": {
    "tags": []
   },
   "outputs": [],
   "source": [
    "your_ans = ...\n",
    "your_ans"
   ]
  },
  {
   "cell_type": "code",
   "execution_count": null,
   "id": "60dfbef4",
   "metadata": {
    "deletable": false,
    "editable": false
   },
   "outputs": [],
   "source": [
    "grader.check(\"q13\")"
   ]
  },
  {
   "cell_type": "markdown",
   "id": "091657be-ef43-4b0a-95b4-28cd285d3d0f",
   "metadata": {
    "deletable": false,
    "editable": false
   },
   "source": [
    "### Question 14\n",
    "\n",
    "Write a python code to access the name of the congress member from Califoria using `loc` property. Your answer should be a string. \n"
   ]
  },
  {
   "cell_type": "code",
   "execution_count": null,
   "id": "4810ada3-c753-420e-b380-2fb6120acd25",
   "metadata": {
    "tags": []
   },
   "outputs": [],
   "source": [
    "cong_members"
   ]
  },
  {
   "cell_type": "code",
   "execution_count": null,
   "id": "93354791-5abd-4a2f-aa11-ab07e6c237b2",
   "metadata": {
    "tags": []
   },
   "outputs": [],
   "source": [
    "your_ans = ...\n",
    "your_ans"
   ]
  },
  {
   "cell_type": "code",
   "execution_count": null,
   "id": "e3676cfe",
   "metadata": {
    "deletable": false,
    "editable": false
   },
   "outputs": [],
   "source": [
    "grader.check(\"q14\")"
   ]
  },
  {
   "cell_type": "markdown",
   "id": "0507f1d3-6724-4b36-8bc6-37f071b11536",
   "metadata": {
    "deletable": false,
    "editable": false
   },
   "source": [
    "### Question 15\n",
    "\n",
    "Write a python code to access all the congress member names from Texas using `iloc` property. Your answer should be a pandas series. \n"
   ]
  },
  {
   "cell_type": "code",
   "execution_count": null,
   "id": "1935cc9d-48a0-466c-845d-43eda218ffa1",
   "metadata": {
    "tags": []
   },
   "outputs": [],
   "source": [
    "cong_members"
   ]
  },
  {
   "cell_type": "code",
   "execution_count": null,
   "id": "b16b730b-11a7-49fc-80bd-b0c5a925b445",
   "metadata": {
    "tags": []
   },
   "outputs": [],
   "source": [
    "your_ans = ...\n",
    "your_ans"
   ]
  },
  {
   "cell_type": "code",
   "execution_count": null,
   "id": "7caf1eac",
   "metadata": {
    "deletable": false,
    "editable": false
   },
   "outputs": [],
   "source": [
    "grader.check(\"q15\")"
   ]
  },
  {
   "cell_type": "markdown",
   "id": "1e2cbcd8-7009-4263-b939-fa75cfa4c601",
   "metadata": {
    "deletable": false,
    "editable": false
   },
   "source": [
    "### Question 16\n",
    "\n",
    "Write a python code to access all the congress member names from Texas using `loc` property. Your answer should be a pandas series. \n",
    "\n"
   ]
  },
  {
   "cell_type": "code",
   "execution_count": null,
   "id": "ca223ae0-c23a-41f2-90af-75120ae9aa8a",
   "metadata": {
    "tags": []
   },
   "outputs": [],
   "source": [
    "your_ans = ...\n",
    "your_ans"
   ]
  },
  {
   "cell_type": "code",
   "execution_count": null,
   "id": "bba7a4b8",
   "metadata": {
    "deletable": false,
    "editable": false
   },
   "outputs": [],
   "source": [
    "grader.check(\"q16\")"
   ]
  },
  {
   "cell_type": "markdown",
   "id": "c4a7c349-66f0-4dc2-8db1-abfc1b35babb",
   "metadata": {},
   "source": [
    "### Drop columns of a dataframe\n",
    "\n",
    "You can also **drop** columns from a table if it's of no importance for data exploration. Pandas provides `drop` method for it. "
   ]
  },
  {
   "cell_type": "code",
   "execution_count": null,
   "id": "6a5b56b8-7e95-4d62-af85-55e1ae562952",
   "metadata": {},
   "outputs": [],
   "source": [
    "nascar.head()"
   ]
  },
  {
   "cell_type": "code",
   "execution_count": null,
   "id": "795633c0-d205-42b6-9b08-3b3e214fe0e7",
   "metadata": {},
   "outputs": [],
   "source": [
    "nascar.drop('Race/Year', axis='columns').head()"
   ]
  },
  {
   "cell_type": "markdown",
   "id": "6adc146b-8241-4e21-b76e-9c020cd5660a",
   "metadata": {},
   "source": [
    "Now that we have dropped `Race/Year` column from the table, let's print the table again, to make sure this column doesn't exist in the dataframe. "
   ]
  },
  {
   "cell_type": "code",
   "execution_count": null,
   "id": "75d1b7ba-65a0-45c9-855e-d7f6dea761d9",
   "metadata": {},
   "outputs": [],
   "source": [
    "nascar.head()"
   ]
  },
  {
   "cell_type": "markdown",
   "id": "c527f775-edfc-4279-8afe-0d588b20b41b",
   "metadata": {},
   "source": [
    "Oops!!! What happened? Why is the `Race/Year` column still present in the dataframe? \n",
    "\n",
    "When you apply a method to pandas, then modification of the table is applied to the copy of the original dataframe. if you meant to make the modification to the original dataframe, then you need to reassign the modified dataframe to the original dataframe, like the following: "
   ]
  },
  {
   "cell_type": "code",
   "execution_count": null,
   "id": "9c6a5dc6-825c-4da2-b016-e91c78305cd0",
   "metadata": {},
   "outputs": [],
   "source": [
    "nascar = nascar.drop('Race/Year', axis=1) \n",
    "nascar.head()"
   ]
  },
  {
   "cell_type": "markdown",
   "id": "9c34eefe-5ce1-44e3-9f9c-b779ec4e9c64",
   "metadata": {},
   "source": [
    "Alternatively, you may use `inplace=True` argument. "
   ]
  },
  {
   "cell_type": "code",
   "execution_count": null,
   "id": "41e757ab-c526-4c56-94de-cf9cf9a9b668",
   "metadata": {},
   "outputs": [],
   "source": [
    "nascar.drop('Total Cars', axis=1, inplace=True)\n",
    "nascar.head()"
   ]
  },
  {
   "cell_type": "markdown",
   "id": "81c04eb9-4621-4050-aebc-1198d26e2caf",
   "metadata": {},
   "source": [
    "Now, re-run the previous code one more time, why are you getting an error when you are trying to remove the 'Total Cars' again from the table? How to fix this problem? In other words, what cell do you need to run again so that you can correctly, re-drop the column? \n",
    "\n",
    "Ans: This is because `Total Cars`already got deleted when you ran the cell for the first time. When you try to re-run the cell, or re-drop the column, it throws an error saying this column name doesn't exist anymore. To fix this issue, you need to read the nascar data back to the original nascar dataframe, and then re-run the cell to delete the `Total Cars` again. This is as if you are running the notebook from the beginning. "
   ]
  },
  {
   "cell_type": "markdown",
   "id": "61699322-5e7f-44ea-91a5-f099717dc962",
   "metadata": {
    "deletable": false,
    "editable": false
   },
   "source": [
    "### Question 17\n",
    "\n",
    "Write a python code to drop the columns `Laps Completed` and `Car Make` from the dataframe, `nascar`. Your dataframe should have only columns `Race`, `Year`, `Race/Year`, `Fin Pos`, `Start_Pos`, `Winnings`, `Driver`. \n"
   ]
  },
  {
   "cell_type": "code",
   "execution_count": null,
   "id": "e853241a-125c-4cc4-b32a-410d66c0f2d2",
   "metadata": {
    "tags": []
   },
   "outputs": [],
   "source": [
    "nascar = pd.read_csv(\"data/nascar.csv\")\n",
    "nascar.head()"
   ]
  },
  {
   "cell_type": "code",
   "execution_count": null,
   "id": "982e002c-3fd0-4ceb-92b9-d37639e09489",
   "metadata": {
    "tags": []
   },
   "outputs": [],
   "source": [
    "nascar = ...\n",
    "nascar.head()"
   ]
  },
  {
   "cell_type": "code",
   "execution_count": null,
   "id": "908629cb",
   "metadata": {
    "deletable": false,
    "editable": false
   },
   "outputs": [],
   "source": [
    "grader.check(\"q17\")"
   ]
  },
  {
   "cell_type": "markdown",
   "id": "7696bb5a-5dc2-40de-bc58-e4e4ed6a0962",
   "metadata": {},
   "source": [
    "### Sorting rows of a dataframe\n",
    "\n",
    "The `sort_method` method created a new table by arranging the rows of the original table in ascending order of the values in the specified column. \n",
    "\n",
    "Let's sort the nascar dataset in ascending order of their `Start pos`. "
   ]
  },
  {
   "cell_type": "code",
   "execution_count": null,
   "id": "ba0c8537-481e-4a37-87f5-337efd82cc7c",
   "metadata": {},
   "outputs": [],
   "source": [
    "nascar.columns"
   ]
  },
  {
   "cell_type": "code",
   "execution_count": null,
   "id": "432d8239-582f-47fc-b462-8bd3983f5e06",
   "metadata": {},
   "outputs": [],
   "source": [
    "nascar_sorted = nascar.sort_values('Start Pos', axis=0, ascending=True)\n",
    "nascar_sorted.head()"
   ]
  },
  {
   "cell_type": "markdown",
   "id": "0cb9a097-45ee-41c9-9ac9-b54a22b323ec",
   "metadata": {
    "deletable": false,
    "editable": false
   },
   "source": [
    "### Question 18\n",
    "\n",
    "Write a python code to sort the `nascar` dataframe, based on their `Winnings` in ascending order. \n"
   ]
  },
  {
   "cell_type": "code",
   "execution_count": null,
   "id": "649dd0bd-89af-44c8-98ac-8f0bfd19b468",
   "metadata": {
    "tags": []
   },
   "outputs": [],
   "source": [
    "nascar_sorted = ...\n",
    "nascar_sorted.head()"
   ]
  },
  {
   "cell_type": "code",
   "execution_count": null,
   "id": "1aa64b21",
   "metadata": {
    "deletable": false,
    "editable": false
   },
   "outputs": [],
   "source": [
    "grader.check(\"q18\")"
   ]
  },
  {
   "cell_type": "markdown",
   "id": "2ebf8a1a-83cb-4a0d-99ae-4a2304ea97c3",
   "metadata": {
    "deletable": false,
    "editable": false
   },
   "source": [
    "### Question 19\n",
    "\n",
    "Write a python code to find the name of the driver with highest winnings. Your answer should be a string. Assume no two players have same highest winnings. \n"
   ]
  },
  {
   "cell_type": "code",
   "execution_count": null,
   "id": "14a91d1e-c51c-425a-bebf-d7a8a0d1d04b",
   "metadata": {
    "tags": []
   },
   "outputs": [],
   "source": [
    "your_ans = ...\n",
    "your_ans"
   ]
  },
  {
   "cell_type": "code",
   "execution_count": null,
   "id": "9e925329",
   "metadata": {
    "deletable": false,
    "editable": false
   },
   "outputs": [],
   "source": [
    "grader.check(\"q19\")"
   ]
  },
  {
   "cell_type": "markdown",
   "id": "95e90470-4b13-423a-90d7-7525e9e95bdd",
   "metadata": {
    "deletable": false,
    "editable": false
   },
   "source": [
    "### Question 20\n",
    "\n",
    "Write a python code to find the driver name (`Driver`), Race number (`Race`) and Year (`Year) with second highest winnings. Your answer should be a pandas series. Assume no two players have same highest winnings. "
   ]
  },
  {
   "cell_type": "code",
   "execution_count": null,
   "id": "34f16c4b-f611-484a-a50e-82e95b614681",
   "metadata": {
    "tags": []
   },
   "outputs": [],
   "source": [
    "your_ans = ...\n",
    "your_ans"
   ]
  },
  {
   "cell_type": "code",
   "execution_count": null,
   "id": "dea61b2a",
   "metadata": {
    "deletable": false,
    "editable": false
   },
   "outputs": [],
   "source": [
    "grader.check(\"q20\")"
   ]
  }
 ],
 "metadata": {
  "kernelspec": {
   "display_name": "Python 3 (ipykernel)",
   "language": "python",
   "name": "python3"
  },
  "language_info": {
   "codemirror_mode": {
    "name": "ipython",
    "version": 3
   },
   "file_extension": ".py",
   "mimetype": "text/x-python",
   "name": "python",
   "nbconvert_exporter": "python",
   "pygments_lexer": "ipython3",
   "version": "3.12.4"
  },
  "otter": {
   "OK_FORMAT": true,
   "tests": {
    "q10": {
     "name": "q10",
     "points": null,
     "suites": [
      {
       "cases": [
        {
         "code": ">>> isinstance(second_row, pd.core.series.Series) == True\nTrue",
         "hidden": false,
         "locked": false
        }
       ],
       "scored": true,
       "setup": "",
       "teardown": "",
       "type": "doctest"
      }
     ]
    },
    "q11": {
     "name": "q11",
     "points": null,
     "suites": [
      {
       "cases": [
        {
         "code": ">>> len(cong_members) == 4\nTrue",
         "hidden": false,
         "locked": false
        },
        {
         "code": ">>> cong_members.index[0] == 'Florida' and cong_members.index[-1] == 'Texas'\nTrue",
         "hidden": false,
         "locked": false
        }
       ],
       "scored": true,
       "setup": "",
       "teardown": "",
       "type": "doctest"
      }
     ]
    },
    "q12": {
     "name": "q12",
     "points": null,
     "suites": [
      {
       "cases": [
        {
         "code": ">>> isinstance(your_ans, pd.core.series.Series)\nTrue",
         "hidden": false,
         "locked": false
        }
       ],
       "scored": true,
       "setup": "",
       "teardown": "",
       "type": "doctest"
      }
     ]
    },
    "q13": {
     "name": "q13",
     "points": null,
     "suites": [
      {
       "cases": [
        {
         "code": ">>> your_ans == 'Daniel Webster'\nTrue",
         "hidden": false,
         "locked": false
        }
       ],
       "scored": true,
       "setup": "",
       "teardown": "",
       "type": "doctest"
      }
     ]
    },
    "q14": {
     "name": "q14",
     "points": null,
     "suites": [
      {
       "cases": [
        {
         "code": ">>> your_ans == 'Jared Huffman'\nTrue",
         "hidden": false,
         "locked": false
        }
       ],
       "scored": true,
       "setup": "",
       "teardown": "",
       "type": "doctest"
      }
     ]
    },
    "q15": {
     "name": "q15",
     "points": null,
     "suites": [
      {
       "cases": [
        {
         "code": ">>> isinstance(your_ans, pd.core.series.Series) == True\nTrue",
         "hidden": false,
         "locked": false
        },
        {
         "code": ">>> your_ans.values[0] == 'Michael McCaul'\nTrue",
         "hidden": false,
         "locked": false
        }
       ],
       "scored": true,
       "setup": "",
       "teardown": "",
       "type": "doctest"
      }
     ]
    },
    "q16": {
     "name": "q16",
     "points": null,
     "suites": [
      {
       "cases": [
        {
         "code": ">>> isinstance(your_ans, pd.core.series.Series) == True\nTrue",
         "hidden": false,
         "locked": false
        },
        {
         "code": ">>> your_ans.values[-1] == 'Al Green'\nTrue",
         "hidden": false,
         "locked": false
        }
       ],
       "scored": true,
       "setup": "",
       "teardown": "",
       "type": "doctest"
      }
     ]
    },
    "q17": {
     "name": "q17",
     "points": null,
     "suites": [
      {
       "cases": [
        {
         "code": ">>> ('Laps Completed' not in nascar.columns) == True\nTrue",
         "hidden": false,
         "locked": false
        },
        {
         "code": ">>> ('Car Make' not in nascar.columns) == True\nTrue",
         "hidden": false,
         "locked": false
        },
        {
         "code": ">>> len(nascar.columns) == 8\nTrue",
         "hidden": false,
         "locked": false
        }
       ],
       "scored": true,
       "setup": "",
       "teardown": "",
       "type": "doctest"
      }
     ]
    },
    "q18": {
     "name": "q18",
     "points": null,
     "suites": [
      {
       "cases": [
        {
         "code": ">>> nascar.loc[6962, 'Winnings'] == 0\nTrue",
         "hidden": false,
         "locked": false
        }
       ],
       "scored": true,
       "setup": "",
       "teardown": "",
       "type": "doctest"
      }
     ]
    },
    "q19": {
     "name": "q19",
     "points": null,
     "suites": [
      {
       "cases": [
        {
         "code": ">>> your_ans == 'DaleJarrett'\nTrue",
         "hidden": false,
         "locked": false
        }
       ],
       "scored": true,
       "setup": "",
       "teardown": "",
       "type": "doctest"
      }
     ]
    },
    "q20": {
     "name": "q20",
     "points": null,
     "suites": [
      {
       "cases": [
        {
         "code": ">>> isinstance(your_ans, pd.core.series.Series) == True\nTrue",
         "hidden": false,
         "locked": false
        },
        {
         "code": ">>> your_ans.values[0] == 863 and your_ans.values[-1] == 'MichaelWaltrip'\nTrue",
         "hidden": false,
         "locked": false
        }
       ],
       "scored": true,
       "setup": "",
       "teardown": "",
       "type": "doctest"
      }
     ]
    },
    "q3": {
     "name": "q3",
     "points": null,
     "suites": [
      {
       "cases": [
        {
         "code": ">>> cancer.shape[1] == 4\nTrue",
         "hidden": false,
         "locked": false
        }
       ],
       "scored": true,
       "setup": "",
       "teardown": "",
       "type": "doctest"
      }
     ]
    },
    "q4": {
     "name": "q4",
     "points": null,
     "suites": [
      {
       "cases": [
        {
         "code": ">>> copen.columns[-1] == 'n' and copen.columns[0] == 'housing'\nTrue",
         "hidden": false,
         "locked": false
        }
       ],
       "scored": true,
       "setup": "",
       "teardown": "",
       "type": "doctest"
      }
     ]
    },
    "q5": {
     "name": "q5",
     "points": null,
     "suites": [
      {
       "cases": [
        {
         "code": ">>> brazil.columns[-1] == 'Frequency'\nTrue",
         "hidden": false,
         "locked": false
        },
        {
         "code": ">>> len(brazil.columns) == 3\nTrue",
         "hidden": false,
         "locked": false
        }
       ],
       "scored": true,
       "setup": "",
       "teardown": "",
       "type": "doctest"
      }
     ]
    },
    "q6": {
     "name": "q6",
     "points": null,
     "suites": [
      {
       "cases": [
        {
         "code": ">>> brazil.columns[1] == 'Frequency' and brazil.columns[0] == 'Age-group'\nTrue",
         "hidden": false,
         "locked": false
        }
       ],
       "scored": true,
       "setup": "",
       "teardown": "",
       "type": "doctest"
      }
     ]
    },
    "q7": {
     "name": "q7",
     "points": null,
     "suites": [
      {
       "cases": [
        {
         "code": ">>> nrows == 6 and ncols == 4\nTrue",
         "hidden": false,
         "locked": false
        }
       ],
       "scored": true,
       "setup": "",
       "teardown": "",
       "type": "doctest"
      }
     ]
    },
    "q8": {
     "name": "q8",
     "points": null,
     "suites": [
      {
       "cases": [
        {
         "code": ">>> car_owners.index[0].lower() == 'bn1950'\nTrue",
         "hidden": false,
         "locked": false
        },
        {
         "code": ">>> len(car_owners) == 3\nTrue",
         "hidden": false,
         "locked": false
        },
        {
         "code": ">>> car_owners.values[-1].lower() == 'kyla'\nTrue",
         "hidden": false,
         "locked": false
        }
       ],
       "scored": true,
       "setup": "",
       "teardown": "",
       "type": "doctest"
      }
     ]
    },
    "q9": {
     "name": "q9",
     "points": null,
     "suites": [
      {
       "cases": [
        {
         "code": ">>> len(cong_members.columns) == 2\nTrue",
         "hidden": false,
         "locked": false
        },
        {
         "code": ">>> len(cong_members.index) == 4\nTrue",
         "hidden": false,
         "locked": false
        }
       ],
       "scored": true,
       "setup": "",
       "teardown": "",
       "type": "doctest"
      }
     ]
    }
   }
  }
 },
 "nbformat": 4,
 "nbformat_minor": 5
}
