{
 "cells": [
  {
   "cell_type": "code",
   "execution_count": null,
   "id": "6ce30576",
   "metadata": {
    "deletable": false,
    "editable": false
   },
   "outputs": [],
   "source": [
    "# Initialize Otter\n",
    "import otter\n",
    "grader = otter.Notebook(\"Expressions.ipynb\")"
   ]
  },
  {
   "cell_type": "code",
   "execution_count": null,
   "id": "703582f0-83d5-4d55-8477-5f4b61db98ae",
   "metadata": {},
   "outputs": [],
   "source": [
    "import math"
   ]
  },
  {
   "cell_type": "markdown",
   "id": "5bda45b6-c0b3-4fef-9112-4ea33d01e38c",
   "metadata": {},
   "source": [
    "# Python as a Calculator\n",
    "\n",
    "We can use python to act as a calculator. Python supports different numerical operators to perform such mathematical operations, such as: \n",
    "\n",
    "| Operator | Meaning | Example | Value | \n",
    "| -----   | ---- | ----- | ----- |\n",
    "| * | Multiplication | 3 * 2 | 6 |\n",
    "| / | Division | 3 / 2 | 1.5 |\n",
    "| + | Addition | 3 + 2 | 5 |\n",
    "| - | Subtraction | 3 - 2 | 1 |\n",
    "| ** | Exponentiation | 3 ** 2 | 9 |\n",
    "| % | Modulo | 3 % 2 | 1 |\n",
    "\n",
    "All of the above operators are also called _binary operators_, as they need two data(binary) on each side of the operator (called operands) to compute the result or value. \n",
    "\n",
    "When a mathematical operation is made up of either an operator, or variable, or operand and produce an output, we call such an operation as `expression`. For eg: "
   ]
  },
  {
   "cell_type": "code",
   "execution_count": null,
   "id": "4bc1d415-8104-4075-b79c-df3ede3ab4c9",
   "metadata": {},
   "outputs": [],
   "source": [
    "5 + 2 * 4"
   ]
  },
  {
   "cell_type": "code",
   "execution_count": null,
   "id": "36f5b3b3-f292-457b-9855-0d9cf9f9cd31",
   "metadata": {},
   "outputs": [],
   "source": [
    "x = 5\n",
    "x * 3"
   ]
  },
  {
   "cell_type": "markdown",
   "id": "0894434c-cdde-4276-b89f-175950d82f47",
   "metadata": {
    "deletable": false,
    "editable": false
   },
   "source": [
    "### Question 1\n",
    "\n",
    "Write a python expression to calculate the value of $4^5$. Store your result in a variable `your_ans`. "
   ]
  },
  {
   "cell_type": "code",
   "execution_count": null,
   "id": "dd669e9d-bc16-4612-96a5-16235a8d5e67",
   "metadata": {
    "tags": []
   },
   "outputs": [],
   "source": [
    "your_ans = ...\n",
    "your_ans"
   ]
  },
  {
   "cell_type": "code",
   "execution_count": null,
   "id": "dcc902e3",
   "metadata": {
    "deletable": false,
    "editable": false
   },
   "outputs": [],
   "source": [
    "grader.check(\"q1\")"
   ]
  },
  {
   "cell_type": "markdown",
   "id": "1f2b59a4-5646-4bea-a68d-c844eb94f51a",
   "metadata": {
    "deletable": false,
    "editable": false
   },
   "source": [
    "### Question 2\n",
    "\n",
    "What is the output of the python expression `17 % 4`? Do not write code for this, simply store your answer in the variable `your_ans` below."
   ]
  },
  {
   "cell_type": "markdown",
   "id": "17d07ad6-fad8-4909-926a-9ff678755bc4",
   "metadata": {
    "deletable": false,
    "editable": false
   },
   "source": [
    "### Question 3\n",
    "\n",
    "Write a python expression to store the result of the expression $\\frac{5 * 6 + 2^5 - 20}{5} $ in a variable `your_ans`. "
   ]
  },
  {
   "cell_type": "code",
   "execution_count": null,
   "id": "7292b52e-9649-4717-9613-607c2ab2d487",
   "metadata": {
    "tags": []
   },
   "outputs": [],
   "source": [
    "your_ans = ...\n",
    "your_ans"
   ]
  },
  {
   "cell_type": "code",
   "execution_count": null,
   "id": "993df609",
   "metadata": {
    "deletable": false,
    "editable": false
   },
   "outputs": [],
   "source": [
    "grader.check(\"q3\")"
   ]
  },
  {
   "cell_type": "markdown",
   "id": "c8649758-73db-44cf-9f69-7623a9b20f6e",
   "metadata": {
    "deletable": false,
    "editable": false
   },
   "source": [
    "### Question 4\n",
    "Write a python code to convert 6 feet to meters, and store your result in a variable `your_ans`. One foot is 0.305 meter. "
   ]
  },
  {
   "cell_type": "code",
   "execution_count": null,
   "id": "425b4a42-fe8d-4149-9d80-3a562e499d2a",
   "metadata": {
    "tags": []
   },
   "outputs": [],
   "source": [
    "your_ans = ...\n",
    "your_ans"
   ]
  },
  {
   "cell_type": "code",
   "execution_count": null,
   "id": "be4b8ff7",
   "metadata": {
    "deletable": false,
    "editable": false
   },
   "outputs": [],
   "source": [
    "grader.check(\"q4\")"
   ]
  },
  {
   "cell_type": "markdown",
   "id": "693b6e7b-42d4-47f6-a5c2-f929972633e2",
   "metadata": {
    "deletable": false,
    "editable": false
   },
   "source": [
    "### Question 5\n",
    "Write a python code to convert 50 pounds into kilograms, and store your result in a variable `your_ans`. One pound is 0.454 kilogram. "
   ]
  },
  {
   "cell_type": "code",
   "execution_count": null,
   "id": "0d0a9f71-482c-4803-bb57-692b08690414",
   "metadata": {
    "tags": []
   },
   "outputs": [],
   "source": [
    "your_ans = ...\n",
    "your_ans"
   ]
  },
  {
   "cell_type": "code",
   "execution_count": null,
   "id": "f6c94856",
   "metadata": {
    "deletable": false,
    "editable": false
   },
   "outputs": [],
   "source": [
    "grader.check(\"q5\")"
   ]
  },
  {
   "cell_type": "markdown",
   "id": "b6b6f48c-7f01-437d-9f47-607b7b7fdb4c",
   "metadata": {
    "deletable": false,
    "editable": false
   },
   "source": [
    "### Question 6\n",
    "\n",
    "Mark works for a Data Analytics company and have an annual salary of 88,000 USD. He also gets an annual bonus of 10% on top of his salary. What is the total gross annual income of Mark? Store your answer in a variable `mark_income` "
   ]
  },
  {
   "cell_type": "code",
   "execution_count": null,
   "id": "f70afbfc-86e9-4460-99f4-eb1effb195d6",
   "metadata": {
    "tags": []
   },
   "outputs": [],
   "source": [
    "mark_income = ...\n",
    "mark_income"
   ]
  },
  {
   "cell_type": "code",
   "execution_count": null,
   "id": "e006229c",
   "metadata": {
    "deletable": false,
    "editable": false
   },
   "outputs": [],
   "source": [
    "grader.check(\"q6\")"
   ]
  },
  {
   "cell_type": "markdown",
   "id": "61c3e96e-580e-4f95-b318-f4f8314f32f9",
   "metadata": {
    "deletable": false,
    "editable": false
   },
   "source": [
    "### Question 7\n",
    "\n",
    "Write a python program that converts a given minutes into the number of years and remaining days for the minutes. For simplicity, assume that a year has 365 days. \n",
    "\n",
    "For eg: 1000000000 (1 billion) minutes is approximately 1902 years and 214 days. "
   ]
  },
  {
   "cell_type": "code",
   "execution_count": null,
   "id": "9c8926ca-713a-45a6-95ae-0a01a375d997",
   "metadata": {
    "tags": []
   },
   "outputs": [],
   "source": [
    "mins = 1000000000 \n",
    "MINS_IN_A_DAY = 24 * 60\n",
    "DAYS_IN_A_YEAR = 365\n",
    "total_days = ...\n",
    "years = ...\n",
    "remaining_days = ...\n",
    "\n",
    "print(\"{} minutes is approximately {} years and {} days.\".format(mins, years, remaining_days)) "
   ]
  },
  {
   "cell_type": "code",
   "execution_count": null,
   "id": "8f13b775",
   "metadata": {
    "deletable": false,
    "editable": false
   },
   "outputs": [],
   "source": [
    "grader.check(\"q7\")"
   ]
  },
  {
   "cell_type": "markdown",
   "id": "9ae19f1f-91d5-48ff-91c8-68b4df91c8dc",
   "metadata": {
    "deletable": false,
    "editable": false
   },
   "source": [
    "### Question 8\n",
    "The U.S. Census Bureau projects population based on the following assumptions:\n",
    "\n",
    "- One birth every 7 seconds\n",
    "- One death every 13 seconds\n",
    "- One new immigrant every 45 seconds\n",
    "\n",
    "Write a program to display the population at the end of the next five years. Assume that the current population is 312, 032, 486, and one year has 365 days. "
   ]
  },
  {
   "cell_type": "code",
   "execution_count": null,
   "id": "80b5ba7c-3e70-41c6-8986-bfb63dc887c4",
   "metadata": {
    "tags": []
   },
   "outputs": [],
   "source": [
    "SECONDS_IN_A_YEAR = 365 * 24 * 60 * 60  # Number of seconds in one year\n",
    "SECONDS_IN_5_YEARS = 5 * SECONDS_IN_A_YEAR\n",
    "BIRTH_RATE = 7  # One birth every 7 seconds\n",
    "DEATH_RATE = 13  # One death every 13 seconds\n",
    "IMMIGRATION_RATE = 45  # One immigrant every 45 seconds\n",
    "    \n",
    "# Calculate the total number of births, deaths, and immigrants in 5 years\n",
    "births = ...\n",
    "deaths = ...\n",
    "immigrants = ...\n",
    "\n",
    "current_population = 312032486 \n",
    "\n",
    "new_population = ...\n",
    "new_population"
   ]
  },
  {
   "cell_type": "code",
   "execution_count": null,
   "id": "71482c8b",
   "metadata": {
    "deletable": false,
    "editable": false
   },
   "outputs": [],
   "source": [
    "grader.check(\"q8\")"
   ]
  },
  {
   "cell_type": "markdown",
   "id": "6125ebff-4ffa-4da0-a6d0-4bcb1f886da8",
   "metadata": {
    "deletable": false,
    "editable": false
   },
   "source": [
    "### Question 9\n",
    "\n",
    "Suppose you save $100 each month into a savings account with an annual interest rate of 5%. Thus, the monthly interest rate is 0.05/12 = 0.00417. After the first month, the value in the account becomes \n",
    "\n",
    "$100 * (1 + 0.00417) = 100.417$\n",
    "\n",
    "After the second month, the value in the account becomes\n",
    "\n",
    "$(100 + 100.417) * (1 + 0.00417) = 201.252$\n",
    "\n",
    "After the third month, the value in the account becomes \n",
    "\n",
    "$(100 + 201.252) * (1 + 0.00417) = 302.507$\n",
    " and so on. \n",
    "\n",
    "Write a python program that displays the account value after the sixth month. \n",
    "\n",
    "Hint: You will use loop to simply this code in future. "
   ]
  },
  {
   "cell_type": "code",
   "execution_count": null,
   "id": "dcca9387-7814-4610-b05d-b99433b552a8",
   "metadata": {
    "tags": []
   },
   "outputs": [],
   "source": [
    "monthly_deposit = 100  # Amount deposited each month\n",
    "interest_rate = 0.00417  # Monthly interest rate (5% annual)\n",
    "\n",
    "# Month-wise account value\n",
    "first_month = ...\n",
    "second_month = ...\n",
    "third_month = ...\n",
    "fourth_month = ...\n",
    "fifth_month = ...\n",
    "sixth_month = ...\n",
    "\n",
    "# Print the result after the sixth month\n",
    "print(\"After the sixth month, the account value is ${:.2f}\".format(sixth_month))"
   ]
  },
  {
   "cell_type": "code",
   "execution_count": null,
   "id": "a815008e",
   "metadata": {
    "deletable": false,
    "editable": false
   },
   "outputs": [],
   "source": [
    "grader.check(\"q9\")"
   ]
  },
  {
   "cell_type": "markdown",
   "id": "46629555-b7b6-4fa2-a382-a229385b085d",
   "metadata": {
    "deletable": false,
    "editable": false
   },
   "source": [
    "### Question 10\n",
    "Body Mass Index (BMI) is a measure of health on weight. It can be calculated by taking your weight in kilograms and dividing, by the square of your health in meters. \n",
    "Write a python program to calculate a person's BMI given the height is 50 inches, and weight is 95.5. Note, one pound is 0.45359237 kilograms and one inch is 0.0254 meters. "
   ]
  },
  {
   "cell_type": "code",
   "execution_count": null,
   "id": "5d094e86-91d1-46c1-b42a-e4373ee66e33",
   "metadata": {
    "tags": []
   },
   "outputs": [],
   "source": [
    "POUND_TO_KG = 0.45359237  # Conversion factor from pounds to kilograms\n",
    "INCH_TO_METER = 0.0254  # Conversion factor from inches to meters\n",
    "\n",
    "weight_pounds = ...\n",
    "height_inches = ...\n",
    "\n",
    "# Convert weight and height\n",
    "weight_kg = ...\n",
    "height_m = ...\n",
    "\n",
    "# Calculate BMI\n",
    "bmi = ...\n",
    "bmi"
   ]
  },
  {
   "cell_type": "code",
   "execution_count": null,
   "id": "4d5fedac",
   "metadata": {
    "deletable": false,
    "editable": false
   },
   "outputs": [],
   "source": [
    "grader.check(\"q10\")"
   ]
  },
  {
   "cell_type": "markdown",
   "id": "3115c5fd-4077-473a-8116-8a49c3d1054a",
   "metadata": {
    "deletable": false,
    "editable": false
   },
   "source": [
    "### Question 11\n",
    "How cold is it outside? The temperature alone is not enough to provide the answer. Other factors including wind speed, relative humidity, and sunshine play important roles in determinig roles in deermining coldness outside. In 2001, the National Weather Service (NWS) implemented the new wind-chill temperator to measure the coldness using temperature and wind speed. The formula is \n",
    "\n",
    "\n",
    "$t_{wc} = 35.74 + 0.6215t_a - 35.75v^{0.16} + 0.4275t_av^{0.16}$\n",
    "\n",
    "\n",
    "where $t_a$ is the outside temperature measured in degrees Fahrenheit, $v$ is the speed measured in miles per hour, and $t_{wc}$ is the wind-chill temperature. The formula cannot be used for wind speeds below 2mph or temperatures below $-58^oF$ or above $41^oF$.\n",
    "\n",
    "Write a python program that displays the wind-chill temperature given the temperature is $5.3^oF$ and wind speed of 6 mph. "
   ]
  },
  {
   "cell_type": "code",
   "execution_count": null,
   "id": "b5347208-ec56-4010-89ae-0dd846c91f07",
   "metadata": {
    "tags": []
   },
   "outputs": [],
   "source": [
    "t_a = 5.3  # Temperature in Fahrenheit\n",
    "v = 6  # Wind speed in miles per hour\n",
    "\n",
    "# Wind chill formula\n",
    "t_wc = ...\n",
    "\n",
    "# Display the result\n",
    "print(f\"The wind-chill temperature is: {t_wc:.2f}°F\")"
   ]
  },
  {
   "cell_type": "code",
   "execution_count": null,
   "id": "072e4311",
   "metadata": {
    "deletable": false,
    "editable": false
   },
   "outputs": [],
   "source": [
    "grader.check(\"q11\")"
   ]
  },
  {
   "cell_type": "markdown",
   "id": "78f80b38-7825-4a23-90a5-ad6fa7b8e129",
   "metadata": {
    "deletable": false,
    "editable": false
   },
   "source": [
    "### Question 12\n",
    "If you know the balance and the annual percentage interest rate, you can compute the interest on the next monthly payment using the following formula:\n",
    "\n",
    "$interest = balance * (annualInterestRate / 1200)$\n",
    "\n",
    "Write a python program that reads the balance of 1000 and annual percentage interest rate of 3.5 and displays the interest for the next month. "
   ]
  },
  {
   "cell_type": "code",
   "execution_count": null,
   "id": "2ab3d6e2-7e63-4a3f-a358-91ea13055fd9",
   "metadata": {
    "tags": []
   },
   "outputs": [],
   "source": [
    "# Given values\n",
    "balance = 1000  # Initial balance\n",
    "annual_interest_rate = 3.5  # Annual interest rate in percentage\n",
    "\n",
    "interest = ...\n",
    "interest"
   ]
  },
  {
   "cell_type": "code",
   "execution_count": null,
   "id": "f60d1e90",
   "metadata": {
    "deletable": false,
    "editable": false
   },
   "outputs": [],
   "source": [
    "grader.check(\"q12\")"
   ]
  },
  {
   "cell_type": "markdown",
   "id": "b59d67f3-c3a0-45fc-b1cb-11a4d307adeb",
   "metadata": {
    "deletable": false,
    "editable": false
   },
   "source": [
    "### Question 13\n",
    "Write a program that takes investment amount of $1000, annual interest rate of 3.25%, number of years of 1 and displays the future investment value using the following formula:\n",
    "\n",
    "$futureInvestmentValue = investmentAmount * (1 + monthlyInterestRate)^{numberofYears * 12}$"
   ]
  },
  {
   "cell_type": "code",
   "execution_count": null,
   "id": "bd1e63c7-f249-4ffc-af78-8b411a1b6c4d",
   "metadata": {
    "tags": []
   },
   "outputs": [],
   "source": [
    "# Given values\n",
    "investment_amount = 1000  # Initial investment amount\n",
    "annual_interest_rate = 3.25  # Annual interest rate in percentage\n",
    "number_of_years = 1  # Number of years\n",
    "\n",
    "monthly_interest_rate = ...\n",
    "    \n",
    "# Calculate future investment value\n",
    "future_investment_value = ...\n",
    "\n",
    "# Display the result\n",
    "print(f\"The future investment value is: ${future_investment_value:.2f}\")"
   ]
  },
  {
   "cell_type": "code",
   "execution_count": null,
   "id": "0e72b34e",
   "metadata": {
    "deletable": false,
    "editable": false
   },
   "outputs": [],
   "source": [
    "grader.check(\"q13\")"
   ]
  },
  {
   "cell_type": "markdown",
   "id": "7d79da39-86e1-4d7a-b5e7-2b67cc1f5ca7",
   "metadata": {
    "deletable": false,
    "editable": false
   },
   "source": [
    "### Question 14\n",
    "Write a python program to calculate the cost of trip. The trip covers a distance of 900.5 miles, and the fuel efficiency of the car in miles per gallon is 25.5, and the price per gallon is $3.55."
   ]
  },
  {
   "cell_type": "code",
   "execution_count": null,
   "id": "4324437c-3834-4bc8-9e0b-1817cf805396",
   "metadata": {
    "tags": []
   },
   "outputs": [],
   "source": [
    "# Given values\n",
    "distance = 900.5  # Distance of the trip in miles\n",
    "miles_per_gallon = 25.5  # Fuel efficiency in miles per gallon\n",
    "price_per_gallon = 3.55  # Price per gallon in dollars\n",
    "\n",
    "gallons_needed = ...\n",
    "\n",
    "# Calculate the total cost of the trip\n",
    "total_cost = ...\n",
    "\n",
    "# Display the result\n",
    "print(f\"The total cost of the trip is: ${total_cost:.2f}\")"
   ]
  },
  {
   "cell_type": "code",
   "execution_count": null,
   "id": "4e98a86d",
   "metadata": {
    "deletable": false,
    "editable": false
   },
   "outputs": [],
   "source": [
    "grader.check(\"q14\")"
   ]
  },
  {
   "cell_type": "markdown",
   "id": "1780e2f9-ba49-4223-872f-aaa5530c1400",
   "metadata": {
    "deletable": false,
    "editable": false
   },
   "source": [
    "### Question 15\n",
    "Write a program that reads any three-digit integer number between 100 and 9999 and adds all the digits in the integer. For example, if an integer is 932, the sum of all its digits is 14.  "
   ]
  },
  {
   "cell_type": "code",
   "execution_count": null,
   "id": "930b9747-b1a0-4be7-84e9-711bec03dbb9",
   "metadata": {
    "tags": []
   },
   "outputs": [],
   "source": [
    "number = int(input(\"Enter any number between 0 and 1000 in the blank, and hit enter\"))\n",
    "print(\"You have successfully entered the number {}, now proceed to the next cell\".format(number))"
   ]
  },
  {
   "cell_type": "code",
   "execution_count": null,
   "id": "37b56ddb-5054-486f-ba3c-6cd622e0179b",
   "metadata": {
    "tags": []
   },
   "outputs": [],
   "source": [
    "# Extract the first digit (hundreds place for a three-digit number)\n",
    "first_digit = ...\n",
    "\n",
    "# Get the remainder after extracting hundreds place\n",
    "remaining_digit = ...\n",
    "\n",
    "# Extract the second and third digits\n",
    "second_digit = ...\n",
    "third_digit = ...\n",
    "\n",
    "# Calculate the sum of digits\n",
    "sum_of_digits = ...\n",
    "\n",
    "# Display the result\n",
    "print(f\"The sum of the digits of {number} is: {sum_of_digits}\")"
   ]
  }
 ],
 "metadata": {
  "kernelspec": {
   "display_name": "Python 3 (ipykernel)",
   "language": "python",
   "name": "python3"
  },
  "language_info": {
   "codemirror_mode": {
    "name": "ipython",
    "version": 3
   },
   "file_extension": ".py",
   "mimetype": "text/x-python",
   "name": "python",
   "nbconvert_exporter": "python",
   "pygments_lexer": "ipython3",
   "version": "3.12.6"
  },
  "otter": {
   "OK_FORMAT": true,
   "tests": {
    "q1": {
     "name": "q1",
     "points": null,
     "suites": [
      {
       "cases": [
        {
         "code": ">>> your_ans == 1024\nTrue",
         "hidden": false,
         "locked": false
        }
       ],
       "scored": true,
       "setup": "",
       "teardown": "",
       "type": "doctest"
      }
     ]
    },
    "q10": {
     "name": "q10",
     "points": null,
     "suites": [
      {
       "cases": [
        {
         "code": ">>> math.isclose(bmi, 26.857, rel_tol=0.01) == True\nTrue",
         "hidden": false,
         "locked": false
        }
       ],
       "scored": true,
       "setup": "",
       "teardown": "",
       "type": "doctest"
      }
     ]
    },
    "q11": {
     "name": "q11",
     "points": null,
     "suites": [
      {
       "cases": [
        {
         "code": ">>> math.isclose(t_wc, -5.57, rel_tol=0.01)\nTrue",
         "hidden": false,
         "locked": false
        }
       ],
       "scored": true,
       "setup": "",
       "teardown": "",
       "type": "doctest"
      }
     ]
    },
    "q12": {
     "name": "q12",
     "points": null,
     "suites": [
      {
       "cases": [
        {
         "code": ">>> math.isclose(interest, 2.92, rel_tol=0.01)\nTrue",
         "hidden": false,
         "locked": false
        }
       ],
       "scored": true,
       "setup": "",
       "teardown": "",
       "type": "doctest"
      }
     ]
    },
    "q13": {
     "name": "q13",
     "points": null,
     "suites": [
      {
       "cases": [
        {
         "code": ">>> math.isclose(future_investment_value, 1033, rel_tol=10.0)\nTrue",
         "hidden": false,
         "locked": false
        }
       ],
       "scored": true,
       "setup": "",
       "teardown": "",
       "type": "doctest"
      }
     ]
    },
    "q14": {
     "name": "q14",
     "points": null,
     "suites": [
      {
       "cases": [
        {
         "code": ">>> math.isclose(total_cost, 125.36, rel_tol=0.01)\nTrue",
         "hidden": false,
         "locked": false
        }
       ],
       "scored": true,
       "setup": "",
       "teardown": "",
       "type": "doctest"
      }
     ]
    },
    "q3": {
     "name": "q3",
     "points": null,
     "suites": [
      {
       "cases": [
        {
         "code": ">>> your_ans == 8.4\nTrue",
         "hidden": false,
         "locked": false
        }
       ],
       "scored": true,
       "setup": "",
       "teardown": "",
       "type": "doctest"
      }
     ]
    },
    "q4": {
     "name": "q4",
     "points": null,
     "suites": [
      {
       "cases": [
        {
         "code": ">>> your_ans == 1.83\nTrue",
         "hidden": false,
         "locked": false
        }
       ],
       "scored": true,
       "setup": "",
       "teardown": "",
       "type": "doctest"
      }
     ]
    },
    "q5": {
     "name": "q5",
     "points": null,
     "suites": [
      {
       "cases": [
        {
         "code": ">>> your_ans == 22.7\nTrue",
         "hidden": false,
         "locked": false
        }
       ],
       "scored": true,
       "setup": "",
       "teardown": "",
       "type": "doctest"
      }
     ]
    },
    "q6": {
     "name": "q6",
     "points": null,
     "suites": [
      {
       "cases": [
        {
         "code": ">>> math.isclose(mark_income, 96800, rel_tol=1e-09) == True\nTrue",
         "hidden": false,
         "locked": false
        }
       ],
       "scored": true,
       "setup": "",
       "teardown": "",
       "type": "doctest"
      }
     ]
    },
    "q7": {
     "name": "q7",
     "points": null,
     "suites": [
      {
       "cases": [
        {
         "code": ">>> years == 1902 and remaining_days == 214\nTrue",
         "hidden": false,
         "locked": false
        }
       ],
       "scored": true,
       "setup": "",
       "teardown": "",
       "type": "doctest"
      }
     ]
    },
    "q8": {
     "name": "q8",
     "points": null,
     "suites": [
      {
       "cases": [
        {
         "code": ">>> new_population == 325932970\nTrue",
         "hidden": false,
         "locked": false
        }
       ],
       "scored": true,
       "setup": "",
       "teardown": "",
       "type": "doctest"
      }
     ]
    },
    "q9": {
     "name": "q9",
     "points": null,
     "suites": [
      {
       "cases": [
        {
         "code": ">>> math.isclose(sixth_month, 608.82, rel_tol=0.01) == True\nTrue",
         "hidden": false,
         "locked": false
        }
       ],
       "scored": true,
       "setup": "",
       "teardown": "",
       "type": "doctest"
      }
     ]
    }
   }
  }
 },
 "nbformat": 4,
 "nbformat_minor": 5
}
