{
 "cells": [
  {
   "cell_type": "markdown",
   "id": "2afe8849-1841-4065-938a-c72023a58241",
   "metadata": {},
   "source": [
    "# Comments in Python\n",
    "\n",
    "To help you remember the purpose of your code (whether you're revisiting it after some time or someone else is reading it), Python allows you to add comments. These comments are ignored by the Python interpreter and serve solely to improve code readability.\n",
    "\n",
    "There are two types of comments in Python:\n",
    "\n",
    "1. Line comments: These begin with a `#` symbol and apply to a single line.\n",
    "2. Multiline comments: These start and end with `\"\"\"`, allowing you to span comments across multiple lines.\n",
    "\n",
    "Adding comments to your code is a good practice for readability and maintainability. However, if the code is simple and easy to understand, avoid over-commenting."
   ]
  },
  {
   "cell_type": "code",
   "execution_count": 6,
   "id": "f600f616-a2cf-4d70-a262-51310a182b9b",
   "metadata": {},
   "outputs": [
    {
     "data": {
      "text/plain": [
       "3.29"
      ]
     },
     "execution_count": 6,
     "metadata": {},
     "output_type": "execute_result"
    }
   ],
   "source": [
    "# eg of line comments\n",
    "\n",
    "abs(3.29) # returns the absolute value"
   ]
  },
  {
   "cell_type": "code",
   "execution_count": 7,
   "id": "679e6132-e50c-438a-bcf5-635cafd9c77c",
   "metadata": {},
   "outputs": [],
   "source": [
    "\"\"\"\n",
    "This functions doubles any number\n",
    "- x: int/float, a number\n",
    "- returns: int/float, the double of x\n",
    "\"\"\"\n",
    "def double(x):\n",
    "    return 2 * x"
   ]
  },
  {
   "cell_type": "markdown",
   "id": "50a8a31b-cf7b-4d02-8f49-1b667c9cf1cd",
   "metadata": {},
   "source": [
    "Comments can also be used to prevent execution of a piece of code while testing. For eg:"
   ]
  },
  {
   "cell_type": "code",
   "execution_count": 13,
   "id": "c63716d6-3a7b-4c2b-900d-f74e4fc5f955",
   "metadata": {},
   "outputs": [
    {
     "name": "stdout",
     "output_type": "stream",
     "text": [
      "Hello World\n"
     ]
    }
   ],
   "source": [
    "#print(\"Hello\")\n",
    "#print(\"World\")\n",
    "print(\"Hello World\") # uncomment the above lines to activate that line of code. "
   ]
  },
  {
   "cell_type": "markdown",
   "id": "e1585e43-b462-4278-8c34-9910b8c07966",
   "metadata": {},
   "source": [
    "Side note: Technically, Python doesn't have true multiline comments. To simulate them, we use multiline strings (enclosed in \"\"\"). Since these strings aren't assigned to a variable, Python ignores them during execution, effectively making them behave like comments."
   ]
  },
  {
   "cell_type": "markdown",
   "id": "6bf9ae02-3a7f-4103-9e42-63f3f797176d",
   "metadata": {},
   "source": [
    "# Errors in Python\n",
    "\n",
    "#### 1. Syntax Error\n",
    "\n",
    "This error occurs when we violate the rules of the Python language.\n",
    "\n",
    "**How to fix:** \n",
    "\n",
    "To resolve a syntax error, you should review the error message. The Python interpreter assists by indicating the specific cell or line where the error occurs, along with the type of error or its cause. \n",
    "\n",
    "For example, in the case below, the error is located in cell 14, line 1, and is caused by an unterminated string literal, meaning the closing double quotes are missing from the string `Dipak Singh`."
   ]
  },
  {
   "cell_type": "code",
   "execution_count": 14,
   "id": "42a3a771-7ef7-485c-b47c-7366fcd328c0",
   "metadata": {},
   "outputs": [
    {
     "ename": "SyntaxError",
     "evalue": "unterminated string literal (detected at line 1) (3205090807.py, line 1)",
     "output_type": "error",
     "traceback": [
      "\u001b[0;36m  Cell \u001b[0;32mIn[14], line 1\u001b[0;36m\u001b[0m\n\u001b[0;31m    name = \"Dipak Singh\u001b[0m\n\u001b[0m           ^\u001b[0m\n\u001b[0;31mSyntaxError\u001b[0m\u001b[0;31m:\u001b[0m unterminated string literal (detected at line 1)\n"
     ]
    }
   ],
   "source": [
    "name = \"Dipak Singh"
   ]
  },
  {
   "cell_type": "code",
   "execution_count": 15,
   "id": "1930d2cd-97a3-4bad-9884-4b8403957d5e",
   "metadata": {},
   "outputs": [
    {
     "ename": "SyntaxError",
     "evalue": "incomplete input (4004729427.py, line 1)",
     "output_type": "error",
     "traceback": [
      "\u001b[0;36m  Cell \u001b[0;32mIn[15], line 1\u001b[0;36m\u001b[0m\n\u001b[0;31m    x = 10 ( 2\u001b[0m\n\u001b[0m              ^\u001b[0m\n\u001b[0;31mSyntaxError\u001b[0m\u001b[0;31m:\u001b[0m incomplete input\n"
     ]
    }
   ],
   "source": [
    "x = 10 ( 2"
   ]
  },
  {
   "cell_type": "markdown",
   "id": "05f961e4-0b8f-4a29-80cf-88f4a5e6c56e",
   "metadata": {},
   "source": [
    "### 2. Runtime Error \n",
    "A Runtime Error occurs while the program is running. These errors don't appear when the code is being written but arise when the program encounters invalid operations during execution.\n",
    "\n",
    "**How to fix:** \n",
    "\n",
    "To resolve a runtime error, we follow the similar strategy as the syntax error. However, often runtime error needs validation check or exception handling to ensure the program doesn't crash unexpectedly. (These are beyond the scope of this class)."
   ]
  },
  {
   "cell_type": "code",
   "execution_count": 21,
   "id": "cd21cb65-e3f1-4715-8d14-588bf34224ee",
   "metadata": {},
   "outputs": [
    {
     "ename": "ZeroDivisionError",
     "evalue": "division by zero",
     "output_type": "error",
     "traceback": [
      "\u001b[0;31m---------------------------------------------------------------------------\u001b[0m",
      "\u001b[0;31mZeroDivisionError\u001b[0m                         Traceback (most recent call last)",
      "Cell \u001b[0;32mIn[21], line 1\u001b[0m\n\u001b[0;32m----> 1\u001b[0m x \u001b[38;5;241m=\u001b[39m \u001b[38;5;241;43m5\u001b[39;49m\u001b[43m \u001b[49m\u001b[38;5;241;43m/\u001b[39;49m\u001b[43m \u001b[49m\u001b[38;5;241;43m0\u001b[39;49m\n",
      "\u001b[0;31mZeroDivisionError\u001b[0m: division by zero"
     ]
    }
   ],
   "source": [
    "x = 5 / 0"
   ]
  },
  {
   "cell_type": "code",
   "execution_count": 22,
   "id": "dd0b5f7e-63a3-4bfa-b82f-9a5b8e4dff98",
   "metadata": {},
   "outputs": [
    {
     "ename": "TypeError",
     "evalue": "unsupported operand type(s) for ** or pow(): 'str' and 'int'",
     "output_type": "error",
     "traceback": [
      "\u001b[0;31m---------------------------------------------------------------------------\u001b[0m",
      "\u001b[0;31mTypeError\u001b[0m                                 Traceback (most recent call last)",
      "Cell \u001b[0;32mIn[22], line 4\u001b[0m\n\u001b[1;32m      1\u001b[0m \u001b[38;5;28;01mdef\u001b[39;00m\u001b[38;5;250m \u001b[39m\u001b[38;5;21mfindSquare\u001b[39m(x):\n\u001b[1;32m      2\u001b[0m     \u001b[38;5;28;01mreturn\u001b[39;00m x \u001b[38;5;241m*\u001b[39m\u001b[38;5;241m*\u001b[39m \u001b[38;5;241m2\u001b[39m\n\u001b[0;32m----> 4\u001b[0m \u001b[43mfindSquare\u001b[49m\u001b[43m(\u001b[49m\u001b[38;5;124;43m\"\u001b[39;49m\u001b[38;5;124;43mhello\u001b[39;49m\u001b[38;5;124;43m\"\u001b[39;49m\u001b[43m)\u001b[49m\n",
      "Cell \u001b[0;32mIn[22], line 2\u001b[0m, in \u001b[0;36mfindSquare\u001b[0;34m(x)\u001b[0m\n\u001b[1;32m      1\u001b[0m \u001b[38;5;28;01mdef\u001b[39;00m\u001b[38;5;250m \u001b[39m\u001b[38;5;21mfindSquare\u001b[39m(x):\n\u001b[0;32m----> 2\u001b[0m     \u001b[38;5;28;01mreturn\u001b[39;00m \u001b[43mx\u001b[49m\u001b[43m \u001b[49m\u001b[38;5;241;43m*\u001b[39;49m\u001b[38;5;241;43m*\u001b[39;49m\u001b[43m \u001b[49m\u001b[38;5;241;43m2\u001b[39;49m\n",
      "\u001b[0;31mTypeError\u001b[0m: unsupported operand type(s) for ** or pow(): 'str' and 'int'"
     ]
    }
   ],
   "source": [
    "def findSquare(x):\n",
    "    return x ** 2\n",
    "\n",
    "findSquare(\"hello\")"
   ]
  },
  {
   "cell_type": "code",
   "execution_count": 23,
   "id": "697aa1c6-8ef0-4060-850c-7db9f56c1dcd",
   "metadata": {},
   "outputs": [
    {
     "ename": "IndexError",
     "evalue": "list index out of range",
     "output_type": "error",
     "traceback": [
      "\u001b[0;31m---------------------------------------------------------------------------\u001b[0m",
      "\u001b[0;31mIndexError\u001b[0m                                Traceback (most recent call last)",
      "Cell \u001b[0;32mIn[23], line 2\u001b[0m\n\u001b[1;32m      1\u001b[0m my_list \u001b[38;5;241m=\u001b[39m [\u001b[38;5;241m10\u001b[39m, \u001b[38;5;241m20\u001b[39m, \u001b[38;5;241m30\u001b[39m]\n\u001b[0;32m----> 2\u001b[0m \u001b[43mmy_list\u001b[49m\u001b[43m[\u001b[49m\u001b[38;5;241;43m5\u001b[39;49m\u001b[43m]\u001b[49m\n",
      "\u001b[0;31mIndexError\u001b[0m: list index out of range"
     ]
    }
   ],
   "source": [
    "my_list = [10, 20, 30]\n",
    "my_list[5]"
   ]
  },
  {
   "cell_type": "markdown",
   "id": "c13f62bb-2a0c-4e3f-8b47-31c0fbd01ae1",
   "metadata": {},
   "source": [
    "### 3. Logical Error\n",
    "\n",
    "A Logical Error occurs when the program runs without crashing, but the results are not as expected. These errors don't throw any exceptions but instead result in incorrect behavior because the logic of the code is flawed.\n",
    "\n"
   ]
  },
  {
   "cell_type": "code",
   "execution_count": 29,
   "id": "3ce6278d-3783-4a42-b5ac-eb8f9c2f1742",
   "metadata": {},
   "outputs": [
    {
     "name": "stdout",
     "output_type": "stream",
     "text": [
      "125\n"
     ]
    }
   ],
   "source": [
    "side_of_square = 5\n",
    "area_of_square = side_of_square ** 3 # incorrect formula to find area of a square, it should be side * side or side ** 2\n",
    "print(area_of_square) # the answer should be 25 LOGICAL ERROR IN THE CODE"
   ]
  }
 ],
 "metadata": {
  "kernelspec": {
   "display_name": "Python 3 (ipykernel)",
   "language": "python",
   "name": "python3"
  },
  "language_info": {
   "codemirror_mode": {
    "name": "ipython",
    "version": 3
   },
   "file_extension": ".py",
   "mimetype": "text/x-python",
   "name": "python",
   "nbconvert_exporter": "python",
   "pygments_lexer": "ipython3",
   "version": "3.12.6"
  }
 },
 "nbformat": 4,
 "nbformat_minor": 5
}
