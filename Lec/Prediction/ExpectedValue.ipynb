{
 "cells": [
  {
   "cell_type": "code",
   "execution_count": 1,
   "id": "f7af1799-efa6-491e-87f2-d5f60dd8f8dc",
   "metadata": {},
   "outputs": [],
   "source": [
    "import numpy as np"
   ]
  },
  {
   "cell_type": "code",
   "execution_count": 2,
   "id": "42309a5f-0977-4a49-b6f0-bd8d2cf3f85e",
   "metadata": {},
   "outputs": [],
   "source": [
    "sample = ['H', 'T']"
   ]
  },
  {
   "cell_type": "code",
   "execution_count": 3,
   "id": "5f869fea-8739-4f0d-b804-06b86f0cf0fd",
   "metadata": {},
   "outputs": [],
   "source": [
    "n = 10 # number of coin tosses (bernoulli expt)\n",
    "p = 0.7 # P(H) "
   ]
  },
  {
   "cell_type": "code",
   "execution_count": 71,
   "id": "b7e27645-2b09-48ee-985b-5e06071b4c4a",
   "metadata": {},
   "outputs": [],
   "source": [
    "def one_expt():\n",
    "    outcomes = np.random.choice(sample, n, p=[0.7, 0.3])\n",
    "    count_heads = np.sum(outcomes == 'H')\n",
    "    return count_heads"
   ]
  },
  {
   "cell_type": "code",
   "execution_count": 72,
   "id": "f648b67e-f4e6-4356-9e34-276dcff8778f",
   "metadata": {},
   "outputs": [
    {
     "data": {
      "text/plain": [
       "np.int64(9)"
      ]
     },
     "execution_count": 72,
     "metadata": {},
     "output_type": "execute_result"
    }
   ],
   "source": [
    "one_expt()"
   ]
  },
  {
   "cell_type": "code",
   "execution_count": 73,
   "id": "ac342588-3993-4e1a-90c8-c4da31193907",
   "metadata": {},
   "outputs": [],
   "source": [
    "repetitions = 20000\n",
    "total_outcomes = []\n",
    "\n",
    "for x in np.arange(repetitions):\n",
    "    count_heads = one_expt()\n",
    "    total_outcomes.append(count_heads)\n",
    "\n",
    "total_outcomes = np.array(total_outcomes)"
   ]
  },
  {
   "cell_type": "code",
   "execution_count": 74,
   "id": "d0ce2aa2-c791-4d10-81f2-6d3850308928",
   "metadata": {},
   "outputs": [
    {
     "data": {
      "text/plain": [
       "np.float64(6.996)"
      ]
     },
     "execution_count": 74,
     "metadata": {},
     "output_type": "execute_result"
    }
   ],
   "source": [
    "np.mean(total_outcomes)"
   ]
  },
  {
   "cell_type": "code",
   "execution_count": null,
   "id": "bbf11da1-7e38-42dd-ac88-1b2e40ed9892",
   "metadata": {},
   "outputs": [],
   "source": []
  }
 ],
 "metadata": {
  "kernelspec": {
   "display_name": "Python 3 (ipykernel)",
   "language": "python",
   "name": "python3"
  },
  "language_info": {
   "codemirror_mode": {
    "name": "ipython",
    "version": 3
   },
   "file_extension": ".py",
   "mimetype": "text/x-python",
   "name": "python",
   "nbconvert_exporter": "python",
   "pygments_lexer": "ipython3",
   "version": "3.12.6"
  }
 },
 "nbformat": 4,
 "nbformat_minor": 5
}
