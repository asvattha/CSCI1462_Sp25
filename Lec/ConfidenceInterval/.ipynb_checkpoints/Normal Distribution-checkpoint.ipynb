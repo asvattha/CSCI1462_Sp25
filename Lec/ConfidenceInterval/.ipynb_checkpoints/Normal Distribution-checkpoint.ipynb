{
 "cells": [
  {
   "cell_type": "markdown",
   "id": "62c643d5-9101-49ce-867b-2b0bad867db7",
   "metadata": {},
   "source": [
    "# Normal Distribution"
   ]
  },
  {
   "cell_type": "markdown",
   "id": "98e70560-88ff-4a8b-94d0-4a1068355567",
   "metadata": {},
   "source": [
    "### Mean"
   ]
  },
  {
   "cell_type": "markdown",
   "id": "e222d694-d0ac-4bd1-a42c-c2a38444e699",
   "metadata": {},
   "source": [
    "1. Does mean always have to be one of the element in your dataset? False\n",
    "2. If given dataset of integers, does mean will also be an integer? False\n",
    "3. Mean always lie between the minimum and the maximum value of your datapoints? True\n",
    "4. Mean always lie between the midpoint of the min and max values? False\n",
    "5. Mean always have the same unit as the unit of the datapoints? True"
   ]
  },
  {
   "cell_type": "code",
   "execution_count": 5,
   "id": "ed057be8-2171-4c44-80a8-82bfc228e975",
   "metadata": {},
   "outputs": [],
   "source": [
    "import numpy as np"
   ]
  },
  {
   "cell_type": "code",
   "execution_count": 6,
   "id": "5c7853aa-c641-4699-adec-dbd02c76b2d4",
   "metadata": {},
   "outputs": [
    {
     "data": {
      "text/plain": [
       "array([2, 3, 3, 9])"
      ]
     },
     "execution_count": 6,
     "metadata": {},
     "output_type": "execute_result"
    }
   ],
   "source": [
    "arr = np.array([2, 3, 3, 9])\n",
    "arr"
   ]
  },
  {
   "cell_type": "code",
   "execution_count": 7,
   "id": "70f8aa88-ddb3-4adc-8b1f-41325b4e97f2",
   "metadata": {},
   "outputs": [
    {
     "data": {
      "text/plain": [
       "np.float64(4.25)"
      ]
     },
     "execution_count": 7,
     "metadata": {},
     "output_type": "execute_result"
    }
   ],
   "source": [
    "mean = np.sum(arr) / len(arr)\n",
    "mean"
   ]
  },
  {
   "cell_type": "markdown",
   "id": "e3129e5d-ba05-453c-815b-ce2b5d724c9f",
   "metadata": {},
   "source": [
    "## Variance"
   ]
  },
  {
   "cell_type": "code",
   "execution_count": 8,
   "id": "ff74073c-f467-45ac-9833-9e7f2971815c",
   "metadata": {},
   "outputs": [],
   "source": [
    "variance = np.sum((arr - mean) ** 2) / len(arr)"
   ]
  },
  {
   "cell_type": "code",
   "execution_count": 9,
   "id": "e31d161e-4329-4aaf-8506-a5e282594eb9",
   "metadata": {},
   "outputs": [
    {
     "data": {
      "text/plain": [
       "np.float64(2.7726341266023544)"
      ]
     },
     "execution_count": 9,
     "metadata": {},
     "output_type": "execute_result"
    }
   ],
   "source": [
    "std_dev = np.sqrt(variance)\n",
    "std_dev"
   ]
  },
  {
   "cell_type": "code",
   "execution_count": 10,
   "id": "5e5ca454-6d97-4cfd-8016-0a02426e7852",
   "metadata": {},
   "outputs": [
    {
     "data": {
      "text/plain": [
       "np.float64(2.7726341266023544)"
      ]
     },
     "execution_count": 10,
     "metadata": {},
     "output_type": "execute_result"
    }
   ],
   "source": [
    "np.std(arr)"
   ]
  },
  {
   "cell_type": "code",
   "execution_count": 11,
   "id": "99c7d0c3-cce9-4f7c-b846-ad17851fc1cf",
   "metadata": {},
   "outputs": [],
   "source": [
    "import pandas as pd\n",
    "import numpy as np"
   ]
  },
  {
   "cell_type": "code",
   "execution_count": 12,
   "id": "b49c3880-c814-472f-8848-6e7862cb2060",
   "metadata": {},
   "outputs": [
    {
     "data": {
      "text/html": [
       "<div>\n",
       "<style scoped>\n",
       "    .dataframe tbody tr th:only-of-type {\n",
       "        vertical-align: middle;\n",
       "    }\n",
       "\n",
       "    .dataframe tbody tr th {\n",
       "        vertical-align: top;\n",
       "    }\n",
       "\n",
       "    .dataframe thead th {\n",
       "        text-align: right;\n",
       "    }\n",
       "</style>\n",
       "<table border=\"1\" class=\"dataframe\">\n",
       "  <thead>\n",
       "    <tr style=\"text-align: right;\">\n",
       "      <th></th>\n",
       "      <th>Name</th>\n",
       "      <th>Position</th>\n",
       "      <th>Height</th>\n",
       "      <th>Weight</th>\n",
       "      <th>Age in 2013</th>\n",
       "    </tr>\n",
       "  </thead>\n",
       "  <tbody>\n",
       "    <tr>\n",
       "      <th>0</th>\n",
       "      <td>DeQuan Jones</td>\n",
       "      <td>Guard</td>\n",
       "      <td>80</td>\n",
       "      <td>221</td>\n",
       "      <td>23</td>\n",
       "    </tr>\n",
       "    <tr>\n",
       "      <th>1</th>\n",
       "      <td>Darius Miller</td>\n",
       "      <td>Guard</td>\n",
       "      <td>80</td>\n",
       "      <td>235</td>\n",
       "      <td>23</td>\n",
       "    </tr>\n",
       "    <tr>\n",
       "      <th>2</th>\n",
       "      <td>Trevor Ariza</td>\n",
       "      <td>Guard</td>\n",
       "      <td>80</td>\n",
       "      <td>210</td>\n",
       "      <td>28</td>\n",
       "    </tr>\n",
       "    <tr>\n",
       "      <th>3</th>\n",
       "      <td>James Jones</td>\n",
       "      <td>Guard</td>\n",
       "      <td>80</td>\n",
       "      <td>215</td>\n",
       "      <td>32</td>\n",
       "    </tr>\n",
       "    <tr>\n",
       "      <th>4</th>\n",
       "      <td>Wesley Johnson</td>\n",
       "      <td>Guard</td>\n",
       "      <td>79</td>\n",
       "      <td>215</td>\n",
       "      <td>26</td>\n",
       "    </tr>\n",
       "  </tbody>\n",
       "</table>\n",
       "</div>"
      ],
      "text/plain": [
       "             Name Position  Height  Weight  Age in 2013\n",
       "0    DeQuan Jones    Guard      80     221           23\n",
       "1   Darius Miller    Guard      80     235           23\n",
       "2    Trevor Ariza    Guard      80     210           28\n",
       "3     James Jones    Guard      80     215           32\n",
       "4  Wesley Johnson    Guard      79     215           26"
      ]
     },
     "execution_count": 12,
     "metadata": {},
     "output_type": "execute_result"
    }
   ],
   "source": [
    "nba = pd.read_csv('data/nba.csv')\n",
    "nba.head()"
   ]
  },
  {
   "cell_type": "code",
   "execution_count": 13,
   "id": "163cbe20-657e-4eab-85e8-a92ef0e00bd1",
   "metadata": {},
   "outputs": [
    {
     "data": {
      "text/plain": [
       "np.float64(3.4505971830275546)"
      ]
     },
     "execution_count": 13,
     "metadata": {},
     "output_type": "execute_result"
    }
   ],
   "source": [
    "np.std(nba['Height'])"
   ]
  },
  {
   "cell_type": "code",
   "execution_count": 18,
   "id": "e8006907-f3c4-474a-8f3b-a578888dff53",
   "metadata": {},
   "outputs": [
    {
     "data": {
      "text/plain": [
       "np.int64(69)"
      ]
     },
     "execution_count": 18,
     "metadata": {},
     "output_type": "execute_result"
    }
   ],
   "source": [
    "sorted_player = nba.sort_values('Height', axis=0, ascending=True)\n",
    "shortest_player = sorted_player.iloc[0].loc['Height']\n",
    "shortest_player"
   ]
  },
  {
   "cell_type": "code",
   "execution_count": 19,
   "id": "208d7dad-3bd8-402e-b740-c0a4638dc694",
   "metadata": {},
   "outputs": [
    {
     "data": {
      "text/plain": [
       "np.float64(-2.9169868288775844)"
      ]
     },
     "execution_count": 19,
     "metadata": {},
     "output_type": "execute_result"
    }
   ],
   "source": [
    "(shortest_player - np.mean(nba['Height'])) / np.std(nba['Height'])"
   ]
  },
  {
   "cell_type": "code",
   "execution_count": 20,
   "id": "aa6c2252-60d9-48f8-98f8-16b78aada629",
   "metadata": {},
   "outputs": [
    {
     "data": {
      "text/plain": [
       "np.int64(87)"
      ]
     },
     "execution_count": 20,
     "metadata": {},
     "output_type": "execute_result"
    }
   ],
   "source": [
    "tallest_player = sorted_player.iloc[-1].loc['Height']\n",
    "tallest_player"
   ]
  },
  {
   "cell_type": "code",
   "execution_count": 21,
   "id": "a867ce60-0773-4b75-9dc4-20c1996b5218",
   "metadata": {},
   "outputs": [
    {
     "data": {
      "text/plain": [
       "np.float64(2.2995015194397923)"
      ]
     },
     "execution_count": 21,
     "metadata": {},
     "output_type": "execute_result"
    }
   ],
   "source": [
    "(tallest_player - np.mean(nba['Height'])) / np.std(nba['Height'])"
   ]
  },
  {
   "cell_type": "code",
   "execution_count": 22,
   "id": "8195f997-a5b4-4972-8b98-5776f75845ed",
   "metadata": {},
   "outputs": [
    {
     "data": {
      "text/plain": [
       "np.float64(79.06534653465347)"
      ]
     },
     "execution_count": 22,
     "metadata": {},
     "output_type": "execute_result"
    }
   ],
   "source": [
    "average = np.mean(nba['Height'])\n",
    "average"
   ]
  },
  {
   "cell_type": "code",
   "execution_count": 23,
   "id": "4dc009d3-5a9d-4fd4-b767-369839472ecb",
   "metadata": {},
   "outputs": [
    {
     "data": {
      "text/plain": [
       "np.float64(3.4505971830275546)"
      ]
     },
     "execution_count": 23,
     "metadata": {},
     "output_type": "execute_result"
    }
   ],
   "source": [
    "std_dev = np.std(nba['Height'])\n",
    "std_dev"
   ]
  },
  {
   "cell_type": "code",
   "execution_count": 24,
   "id": "2ea30d5c-d905-426c-9546-26e08e90893a",
   "metadata": {},
   "outputs": [],
   "source": [
    "z = 2"
   ]
  },
  {
   "cell_type": "code",
   "execution_count": 25,
   "id": "c905d138-0d67-4282-b3cd-723e967d5d06",
   "metadata": {},
   "outputs": [],
   "source": [
    "left = average - z*std_dev\n",
    "right = average + z*std_dev"
   ]
  },
  {
   "cell_type": "code",
   "execution_count": 26,
   "id": "a5860411-aa2a-47c7-b4c6-fd692a7dd91f",
   "metadata": {},
   "outputs": [
    {
     "data": {
      "text/plain": [
       "(np.float64(72.16415216859836), np.float64(85.96654090070858))"
      ]
     },
     "execution_count": 26,
     "metadata": {},
     "output_type": "execute_result"
    }
   ],
   "source": [
    "left, right"
   ]
  },
  {
   "cell_type": "code",
   "execution_count": 32,
   "id": "654007e9-4fb1-4594-a1b4-376ba0ac00ec",
   "metadata": {},
   "outputs": [],
   "source": [
    "mask1 = nba['Height'] > left\n",
    "mask2 = nba['Height'] < right"
   ]
  },
  {
   "cell_type": "code",
   "execution_count": 35,
   "id": "4616da5f-eb69-43c9-8c88-ea8722d06ba4",
   "metadata": {},
   "outputs": [
    {
     "data": {
      "text/plain": [
       "np.float64(0.9584158415841584)"
      ]
     },
     "execution_count": 35,
     "metadata": {},
     "output_type": "execute_result"
    }
   ],
   "source": [
    "np.sum(np.logical_and(mask1, mask2)) / len(nba)"
   ]
  },
  {
   "cell_type": "code",
   "execution_count": null,
   "id": "796b46ff-4cd6-46d3-a3f8-f65c05015c38",
   "metadata": {},
   "outputs": [],
   "source": []
  },
  {
   "cell_type": "code",
   "execution_count": 37,
   "id": "9c8c0f77-affc-4752-a3b8-ccc579e25be4",
   "metadata": {},
   "outputs": [],
   "source": [
    "from scipy import stats"
   ]
  },
  {
   "cell_type": "code",
   "execution_count": 38,
   "id": "d0a21678-6355-40ec-b842-f6188f62c660",
   "metadata": {},
   "outputs": [
    {
     "data": {
      "text/plain": [
       "np.float64(0.6826894921370859)"
      ]
     },
     "execution_count": 38,
     "metadata": {},
     "output_type": "execute_result"
    }
   ],
   "source": [
    "stats.norm.cdf(1) - stats.norm.cdf(-1)"
   ]
  },
  {
   "cell_type": "code",
   "execution_count": 39,
   "id": "0dd50e9e-e608-4af1-8378-b2c8e7ec7abd",
   "metadata": {},
   "outputs": [
    {
     "data": {
      "text/plain": [
       "np.float64(0.9544997361036416)"
      ]
     },
     "execution_count": 39,
     "metadata": {},
     "output_type": "execute_result"
    }
   ],
   "source": [
    "stats.norm.cdf(2) - stats.norm.cdf(-2)"
   ]
  },
  {
   "cell_type": "code",
   "execution_count": 40,
   "id": "4899168b-b86d-463e-a3b2-96557b5eb2fe",
   "metadata": {},
   "outputs": [
    {
     "data": {
      "text/plain": [
       "np.float64(0.9973002039367398)"
      ]
     },
     "execution_count": 40,
     "metadata": {},
     "output_type": "execute_result"
    }
   ],
   "source": [
    "stats.norm.cdf(3) - stats.norm.cdf(-3)"
   ]
  },
  {
   "cell_type": "code",
   "execution_count": 41,
   "id": "ea7d85db-955d-4b70-b786-19667f903380",
   "metadata": {},
   "outputs": [
    {
     "data": {
      "text/html": [
       "<div>\n",
       "<style scoped>\n",
       "    .dataframe tbody tr th:only-of-type {\n",
       "        vertical-align: middle;\n",
       "    }\n",
       "\n",
       "    .dataframe tbody tr th {\n",
       "        vertical-align: top;\n",
       "    }\n",
       "\n",
       "    .dataframe thead th {\n",
       "        text-align: right;\n",
       "    }\n",
       "</style>\n",
       "<table border=\"1\" class=\"dataframe\">\n",
       "  <thead>\n",
       "    <tr style=\"text-align: right;\">\n",
       "      <th></th>\n",
       "      <th>Date</th>\n",
       "      <th>Flight Number</th>\n",
       "      <th>Destination</th>\n",
       "      <th>Delay</th>\n",
       "    </tr>\n",
       "  </thead>\n",
       "  <tbody>\n",
       "    <tr>\n",
       "      <th>0</th>\n",
       "      <td>6/1/15</td>\n",
       "      <td>73</td>\n",
       "      <td>HNL</td>\n",
       "      <td>257</td>\n",
       "    </tr>\n",
       "    <tr>\n",
       "      <th>1</th>\n",
       "      <td>6/1/15</td>\n",
       "      <td>217</td>\n",
       "      <td>EWR</td>\n",
       "      <td>28</td>\n",
       "    </tr>\n",
       "    <tr>\n",
       "      <th>2</th>\n",
       "      <td>6/1/15</td>\n",
       "      <td>237</td>\n",
       "      <td>STL</td>\n",
       "      <td>-3</td>\n",
       "    </tr>\n",
       "    <tr>\n",
       "      <th>3</th>\n",
       "      <td>6/1/15</td>\n",
       "      <td>250</td>\n",
       "      <td>SAN</td>\n",
       "      <td>0</td>\n",
       "    </tr>\n",
       "    <tr>\n",
       "      <th>4</th>\n",
       "      <td>6/1/15</td>\n",
       "      <td>267</td>\n",
       "      <td>PHL</td>\n",
       "      <td>64</td>\n",
       "    </tr>\n",
       "  </tbody>\n",
       "</table>\n",
       "</div>"
      ],
      "text/plain": [
       "     Date  Flight Number Destination  Delay\n",
       "0  6/1/15             73         HNL    257\n",
       "1  6/1/15            217         EWR     28\n",
       "2  6/1/15            237         STL     -3\n",
       "3  6/1/15            250         SAN      0\n",
       "4  6/1/15            267         PHL     64"
      ]
     },
     "execution_count": 41,
     "metadata": {},
     "output_type": "execute_result"
    }
   ],
   "source": [
    "united = pd.read_csv('data/united.csv')\n",
    "united.head()"
   ]
  },
  {
   "cell_type": "code",
   "execution_count": 43,
   "id": "4f0fc20a-30b8-423f-bcfb-c53096d42f24",
   "metadata": {},
   "outputs": [],
   "source": [
    "import matplotlib.pyplot as plt"
   ]
  },
  {
   "cell_type": "code",
   "execution_count": 46,
   "id": "b06c6399-1a6c-42c7-803c-281796499618",
   "metadata": {},
   "outputs": [
    {
     "data": {
      "image/png": "[encoded data removed]",
      "text/plain": [
       "<Figure size 640x480 with 1 Axes>"
      ]
     },
     "metadata": {},
     "output_type": "display_data"
    }
   ],
   "source": [
    "plt.hist(united['Delay'], bins = np.arange(-20, 300, 10), density=True)\n",
    "plt.grid()\n",
    "plt.show()"
   ]
  },
  {
   "cell_type": "code",
   "execution_count": 48,
   "id": "bfcb33fa-cec8-47f9-bf54-a916b4acaacb",
   "metadata": {},
   "outputs": [
    {
     "data": {
      "text/plain": [
       "np.float64(15.5025)"
      ]
     },
     "execution_count": 48,
     "metadata": {},
     "output_type": "execute_result"
    }
   ],
   "source": [
    "sample = united.sample(400)\n",
    "np.mean(sample['Delay'])"
   ]
  },
  {
   "cell_type": "code",
   "execution_count": 49,
   "id": "0a8101c2-3672-4060-8dbc-354fe181eb97",
   "metadata": {},
   "outputs": [],
   "source": [
    "repetitions = 20000\n",
    "total_outcomes = []\n",
    "\n",
    "for x in np.arange(repetitions):\n",
    "    sample = united.sample(400)\n",
    "    average = np.mean(sample['Delay'])\n",
    "    total_outcomes.append(average)"
   ]
  },
  {
   "cell_type": "code",
   "execution_count": 50,
   "id": "5068a22c-d8b3-4807-bb88-15d54a6315c4",
   "metadata": {},
   "outputs": [],
   "source": [
    "total_outcomes = np.array(total_outcomes)"
   ]
  },
  {
   "cell_type": "code",
   "execution_count": 51,
   "id": "e5bcf54b-3a90-49c9-9a10-00baadbd3bcb",
   "metadata": {},
   "outputs": [
    {
     "data": {
      "image/png": "[encoded data removed]",
      "text/plain": [
       "<Figure size 640x480 with 1 Axes>"
      ]
     },
     "metadata": {},
     "output_type": "display_data"
    }
   ],
   "source": [
    "plt.hist(total_outcomes, density=True)\n",
    "plt.show()"
   ]
  },
  {
   "cell_type": "code",
   "execution_count": null,
   "id": "a1388475-8008-47ef-91e1-db5c449347c8",
   "metadata": {},
   "outputs": [],
   "source": []
  }
 ],
 "metadata": {
  "kernelspec": {
   "display_name": "Python 3 (ipykernel)",
   "language": "python",
   "name": "python3"
  },
  "language_info": {
   "codemirror_mode": {
    "name": "ipython",
    "version": 3
   },
   "file_extension": ".py",
   "mimetype": "text/x-python",
   "name": "python",
   "nbconvert_exporter": "python",
   "pygments_lexer": "ipython3",
   "version": "3.12.6"
  }
 },
 "nbformat": 4,
 "nbformat_minor": 5
}
