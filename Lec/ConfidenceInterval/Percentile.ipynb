{
 "cells": [
  {
   "cell_type": "code",
   "execution_count": 1,
   "id": "cdfa6179-d5b9-4897-8d81-f6a1f7a7ffa3",
   "metadata": {},
   "outputs": [],
   "source": [
    "import pandas as pd\n",
    "import numpy as np\n",
    "import matplotlib.pyplot as plt"
   ]
  },
  {
   "cell_type": "markdown",
   "id": "996bfb0b-aa5d-4928-8cb4-f7843abde2f3",
   "metadata": {},
   "source": [
    "## Test Scores Example"
   ]
  },
  {
   "cell_type": "code",
   "execution_count": 2,
   "id": "cc52d1e0-9376-4da4-ba34-99bd403e43a9",
   "metadata": {},
   "outputs": [
    {
     "name": "stdout",
     "output_type": "stream",
     "text": [
      "80.0\n",
      "85.0\n"
     ]
    }
   ],
   "source": [
    "tests = np.array([80,85,75,90,65])\n",
    "print(np.percentile(tests, 50))\n",
    "print(np.percentile(tests,75))"
   ]
  },
  {
   "cell_type": "markdown",
   "id": "75a71d59-de3f-4806-bede-c3d09076506c",
   "metadata": {},
   "source": [
    "## Example Page 2\n"
   ]
  },
  {
   "cell_type": "code",
   "execution_count": 3,
   "id": "9a2f2fd5-ece2-40a0-a430-ae405555e512",
   "metadata": {},
   "outputs": [
    {
     "name": "stdout",
     "output_type": "stream",
     "text": [
      "30.0\n",
      "10.0\n"
     ]
    }
   ],
   "source": [
    "ex_a = np.array([10,20,30,40,50])\n",
    "print(np.percentile(ex_a, 50))\n",
    "ex_b = np.array([0,2,4,6,8,10,12,14,16,18,20])\n",
    "print(np.percentile(ex_b, 50))"
   ]
  },
  {
   "cell_type": "markdown",
   "id": "78602dfe-e1ab-49ce-aef4-bcfa3fb7e650",
   "metadata": {},
   "source": [
    "## Basketball Scores\n",
    "Compare to your answer when you computed by hand. "
   ]
  },
  {
   "cell_type": "code",
   "execution_count": 4,
   "id": "1540e0bf-988a-46dc-8c0d-e45e95600a09",
   "metadata": {},
   "outputs": [
    {
     "name": "stdout",
     "output_type": "stream",
     "text": [
      "71.2\n",
      "86.6\n"
     ]
    }
   ],
   "source": [
    "bball = np.array([83, 68, 66, 87, 86, 88, 89, 70, 84, 77, 73, 77, 75])\n",
    "print(np.percentile(bball, 20))\n",
    "print(np.percentile(bball,80))"
   ]
  },
  {
   "cell_type": "markdown",
   "id": "a475abdf-82df-4ec5-bef2-b62a87262a5a",
   "metadata": {},
   "source": [
    "## Baby Data Set"
   ]
  },
  {
   "cell_type": "code",
   "execution_count": 5,
   "id": "9925c746-25d9-48df-8f9e-27ddb7072ce1",
   "metadata": {},
   "outputs": [
    {
     "data": {
      "text/html": [
       "<div>\n",
       "<style scoped>\n",
       "    .dataframe tbody tr th:only-of-type {\n",
       "        vertical-align: middle;\n",
       "    }\n",
       "\n",
       "    .dataframe tbody tr th {\n",
       "        vertical-align: top;\n",
       "    }\n",
       "\n",
       "    .dataframe thead th {\n",
       "        text-align: right;\n",
       "    }\n",
       "</style>\n",
       "<table border=\"1\" class=\"dataframe\">\n",
       "  <thead>\n",
       "    <tr style=\"text-align: right;\">\n",
       "      <th></th>\n",
       "      <th>Birth Weight</th>\n",
       "      <th>Gestational Days</th>\n",
       "      <th>Maternal Age</th>\n",
       "      <th>Maternal Height</th>\n",
       "      <th>Maternal Pregnancy Weight</th>\n",
       "      <th>Maternal Smoker</th>\n",
       "    </tr>\n",
       "  </thead>\n",
       "  <tbody>\n",
       "    <tr>\n",
       "      <th>0</th>\n",
       "      <td>120</td>\n",
       "      <td>284</td>\n",
       "      <td>27</td>\n",
       "      <td>62</td>\n",
       "      <td>100</td>\n",
       "      <td>False</td>\n",
       "    </tr>\n",
       "    <tr>\n",
       "      <th>1</th>\n",
       "      <td>113</td>\n",
       "      <td>282</td>\n",
       "      <td>33</td>\n",
       "      <td>64</td>\n",
       "      <td>135</td>\n",
       "      <td>False</td>\n",
       "    </tr>\n",
       "    <tr>\n",
       "      <th>2</th>\n",
       "      <td>128</td>\n",
       "      <td>279</td>\n",
       "      <td>28</td>\n",
       "      <td>64</td>\n",
       "      <td>115</td>\n",
       "      <td>True</td>\n",
       "    </tr>\n",
       "    <tr>\n",
       "      <th>3</th>\n",
       "      <td>108</td>\n",
       "      <td>282</td>\n",
       "      <td>23</td>\n",
       "      <td>67</td>\n",
       "      <td>125</td>\n",
       "      <td>True</td>\n",
       "    </tr>\n",
       "    <tr>\n",
       "      <th>4</th>\n",
       "      <td>136</td>\n",
       "      <td>286</td>\n",
       "      <td>25</td>\n",
       "      <td>62</td>\n",
       "      <td>93</td>\n",
       "      <td>False</td>\n",
       "    </tr>\n",
       "  </tbody>\n",
       "</table>\n",
       "</div>"
      ],
      "text/plain": [
       "   Birth Weight  Gestational Days  Maternal Age  Maternal Height  \\\n",
       "0           120               284            27               62   \n",
       "1           113               282            33               64   \n",
       "2           128               279            28               64   \n",
       "3           108               282            23               67   \n",
       "4           136               286            25               62   \n",
       "\n",
       "   Maternal Pregnancy Weight  Maternal Smoker  \n",
       "0                        100            False  \n",
       "1                        135            False  \n",
       "2                        115             True  \n",
       "3                        125             True  \n",
       "4                         93            False  "
      ]
     },
     "execution_count": 5,
     "metadata": {},
     "output_type": "execute_result"
    }
   ],
   "source": [
    "baby_data = pd.read_csv(\"baby.csv\")\n",
    "baby_data.head()"
   ]
  },
  {
   "cell_type": "code",
   "execution_count": 6,
   "id": "54e43818-eb2f-4d73-8a87-ae83ffcc5400",
   "metadata": {},
   "outputs": [
    {
     "data": {
      "text/plain": [
       "<Axes: >"
      ]
     },
     "execution_count": 6,
     "metadata": {},
     "output_type": "execute_result"
    },
    {
     "data": {
      "image/png": "[encoded data removed]",
      "text/plain": [
       "<Figure size 640x480 with 1 Axes>"
      ]
     },
     "metadata": {},
     "output_type": "display_data"
    }
   ],
   "source": [
    "weight = baby_data[\"Birth Weight\"]\n",
    "weight.hist()"
   ]
  },
  {
   "cell_type": "markdown",
   "id": "c7e344b1-56fe-4389-ac44-aea859b997ff",
   "metadata": {},
   "source": [
    "### Quartiles for Birth Weight"
   ]
  },
  {
   "cell_type": "code",
   "execution_count": 7,
   "id": "c7da99ce-49eb-43b4-8abe-2551b76112d1",
   "metadata": {},
   "outputs": [
    {
     "name": "stdout",
     "output_type": "stream",
     "text": [
      "108.0 120.0 131.0\n"
     ]
    }
   ],
   "source": [
    "q1 = np.percentile(weight, 25)\n",
    "q2 = np.percentile(weight, 50)\n",
    "q3 = np.percentile(weight, 75)\n",
    "print(q1,q2,q3)"
   ]
  },
  {
   "cell_type": "code",
   "execution_count": 8,
   "id": "7f0381fb-2ac9-4411-a895-b4e49fd00e2b",
   "metadata": {},
   "outputs": [
    {
     "name": "stdout",
     "output_type": "stream",
     "text": [
      "176\n",
      "55\n"
     ]
    }
   ],
   "source": [
    "print(np.max(weight))\n",
    "print(np.min(weight))"
   ]
  },
  {
   "cell_type": "code",
   "execution_count": 9,
   "id": "f577431a-1e12-4dad-9b8a-7b6da19de723",
   "metadata": {},
   "outputs": [
    {
     "data": {
      "image/png": "[encoded data removed]",
      "text/plain": [
       "<Figure size 640x480 with 1 Axes>"
      ]
     },
     "metadata": {},
     "output_type": "display_data"
    }
   ],
   "source": [
    "plt.boxplot(weight, showfliers=False, vert=False);"
   ]
  },
  {
   "cell_type": "markdown",
   "id": "f8e438aa-7a7e-4a24-a85b-63c63d6fcd24",
   "metadata": {},
   "source": [
    "## Bootstrap Confidence Interval for Median of Body Fat Percent Data"
   ]
  },
  {
   "cell_type": "code",
   "execution_count": null,
   "id": "ccdcb9f9-2a4c-49ec-90ab-011c5947d9c5",
   "metadata": {},
   "outputs": [
    {
     "data": {
      "image/png": "[encoded data removed]",
      "text/plain": [
       "<Figure size 640x480 with 1 Axes>"
      ]
     },
     "metadata": {},
     "output_type": "display_data"
    }
   ],
   "source": [
    "body_fat = pd.read_csv(\"body_fat.csv\")\n",
    "percent = body_fat[\"Percent\"]\n",
    "percent.hist()"
   ]
  },
  {
   "cell_type": "code",
   "execution_count": 11,
   "id": "7f20b285-82f4-455d-b3b8-83d9dbdd723c",
   "metadata": {},
   "outputs": [
    {
     "name": "stdout",
     "output_type": "stream",
     "text": [
      "92\n"
     ]
    }
   ],
   "source": [
    "sample_size = len(percent)\n",
    "print(sample_size)\n",
    "num_bootstraps = 100"
   ]
  },
  {
   "cell_type": "code",
   "execution_count": 12,
   "id": "ad4f51a7-e356-4742-a222-f999f8dcad0e",
   "metadata": {},
   "outputs": [],
   "source": [
    "median_list = [ ]  # list to hold the statistic computed from each sample\n",
    "for i in range(num_bootstraps):\n",
    "    # resample the original data set with replacement\n",
    "    sample = np.random.choice(percent, sample_size, replace=True) \n",
    "    # find the median of the new sample\n",
    "    median = np.percentile(sample, 50)  \n",
    "    # add the median to a list\n",
    "    median_list.append(median)"
   ]
  },
  {
   "cell_type": "markdown",
   "id": "a62e491a-a0e8-4764-81ab-5faa828712b2",
   "metadata": {},
   "source": [
    "Since we are using a confidence level of 95%, we find the 2.5% and 97.5% percentile"
   ]
  },
  {
   "cell_type": "code",
   "execution_count": 13,
   "id": "25b9058a-317d-4e89-aeb6-6f6cc849adbe",
   "metadata": {},
   "outputs": [
    {
     "name": "stdout",
     "output_type": "stream",
     "text": [
      "25.96625 29.049999999999997\n"
     ]
    }
   ],
   "source": [
    "\n",
    "lower = np.percentile(median_list, 2.5)\n",
    "upper = np.percentile(median_list, 97.5)\n",
    "print(lower, upper)"
   ]
  },
  {
   "cell_type": "markdown",
   "id": "c170ea07-ce73-471b-89d1-f163a79535f8",
   "metadata": {},
   "source": [
    "### Interpretation\n",
    "We are 95% confident that the population median is between 25.45% and 28.6%."
   ]
  },
  {
   "cell_type": "code",
   "execution_count": null,
   "id": "edb89e31-b550-449d-8c1f-c1e4a0a53309",
   "metadata": {},
   "outputs": [],
   "source": []
  }
 ],
 "metadata": {
  "kernelspec": {
   "display_name": "Python 3",
   "language": "python",
   "name": "python3"
  },
  "language_info": {
   "codemirror_mode": {
    "name": "ipython",
    "version": 3
   },
   "file_extension": ".py",
   "mimetype": "text/x-python",
   "name": "python",
   "nbconvert_exporter": "python",
   "pygments_lexer": "ipython3",
   "version": "3.11.6"
  }
 },
 "nbformat": 4,
 "nbformat_minor": 5
}
