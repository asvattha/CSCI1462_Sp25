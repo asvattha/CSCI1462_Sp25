{
 "cells": [
  {
   "cell_type": "raw",
   "id": "b8b059ad-99d0-4e29-aebf-e4917d89f404",
   "metadata": {},
   "source": [
    "# ASSIGNMENT CONFIG\n",
    "requirements:\n",
    "solutions_pdf: false\n",
    "run_tests: false\n",
    "export_cell: false\n",
    "generate:\n",
    "    pdf: false"
   ]
  },
  {
   "cell_type": "code",
   "execution_count": 1,
   "id": "aef0b616-9d65-4d7b-8037-f236de17780f",
   "metadata": {},
   "outputs": [],
   "source": [
    "import numpy as np"
   ]
  },
  {
   "cell_type": "markdown",
   "id": "531830c8-7382-4cf9-b0ef-ff10e4061011",
   "metadata": {},
   "source": [
    "\n",
    "<img src=\"https://assets.wsimgs.com/wsimgs/ab/images/dp/wcm/202321/0045/breville-barista-express-espresso-machine-o.jpg\"\n",
    "     alt=\"Contact\"\n",
    "     style=\"display: block; margin-left: auto; margin-right: auto; width: 300px;\" />\n",
    "\n",
    "\n",
    "    "
   ]
  },
  {
   "cell_type": "markdown",
   "id": "e76aacbc-be41-4972-a09f-78e653a45265",
   "metadata": {},
   "source": [
    "Functions in python are the block of code which only run when it is called. You can pass data, known as parameters into a functions and the function can return data as a result. \n",
    "\n",
    "Think of functions as a coffee maker machine, which takes some input parameters (milk and beans) and produces output (coffee). "
   ]
  },
  {
   "cell_type": "markdown",
   "id": "d09bdca3-61c1-4b5e-aada-9d3e21de3a8d",
   "metadata": {},
   "source": [
    "### In-built functions\n",
    "\n",
    "Python provides some in-built ready to use functions, for most common operations. Such as:"
   ]
  },
  {
   "cell_type": "code",
   "execution_count": 2,
   "id": "22b6d7af-18b8-4c0c-9277-dd0e470d4126",
   "metadata": {},
   "outputs": [
    {
     "data": {
      "text/plain": [
       "12"
      ]
     },
     "execution_count": 2,
     "metadata": {},
     "output_type": "execute_result"
    }
   ],
   "source": [
    "abs(-12) # returns the absolute value of the number"
   ]
  },
  {
   "cell_type": "code",
   "execution_count": 3,
   "id": "e55a356c-a6a8-40a3-b902-851b421bd90a",
   "metadata": {},
   "outputs": [
    {
     "data": {
      "text/plain": [
       "4"
      ]
     },
     "execution_count": 3,
     "metadata": {},
     "output_type": "execute_result"
    }
   ],
   "source": [
    "round(5 - 1.1) # this is same as round(3.9) and this gets rounded to the nearest integer number "
   ]
  },
  {
   "cell_type": "code",
   "execution_count": 4,
   "id": "6eba80c8-cc3f-4fd1-9b58-48b123cfe634",
   "metadata": {},
   "outputs": [
    {
     "data": {
      "text/plain": [
       "5"
      ]
     },
     "execution_count": 4,
     "metadata": {},
     "output_type": "execute_result"
    }
   ],
   "source": [
    "max(2, 2+3, 4) # this is finding the max of the three numbers, (2, 5, 4)"
   ]
  },
  {
   "cell_type": "markdown",
   "id": "b47faf33-4c50-4cc8-acc8-a8101b520e30",
   "metadata": {},
   "source": [
    "You can notice that how we are just **calling the function**. The body of the function is hidden by python, and we can just directly use these functions to get the output. "
   ]
  },
  {
   "cell_type": "markdown",
   "id": "a3337ad2-0b3e-4668-b517-22e5392426ce",
   "metadata": {},
   "source": [
    "Some of the functions are built into a package, called `module` in python. For eg: there is `math` module in python which has collection of many common mathematical functions such as square root, logarithm, etc. To use a function which is wrapped inside a module, we first have to `import` that module, and then provide a `.` followed by the name of the function we are interested in using. For eg:"
   ]
  },
  {
   "cell_type": "code",
   "execution_count": 5,
   "id": "54416720-933e-4bfc-8307-cd83a2c9719e",
   "metadata": {},
   "outputs": [
    {
     "data": {
      "text/plain": [
       "2.0"
      ]
     },
     "execution_count": 5,
     "metadata": {},
     "output_type": "execute_result"
    }
   ],
   "source": [
    "import math\n",
    "math.sqrt(4)"
   ]
  },
  {
   "cell_type": "markdown",
   "id": "82cb607b-d945-4039-9f0c-b5ce5fd78750",
   "metadata": {},
   "source": [
    "In this course, we will learn many of such data science modules such as pandas, numpy, matplotlib etc. "
   ]
  },
  {
   "cell_type": "code",
   "execution_count": 6,
   "id": "e9818de3-8ffd-4969-a9f0-82c4ee2c2b61",
   "metadata": {},
   "outputs": [
    {
     "data": {
      "text/plain": [
       "4.0"
      ]
     },
     "execution_count": 6,
     "metadata": {},
     "output_type": "execute_result"
    }
   ],
   "source": [
    "math.log(16, 2) # finding logarithm of 16 to the base 2. Note we only need to import a package once in the notebook"
   ]
  },
  {
   "cell_type": "markdown",
   "id": "5629b29e-a0b8-4bb3-9c11-b1b7cec2c1f5",
   "metadata": {},
   "source": [
    "The list of all in-built functions of python can be found [here](https://docs.python.org/3/library/functions.html)\n",
    "\n",
    "The list of all functions inside math module can be found [here](https://docs.python.org/3/library/math.html)"
   ]
  },
  {
   "cell_type": "raw",
   "id": "75ecba3d-f41b-40c4-9835-c5cc9f788184",
   "metadata": {},
   "source": [
    "# BEGIN QUESTION\n",
    "name: q1"
   ]
  },
  {
   "cell_type": "markdown",
   "id": "a018f74c-95fd-4728-8ee2-8c66f8546e90",
   "metadata": {},
   "source": [
    "### Question 1\n",
    "\n",
    "The module `math` also provides the name `e` for the base of the natural logarithm, which is roughly 2.71. Compute $e^\\pi - \\pi$, giving it the name `near_twenty`. \n",
    "\n",
    "Note: you can access `pi` from the `math` module as well. "
   ]
  },
  {
   "cell_type": "raw",
   "id": "fdc3c419-391e-48a8-aea2-9a5cef902315",
   "metadata": {},
   "source": [
    "# BEGIN SOLUTION"
   ]
  },
  {
   "cell_type": "code",
   "execution_count": 7,
   "id": "a52522c8-92b4-481d-8b3d-0d7a6ea0398b",
   "metadata": {},
   "outputs": [
    {
     "name": "stdout",
     "output_type": "stream",
     "text": [
      "19.99909997918947\n"
     ]
    }
   ],
   "source": [
    "near_twenty = math.e ** math.pi - math.pi # SOLUTION\n",
    "print(near_twenty)"
   ]
  },
  {
   "cell_type": "raw",
   "id": "754221ae-b544-4058-bc71-57a464f5285d",
   "metadata": {},
   "source": [
    "# END SOLUTION"
   ]
  },
  {
   "cell_type": "raw",
   "id": "caf99faa-a235-401a-af36-7a8cbf515b05",
   "metadata": {},
   "source": [
    "# BEGIN TESTS"
   ]
  },
  {
   "cell_type": "code",
   "execution_count": 8,
   "id": "26e9962a-4051-49f4-b9dd-96d794c110dd",
   "metadata": {},
   "outputs": [
    {
     "data": {
      "text/plain": [
       "True"
      ]
     },
     "execution_count": 8,
     "metadata": {},
     "output_type": "execute_result"
    }
   ],
   "source": [
    "math.isclose(near_twenty, 20, abs_tol=1e-1)"
   ]
  },
  {
   "cell_type": "raw",
   "id": "a9855fd8-4df3-43cb-8ae7-740d4c7e6180",
   "metadata": {},
   "source": [
    "# END TESTS"
   ]
  },
  {
   "cell_type": "raw",
   "id": "40144c50-97a5-490b-aa01-70cf0d3d60e7",
   "metadata": {},
   "source": [
    "# END QUESTION"
   ]
  },
  {
   "cell_type": "raw",
   "id": "bcc29478-55ce-42a6-a007-c2d6cd108a55",
   "metadata": {},
   "source": [
    "# BEGIN QUESTION\n",
    "name: q2"
   ]
  },
  {
   "cell_type": "markdown",
   "id": "cc76f19a-15a7-4e1a-b251-624c632051bd",
   "metadata": {},
   "source": [
    "### Question 2\n",
    "\n",
    "Read the documentation for the in-built function `type` [here](https://docs.python.org/3/library/functions.html#type). What do you think this function returns? Test it by running the following cells. "
   ]
  },
  {
   "cell_type": "raw",
   "id": "7ff26429-37f8-43e3-bfc5-e668ad4e6493",
   "metadata": {},
   "source": [
    "# BEGIN SOLUTION"
   ]
  },
  {
   "cell_type": "code",
   "execution_count": 9,
   "id": "85639ee8-9c0b-4969-bef2-7992a169823d",
   "metadata": {},
   "outputs": [
    {
     "data": {
      "text/plain": [
       "str"
      ]
     },
     "execution_count": 9,
     "metadata": {},
     "output_type": "execute_result"
    }
   ],
   "source": [
    "type(\"Hello\")"
   ]
  },
  {
   "cell_type": "code",
   "execution_count": 10,
   "id": "2b62ac89-c873-4738-b355-01c23854bed0",
   "metadata": {},
   "outputs": [
    {
     "data": {
      "text/plain": [
       "str"
      ]
     },
     "execution_count": 10,
     "metadata": {},
     "output_type": "execute_result"
    }
   ],
   "source": [
    "myName = \"Dipak Singh\"\n",
    "type(myName)"
   ]
  },
  {
   "cell_type": "code",
   "execution_count": 11,
   "id": "3a7304ee-0bab-4b28-9fee-e8860f16b243",
   "metadata": {},
   "outputs": [
    {
     "data": {
      "text/plain": [
       "float"
      ]
     },
     "execution_count": 11,
     "metadata": {},
     "output_type": "execute_result"
    }
   ],
   "source": [
    "type(3.14)"
   ]
  },
  {
   "cell_type": "raw",
   "id": "0d70e0d5-14b0-4dae-94f9-599323304ab1",
   "metadata": {},
   "source": [
    "# END SOLUTION"
   ]
  },
  {
   "cell_type": "raw",
   "id": "d1fdaec7-aba5-4511-a39f-93f1f5b41532",
   "metadata": {},
   "source": [
    "# BEGIN TESTS"
   ]
  },
  {
   "cell_type": "raw",
   "id": "23932506-53b1-41f3-9c0f-b650f5dc1593",
   "metadata": {},
   "source": [
    "# END TESTS"
   ]
  },
  {
   "cell_type": "raw",
   "id": "db3b312a-d059-4f7e-9f12-e4224a8bc6e9",
   "metadata": {},
   "source": [
    "# END QUESTION"
   ]
  },
  {
   "cell_type": "raw",
   "id": "b6d8ea11-b0e1-4ebf-b077-21b0651e8643",
   "metadata": {},
   "source": [
    "# BEGIN QUESTION\n",
    "name: q3"
   ]
  },
  {
   "cell_type": "markdown",
   "id": "76d5383a-de07-43b1-81dc-e5af9cfc2ff7",
   "metadata": {},
   "source": [
    "### Question 3\n",
    "\n",
    "Find the absolute value of the expression $-12 * 2 + e$. Store your answer in the variable `your_ans`\n",
    "\n",
    "Hint: Use `abs` in-built function"
   ]
  },
  {
   "cell_type": "raw",
   "id": "cebdd140-b5d3-408e-9fcf-5ba37befa074",
   "metadata": {},
   "source": [
    "# BEGIN SOLUTION"
   ]
  },
  {
   "cell_type": "code",
   "execution_count": 12,
   "id": "5c9a8f45-ea81-4087-aec6-0bbbf9dcdef5",
   "metadata": {},
   "outputs": [
    {
     "name": "stdout",
     "output_type": "stream",
     "text": [
      "21.281718171540955\n"
     ]
    }
   ],
   "source": [
    "your_ans = abs(-12 * 2 + math.e) # SOLUTION\n",
    "print(your_ans)"
   ]
  },
  {
   "cell_type": "raw",
   "id": "ccd17861-05d1-49e3-b7ea-6a83cc25efac",
   "metadata": {},
   "source": [
    "# END SOLUTION"
   ]
  },
  {
   "cell_type": "raw",
   "id": "98d17d80-a4e1-4829-8b46-14923e7df235",
   "metadata": {},
   "source": [
    "# BEGIN TESTS"
   ]
  },
  {
   "cell_type": "code",
   "execution_count": 13,
   "id": "a4d82609-8283-4776-bced-b81980648a80",
   "metadata": {},
   "outputs": [
    {
     "data": {
      "text/plain": [
       "True"
      ]
     },
     "execution_count": 13,
     "metadata": {},
     "output_type": "execute_result"
    }
   ],
   "source": [
    "math.isclose(your_ans, 21.28, abs_tol=1e-2)"
   ]
  },
  {
   "cell_type": "raw",
   "id": "401b16dd-97a4-46f5-9676-19b44b4de860",
   "metadata": {},
   "source": [
    "# END TESTS"
   ]
  },
  {
   "cell_type": "raw",
   "id": "ef57f864-7222-4959-9786-21f24bfe90ce",
   "metadata": {},
   "source": [
    "# END QUESTION"
   ]
  },
  {
   "cell_type": "raw",
   "id": "a1791654-80ae-4e10-9207-80e1aed250af",
   "metadata": {},
   "source": [
    "# BEGIN QUESTION\n",
    "name: q4"
   ]
  },
  {
   "cell_type": "markdown",
   "id": "5340e349-5049-4430-ae07-64b3b80d87c9",
   "metadata": {},
   "source": [
    "### Question 4\n",
    "\n",
    "Write a python code to find the maximum value among the three expressions: $e^2, \\pi, \\sqrt{5.6}$. Store your answer in the variable `your_ans`"
   ]
  },
  {
   "cell_type": "raw",
   "id": "d43d863a-3562-43ad-bccd-e30b65a500e0",
   "metadata": {},
   "source": [
    "# BEGIN SOLUTION"
   ]
  },
  {
   "cell_type": "code",
   "execution_count": 14,
   "id": "df3b2f20-d7ce-49a4-a18a-7d240d6cc8a1",
   "metadata": {},
   "outputs": [
    {
     "name": "stdout",
     "output_type": "stream",
     "text": [
      "7.3890560989306495\n"
     ]
    }
   ],
   "source": [
    "your_ans = max(math.e**2, math.pi, math.sqrt(5.6)) # SOLUTION\n",
    "print(your_ans)"
   ]
  },
  {
   "cell_type": "raw",
   "id": "797ec1fd-a5b5-4b4c-b55f-07c3653d84ae",
   "metadata": {},
   "source": [
    "# END SOLUTION"
   ]
  },
  {
   "cell_type": "raw",
   "id": "5d08cfac-299a-4572-94cf-94120db2af72",
   "metadata": {},
   "source": [
    "# BEGIN TESTS"
   ]
  },
  {
   "cell_type": "code",
   "execution_count": 15,
   "id": "1fd95dcd-9a47-4273-a831-1dcd4cdf1167",
   "metadata": {},
   "outputs": [
    {
     "data": {
      "text/plain": [
       "True"
      ]
     },
     "execution_count": 15,
     "metadata": {},
     "output_type": "execute_result"
    }
   ],
   "source": [
    "math.isclose(your_ans, 7.389, abs_tol=1e-1)"
   ]
  },
  {
   "cell_type": "raw",
   "id": "e4acfbc0-fd1b-40db-81a5-005b9700c3ba",
   "metadata": {},
   "source": [
    "# END TESTS"
   ]
  },
  {
   "cell_type": "raw",
   "id": "beaad77a-bb07-4555-97fc-e9c804accafa",
   "metadata": {},
   "source": [
    "# END QUESTION"
   ]
  },
  {
   "cell_type": "raw",
   "id": "16464d60-f479-47b1-8009-5cfcce4a74c2",
   "metadata": {},
   "source": [
    "# BEGIN QUESTION\n",
    "name: q5"
   ]
  },
  {
   "cell_type": "markdown",
   "id": "ca34166a-6c8e-4db2-a7e9-2aeb5833b34f",
   "metadata": {},
   "source": [
    "### Question 5\n",
    "\n",
    "Write a python code to find the minimum value among the three expressions: $\\frac{4 * 6}{5}, \\sqrt{99}, 385$. Store your answer in a variable `your_ans` variable."
   ]
  },
  {
   "cell_type": "raw",
   "id": "80a8eee3-9265-40ae-a3c4-73f5d3e58cdb",
   "metadata": {},
   "source": [
    "# BEGIN SOLUTION"
   ]
  },
  {
   "cell_type": "code",
   "execution_count": 16,
   "id": "f2bca505-9fed-4037-a5c0-56383f4a165b",
   "metadata": {},
   "outputs": [
    {
     "name": "stdout",
     "output_type": "stream",
     "text": [
      "4.8\n"
     ]
    }
   ],
   "source": [
    "your_ans = min((4*6)/5, math.sqrt(99), 385) # SOLUTION\n",
    "print(your_ans)"
   ]
  },
  {
   "cell_type": "raw",
   "id": "bd57384b-1f8b-44d8-9d09-48c826f08532",
   "metadata": {},
   "source": [
    "# END SOLUTION"
   ]
  },
  {
   "cell_type": "raw",
   "id": "25b1cb4f-82bf-4410-a97f-54c72eaef1b9",
   "metadata": {},
   "source": [
    "# BEGIN TESTS"
   ]
  },
  {
   "cell_type": "code",
   "execution_count": 17,
   "id": "fc86bf53-5816-4d45-94c3-b790f5909889",
   "metadata": {},
   "outputs": [
    {
     "data": {
      "text/plain": [
       "True"
      ]
     },
     "execution_count": 17,
     "metadata": {},
     "output_type": "execute_result"
    }
   ],
   "source": [
    "math.isclose(your_ans, 4.8, abs_tol=0.1)"
   ]
  },
  {
   "cell_type": "raw",
   "id": "fa46b7f2-c288-4519-ad83-c9728ad745b2",
   "metadata": {},
   "source": [
    "# END TESTS"
   ]
  },
  {
   "cell_type": "raw",
   "id": "85415b5e-9644-4711-951b-787ff8cc27ea",
   "metadata": {},
   "source": [
    "# END QUESTION"
   ]
  },
  {
   "cell_type": "raw",
   "id": "87dbad73-6622-4838-9945-06161adf8ed1",
   "metadata": {},
   "source": [
    "# BEGIN QUESTION\n",
    "name: q6"
   ]
  },
  {
   "cell_type": "markdown",
   "id": "d1e6c1f4-8161-4cba-b288-70256f9f9351",
   "metadata": {},
   "source": [
    "### Question 6\n",
    "\n",
    "Write a python code to calculate the expression,  $\\frac{3 * log_e3}{2}$, rounded upto two decimal points. Store your answer in the variable `your_ans`. \n",
    "\n",
    "Hint: Use `math.log` and `round` functions"
   ]
  },
  {
   "cell_type": "raw",
   "id": "e783a0eb-0251-483a-a23d-5103cca6df4f",
   "metadata": {},
   "source": [
    "# BEGIN SOLUTION"
   ]
  },
  {
   "cell_type": "code",
   "execution_count": 18,
   "id": "ee6ce99c-d03c-4117-b94e-e1afc128ae69",
   "metadata": {},
   "outputs": [
    {
     "name": "stdout",
     "output_type": "stream",
     "text": [
      "1.65\n"
     ]
    }
   ],
   "source": [
    "expr = (3 * math.log(3)) / 2 # SOLUTION NO PROMPT\n",
    "your_ans = round(expr, 2) # SOLUTION\n",
    "print(your_ans)"
   ]
  },
  {
   "cell_type": "raw",
   "id": "420a1a19-b412-4e18-af24-3dbb066631b5",
   "metadata": {},
   "source": [
    "# END SOLUTION"
   ]
  },
  {
   "cell_type": "raw",
   "id": "0bc0ddf5-85ea-4f99-b39a-a5eee05b0cf9",
   "metadata": {},
   "source": [
    "# BEGIN TESTS"
   ]
  },
  {
   "cell_type": "code",
   "execution_count": 19,
   "id": "21ee23e0-662b-4440-bfd6-7ab8fc7ff0be",
   "metadata": {},
   "outputs": [
    {
     "data": {
      "text/plain": [
       "True"
      ]
     },
     "execution_count": 19,
     "metadata": {},
     "output_type": "execute_result"
    }
   ],
   "source": [
    "math.isclose(your_ans, 1.65, abs_tol=0.1)"
   ]
  },
  {
   "cell_type": "raw",
   "id": "9cf868bd-e8d9-48c7-a946-7410dd6fc713",
   "metadata": {},
   "source": [
    "# END TESTS"
   ]
  },
  {
   "cell_type": "raw",
   "id": "1e732347-40f1-4fef-ac44-b026ef1bb2ee",
   "metadata": {},
   "source": [
    "# END QUESTION"
   ]
  },
  {
   "cell_type": "raw",
   "id": "19cf38ac-0d65-467b-9648-7e3874261e23",
   "metadata": {},
   "source": [
    "# BEGIN QUESTION\n",
    "name: q7"
   ]
  },
  {
   "cell_type": "markdown",
   "id": "38ff1859-586a-4d05-876d-d0e60c98761a",
   "metadata": {},
   "source": [
    "### Question 7\n",
    "\n",
    "Write a python code to calculate the expression,  $\\frac{30 - 45^2}{\\pi^2}$, rounded upto three decimal points. Store your answer in the variable `your_ans`. \n",
    "\n",
    "Hint: Use `math.log` and `round` functions"
   ]
  },
  {
   "cell_type": "raw",
   "id": "0c638aa0-290f-4142-a5b5-57c5a99c4f16",
   "metadata": {},
   "source": [
    "# BEGIN SOLUTION"
   ]
  },
  {
   "cell_type": "code",
   "execution_count": 20,
   "id": "881e4660-549f-4d46-940d-0da00f0b00ba",
   "metadata": {},
   "outputs": [
    {
     "name": "stdout",
     "output_type": "stream",
     "text": [
      "-202.136\n"
     ]
    }
   ],
   "source": [
    "expr = (30 - 45 ** 2) / math.pi ** 2 # SOLUTION NO PROMPT\n",
    "your_ans = round(expr, 3) # SOLUTION\n",
    "print(your_ans)"
   ]
  },
  {
   "cell_type": "raw",
   "id": "871cda4f-afd6-46c3-aa1f-3a4847e09ced",
   "metadata": {},
   "source": [
    "# END SOLUTION"
   ]
  },
  {
   "cell_type": "raw",
   "id": "0643d49b-8d3f-4b64-b695-9b8798ca81a4",
   "metadata": {},
   "source": [
    "# BEGIN TESTS"
   ]
  },
  {
   "cell_type": "code",
   "execution_count": 21,
   "id": "3105322b-0606-4e2f-a550-25edcd9ff022",
   "metadata": {},
   "outputs": [
    {
     "data": {
      "text/plain": [
       "True"
      ]
     },
     "execution_count": 21,
     "metadata": {},
     "output_type": "execute_result"
    }
   ],
   "source": [
    "math.isclose(your_ans, -202.136, abs_tol=0.1)"
   ]
  },
  {
   "cell_type": "raw",
   "id": "01b82553-b78e-4b50-9d1b-1a17949fd989",
   "metadata": {},
   "source": [
    "# END TESTS"
   ]
  },
  {
   "cell_type": "raw",
   "id": "d7a32784-2593-406e-bf8e-a20fe188ff69",
   "metadata": {},
   "source": [
    "# END QUESTION"
   ]
  },
  {
   "cell_type": "raw",
   "id": "73576351-bccd-4b57-943a-2d1e3a84f0e5",
   "metadata": {},
   "source": [
    "# BEGIN QUESTION\n",
    "name: q8"
   ]
  },
  {
   "cell_type": "markdown",
   "id": "8ca3ae2d-f9ef-4ae4-b12a-2ec6cdf0e787",
   "metadata": {},
   "source": [
    "### Question 8\n",
    "\n",
    "Write a python code to calculate the expression: $log_24$. Store your answer in the variable `your_ans`.\n",
    "\n",
    "Hint: Use `math.log` function. You will have to find how to find logarithm to the base of 2 instead of natural logarithm of e. You may find this [link](https://www.w3schools.com/python/ref_math_log.asp) useful. "
   ]
  },
  {
   "cell_type": "raw",
   "id": "cbc0ae06-9930-4f42-8ee3-23eb2dd3583a",
   "metadata": {},
   "source": [
    "# BEGIN SOLUTION"
   ]
  },
  {
   "cell_type": "code",
   "execution_count": 22,
   "id": "2b8203be-6ad7-4bf0-b6cc-f457baf1110a",
   "metadata": {},
   "outputs": [
    {
     "name": "stdout",
     "output_type": "stream",
     "text": [
      "2.0\n"
     ]
    }
   ],
   "source": [
    "your_ans = math.log(4, 2) # SOLUTION\n",
    "print(your_ans)"
   ]
  },
  {
   "cell_type": "raw",
   "id": "8b69438d-2548-4232-857a-42b4e7980eba",
   "metadata": {},
   "source": [
    "# END SOLUTION"
   ]
  },
  {
   "cell_type": "raw",
   "id": "d63cdcf5-b789-4dec-ae53-82c98ba1af82",
   "metadata": {},
   "source": [
    "# BEGIN TESTS"
   ]
  },
  {
   "cell_type": "code",
   "execution_count": 23,
   "id": "ff922034-cdf5-4610-aa94-48cd1d811c68",
   "metadata": {},
   "outputs": [
    {
     "data": {
      "text/plain": [
       "True"
      ]
     },
     "execution_count": 23,
     "metadata": {},
     "output_type": "execute_result"
    }
   ],
   "source": [
    "math.isclose(your_ans, 2.0, abs_tol=0.1)"
   ]
  },
  {
   "cell_type": "raw",
   "id": "684abe93-02a7-4d5b-a32c-514ea9ce9434",
   "metadata": {},
   "source": [
    "# END TESTS"
   ]
  },
  {
   "cell_type": "raw",
   "id": "2dffe1f6-b227-4669-985f-e3df2ffee586",
   "metadata": {},
   "source": [
    "# END QUESTION"
   ]
  },
  {
   "cell_type": "raw",
   "id": "cbea1543-c7cb-41d7-b22a-6732303ce52f",
   "metadata": {},
   "source": [
    "# BEGIN QUESTION\n",
    "name: q9"
   ]
  },
  {
   "cell_type": "markdown",
   "id": "4c467a0c-3a03-4906-8c7d-f48373dd4747",
   "metadata": {},
   "source": [
    "### Question 9\n",
    "\n",
    "Read the documentation for the `int` function [here](https://www.w3schools.com/python/ref_func_int.asp). What do you think this function is doing? \n",
    "\n",
    "Convert the following expression into `int` type. \n",
    "\n",
    "$ 40 - (5 * 2) / 3 $"
   ]
  },
  {
   "cell_type": "raw",
   "id": "eb792425-7877-4313-99d0-c35ad51825da",
   "metadata": {},
   "source": [
    "# BEGIN SOLUTION"
   ]
  },
  {
   "cell_type": "code",
   "execution_count": 24,
   "id": "12a89a04-46c5-431a-bf25-e5b6fe7d3c50",
   "metadata": {},
   "outputs": [
    {
     "name": "stdout",
     "output_type": "stream",
     "text": [
      "36\n"
     ]
    }
   ],
   "source": [
    "your_ans = int(40 - (5 * 2) / 3) # SOLUTION\n",
    "print(your_ans)"
   ]
  },
  {
   "cell_type": "raw",
   "id": "ff05e5fc-872b-4a2f-864f-c98eef6fc7bf",
   "metadata": {},
   "source": [
    "# END SOLUTION"
   ]
  },
  {
   "cell_type": "raw",
   "id": "de4ff216-e637-47b1-a4a3-8ff8ba3df449",
   "metadata": {},
   "source": [
    "# BEGIN TESTS"
   ]
  },
  {
   "cell_type": "code",
   "execution_count": 25,
   "id": "71fff34b-5f80-480b-a37f-63c2259bd77b",
   "metadata": {},
   "outputs": [
    {
     "data": {
      "text/plain": [
       "True"
      ]
     },
     "execution_count": 25,
     "metadata": {},
     "output_type": "execute_result"
    }
   ],
   "source": [
    "your_ans == 36"
   ]
  },
  {
   "cell_type": "code",
   "execution_count": 26,
   "id": "7f1a3421-bc06-41c1-9fd0-63fed2d3210f",
   "metadata": {},
   "outputs": [
    {
     "data": {
      "text/plain": [
       "True"
      ]
     },
     "execution_count": 26,
     "metadata": {},
     "output_type": "execute_result"
    }
   ],
   "source": [
    "isinstance(your_ans, int)"
   ]
  },
  {
   "cell_type": "raw",
   "id": "79f807ee-eb1c-4587-bee3-a8ea0ee0edd4",
   "metadata": {},
   "source": [
    "# END TESTS"
   ]
  },
  {
   "cell_type": "raw",
   "id": "5458ae5a-6862-4146-876e-fa71410c28f0",
   "metadata": {},
   "source": [
    "# END QUESTION"
   ]
  },
  {
   "cell_type": "raw",
   "id": "2826326c-c65e-4ffa-8e09-8c480e42c083",
   "metadata": {},
   "source": [
    "# BEGIN QUESTION\n",
    "name: q10"
   ]
  },
  {
   "cell_type": "markdown",
   "id": "8e66b0c2-0e94-47e3-854d-d14df78b7d73",
   "metadata": {},
   "source": [
    "### Question 10\n",
    "\n",
    "Read the documentation for the `float` function [here](https://www.w3schools.com/python/ref_func_float.asp). What do you think this function is doing? \n",
    "\n",
    "Convert the following expression into `float` type. \n",
    "\n",
    "$ 40 - 5 * 2 $"
   ]
  },
  {
   "cell_type": "raw",
   "id": "e27c439c-3e0a-4611-97a7-b891480261a1",
   "metadata": {},
   "source": [
    "# BEGIN SOLUTION"
   ]
  },
  {
   "cell_type": "code",
   "execution_count": 27,
   "id": "64378d15-116c-44a3-b174-8cae096ce7bc",
   "metadata": {},
   "outputs": [
    {
     "name": "stdout",
     "output_type": "stream",
     "text": [
      "30.0\n"
     ]
    }
   ],
   "source": [
    "your_ans = float(40 - 5 * 2) # SOLUTION\n",
    "print(your_ans) "
   ]
  },
  {
   "cell_type": "code",
   "execution_count": 28,
   "id": "1bbcf675-1cb8-4251-ade5-fcebc488764a",
   "metadata": {},
   "outputs": [
    {
     "data": {
      "text/plain": [
       "float"
      ]
     },
     "execution_count": 28,
     "metadata": {},
     "output_type": "execute_result"
    }
   ],
   "source": [
    "type(your_ans)"
   ]
  },
  {
   "cell_type": "raw",
   "id": "70f41934-c28c-4b39-997b-773e5e02e43a",
   "metadata": {},
   "source": [
    "# END SOLUTION"
   ]
  },
  {
   "cell_type": "raw",
   "id": "619c3bcd-78b0-4403-ab13-d5b23cf16350",
   "metadata": {},
   "source": [
    "# BEGIN TESTS"
   ]
  },
  {
   "cell_type": "code",
   "execution_count": 29,
   "id": "99122bc8-31c8-450b-a963-cdb07a5c5327",
   "metadata": {},
   "outputs": [
    {
     "data": {
      "text/plain": [
       "True"
      ]
     },
     "execution_count": 29,
     "metadata": {},
     "output_type": "execute_result"
    }
   ],
   "source": [
    "isinstance(your_ans, float)"
   ]
  },
  {
   "cell_type": "raw",
   "id": "00536521-3169-4af4-ba9e-b3975eea3703",
   "metadata": {},
   "source": [
    "# END TESTS"
   ]
  },
  {
   "cell_type": "raw",
   "id": "8115e740-95f8-4eb8-8c08-2ba99640905b",
   "metadata": {},
   "source": [
    "# END QUESTION"
   ]
  },
  {
   "cell_type": "markdown",
   "id": "9a485014-b644-4622-9ea0-6ab38c39d2d6",
   "metadata": {},
   "source": [
    "### How to define a function? \n",
    "\n",
    "To define a function in python, we must use the keyword `def` in front of the function name. \n",
    "\n",
    "Let's define a function which returns the double of a number that it takes as an input.\n",
    "\n",
    "`def double(x):`\n",
    "\n",
    "Here, `double` is the name of the function. \n",
    "\n",
    "A function can take zero or more inputs. In the function definition above, the function is taking one input parameter, named, `x`\n",
    "\n",
    "> Every function definition ends with a color `:` symbol\n",
    "\n",
    "Eg: Define a function which takes two inputs. <br>\n",
    "`def add(x, y):`\n",
    "\n",
    "Eg: Define a function which takes no input <br>\n",
    "`def foo():`"
   ]
  },
  {
   "cell_type": "markdown",
   "id": "6e9513d8-b8a6-4cc8-b7d7-e31e06661882",
   "metadata": {},
   "source": [
    "Just like a coffee machine after taking those inputs, processes them and produce some output, similarly, a functions uses those input to produce some output. \n",
    "\n",
    "Let's write the body of the function which takes the input `x` and produces the double of that number as an output."
   ]
  },
  {
   "cell_type": "code",
   "execution_count": 30,
   "id": "f0472513-e9cd-4370-a064-201705b7059a",
   "metadata": {},
   "outputs": [],
   "source": [
    "def double(x):\n",
    "    result = x * 2\n",
    "    return result"
   ]
  },
  {
   "cell_type": "markdown",
   "id": "9227cfee-6d98-4c5f-99f5-218395dce1b2",
   "metadata": {},
   "source": [
    "1. Notice how it is using the input variable `x` to perform some operation inside it to produce the result. Just like how coffee machine uses the input to process them to produce an output i.e, coffee. \n",
    "2. Just like entire instruments of a coffee maker belongs to the body of the machine. Similarly, the entire operations of a function belongs to the body of the function. All code wrapped inside the function by providing a tab space at the front of those lines includes the body of the function. For eg: the following two lines\n",
    "\n",
    "        result = x * 2<br>\n",
    "        return result <br>\n",
    "\n",
    "    have a preceding tab space, and therefore, both of these lines belong to the body of the function. \n",
    "\n",
    "3. In order to use the value that is produced by the function, the function should return that value. That is why, we have a `return` keyword used at the end of the function. This means that any one who wants to use this function, will have to provide a number, and the function will return the double of that number as an output. It is possible, that a function doesn't return any output, in that case, you can chose to not have any return statement, or can have return statement but no value to return. "
   ]
  },
  {
   "cell_type": "markdown",
   "id": "86ce0d25-e7c1-4fcf-86cd-9532330b4c76",
   "metadata": {},
   "source": [
    "### Calling a function\n",
    "\n",
    "In the above section, we learnt how to create a function. However, such function is of no use, unless we utilize it. To utilize a function, we **call a function by it's name**. \n",
    "\n",
    "Not only that, if the function expects some input, then we also need to provide some input value to that function, so that it can produce the desired result. Just like, in order to get the coffee, we must provide milk and beans as input and then call the machine by pressing the power on button. \n",
    "\n",
    "Eg: to call the function `double`, we do the following:"
   ]
  },
  {
   "cell_type": "code",
   "execution_count": 31,
   "id": "91a7b0ff-46cb-4f62-bda2-e90714eeea39",
   "metadata": {},
   "outputs": [
    {
     "data": {
      "text/plain": [
       "10"
      ]
     },
     "execution_count": 31,
     "metadata": {},
     "output_type": "execute_result"
    }
   ],
   "source": [
    "double(5)"
   ]
  },
  {
   "cell_type": "markdown",
   "id": "adaaa837-cb3a-4796-a4e1-33739dac7b35",
   "metadata": {},
   "source": [
    "As you can see the function returns the output that is double of 5. So, when 5 is passed to the function, x becomes 5 and the function returns result, which is holding the double of x, that is 10. \n",
    "\n",
    "Furthermore, just like you can call your coffee machine every morning, and get a fresh coffee by providing new milk and bean to it, similarly, we can call the function again and again by providing new inputs to it. \n",
    "Let's call the double function again"
   ]
  },
  {
   "cell_type": "code",
   "execution_count": 32,
   "id": "99dc7ed6-401d-4ad6-9ada-8c83b491ae3d",
   "metadata": {},
   "outputs": [
    {
     "data": {
      "text/plain": [
       "20"
      ]
     },
     "execution_count": 32,
     "metadata": {},
     "output_type": "execute_result"
    }
   ],
   "source": [
    "double(10)"
   ]
  },
  {
   "cell_type": "code",
   "execution_count": 33,
   "id": "d8cd20de-4836-4e75-b3e4-9fd2fce3f33e",
   "metadata": {},
   "outputs": [
    {
     "data": {
      "text/plain": [
       "770"
      ]
     },
     "execution_count": 33,
     "metadata": {},
     "output_type": "execute_result"
    }
   ],
   "source": [
    "double(385)"
   ]
  },
  {
   "cell_type": "code",
   "execution_count": 34,
   "id": "9f02e286-6203-4b41-9540-917ec3ebac81",
   "metadata": {},
   "outputs": [
    {
     "data": {
      "text/plain": [
       "-3.8"
      ]
     },
     "execution_count": 34,
     "metadata": {},
     "output_type": "execute_result"
    }
   ],
   "source": [
    "double(-9.5/5) # can pass expression which returns a number as input to the function"
   ]
  },
  {
   "cell_type": "code",
   "execution_count": 35,
   "id": "20b3a674-7786-4fcd-8ec7-3ca19512683d",
   "metadata": {},
   "outputs": [
    {
     "data": {
      "text/plain": [
       "6"
      ]
     },
     "execution_count": 35,
     "metadata": {},
     "output_type": "execute_result"
    }
   ],
   "source": [
    "some_value = 3\n",
    "double(some_value) # can even pass a variable to a function input (parameter)"
   ]
  },
  {
   "cell_type": "markdown",
   "id": "985d41bd-5cf9-4de1-94d4-fd4abd897513",
   "metadata": {},
   "source": [
    "Suppose we want to store the result returned by the function so that we can use it later, to do that, we can store the result returned by the function in some variable. Like the following:"
   ]
  },
  {
   "cell_type": "code",
   "execution_count": 36,
   "id": "3b4c719f-a9e7-495d-ad72-b24faa2762cc",
   "metadata": {},
   "outputs": [
    {
     "data": {
      "text/plain": [
       "20"
      ]
     },
     "execution_count": 36,
     "metadata": {},
     "output_type": "execute_result"
    }
   ],
   "source": [
    "ans = double(10)\n",
    "ans"
   ]
  },
  {
   "cell_type": "markdown",
   "id": "5a78aca4-4eaa-4555-aa0e-a3678d5fa1b2",
   "metadata": {},
   "source": [
    "This is same as when a coffee is produced by the coffee maker machine, you would need a cup to store the returned coffee by the machine, so that you can drink it later. Similarly, we are storing the value returned by the function in a variable `ans` in the above example."
   ]
  },
  {
   "cell_type": "markdown",
   "id": "5788dde1-3f70-42b1-9ae5-9d509e3309b8",
   "metadata": {},
   "source": [
    "### Function Arguments\n",
    "\n",
    "Terminologies: <br>\n",
    "**Parameter** : A parameter is a variable listed inside the paranthesis in the function definition<br>\n",
    "**Argument**: An argument is the value that is sent to the function when it is called. \n",
    "\n",
    "For eg:<br>\n",
    "```\n",
    "def double(x):\n",
    "    return 2 * x\n",
    "    \n",
    "\n",
    "double(5)\n",
    "```\n",
    "\n",
    "Here, x is the parameter and the value 5 is the argument assigned to parameter when the function is called. "
   ]
  },
  {
   "cell_type": "markdown",
   "id": "8cb0447d-c4eb-4298-a8c0-2b89a4e8a462",
   "metadata": {},
   "source": [
    "By default, a function must be called with the correct number of arguments and in the same order. Meaning that if your function accepts two parameters (name and age), then you have to call the functions with 2 arguments (not more, and not less) and in the same order. \n",
    "\n",
    "For eg:"
   ]
  },
  {
   "cell_type": "code",
   "execution_count": 37,
   "id": "967373fe-bdd5-4db5-81c6-780dc9a6427b",
   "metadata": {},
   "outputs": [],
   "source": [
    "def payBill(item_name, quantity, price_per_item):\n",
    "    total_cost = price_per_item * quantity\n",
    "    print(\"The total cost of the item {} is {}\".format(item_name, total_cost))"
   ]
  },
  {
   "cell_type": "code",
   "execution_count": 38,
   "id": "3d7bb304-c24d-43e9-8157-a131940b97b1",
   "metadata": {},
   "outputs": [
    {
     "name": "stdout",
     "output_type": "stream",
     "text": [
      "The total cost of the item Diet coke is 6.0\n"
     ]
    }
   ],
   "source": [
    "payBill('Diet coke', 5, 1.2)\n",
    "\n",
    "# Note only two arguments are passed and they are in the same order as the parameter order in the function definition"
   ]
  },
  {
   "cell_type": "code",
   "execution_count": 39,
   "id": "77e86be4-a21b-474e-9c69-1774467420b8",
   "metadata": {},
   "outputs": [
    {
     "name": "stdout",
     "output_type": "stream",
     "text": [
      "The total cost of the item Diet coke is 6.0\n"
     ]
    }
   ],
   "source": [
    "payBill('Diet coke', 5, 1.2)\n",
    "\n",
    "# Note only two arguments are passed and they are in the same order as the parameter order in the function definition"
   ]
  },
  {
   "cell_type": "code",
   "execution_count": 40,
   "id": "eeb85d58-42d8-45f1-b9fa-96f9b8427cc3",
   "metadata": {},
   "outputs": [
    {
     "ename": "TypeError",
     "evalue": "payBill() missing 1 required positional argument: 'price_per_item'",
     "output_type": "error",
     "traceback": [
      "\u001b[1;31m---------------------------------------------------------------------------\u001b[0m",
      "\u001b[1;31mTypeError\u001b[0m                                 Traceback (most recent call last)",
      "Cell \u001b[1;32mIn[40], line 3\u001b[0m\n\u001b[0;32m      1\u001b[0m \u001b[38;5;66;03m# What happens if we call the function with lesser number of arguments?\u001b[39;00m\n\u001b[1;32m----> 3\u001b[0m payBill(\u001b[38;5;124m'\u001b[39m\u001b[38;5;124mDiet coke\u001b[39m\u001b[38;5;124m'\u001b[39m, \u001b[38;5;241m5\u001b[39m)\n",
      "\u001b[1;31mTypeError\u001b[0m: payBill() missing 1 required positional argument: 'price_per_item'"
     ]
    }
   ],
   "source": [
    "# What happens if we call the function with lesser number of arguments?\n",
    "\n",
    "payBill('Diet coke', 5)"
   ]
  },
  {
   "cell_type": "code",
   "execution_count": 41,
   "id": "e948a4fc-9c14-4a7d-8e19-c2b43600af8f",
   "metadata": {},
   "outputs": [
    {
     "ename": "TypeError",
     "evalue": "can't multiply sequence by non-int of type 'float'",
     "output_type": "error",
     "traceback": [
      "\u001b[1;31m---------------------------------------------------------------------------\u001b[0m",
      "\u001b[1;31mTypeError\u001b[0m                                 Traceback (most recent call last)",
      "Cell \u001b[1;32mIn[41], line 3\u001b[0m\n\u001b[0;32m      1\u001b[0m \u001b[38;5;66;03m# What happens if we keep the number of arguments same but change the order of the arguments?\u001b[39;00m\n\u001b[1;32m----> 3\u001b[0m payBill(\u001b[38;5;241m5\u001b[39m, \u001b[38;5;124m'\u001b[39m\u001b[38;5;124mDiet coke\u001b[39m\u001b[38;5;124m'\u001b[39m, \u001b[38;5;241m1.2\u001b[39m)\n",
      "Cell \u001b[1;32mIn[37], line 2\u001b[0m, in \u001b[0;36mpayBill\u001b[1;34m(item_name, quantity, price_per_item)\u001b[0m\n\u001b[0;32m      1\u001b[0m \u001b[38;5;28;01mdef\u001b[39;00m \u001b[38;5;21mpayBill\u001b[39m(item_name, quantity, price_per_item):\n\u001b[1;32m----> 2\u001b[0m     total_cost \u001b[38;5;241m=\u001b[39m price_per_item \u001b[38;5;241m*\u001b[39m quantity\n\u001b[0;32m      3\u001b[0m     \u001b[38;5;28mprint\u001b[39m(\u001b[38;5;124m\"\u001b[39m\u001b[38;5;124mThe total cost of the item \u001b[39m\u001b[38;5;132;01m{}\u001b[39;00m\u001b[38;5;124m is \u001b[39m\u001b[38;5;132;01m{}\u001b[39;00m\u001b[38;5;124m\"\u001b[39m\u001b[38;5;241m.\u001b[39mformat(item_name, total_cost))\n",
      "\u001b[1;31mTypeError\u001b[0m: can't multiply sequence by non-int of type 'float'"
     ]
    }
   ],
   "source": [
    "# What happens if we keep the number of arguments same but change the order of the arguments?\n",
    "\n",
    "payBill(5, 'Diet coke', 1.2)"
   ]
  },
  {
   "cell_type": "markdown",
   "id": "7323b73c-119b-456f-9796-3e7cc38a6a94",
   "metadata": {},
   "source": [
    "### Function which takes no parameters and return no values"
   ]
  },
  {
   "cell_type": "raw",
   "id": "78913ff7-71d9-41cc-8492-31a6387bcbfa",
   "metadata": {},
   "source": [
    "# BEGIN QUESTION\n",
    "name: q11"
   ]
  },
  {
   "cell_type": "markdown",
   "id": "5ed52531-79df-4fb8-b758-b3955bccde98",
   "metadata": {},
   "source": [
    "### Question 11\n",
    "\n",
    "Write a python function named `printMsg` and print your byline `Programmed by <your name>` here. Don't forget to replace `<your name>` with your name. "
   ]
  },
  {
   "cell_type": "raw",
   "id": "c1b1420c-521a-4090-ad8c-472671529117",
   "metadata": {},
   "source": [
    "# BEGIN SOLUTION"
   ]
  },
  {
   "cell_type": "code",
   "execution_count": 42,
   "id": "51ffa161-5e47-4ad1-9349-8fe979b6c1d2",
   "metadata": {},
   "outputs": [],
   "source": [
    "\"\"\"# BEGIN PROMPT\n",
    "def ...\n",
    "    print(...)\n",
    "\"\"\"# END PROMPT\n",
    "def printMsg(): # SOLUTION NO PROMPT\n",
    "    print(\"Programmed by Dipak Singh\") # SOLUTION NO PROMPT"
   ]
  },
  {
   "cell_type": "raw",
   "id": "95744b6b-e8a1-43d7-a25d-e9e1aa9290a9",
   "metadata": {},
   "source": [
    "# END SOLUTION"
   ]
  },
  {
   "cell_type": "raw",
   "id": "e4aa4fbf-138f-4600-a187-05387044fc36",
   "metadata": {},
   "source": [
    "# BEGIN SOLUTION"
   ]
  },
  {
   "cell_type": "markdown",
   "id": "067a8ef8-a937-41ed-9ad8-4ac316d79aa8",
   "metadata": {},
   "source": [
    "Now call the function to print the message. "
   ]
  },
  {
   "cell_type": "code",
   "execution_count": 43,
   "id": "2b5dc20f-4aa7-49d8-a002-c46b9e67a484",
   "metadata": {},
   "outputs": [
    {
     "name": "stdout",
     "output_type": "stream",
     "text": [
      "Programmed by Dipak Singh\n"
     ]
    }
   ],
   "source": [
    "printMsg() # Calling the function"
   ]
  },
  {
   "cell_type": "raw",
   "id": "7603b4b8-0aec-468d-b4a4-cbffe93b82c4",
   "metadata": {},
   "source": [
    "# END SOLUTION"
   ]
  },
  {
   "cell_type": "raw",
   "id": "6bf390e2-2bdc-4170-ba20-01001161db0c",
   "metadata": {},
   "source": [
    "# BEGIN TESTS"
   ]
  },
  {
   "cell_type": "raw",
   "id": "8a482037-4cc1-44f5-8b06-bf18ee1e56c2",
   "metadata": {},
   "source": [
    "# END TESTS"
   ]
  },
  {
   "cell_type": "raw",
   "id": "bf6b79c5-7600-4dde-9ba0-33a4784661aa",
   "metadata": {},
   "source": [
    "# END QUESTION"
   ]
  },
  {
   "cell_type": "raw",
   "id": "a4c880ba-dbe6-49dd-a722-25f039c9263b",
   "metadata": {},
   "source": [
    "# BEGIN QUESTION\n",
    "name: q12"
   ]
  },
  {
   "cell_type": "markdown",
   "id": "ef39bca4-48e4-4423-a1aa-fba737d52f52",
   "metadata": {},
   "source": [
    "### Question 12\n",
    "Write a python function named `add_2_5` and print the sum of the numbers 2 and 5. Let python do the addition, you shouldn't add 2 and 5 by yourself. "
   ]
  },
  {
   "cell_type": "raw",
   "id": "8f835547-897c-4b92-b254-b80eb1cb70e2",
   "metadata": {},
   "source": [
    "# BEGIN SOLUTION"
   ]
  },
  {
   "cell_type": "code",
   "execution_count": 44,
   "id": "694d59f0-f748-4b21-bf3c-f7bf9252d1a3",
   "metadata": {},
   "outputs": [],
   "source": [
    "\"\"\"# BEGIN PROMPT\n",
    "... add_2_5:\n",
    "    ...\n",
    "\"\"\"# END PROMPT\n",
    "def add_2_5(): # SOLUTION NO PROMPT\n",
    "    print(2 + 5) # SOLUTION NO PROMPT"
   ]
  },
  {
   "cell_type": "raw",
   "id": "eca3cf5c-629c-4f04-8e21-532362b46afc",
   "metadata": {},
   "source": [
    "# END SOLUTION"
   ]
  },
  {
   "cell_type": "markdown",
   "id": "9a08b50c-bf20-4dba-b00d-083290470baf",
   "metadata": {},
   "source": [
    "Now call the function to print the result. "
   ]
  },
  {
   "cell_type": "raw",
   "id": "7d97f3a0-76db-4b17-b501-05e5a2ee2485",
   "metadata": {},
   "source": [
    "# BEGIN SOLUTION"
   ]
  },
  {
   "cell_type": "code",
   "execution_count": 45,
   "id": "c9d3f8cf-6c70-4430-b0ae-2c77004ea570",
   "metadata": {},
   "outputs": [
    {
     "name": "stdout",
     "output_type": "stream",
     "text": [
      "7\n"
     ]
    }
   ],
   "source": [
    "add_2_5() # SOLUTION "
   ]
  },
  {
   "cell_type": "raw",
   "id": "0746a328-a146-4860-9031-ba6a880790c2",
   "metadata": {},
   "source": [
    "# END SOLUTION"
   ]
  },
  {
   "cell_type": "raw",
   "id": "a40daa47-44c1-425c-b86a-057f120cf0e4",
   "metadata": {},
   "source": [
    "# BEGIN TESTS"
   ]
  },
  {
   "cell_type": "raw",
   "id": "8b0aec71-7de5-4399-95fe-06fb0322ab51",
   "metadata": {},
   "source": [
    "# END TESTS"
   ]
  },
  {
   "cell_type": "raw",
   "id": "3aab3f61-2451-4b6b-8562-d6eef18df7fb",
   "metadata": {},
   "source": [
    "# END QUESTION"
   ]
  },
  {
   "cell_type": "raw",
   "id": "f589baf0-00c4-490e-9f31-3f12772777d6",
   "metadata": {},
   "source": [
    "# BEGIN QUESTION\n",
    "name: q13"
   ]
  },
  {
   "cell_type": "markdown",
   "id": "1842c482-a7fe-4e95-a90f-faa4b8930a6d",
   "metadata": {},
   "source": [
    "### Question 13\n",
    "Write a python function named `findMsgSize` to print the number of characters in a string, `Hello, how are you?`. \n",
    "\n",
    "Hint: Use `len` in-built python function"
   ]
  },
  {
   "cell_type": "raw",
   "id": "ca8604d3-a2fc-4ac6-8ee6-1198270ee313",
   "metadata": {},
   "source": [
    "# BEGIN SOLUTION"
   ]
  },
  {
   "cell_type": "code",
   "execution_count": 46,
   "id": "fbc45439-8838-4f2c-9cab-bcdfafe62be3",
   "metadata": {},
   "outputs": [],
   "source": [
    "\"\"\"# BEGIN PROMPT\n",
    "...\n",
    "    ...\n",
    "\"\"\"# END PROMPT\n",
    "def findMsgSize(): # SOLUTION NO PROMPT\n",
    "    size = len(\"Hello, how are you?\") # SOLUTION NO PROMPT\n",
    "    print(size) # SOLUTION NO PROMPT"
   ]
  },
  {
   "cell_type": "raw",
   "id": "5dd14b45-6ade-495d-ae4c-b2a35c4b0063",
   "metadata": {},
   "source": [
    "# END SOLUTION"
   ]
  },
  {
   "cell_type": "markdown",
   "id": "8bb6a505-ef15-4092-995f-c138b21ef140",
   "metadata": {},
   "source": [
    "Now call the function to print the result. It should print 19"
   ]
  },
  {
   "cell_type": "raw",
   "id": "03591c33-93b7-48b3-9e84-a6cfa76f1666",
   "metadata": {},
   "source": [
    "# BEGIN SOLUTION"
   ]
  },
  {
   "cell_type": "code",
   "execution_count": 47,
   "id": "e224832a-a585-4649-9072-bfb9f2d85a15",
   "metadata": {},
   "outputs": [
    {
     "name": "stdout",
     "output_type": "stream",
     "text": [
      "19\n"
     ]
    }
   ],
   "source": [
    "findMsgSize() # SOLUTION"
   ]
  },
  {
   "cell_type": "raw",
   "id": "b3b1eac6-40ca-4d80-bfb3-cb6d48904d41",
   "metadata": {},
   "source": [
    "# END SOLUTION"
   ]
  },
  {
   "cell_type": "raw",
   "id": "68aaa0dd-2b60-4860-bd8a-d9f48ed7b539",
   "metadata": {},
   "source": [
    "# BEGIN TESTS"
   ]
  },
  {
   "cell_type": "raw",
   "id": "4d12659a-ef09-46b1-b037-9177a64d5c87",
   "metadata": {},
   "source": [
    "# END TESTS"
   ]
  },
  {
   "cell_type": "raw",
   "id": "19091f7f-242b-4c0f-aa09-01bc3f8f694f",
   "metadata": {},
   "source": [
    "# END QUESTION"
   ]
  },
  {
   "cell_type": "raw",
   "id": "9c896df2-e1a0-4672-bbcc-fdbba7525ee4",
   "metadata": {},
   "source": [
    "# BEGIN QUESTION\n",
    "name: q14"
   ]
  },
  {
   "cell_type": "markdown",
   "id": "f78a301e-88b3-451f-9ff4-91d48c37fe69",
   "metadata": {},
   "source": [
    "### Question 14\n",
    "Write a python function named `isOdd` to print 1 if the number `485` is odd, else print 0. \n",
    "\n",
    "Hint: Use `modulo` operator"
   ]
  },
  {
   "cell_type": "raw",
   "id": "37f84d68-7431-4329-9c28-a0218cc52c85",
   "metadata": {},
   "source": [
    "# BEGIN SOLUTION"
   ]
  },
  {
   "cell_type": "code",
   "execution_count": 48,
   "id": "86b8b034-9c08-4be4-8def-f7f47548c571",
   "metadata": {},
   "outputs": [],
   "source": [
    "\"\"\"# BEGIN PROMPT\n",
    "...\n",
    "    ...\n",
    "\"\"\"# END PROMPT\n",
    "def isOdd(): # SOLUTION NO PROMPT\n",
    "    result = 485 % 2 # SOLUTION NO PROMPT\n",
    "    print(result) # SOLUTION NO PROMPT"
   ]
  },
  {
   "cell_type": "raw",
   "id": "04dbe74c-6759-4fcf-9af4-a7a52fc94e7c",
   "metadata": {},
   "source": [
    "# END SOLUTION"
   ]
  },
  {
   "cell_type": "markdown",
   "id": "e3161061-5a95-4818-b957-52966992e2c3",
   "metadata": {},
   "source": [
    "Now call the function to print the result. It should print 1."
   ]
  },
  {
   "cell_type": "raw",
   "id": "80efdf24-0bdb-4be2-bc73-4c1b4c78b39a",
   "metadata": {},
   "source": [
    "# BEGIN SOLUTION"
   ]
  },
  {
   "cell_type": "code",
   "execution_count": 49,
   "id": "6b468189-5a7e-41d0-8c36-4fd6eabcf70e",
   "metadata": {},
   "outputs": [
    {
     "name": "stdout",
     "output_type": "stream",
     "text": [
      "1\n"
     ]
    }
   ],
   "source": [
    "isOdd() # SOLUTION"
   ]
  },
  {
   "cell_type": "raw",
   "id": "79889c33-cd41-4bc2-82d5-09557ff12dce",
   "metadata": {},
   "source": [
    "# END SOLUTION"
   ]
  },
  {
   "cell_type": "raw",
   "id": "e494a371-ede6-4fda-87aa-349a30ba6469",
   "metadata": {},
   "source": [
    "# BEGIN TESTS"
   ]
  },
  {
   "cell_type": "raw",
   "id": "3be9be70-18b9-42c0-b476-b61141e9d5fd",
   "metadata": {},
   "source": [
    "# END TESTS"
   ]
  },
  {
   "cell_type": "raw",
   "id": "896eddd9-c1c5-476f-8acf-f83280787313",
   "metadata": {},
   "source": [
    "# END QUESTION"
   ]
  },
  {
   "cell_type": "raw",
   "id": "37634a8a-b0a2-40be-8864-c2b840980713",
   "metadata": {},
   "source": [
    "# BEGIN QUESTION\n",
    "name: q15"
   ]
  },
  {
   "cell_type": "markdown",
   "id": "3c8345fb-7989-425a-a802-c85525153c47",
   "metadata": {},
   "source": [
    "### Question 15\n",
    "Write a python function named `findMax` to print the maximum of the numbers, `45, 943, 96`\n",
    "\n",
    "Hint: Use `max` in-built function"
   ]
  },
  {
   "cell_type": "raw",
   "id": "4cf72e26-42ac-41bc-b4ff-2646271247a9",
   "metadata": {},
   "source": [
    "# BEGIN SOLUTION"
   ]
  },
  {
   "cell_type": "code",
   "execution_count": 50,
   "id": "09e45b33-db39-4e26-ad06-a15e6fd428d3",
   "metadata": {},
   "outputs": [],
   "source": [
    "\"\"\"# BEGIN PROMPT\n",
    "...\n",
    "    ...\n",
    "\"\"\"# END PROMPT\n",
    "def findMax(): # SOLUTION NO PROMPT\n",
    "    result = max(45, 943, 96) # SOLUTION NO PROMPT\n",
    "    print(result) # SOLUTION NO PROMPT"
   ]
  },
  {
   "cell_type": "raw",
   "id": "941abd2b-d9a0-40e4-b013-ef8a82aea9f1",
   "metadata": {},
   "source": [
    "# END SOLUTION"
   ]
  },
  {
   "cell_type": "markdown",
   "id": "704b32ba-cda4-4de1-855a-438effd3e3cf",
   "metadata": {},
   "source": [
    "Now call the function to print the result. It should print 943."
   ]
  },
  {
   "cell_type": "raw",
   "id": "0fd2a062-a491-4417-bc5e-6c322dfdcc14",
   "metadata": {},
   "source": [
    "# BEGIN SOLUTION"
   ]
  },
  {
   "cell_type": "code",
   "execution_count": 51,
   "id": "d82819e7-098e-4b83-8103-956b1eb531a6",
   "metadata": {},
   "outputs": [
    {
     "name": "stdout",
     "output_type": "stream",
     "text": [
      "943\n"
     ]
    }
   ],
   "source": [
    "findMax() # SOLUTION"
   ]
  },
  {
   "cell_type": "raw",
   "id": "74479ea9-91cf-47ad-a81a-1f33d681f855",
   "metadata": {},
   "source": [
    "# END SOLUTION"
   ]
  },
  {
   "cell_type": "raw",
   "id": "e1415e5d-805c-4ba9-a4c1-b6f8ca5e2096",
   "metadata": {},
   "source": [
    "# BEGIN TESTS"
   ]
  },
  {
   "cell_type": "raw",
   "id": "f2f34cf9-3fec-4281-836b-610aa878c5b2",
   "metadata": {},
   "source": [
    "# END TESTS"
   ]
  },
  {
   "cell_type": "raw",
   "id": "974219b6-bc72-4b35-ab2d-b687c3fee694",
   "metadata": {},
   "source": [
    "# END QUESTION"
   ]
  },
  {
   "cell_type": "markdown",
   "id": "6593c534-dedd-487e-9220-aef7575f3eca",
   "metadata": {},
   "source": [
    "### Function which takes no parameters and return a value"
   ]
  },
  {
   "cell_type": "raw",
   "id": "b2ea3c20-163f-4d43-9e1d-5f60ef84b917",
   "metadata": {},
   "source": [
    "# BEGIN QUESTION\n",
    "name: q16"
   ]
  },
  {
   "cell_type": "markdown",
   "id": "cced623e-8a48-498e-b02c-a58d863aef9a",
   "metadata": {},
   "source": [
    "### Question 16\n",
    "Write a python function named `convertToUpper` which converts the name `Dipak Singh` in all UPPERCASE letters and returns it. Store the returned value in a variable `name_in_caps`. \n",
    "\n",
    "Hint: Do not convert the name to uppercase by yourself, rely on the function `String.upper` to do this. You can read [here](https://www.w3schools.com/python/ref_string_upper.asp) to see how to do it. "
   ]
  },
  {
   "cell_type": "raw",
   "id": "ec967417-9988-4456-8552-71a0b5e3d1b3",
   "metadata": {},
   "source": [
    "# BEGIN SOLUTION"
   ]
  },
  {
   "cell_type": "code",
   "execution_count": 52,
   "id": "803a01aa-0c17-44ad-bdf7-f6e16c3d0656",
   "metadata": {},
   "outputs": [],
   "source": [
    "\"\"\"# BEGIN PROMPT\n",
    "...\n",
    "    ...\n",
    "    return ...\n",
    "\"\"\"# END PROMPT\n",
    "def convertToUpper(): # SOLUTION NO PROMPT\n",
    "    name = \"Dipak Singh\" # SOLUTION NO PROMPT\n",
    "    result = name.upper() # SOLUTION NO PROMPT\n",
    "    return result  # SOLUTION NO PROMPT"
   ]
  },
  {
   "cell_type": "raw",
   "id": "e567c900-4150-4afe-aaa0-650d948e14ab",
   "metadata": {},
   "source": [
    "# END SOLUTION"
   ]
  },
  {
   "cell_type": "markdown",
   "id": "7f83ae7f-b77e-4302-bd69-c1455aab838a",
   "metadata": {},
   "source": [
    "Now call the function."
   ]
  },
  {
   "cell_type": "raw",
   "id": "381f43b2-7a6b-4592-9908-dbeaedda3490",
   "metadata": {},
   "source": [
    "# BEGIN SOLUTION"
   ]
  },
  {
   "cell_type": "code",
   "execution_count": 53,
   "id": "2db0dad0-8f95-4a6e-8366-63230bd28256",
   "metadata": {},
   "outputs": [
    {
     "name": "stdout",
     "output_type": "stream",
     "text": [
      "DIPAK SINGH\n"
     ]
    }
   ],
   "source": [
    "name_in_caps = convertToUpper() # SOLUTION\n",
    "print(name_in_caps)"
   ]
  },
  {
   "cell_type": "raw",
   "id": "0a45050c-51fc-4e11-8b96-c7da801392de",
   "metadata": {},
   "source": [
    "# END SOLUTION"
   ]
  },
  {
   "cell_type": "raw",
   "id": "f1d83a60-c4b7-4bb4-8ef3-88b060ca95bb",
   "metadata": {},
   "source": [
    "# BEGIN TESTS"
   ]
  },
  {
   "cell_type": "code",
   "execution_count": 54,
   "id": "09c3ae29-4c76-4eb5-8b49-04c1b10a517d",
   "metadata": {},
   "outputs": [
    {
     "data": {
      "text/plain": [
       "True"
      ]
     },
     "execution_count": 54,
     "metadata": {},
     "output_type": "execute_result"
    }
   ],
   "source": [
    "name_in_caps == \"DIPAK SINGH\""
   ]
  },
  {
   "cell_type": "raw",
   "id": "a418f96f-5723-460a-a7c8-67942d8558c2",
   "metadata": {},
   "source": [
    "# END TESTS"
   ]
  },
  {
   "cell_type": "raw",
   "id": "f71f8665-d20f-4f27-ba95-87ab869d6920",
   "metadata": {},
   "source": [
    "# END QUESTION"
   ]
  },
  {
   "cell_type": "raw",
   "id": "3d6d5671-1a10-417a-8ec7-cb7318b5e139",
   "metadata": {},
   "source": [
    "# BEGIN QUESTION\n",
    "name: q17"
   ]
  },
  {
   "cell_type": "markdown",
   "id": "092b38d6-90e4-4bda-9cac-cbf86eff343a",
   "metadata": {},
   "source": [
    "### Question 17\n",
    "Write a python function named `generateRandomNum` which returns a random 5 digit number. Store the returned value in a variable `randNum`. \n",
    "\n",
    "Hint: Use `random.randint` function. You may read [here](https://www.w3schools.com/python/ref_random_randint.asp)"
   ]
  },
  {
   "cell_type": "raw",
   "id": "8c6b8be0-1c0e-4292-ac07-cfcf85f064a8",
   "metadata": {},
   "source": [
    "# BEGIN SOLUTION"
   ]
  },
  {
   "cell_type": "code",
   "execution_count": 55,
   "id": "dfac0685-40db-4c79-b1eb-d2e5297c958d",
   "metadata": {},
   "outputs": [],
   "source": [
    "import random # It's important to import the module first\n",
    "\n",
    "\"\"\"# BEGIN PROMPT\n",
    "...\n",
    "    ...\n",
    "\"\"\"# END PROMPT\n",
    "def generateRandomNum(): # SOLUTION NO PROMPT\n",
    "    result = random.randint(10000, 99999) # SOLUTION NO PROMPT\n",
    "    return result  # SOLUTION NO PROMPT"
   ]
  },
  {
   "cell_type": "raw",
   "id": "b95032c6-18d0-4e7e-a1f3-ae8197a0746d",
   "metadata": {},
   "source": [
    "# END SOLUTION"
   ]
  },
  {
   "cell_type": "markdown",
   "id": "56827de6-4b2b-4331-91d4-3a31002ad8a4",
   "metadata": {},
   "source": [
    "Now call the function. "
   ]
  },
  {
   "cell_type": "raw",
   "id": "1bde09c6-4894-4474-b82c-a24c30f710d5",
   "metadata": {},
   "source": [
    "# BEGIN SOLUTION"
   ]
  },
  {
   "cell_type": "code",
   "execution_count": 56,
   "id": "11fbbed8-2528-4dce-99dd-33a1fa304958",
   "metadata": {},
   "outputs": [
    {
     "name": "stdout",
     "output_type": "stream",
     "text": [
      "95252\n"
     ]
    }
   ],
   "source": [
    "randNum = generateRandomNum() # SOLUTION\n",
    "print(randNum)"
   ]
  },
  {
   "cell_type": "raw",
   "id": "d8394b0a-b1f8-49af-9a47-93f38391cfeb",
   "metadata": {},
   "source": [
    "# END SOLUTION"
   ]
  },
  {
   "cell_type": "raw",
   "id": "6b849f86-2364-40a8-b3f7-9e7a9d1e6bdc",
   "metadata": {},
   "source": [
    "# BEGIN TESTS"
   ]
  },
  {
   "cell_type": "code",
   "execution_count": 57,
   "id": "7dc15d49-4f95-46a3-bf1a-05d2591aa4c1",
   "metadata": {},
   "outputs": [
    {
     "data": {
      "text/plain": [
       "True"
      ]
     },
     "execution_count": 57,
     "metadata": {},
     "output_type": "execute_result"
    }
   ],
   "source": [
    "10000 <= randNum <= 99999"
   ]
  },
  {
   "cell_type": "raw",
   "id": "eddb92bd-d866-4b8a-9de5-0eb92b8a3403",
   "metadata": {},
   "source": [
    "# END TESTS"
   ]
  },
  {
   "cell_type": "raw",
   "id": "f536fa1f-a989-47b4-9087-5cdcc27df6e6",
   "metadata": {},
   "source": [
    "# END QUESTION"
   ]
  },
  {
   "cell_type": "raw",
   "id": "c8c00f78-4776-480a-a67b-fbafec9231ec",
   "metadata": {},
   "source": [
    "# BEGIN QUESTION\n",
    "name: q18"
   ]
  },
  {
   "cell_type": "markdown",
   "id": "4d8dcb2a-3c83-4aa0-a784-75610fcd850b",
   "metadata": {},
   "source": [
    "### Question 18\n",
    "\n",
    "Write a python function named `countLetters` that returns the total number of characters in the string, `Hello, how are you?`. Store the  result in the variable `msgSize`. "
   ]
  },
  {
   "cell_type": "raw",
   "id": "0d3ebbe1-edb9-4c85-bc97-9b6f18a8d585",
   "metadata": {},
   "source": [
    "# BEGIN SOLUTION"
   ]
  },
  {
   "cell_type": "code",
   "execution_count": 58,
   "id": "fc208d61-a6cc-400e-950b-fe152179c752",
   "metadata": {},
   "outputs": [],
   "source": [
    "\"\"\"# BEGIN PROMPT\n",
    "...\n",
    "    ...\n",
    "\"\"\"# END PROMPT\n",
    "def countLetters(): # SOLUTION NO PROMPT\n",
    "    msg = \"Hello, how are you?\" # SOLUTION NO PROMPT\n",
    "    result = len(msg) # SOLUTION NO PROMPT\n",
    "    return result  # SOLUTION NO PROMPT"
   ]
  },
  {
   "cell_type": "raw",
   "id": "7ac911b1-7cbc-413f-84a3-d0817925d906",
   "metadata": {},
   "source": [
    "# END SOLUTION"
   ]
  },
  {
   "cell_type": "markdown",
   "id": "76cdfbe0-a2b7-41a4-8774-86f6567173c1",
   "metadata": {},
   "source": [
    "Now call the function. "
   ]
  },
  {
   "cell_type": "raw",
   "id": "ce09b97b-5c43-4949-aa79-c4295c5393d4",
   "metadata": {},
   "source": [
    "# BEGIN SOLUTION"
   ]
  },
  {
   "cell_type": "code",
   "execution_count": 59,
   "id": "f30ed715-cf06-4fa2-ba68-5d499944081c",
   "metadata": {},
   "outputs": [
    {
     "name": "stdout",
     "output_type": "stream",
     "text": [
      "19\n"
     ]
    }
   ],
   "source": [
    "msgSize = countLetters() # SOLUTION\n",
    "print(msgSize)"
   ]
  },
  {
   "cell_type": "raw",
   "id": "192f3933-4f19-4bc6-b589-cf2730ebfcff",
   "metadata": {},
   "source": [
    "# END SOLUTION"
   ]
  },
  {
   "cell_type": "raw",
   "id": "c7dc11aa-ce3d-47ae-b4f8-520e45b0219a",
   "metadata": {},
   "source": [
    "# BEGIN TESTS"
   ]
  },
  {
   "cell_type": "code",
   "execution_count": 60,
   "id": "517df8e6-a5d9-4faa-86bb-970ea7058014",
   "metadata": {},
   "outputs": [
    {
     "data": {
      "text/plain": [
       "True"
      ]
     },
     "execution_count": 60,
     "metadata": {},
     "output_type": "execute_result"
    }
   ],
   "source": [
    "msgSize == 19"
   ]
  },
  {
   "cell_type": "raw",
   "id": "3f18b5f7-3d30-4910-a170-5cd1e88afe98",
   "metadata": {},
   "source": [
    "# END TESTS"
   ]
  },
  {
   "cell_type": "raw",
   "id": "c81771d7-f816-47fb-bbe9-b5c3fbf0faf2",
   "metadata": {},
   "source": [
    "# END QUESTION"
   ]
  },
  {
   "cell_type": "raw",
   "id": "e0d0e133-80d4-47f1-9667-14605caa8d89",
   "metadata": {},
   "source": [
    "# BEGIN QUESTION\n",
    "name: q19"
   ]
  },
  {
   "cell_type": "markdown",
   "id": "44993a75-379f-466f-bd11-a59ff951635b",
   "metadata": {},
   "source": [
    "### Question 19\n",
    "Write a python function named `findMax` that returns the maximum of four numbers, 45, 92, 25, 39. Store the result in a variable `maxNum`. "
   ]
  },
  {
   "cell_type": "raw",
   "id": "0d7d552e-d5aa-4578-8230-8d2fe636c549",
   "metadata": {},
   "source": [
    "# BEGIN SOLUTION"
   ]
  },
  {
   "cell_type": "code",
   "execution_count": 61,
   "id": "28156402-2c62-4dc3-b85d-5d9108808f4d",
   "metadata": {},
   "outputs": [],
   "source": [
    "\"\"\"# BEGIN PROMPT\n",
    "...\n",
    "    ...\n",
    "\"\"\"# END PROMPT\n",
    "def findMax(): # SOLUTION NO PROMPT\n",
    "    result = max(45, 92, 25, 39) # SOLUTION NO PROMPT\n",
    "    return result  # SOLUTION NO PROMPT"
   ]
  },
  {
   "cell_type": "raw",
   "id": "48fae8e7-748b-41fb-9ebd-90c9567210fb",
   "metadata": {},
   "source": [
    "# END SOLUTION"
   ]
  },
  {
   "cell_type": "markdown",
   "id": "4fa77aed-aa98-4d3d-aecc-83591ab28eb4",
   "metadata": {},
   "source": [
    "Now call the function. "
   ]
  },
  {
   "cell_type": "raw",
   "id": "73e3c285-1acf-42d8-990c-e1338326d37f",
   "metadata": {},
   "source": [
    "# BEGIN SOLUTION"
   ]
  },
  {
   "cell_type": "code",
   "execution_count": 62,
   "id": "a76a05e1-217d-4d05-a3f9-ac1c9adc9219",
   "metadata": {},
   "outputs": [
    {
     "name": "stdout",
     "output_type": "stream",
     "text": [
      "92\n"
     ]
    }
   ],
   "source": [
    "maxNum = findMax() # SOLUTION\n",
    "print(maxNum)"
   ]
  },
  {
   "cell_type": "raw",
   "id": "2964add5-0813-4f6e-a486-7bdbe100a103",
   "metadata": {},
   "source": [
    "# END SOLUTION"
   ]
  },
  {
   "cell_type": "raw",
   "id": "1cc29ffe-d48e-40c0-ad44-1705ae40e825",
   "metadata": {},
   "source": [
    "# BEGIN TESTS"
   ]
  },
  {
   "cell_type": "code",
   "execution_count": 63,
   "id": "9eaf70e4-640e-408e-9163-0813bc497ba7",
   "metadata": {},
   "outputs": [
    {
     "data": {
      "text/plain": [
       "True"
      ]
     },
     "execution_count": 63,
     "metadata": {},
     "output_type": "execute_result"
    }
   ],
   "source": [
    "maxNum == 92"
   ]
  },
  {
   "cell_type": "raw",
   "id": "dc733520-bad3-47f6-8b8d-46d47563c30d",
   "metadata": {},
   "source": [
    "# END TESTS"
   ]
  },
  {
   "cell_type": "raw",
   "id": "07de9fca-0c99-4398-9a3e-e5592d406867",
   "metadata": {},
   "source": [
    "# END QUESTION"
   ]
  },
  {
   "cell_type": "raw",
   "id": "42f025ad-488b-40ae-84cd-a0460f778010",
   "metadata": {},
   "source": [
    "# BEGIN QUESTION\n",
    "name: q20"
   ]
  },
  {
   "cell_type": "markdown",
   "id": "d3887c62-edc4-4636-8119-529defe7661f",
   "metadata": {},
   "source": [
    "### Question 20\n",
    "Write a python function named `findLog` that returns the natural logarithm of 10. Store the result in a variable `log_val`."
   ]
  },
  {
   "cell_type": "raw",
   "id": "69d9bcec-f4ea-424b-88c8-04c1df44a834",
   "metadata": {},
   "source": [
    "# BEGIN SOLUTION"
   ]
  },
  {
   "cell_type": "code",
   "execution_count": 64,
   "id": "49fa5cc4-ff4b-4614-b903-5f32909bfe4d",
   "metadata": {},
   "outputs": [],
   "source": [
    "\"\"\"# BEGIN PROMPT\n",
    "...\n",
    "    ...\n",
    "\"\"\"# END PROMPT\n",
    "def findLog(): # SOLUTION NO PROMPT\n",
    "    result = math.log(10) # SOLUTION NO PROMPT\n",
    "    return result  # SOLUTION NO PROMPT"
   ]
  },
  {
   "cell_type": "raw",
   "id": "ceb7ec12-8738-4c9c-b445-4aa8cdc010c1",
   "metadata": {},
   "source": [
    "# END SOLUTION"
   ]
  },
  {
   "cell_type": "markdown",
   "id": "be08825e-e89f-4521-a52c-3525c1fbcd94",
   "metadata": {},
   "source": [
    "Now call the function. "
   ]
  },
  {
   "cell_type": "raw",
   "id": "55931424-6150-4c1f-b49f-ab7a462a221a",
   "metadata": {},
   "source": [
    "# BEGIN SOLUTION"
   ]
  },
  {
   "cell_type": "code",
   "execution_count": 65,
   "id": "7a1dc858-50df-42c3-b1e7-43323b8ab173",
   "metadata": {},
   "outputs": [
    {
     "name": "stdout",
     "output_type": "stream",
     "text": [
      "2.302585092994046\n"
     ]
    }
   ],
   "source": [
    "log_val = findLog() # SOLUTION\n",
    "print(log_val)"
   ]
  },
  {
   "cell_type": "raw",
   "id": "add61fe2-4ac0-4265-ac99-638b84e89e53",
   "metadata": {},
   "source": [
    "# END SOLUTION"
   ]
  },
  {
   "cell_type": "raw",
   "id": "11af2f70-0a11-40ab-bf34-cce967e6d564",
   "metadata": {},
   "source": [
    "# BEGIN TESTS"
   ]
  },
  {
   "cell_type": "code",
   "execution_count": 66,
   "id": "ec0f62b3-57f2-44f3-bb2c-f2880125bfef",
   "metadata": {},
   "outputs": [
    {
     "data": {
      "text/plain": [
       "True"
      ]
     },
     "execution_count": 66,
     "metadata": {},
     "output_type": "execute_result"
    }
   ],
   "source": [
    "math.isclose(log_val, 2.302, abs_tol=0.1)"
   ]
  },
  {
   "cell_type": "raw",
   "id": "0ed4fd5a-5636-4306-b332-d3b37e39fa59",
   "metadata": {},
   "source": [
    "# END TESTS"
   ]
  },
  {
   "cell_type": "raw",
   "id": "87bf45d8-70e3-45ee-bc95-fe921c55133f",
   "metadata": {},
   "source": [
    "# END QUESTION"
   ]
  },
  {
   "cell_type": "markdown",
   "id": "3f1e0c65-7eba-40fc-8a67-008df118711a",
   "metadata": {},
   "source": [
    "### Function which takes parameters and return no values."
   ]
  },
  {
   "cell_type": "raw",
   "id": "df21a33a-6e67-41a6-accf-2121a9126dcf",
   "metadata": {},
   "source": [
    "# BEGIN QUESTION\n",
    "name: q21"
   ]
  },
  {
   "cell_type": "markdown",
   "id": "d9726443-24ba-4941-85c9-db29dea5ed68",
   "metadata": {},
   "source": [
    "### Question 21\n",
    "\n",
    "Write a python function named `displayName` which when passed a name will print `Hello` and their name. \n",
    "\n",
    "For eg: If I pass my name to the function, it should display `Hello Dipak`. "
   ]
  },
  {
   "cell_type": "raw",
   "id": "223be060-6eb8-425f-8d69-76cb3d0d80aa",
   "metadata": {},
   "source": [
    "# BEGIN SOLUTION"
   ]
  },
  {
   "cell_type": "code",
   "execution_count": 67,
   "id": "142cade4-4510-46e9-8091-f17592f5d272",
   "metadata": {},
   "outputs": [],
   "source": [
    "\"\"\"# BEGIN PROMPT\n",
    "def displayName(...):\n",
    "    print(...)\n",
    "\"\"\"# END PROMPT\n",
    "def displayName(name): # SOLUTION NO PROMPT\n",
    "    print(\"Hello \" + name) # SOLUTION NO PROMPT"
   ]
  },
  {
   "cell_type": "raw",
   "id": "b3bc44e3-43bc-494c-88b3-106082967b21",
   "metadata": {},
   "source": [
    "# END SOLUTION"
   ]
  },
  {
   "cell_type": "markdown",
   "id": "76986af6-6d7e-412b-9ee4-d297e8a3b4fa",
   "metadata": {},
   "source": [
    "Now call the function, by passing your name as the argument. "
   ]
  },
  {
   "cell_type": "raw",
   "id": "43e5d450-effc-4b23-9508-43396fcb4782",
   "metadata": {},
   "source": [
    "# BEGIN SOLUTION"
   ]
  },
  {
   "cell_type": "code",
   "execution_count": 68,
   "id": "5906b817-d5a4-404d-ab59-6386a106a64a",
   "metadata": {},
   "outputs": [
    {
     "name": "stdout",
     "output_type": "stream",
     "text": [
      "Hello Dipak\n"
     ]
    }
   ],
   "source": [
    "displayName(\"Dipak\") # SOLUTION"
   ]
  },
  {
   "cell_type": "raw",
   "id": "e668ac2c-dd8f-4f86-9121-63430dc3c867",
   "metadata": {},
   "source": [
    "# END SOLUTION"
   ]
  },
  {
   "cell_type": "raw",
   "id": "2410be41-b740-4d27-b1f2-e77204b801cc",
   "metadata": {},
   "source": [
    "# BEGIN TESTS"
   ]
  },
  {
   "cell_type": "raw",
   "id": "daf0d615-250c-436b-98e7-e53ffab51f80",
   "metadata": {},
   "source": [
    "# END TESTS"
   ]
  },
  {
   "cell_type": "raw",
   "id": "17640876-2286-4441-8019-a159063b4f61",
   "metadata": {},
   "source": [
    "# END QUESTION"
   ]
  },
  {
   "cell_type": "raw",
   "id": "792154a5-0490-4a60-a493-9e2f3e09ad4b",
   "metadata": {},
   "source": [
    "# BEGIN QUESTION\n",
    "name: q22"
   ]
  },
  {
   "cell_type": "markdown",
   "id": "9d631aa3-9e21-452e-8a4f-c11f6940c3aa",
   "metadata": {},
   "source": [
    "### Question 22\n",
    "\n",
    "Write a python function named `isEven` when passed an integer will print 0 if it's even and 1 otherwise. \n",
    "\n",
    "Note: Do NOT use if-else statement. "
   ]
  },
  {
   "cell_type": "raw",
   "id": "c33cf764-8762-4f17-83c1-8a29fcfd94b0",
   "metadata": {},
   "source": [
    "# BEGIN SOLUTION"
   ]
  },
  {
   "cell_type": "code",
   "execution_count": 69,
   "id": "77cc350e-5d74-4204-bfc1-d4976522edb6",
   "metadata": {},
   "outputs": [],
   "source": [
    "\"\"\"# BEGIN PROMPT\n",
    "...\n",
    "    ...\n",
    "\"\"\"# END PROMPT\n",
    "def isEven(num): # SOLUTION NO PROMPT\n",
    "    result = num % 2 # SOLUTION NO PROMPT\n",
    "    print(result)  # SOLUTION NO PROMPT"
   ]
  },
  {
   "cell_type": "raw",
   "id": "87c75bdd-e97f-4f27-b64d-7bb37e500600",
   "metadata": {},
   "source": [
    "# END SOLUTION"
   ]
  },
  {
   "cell_type": "markdown",
   "id": "a9435d0d-d57c-4454-88a8-530f1a327486",
   "metadata": {},
   "source": [
    "Now call the function with any integer number passed to it. "
   ]
  },
  {
   "cell_type": "raw",
   "id": "820d80da-8efc-4261-89d4-1afc3a8f75af",
   "metadata": {},
   "source": [
    "# BEGIN SOLUTION"
   ]
  },
  {
   "cell_type": "code",
   "execution_count": 70,
   "id": "63aab510-3fa8-4ca4-b1d0-57ec2915ba48",
   "metadata": {},
   "outputs": [
    {
     "name": "stdout",
     "output_type": "stream",
     "text": [
      "1\n"
     ]
    }
   ],
   "source": [
    "isEven(51) # SOLUTION"
   ]
  },
  {
   "cell_type": "raw",
   "id": "aa6da5f1-f5f1-4c45-8ab0-b9d007033cd1",
   "metadata": {},
   "source": [
    "# END SOLUTION"
   ]
  },
  {
   "cell_type": "raw",
   "id": "f7f69d00-4065-4a21-a614-02dd3a36a2a3",
   "metadata": {},
   "source": [
    "# BEGIN TESTS"
   ]
  },
  {
   "cell_type": "raw",
   "id": "cf6eb485-20c9-4707-9a3c-b06fc92f1b84",
   "metadata": {},
   "source": [
    "# END TESTS"
   ]
  },
  {
   "cell_type": "raw",
   "id": "2d4270d2-3738-4e4f-951d-817b0f6283db",
   "metadata": {},
   "source": [
    "# END QUESTION"
   ]
  },
  {
   "cell_type": "raw",
   "id": "a70289d2-f8f1-4a78-94f7-d857155a0884",
   "metadata": {},
   "source": [
    "# BEGIN QUESTION\n",
    "name: q23"
   ]
  },
  {
   "cell_type": "markdown",
   "id": "6b0e8957-e305-40cc-9201-f4ef0b9d7525",
   "metadata": {},
   "source": [
    "### Question 23\n",
    "\n",
    "Write a python function named `findSum` that takes three numbers and displays the sum of them. "
   ]
  },
  {
   "cell_type": "raw",
   "id": "e959fae4-88dc-49f5-b271-04eef05c8979",
   "metadata": {},
   "source": [
    "# BEGIN SOLUTION"
   ]
  },
  {
   "cell_type": "code",
   "execution_count": 71,
   "id": "d92120c0-a38e-4e97-a336-3197b0940183",
   "metadata": {},
   "outputs": [],
   "source": [
    "\"\"\"# BEGIN PROMPT\n",
    "... findSum(..., ..., ...):\n",
    "    ...\n",
    "\"\"\"# END PROMPT\n",
    "def findSum(num1, num2, num3): # SOLUTION NO PROMPT\n",
    "    result = num1 + num2 + num3 # SOLUTION NO PROMPT\n",
    "    print(result)  # SOLUTION NO PROMPT"
   ]
  },
  {
   "cell_type": "raw",
   "id": "f60f15aa-8840-426a-87fc-171beba8bb65",
   "metadata": {},
   "source": [
    "# END SOLUTION"
   ]
  },
  {
   "cell_type": "markdown",
   "id": "e9f769cb-2271-462a-928d-e867b46611dd",
   "metadata": {},
   "source": [
    "Now call the function appropriately. "
   ]
  },
  {
   "cell_type": "raw",
   "id": "5dcfd11f-f9f2-4b9a-84dc-666f4fa776f3",
   "metadata": {},
   "source": [
    "# BEGIN SOLUTION"
   ]
  },
  {
   "cell_type": "code",
   "execution_count": 72,
   "id": "672af818-21b0-497a-a793-1451a99399c7",
   "metadata": {},
   "outputs": [
    {
     "name": "stdout",
     "output_type": "stream",
     "text": [
      "3\n"
     ]
    }
   ],
   "source": [
    "findSum(1, 1, 1) # SOLUTION"
   ]
  },
  {
   "cell_type": "raw",
   "id": "daea9b89-ebf7-4e8d-94bf-ac5fac2d8e01",
   "metadata": {},
   "source": [
    "# END SOLUTION"
   ]
  },
  {
   "cell_type": "raw",
   "id": "b3aa4e02-b733-497a-986a-cddc5f93251c",
   "metadata": {},
   "source": [
    "# BEGIN TESTS"
   ]
  },
  {
   "cell_type": "raw",
   "id": "5c4c17a2-49ea-4d8c-8fe0-ce90d431a21c",
   "metadata": {},
   "source": [
    "# END TESTS"
   ]
  },
  {
   "cell_type": "raw",
   "id": "838be8bd-e2bf-4ba6-ba5c-f13aa9152b2e",
   "metadata": {},
   "source": [
    "# END QUESTION"
   ]
  },
  {
   "cell_type": "raw",
   "id": "9be32918-da76-4162-b1d9-2d30d4b5c334",
   "metadata": {},
   "source": [
    "# BEGIN QUESTION\n",
    "name: q24"
   ]
  },
  {
   "cell_type": "markdown",
   "id": "7d765299-6949-47d1-bd2f-c88b644c76a7",
   "metadata": {},
   "source": [
    "### Question 24\n",
    "Write a python function named `calcTip` when passed a dollar amount (float) for a restaurant bill, calculates and displays the amount for a 20% tip, rounded upto two decimal points. "
   ]
  },
  {
   "cell_type": "raw",
   "id": "e3061b13-844b-4259-8b33-62692dc2f57d",
   "metadata": {},
   "source": [
    "# BEGIN SOLUTION"
   ]
  },
  {
   "cell_type": "code",
   "execution_count": 73,
   "id": "a926cfc6-9995-42b0-8fe3-67ddd7492275",
   "metadata": {},
   "outputs": [],
   "source": [
    "\"\"\"# BEGIN PROMPT\n",
    "...\n",
    "    ...\n",
    "\"\"\"# END PROMPT\n",
    "def calcTip(bill): # SOLUTION NO PROMPT\n",
    "    result = 0.20 * bill # SOLUTION NO PROMPT\n",
    "    print(round(result, 2))  # SOLUTION NO PROMPT"
   ]
  },
  {
   "cell_type": "raw",
   "id": "778b5c62-940b-4ed0-b9f7-218676a2f635",
   "metadata": {},
   "source": [
    "# END SOLUTION"
   ]
  },
  {
   "cell_type": "markdown",
   "id": "0b3bb64a-bf9a-47c4-bb08-2c9bb1318be3",
   "metadata": {},
   "source": [
    "Now call the function appropriately for a bill of `$100.53`. Your function should display 20.11"
   ]
  },
  {
   "cell_type": "raw",
   "id": "dc09dc96-183a-4372-90b2-9f2f98ea1949",
   "metadata": {},
   "source": [
    "# BEGIN SOLUTION"
   ]
  },
  {
   "cell_type": "code",
   "execution_count": 74,
   "id": "300dd359-26ef-49fc-847e-00f72e536722",
   "metadata": {},
   "outputs": [
    {
     "name": "stdout",
     "output_type": "stream",
     "text": [
      "20.11\n"
     ]
    }
   ],
   "source": [
    "calcTip(100.53) # SOLUTION"
   ]
  },
  {
   "cell_type": "raw",
   "id": "c1031ae3-f5ea-48f0-bf62-77670cec93c6",
   "metadata": {},
   "source": [
    "# END SOLUTION"
   ]
  },
  {
   "cell_type": "raw",
   "id": "eb8b6011-e0cd-43a8-9ad5-a9695620accd",
   "metadata": {},
   "source": [
    "# BEGIN TESTS"
   ]
  },
  {
   "cell_type": "raw",
   "id": "b720a11c-c4ae-4c20-88d8-d48d3fbd7888",
   "metadata": {},
   "source": [
    "# END TESTS"
   ]
  },
  {
   "cell_type": "raw",
   "id": "e0dd1e28-dc32-4a24-b400-62330083818d",
   "metadata": {},
   "source": [
    "# END QUESTION"
   ]
  },
  {
   "cell_type": "raw",
   "id": "b006372e-3def-4c06-a448-065bc7ceead3",
   "metadata": {},
   "source": [
    "# BEGIN QUESTION\n",
    "name: q25"
   ]
  },
  {
   "cell_type": "markdown",
   "id": "0967d32e-bf99-4e96-9dd7-e8eb35cc5ee8",
   "metadata": {},
   "source": [
    "### Question 25\n",
    "Write a python function named `displayName` when passed your name, prints the name in all uppercase. "
   ]
  },
  {
   "cell_type": "raw",
   "id": "966a3512-8dad-4339-8115-7f92041adad2",
   "metadata": {},
   "source": [
    "# BEGIN SOLUTION"
   ]
  },
  {
   "cell_type": "code",
   "execution_count": 75,
   "id": "e5189d16-726a-4f34-9665-d42b06749d23",
   "metadata": {},
   "outputs": [],
   "source": [
    "\"\"\"# BEGIN PROMPT\n",
    "...\n",
    "    ...\n",
    "\"\"\"# END PROMPT\n",
    "def displayName(name): # SOLUTION NO PROMPT\n",
    "    result = name.upper() # SOLUTION NO PROMPT\n",
    "    print(result)  # SOLUTION NO PROMPT"
   ]
  },
  {
   "cell_type": "raw",
   "id": "df3b5922-5326-445b-b007-dce57bef5669",
   "metadata": {},
   "source": [
    "# END SOLUTION"
   ]
  },
  {
   "cell_type": "markdown",
   "id": "e62abc71-2851-457e-88b3-96bdeb2b3721",
   "metadata": {},
   "source": [
    "Now call the function with your name. "
   ]
  },
  {
   "cell_type": "raw",
   "id": "92b8ae70-4f47-43bb-9cec-536c706d5e3e",
   "metadata": {},
   "source": [
    "# BEGIN SOLUTION"
   ]
  },
  {
   "cell_type": "code",
   "execution_count": 76,
   "id": "81dc7af0-e57d-4ec3-a9e1-854d3f496a9b",
   "metadata": {},
   "outputs": [
    {
     "name": "stdout",
     "output_type": "stream",
     "text": [
      "DIPAK\n"
     ]
    }
   ],
   "source": [
    "displayName(\"Dipak\") # SOLUTION"
   ]
  },
  {
   "cell_type": "raw",
   "id": "62f9465f-9d58-4f60-9989-d1bf1cdd3da0",
   "metadata": {},
   "source": [
    "# END SOLUTION"
   ]
  },
  {
   "cell_type": "raw",
   "id": "7f797be6-669f-42f3-818a-c363df04cd2a",
   "metadata": {},
   "source": [
    "# BEGIN TESTS"
   ]
  },
  {
   "cell_type": "raw",
   "id": "bb4e992c-1532-4619-9546-e73ee4041f52",
   "metadata": {},
   "source": [
    "# END TESTS"
   ]
  },
  {
   "cell_type": "raw",
   "id": "8d381139-6dc7-49b0-b5db-37e51e554c2c",
   "metadata": {},
   "source": [
    "# END QUESTION"
   ]
  },
  {
   "cell_type": "markdown",
   "id": "76cc63ec-866d-4db6-a6ef-26f814a3523b",
   "metadata": {},
   "source": [
    "### Function which takes parameters and return a value"
   ]
  },
  {
   "cell_type": "raw",
   "id": "25c3bc99-d88a-4bfa-8798-c61d4c8db411",
   "metadata": {},
   "source": [
    "# BEGIN QUESTION\n",
    "name: q26"
   ]
  },
  {
   "cell_type": "markdown",
   "id": "ac1099c9-3f24-4f36-b3be-5a44e5166abe",
   "metadata": {},
   "source": [
    "### Question 26\n",
    "Write a function, `calculateBudget`,  that takes three input parameters; an annual federal budget of any year (in million dollars), the annual rate of increase of the budget (in decimal points), and the number of years, and returns the annual budget after that many years (in million dollars), rounded upto two decimal points. \n",
    "\n",
    "Use the following formula:\n",
    "$$new\\_value = old\\_value * (1 + rate) ^ {time}$$    \n",
    "\n",
    "Call your function with annual budget of 2.37 (in million dollars), 5% annual rate (0.05 when converted to decimal form), number of years to be 10, and store your answer in the variable `your_ans`"
   ]
  },
  {
   "cell_type": "raw",
   "id": "441c9227-3f24-425b-a6da-fb3e06a30da4",
   "metadata": {},
   "source": [
    "# BEGIN SOLUTION"
   ]
  },
  {
   "cell_type": "code",
   "execution_count": 77,
   "id": "4f3c539e-4b2c-414b-8b32-019db7de756a",
   "metadata": {},
   "outputs": [],
   "source": [
    "\"\"\"# BEGIN PROMPT\n",
    "... calculateBudget(... , ... , ...):\n",
    "    new_budget = ...\n",
    "    return ...\n",
    "\"\"\"# END PROMPT\n",
    "def calculateBudget(old_value, rate, time): # SOLUTION NO PROMPT\n",
    "    new_value = old_value * (1 + rate) ** time # SOLUTION NO PROMPT\n",
    "    return round(new_value, 2) # SOLUTION NO PROMPT"
   ]
  },
  {
   "cell_type": "code",
   "execution_count": 78,
   "id": "6484d844-16d5-45a6-b5e0-d8df0cf7e1d8",
   "metadata": {},
   "outputs": [
    {
     "name": "stdout",
     "output_type": "stream",
     "text": [
      "3.86\n"
     ]
    }
   ],
   "source": [
    "your_ans = calculateBudget(2.37, 0.05, 10) # SOLUTION\n",
    "print(your_ans)"
   ]
  },
  {
   "cell_type": "raw",
   "id": "92346fc3-4890-463c-85ea-02a173dba701",
   "metadata": {},
   "source": [
    "# END SOLUTION"
   ]
  },
  {
   "cell_type": "raw",
   "id": "32a63bab-bc23-4db6-b073-89ed1995fb04",
   "metadata": {},
   "source": [
    "# BEGIN TESTS"
   ]
  },
  {
   "cell_type": "code",
   "execution_count": 79,
   "id": "d1944a44-7d58-4610-9bf8-c67c698c4d68",
   "metadata": {},
   "outputs": [
    {
     "data": {
      "text/plain": [
       "True"
      ]
     },
     "execution_count": 79,
     "metadata": {},
     "output_type": "execute_result"
    }
   ],
   "source": [
    "math.isclose(your_ans, 3.86, abs_tol=0.1)"
   ]
  },
  {
   "cell_type": "raw",
   "id": "65ea7920-eea3-4910-b625-7d72e4ba7409",
   "metadata": {},
   "source": [
    "# END TESTS"
   ]
  },
  {
   "cell_type": "raw",
   "id": "4c0ac889-e47e-4d32-a9ee-42f52768420b",
   "metadata": {},
   "source": [
    "# END QUESTION"
   ]
  },
  {
   "cell_type": "raw",
   "id": "af086b04-ebaf-45b0-a8c4-55def6821a03",
   "metadata": {},
   "source": [
    "# BEGIN QUESTION\n",
    "name: q27"
   ]
  },
  {
   "cell_type": "markdown",
   "id": "152326d0-3474-47a2-b3ee-a6aed516616b",
   "metadata": {},
   "source": [
    "### Question 27\n",
    "Write a function, `findMax` which takes three numbers as input, and returns the maximum of those numbers. \n",
    "\n",
    "Call your function with any three numbers, and store the result in the variable `max_num`. "
   ]
  },
  {
   "cell_type": "raw",
   "id": "4e94adac-1903-4e2d-8e5a-115c894f021a",
   "metadata": {},
   "source": [
    "# BEGIN SOLUTION"
   ]
  },
  {
   "cell_type": "code",
   "execution_count": 80,
   "id": "43037387-5ebe-48b1-bad4-466baa8d6849",
   "metadata": {},
   "outputs": [],
   "source": [
    "\"\"\"# BEGIN PROMPT\n",
    "def findMax(... , ... , ...):\n",
    "    ...\n",
    "\"\"\"# END PROMPT\n",
    "def findMax(num1, num2, num3): # SOLUTION NO PROMPT\n",
    "    return max(num1, num2, num3) # SOLUTION NO PROMPT"
   ]
  },
  {
   "cell_type": "code",
   "execution_count": 81,
   "id": "e30ac3dd-9b36-4513-81c0-a8b7ee280351",
   "metadata": {},
   "outputs": [
    {
     "name": "stdout",
     "output_type": "stream",
     "text": [
      "20\n"
     ]
    }
   ],
   "source": [
    "max_num = findMax(10, 20, 3) # SOLUTION\n",
    "print(max_num)"
   ]
  },
  {
   "cell_type": "raw",
   "id": "bfefef33-0b98-42c5-a7ba-deaca23b3341",
   "metadata": {},
   "source": [
    "# END SOLUTION"
   ]
  },
  {
   "cell_type": "raw",
   "id": "8e1f3297-8d33-4d09-b558-d70207c7ceca",
   "metadata": {},
   "source": [
    "# BEGIN TESTS"
   ]
  },
  {
   "cell_type": "code",
   "execution_count": 82,
   "id": "fabeb8f6-bb87-4b4c-ba6d-08030cfe3ceb",
   "metadata": {},
   "outputs": [
    {
     "data": {
      "text/plain": [
       "True"
      ]
     },
     "execution_count": 82,
     "metadata": {},
     "output_type": "execute_result"
    }
   ],
   "source": [
    "findMax(-123, 35, 59) == 59"
   ]
  },
  {
   "cell_type": "raw",
   "id": "f64fb9a0-ec2d-4f10-9775-5a7f60490129",
   "metadata": {},
   "source": [
    "# END TESTS"
   ]
  },
  {
   "cell_type": "raw",
   "id": "89a5f2fd-6cf6-4053-ab21-be57785b887d",
   "metadata": {},
   "source": [
    "# END QUESTION"
   ]
  },
  {
   "cell_type": "raw",
   "id": "e50d3de0-1e59-48fc-8d25-84444cc05237",
   "metadata": {},
   "source": [
    "# BEGIN QUESTION\n",
    "name: q28"
   ]
  },
  {
   "cell_type": "markdown",
   "id": "cad87a7a-8d3c-4c4e-81a5-8502de3003ed",
   "metadata": {},
   "source": [
    "### Question 28\n",
    "Use math module, to find the euclidean distance between two points in the Cartesian cordinate system, where p1 = (5,9) and p2 = (8, 1). Here $x_1$ is 5, $x_2$ is 8, $y_1$ is 9 and $y_2$ is 1. \n",
    "\n",
    "Note your function, `calculate_distance` will take four parameters, x1, x2, y1 and y2 and will return the euclidean distance as the output, rounded upto two decimal points. \n",
    "\n",
    "$$ Distance = \\sqrt {(x_1 - x_2) ^ 2 + (y_1 - y_2) ^ 2}$$\n",
    "\n",
    "Your result should be stored in a variable, `distance`"
   ]
  },
  {
   "cell_type": "raw",
   "id": "ce13a98d-6b4c-4234-b9a6-a9f4e6fda3f8",
   "metadata": {},
   "source": [
    "# BEGIN SOLUTION"
   ]
  },
  {
   "cell_type": "code",
   "execution_count": 83,
   "id": "44c463f2-e310-4003-a113-1132a630afa0",
   "metadata": {},
   "outputs": [],
   "source": [
    "import math\n",
    "\"\"\"# BEGIN PROMPT\n",
    "def calculate_distance(x1, y1, x2, y2):\n",
    "    euclidean_distance = ...\n",
    "    return ...\n",
    "\"\"\"# END PROMPT\n",
    "def calculate_distance(x1, y1, x2, y2): # SOLUTION NO PROMPT\n",
    "    euclidean_distance = math.sqrt((x1 - x2) ** 2 + (y1 - y2) ** 2) # SOLUTION NO PROMPT\n",
    "    return round(euclidean_distance, 2) # SOLUTION NO PROMPT"
   ]
  },
  {
   "cell_type": "raw",
   "id": "7b57d8ee-c3b3-41d5-9d41-de8abe84e543",
   "metadata": {},
   "source": [
    "# END SOLUTION"
   ]
  },
  {
   "cell_type": "markdown",
   "id": "65ef4d73-0bd9-4cdc-8cea-e2ff60b347a6",
   "metadata": {},
   "source": [
    "Now call the function with the cordinates of p1 and p2. "
   ]
  },
  {
   "cell_type": "raw",
   "id": "68979d7d-48ca-40a3-b12f-ec713741a1e6",
   "metadata": {},
   "source": [
    "# BEGIN SOLUTION"
   ]
  },
  {
   "cell_type": "code",
   "execution_count": 84,
   "id": "8d60d5a2-8edf-43c0-bde6-3d79ebbb0b60",
   "metadata": {},
   "outputs": [
    {
     "name": "stdout",
     "output_type": "stream",
     "text": [
      "8.54\n"
     ]
    }
   ],
   "source": [
    "distance = calculate_distance(5, 9, 8, 1) # SOLUTION\n",
    "print(distance)"
   ]
  },
  {
   "cell_type": "raw",
   "id": "f96e0615-a063-4816-95d3-d69cf2c4d074",
   "metadata": {},
   "source": [
    "# END SOLUTION"
   ]
  },
  {
   "cell_type": "raw",
   "id": "9f5a5a0f-e5f2-4cfc-b015-fa2400497fca",
   "metadata": {},
   "source": [
    "# BEGIN TESTS"
   ]
  },
  {
   "cell_type": "code",
   "execution_count": 85,
   "id": "3e8fe0bc-18de-4a64-9276-9b1db3e2581f",
   "metadata": {},
   "outputs": [
    {
     "data": {
      "text/plain": [
       "True"
      ]
     },
     "execution_count": 85,
     "metadata": {},
     "output_type": "execute_result"
    }
   ],
   "source": [
    "math.isclose(distance, 8.54, abs_tol=0.1)"
   ]
  },
  {
   "cell_type": "raw",
   "id": "6f2fa9be-bf8c-40b3-9d7c-84cf57981882",
   "metadata": {},
   "source": [
    "# END TESTS"
   ]
  },
  {
   "cell_type": "raw",
   "id": "0db0c270-c262-443c-a613-d76f8848b1a1",
   "metadata": {},
   "source": [
    "# END QUESTION"
   ]
  },
  {
   "cell_type": "raw",
   "id": "8df5fa87-a4b5-420f-82b7-76e6bba2d2cb",
   "metadata": {},
   "source": [
    "# BEGIN QUESTION\n",
    "name: q29"
   ]
  },
  {
   "cell_type": "markdown",
   "id": "97d4b598-ef5f-41be-b26a-e567d5294895",
   "metadata": {},
   "source": [
    "### Question 29\n",
    "\n",
    "Suppose you have two points A($x_1, y_1$) and B($x_2, y_2$) in a 2D (two-dimensional) plane, and you also have a third point C($x_3, y_3$). Write a python function `findMinDist` to find the minimum (euclidean) distance between point C and either of the points A or B. \n",
    "\n",
    "Hint: You do NOT need to write the code to calculate the euclidean distance again. Since you have already written a function which returns euclidean distance in Question 28, use this function to calculate the distance of C with A and B, and then return the minimum of those two. "
   ]
  },
  {
   "cell_type": "raw",
   "id": "56c6d384-a731-4d38-8578-99dcea22082e",
   "metadata": {},
   "source": [
    "# BEGIN SOLUTION"
   ]
  },
  {
   "cell_type": "code",
   "execution_count": 86,
   "id": "f2453e21-0a42-4e6d-a0eb-e431f4e6c334",
   "metadata": {},
   "outputs": [],
   "source": [
    "\"\"\"# BEGIN PROMPT\n",
    "def findMinDist(x1, y1, x2, y2, x3, y3):\n",
    "    return ...\n",
    "\"\"\"# END PROMPT\n",
    "def findMinDist(x1, y1, x2, y2, x3, y3): # SOLUTION NO PROMPT\n",
    "    C_to_A = calculate_distance(x1, y1, x3, y3) # SOLUTION NO PROMPT\n",
    "    C_to_B = calculate_distance(x2, y2, x3, y3) # SOLUTION NO PROMPT\n",
    "    return min(C_to_A, C_to_B) # SOLUTION NO PROMPT"
   ]
  },
  {
   "cell_type": "code",
   "execution_count": 87,
   "id": "772af185-777e-47e8-86ba-517b8600a459",
   "metadata": {},
   "outputs": [
    {
     "name": "stdout",
     "output_type": "stream",
     "text": [
      "2.24\n"
     ]
    }
   ],
   "source": [
    "min_dist = findMinDist(1, 2, 4, 6, 3, 3)\n",
    "print(min_dist)"
   ]
  },
  {
   "cell_type": "raw",
   "id": "0591053e-c5f6-49bb-8973-e7c345182dbe",
   "metadata": {},
   "source": [
    "# END SOLUTION"
   ]
  },
  {
   "cell_type": "raw",
   "id": "27b2729f-4b14-4f94-b39b-e96e9cde96dc",
   "metadata": {},
   "source": [
    "# BEGIN TESTS"
   ]
  },
  {
   "cell_type": "code",
   "execution_count": 88,
   "id": "22030a18-49fc-447d-a158-b0e6b0527826",
   "metadata": {},
   "outputs": [
    {
     "data": {
      "text/plain": [
       "True"
      ]
     },
     "execution_count": 88,
     "metadata": {},
     "output_type": "execute_result"
    }
   ],
   "source": [
    "math.isclose(min_dist, 2.24, abs_tol=0.1)"
   ]
  },
  {
   "cell_type": "raw",
   "id": "16a0a5b1-9761-432e-89e5-9d831136fff5",
   "metadata": {},
   "source": [
    "# END TESTS"
   ]
  },
  {
   "cell_type": "raw",
   "id": "cd72f233-8e08-45e1-a6e4-5e204197da65",
   "metadata": {},
   "source": [
    "# END QUESTION"
   ]
  },
  {
   "cell_type": "raw",
   "id": "225cfec5-bbd6-4e88-8756-db28d2fea6f1",
   "metadata": {},
   "source": [
    "# BEGIN QUESTION\n",
    "name: q30"
   ]
  },
  {
   "cell_type": "markdown",
   "id": "a02576a2-baa9-4eac-83d8-147d92bc0fb8",
   "metadata": {},
   "source": [
    "### Question 30\n",
    "Write a python function `findLongestString` which takes two strings of any length, and returns `True` if the first string is largest than the other and `False` otherwise. \n",
    "\n",
    "Do NOT use if-else statement."
   ]
  },
  {
   "cell_type": "raw",
   "id": "ac6215f8-d91e-4cd2-b5df-8a8b89cd5122",
   "metadata": {},
   "source": [
    "# BEGIN SOLUTION"
   ]
  },
  {
   "cell_type": "code",
   "execution_count": 89,
   "id": "6da3058d-4549-4d99-b63f-03a4abae26bf",
   "metadata": {},
   "outputs": [],
   "source": [
    "\"\"\"# BEGIN PROMPT\n",
    "...\n",
    "    ...\n",
    "\"\"\"# END PROMPT\n",
    "def findLongestString(str1, str2): # SOLUTION NO PROMPT\n",
    "    return len(str1) > len(str2) # SOLUTION NO PROMPT"
   ]
  },
  {
   "cell_type": "raw",
   "id": "380f4d5b-7bf5-49dd-8b8f-88d38b198b64",
   "metadata": {},
   "source": [
    "# END SOLUTION"
   ]
  },
  {
   "cell_type": "markdown",
   "id": "44fcf768-6b7d-412c-b98f-712a99911d38",
   "metadata": {},
   "source": [
    "Now call the function"
   ]
  },
  {
   "cell_type": "raw",
   "id": "3bba2832-f079-457a-9535-2105e26dc6e8",
   "metadata": {},
   "source": [
    "# BEGIN SOLUTION"
   ]
  },
  {
   "cell_type": "code",
   "execution_count": 90,
   "id": "729f5cac-a6b5-4581-8eb5-af484766db4b",
   "metadata": {},
   "outputs": [
    {
     "data": {
      "text/plain": [
       "False"
      ]
     },
     "execution_count": 90,
     "metadata": {},
     "output_type": "execute_result"
    }
   ],
   "source": [
    "isFirstLargest = findLongestString(\"Hello\", \"how are you?\") # SOLUTION\n",
    "isFirstLargest"
   ]
  },
  {
   "cell_type": "raw",
   "id": "7bb49e6a-f6dc-4cb0-8ea0-c698c408bda7",
   "metadata": {},
   "source": [
    "# END SOLUTION"
   ]
  },
  {
   "cell_type": "raw",
   "id": "8d045cf9-cd2d-44fd-8b73-15474f223fe5",
   "metadata": {},
   "source": [
    "# BEGIN TESTS"
   ]
  },
  {
   "cell_type": "code",
   "execution_count": 91,
   "id": "74afecfe-a6ba-48b5-9e6b-4ad31746c043",
   "metadata": {},
   "outputs": [
    {
     "data": {
      "text/plain": [
       "True"
      ]
     },
     "execution_count": 91,
     "metadata": {},
     "output_type": "execute_result"
    }
   ],
   "source": [
    "findLongestString(\"Hello\", \"how are you?\") == False"
   ]
  },
  {
   "cell_type": "raw",
   "id": "8e53a86c-b16e-419f-9128-974cdcbed808",
   "metadata": {},
   "source": [
    "# END TESTS"
   ]
  },
  {
   "cell_type": "raw",
   "id": "9893a7fd-7d7f-4944-b125-ec194b212d89",
   "metadata": {},
   "source": [
    "# END QUESTION"
   ]
  },
  {
   "cell_type": "markdown",
   "id": "f7336393-0d27-4e98-859a-05de495a566c",
   "metadata": {},
   "source": [
    "### Keyword Arguments (kwargs)\n",
    "\n",
    "You can also send arguments with the **key = value** syntax. <br>\n",
    "Key is an identifier that points to a value. \n",
    "For instance, think of the example of an english word in a dictionary, where a key is the word and the value is the definition of the word.<br>\n",
    "or, a value which contains SSN id (as key) and the person info (as value)\n",
    "\n",
    "**This way the order of arguments does not matter**"
   ]
  },
  {
   "cell_type": "code",
   "execution_count": 92,
   "id": "7ccd6a58-6b4b-4a35-827e-547fc1df3a62",
   "metadata": {},
   "outputs": [],
   "source": [
    "# Consider the double function\n",
    "\n",
    "def double(x):\n",
    "    return 2 * x"
   ]
  },
  {
   "cell_type": "code",
   "execution_count": 93,
   "id": "9298d484-8fe5-440c-862b-65ad337b270d",
   "metadata": {},
   "outputs": [
    {
     "data": {
      "text/plain": [
       "10"
      ]
     },
     "execution_count": 93,
     "metadata": {},
     "output_type": "execute_result"
    }
   ],
   "source": [
    "# We learnt to call this function as follow:\n",
    "double(5)"
   ]
  },
  {
   "cell_type": "code",
   "execution_count": 94,
   "id": "bbcaf375-2ced-4398-a4ba-0b2c738af421",
   "metadata": {},
   "outputs": [
    {
     "data": {
      "text/plain": [
       "10"
      ]
     },
     "execution_count": 94,
     "metadata": {},
     "output_type": "execute_result"
    }
   ],
   "source": [
    "# We could have called the function as key = value syntax; where key is the parameter and value is the argument\n",
    "double(x = 5)"
   ]
  },
  {
   "cell_type": "raw",
   "id": "112900fb-64ed-44ad-8059-4ebc9d4a9c61",
   "metadata": {},
   "source": [
    "# BEGIN QUESTION\n",
    "name: q31"
   ]
  },
  {
   "cell_type": "markdown",
   "id": "218c08df-775f-4296-b44f-816819b25128",
   "metadata": {},
   "source": [
    "### Question 31\n",
    "Call the function, `payBill` as written earlier (see Function Arguments topic) in key = value syntax with values` Diet coke, 5, 1.2` as input parameters respectively. "
   ]
  },
  {
   "cell_type": "raw",
   "id": "832e66f8-3c1e-4626-983a-955276af1106",
   "metadata": {},
   "source": [
    "# BEGIN SOLUTION"
   ]
  },
  {
   "cell_type": "code",
   "execution_count": 95,
   "id": "a35241c4-4726-4271-b54e-f16eff0bfe0d",
   "metadata": {},
   "outputs": [
    {
     "name": "stdout",
     "output_type": "stream",
     "text": [
      "The total cost of the item Diet coke is 6.0\n"
     ]
    }
   ],
   "source": [
    "\"\"\"# BEGIN PROMPT\n",
    "payBill(... = ... , ... = ... , ... = ...)\n",
    "\"\"\"# END PROMPT\n",
    "payBill(item_name = \"Diet coke\", quantity = 5, price_per_item = 1.2) # SOLUTION NO PROMPT"
   ]
  },
  {
   "cell_type": "raw",
   "id": "36d84186-5681-41a0-ac51-e86ac46eaa99",
   "metadata": {},
   "source": [
    "# END SOLUTION"
   ]
  },
  {
   "cell_type": "markdown",
   "id": "a1b52c28-47b0-4bd2-bb2c-b37bccbef87c",
   "metadata": {},
   "source": [
    "Now change the order of the key=value sequence in the arguments of the function. \n",
    "You shouldn't get any error this time by changing the order. \n",
    "\n",
    "Try it out!"
   ]
  },
  {
   "cell_type": "raw",
   "id": "02f3aa42-bd53-4b92-91e0-27e4b6ed0f37",
   "metadata": {},
   "source": [
    "# BEGIN SOLUTION"
   ]
  },
  {
   "cell_type": "code",
   "execution_count": 96,
   "id": "6563f7fc-36fe-41fc-994f-806ddb3368de",
   "metadata": {},
   "outputs": [
    {
     "name": "stdout",
     "output_type": "stream",
     "text": [
      "The total cost of the item Diet coke is 6.0\n"
     ]
    }
   ],
   "source": [
    "payBill(quantity = 5, price_per_item = 1.2, item_name = \"Diet coke\") # SOLUTION "
   ]
  },
  {
   "cell_type": "raw",
   "id": "b1c9d53e-43d3-4128-89ae-ccc0eff6167b",
   "metadata": {},
   "source": [
    "# END SOLUTION"
   ]
  },
  {
   "cell_type": "raw",
   "id": "3db9e557-44bf-4370-800f-c963a7ced4fc",
   "metadata": {},
   "source": [
    "# BEGIN TESTS"
   ]
  },
  {
   "cell_type": "raw",
   "id": "e3c66397-5f8b-4fec-aaba-cd1ceb4db6c1",
   "metadata": {},
   "source": [
    "# END TESTS"
   ]
  },
  {
   "cell_type": "raw",
   "id": "c2ce4e41-bf92-4608-9631-fbd724301142",
   "metadata": {},
   "source": [
    "# END QUESTION"
   ]
  },
  {
   "cell_type": "markdown",
   "id": "5b0f74c8-cdb5-48e8-8117-06f49254f048",
   "metadata": {},
   "source": [
    "### Default Parameter Value\n",
    "\n",
    "We can provide default value to the parameter when writing a function definition. <br>\n",
    "If we call the function without argument, it uses the default value. \n",
    "\n",
    "For eg:"
   ]
  },
  {
   "cell_type": "code",
   "execution_count": 97,
   "id": "3528bdac-6122-4404-b506-d81f91f828c7",
   "metadata": {},
   "outputs": [],
   "source": [
    "def double(x=5):\n",
    "    return 2 * x"
   ]
  },
  {
   "cell_type": "code",
   "execution_count": 98,
   "id": "dc5d1f79-93ec-4e3d-9c98-dd35aad9125e",
   "metadata": {},
   "outputs": [
    {
     "data": {
      "text/plain": [
       "10"
      ]
     },
     "execution_count": 98,
     "metadata": {},
     "output_type": "execute_result"
    }
   ],
   "source": [
    "# Let's call the function by not providing any value to x. \n",
    "double()"
   ]
  },
  {
   "cell_type": "code",
   "execution_count": 99,
   "id": "e8209f9e-d05a-4332-bf97-4d92a731a146",
   "metadata": {},
   "outputs": [
    {
     "data": {
      "text/plain": [
       "20"
      ]
     },
     "execution_count": 99,
     "metadata": {},
     "output_type": "execute_result"
    }
   ],
   "source": [
    "# Let's call the function without key = value syntax\n",
    "double(10)"
   ]
  },
  {
   "cell_type": "code",
   "execution_count": 100,
   "id": "1434b2dc-85c8-415a-be24-18ba48b90f38",
   "metadata": {},
   "outputs": [
    {
     "data": {
      "text/plain": [
       "40"
      ]
     },
     "execution_count": 100,
     "metadata": {},
     "output_type": "execute_result"
    }
   ],
   "source": [
    "# Let's call the function with key = value syntax\n",
    "double(x=20)"
   ]
  },
  {
   "cell_type": "raw",
   "id": "cbcad84c-c95a-448c-abc9-ddff37fc97dc",
   "metadata": {},
   "source": [
    "# BEGIN QUESTION\n",
    "name: q32"
   ]
  },
  {
   "cell_type": "markdown",
   "id": "72a3cab1-d7c3-4330-97ef-2078ff87cdce",
   "metadata": {},
   "source": [
    "### Question 32\n",
    "\n",
    "Rewrite the function `calculateBudget` (as defined in Question 26) and pass default values 2.37, 0.05 and 10 to the function definition.\n",
    "\n",
    "CASE 1. Call the function without any arguments; it will use default values<br>\n",
    "CASE 2. Call the function with values 100, 0.05, 20 passed to it<br>\n",
    "CASE 3. Call the function with values 100, 0.05, 20 passed to it in key = value syntax<br>"
   ]
  },
  {
   "cell_type": "raw",
   "id": "94b21fbb-0868-4587-bd4e-bb88ff2d3f10",
   "metadata": {},
   "source": [
    "# BEGIN SOLUTION"
   ]
  },
  {
   "cell_type": "code",
   "execution_count": 101,
   "id": "d5174f9e-573a-4800-8465-a8caa0d66132",
   "metadata": {},
   "outputs": [],
   "source": [
    "\"\"\"# BEGIN PROMPT\n",
    "def calculateBudget(... = ... , ... = ... , ... = ...):\n",
    "    new_value = old_value * (1 + rate) ** time \n",
    "    return round(new_value, 2) \n",
    "\"\"\"# END PROMPT\n",
    "def calculateBudget(old_value = 2.37, rate = 0.05, time = 10): # SOLUTION NO PROMPT\n",
    "    new_value = old_value * (1 + rate) ** time # SOLUTION NO PROMPT\n",
    "    return round(new_value, 2) # SOLUTION NO PROMPT"
   ]
  },
  {
   "cell_type": "raw",
   "id": "eae0e2da-bbfe-4026-bc38-7e77c1599c8e",
   "metadata": {},
   "source": [
    "# END SOLUTION"
   ]
  },
  {
   "cell_type": "markdown",
   "id": "d5ca3541-90dd-4a40-84e5-7836c5156bdc",
   "metadata": {},
   "source": [
    "Now call the function using different ways:"
   ]
  },
  {
   "cell_type": "raw",
   "id": "8a307143-c725-482a-b328-336ef17930b5",
   "metadata": {},
   "source": [
    "# BEGIN SOLUTION"
   ]
  },
  {
   "cell_type": "code",
   "execution_count": 102,
   "id": "9d3afc0f-bd78-4023-8bd6-9a3c287fa642",
   "metadata": {},
   "outputs": [
    {
     "data": {
      "text/plain": [
       "3.86"
      ]
     },
     "execution_count": 102,
     "metadata": {},
     "output_type": "execute_result"
    }
   ],
   "source": [
    "# Using CASE 1:\n",
    "calculateBudget() # SOLUTION"
   ]
  },
  {
   "cell_type": "code",
   "execution_count": 103,
   "id": "669f9d47-ed68-4287-a688-e65fc57b33c6",
   "metadata": {},
   "outputs": [
    {
     "data": {
      "text/plain": [
       "265.33"
      ]
     },
     "execution_count": 103,
     "metadata": {},
     "output_type": "execute_result"
    }
   ],
   "source": [
    "# Using CASE 2:\n",
    "\"\"\"# BEGIN PROMPT\n",
    "calculateBudget(... , ... , ...) # CASE2\n",
    "\"\"\"# END PROMPT\n",
    "calculateBudget(100, 0.05, 20) # SOLUTION NO PROMPT"
   ]
  },
  {
   "cell_type": "code",
   "execution_count": 104,
   "id": "1a666415-6e0e-4795-9957-2fe70203daec",
   "metadata": {},
   "outputs": [
    {
     "data": {
      "text/plain": [
       "265.33"
      ]
     },
     "execution_count": 104,
     "metadata": {},
     "output_type": "execute_result"
    }
   ],
   "source": [
    "# Using CASE 3:\n",
    "\"\"\"# BEGIN PROMPT\n",
    "calculateBudget(... = ... , ... = ... , ... = ...) # CASE3\n",
    "\"\"\"# END PROMPT\n",
    "calculateBudget(old_value = 100, rate = 0.05, time = 20) # SOLUTION NO PROMPT"
   ]
  },
  {
   "cell_type": "raw",
   "id": "f364a6bb-e7d9-4daa-ac6c-93d378f124b9",
   "metadata": {},
   "source": [
    "# END SOLUTION"
   ]
  },
  {
   "cell_type": "raw",
   "id": "dde7f68f-ece6-4fb8-9777-94be8895a9da",
   "metadata": {},
   "source": [
    "# BEGIN TESTS"
   ]
  },
  {
   "cell_type": "code",
   "execution_count": 105,
   "id": "f157f8b7-110b-4b83-b817-86df5f08e3bd",
   "metadata": {},
   "outputs": [
    {
     "data": {
      "text/plain": [
       "True"
      ]
     },
     "execution_count": 105,
     "metadata": {},
     "output_type": "execute_result"
    }
   ],
   "source": [
    "math.isclose(calculateBudget(100, 0.05, 20), 265.33, abs_tol=0.1)"
   ]
  },
  {
   "cell_type": "raw",
   "id": "e7e098ba-ac51-41e9-8096-5f4f5b8123bb",
   "metadata": {},
   "source": [
    "# END TESTS"
   ]
  },
  {
   "cell_type": "raw",
   "id": "c2c446d2-302f-4ca2-b740-4c3b00f76fcf",
   "metadata": {},
   "source": [
    "# END QUESTION"
   ]
  }
 ],
 "metadata": {
  "kernelspec": {
   "display_name": "Python 3 (ipykernel)",
   "language": "python",
   "name": "python3"
  },
  "language_info": {
   "codemirror_mode": {
    "name": "ipython",
    "version": 3
   },
   "file_extension": ".py",
   "mimetype": "text/x-python",
   "name": "python",
   "nbconvert_exporter": "python",
   "pygments_lexer": "ipython3",
   "version": "3.12.4"
  }
 },
 "nbformat": 4,
 "nbformat_minor": 5
}
