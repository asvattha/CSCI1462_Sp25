{
 "cells": [
  {
   "cell_type": "code",
   "execution_count": null,
   "id": "4888f5d7",
   "metadata": {
    "deletable": false,
    "editable": false
   },
   "outputs": [],
   "source": [
    "# Initialize Otter\n",
    "import otter\n",
    "grader = otter.Notebook(\"DataStructures.ipynb\")"
   ]
  },
  {
   "cell_type": "markdown",
   "id": "084b4039-e839-4420-ac53-af7915f15a03",
   "metadata": {},
   "source": [
    "# Data Structures"
   ]
  },
  {
   "cell_type": "markdown",
   "id": "1081cfeb-a0ab-474f-b475-fc324e883ba5",
   "metadata": {},
   "source": [
    "In everyday life, we design specific methods for storing data to make it more accessible and manageable. For example, plates are often arranged sequentially in the kitchen for easy access, customers might be lined up in a queue for movie tickets, and leaves and fruits are organized on a tree by branches and stems. Similarly, in computer programming, we use various data structures to organize and store data in a way that allows us to access and manipulate it efficiently, reflecting how we structure data in the real world."
   ]
  },
  {
   "cell_type": "markdown",
   "id": "f6c68fdd-a6a4-451c-86b3-b5d23417be55",
   "metadata": {},
   "source": [
    "Python offers several pre-defined, built-in data structures that are useful for data analysis. In this lesson, we will explore some of these structures, including strings, lists, tuples, and dictionaries."
   ]
  },
  {
   "cell_type": "markdown",
   "id": "8f9e3a1f-d61f-474d-8ae8-11674ec31eb1",
   "metadata": {},
   "source": [
    "## 1. Strings\n",
    "\n",
    "Strings are the zero or more sequence of characters in python. They are surrounded by double quotation marks (or single quotation marks). \n",
    "For eg:"
   ]
  },
  {
   "cell_type": "code",
   "execution_count": null,
   "id": "419acc05-4f9f-4c2e-9dc4-fa821b1b25ba",
   "metadata": {},
   "outputs": [],
   "source": [
    "print(\"Hello World\")\n",
    "print(\"\") # this is empty string which has 0 character"
   ]
  },
  {
   "cell_type": "markdown",
   "id": "2733ca70-b29f-4fcb-86fa-6385fc21f83a",
   "metadata": {},
   "source": [
    "### Indexing in String"
   ]
  },
  {
   "cell_type": "markdown",
   "id": "a0ec8425-fb24-4b98-8724-a50bc58a3540",
   "metadata": {},
   "source": [
    "Each character in a string maintains an index starting from 0 (shown in the table below):\n",
    "\n",
    "|Index --> | 0 | 1 | 2 | 3 | 4 |\n",
    "|----| ---- | --- | --- | ---- | ---- |\n",
    "| | H | e | l | l | o |\n",
    "\n",
    "We can use indexing to access any character of a string. \n",
    "\n",
    "For eg: To access the first character of the string, we can do: "
   ]
  },
  {
   "cell_type": "code",
   "execution_count": null,
   "id": "d638dee5-f8dc-4b00-8126-b2d4cc231562",
   "metadata": {},
   "outputs": [],
   "source": [
    "my_str = \"Hello\"\n",
    "my_str[0] # get character at position index 0"
   ]
  },
  {
   "cell_type": "markdown",
   "id": "97a1127a-134d-480a-a19c-565fbc53ea74",
   "metadata": {
    "deletable": false,
    "editable": false
   },
   "source": [
    "### Question 1:\n",
    "\n",
    "Consider the string `Python Programming`, write a python code to extract the character `h`. Store your answer in the variable `your_ans`."
   ]
  },
  {
   "cell_type": "code",
   "execution_count": null,
   "id": "349ab46e-e01f-4a92-a6ce-09d642d3c4d7",
   "metadata": {
    "tags": []
   },
   "outputs": [],
   "source": [
    "my_str = \"Python Programming\"\n",
    "your_ans = ...\n",
    "print(your_ans)"
   ]
  },
  {
   "cell_type": "code",
   "execution_count": null,
   "id": "ebb2b204",
   "metadata": {
    "deletable": false,
    "editable": false
   },
   "outputs": [],
   "source": [
    "grader.check(\"q1\")"
   ]
  },
  {
   "cell_type": "markdown",
   "id": "a8534d45-9c3f-4080-8773-bd87880072cd",
   "metadata": {
    "deletable": false,
    "editable": false
   },
   "source": [
    "### Question 2:\n",
    "\n",
    "Use the same variable, `my_str` in Question 1, and extract the character `a` from the string stored in the variable. Store your answer in the variable `your_ans`."
   ]
  },
  {
   "cell_type": "code",
   "execution_count": null,
   "id": "207f2683-c535-473f-a58c-9ec156dd64b3",
   "metadata": {
    "tags": []
   },
   "outputs": [],
   "source": [
    "your_ans = ...\n",
    "print(your_ans)"
   ]
  },
  {
   "cell_type": "code",
   "execution_count": null,
   "id": "d3aa1d1b",
   "metadata": {
    "deletable": false,
    "editable": false
   },
   "outputs": [],
   "source": [
    "grader.check(\"q2\")"
   ]
  },
  {
   "cell_type": "markdown",
   "id": "dc9a79d4-67f9-43e9-a258-03631cc0b4f3",
   "metadata": {},
   "source": [
    "### String length\n",
    "\n",
    "To get the length of a string, we can use the in-built python function, `len`"
   ]
  },
  {
   "cell_type": "code",
   "execution_count": null,
   "id": "826df244-017a-4857-a568-401c2d8f368e",
   "metadata": {},
   "outputs": [],
   "source": [
    "len(my_str) # Hello contains total 5 characters"
   ]
  },
  {
   "cell_type": "markdown",
   "id": "dd403b30-a90e-41e4-bca4-aaa4fda2e010",
   "metadata": {
    "deletable": false,
    "editable": false
   },
   "source": [
    "### Question 3:\n",
    "\n",
    "Consider the string, `I love Python`. Write a python code to extract the character `n` from the string. Store your result in the variable, `your_ans`. \n",
    "Can you solve the question by using the `len` method to extract the index of last character of the string? "
   ]
  },
  {
   "cell_type": "code",
   "execution_count": null,
   "id": "595e6f49-d8bb-4a61-aebb-b9e3bdb44d52",
   "metadata": {
    "tags": []
   },
   "outputs": [],
   "source": [
    "my_str = \"I love Python\"\n",
    "your_ans = my_str[len(...) - ...]\n",
    "print(your_ans)"
   ]
  },
  {
   "cell_type": "markdown",
   "id": "ccfa89c6-b496-4572-8173-a955494210a7",
   "metadata": {
    "deletable": false,
    "editable": false
   },
   "source": [
    "### Question 4:\n",
    "\n",
    "Write a python code to find the total number of characters in a string, `Be the change that you wish to see in the world.` Store your result in a variable `your_ans`. "
   ]
  },
  {
   "cell_type": "code",
   "execution_count": null,
   "id": "b0602efb-b7ca-4118-945f-4ed8a965523e",
   "metadata": {
    "tags": []
   },
   "outputs": [],
   "source": [
    "my_str = \"Be the change that you wish to see in the world.\"\n",
    "your_ans = ...\n",
    "print(your_ans)"
   ]
  },
  {
   "cell_type": "code",
   "execution_count": null,
   "id": "8bb56284",
   "metadata": {
    "deletable": false,
    "editable": false
   },
   "outputs": [],
   "source": [
    "grader.check(\"q4\")"
   ]
  },
  {
   "cell_type": "markdown",
   "id": "f6e40d62-eeb7-4f6b-8b56-173694d4f55f",
   "metadata": {},
   "source": [
    "### Check String\n",
    "\n",
    "To check if a substring is present in a string, we can use `in` keyword. "
   ]
  },
  {
   "cell_type": "code",
   "execution_count": null,
   "id": "f83b3ea7-6110-4743-8a69-e345e3923b8f",
   "metadata": {},
   "outputs": [],
   "source": [
    "'o' in my_str"
   ]
  },
  {
   "cell_type": "code",
   "execution_count": null,
   "id": "7dc624e2-73b2-4207-8e66-4832c8f87577",
   "metadata": {},
   "outputs": [],
   "source": [
    "my_name = \"Dipak Singh\"\n",
    "'Sing' in my_name"
   ]
  },
  {
   "cell_type": "markdown",
   "id": "1014fa1b-275a-4a91-a64a-7aac70778150",
   "metadata": {
    "deletable": false,
    "editable": false
   },
   "source": [
    "### Question 5:\n",
    "\n",
    "Write a python code to check whether the word, `crow` exists in the sentence, `Why did the scarecrow win an award? Because he was outstanding in his field!`. Store your answer in the variable, `your_ans`. Your answer should store boolean value, True or False. "
   ]
  },
  {
   "cell_type": "code",
   "execution_count": null,
   "id": "de7831e0-f263-4e88-ab2d-9cb893e44b49",
   "metadata": {
    "tags": []
   },
   "outputs": [],
   "source": [
    "funny_str = \"Why did the scarecrow win an award? Because he was outstanding in his field!\"\n",
    "your_ans = ...\n",
    "print(your_ans)"
   ]
  },
  {
   "cell_type": "code",
   "execution_count": null,
   "id": "18da607f",
   "metadata": {
    "deletable": false,
    "editable": false
   },
   "outputs": [],
   "source": [
    "grader.check(\"q5\")"
   ]
  },
  {
   "cell_type": "markdown",
   "id": "595b70ca-f8ed-405d-8787-d456453475c2",
   "metadata": {
    "deletable": false,
    "editable": false
   },
   "source": [
    "### Question 6:\n",
    "\n",
    "Write a python code to check whether the word, `dog` exists in the variable, `funny_str` you defined in Question 5. Store your answer in the variable, `your_ans`. \n",
    "Hint: Use `not in` keyword"
   ]
  },
  {
   "cell_type": "code",
   "execution_count": null,
   "id": "8e59f97b-965b-4427-97ac-926d2116d05c",
   "metadata": {
    "tags": []
   },
   "outputs": [],
   "source": [
    "your_ans = ...\n",
    "print(your_ans)"
   ]
  },
  {
   "cell_type": "code",
   "execution_count": null,
   "id": "b0216c30",
   "metadata": {
    "deletable": false,
    "editable": false
   },
   "outputs": [],
   "source": [
    "grader.check(\"q6\")"
   ]
  },
  {
   "cell_type": "markdown",
   "id": "34248238-c8c1-4280-93ca-252eac6e9636",
   "metadata": {},
   "source": [
    "### Slicing String\n",
    "\n",
    "To extract a substring from a string, you can use slicing. Slicing involves specifying the starting and ending index positions within brackets, where the ending index is exclusive. For example, consider the following sentence:\n",
    "|Index --> | 0 | 1 | 2 | 3 | 4 | 5 | 6 | 7 | 8 | 9 | 10 | 11 | 12 |  13 |14 | 15 | 16 | 17 | 18 | 19 | 20 |\n",
    "| --- |--- | ---| ---|--- |--- | ---| ---| ---| ---| ---| ---| ---| ---| ---| ---| ---| ---|--- |--- |--- |--- |\n",
    "| | I | | l | o | v | e |  | D | a | t | a | | A | n | a | l | y | t | i | c | s |"
   ]
  },
  {
   "cell_type": "code",
   "execution_count": null,
   "id": "eaf355e5-1c38-44fb-a144-3ca86cff5758",
   "metadata": {},
   "outputs": [],
   "source": [
    "my_var = \"I love Data Analytics\"\n",
    "my_var[2:6] # the index number 6 is exclusive here"
   ]
  },
  {
   "cell_type": "code",
   "execution_count": null,
   "id": "9bfe9024-98d7-4a86-930f-7d46e9aec325",
   "metadata": {},
   "outputs": [],
   "source": [
    "my_var[:5] # By leaving out the start index, the range will start at the first character"
   ]
  },
  {
   "cell_type": "code",
   "execution_count": null,
   "id": "a0e7eee8-6b68-4b42-b3ae-d53fcf499fb4",
   "metadata": {},
   "outputs": [],
   "source": [
    "my_var[12:] # By leaving out the last index, the range will end at the last character"
   ]
  },
  {
   "cell_type": "code",
   "execution_count": null,
   "id": "fc2ef680-5e75-441c-97e0-1c543ee89dc0",
   "metadata": {},
   "outputs": [],
   "source": [
    "# You can even use negative indexing where the index starts from the last character with index position -1 \n",
    "\n",
    "my_var[-1]"
   ]
  },
  {
   "cell_type": "code",
   "execution_count": null,
   "id": "706d241f-8d51-42c0-bf9d-1374bb77a4d6",
   "metadata": {},
   "outputs": [],
   "source": [
    "my_var[-6]"
   ]
  },
  {
   "cell_type": "markdown",
   "id": "08861379-543a-4840-9bd2-b7a4de70614d",
   "metadata": {},
   "source": [
    "You can even slice characters of a string by adding a step size to it. For eg: "
   ]
  },
  {
   "cell_type": "code",
   "execution_count": null,
   "id": "a02d9ece-f70e-40e1-a10d-26cbec4ae791",
   "metadata": {},
   "outputs": [],
   "source": [
    "my_var[::2]"
   ]
  },
  {
   "cell_type": "markdown",
   "id": "ea1a9ef5-de9a-4be0-bf15-21aa031ecb90",
   "metadata": {},
   "source": [
    "Consider the string, 'dog'. What do you think, will be the output of the following python code? Explain why. "
   ]
  },
  {
   "cell_type": "code",
   "execution_count": null,
   "id": "125759a4-2239-4535-beca-46e3eae1f9dd",
   "metadata": {},
   "outputs": [],
   "source": [
    "my_str = \"dog\"\n",
    "print(my_str[-1::-1])"
   ]
  },
  {
   "cell_type": "markdown",
   "id": "474b4336-58bd-43a9-8029-95aa238b8845",
   "metadata": {
    "deletable": false,
    "editable": false
   },
   "source": [
    "### Question 7:\n",
    "\n",
    "Consider the string, `supercalifragilisticexpialidocious`. Write a python code to extract the substring `fragilistic`. Store your answer in the variable, `your_ans`."
   ]
  },
  {
   "cell_type": "code",
   "execution_count": null,
   "id": "8483a978-eaaf-4bf2-9bb8-d57bb799cef5",
   "metadata": {
    "tags": []
   },
   "outputs": [],
   "source": [
    "my_str = \"supercalifragilisticexpialidocious\"\n",
    "your_ans = ...\n",
    "print(your_ans)"
   ]
  },
  {
   "cell_type": "code",
   "execution_count": null,
   "id": "52bad04b",
   "metadata": {
    "deletable": false,
    "editable": false
   },
   "outputs": [],
   "source": [
    "grader.check(\"q7\")"
   ]
  },
  {
   "cell_type": "markdown",
   "id": "f0d2cf3c-306c-4a8c-870c-4d2760db2486",
   "metadata": {
    "deletable": false,
    "editable": false
   },
   "source": [
    "### Question 8\n",
    "\n",
    "Use the variable `my_str` defined in Question 7, and extract the substring, `super`. Store your answer in the variable, `your_ans`."
   ]
  },
  {
   "cell_type": "code",
   "execution_count": null,
   "id": "0195b7ab-bf7d-494e-a366-aa69ac08cad5",
   "metadata": {
    "tags": []
   },
   "outputs": [],
   "source": [
    "your_ans = ...\n",
    "print(your_ans)"
   ]
  },
  {
   "cell_type": "markdown",
   "id": "b941d50f-ea00-41e4-8835-044eca685c5d",
   "metadata": {
    "deletable": false,
    "editable": false
   },
   "source": [
    "### Question 9:\n",
    "Imagine you have a string that represents a fictional secret code: code = \"abracadabra\". The secret message is hidden in a special pattern within this code.\n",
    "\n",
    "Your task:\n",
    "\n",
    "- Extract the secret message from the code string using slicing, where the message is made up of every 3rd character.\n",
    "- Reverse the extracted secret message to reveal the final hidden message.\n",
    "\n",
    " Store your answer in the variable, `your_ans`. "
   ]
  },
  {
   "cell_type": "code",
   "execution_count": null,
   "id": "743d81b8-2d2a-45fe-9a84-a4fbf6c642d5",
   "metadata": {
    "tags": []
   },
   "outputs": [],
   "source": [
    "code = \"abracadabra\"\n",
    "secret_msg = ...\n",
    "hidden_msg = ...\n",
    "print(hidden_msg)"
   ]
  },
  {
   "cell_type": "code",
   "execution_count": null,
   "id": "2e88a8e7",
   "metadata": {
    "deletable": false,
    "editable": false
   },
   "outputs": [],
   "source": [
    "grader.check(\"q9\")"
   ]
  },
  {
   "cell_type": "markdown",
   "id": "87823802-2b94-4beb-b3a1-06f7c8bf967b",
   "metadata": {},
   "source": [
    "### String Methods\n",
    "\n",
    "Python provides various in-built functions to be applied on strings. A complete list of such functions can be found [here](https://docs.python.org/3/library/stdtypes.html#string-methods)"
   ]
  },
  {
   "cell_type": "markdown",
   "id": "9b1270a0-b661-437a-bc2f-16c7cc9a98f6",
   "metadata": {},
   "source": [
    "#### Change string to upper/lower case\n",
    "\n",
    "The `upper` method is used to convert a string to upper case. "
   ]
  },
  {
   "cell_type": "code",
   "execution_count": null,
   "id": "e59963f0-0649-428c-a0d6-0b3b953d42fb",
   "metadata": {},
   "outputs": [],
   "source": [
    "my_var = \"Hello World\"\n",
    "my_var.upper() # Notice how the method is invoked by using the string followed by a dot."
   ]
  },
  {
   "cell_type": "code",
   "execution_count": null,
   "id": "4798b3d5-675a-4a77-b746-4a158ffa4a15",
   "metadata": {},
   "outputs": [],
   "source": [
    "my_var.lower() # similarly, you can use lower to change to lower case"
   ]
  },
  {
   "cell_type": "markdown",
   "id": "283e62b6-1b9b-4daa-bd92-9b6444e38c20",
   "metadata": {},
   "source": [
    "### Count String\n",
    "\n",
    "The `count` method is used to count the number of times a substring appears in a string. "
   ]
  },
  {
   "cell_type": "code",
   "execution_count": null,
   "id": "b84583c5-4cd6-407e-ae9e-03b9e059791f",
   "metadata": {},
   "outputs": [],
   "source": [
    "tongue_twister = \"I scream, you scream, we all scream for ice cream.\"\n",
    "tongue_twister.count('cream')"
   ]
  },
  {
   "cell_type": "markdown",
   "id": "8ab41ada-4ab1-48fc-a20c-11355cbfb47c",
   "metadata": {
    "deletable": false,
    "editable": false
   },
   "source": [
    "### Question 10:\n",
    "\n",
    "Consider the following tweet: \n",
    "\n",
    ">Can’t decide if I want coffee or a nap. So, I’m just going to have a Coffee and then take a nap. ☕😴☕😴 #CoFFeeAndNap #Decisions #LivingTheDream #TooTired\n",
    "\n",
    "Write a Python code to determine the number of times the word coffee appears in a tweet, ensuring that the match is case-insensitive. This means that variations like Coffee, CoFFee, or CoffEE should all be counted. Store your answer in the variable `your_ans`. "
   ]
  },
  {
   "cell_type": "code",
   "execution_count": null,
   "id": "995e22d5-434d-4a56-9496-1f1b426c55ca",
   "metadata": {
    "tags": []
   },
   "outputs": [],
   "source": [
    "my_tweet = \"\"\"Can’t decide if I want coffee or a nap. \n",
    "So, I’m just going to have a Coffee and then take a nap.\n",
    "☕😴☕😴 #CoFFeeAndNap #Decisions #LivingTheDream #TooTired\"\"\"\n",
    "\n",
    "your_ans = ...\n",
    "print(your_ans)"
   ]
  },
  {
   "cell_type": "code",
   "execution_count": null,
   "id": "f04319f8",
   "metadata": {
    "deletable": false,
    "editable": false
   },
   "outputs": [],
   "source": [
    "grader.check(\"q10\")"
   ]
  },
  {
   "cell_type": "markdown",
   "id": "e3dfb70a-07c5-4ba2-af82-cee874f15cb2",
   "metadata": {},
   "source": [
    "#### Remove whitespaces from beginning or end of a string\n",
    "\n",
    "The `strip` method can be used to remove whitespaces at the start or end of a string."
   ]
  },
  {
   "cell_type": "code",
   "execution_count": null,
   "id": "316a86e9-7525-43f9-8150-5658df1a07ee",
   "metadata": {},
   "outputs": [],
   "source": [
    "my_var = \"    Hello         World            \"\n",
    "my_var.strip() # Notice how it only removes the spaces at the start and the end, but not in the middle"
   ]
  },
  {
   "cell_type": "code",
   "execution_count": null,
   "id": "bd9b19be-c33e-471a-a8b6-3cff16ac34dd",
   "metadata": {},
   "outputs": [],
   "source": [
    "my_var = \"        Hello World!!!!!!!!!\"\n",
    "my_var.strip('! ') # You can specify multiple characters as a string argument to remove them from the beginning and end of the string."
   ]
  },
  {
   "cell_type": "markdown",
   "id": "052b5d47-6cfe-433a-b471-c229ae21dee5",
   "metadata": {
    "deletable": false,
    "editable": false
   },
   "source": [
    "### Question 11:\n",
    "\n",
    "Write a python code to extract the word `data` by stripping the unwanted characters from the string, `,,,!!!!mldata***&&`. Store your result in the variable, `your_ans`."
   ]
  },
  {
   "cell_type": "code",
   "execution_count": null,
   "id": "22e8059b-b159-4bc7-91be-80dc4a1968fb",
   "metadata": {
    "tags": []
   },
   "outputs": [],
   "source": [
    "my_str = \",,,!!!mldata***&&&\"\n",
    "your_ans = ...\n",
    "print(your_ans)"
   ]
  },
  {
   "cell_type": "code",
   "execution_count": null,
   "id": "29144c56",
   "metadata": {
    "deletable": false,
    "editable": false
   },
   "outputs": [],
   "source": [
    "grader.check(\"q11\")"
   ]
  },
  {
   "cell_type": "markdown",
   "id": "d836dcfd-6f29-44d6-91f8-5a91b67e2842",
   "metadata": {},
   "source": [
    "#### Replace String\n",
    "\n",
    "The `replace` method replaces a string with another string"
   ]
  },
  {
   "cell_type": "code",
   "execution_count": null,
   "id": "87fe85b5-d910-44bb-bc98-fb31c5513a13",
   "metadata": {},
   "outputs": [],
   "source": [
    "my_var = \"I love CSCI1462\"\n",
    "my_var.replace(\"CSCI1462\", \"Data Analytics\")"
   ]
  },
  {
   "cell_type": "markdown",
   "id": "f8550670-ad6d-4ec3-8ba0-a69ee731d14d",
   "metadata": {
    "deletable": false,
    "editable": false
   },
   "source": [
    "### Question 12\n",
    "\n",
    "Given the string `The company will be hosting a seminar about the new technologies. The technologies are revolutionary and will change the industry`, write a Python code to automatically replace occurrences of the word `technologies` with `innovations` and `seminar` with `workshop`. Store your result in the variable `your_ans`. \n",
    "\n",
    "Manual replacement of these words is impractical, especially if the string contains a large number of occurrences, such as 1 million instances. Hence, it's essential to use Python's `replace()` method to handle these replacements efficiently and accurately."
   ]
  },
  {
   "cell_type": "code",
   "execution_count": null,
   "id": "e636187f-58c1-4739-945f-54e57da6543c",
   "metadata": {
    "tags": []
   },
   "outputs": [],
   "source": [
    "my_str = \"The company will be hosting a seminar about the new technologies. The technologies are revolutionary and will change the industry.\"\n",
    "your_ans = ...\n",
    "print(your_ans)"
   ]
  },
  {
   "cell_type": "code",
   "execution_count": null,
   "id": "e62af984-dd63-401c-b5f5-690879fc8182",
   "metadata": {
    "deletable": false,
    "editable": false
   },
   "outputs": [],
   "source": [
    "your_ans == \"The company will be hosting a workshop about the new innovations. The innovations are revolutionary and will change the industry.\""
   ]
  },
  {
   "cell_type": "markdown",
   "id": "38395946-0177-4313-b890-ff376fde5aba",
   "metadata": {},
   "source": [
    "#### Split String\n",
    "\n",
    "We can use the `split` method to divide a string into multiple substrings based on a delimiter. This method returns a list containing the resulting substrings."
   ]
  },
  {
   "cell_type": "code",
   "execution_count": null,
   "id": "370b2092-429e-42db-a6a4-00dd05fa2252",
   "metadata": {},
   "outputs": [],
   "source": [
    "fruits = \"Apple, Banana, Orange, Kiwi\"\n",
    "fruits.split(\", \") # Splitting strings based on , character. Note the space after the comma"
   ]
  },
  {
   "cell_type": "markdown",
   "id": "46841e00-6928-4201-b3bb-2a48e7424dd2",
   "metadata": {
    "deletable": false,
    "editable": false
   },
   "source": [
    "### Question 13\n",
    "\n",
    "You are given a string that contains a list of comma-separated names. Your task is to split the string into individual names using the `split` method. Store your answer in a variable, `your_ans`. "
   ]
  },
  {
   "cell_type": "code",
   "execution_count": null,
   "id": "0e45bd99-51a4-498d-889a-0a679a1490ce",
   "metadata": {
    "tags": []
   },
   "outputs": [],
   "source": [
    "list_of_names = 'Bob;Charlie;Victoria;Anson'\n",
    "your_ans = ...\n",
    "print(your_ans)"
   ]
  },
  {
   "cell_type": "code",
   "execution_count": null,
   "id": "ca0e5a19",
   "metadata": {
    "deletable": false,
    "editable": false
   },
   "outputs": [],
   "source": [
    "grader.check(\"q13\")"
   ]
  },
  {
   "cell_type": "markdown",
   "id": "1c441cee-b9f1-4094-bd52-d8ce8cdacf15",
   "metadata": {},
   "source": [
    "#### String Concatenation\n",
    "\n",
    "You can use the `+` operator to combine two strings together. "
   ]
  },
  {
   "cell_type": "code",
   "execution_count": null,
   "id": "377541bf-8757-4ed1-b2b5-6ee2eb3f2e21",
   "metadata": {},
   "outputs": [],
   "source": [
    "s1 = \"I love\"\n",
    "s2 = \"Data Analytics\"\n",
    "print(s1 + \" \" + s2)"
   ]
  },
  {
   "cell_type": "markdown",
   "id": "2c49bfa1-1b27-4a7f-a6e3-fe0f22deb3c4",
   "metadata": {
    "deletable": false,
    "editable": false
   },
   "source": [
    "### Question 14\n",
    "You are building a simple user registration system and need to generate a welcome message for new users. Given the user's first name and last name, your task is to:\n",
    "1. Create a full name by concatenating the first name and last name with a space in between.\n",
    "2. Generate a welcome message in the format: \n",
    "`Welcome, [Full Name]! We're excited to have you join us.`\n",
    "3. Print the welcome message.\n",
    "\n",
    "For eg: \n",
    "If the user’s first name is \"John\" and last name is \"Doe\", the output should be:\n",
    "\n",
    "`Welcome, John Doe! We're excited to have you join us.`"
   ]
  },
  {
   "cell_type": "code",
   "execution_count": null,
   "id": "069ee578-e783-4547-a65a-95344db1de6d",
   "metadata": {
    "tags": []
   },
   "outputs": [],
   "source": [
    "first_name = \"John\"\n",
    "last_name = \"Doe\"\n",
    "full_name = ...\n",
    "welcome_msg = ...\n",
    "print(welcome_msg)"
   ]
  },
  {
   "cell_type": "markdown",
   "id": "d6cce9b8-1edd-4671-9735-c47192b09ca3",
   "metadata": {
    "deletable": false,
    "editable": false
   },
   "source": [
    "You can achieve the same result using string formatting, which often makes the code cleaner and more readable. Here’s how you could do it using f-strings."
   ]
  },
  {
   "cell_type": "code",
   "execution_count": null,
   "id": "7d64cc59-0dfa-4195-bb7f-0f0e8477eb79",
   "metadata": {
    "deletable": false,
    "editable": false
   },
   "outputs": [],
   "source": [
    "print(f\"Welcome, {full_name}! We're excited to have you join us.\")"
   ]
  },
  {
   "cell_type": "code",
   "execution_count": null,
   "id": "43ff3e7f",
   "metadata": {
    "deletable": false,
    "editable": false
   },
   "outputs": [],
   "source": [
    "grader.check(\"q14\")"
   ]
  },
  {
   "cell_type": "markdown",
   "id": "2b0dbc71-7be5-4620-a001-0cda23b1edf6",
   "metadata": {},
   "source": [
    "#### Escape Character within a String\n",
    "\n",
    "If you want to add a special character within a string, then you may add them by using an escape character. \n",
    "\n",
    "For eg: Suppose we want to print the string, `He said, \"How are you?\"`"
   ]
  },
  {
   "cell_type": "raw",
   "id": "4e524a8b-c081-472b-9ef7-17b63be88d62",
   "metadata": {},
   "source": [
    "my_var = \"He said, \"How are you?\"\" \n",
    "print(my_var)"
   ]
  },
  {
   "cell_type": "markdown",
   "id": "215a66bb-56f8-419d-96b5-14f8fe184b97",
   "metadata": {},
   "source": [
    "Oops! It seems the Python interpreter is having trouble distinguishing the double quotation marks within the string from the ones that delimit the string itself. To resolve this, you should use the escape character, a backslash (\\), to indicate that the double quotation marks inside the string are meant to be part of the string rather than delimiters. Here’s how you can do it:"
   ]
  },
  {
   "cell_type": "code",
   "execution_count": null,
   "id": "d8114513-2fd9-49cc-b602-b64ccb526999",
   "metadata": {},
   "outputs": [],
   "source": [
    "my_var = \"He said, \\\"How are you?\\\"\"\n",
    "print(my_var)"
   ]
  },
  {
   "cell_type": "markdown",
   "id": "7c006cb8-a6f4-46d3-901b-f582525f4fce",
   "metadata": {
    "deletable": false,
    "editable": false
   },
   "source": [
    "### Question 15\n",
    "\n",
    "Write a python code to display the following statements: \n",
    "\n",
    "```\n",
    " Success is not final\n",
    " Failure is not fatal\n",
    " It is the \"courage\" to continue that counts\n",
    "                 - Winston S. Churchill\n",
    "```\n",
    "\n",
    "Ensure the two tab spaces precede the attribution line (- Winston S. Churchill). \n",
    "\n",
    "Hints:\n",
    "1. To print messages in Python , utilize the f-string formatting.\n",
    "2. To include tab spaces, use `\\t` as an argument within the print method. Similarly, use `\\n` to introduce new line. For instance,"
   ]
  },
  {
   "cell_type": "code",
   "execution_count": null,
   "id": "65441588-dc85-431c-9191-edfc3b58cc09",
   "metadata": {
    "deletable": false,
    "editable": false
   },
   "outputs": [],
   "source": [
    "print(\"Hello\\tWorld\") # this will add a tab space in between Hello and World"
   ]
  },
  {
   "cell_type": "code",
   "execution_count": null,
   "id": "0d984e5f-9a2e-431c-898a-4036b22b5c7a",
   "metadata": {
    "deletable": false,
    "editable": false
   },
   "outputs": [],
   "source": [
    "print(\"Hello\\nWorld\") # this will add a new line in between Hello and World"
   ]
  },
  {
   "cell_type": "code",
   "execution_count": null,
   "id": "d8425b82-d63e-4769-b7f4-55527b6072e4",
   "metadata": {
    "tags": []
   },
   "outputs": [],
   "source": [
    "..."
   ]
  },
  {
   "cell_type": "markdown",
   "id": "5113e0e0-4449-414d-a8c9-2784f86599b6",
   "metadata": {},
   "source": [
    "# 2. Lists"
   ]
  },
  {
   "cell_type": "markdown",
   "id": "7e8d9a4e-914f-447e-b91d-5faba5a8f2c7",
   "metadata": {},
   "source": [
    "In Python, lists are used to store items in a sequential order. These items can be of various types and are created using square brackets."
   ]
  },
  {
   "cell_type": "code",
   "execution_count": null,
   "id": "b394a58e-27ea-4dd0-8809-c276f46174b8",
   "metadata": {},
   "outputs": [],
   "source": [
    "fruits = [\"Apple\", \"Banana\", \"Orange\", \"Kiwi\"]\n",
    "type(fruits)"
   ]
  },
  {
   "cell_type": "code",
   "execution_count": null,
   "id": "7c5acbf6-5245-4897-81f1-df41064c1d0a",
   "metadata": {},
   "outputs": [],
   "source": [
    "students = [[\"Kevin\", 23, \"484 Bourborn St.\"], [\"Tyler\", 34, \"95 Esplanade Ave.\"]]"
   ]
  },
  {
   "cell_type": "markdown",
   "id": "acfa3ec4-4fe4-46f0-bc0d-cee5fa34d47d",
   "metadata": {
    "deletable": false,
    "editable": false
   },
   "source": [
    "### Question 16:\n",
    "\n",
    "Write a python code to create a list to store five of your friend's name. Store your list in the variable, `friends`. "
   ]
  },
  {
   "cell_type": "code",
   "execution_count": null,
   "id": "7ebabb9e-6d00-4836-b4e8-271a828f24b2",
   "metadata": {
    "tags": []
   },
   "outputs": [],
   "source": [
    "friends = ...\n",
    "friends"
   ]
  },
  {
   "cell_type": "code",
   "execution_count": null,
   "id": "3a282bfc",
   "metadata": {
    "deletable": false,
    "editable": false
   },
   "outputs": [],
   "source": [
    "grader.check(\"q16\")"
   ]
  },
  {
   "cell_type": "markdown",
   "id": "e9a955cd-76be-4d75-a146-a0a1f353fde3",
   "metadata": {},
   "source": [
    "#### Indexing in Lists\n",
    "\n",
    "Since lists are ordered, they maintain an index similar to strings. You can access items in a list using these indices."
   ]
  },
  {
   "cell_type": "code",
   "execution_count": null,
   "id": "4bd7bf8d-fac8-48d5-babc-2fa837a4cd6c",
   "metadata": {},
   "outputs": [],
   "source": [
    "fruits[0]"
   ]
  },
  {
   "cell_type": "code",
   "execution_count": null,
   "id": "b99cd2cd-7f28-4e01-8fc1-8557e43a61c8",
   "metadata": {},
   "outputs": [],
   "source": [
    "fruits[:3]"
   ]
  },
  {
   "cell_type": "code",
   "execution_count": null,
   "id": "70cede60-76ba-4be0-b836-6e31a10af2d7",
   "metadata": {},
   "outputs": [],
   "source": [
    "students[-1]"
   ]
  },
  {
   "cell_type": "markdown",
   "id": "31953c4d-6405-46ee-8b76-25c1bf2991f0",
   "metadata": {
    "deletable": false,
    "editable": false
   },
   "source": [
    "### Question 17:\n",
    "\n",
    "Write a python code to print the names of last three friends in your `friends` list you created in Question 16. Store your answer in the variable, `three_friends`. "
   ]
  },
  {
   "cell_type": "code",
   "execution_count": null,
   "id": "aed7082e-c158-49e3-96c1-4632eed969da",
   "metadata": {
    "tags": []
   },
   "outputs": [],
   "source": [
    "three_friends = ...\n",
    "three_friends"
   ]
  },
  {
   "cell_type": "code",
   "execution_count": null,
   "id": "e9d304b3",
   "metadata": {
    "deletable": false,
    "editable": false
   },
   "outputs": [],
   "source": [
    "grader.check(\"q17\")"
   ]
  },
  {
   "cell_type": "markdown",
   "id": "066b2d6f-44fb-4a03-a858-87c757e0747e",
   "metadata": {
    "deletable": false,
    "editable": false
   },
   "source": [
    "### Question 18:\n",
    "\n",
    "Please solve the question 17; using **negative indexing**. "
   ]
  },
  {
   "cell_type": "code",
   "execution_count": null,
   "id": "79518e8a-9e58-4100-8479-3ff985c36c9f",
   "metadata": {
    "tags": []
   },
   "outputs": [],
   "source": [
    "three_friends = ...\n",
    "three_friends"
   ]
  },
  {
   "cell_type": "code",
   "execution_count": null,
   "id": "a104a711",
   "metadata": {
    "deletable": false,
    "editable": false
   },
   "outputs": [],
   "source": [
    "grader.check(\"q18\")"
   ]
  },
  {
   "cell_type": "markdown",
   "id": "8956d179-d58e-441d-b396-922daed7c51d",
   "metadata": {
    "deletable": false,
    "editable": false
   },
   "source": [
    "### Question 19:\n",
    "\n",
    "Write a python code to extract the string `abracadabra` from the list `my_list`. Store your answer in the variable `your_ans`. "
   ]
  },
  {
   "cell_type": "code",
   "execution_count": null,
   "id": "a340a6e1-f6b4-4fe0-8467-15115692a1f6",
   "metadata": {
    "tags": []
   },
   "outputs": [],
   "source": [
    "my_list = [56, [192, [395, 539, \"abracadabra\", 5]], [38, 59, 56]]\n",
    "your_ans = ...\n",
    "your_ans"
   ]
  },
  {
   "cell_type": "code",
   "execution_count": null,
   "id": "3da0957b",
   "metadata": {
    "deletable": false,
    "editable": false
   },
   "outputs": [],
   "source": [
    "grader.check(\"q19\")"
   ]
  },
  {
   "cell_type": "markdown",
   "id": "36281552-e3ec-489b-b96c-daab30e5babf",
   "metadata": {},
   "source": [
    "### Check items in a list\n",
    "\n",
    "You can check if an item is in a list, using `in` keyword"
   ]
  },
  {
   "cell_type": "code",
   "execution_count": null,
   "id": "58584b0f-13b2-432a-9b1c-88417fdaab0b",
   "metadata": {},
   "outputs": [],
   "source": [
    "\"Kiwi\" in fruits"
   ]
  },
  {
   "cell_type": "code",
   "execution_count": null,
   "id": "2a1f9bcc-3abf-4ef7-89cc-355c28239556",
   "metadata": {},
   "outputs": [],
   "source": [
    "\"Mango\" in fruits"
   ]
  },
  {
   "cell_type": "markdown",
   "id": "2a9694f3-0f47-446d-ac8b-fd4c1de5a94a",
   "metadata": {
    "deletable": false,
    "editable": false
   },
   "source": [
    "### Question 20:\n",
    "\n",
    " Check if the name `Alex` is in your friends list. Store your answer in the variable `your_ans`. "
   ]
  },
  {
   "cell_type": "code",
   "execution_count": null,
   "id": "d5901f5f-029e-4995-a93a-7177f353470b",
   "metadata": {
    "tags": []
   },
   "outputs": [],
   "source": [
    "your_ans = ...\n",
    "your_ans"
   ]
  },
  {
   "cell_type": "code",
   "execution_count": null,
   "id": "cafef788",
   "metadata": {
    "deletable": false,
    "editable": false
   },
   "outputs": [],
   "source": [
    "grader.check(\"q20\")"
   ]
  },
  {
   "cell_type": "markdown",
   "id": "1177dd77-7906-41c7-b453-d7ef1a97a05f",
   "metadata": {},
   "source": [
    "### Length of a list\n",
    "\n",
    "To determine the number of items in a list, you can use `len` in-built function"
   ]
  },
  {
   "cell_type": "code",
   "execution_count": null,
   "id": "39fa3f86-6215-4ae9-baff-bcd954ad9eb5",
   "metadata": {},
   "outputs": [],
   "source": [
    "len(students)"
   ]
  },
  {
   "cell_type": "markdown",
   "id": "faef6ced-d619-4941-9018-536b68c72fed",
   "metadata": {},
   "source": [
    "### Changing items in a list\n",
    "\n",
    "Lists are mutable, meaning you can modify, add, or remove items. To change an item in a list, you can use indexing to assign a new value."
   ]
  },
  {
   "cell_type": "code",
   "execution_count": null,
   "id": "9a2bf9af-1a29-4288-98cb-b793f7eadbb5",
   "metadata": {},
   "outputs": [],
   "source": [
    "fruits[0]= \"Mango\"\n",
    "fruits"
   ]
  },
  {
   "cell_type": "markdown",
   "id": "c410a575-2149-467c-9edb-c79a80206115",
   "metadata": {},
   "source": [
    "To insert item in a list, you may use `append` function on a list. "
   ]
  },
  {
   "cell_type": "code",
   "execution_count": null,
   "id": "f2182335-27c6-46fe-86f5-8e9121af2fa1",
   "metadata": {},
   "outputs": [],
   "source": [
    "fruits.append(\"Peach\")"
   ]
  },
  {
   "cell_type": "code",
   "execution_count": null,
   "id": "186d3016-08bb-466e-8177-fb7e0d4bd47a",
   "metadata": {},
   "outputs": [],
   "source": [
    "fruits"
   ]
  },
  {
   "cell_type": "markdown",
   "id": "051cca0f-3a10-4cc5-a243-da1c49f0f5b8",
   "metadata": {},
   "source": [
    "### Adding items to a list"
   ]
  },
  {
   "cell_type": "markdown",
   "id": "717c8ee0-e4de-4cf4-9b7b-6e5e7a9cb615",
   "metadata": {},
   "source": [
    "To insert item at a particular index of a list, you can use `insert` function. "
   ]
  },
  {
   "cell_type": "code",
   "execution_count": null,
   "id": "45edf1c2-6ee3-470c-bc1d-c3e3521ddce2",
   "metadata": {},
   "outputs": [],
   "source": [
    "fruits.insert(0, \"Apple\")\n",
    "fruits"
   ]
  },
  {
   "cell_type": "markdown",
   "id": "3c413a79-1bc0-4265-a1fa-b9552bae3099",
   "metadata": {},
   "source": [
    "To add another list to a list, use `extend` function."
   ]
  },
  {
   "cell_type": "code",
   "execution_count": null,
   "id": "89933815-8eba-4d34-b53d-8a51dd0ef785",
   "metadata": {},
   "outputs": [],
   "source": [
    "fruits.extend([\"Pomegranate\", \"Pineapple\"])\n",
    "fruits"
   ]
  },
  {
   "cell_type": "markdown",
   "id": "1f0211e2-5daf-4f5d-abbb-8139359b2840",
   "metadata": {},
   "source": [
    "You may also use `+` to add/concatenate two lists together"
   ]
  },
  {
   "cell_type": "code",
   "execution_count": null,
   "id": "e70abe00-c021-49ed-ab95-21c077d55702",
   "metadata": {},
   "outputs": [],
   "source": [
    "list1 = [\"A\", \"B\", \"C\"]\n",
    "list2 = [1, 2, 3]\n",
    "my_list = list1 + list2\n",
    "my_list"
   ]
  },
  {
   "cell_type": "markdown",
   "id": "825b59af-6e95-4e9c-8c1b-65255c9476b8",
   "metadata": {
    "deletable": false,
    "editable": false
   },
   "source": [
    "### Question 21:\n",
    "\n",
    " Write a python code to add two more friends name `Jeremy`, `Dipak` in your list `friends`."
   ]
  },
  {
   "cell_type": "code",
   "execution_count": null,
   "id": "78876e04-2c1b-4ce6-ba08-5998d5857a41",
   "metadata": {
    "tags": []
   },
   "outputs": [],
   "source": [
    "...\n",
    "friends"
   ]
  },
  {
   "cell_type": "code",
   "execution_count": null,
   "id": "8ea26ff4",
   "metadata": {
    "deletable": false,
    "editable": false
   },
   "outputs": [],
   "source": [
    "grader.check(\"q21\")"
   ]
  },
  {
   "cell_type": "markdown",
   "id": "490b1297-f6dc-4609-9069-fec628cc3e0e",
   "metadata": {},
   "source": [
    "### Remove items from a list\n",
    "\n",
    "To remove an item from a list, you may use `remove` function"
   ]
  },
  {
   "cell_type": "code",
   "execution_count": null,
   "id": "c1a05e19-cb08-49b0-8021-b4e94949a90c",
   "metadata": {},
   "outputs": [],
   "source": [
    "fruits.remove(\"Peach\")"
   ]
  },
  {
   "cell_type": "code",
   "execution_count": null,
   "id": "d1269810-854e-4e73-8476-5180f509e50b",
   "metadata": {},
   "outputs": [],
   "source": [
    "fruits"
   ]
  },
  {
   "cell_type": "markdown",
   "id": "a79cb4c2-a68c-4309-9d14-8b81badf1d2a",
   "metadata": {},
   "source": [
    "To remove an item based on an index, you may use `pop` function"
   ]
  },
  {
   "cell_type": "code",
   "execution_count": null,
   "id": "0130836d-2d12-415a-bb5c-4f9231403a64",
   "metadata": {},
   "outputs": [],
   "source": [
    "fruits.pop(1)\n",
    "fruits"
   ]
  },
  {
   "cell_type": "code",
   "execution_count": null,
   "id": "dc1a055c-7094-428c-a24e-834b98bae3df",
   "metadata": {},
   "outputs": [],
   "source": [
    "fruits.pop() # if no index is given, it will remove the last item from the list\n",
    "fruits"
   ]
  },
  {
   "cell_type": "markdown",
   "id": "2f034b8b-d5ba-49b3-96ba-45c2f398f35c",
   "metadata": {
    "deletable": false,
    "editable": false
   },
   "source": [
    "### Question 22:\n",
    " Write a python code to remove the second friend from your `friends` list. "
   ]
  },
  {
   "cell_type": "code",
   "execution_count": null,
   "id": "2fc3bca2-d243-4794-b22e-4ffa64cfda46",
   "metadata": {
    "tags": []
   },
   "outputs": [],
   "source": [
    "...\n",
    "friends"
   ]
  },
  {
   "cell_type": "code",
   "execution_count": null,
   "id": "71876e03",
   "metadata": {
    "deletable": false,
    "editable": false
   },
   "outputs": [],
   "source": [
    "grader.check(\"q22\")"
   ]
  },
  {
   "cell_type": "markdown",
   "id": "b5189b35-6fd5-481c-89dd-4f3389f1bc13",
   "metadata": {
    "deletable": false,
    "editable": false
   },
   "source": [
    "### Question 23:\n",
    " Write a python code to remove `Jeremy` and `Dipak` from your `friends` list. "
   ]
  },
  {
   "cell_type": "code",
   "execution_count": null,
   "id": "169617dd-32be-4546-8fdd-b22668bd893a",
   "metadata": {
    "tags": []
   },
   "outputs": [],
   "source": [
    "...\n",
    "...\n",
    "friends"
   ]
  },
  {
   "cell_type": "code",
   "execution_count": null,
   "id": "bbf74a56",
   "metadata": {
    "deletable": false,
    "editable": false
   },
   "outputs": [],
   "source": [
    "grader.check(\"q23\")"
   ]
  },
  {
   "cell_type": "markdown",
   "id": "5188e082-4391-4437-a708-b4f307dd8800",
   "metadata": {},
   "source": [
    "### Copying list"
   ]
  },
  {
   "cell_type": "markdown",
   "id": "ba73a0da-21d9-42c6-85ab-de19489193be",
   "metadata": {},
   "source": [
    "When a list is copied to another list, both lists actually refer to the same items. Therefore, changes made to one list will be reflected in the other.\n",
    "\n",
    "For eg: "
   ]
  },
  {
   "cell_type": "code",
   "execution_count": null,
   "id": "8750c7ca-7046-493a-96a5-8eae4ca0275b",
   "metadata": {},
   "outputs": [],
   "source": [
    "list1 = [1, 2, 3]\n",
    "list2 = list1 # here list1 is copied to list2\n",
    "\n",
    "list2[0] = 100\n",
    "list1 # although the first item of list2 is changed, however they both refer to the same items, it will reflect in list1"
   ]
  },
  {
   "cell_type": "markdown",
   "id": "d9e4f93e-80e5-4363-8a08-94909dc29916",
   "metadata": {},
   "source": [
    "If you want to make a separate copy of the list, use `copy` method. "
   ]
  },
  {
   "cell_type": "code",
   "execution_count": null,
   "id": "43fa0365-5cb1-4e43-b767-7e2ccfdfb429",
   "metadata": {},
   "outputs": [],
   "source": [
    "list1 = [1, 2, 3]\n",
    "list2 = list1.copy()\n",
    "list2[0] = 100\n",
    "list1 # now changing list2 doesn't effect list1"
   ]
  },
  {
   "cell_type": "code",
   "execution_count": null,
   "id": "cf97e4e2-a14b-41cd-aa4c-b57b9a72cfa1",
   "metadata": {},
   "outputs": [],
   "source": [
    "list2"
   ]
  },
  {
   "cell_type": "markdown",
   "id": "923aa871-e405-48e8-9958-44613188b612",
   "metadata": {},
   "source": [
    "## 3. Tuples"
   ]
  },
  {
   "cell_type": "markdown",
   "id": "6c1ed729-dffa-4427-b467-223918dccd34",
   "metadata": {},
   "source": [
    "Like lists, tuples are used to store items in a sequential order. However, tuples are defined using parentheses and are immutable, meaning their contents cannot be changed after creation"
   ]
  },
  {
   "cell_type": "code",
   "execution_count": null,
   "id": "ad98f15d-6513-40e6-8952-9bdd8c19359d",
   "metadata": {},
   "outputs": [],
   "source": [
    "colors = (\"Green\", \"Black\", \"Blue\", \"Red\")\n",
    "colors"
   ]
  },
  {
   "cell_type": "code",
   "execution_count": null,
   "id": "bbff1cd4-e38b-402a-a23f-25700994f548",
   "metadata": {},
   "outputs": [],
   "source": [
    "type(colors)"
   ]
  },
  {
   "cell_type": "markdown",
   "id": "a58ff779-06c3-4b77-9c31-5422c0c92af0",
   "metadata": {
    "deletable": false,
    "editable": false
   },
   "source": [
    "### Question 24:\n",
    "\n",
    "Write a python code to create a tuple to store three courses you are taking this semester. Store your answer in the variable `your_courses`. "
   ]
  },
  {
   "cell_type": "code",
   "execution_count": null,
   "id": "dbe10844-76dc-47c4-9fb9-134554d003dd",
   "metadata": {
    "tags": []
   },
   "outputs": [],
   "source": [
    "your_courses = ...\n",
    "your_courses"
   ]
  },
  {
   "cell_type": "code",
   "execution_count": null,
   "id": "d12655a7",
   "metadata": {
    "deletable": false,
    "editable": false
   },
   "outputs": [],
   "source": [
    "grader.check(\"q24\")"
   ]
  },
  {
   "cell_type": "markdown",
   "id": "3e52e253-ce08-4147-a496-432118737ebe",
   "metadata": {},
   "source": [
    "### Indexing in tuples\n",
    "\n",
    "Similar to lists, you can use index in tuple to access items in a tuple. "
   ]
  },
  {
   "cell_type": "code",
   "execution_count": null,
   "id": "b82ee427-b1a6-4d6a-8fc2-46e1e68841bc",
   "metadata": {},
   "outputs": [],
   "source": [
    "colors[1]"
   ]
  },
  {
   "cell_type": "code",
   "execution_count": null,
   "id": "252320eb-35d1-4300-98e5-c118da7f2f02",
   "metadata": {},
   "outputs": [],
   "source": [
    "colors[:3]"
   ]
  },
  {
   "cell_type": "code",
   "execution_count": null,
   "id": "597a8241-c4ae-40d8-bc09-9fd3028e3409",
   "metadata": {},
   "outputs": [],
   "source": [
    "colors[-3]"
   ]
  },
  {
   "cell_type": "markdown",
   "id": "5750f0fb-4ba5-40c5-b000-2168bf5b33d1",
   "metadata": {},
   "source": [
    "Since tuples are immutable and their values are ordered, you can \"unpack\" each item of a tuple into individual variables as shown below:"
   ]
  },
  {
   "cell_type": "code",
   "execution_count": null,
   "id": "c4182c72-f261-44c9-b065-2821fa55d4ea",
   "metadata": {},
   "outputs": [],
   "source": [
    "name = (\"Dipak\", \"Singh\")\n",
    "first_name, second_name = name #Unpacking the two values of a tuple into two variables. \n",
    "\n",
    "print(f\"First item: {first_name} ;  Second item: {second_name}\")"
   ]
  },
  {
   "cell_type": "markdown",
   "id": "44be9b2f-e4ad-45b7-9c28-0577fda3ee73",
   "metadata": {
    "deletable": false,
    "editable": false
   },
   "source": [
    "### Question 25:\n",
    "\n",
    "Write a python code to unpack the three courses from the variable `your_courses` into variables `course1`, `course2` and `course3`. "
   ]
  },
  {
   "cell_type": "code",
   "execution_count": null,
   "id": "18a44fea-793e-4515-b1d2-ba25a9076c0b",
   "metadata": {
    "tags": []
   },
   "outputs": [],
   "source": [
    "course1, course2, course3 = ..."
   ]
  },
  {
   "cell_type": "code",
   "execution_count": null,
   "id": "695adb76",
   "metadata": {
    "deletable": false,
    "editable": false
   },
   "outputs": [],
   "source": [
    "grader.check(\"q25\")"
   ]
  },
  {
   "cell_type": "markdown",
   "id": "1504c380-ed1f-42cf-bb0a-5aaea08a992f",
   "metadata": {},
   "source": [
    "# 4. Dictionaries\n",
    "\n"
   ]
  },
  {
   "cell_type": "markdown",
   "id": "2a393124-f8e2-4e10-8c46-5cfb53de86f2",
   "metadata": {},
   "source": [
    "Dictionaries are used to store items in a special format of `key: value` pair. Dictionaries are changeable, and ordered (since python 3.7+). "
   ]
  },
  {
   "cell_type": "code",
   "execution_count": null,
   "id": "41744daa-d72b-4fc5-976e-8b2ca298948a",
   "metadata": {},
   "outputs": [],
   "source": [
    "my_info = {\"name\": \"Steve\", \"age\" : 30, \"state\" : \"Texas\"}\n",
    "type(my_info)"
   ]
  },
  {
   "cell_type": "code",
   "execution_count": null,
   "id": "9ff77cd5-78d8-46a7-9352-09b5786fd26c",
   "metadata": {},
   "outputs": [],
   "source": [
    "student = {\"name\": \"Steve\", \"age\" : 30, \"courses\" : [\"CSCI1394\", \"CSCI924\"]}"
   ]
  },
  {
   "cell_type": "markdown",
   "id": "ef79c4b8-c906-4cd7-affd-ff17ce6bd702",
   "metadata": {},
   "source": [
    "Avoid using items with duplicate keys. Keys are immutable, such as strings can be used as keys in dictionary. "
   ]
  },
  {
   "cell_type": "code",
   "execution_count": null,
   "id": "ccd66288-c2f0-4a7b-88a0-7c261bb0b804",
   "metadata": {},
   "outputs": [],
   "source": [
    "my_info  = {\"name\": \"Steve\", \"age\" : 30, \"state\" : \"Texas\", \"name\": \"Kevin\"}"
   ]
  },
  {
   "cell_type": "code",
   "execution_count": null,
   "id": "c017fb7b-f4be-4b39-a1ce-8790f64962fd",
   "metadata": {},
   "outputs": [],
   "source": [
    "my_info"
   ]
  },
  {
   "cell_type": "markdown",
   "id": "1a79bea8-ff77-44f7-b0ed-a25d30daaeb8",
   "metadata": {
    "deletable": false,
    "editable": false
   },
   "source": [
    "### Question 26:\n",
    "\n",
    "Write a python code to create a dictionary to represent a library catalog where each book is identified by its ISBN number. Each entry in the dictionary should include the book’s title, author, and publication year. Store your result in the variable `library_catalog`\n",
    "\n",
    "Your dictionary should look like the following:\n",
    "\n",
    "```\n",
    "    'ISBN1': {\n",
    "        'title': 'Sherlock Holmes: A Study in Scarlet',\n",
    "        'author': 'Sir Arthur Conan Doyle',\n",
    "        'publication_year': 1887\n",
    "    },\n",
    "    'ISBN2': {\n",
    "        'title': 'Pride and Prejudice',\n",
    "        'author': 'Jane Austen',\n",
    "        'publication_year': 1813\n",
    "    }\n",
    "```"
   ]
  },
  {
   "cell_type": "code",
   "execution_count": null,
   "id": "2e0051aa-2e84-45e2-b917-3d1fa435c738",
   "metadata": {
    "tags": []
   },
   "outputs": [],
   "source": [
    "library_catalog = ..."
   ]
  },
  {
   "cell_type": "code",
   "execution_count": null,
   "id": "765bf9b4",
   "metadata": {
    "deletable": false,
    "editable": false
   },
   "outputs": [],
   "source": [
    "grader.check(\"q26\")"
   ]
  },
  {
   "cell_type": "markdown",
   "id": "536abb82-09dc-430c-a67d-58e3ff77ef13",
   "metadata": {},
   "source": [
    "### Accessing items of a dictionary"
   ]
  },
  {
   "cell_type": "markdown",
   "id": "b40cd1b4-c2af-4639-936e-49c3c723c3d5",
   "metadata": {},
   "source": [
    "You can access item of a dictionary by refering to it's key name. "
   ]
  },
  {
   "cell_type": "code",
   "execution_count": null,
   "id": "de37fc04-dfea-4822-8656-262dbe310fdf",
   "metadata": {},
   "outputs": [],
   "source": [
    "student[\"name\"]"
   ]
  },
  {
   "cell_type": "code",
   "execution_count": null,
   "id": "614f361a-4999-4a80-b4d2-1dadb6d93008",
   "metadata": {},
   "outputs": [],
   "source": [
    "student[\"courses\"]"
   ]
  },
  {
   "cell_type": "markdown",
   "id": "efda0936-d268-47ad-9588-c0c49279dc9d",
   "metadata": {},
   "source": [
    "You can get all the keys of a dictionary using `keys` function"
   ]
  },
  {
   "cell_type": "code",
   "execution_count": null,
   "id": "fe425a98-de5a-435f-a9b4-5c33bd369295",
   "metadata": {},
   "outputs": [],
   "source": [
    "student.keys()"
   ]
  },
  {
   "cell_type": "markdown",
   "id": "d7d7b707-6e28-42fd-88da-c8be160dfd56",
   "metadata": {},
   "source": [
    "You can get all values of a dictionary using `values` function"
   ]
  },
  {
   "cell_type": "code",
   "execution_count": null,
   "id": "d2d4ec1d-f6f8-4e9e-baa4-38cd94b2aae6",
   "metadata": {},
   "outputs": [],
   "source": [
    "student.values()"
   ]
  },
  {
   "cell_type": "markdown",
   "id": "016c0025-517a-4d4e-b5c3-65671dff66a5",
   "metadata": {},
   "source": [
    "You can get items of a dictionary using `items` function"
   ]
  },
  {
   "cell_type": "code",
   "execution_count": null,
   "id": "a5ef7c3b-a43c-4799-ad32-7cb8132faac1",
   "metadata": {},
   "outputs": [],
   "source": [
    "student.items()"
   ]
  },
  {
   "cell_type": "markdown",
   "id": "e2ea5d08-821a-431c-8857-1b237d2fbafb",
   "metadata": {},
   "source": [
    "You can also access items in a nested dictionary like the following:"
   ]
  },
  {
   "cell_type": "code",
   "execution_count": null,
   "id": "91ec0dd0-a642-4810-a8a3-d6747d390c1e",
   "metadata": {},
   "outputs": [],
   "source": [
    "nested_dict = {\n",
    "    'person': {\n",
    "        'name': 'John Doe',\n",
    "        'age': 30,\n",
    "        'address': {\n",
    "            'street': '123 Main St',\n",
    "            'city': 'Anytown',\n",
    "            'zipcode': '12345'\n",
    "        },\n",
    "        'contacts': {\n",
    "            'email': 'johndoe@example.com',\n",
    "            'phone': '555-1234'\n",
    "        }\n",
    "    },\n",
    "    'job': {\n",
    "        'title': 'Software Engineer',\n",
    "        'department': 'Engineering',\n",
    "        'years_experience': 8\n",
    "    }\n",
    "}"
   ]
  },
  {
   "cell_type": "code",
   "execution_count": null,
   "id": "cdeedb4f-da54-4f43-be1b-f8dfe0956338",
   "metadata": {},
   "outputs": [],
   "source": [
    "nested_dict[\"job\"][\"title\"] # Accessing through multiple keys in dictionary"
   ]
  },
  {
   "cell_type": "markdown",
   "id": "70ba81db-873f-4522-aa8b-58f33a060636",
   "metadata": {
    "deletable": false,
    "editable": false
   },
   "source": [
    "### Question 27:\n",
    "\n",
    "Write a python code to access the author name with `ISBN2` catalog number from `library_catalog` dictionary. Store your result in variable `your_ans`"
   ]
  },
  {
   "cell_type": "code",
   "execution_count": null,
   "id": "8dadadf9-32c9-430b-a5f5-3575b0d6861a",
   "metadata": {
    "tags": []
   },
   "outputs": [],
   "source": [
    "your_ans = ...\n",
    "your_ans"
   ]
  },
  {
   "cell_type": "code",
   "execution_count": null,
   "id": "71fc2de0",
   "metadata": {
    "deletable": false,
    "editable": false
   },
   "outputs": [],
   "source": [
    "grader.check(\"q27\")"
   ]
  },
  {
   "cell_type": "markdown",
   "id": "7f17ab44-875a-4b9e-9a58-693101c90938",
   "metadata": {},
   "source": [
    "### Check if an item exists\n",
    "\n",
    "To check if a key exists in a dictionary, you can use the `in` keyword"
   ]
  },
  {
   "cell_type": "code",
   "execution_count": null,
   "id": "686a1c6d-b0dd-432d-a513-39644214b5b5",
   "metadata": {},
   "outputs": [],
   "source": [
    "\"name\" in student"
   ]
  },
  {
   "cell_type": "markdown",
   "id": "1f700733-114d-4556-a0cb-df083ab447ee",
   "metadata": {},
   "source": [
    "### Changing items of a dictionary\n",
    "\n",
    "To change any value of a dictionary, we can refer to it's key name."
   ]
  },
  {
   "cell_type": "code",
   "execution_count": null,
   "id": "3055b80b-4575-4420-a426-9595008bd602",
   "metadata": {},
   "outputs": [],
   "source": [
    "student[\"name\"] = \"Tyler\" # changing the name from Steve to Tyler\n",
    "student"
   ]
  },
  {
   "cell_type": "markdown",
   "id": "b978b194-b459-4366-9890-c6e305509d7a",
   "metadata": {
    "deletable": false,
    "editable": false
   },
   "source": [
    "### Question 28:\n",
    "\n",
    "Change the name of the authors to ` A C Doyle` and `J Austen` respectively to the dictionary `library_catalog`\n"
   ]
  },
  {
   "cell_type": "code",
   "execution_count": null,
   "id": "deae6424-b50b-4b96-934d-9ea57ac17ce7",
   "metadata": {
    "tags": []
   },
   "outputs": [],
   "source": [
    "library_catalog[\"ISBN1\"][\"author\"] = ...\n",
    "library_catalog[\"ISBN2\"][\"author\"] = ...\n",
    "library_catalog"
   ]
  },
  {
   "cell_type": "code",
   "execution_count": null,
   "id": "11a8c3a5",
   "metadata": {
    "deletable": false,
    "editable": false
   },
   "outputs": [],
   "source": [
    "grader.check(\"q28\")"
   ]
  },
  {
   "cell_type": "markdown",
   "id": "d79babd1-66e9-4070-be1f-bac6a9f0c93d",
   "metadata": {},
   "source": [
    "### Adding items to a dictionary\n",
    "\n",
    "You can add an item to a dictionary like the following:"
   ]
  },
  {
   "cell_type": "code",
   "execution_count": null,
   "id": "b8935bcf-82f9-4baf-8d15-db0436f4bd58",
   "metadata": {},
   "outputs": [],
   "source": [
    "student[\"country\"] = \"USA\"\n",
    "student"
   ]
  },
  {
   "cell_type": "markdown",
   "id": "538a1cb6-e468-480e-b0f6-aaa20abdc2b8",
   "metadata": {
    "deletable": false,
    "editable": false
   },
   "source": [
    "### Question 29:\n",
    "\n",
    "Add a key `price` to each of the books such that the book Sherlock Holmes costs `$15` and Pride and Prejudice costs `$10` respectively.  "
   ]
  },
  {
   "cell_type": "code",
   "execution_count": null,
   "id": "20dd8796-fa36-42c8-9f28-9c1bc8734e5d",
   "metadata": {
    "tags": []
   },
   "outputs": [],
   "source": [
    "library_catalog[\"ISBN1\"][\"price\"] = ...\n",
    "library_catalog[\"ISBN2\"][\"price\"] = ...\n",
    "library_catalog"
   ]
  },
  {
   "cell_type": "code",
   "execution_count": null,
   "id": "0453af11",
   "metadata": {
    "deletable": false,
    "editable": false
   },
   "outputs": [],
   "source": [
    "grader.check(\"q29\")"
   ]
  },
  {
   "cell_type": "markdown",
   "id": "3f7869e7-3440-4944-9eb8-0377a02e0e86",
   "metadata": {},
   "source": [
    "### Removing items from a dictionary\n",
    "\n",
    "You can remove item from a dictionary by refering to the key in the `pop` function"
   ]
  },
  {
   "cell_type": "code",
   "execution_count": null,
   "id": "d9dda399-2016-45e4-970b-275c6f455e2e",
   "metadata": {},
   "outputs": [],
   "source": [
    "student.pop(\"country\")\n",
    "student"
   ]
  },
  {
   "cell_type": "markdown",
   "id": "6aa7958c-d09c-4864-bab4-9903a21db3e9",
   "metadata": {
    "deletable": false,
    "editable": false
   },
   "source": [
    "### Question 30:\n",
    "\n",
    "Write a python code to remove the item `price` from the dictionary. \n",
    "\n",
    "Hint: First access the inner dictionary and then use `pop` function to remove the item"
   ]
  },
  {
   "cell_type": "code",
   "execution_count": null,
   "id": "78f279d9-700b-4397-b660-f7462a1a96f7",
   "metadata": {
    "tags": []
   },
   "outputs": [],
   "source": [
    "...\n",
    "...\n",
    "library_catalog"
   ]
  },
  {
   "cell_type": "code",
   "execution_count": null,
   "id": "708fd08f",
   "metadata": {
    "deletable": false,
    "editable": false
   },
   "outputs": [],
   "source": [
    "grader.check(\"q30\")"
   ]
  }
 ],
 "metadata": {
  "kernelspec": {
   "display_name": "Python 3 (ipykernel)",
   "language": "python",
   "name": "python3"
  },
  "language_info": {
   "codemirror_mode": {
    "name": "ipython",
    "version": 3
   },
   "file_extension": ".py",
   "mimetype": "text/x-python",
   "name": "python",
   "nbconvert_exporter": "python",
   "pygments_lexer": "ipython3",
   "version": "3.12.4"
  },
  "otter": {
   "OK_FORMAT": true,
   "tests": {
    "q1": {
     "name": "q1",
     "points": null,
     "suites": [
      {
       "cases": [
        {
         "code": ">>> your_ans == 'h'\nTrue",
         "hidden": false,
         "locked": false
        }
       ],
       "scored": true,
       "setup": "",
       "teardown": "",
       "type": "doctest"
      }
     ]
    },
    "q10": {
     "name": "q10",
     "points": null,
     "suites": [
      {
       "cases": [
        {
         "code": ">>> your_ans == 3\nTrue",
         "hidden": false,
         "locked": false
        }
       ],
       "scored": true,
       "setup": "",
       "teardown": "",
       "type": "doctest"
      }
     ]
    },
    "q11": {
     "name": "q11",
     "points": null,
     "suites": [
      {
       "cases": [
        {
         "code": ">>> your_ans == 'data'\nTrue",
         "hidden": false,
         "locked": false
        }
       ],
       "scored": true,
       "setup": "",
       "teardown": "",
       "type": "doctest"
      }
     ]
    },
    "q13": {
     "name": "q13",
     "points": null,
     "suites": [
      {
       "cases": [
        {
         "code": ">>> your_ans[0] == 'Bob'\nTrue",
         "hidden": false,
         "locked": false
        },
        {
         "code": ">>> len(your_ans) == 4\nTrue",
         "hidden": false,
         "locked": false
        }
       ],
       "scored": true,
       "setup": "",
       "teardown": "",
       "type": "doctest"
      }
     ]
    },
    "q14": {
     "name": "q14",
     "points": null,
     "suites": [
      {
       "cases": [
        {
         "code": ">>> full_name == 'John Doe'\nTrue",
         "hidden": false,
         "locked": false
        },
        {
         "code": ">>> welcome_msg == \"Welcome, John Doe! We're excited to have you join us.\"\nTrue",
         "hidden": false,
         "locked": false
        }
       ],
       "scored": true,
       "setup": "",
       "teardown": "",
       "type": "doctest"
      }
     ]
    },
    "q16": {
     "name": "q16",
     "points": null,
     "suites": [
      {
       "cases": [
        {
         "code": ">>> len(friends) == 5\nTrue",
         "hidden": false,
         "locked": false
        }
       ],
       "scored": true,
       "setup": "",
       "teardown": "",
       "type": "doctest"
      }
     ]
    },
    "q17": {
     "name": "q17",
     "points": null,
     "suites": [
      {
       "cases": [
        {
         "code": ">>> len(three_friends) == 3\nTrue",
         "hidden": false,
         "locked": false
        },
        {
         "code": ">>> three_friends[-1] == 'Victor' and three_friends[0] == 'Cynthia'\nTrue",
         "hidden": false,
         "locked": false
        }
       ],
       "scored": true,
       "setup": "",
       "teardown": "",
       "type": "doctest"
      }
     ]
    },
    "q18": {
     "name": "q18",
     "points": null,
     "suites": [
      {
       "cases": [
        {
         "code": ">>> three_friends[-1] == 'Victor' and three_friends[0] == 'Cynthia'\nTrue",
         "hidden": false,
         "locked": false
        },
        {
         "code": ">>> len(three_friends) == 3\nTrue",
         "hidden": false,
         "locked": false
        }
       ],
       "scored": true,
       "setup": "",
       "teardown": "",
       "type": "doctest"
      }
     ]
    },
    "q19": {
     "name": "q19",
     "points": null,
     "suites": [
      {
       "cases": [
        {
         "code": ">>> your_ans == 'abracadabra'\nTrue",
         "hidden": false,
         "locked": false
        }
       ],
       "scored": true,
       "setup": "",
       "teardown": "",
       "type": "doctest"
      }
     ]
    },
    "q2": {
     "name": "q2",
     "points": null,
     "suites": [
      {
       "cases": [
        {
         "code": ">>> your_ans == 'a'\nTrue",
         "hidden": false,
         "locked": false
        }
       ],
       "scored": true,
       "setup": "",
       "teardown": "",
       "type": "doctest"
      }
     ]
    },
    "q20": {
     "name": "q20",
     "points": null,
     "suites": [
      {
       "cases": [
        {
         "code": ">>> isinstance(your_ans, bool)\nTrue",
         "hidden": false,
         "locked": false
        }
       ],
       "scored": true,
       "setup": "",
       "teardown": "",
       "type": "doctest"
      }
     ]
    },
    "q21": {
     "name": "q21",
     "points": null,
     "suites": [
      {
       "cases": [
        {
         "code": ">>> len(friends) == 7\nTrue",
         "hidden": false,
         "locked": false
        }
       ],
       "scored": true,
       "setup": "",
       "teardown": "",
       "type": "doctest"
      }
     ]
    },
    "q22": {
     "name": "q22",
     "points": null,
     "suites": [
      {
       "cases": [
        {
         "code": ">>> len(friends) == 6\nTrue",
         "hidden": false,
         "locked": false
        }
       ],
       "scored": true,
       "setup": "",
       "teardown": "",
       "type": "doctest"
      }
     ]
    },
    "q23": {
     "name": "q23",
     "points": null,
     "suites": [
      {
       "cases": [
        {
         "code": ">>> len(friends) == 4\nTrue",
         "hidden": false,
         "locked": false
        }
       ],
       "scored": true,
       "setup": "",
       "teardown": "",
       "type": "doctest"
      }
     ]
    },
    "q24": {
     "name": "q24",
     "points": null,
     "suites": [
      {
       "cases": [
        {
         "code": ">>> isinstance(your_courses, tuple)\nTrue",
         "hidden": false,
         "locked": false
        },
        {
         "code": ">>> len(your_courses) == 3\nTrue",
         "hidden": false,
         "locked": false
        }
       ],
       "scored": true,
       "setup": "",
       "teardown": "",
       "type": "doctest"
      }
     ]
    },
    "q25": {
     "name": "q25",
     "points": null,
     "suites": [
      {
       "cases": [
        {
         "code": ">>> isinstance(course1, str) and isinstance(course2, str) and isinstance(course3, str)\nTrue",
         "hidden": false,
         "locked": false
        }
       ],
       "scored": true,
       "setup": "",
       "teardown": "",
       "type": "doctest"
      }
     ]
    },
    "q26": {
     "name": "q26",
     "points": null,
     "suites": [
      {
       "cases": [
        {
         "code": ">>> isinstance(library_catalog, dict)\nTrue",
         "hidden": false,
         "locked": false
        },
        {
         "code": ">>> 'ISBN2' in library_catalog\nTrue",
         "hidden": false,
         "locked": false
        },
        {
         "code": ">>> 'title' in library_catalog['ISBN1']\nTrue",
         "hidden": false,
         "locked": false
        }
       ],
       "scored": true,
       "setup": "",
       "teardown": "",
       "type": "doctest"
      }
     ]
    },
    "q27": {
     "name": "q27",
     "points": null,
     "suites": [
      {
       "cases": [
        {
         "code": ">>> your_ans == 'Jane Austen'\nTrue",
         "hidden": false,
         "locked": false
        }
       ],
       "scored": true,
       "setup": "",
       "teardown": "",
       "type": "doctest"
      }
     ]
    },
    "q28": {
     "name": "q28",
     "points": null,
     "suites": [
      {
       "cases": [
        {
         "code": ">>> library_catalog['ISBN1']['author'] == 'A C Doyle'\nTrue",
         "hidden": false,
         "locked": false
        },
        {
         "code": ">>> library_catalog['ISBN2']['author'] == 'J Austen'\nTrue",
         "hidden": false,
         "locked": false
        }
       ],
       "scored": true,
       "setup": "",
       "teardown": "",
       "type": "doctest"
      }
     ]
    },
    "q29": {
     "name": "q29",
     "points": null,
     "suites": [
      {
       "cases": [
        {
         "code": ">>> library_catalog['ISBN1']['price'] == '$15'\nTrue",
         "hidden": false,
         "locked": false
        },
        {
         "code": ">>> library_catalog['ISBN2']['price'] == '$10'\nTrue",
         "hidden": false,
         "locked": false
        }
       ],
       "scored": true,
       "setup": "",
       "teardown": "",
       "type": "doctest"
      }
     ]
    },
    "q30": {
     "name": "q30",
     "points": null,
     "suites": [
      {
       "cases": [
        {
         "code": ">>> ('price' in library_catalog['ISBN1']) == False\nTrue",
         "hidden": false,
         "locked": false
        },
        {
         "code": ">>> ('price' in library_catalog['ISBN2']) == False\nTrue",
         "hidden": false,
         "locked": false
        }
       ],
       "scored": true,
       "setup": "",
       "teardown": "",
       "type": "doctest"
      }
     ]
    },
    "q4": {
     "name": "q4",
     "points": null,
     "suites": [
      {
       "cases": [
        {
         "code": ">>> your_ans == 48\nTrue",
         "hidden": false,
         "locked": false
        }
       ],
       "scored": true,
       "setup": "",
       "teardown": "",
       "type": "doctest"
      }
     ]
    },
    "q5": {
     "name": "q5",
     "points": null,
     "suites": [
      {
       "cases": [
        {
         "code": ">>> your_ans == True\nFalse",
         "hidden": false,
         "locked": false
        }
       ],
       "scored": true,
       "setup": "",
       "teardown": "",
       "type": "doctest"
      }
     ]
    },
    "q6": {
     "name": "q6",
     "points": null,
     "suites": [
      {
       "cases": [
        {
         "code": ">>> your_ans == True\nTrue",
         "hidden": false,
         "locked": false
        }
       ],
       "scored": true,
       "setup": "",
       "teardown": "",
       "type": "doctest"
      }
     ]
    },
    "q7": {
     "name": "q7",
     "points": null,
     "suites": [
      {
       "cases": [
        {
         "code": ">>> your_ans == 'fragilistic'\nTrue",
         "hidden": false,
         "locked": false
        }
       ],
       "scored": true,
       "setup": "",
       "teardown": "",
       "type": "doctest"
      }
     ]
    },
    "q9": {
     "name": "q9",
     "points": null,
     "suites": [
      {
       "cases": [
        {
         "code": ">>> hidden_msg == 'bar'\nTrue",
         "hidden": false,
         "locked": false
        }
       ],
       "scored": true,
       "setup": "",
       "teardown": "",
       "type": "doctest"
      }
     ]
    }
   }
  }
 },
 "nbformat": 4,
 "nbformat_minor": 5
}
