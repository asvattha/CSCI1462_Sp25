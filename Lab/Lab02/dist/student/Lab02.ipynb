{
 "cells": [
  {
   "cell_type": "code",
   "execution_count": null,
   "id": "841d766d",
   "metadata": {
    "deletable": false,
    "editable": false
   },
   "outputs": [],
   "source": [
    "# Initialize Otter\n",
    "import otter\n",
    "grader = otter.Notebook(\"Lab02.ipynb\")"
   ]
  },
  {
   "cell_type": "code",
   "execution_count": null,
   "id": "9195557b-fde2-4d49-8514-d3f03ed3e23d",
   "metadata": {},
   "outputs": [],
   "source": [
    "import numpy as np\n",
    "import pandas as pd"
   ]
  },
  {
   "cell_type": "markdown",
   "id": "8137b386-5ea8-440d-a2ae-18c079f1002c",
   "metadata": {},
   "source": [
    "Grading Rubric:\n",
    "\n",
    "| Question | Points |\n",
    "| ----- |---- |\n",
    "| 1.1(a) | 10 |\n",
    "| 1.1(b) | 10 |\n",
    "| 1.1(c) | 10 |\n",
    "| 1.1(d) | 10 |\n",
    "| 2.1(a) | 10 |\n",
    "| 2.1(b) | 10 |\n",
    "| 2.1(c) | 10 |\n",
    "| 2.1(d) | 10 |\n",
    "| 2.1(e) | 10 |\n",
    "| 2.2 | 10 |\n",
    "| Total | 100 |"
   ]
  },
  {
   "cell_type": "markdown",
   "id": "be80e038-c0bc-4d81-8294-bf69b326e443",
   "metadata": {},
   "source": [
    "# Welcome to Lab02.\n",
    "\n",
    "Objectives:\n",
    "1. Intro to Tables\n",
    "2. Numpy array"
   ]
  },
  {
   "cell_type": "markdown",
   "id": "3dd0022e-0daa-443a-88c6-2d8322d908d2",
   "metadata": {
    "deletable": false,
    "editable": false
   },
   "source": [
    "### Question 1.1(a) [10 points]\n",
    "\n",
    "Use `pd.DataFrame` method to create a dataframe, `fruits`, which looks like the following:\n",
    "\n",
    "<img src=\"pics/fruits.png\" width=200\\>\n",
    "\n",
    "\n",
    "Hint: Use `index` paramter of the `pd.DataFrame` method to add row named labels."
   ]
  },
  {
   "cell_type": "code",
   "execution_count": null,
   "id": "63abd383-9266-4e32-a7d1-fa708ba9d240",
   "metadata": {
    "tags": []
   },
   "outputs": [],
   "source": [
    "fruits = ...\n",
    "fruits"
   ]
  },
  {
   "cell_type": "markdown",
   "id": "732f0424-5c9c-444c-a397-08cfcd6157a9",
   "metadata": {
    "deletable": false,
    "editable": false
   },
   "source": [
    "### Question 1.1(b) [10 points]\n",
    "\n",
    "Write a Python program (using **`loc`** property) to display the `Fruit Name` and `Price per lbs` for fruits that are typically grown in the summer season. Store your answer in a variable, `summer_fruits` \n",
    "\n",
    "Your solution would look like the following:\n",
    "\n",
    "<img src=\"pics/summer_fruits.png\" width=200/>\n"
   ]
  },
  {
   "cell_type": "code",
   "execution_count": null,
   "id": "fc7b0b43-54c6-4fd5-8516-6443cf9eafaf",
   "metadata": {
    "tags": []
   },
   "outputs": [],
   "source": [
    "summer_fruits = ...\n",
    "summer_fruits"
   ]
  },
  {
   "cell_type": "code",
   "execution_count": null,
   "id": "949ef842",
   "metadata": {
    "deletable": false,
    "editable": false
   },
   "outputs": [],
   "source": [
    "grader.check(\"q1.1(b)\")"
   ]
  },
  {
   "cell_type": "markdown",
   "id": "b34e0551-b7fc-4f57-98b8-28f11a62117f",
   "metadata": {
    "deletable": false,
    "editable": false
   },
   "source": [
    "### Question 1.1(c) [10 points]\n",
    "\n",
    "Solve the question in 1.1(b) using **`iloc`** property. "
   ]
  },
  {
   "cell_type": "code",
   "execution_count": null,
   "id": "93ecc046-56f6-417f-9bb2-c985669c7355",
   "metadata": {
    "tags": []
   },
   "outputs": [],
   "source": [
    "summer_fruits = ...\n",
    "summer_fruits"
   ]
  },
  {
   "cell_type": "code",
   "execution_count": null,
   "id": "0fc6d688",
   "metadata": {
    "deletable": false,
    "editable": false
   },
   "outputs": [],
   "source": [
    "grader.check(\"q1.1(c)\")"
   ]
  },
  {
   "cell_type": "markdown",
   "id": "bf14a1f5-dbb7-4f1e-b171-fc0eea8b5ac0",
   "metadata": {
    "deletable": false,
    "editable": false
   },
   "source": [
    "### Question 1.1(d) [10 points]\n",
    "\n",
    "Write a python code to find the most expensive fruit name among the `fruits` dataframe. Store your result in a variable `costly_fruit`. The datatype of the `costly_fruit` is a string. "
   ]
  },
  {
   "cell_type": "code",
   "execution_count": null,
   "id": "80e60923-8579-4793-9e5f-797ed9e3015f",
   "metadata": {
    "tags": []
   },
   "outputs": [],
   "source": [
    "costly_fruit = ...\n",
    "costly_fruit"
   ]
  },
  {
   "cell_type": "code",
   "execution_count": null,
   "id": "51f46b05",
   "metadata": {
    "deletable": false,
    "editable": false
   },
   "outputs": [],
   "source": [
    "grader.check(\"q1.1(d)\")"
   ]
  },
  {
   "cell_type": "markdown",
   "id": "f164e88b-07a7-487a-b6b0-18b089ac9f7f",
   "metadata": {},
   "source": [
    "## 2. Numpy "
   ]
  },
  {
   "cell_type": "markdown",
   "id": "da5ebdb7-b629-47e6-aca3-7b8422c680e1",
   "metadata": {
    "deletable": false,
    "editable": false
   },
   "source": [
    "<!-- BEGIN QUESTION -->\n",
    "\n",
    "For each of the Python expressions listed below, write down the output after evaluating the expression. If an error occurs, type **Error**. Provide an explanation or demonstrate your reasoning on how you arrived at the solution, rather than just giving the final answer. Do **NOT** run the code. \n",
    "\n",
    "### Question 2.1(a) [10 points]\n",
    "\n",
    "```\n",
    "np.array([1, 3, 5, 7]) + np.arange(2, 10, 2)\n",
    "```"
   ]
  },
  {
   "cell_type": "markdown",
   "id": "cf9a56fc",
   "metadata": {},
   "source": [
    "_Type your answer here, replacing this text._"
   ]
  },
  {
   "cell_type": "markdown",
   "id": "f3998576-7812-4e4f-85da-0d419ac1b85e",
   "metadata": {
    "deletable": false,
    "editable": false
   },
   "source": [
    "<!-- END QUESTION -->\n",
    "\n",
    "<!-- BEGIN QUESTION -->\n",
    "\n",
    "### Question 2.1(b) [10 points]\n",
    "\n",
    "```\n",
    "np.array([1, 1, 1, 1]) + np.arange(1, 10)\n",
    "```"
   ]
  },
  {
   "cell_type": "markdown",
   "id": "40d30ef9",
   "metadata": {},
   "source": [
    "_Type your answer here, replacing this text._"
   ]
  },
  {
   "cell_type": "markdown",
   "id": "0e7c34d8-1c44-4237-88db-aba4f32e1e0b",
   "metadata": {
    "deletable": false,
    "editable": false
   },
   "source": [
    "<!-- END QUESTION -->\n",
    "\n",
    "<!-- BEGIN QUESTION -->\n",
    "\n",
    "### Question 2.1(c) [10 points]\n",
    "\n",
    "```\n",
    "np.max(np.arange(15))\n",
    "```"
   ]
  },
  {
   "cell_type": "markdown",
   "id": "4a938a9c",
   "metadata": {},
   "source": [
    "_Type your answer here, replacing this text._"
   ]
  },
  {
   "cell_type": "markdown",
   "id": "12411fe3-6b87-46a2-a798-2a1fbe68e372",
   "metadata": {
    "deletable": false,
    "editable": false
   },
   "source": [
    "<!-- END QUESTION -->\n",
    "\n",
    "### Question 2.1(d) [10 points]\n",
    "\n",
    "Give the function `foo`: \n",
    "\n",
    "```\n",
    "def foo(x):\n",
    "    return x[1] - x[0]\n",
    "```\n",
    "\n",
    "What is the output of the following:\n",
    "\n",
    "```\n",
    "my_arr = np.array([5, 15, 25, 10])\n",
    "foo(my_arr)\n",
    "```"
   ]
  },
  {
   "cell_type": "markdown",
   "id": "a32e209f-03f2-434e-bc30-717e96549981",
   "metadata": {
    "deletable": false,
    "editable": false
   },
   "source": [
    "<!-- BEGIN QUESTION -->\n",
    "\n",
    "### Question 2.1(e) [10 points]\n",
    "\n",
    "Give the function `foo`: \n",
    "\n",
    "```\n",
    "def foo(x):\n",
    "    return x[1] - x[0]\n",
    "```\n",
    "\n",
    "What is the output of the following:\n",
    "\n",
    "```\n",
    "my_arr = np.array([[1, 1, 1], [20, 20, 20], [5, 5, 5]])\n",
    "foo(my_arr)\n",
    "```"
   ]
  },
  {
   "cell_type": "markdown",
   "id": "fb6641d1",
   "metadata": {},
   "source": [
    "_Type your answer here, replacing this text._"
   ]
  },
  {
   "cell_type": "markdown",
   "id": "3210f083-6364-4bda-a7d0-2591d27d547a",
   "metadata": {
    "deletable": false,
    "editable": false
   },
   "source": [
    "<!-- END QUESTION -->\n",
    "\n",
    "### Question 2.2 [10 points]\n",
    "\n",
    "Create a numpy array, `squares`, containing the first 100 squares i.e, $1^2, 2^2, 3^2, 4^2, 5^2, 6^2, ....., 100^2$  = 1, 4, 9, 16, 25, 36, 49, 64, ...., 10000"
   ]
  },
  {
   "cell_type": "code",
   "execution_count": null,
   "id": "1eb2e9d3-7e03-4d6e-a371-cdbdc50c2ac7",
   "metadata": {
    "tags": []
   },
   "outputs": [],
   "source": [
    "squares = ...\n",
    "squares"
   ]
  },
  {
   "cell_type": "code",
   "execution_count": null,
   "id": "913075c8",
   "metadata": {
    "deletable": false,
    "editable": false
   },
   "outputs": [],
   "source": [
    "grader.check(\"q2.2\")"
   ]
  }
 ],
 "metadata": {
  "kernelspec": {
   "display_name": "Python 3 (ipykernel)",
   "language": "python",
   "name": "python3"
  },
  "language_info": {
   "codemirror_mode": {
    "name": "ipython",
    "version": 3
   },
   "file_extension": ".py",
   "mimetype": "text/x-python",
   "name": "python",
   "nbconvert_exporter": "python",
   "pygments_lexer": "ipython3",
   "version": "3.12.6"
  },
  "otter": {
   "OK_FORMAT": true,
   "tests": {
    "q1.1(b)": {
     "name": "q1.1(b)",
     "points": null,
     "suites": [
      {
       "cases": [
        {
         "code": ">>> summer_fruits.shape == (2, 2)\nTrue",
         "hidden": false,
         "locked": false
        },
        {
         "code": ">>> len(summer_fruits.columns) == 2\nTrue",
         "hidden": false,
         "locked": false
        }
       ],
       "scored": true,
       "setup": "",
       "teardown": "",
       "type": "doctest"
      }
     ]
    },
    "q1.1(c)": {
     "name": "q1.1(c)",
     "points": null,
     "suites": [
      {
       "cases": [
        {
         "code": ">>> summer_fruits.shape == (2, 2)\nTrue",
         "hidden": false,
         "locked": false
        },
        {
         "code": ">>> len(summer_fruits.columns) == 2\nTrue",
         "hidden": false,
         "locked": false
        }
       ],
       "scored": true,
       "setup": "",
       "teardown": "",
       "type": "doctest"
      }
     ]
    },
    "q1.1(d)": {
     "name": "q1.1(d)",
     "points": null,
     "suites": [
      {
       "cases": [
        {
         "code": ">>> costly_fruit == 'Apple'\nTrue",
         "hidden": false,
         "locked": false
        }
       ],
       "scored": true,
       "setup": "",
       "teardown": "",
       "type": "doctest"
      }
     ]
    },
    "q2.2": {
     "name": "q2.2",
     "points": null,
     "suites": [
      {
       "cases": [
        {
         "code": ">>> len(squares) == 100\nTrue",
         "hidden": false,
         "locked": false
        },
        {
         "code": ">>> squares[-2].item() == 9801 and squares[-1].item() == 10000\nTrue",
         "hidden": false,
         "locked": false
        }
       ],
       "scored": true,
       "setup": "",
       "teardown": "",
       "type": "doctest"
      }
     ]
    }
   }
  }
 },
 "nbformat": 4,
 "nbformat_minor": 5
}
