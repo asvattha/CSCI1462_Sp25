{
 "cells": [
  {
   "cell_type": "code",
   "execution_count": null,
   "id": "a3e2d785",
   "metadata": {
    "deletable": false,
    "editable": false
   },
   "outputs": [],
   "source": [
    "# Initialize Otter\n",
    "import otter\n",
    "grader = otter.Notebook(\"Lab06.ipynb\")"
   ]
  },
  {
   "cell_type": "markdown",
   "id": "8c13354d-5f9e-40ba-a852-b64c2bdb5c99",
   "metadata": {},
   "source": [
    "Due Date: 2 May 2025 by 11:59 pm\n",
    "Grading Rubric:\n",
    "\n",
    "| Question | Points |\n",
    "| ----- |---- |\n",
    "| 1 | 10 |\n",
    "| 2 | 10 |\n",
    "| 3 | 15 |\n",
    "| 4 | 10 |\n",
    "| 5 | 20 |\n",
    "| 6 | 10 |\n",
    "| 7 | 15 |\n",
    "| 8 | 10 |\n",
    "| Total | 100 |"
   ]
  },
  {
   "cell_type": "markdown",
   "id": "a42db4cc-cb9c-4ca9-9776-7afc7a4d3b0c",
   "metadata": {},
   "source": [
    "Instructions: \n",
    "\n",
    "Submission: Please upload the notebook (.ipynb) file on D2L --> Lab -- > Lab06 --> Lab06_Dropbox\n",
    "\n",
    "1. The lab assignment is individual-based assignment. However, you are encouraged to discuss with your classmates, but DO NOT show your code and copy from others. It will be considered as plagiarism, and proper actions will be taken as per the syllabus.\n",
    "\n",
    "2. Just because your question has passed the autograder test, doesn't mean necessarily that your answer is correct. So make sure you answer those questions carefully. The instructor has some hidden tests, and only when your question passes those tests successfully during grading, you will be given full points for the question.\n",
    "\n",
    "3. If you are stuck somewhere, feel free to reach out to me. "
   ]
  },
  {
   "cell_type": "code",
   "execution_count": null,
   "id": "e11dd791-e191-4b14-a3cf-0db7ba774a62",
   "metadata": {},
   "outputs": [],
   "source": [
    "import numpy as np\n",
    "import matplotlib.pyplot as plt\n",
    "import pandas as pd"
   ]
  },
  {
   "cell_type": "markdown",
   "id": "c21f83ff-7ba5-4f1f-b8b2-81ba08f6a78f",
   "metadata": {},
   "source": [
    "# A/B Testing"
   ]
  },
  {
   "cell_type": "markdown",
   "id": "34342a49-3e2a-4cdc-b25f-0e6e3f4d40af",
   "metadata": {},
   "source": [
    "A/B Testing is a form of hypothesis testing to determine whether or not two samples came from the same underlying distribution. This tests can be used to establish causation relationship between two samples in a randomized controlled experiment. "
   ]
  },
  {
   "cell_type": "markdown",
   "id": "ac1f975f-b59b-48c5-bf03-2ecb47db36dd",
   "metadata": {
    "deletable": false,
    "editable": false
   },
   "source": [
    "<!-- BEGIN QUESTION -->\n",
    "\n",
    "### Question 1: \n",
    "\n",
    "If the null hypothesis of A/B test is correct, should the order of labels affects the differences in means between two samples/groups? Why do we shuffle labels in A/B test? Discuss these questions with your neighboring friend to answer them.  "
   ]
  },
  {
   "cell_type": "markdown",
   "id": "ea7100cb",
   "metadata": {},
   "source": [
    "_Type your answer here, replacing this text._"
   ]
  },
  {
   "cell_type": "markdown",
   "id": "881d7afe-f88f-4627-93d6-5d955e2263ad",
   "metadata": {
    "deletable": false,
    "editable": false
   },
   "source": [
    "<!-- END QUESTION -->\n",
    "\n",
    "## The Great British Bake Off\n",
    "\n",
    "<img src=\"https://ntvb.tmsimg.com/assets/p8251114_b_h8_ac.jpg?w=960&h=540\" width=400px>\n",
    "\n",
    "> The Great British Bake Off (often abbreviated to Bake Off or GBBO) is a British television baking competition, produced by Love Productions, in which a group of amateur bakers compete against each other in a series of rounds, \n",
    " attempting to impress a group of judges with their baking skills. [Wikipedia](https://en.wikipedia.org/wiki/The_Great_British_Bake_Off)\n",
    "\n",
    "\n",
    "For every week of the competition, the judges assign one contestant the title \"Star Baker\". Ultimately, one winner is crowned every season. Using this information, we would like to investigate how winning Star Baker awards affects the odds of winning a season of the show. In other words,  we want to know whether winning more Star Baker awards **causes** the increase in the chance for that contestant to win the season.\n",
    "\n",
    "We are going to run the A/B hypothesis test to determine the association between winning and number of Star Baker awards. The sample we are examining is every contestant from seasons 2 through 11 of GBBO. \n",
    "\n",
    "The bakers table below describes the number of star baker awards each contest won and whether or not they won their season (1 if they won, 0 if they did not win). "
   ]
  },
  {
   "cell_type": "code",
   "execution_count": null,
   "id": "d8d2eb3c-1a11-4641-9eb6-ce6a8f651b97",
   "metadata": {},
   "outputs": [],
   "source": [
    "bakers = pd.read_csv('data/star_bakers.csv')\n",
    "bakers.head(3)"
   ]
  },
  {
   "cell_type": "markdown",
   "id": "01bc8512-3dd0-4df7-afa8-8aaae1cf69e1",
   "metadata": {},
   "source": [
    "We are going to use the following null and alternative hypotheses:\n",
    "\n",
    "- **Null hypothesis**: The distribution of Star Baker awards between contestants who won their season and contestants who did not win their season is the same.\n",
    "\n",
    "- **Alternative hypothesis**: Contestants who win their season of the show will win more Star Baker awards on average.\n",
    "\n",
    "Our alternative hypothesis is related to our suspicion that contestants who win more Star Baker awards are more skilled, so they are more likely to win the season."
   ]
  },
  {
   "cell_type": "markdown",
   "id": "840cdb40-13c9-462b-9118-dd9f41ccd662",
   "metadata": {
    "deletable": false,
    "editable": false
   },
   "source": [
    "<!-- BEGIN QUESTION -->\n",
    "\n",
    "### Question 2: \n",
    "\n",
    "What are the two groups in the A/B Testing that we should consider? "
   ]
  },
  {
   "cell_type": "markdown",
   "id": "b03d0cec",
   "metadata": {},
   "source": [
    "_Type your answer here, replacing this text._"
   ]
  },
  {
   "cell_type": "markdown",
   "id": "6cc542b5-925c-4ed9-8b5f-0b5e7b5b82d9",
   "metadata": {
    "deletable": false,
    "editable": false
   },
   "source": [
    "<!-- END QUESTION -->\n",
    "\n",
    "### Question 3: \n",
    "\n",
    "What statistic should you use to find the difference between the two groups? Complete the following code, to find the statistic. "
   ]
  },
  {
   "cell_type": "code",
   "execution_count": null,
   "id": "829f5a4d-e595-42f9-8ad6-e26f1714ca07",
   "metadata": {
    "tags": []
   },
   "outputs": [],
   "source": [
    "winners = bakers.query(\"won == 1\")\n",
    "non_winners = bakers.query(\"won == 0\")"
   ]
  },
  {
   "cell_type": "code",
   "execution_count": null,
   "id": "be938e7d-9849-4a12-9662-50238976bd46",
   "metadata": {
    "tags": []
   },
   "outputs": [],
   "source": [
    "def calculate_statistic(dist1, dist2):\n",
    "    statistic = ...\n",
    "    return statistic"
   ]
  },
  {
   "cell_type": "code",
   "execution_count": null,
   "id": "09a6dec4-3f1b-4110-824e-8797f2a160fe",
   "metadata": {
    "tags": []
   },
   "outputs": [],
   "source": [
    "observed_statistic = calculate_statistic(winners, non_winners)\n",
    "observed_statistic"
   ]
  },
  {
   "cell_type": "code",
   "execution_count": null,
   "id": "67e7d6b1",
   "metadata": {
    "deletable": false,
    "editable": false
   },
   "outputs": [],
   "source": [
    "grader.check(\"q3\")"
   ]
  },
  {
   "cell_type": "markdown",
   "id": "8a94db10-c105-475a-8644-123e8bd16c1b",
   "metadata": {
    "deletable": false,
    "editable": false
   },
   "source": [
    "<!-- BEGIN QUESTION -->\n",
    "\n",
    "### Question 4:\n",
    "\n",
    "Let's visualize the distribution of the number of star baker awards for different contestants who win and who didn't win the season. \n",
    "\n",
    "What can you conclude from the visualization shown below? "
   ]
  },
  {
   "cell_type": "code",
   "execution_count": null,
   "id": "e5df9387-93b9-475a-a8fb-d86da5eef36e",
   "metadata": {
    "deletable": false,
    "editable": false
   },
   "outputs": [],
   "source": [
    "plt.hist(winners['star baker awards'], bins=np.arange(0,7), edgecolor='black', label='winners', density=True, alpha=0.6)\n",
    "plt.hist(non_winners['star baker awards'], bins=np.arange(0,7), edgecolor='black', label='non_winners', density=True, alpha=0.6)\n",
    "plt.grid()\n",
    "plt.legend()\n",
    "plt.xlabel(\"Number of star war awards won\")\n",
    "plt.show()"
   ]
  },
  {
   "cell_type": "markdown",
   "id": "456247ab",
   "metadata": {},
   "source": [
    "_Type your answer here, replacing this text._"
   ]
  },
  {
   "cell_type": "markdown",
   "id": "83f86ddd-3a68-4b36-8313-6fa0895b0168",
   "metadata": {
    "deletable": false,
    "editable": false
   },
   "source": [
    "<!-- END QUESTION -->\n",
    "\n",
    "### Question 5:\n",
    "\n",
    "Write a function `one_simulation` which performs the permutation on the labels to create a new sample `shuffled_bakers`, and then returns the **statistic** for the two groups (winners and non_winners) based on this new sample. "
   ]
  },
  {
   "cell_type": "code",
   "execution_count": null,
   "id": "554c79b0-be09-418e-9d44-85aeaf7eff3b",
   "metadata": {
    "tags": []
   },
   "outputs": [],
   "source": [
    "def one_expt():\n",
    "    shuffled_labels = ...\n",
    "    shuffled_bakers = pd.DataFrame({\n",
    "                                    #...\n",
    "                                   })\n",
    "    winners = ...\n",
    "    non_winners = ...\n",
    "    statistic = ...\n",
    "    return statistic"
   ]
  },
  {
   "cell_type": "code",
   "execution_count": null,
   "id": "7c76047d-b54f-4fd4-ad37-ab3cd5fdd66a",
   "metadata": {
    "tags": []
   },
   "outputs": [],
   "source": [
    "one_expt()"
   ]
  },
  {
   "cell_type": "markdown",
   "id": "dbc91ac0-1370-4a55-854c-86af0cf64878",
   "metadata": {
    "deletable": false,
    "editable": false
   },
   "source": [
    "### Question 6: \n",
    "\n",
    "Simulate 5000 trials of our A/B test and store the statistics in a numpy array called `differences`."
   ]
  },
  {
   "cell_type": "code",
   "execution_count": null,
   "id": "b62f27f1-1ce3-4487-9de4-6b742f9c3c8f",
   "metadata": {
    "tags": []
   },
   "outputs": [],
   "source": [
    "repetitions = ...\n",
    "differences = []\n",
    "\n",
    "for _ in np.arange(repetitions):\n",
    "    ...\n",
    "\n",
    "differences = np.array(differences)"
   ]
  },
  {
   "cell_type": "code",
   "execution_count": null,
   "id": "083ced08-4d8c-4772-a7ff-92138dd215ea",
   "metadata": {
    "tags": []
   },
   "outputs": [],
   "source": [
    "plt.hist(differences, bins=20, edgecolor='black', density=True)\n",
    "plt.scatter(observed_statistic, 0.02, color='red')\n",
    "plt.grid()\n",
    "plt.xlabel(\"statistics\")\n",
    "plt.show()"
   ]
  },
  {
   "cell_type": "code",
   "execution_count": null,
   "id": "59aaa002",
   "metadata": {
    "deletable": false,
    "editable": false
   },
   "outputs": [],
   "source": [
    "grader.check(\"q6\")"
   ]
  },
  {
   "cell_type": "markdown",
   "id": "8d482f9c-358b-43a7-9148-6e707335c1d3",
   "metadata": {
    "deletable": false,
    "editable": false
   },
   "source": [
    "### Question 7: \n",
    "\n",
    "Find the `p_value` of your test. "
   ]
  },
  {
   "cell_type": "code",
   "execution_count": null,
   "id": "37157357-ceac-435c-b4ab-5db123a94177",
   "metadata": {
    "tags": []
   },
   "outputs": [],
   "source": [
    "p_value = ...\n",
    "p_value"
   ]
  },
  {
   "cell_type": "markdown",
   "id": "af23fbd1-8385-4df2-b624-7fbda2eb26da",
   "metadata": {
    "deletable": false,
    "editable": false
   },
   "source": [
    "<!-- BEGIN QUESTION -->\n",
    "\n",
    "### Question 8: \n",
    "\n",
    "Using a 5% p-value cutoff, draw a conclusion about the null and alternative hypotheses. What can you claim about causation from your statistical analysis? "
   ]
  },
  {
   "cell_type": "markdown",
   "id": "6713f763",
   "metadata": {},
   "source": [
    "_Type your answer here, replacing this text._"
   ]
  },
  {
   "cell_type": "markdown",
   "id": "475d00a7",
   "metadata": {
    "deletable": false,
    "editable": false
   },
   "source": [
    "<!-- END QUESTION -->\n",
    "\n"
   ]
  }
 ],
 "metadata": {
  "kernelspec": {
   "display_name": "Python 3 (ipykernel)",
   "language": "python",
   "name": "python3"
  },
  "language_info": {
   "codemirror_mode": {
    "name": "ipython",
    "version": 3
   },
   "file_extension": ".py",
   "mimetype": "text/x-python",
   "name": "python",
   "nbconvert_exporter": "python",
   "pygments_lexer": "ipython3",
   "version": "3.12.6"
  },
  "otter": {
   "OK_FORMAT": true,
   "tests": {
    "q3": {
     "name": "q3",
     "points": null,
     "suites": [
      {
       "cases": [
        {
         "code": ">>> np.round(observed_statistic, 2) == 0.85\nnp.True_",
         "hidden": false,
         "locked": false
        }
       ],
       "scored": true,
       "setup": "",
       "teardown": "",
       "type": "doctest"
      }
     ]
    },
    "q6": {
     "name": "q6",
     "points": null,
     "suites": [
      {
       "cases": [
        {
         "code": ">>> len(differences) == 10000\nTrue",
         "hidden": false,
         "locked": false
        }
       ],
       "scored": true,
       "setup": "",
       "teardown": "",
       "type": "doctest"
      }
     ]
    }
   }
  }
 },
 "nbformat": 4,
 "nbformat_minor": 5
}
