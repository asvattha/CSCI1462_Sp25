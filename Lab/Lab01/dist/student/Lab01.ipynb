{
 "cells": [
  {
   "cell_type": "code",
   "execution_count": null,
   "id": "c4cbfff7",
   "metadata": {
    "deletable": false,
    "editable": false
   },
   "outputs": [],
   "source": [
    "# Initialize Otter\n",
    "import otter\n",
    "grader = otter.Notebook(\"Lab01.ipynb\")"
   ]
  },
  {
   "cell_type": "code",
   "execution_count": null,
   "id": "9195557b-fde2-4d49-8514-d3f03ed3e23d",
   "metadata": {},
   "outputs": [],
   "source": [
    "import numpy as np\n",
    "import math"
   ]
  },
  {
   "cell_type": "markdown",
   "id": "8137b386-5ea8-440d-a2ae-18c079f1002c",
   "metadata": {},
   "source": [
    "Grading Rubric:\n",
    "\n",
    "| Question | Points |\n",
    "| ----- |---- |\n",
    "| 1.1 | 10 |\n",
    "| 1.2 | 10 |\n",
    "| 2.1 | 10 |\n",
    "| 2.2 | 10 |\n",
    "| 2.3 | 10 |\n",
    "| 2.4 | 10 |\n",
    "| 3.1 | 10 |\n",
    "| 3.2 | 10 |\n",
    "| 4.1 | 10 |\n",
    "| 4.2 | 10 |\n",
    "| Total | 100 |"
   ]
  },
  {
   "cell_type": "markdown",
   "id": "be80e038-c0bc-4d81-8294-bf69b326e443",
   "metadata": {},
   "source": [
    "# Welcome to Lab01.\n",
    "\n",
    "Objectives:\n",
    "1. Learn print statements\n",
    "2. Errors in Python\n",
    "3. Python variables and expressions\n",
    "4. Python functions"
   ]
  },
  {
   "cell_type": "markdown",
   "id": "adc40f6d-0621-4ec5-ad16-144704915c30",
   "metadata": {},
   "source": [
    "# 1. Print Statements"
   ]
  },
  {
   "cell_type": "markdown",
   "id": "c08120e3-2296-4ce6-8b11-be6a4a49d84a",
   "metadata": {
    "deletable": false,
    "editable": false
   },
   "source": [
    "### Question 1.1 (10 points)\n",
    "\n",
    "In class, we learned how to show output on the screen using the `print` function. For example, to display the message **I love Data Analytics**, you would use the following `print` statement:"
   ]
  },
  {
   "cell_type": "code",
   "execution_count": null,
   "id": "f9334037-0b7a-4e1a-834b-54daf7e1e69c",
   "metadata": {
    "deletable": false,
    "editable": false
   },
   "outputs": [],
   "source": [
    "print(\"I love Data Analytics\")"
   ]
  },
  {
   "cell_type": "markdown",
   "id": "70bc4859-2bdd-4ac0-a6e0-6c215b2bb3f2",
   "metadata": {
    "deletable": false,
    "editable": false
   },
   "source": [
    "In the same way, you can use the `print` statement to show the value of a variable, as demonstrated below:"
   ]
  },
  {
   "cell_type": "code",
   "execution_count": null,
   "id": "50fa62fc-ac5c-471f-b345-c6dd2cb7233b",
   "metadata": {
    "deletable": false,
    "editable": false
   },
   "outputs": [],
   "source": [
    "my_var = 10\n",
    "print(my_var)"
   ]
  },
  {
   "cell_type": "markdown",
   "id": "73527d07-fb2e-4e7f-9160-b51db927970d",
   "metadata": {
    "deletable": false,
    "editable": false
   },
   "source": [
    "In this exercise, we'll explore how to display both strings and variables together on the screen. Often, rather than just printing the value of a variable, we might want to format that value within a string. For example, take a look at the following cell:"
   ]
  },
  {
   "cell_type": "code",
   "execution_count": null,
   "id": "d4121b4d-0b3b-4da5-8d7a-237fc59c7445",
   "metadata": {
    "deletable": false,
    "editable": false
   },
   "outputs": [],
   "source": [
    "value_of_pi = round(math.pi, 2) # stores the value of pi rounded upto two decimal points\n",
    "print(value_of_pi) "
   ]
  },
  {
   "cell_type": "markdown",
   "id": "48e3b3eb-b51f-4be3-8231-23c586e45a60",
   "metadata": {
    "deletable": false,
    "editable": false
   },
   "source": [
    "If we want to format the value of pi with the message **The value of pi is 3.14**, we can use Python's [formatted string literal](https://docs.python.org/3/tutorial/inputoutput.html#tut-f-strings) for this purpose.  \n",
    "\n",
    "Formatted string literals (also called f-strings for short) let you include the value of Python expressions inside a string by prefixing the string with f or F and writing expressions as `{expression}`\n",
    "\n",
    "For eg: "
   ]
  },
  {
   "cell_type": "code",
   "execution_count": null,
   "id": "ba36a1e0-aedc-4fc8-b880-c6e4060c177e",
   "metadata": {
    "deletable": false,
    "editable": false
   },
   "outputs": [],
   "source": [
    "print(f\"The value of pi is {value_of_pi}\")"
   ]
  },
  {
   "cell_type": "markdown",
   "id": "3a165552-8aa7-4139-ad97-5db31572d9dd",
   "metadata": {
    "deletable": false,
    "editable": false
   },
   "source": [
    "Notice that the value_of_pi variable is enclosed in curly braces within the string so that it can be replaced by the value it holds when using the print statement. "
   ]
  },
  {
   "cell_type": "markdown",
   "id": "588e95bb-1d09-49b4-a01a-c93ffb6cfa73",
   "metadata": {
    "deletable": false,
    "editable": false
   },
   "source": [
    "#### Task: \n",
    "\n",
    "Mark is employed at a Data Analytics firm with a yearly salary of $80,000 and receives a 5% bonus for 2023. To determine Mark's total gross income for the end of the year, write a Python code to compute the total amount, including the bonus. Also, display the gross income in the specified format:\n",
    "\n",
    "`Mark's total gross income is <total_gross_income> dollars in 2023.`\n",
    "\n",
    "Note: Ensure that you replace `<total_gross_income>` with the variable representing the calculated income. Avoid inserting the amount directly; instead, use the appropriate variable in the print statement.\n",
    "\n",
    "Your answer should look like the following: \n",
    "\n",
    "`Mark's total gross income is 84000.0 dollars in 2023.` "
   ]
  },
  {
   "cell_type": "code",
   "execution_count": null,
   "id": "88bb6cef-f160-4222-b570-461ee2177ece",
   "metadata": {
    "tags": []
   },
   "outputs": [],
   "source": [
    "mark_salary = ...\n",
    "total_income = ...\n",
    "\n",
    "print(...)"
   ]
  },
  {
   "cell_type": "markdown",
   "id": "b077d519-e0d2-4d03-a9a7-057fd9b69c85",
   "metadata": {
    "deletable": false,
    "editable": false
   },
   "source": [
    "### Question 1.2 (10 points)\n",
    "Strings consist of zero or more characters, including letters, numbers, symbols, and more. While keyboards typically support a specific set of characters known as ASCII, modern textual data often requires characters from various languages or even emojis, which are not part of the standard ASCII set. To handle these additional characters, programming languages use Unicode, which provides a comprehensive range of characters from across the globe.\n",
    "\n",
    "For instance, the Unicode representation for the Spanish letter Ñ is U+00D1. To display this character in Python, you can use the following code: print('\\U000000D1'). Note that the backslash (\\) precedes the argument in the print function, and the plus sign is replaced with zeros, ensuring a total of eight characters after \\U."
   ]
  },
  {
   "cell_type": "code",
   "execution_count": null,
   "id": "3e5c7bc1-c65d-45b1-9604-e55e6d37016b",
   "metadata": {
    "deletable": false,
    "editable": false
   },
   "outputs": [],
   "source": [
    "print('\\U000000D1')"
   ]
  },
  {
   "cell_type": "markdown",
   "id": "86b2b6ea-a66b-459e-8203-6ff9c0b4428d",
   "metadata": {
    "deletable": false,
    "editable": false
   },
   "source": [
    "As a data scientist, working with textual data often involves handling Unicode characters like emojis. For example, examining emojis in movie reviews can provide insights into the reviewer's sentiment. Therefore, it's essential to have a way to read or display these emoji characters.\n",
    "\n",
    "#### Task: \n",
    "Write a Python code to display your favorite emoji that conveys your feelings about taking this course.\n",
    "\n",
    "Hint: Look at this [website](https://unicode.org/emoji/charts-14.0/full-emoji-list.html) to retrieve the **unicode** for your emoji."
   ]
  },
  {
   "cell_type": "code",
   "execution_count": null,
   "id": "a222d490-5125-446d-bcc9-f864004657fb",
   "metadata": {
    "tags": []
   },
   "outputs": [],
   "source": [
    "..."
   ]
  },
  {
   "cell_type": "markdown",
   "id": "d89d19b7-c1f6-4a2d-9965-c3f65b1e116d",
   "metadata": {},
   "source": [
    "# 2. Errors in Python\n",
    "\n",
    "The Python language, akin to human languages, is structured by rules, and transgressions come with consequences. When these rules are violated, errors are generated, unlike in natural languages where flexibility exists.\n",
    "\n",
    "Making errors is a normal part of programming, even for seasoned developers. Identifying and rectifying errors involves careful analysis of your code. Occasionally, seeking assistance from friends, online platforms like Stack Overflow, GitHub issues, etc., becomes necessary to resolve coding errors.\n",
    "\n",
    "In this particular scenario, errors have been introduced into my Python code, and I require your assistance to rectify them. Create a new cell and fix them."
   ]
  },
  {
   "cell_type": "markdown",
   "id": "df08af2b-db77-4f22-b11a-c2781a307e23",
   "metadata": {
    "deletable": false,
    "editable": false
   },
   "source": [
    "### Question 2.1 (10 points)\n",
    "\n",
    "**ModuleNotFound Error**"
   ]
  },
  {
   "cell_type": "code",
   "execution_count": null,
   "id": "8479dc2e-42e1-451a-b5d5-b861f8d8329b",
   "metadata": {
    "deletable": false,
    "editable": false
   },
   "outputs": [],
   "source": [
    "import mth"
   ]
  },
  {
   "cell_type": "markdown",
   "id": "50e82faa-fc74-4873-a623-01b0e28dd67a",
   "metadata": {
    "deletable": false,
    "editable": false
   },
   "source": [
    "Review the final line of the error message above. This message indicates the issue within the code: it states that the module 'mth\",' which you are attempting to import, cannot be found. Resolve this error by correcting the module name to 'pandas,' and then attempt to run the code again. If you've successfully addressed the issue, no errors should be encountered."
   ]
  },
  {
   "cell_type": "markdown",
   "id": "9b4af842-9d41-47fa-94f8-fd2bfa9977be",
   "metadata": {
    "deletable": false,
    "editable": false
   },
   "source": [
    "### Question 2.2 (10 points)"
   ]
  },
  {
   "cell_type": "code",
   "execution_count": null,
   "id": "34a9e86d-4692-463e-805a-54b2e7ea0612",
   "metadata": {
    "deletable": false,
    "editable": false
   },
   "outputs": [],
   "source": [
    "print(\"hello there"
   ]
  },
  {
   "cell_type": "markdown",
   "id": "0c6fe755-4e3e-421f-a77f-f469a8633bbc",
   "metadata": {
    "deletable": false,
    "editable": false
   },
   "source": [
    "This type of error is referred to as a syntax error because there has been a violation of the syntax or structure of the Python code. By carefully reading the error message, you will notice that there is a missing structure at the end of the file (EOF), specifically at the end of this line. The caret (^) symbol also indicates where the structure is broken. Correct this line and rerun the cell. This time, you should not encounter any errors."
   ]
  },
  {
   "cell_type": "markdown",
   "id": "9fce8697-7cb5-4c15-b1cb-279384161656",
   "metadata": {
    "deletable": false,
    "editable": false
   },
   "source": [
    "### Question 2.3 (10 points)"
   ]
  },
  {
   "cell_type": "code",
   "execution_count": null,
   "id": "cfcd7116-eb51-4bf2-80e1-4336f20b82da",
   "metadata": {
    "deletable": false,
    "editable": false
   },
   "outputs": [],
   "source": [
    "x + 5"
   ]
  },
  {
   "cell_type": "markdown",
   "id": "7d662726-3d46-4275-abdb-8495ffc886c4",
   "metadata": {
    "deletable": false,
    "editable": false
   },
   "source": [
    "### Question 2.4 (10 points)\n",
    "\n",
    "Kevin, who is new to Python programming, is attempting to create a function called displayTime. This function should take a total number of seconds as input, convert this time into minutes and remaining seconds, and print a message in the format:\n",
    "\n",
    "`<seconds> seconds is equivalent to <minutes> minutes and <seconds> remaining seconds.`\n",
    "\n",
    "For eg: `125 seconds is equivalent to 2 minutes and 5 seconds`.\n",
    "\n",
    "\n",
    "However, Kevin's function contains **syntax and logical errors** and isn't producing the correct output. Assist Kevin in fixing the function to achieve the desired result. "
   ]
  },
  {
   "cell_type": "code",
   "execution_count": null,
   "id": "f3d52656-6a0f-4247-b15d-4e684a2cadf0",
   "metadata": {
    "deletable": false,
    "editable": false
   },
   "outputs": [],
   "source": [
    "deaf displayTime(seconds):\n",
    "    mins = seconds / mins\n",
    "    remaining_secs = seconds // 60\n",
    "    print(\"125 seconds is equivalent to mins and remaining_secs\")"
   ]
  },
  {
   "cell_type": "code",
   "execution_count": null,
   "id": "1129c72c-f4e8-407d-98e8-916a23975044",
   "metadata": {
    "deletable": false,
    "editable": false
   },
   "outputs": [],
   "source": [
    "displayTime()"
   ]
  },
  {
   "cell_type": "markdown",
   "id": "00812c8f-8120-4359-a9d9-0e0b2d882788",
   "metadata": {},
   "source": [
    "# 3. Expressions"
   ]
  },
  {
   "cell_type": "markdown",
   "id": "3bc78d6c-8d26-478a-9440-1ad797c5e1a3",
   "metadata": {
    "deletable": false,
    "editable": false
   },
   "source": [
    "### Question 3.1 (10 points)\n",
    "\n",
    "Write Python expression in the next cell that evaluates the following expression and save the output in a variable named _result_:\n",
    "$$2 * (5\\frac{5}{2}) + 2^{0.5 * 22} - \\frac{7}{45} + 1$$\n",
    "\n",
    "Please note by $a\\frac{b}{c}$,  I mean $a + \\frac{b}{c}$ and not $a * \\frac{b}{c}$"
   ]
  },
  {
   "cell_type": "code",
   "execution_count": null,
   "id": "42cf3f94-7740-413d-a9f0-7c8e51078dad",
   "metadata": {
    "tags": []
   },
   "outputs": [],
   "source": [
    "result = ...\n",
    "print(result)"
   ]
  },
  {
   "cell_type": "code",
   "execution_count": null,
   "id": "a977d46c",
   "metadata": {
    "deletable": false,
    "editable": false
   },
   "outputs": [],
   "source": [
    "grader.check(\"q3.1\")"
   ]
  },
  {
   "cell_type": "markdown",
   "id": "a8b81657-2c58-4727-bf13-4b0843fc9e00",
   "metadata": {
    "deletable": false,
    "editable": false
   },
   "source": [
    "<!-- BEGIN QUESTION -->\n",
    "\n",
    "### Question 3.2 (10 points)\n",
    "\n",
    "Python adheres to specific rules when naming variables.The rules for naming variables in Python are as follows:\n",
    "\n",
    "1. Python variable names can consist only of letters (upper-case or lower-case), the underscore symbol _, and numbers.\n",
    "2. The initial character in a variable name cannot be a number.\n",
    "3. Variable names cannot contain spaces.\n",
    "4. Variable names cannot be Python keywords.\n",
    "\n",
    "Additionally, it is considered good practice to make variable names informative. For example, if you need to store a salary in a variable, it is more meaningful to use a variable named `salary = 60000` than `x = 60000`.\n",
    "\n",
    "Choose the appropriate variable names from the options below:\n",
    "\n",
    "    A. 23alpha\n",
    "    B. sales_tax_2022\n",
    "    C. number of students\n",
    "    D. salaryIn$\n",
    "    E. __totalPopulation\n",
    "    \n",
    "There is no need to modify/fix the variable names."
   ]
  },
  {
   "cell_type": "markdown",
   "id": "ef08337a",
   "metadata": {},
   "source": [
    "_Type your answer here, replacing this text._"
   ]
  },
  {
   "cell_type": "markdown",
   "id": "1786da1a-d81b-439f-b0a1-51661fb4fb94",
   "metadata": {
    "deletable": false,
    "editable": false
   },
   "source": [
    "<!-- END QUESTION -->\n",
    "\n",
    "# 4. Functions"
   ]
  },
  {
   "cell_type": "markdown",
   "id": "6943afd5-97c5-47be-95a7-4f6b35cde650",
   "metadata": {
    "deletable": false,
    "editable": false
   },
   "source": [
    "### Question 4.1 (10 points)\n",
    "\n",
    "Newton's law of universal gravitation states that every particle attracts every other particle in the universe with a force (in Newton) that is given as follows:\n",
    "$$F = \\frac{G * m_1 * m_2}{d^2}$$\n",
    "Where G is the gravitational constant, $m_1$ and $m_2$ are the mass of the two objects, and d is the distance between them. \n",
    "\n",
    "Write a function which takes mass of any object on earth's surface as input and returns the gravitational force with which the moon attracts that objects towards it according to the formula above. \n",
    "\n",
    "Given $G = 6.674 * 10^{-11} Nm^2{kg}^2$, \n",
    "mass of moon $ = 6 * 10^{24} kg$ and \n",
    "distance between moon and earth's surface is $3.84 * 10^8 m$"
   ]
  },
  {
   "cell_type": "code",
   "execution_count": null,
   "id": "65478e9d-2cc8-440a-a9cb-e8efcc5559d6",
   "metadata": {
    "tags": []
   },
   "outputs": [],
   "source": [
    "... computeForce(...):\n",
    "    G = ...\n",
    "    mass_of_moon = ...\n",
    "    distance = ...\n",
    "    F = ...\n",
    "    return ..."
   ]
  },
  {
   "cell_type": "markdown",
   "id": "c522c1c8-aaa6-42f7-b1ad-9dbb69c440d3",
   "metadata": {
    "deletable": false,
    "editable": false
   },
   "source": [
    "Now, proceed to execute the function you previously created to determine the force (in Newton) exerted by the moon on my friend, John who is 160 pounds. Store your answer in the variable `force_on_John`. \n",
    "\n",
    "Hint: 1 pound is approximately equal to 0.453 kilograms."
   ]
  },
  {
   "cell_type": "code",
   "execution_count": null,
   "id": "1631fee0-9f48-44e3-bc9e-10c479885d70",
   "metadata": {
    "tags": []
   },
   "outputs": [],
   "source": [
    "force_on_John = ..."
   ]
  },
  {
   "cell_type": "code",
   "execution_count": null,
   "id": "9feb95b1",
   "metadata": {
    "deletable": false,
    "editable": false
   },
   "outputs": [],
   "source": [
    "grader.check(\"q4.1\")"
   ]
  },
  {
   "cell_type": "markdown",
   "id": "d143a3e9-2de8-4885-a92d-fb9fb9785bce",
   "metadata": {
    "deletable": false,
    "editable": false
   },
   "source": [
    "### Question 4.2 (10 points)\n",
    "\n",
    "Write a function named `greet_user` that takes the following parameters:\n",
    "\n",
    "- name (string) – the name of the user to greet.\n",
    "- greeting (string, default value: \"Hello\") – the greeting message.\n",
    "- punctuation (string, default value: \"!\") – the punctuation mark to end the greeting.\n",
    "    \n",
    "The function should return a greeting string that combines these inputs in the following format:\n",
    "\n",
    "```greeting, name punctuation```\n",
    "\n",
    "For example:\n",
    "\n",
    "greet_user(\"Alice\") should return `\"Hello, Alice!\"`\n",
    "\n",
    "greet_user(\"Bob\", greeting=\"Hi\") should return `\"Hi, Bob!\"`\n",
    "\n",
    "greet_user(\"Charlie\", punctuation=\"!!!\") should return `\"Hello, Charlie!!!\"`\n",
    "\n",
    "greet_user(\"Dana\", greeting=\"Hey\", punctuation=\".\") should return `\"Hey, Dana.\"`"
   ]
  },
  {
   "cell_type": "code",
   "execution_count": null,
   "id": "f7620db8-71fc-4778-937b-484e76860591",
   "metadata": {
    "tags": []
   },
   "outputs": [],
   "source": [
    "def greet_user(...):\n",
    "    ..."
   ]
  },
  {
   "cell_type": "code",
   "execution_count": null,
   "id": "de5bde1e-952d-4939-a6f8-926d40fb84fb",
   "metadata": {
    "tags": []
   },
   "outputs": [],
   "source": [
    "greet_user(\"Alice\")"
   ]
  },
  {
   "cell_type": "code",
   "execution_count": null,
   "id": "a4285bbc-ced1-48f5-9044-1a0a6a9dd449",
   "metadata": {
    "tags": []
   },
   "outputs": [],
   "source": [
    "greet_user(\"Bob\", greeting=\"Hi\")"
   ]
  },
  {
   "cell_type": "code",
   "execution_count": null,
   "id": "7b4dfd2d-1d87-4394-a216-db6cf1b47e92",
   "metadata": {
    "tags": []
   },
   "outputs": [],
   "source": [
    "greet_user(\"Charlie\", punctuation=\"!!!\")"
   ]
  },
  {
   "cell_type": "code",
   "execution_count": null,
   "id": "28ffde51-bd79-445d-8dbf-cd87a2b4ef81",
   "metadata": {
    "tags": []
   },
   "outputs": [],
   "source": [
    "greet_user(\"Dana\", greeting=\"Hey\", punctuation=\".\")"
   ]
  }
 ],
 "metadata": {
  "kernelspec": {
   "display_name": "Python 3 (ipykernel)",
   "language": "python",
   "name": "python3"
  },
  "language_info": {
   "codemirror_mode": {
    "name": "ipython",
    "version": 3
   },
   "file_extension": ".py",
   "mimetype": "text/x-python",
   "name": "python",
   "nbconvert_exporter": "python",
   "pygments_lexer": "ipython3",
   "version": "3.12.6"
  },
  "otter": {
   "OK_FORMAT": true,
   "tests": {
    "q3.1": {
     "name": "q3.1",
     "points": null,
     "suites": [
      {
       "cases": [
        {
         "code": ">>> math.isclose(result, 2063.844, abs_tol=0.1)\nTrue",
         "hidden": false,
         "locked": false
        }
       ],
       "scored": true,
       "setup": "",
       "teardown": "",
       "type": "doctest"
      }
     ]
    },
    "q4.1": {
     "name": "q4.1",
     "points": null,
     "suites": [
      {
       "cases": [
        {
         "code": ">>> math.isclose(force_on_John, 0.2, abs_tol=0.1)\nTrue",
         "hidden": false,
         "locked": false
        }
       ],
       "scored": true,
       "setup": "",
       "teardown": "",
       "type": "doctest"
      }
     ]
    }
   }
  }
 },
 "nbformat": 4,
 "nbformat_minor": 5
}
