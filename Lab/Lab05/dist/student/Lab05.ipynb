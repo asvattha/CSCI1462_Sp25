{
 "cells": [
  {
   "cell_type": "code",
   "execution_count": null,
   "id": "23314de0",
   "metadata": {
    "deletable": false,
    "editable": false
   },
   "outputs": [],
   "source": [
    "# Initialize Otter\n",
    "import otter\n",
    "grader = otter.Notebook(\"Lab05.ipynb\")"
   ]
  },
  {
   "cell_type": "markdown",
   "id": "b970cd7f-2af2-4a35-b529-44345c77dea5",
   "metadata": {},
   "source": [
    "Due Date: 11 Apr 2025 by 11:59 pm\n",
    "\n",
    "Grading Rubric:\n",
    "\n",
    "| Question | Points |\n",
    "| ----- |---- |\n",
    "| 1(a) | 20 |\n",
    "| 1(b) | 20 |\n",
    "| 1(c) | 20 |\n",
    "| 2 | 20 |\n",
    "| 3 | 20 |\n",
    "| Total | 100 |"
   ]
  },
  {
   "cell_type": "code",
   "execution_count": null,
   "id": "e99874f1-71b9-463f-8591-2d540a4e5a2d",
   "metadata": {},
   "outputs": [],
   "source": [
    "import numpy as np\n",
    "import matplotlib.pyplot as plt\n",
    "import pandas as pd"
   ]
  },
  {
   "cell_type": "markdown",
   "id": "fb98d4ce-8180-42fa-a9c9-9123db2ef79c",
   "metadata": {},
   "source": [
    "Instructions: \n",
    "\n",
    "Submission: Please upload the notebook (.ipynb) file on D2L --> Lab -- > Lab05 --> Lab05_Dropbox\n",
    "\n",
    "1. The lab assignment is individual-based assignment. However, you are encouraged to discuss with your classmates, but DO NOT show your code and copy from others. It will be considered as plagiarism, and proper actions will be taken as per the syllabus.\n",
    "\n",
    "2. Just because your question has passed the autograder test, doesn't mean necessarily that your answer is correct. So make sure you answer those questions carefully. The instructor has some hidden tests, and only when your question passes those tests successfully during grading, you will be given full points for the question.\n",
    "\n",
    "3. If you are stuck somewhere, feel free to reach out to me. "
   ]
  },
  {
   "cell_type": "markdown",
   "id": "d379c65e-e2db-4467-b992-0654a3dd488e",
   "metadata": {},
   "source": [
    "Objectives: To practice and learn about the following topics: \n",
    "1. Intro to Probability"
   ]
  },
  {
   "cell_type": "markdown",
   "id": "77ecdd31-927b-4cdd-965d-7df8fb843d9e",
   "metadata": {},
   "source": [
    "# 1. Movie Rental \n",
    "\n",
    "Rachel has rented 4 horror, 9 comedy and 2 action movies. Each day, she chooses to watch one movie from\n",
    "all the movies rented by her. Each movie is equally likely to be chosen by Rachel, and she only watches a\n",
    "movie once.\n",
    "\n",
    "Write a mathematical expression (not Python code) to evaluate the probability of the following events happening. You do not need to simplify the arithmetic to find the exact answer, you can keep it in the mathematical\n",
    "form."
   ]
  },
  {
   "cell_type": "markdown",
   "id": "9b1a1217-b3ec-45c6-a90f-27d52a6e06cc",
   "metadata": {
    "deletable": false,
    "editable": false
   },
   "source": [
    "<!-- BEGIN QUESTION -->\n",
    "\n",
    "### Question 1(a)\n",
    "\n",
    "What is the probability that Rachel watches comedy movies for the first three days of renting\n",
    "the movies?"
   ]
  },
  {
   "cell_type": "markdown",
   "id": "b735aa1c",
   "metadata": {},
   "source": [
    "_Type your answer here, replacing this text._"
   ]
  },
  {
   "cell_type": "markdown",
   "id": "2c4b996d-485a-4931-afda-0378806149fa",
   "metadata": {
    "deletable": false,
    "editable": false
   },
   "source": [
    "<!-- END QUESTION -->\n",
    "\n",
    "<!-- BEGIN QUESTION -->\n",
    "\n",
    "### Question 1(b)\n",
    "\n",
    "What is the probability that out of the first two days of renting the movies, she watches\n",
    "horror one day and action on the other? Note: Here the order in which she watches any of these movies\n",
    "doesn’t matter."
   ]
  },
  {
   "cell_type": "markdown",
   "id": "1f2cf6ca",
   "metadata": {},
   "source": [
    "_Type your answer here, replacing this text._"
   ]
  },
  {
   "cell_type": "markdown",
   "id": "76afa58f-02c9-481a-947f-96760324d22f",
   "metadata": {
    "deletable": false,
    "editable": false
   },
   "source": [
    "<!-- END QUESTION -->\n",
    "\n",
    "<!-- BEGIN QUESTION -->\n",
    "\n",
    "### Question 1(c)\n",
    "\n",
    "What is the probability that Rachel watches at least one horror movie for the first three\n",
    "days of renting the movie? "
   ]
  },
  {
   "cell_type": "markdown",
   "id": "905a0d87",
   "metadata": {},
   "source": [
    "_Type your answer here, replacing this text._"
   ]
  },
  {
   "cell_type": "markdown",
   "id": "0373f4ec-e68b-49be-bdc2-ea82624628f7",
   "metadata": {
    "deletable": false,
    "editable": false
   },
   "source": [
    "<!-- END QUESTION -->\n",
    "\n",
    "<!-- BEGIN QUESTION -->\n",
    "\n",
    "### Question 2\n",
    "\n",
    "A certain family has 6 children, consisting of 3 boys and 3 girls. Assuming that all birth orders are equally likely, what is the probability that the 3 eldest children are the girls? "
   ]
  },
  {
   "cell_type": "markdown",
   "id": "34bad73c",
   "metadata": {},
   "source": [
    "_Type your answer here, replacing this text._"
   ]
  },
  {
   "cell_type": "markdown",
   "id": "578652d2-a4bc-451d-ae49-66c886db160e",
   "metadata": {
    "deletable": false,
    "editable": false
   },
   "source": [
    "<!-- END QUESTION -->\n",
    "\n",
    "### Question 3\n",
    "\n",
    "#### Monty Hall Problem \n",
    "\n",
    "Consider the following 7-door version of the Monty Hall problem. There are 7\n",
    "doors, behind one of which there is a car (which you want), and behind the rest of which\n",
    "there are goats (which you don’t want). Initially, all possibilities are equally likely for\n",
    "where the car is. You choose a door. Monty Hall then opens 3 goat doors, and offers\n",
    "you the option of switching to any of the remaining 3 doors.\n",
    "Assume that Monty Hall knows which door has the car, will always open 3 goat doors\n",
    "and offer the option of switching, and that Monty chooses with equal probabilities from\n",
    "all his choices of which goat doors to open. Should you switch? What is your probability\n",
    "of success if you switch to one of the remaining 3 doors?\n"
   ]
  },
  {
   "cell_type": "markdown",
   "id": "6a5be2bf-5f96-4139-9a23-b4a198974873",
   "metadata": {
    "deletable": false,
    "editable": false
   },
   "source": [
    "To simulate the scenario, you need to write a Python function called `one_expt` that simulates a single game and returns True if the contestant wins the car by switching, and False otherwise. Then, run this simulation many times (e.g., 50,000 times) to calculate the frequency with which the contestant wins by switching doors.\n"
   ]
  },
  {
   "cell_type": "code",
   "execution_count": null,
   "id": "4e0c2cda-4ca9-4983-a267-b6d8d7aa436f",
   "metadata": {
    "tags": []
   },
   "outputs": [],
   "source": [
    "behind_closed_doors = np.array(['car', 'goat1', 'goat2', 'goat3', 'goat4', 'goat5', 'goat6'])"
   ]
  },
  {
   "cell_type": "code",
   "execution_count": null,
   "id": "87284a12-1a36-421c-a4ec-14ed02b9052a",
   "metadata": {
    "tags": []
   },
   "outputs": [],
   "source": [
    "def one_expt():\n",
    "    np.random.shuffle(behind_closed_doors) # Randomly shuffling the items behind the doors that only Monty knows about\n",
    "\n",
    "    #contestant_pick is the item that the contestant will pick randomly. Use np.random.choice to select randomly an item from behind closed doors\n",
    "    contestant_pick = ...\n",
    "\n",
    "    # this variable stores the option of doors that the contestant will have after monty picks the 3 goat doors randomly. \n",
    "    mask = np.logical_and(behind_closed_doors != 'car', behind_closed_doors != contestant_pick)\n",
    "    doors_left_to_pick_for_monty = behind_closed_doors[mask]\n",
    "\n",
    "    #monty_pick are the doors that the Monty will pick randomly. Use np.random.choice to select randomly an item from behind closed doors. \n",
    "    monty_pick = np.random.choice(doors_left_to_pick_for_monty, ... , replace=...)\n",
    "    \n",
    "    doors_left_to_pick_for_contestant = []\n",
    "    for x in doors_left_to_pick_for_monty:\n",
    "        if (x not in monty_pick):\n",
    "            doors_left_to_pick_for_contestant.append(x)\n",
    "\n",
    "    if(contestant_pick != 'car'):\n",
    "        doors_left_to_pick_for_contestant.append('car')\n",
    "            \n",
    "    contestant_pick_after_switch = ...\n",
    "\n",
    "    if contestant_pick_after_switch == 'car':\n",
    "        ...\n",
    "    else:\n",
    "        ..."
   ]
  },
  {
   "cell_type": "code",
   "execution_count": null,
   "id": "ea9a6445-1830-47fa-8f18-5f1533e394a3",
   "metadata": {
    "tags": []
   },
   "outputs": [],
   "source": [
    "repetitions = 50000\n",
    "total_outcomes  = []\n",
    "\n",
    "for x in np.arange(repetitions):\n",
    "    ..."
   ]
  },
  {
   "cell_type": "code",
   "execution_count": null,
   "id": "0f1c156a-3ff4-42ee-90b4-6723839ec661",
   "metadata": {
    "tags": []
   },
   "outputs": [],
   "source": [
    "total_outcomes = np.array(total_outcomes)"
   ]
  },
  {
   "cell_type": "code",
   "execution_count": null,
   "id": "dd9e0622-5443-4da6-8552-862c8917aded",
   "metadata": {
    "tags": []
   },
   "outputs": [],
   "source": [
    "prob = ...\n",
    "prob"
   ]
  },
  {
   "cell_type": "code",
   "execution_count": null,
   "id": "fb4ae5f0",
   "metadata": {
    "deletable": false,
    "editable": false
   },
   "outputs": [],
   "source": [
    "grader.check(\"q3\")"
   ]
  }
 ],
 "metadata": {
  "kernelspec": {
   "display_name": "Python 3 (ipykernel)",
   "language": "python",
   "name": "python3"
  },
  "language_info": {
   "codemirror_mode": {
    "name": "ipython",
    "version": 3
   },
   "file_extension": ".py",
   "mimetype": "text/x-python",
   "name": "python",
   "nbconvert_exporter": "python",
   "pygments_lexer": "ipython3",
   "version": "3.12.6"
  },
  "otter": {
   "OK_FORMAT": true,
   "tests": {
    "q3": {
     "name": "q3",
     "points": null,
     "suites": [
      {
       "cases": [
        {
         "code": ">>> (0.26 < prob < 0.29).item() == True\nTrue",
         "hidden": false,
         "locked": false
        }
       ],
       "scored": true,
       "setup": "",
       "teardown": "",
       "type": "doctest"
      }
     ]
    }
   }
  }
 },
 "nbformat": 4,
 "nbformat_minor": 5
}
