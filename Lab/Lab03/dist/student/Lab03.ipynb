{
 "cells": [
  {
   "cell_type": "code",
   "execution_count": null,
   "id": "0d8f9b1a",
   "metadata": {
    "deletable": false,
    "editable": false
   },
   "outputs": [],
   "source": [
    "# Initialize Otter\n",
    "import otter\n",
    "grader = otter.Notebook(\"Lab03.ipynb\")"
   ]
  },
  {
   "cell_type": "code",
   "execution_count": null,
   "id": "74026172-28a4-4e72-95da-a7b5e67db4a5",
   "metadata": {},
   "outputs": [],
   "source": [
    "import numpy as np\n",
    "import pandas as pd"
   ]
  },
  {
   "cell_type": "markdown",
   "id": "42ed582d-acaf-4cdd-8098-184ef618fd3b",
   "metadata": {},
   "source": [
    "Grading Rubric:\n",
    "\n",
    "| Question | Points |\n",
    "| ----- |---- |\n",
    "| 1(a) | 5 |\n",
    "| 1(b) | 5 |\n",
    "| 1(c) | 5 |\n",
    "| 1(d) | 5 |\n",
    "| 1(e) | 5 |\n",
    "| 1(f) | 5 |\n",
    "| 1(g) | 10 |\n",
    "| 1(g) | 10 |\n",
    "| Total | 50 |"
   ]
  },
  {
   "cell_type": "markdown",
   "id": "1adfbf37-1b69-459a-997e-f6d6eee92685",
   "metadata": {},
   "source": [
    "# Welcome to Lab03.\n",
    "\n",
    "This Lab03 has two parts. The first part consists of a series of questions in a Jupyter notebook format, while the second part includes handwritten questions uploaded on D2L as a PDF. You are required to complete both sections.\n",
    "\n",
    "Objectives:\n",
    "1. Tables (Query, Groupby and Merge)"
   ]
  },
  {
   "cell_type": "markdown",
   "id": "39840ee6-a074-4a0b-a208-03eb2edef2d7",
   "metadata": {},
   "source": [
    "This dataset contains information on hurricanes that affect the continent of North America. The columns are as follows:\n",
    "\n",
    "**Year** -*an int*,  the year when hurricane hit\n",
    "\n",
    "**Name** - *a string*, the name of the hurricane\n",
    "\n",
    "**Rain Inch** - *a float*,  the amount of rain that fell in inches\n",
    "\n",
    "**Highest Wind Speed** - *an int*, The highest wind speed achieved by the hurricane\n",
    "\n",
    "**Damage(USD)** - *a float*, the cost of damage in US dollars\n",
    "\n",
    "**Fatalities** - *an int*, the amount of deaths\n",
    "\n",
    "**Areas Affected** - *a string*, the area affected by the hurricane"
   ]
  },
  {
   "cell_type": "code",
   "execution_count": null,
   "id": "23cc38f1-4bc0-4123-ab12-37c543b7f2d9",
   "metadata": {},
   "outputs": [],
   "source": [
    "hurricanes = pd.read_csv('data/hurricanes.csv')\n",
    "hurricanes.head(3)"
   ]
  },
  {
   "cell_type": "markdown",
   "id": "56e061fb-de29-4ff1-92a1-abf2be846d7d",
   "metadata": {
    "deletable": false,
    "editable": false
   },
   "source": [
    "### Question 1a [5 points]\n",
    "\n",
    "Verify whether there are any columns in the dataframe that contain missing values. Your answer should return either True or False.\n",
    "\n",
    "Hint: Utilize `DataFrame.isna()` to identify cells with missing values, and `DataFrame.isna().any()` to determine if any values in a column are missing."
   ]
  },
  {
   "cell_type": "code",
   "execution_count": null,
   "id": "0e941f6e-22d1-4df3-a85d-db2ff3b61e39",
   "metadata": {
    "tags": []
   },
   "outputs": [],
   "source": [
    "your_ans = ...\n",
    "your_ans"
   ]
  },
  {
   "cell_type": "code",
   "execution_count": null,
   "id": "8943b68d",
   "metadata": {
    "deletable": false,
    "editable": false
   },
   "outputs": [],
   "source": [
    "grader.check(\"q1a\")"
   ]
  },
  {
   "cell_type": "markdown",
   "id": "9d948cb4-b1aa-4a94-bf22-2e02d447b358",
   "metadata": {
    "deletable": false,
    "editable": false
   },
   "source": [
    "### Question 1b [5 points]\n",
    "\n",
    "Write a python code to drop rows with missing values. "
   ]
  },
  {
   "cell_type": "code",
   "execution_count": null,
   "id": "28a7ef67-c3de-4182-a3b5-c4787a3215b5",
   "metadata": {
    "tags": []
   },
   "outputs": [],
   "source": [
    "hurricanes = ...\n",
    "hurricanes.head(3)"
   ]
  },
  {
   "cell_type": "code",
   "execution_count": null,
   "id": "0a1f0e02",
   "metadata": {
    "deletable": false,
    "editable": false
   },
   "outputs": [],
   "source": [
    "grader.check(\"q1b\")"
   ]
  },
  {
   "cell_type": "markdown",
   "id": "b3d21686-91e9-4ec9-b325-f175cff99efa",
   "metadata": {
    "deletable": false,
    "editable": false
   },
   "source": [
    "### Question 1c [5 points]\n",
    "\n",
    "\n",
    "Find the hurricane name that resulted in the highest number of fatalities."
   ]
  },
  {
   "cell_type": "code",
   "execution_count": null,
   "id": "b8132652-224e-4559-a7ab-97faa61ce499",
   "metadata": {
    "tags": []
   },
   "outputs": [],
   "source": [
    "your_ans = ...\n",
    "your_ans"
   ]
  },
  {
   "cell_type": "code",
   "execution_count": null,
   "id": "c97996de",
   "metadata": {
    "deletable": false,
    "editable": false
   },
   "outputs": [],
   "source": [
    "grader.check(\"q1c\")"
   ]
  },
  {
   "cell_type": "markdown",
   "id": "5a0d55dd-77c3-4d00-a7bb-34ea554ac068",
   "metadata": {
    "deletable": false,
    "editable": false
   },
   "source": [
    "### Question 1d [5 points]\n",
    "\n",
    "Create a new dataframe called `hurricane_normalized` that includes the `name` column and a `norm_rain` column, where `name` represents the hurricane's name and `norm_rain` is the normalized amount of rainfall in inches.\n",
    "\n",
    "To normalize a column, use the formula:\n",
    "\n",
    "$$z = \\frac{x-\\mu}{\\sigma}$$\n",
    "\n",
    "where,\n",
    "- $x$ is the value from the column,\n",
    "- $\\mu$ is the mean of the values in that column,\n",
    "- $\\sigma$ is the standard deviation of the values in that column, \n",
    "- $z$ is the normalized value for that column."
   ]
  },
  {
   "cell_type": "code",
   "execution_count": null,
   "id": "6c5a8cde-6d21-4f68-8608-d4124dff4b42",
   "metadata": {
    "tags": []
   },
   "outputs": [],
   "source": [
    "mu_rain = np.mean(hurricanes['Rain Inch.']) # calculates the mean of the column\n",
    "sigma_rain = np.std(hurricanes['Rain Inch.']) # calcualtes the standard deviation of the column \n",
    "\n",
    "hurricanes_normalized = pd.DataFrame({ \n",
    "                            ...\n",
    "                        })\n",
    "\n",
    "\n",
    "hurricanes_normalized.head(3)"
   ]
  },
  {
   "cell_type": "code",
   "execution_count": null,
   "id": "ec53df38",
   "metadata": {
    "deletable": false,
    "editable": false
   },
   "outputs": [],
   "source": [
    "grader.check(\"q1d\")"
   ]
  },
  {
   "cell_type": "markdown",
   "id": "c5968705-3b00-4a8d-ae40-dce3aff90ae8",
   "metadata": {
    "deletable": false,
    "editable": false
   },
   "source": [
    "### Question 1e [5 points]\n",
    "\n",
    "You have access to another table called `cat`, which includes hurricane categories.\n",
    "\n",
    "How many hurricanes in the dataset were classified as **Category 1**?"
   ]
  },
  {
   "cell_type": "code",
   "execution_count": null,
   "id": "aa7fd791-0846-470f-96b1-cfc7c38f327b",
   "metadata": {
    "deletable": false,
    "editable": false
   },
   "outputs": [],
   "source": [
    "cat = pd.read_csv('data/cat.csv')\n",
    "cat.head(3)"
   ]
  },
  {
   "cell_type": "code",
   "execution_count": null,
   "id": "a81c4b8a-8639-4e3e-80b8-61a029a5b630",
   "metadata": {
    "tags": []
   },
   "outputs": [],
   "source": [
    "your_ans = ...\n",
    "your_ans"
   ]
  },
  {
   "cell_type": "code",
   "execution_count": null,
   "id": "e91334a6",
   "metadata": {
    "deletable": false,
    "editable": false
   },
   "outputs": [],
   "source": [
    "grader.check(\"q1e\")"
   ]
  },
  {
   "cell_type": "markdown",
   "id": "f0b0a26f-9bc9-4a71-99ff-18deb55655b4",
   "metadata": {
    "deletable": false,
    "editable": false
   },
   "source": [
    "### Question 1f [5 points]\n",
    "\n",
    "Find an **array of names** of Category 5 hurricanes that occurred in the year 2017."
   ]
  },
  {
   "cell_type": "code",
   "execution_count": null,
   "id": "85940eac-08ee-4361-93ff-221429804a13",
   "metadata": {
    "tags": []
   },
   "outputs": [],
   "source": [
    "your_ans = ...\n",
    "your_ans"
   ]
  },
  {
   "cell_type": "code",
   "execution_count": null,
   "id": "407d6de7",
   "metadata": {
    "deletable": false,
    "editable": false
   },
   "outputs": [],
   "source": [
    "grader.check(\"q1f\")"
   ]
  },
  {
   "cell_type": "markdown",
   "id": "78cc0452-5785-45a9-8e05-a3ee92fbabf5",
   "metadata": {
    "deletable": false,
    "editable": false
   },
   "source": [
    "### Question 1g [10 points]\n",
    "\n",
    "Find the year that recorded the highest number of fatalities due to hurricanes. (Assume there is only one)"
   ]
  },
  {
   "cell_type": "code",
   "execution_count": null,
   "id": "92c9e7f1-5a41-4a72-82c6-265797152caf",
   "metadata": {
    "tags": []
   },
   "outputs": [],
   "source": [
    "your_ans = ...\n",
    "your_ans"
   ]
  },
  {
   "cell_type": "code",
   "execution_count": null,
   "id": "1e2b1f0e",
   "metadata": {
    "deletable": false,
    "editable": false
   },
   "outputs": [],
   "source": [
    "grader.check(\"q1g\")"
   ]
  },
  {
   "cell_type": "markdown",
   "id": "15c3d4ff-d60a-439a-a5b8-298612864633",
   "metadata": {
    "deletable": false,
    "editable": false
   },
   "source": [
    "#### Apply a function to a column of a dataframe or pandas series\n",
    "\n",
    "In data analysis, we often need to modify our columns for improved insights. For example, let's enhance the `Name` column of the hurricanes data table by prefixing each hurricane name with the word **Hurricane**. So, `Debby` would become `Hurricane Debby`.\n",
    "\n",
    "To perform this type of column transformation, we can create a function that takes each value of the column as an input, applies the transformation within the function, and returns the modified value. We can then use the `map` method to apply this transformation function to the dataframe column."
   ]
  },
  {
   "cell_type": "code",
   "execution_count": null,
   "id": "90b3763d-662c-4a3c-a459-955af860a8c7",
   "metadata": {
    "deletable": false,
    "editable": false
   },
   "outputs": [],
   "source": [
    "def convert_names(name):\n",
    "    return \"Hurricane \" + name"
   ]
  },
  {
   "cell_type": "code",
   "execution_count": null,
   "id": "afc902da-4060-4778-9d5d-ac56d4a72612",
   "metadata": {
    "deletable": false,
    "editable": false
   },
   "outputs": [],
   "source": [
    "hurricanes['Name'].map(convert_names)"
   ]
  },
  {
   "cell_type": "markdown",
   "id": "9b5436f0-fd1f-412d-b621-9a1723738fc8",
   "metadata": {
    "deletable": false,
    "editable": false
   },
   "source": [
    "### Question 1h [10 points]\n",
    "\n",
    "Write a python code that returns **an array of names** for hurricanes that impacted the state of Texas.\n",
    "\n",
    "Hint: \n",
    "1. Utilize `map` method\n",
    "2. Search for the keyword **Texas** within the values of the `Affected Areas` column. Refer to the **Check String** section in the DataStructures.ipynb notebook discussed earlier in class."
   ]
  },
  {
   "cell_type": "code",
   "execution_count": null,
   "id": "f81ea188-1572-49ad-8f16-d92a0b45d21c",
   "metadata": {
    "tags": []
   },
   "outputs": [],
   "source": [
    "def isTexasAffected(region):\n",
    "    ..."
   ]
  },
  {
   "cell_type": "code",
   "execution_count": null,
   "id": "87802299-4011-415e-9f06-9274fa0a262b",
   "metadata": {
    "tags": []
   },
   "outputs": [],
   "source": [
    "your_ans = ...\n",
    "your_ans"
   ]
  },
  {
   "cell_type": "code",
   "execution_count": null,
   "id": "c8001533",
   "metadata": {
    "deletable": false,
    "editable": false
   },
   "outputs": [],
   "source": [
    "grader.check(\"q1h\")"
   ]
  }
 ],
 "metadata": {
  "kernelspec": {
   "display_name": "Python 3 (ipykernel)",
   "language": "python",
   "name": "python3"
  },
  "language_info": {
   "codemirror_mode": {
    "name": "ipython",
    "version": 3
   },
   "file_extension": ".py",
   "mimetype": "text/x-python",
   "name": "python",
   "nbconvert_exporter": "python",
   "pygments_lexer": "ipython3",
   "version": "3.12.6"
  },
  "otter": {
   "OK_FORMAT": true,
   "tests": {
    "q1a": {
     "name": "q1a",
     "points": null,
     "suites": [
      {
       "cases": [
        {
         "code": ">>> your_ans.item() == True\nTrue",
         "hidden": false,
         "locked": false
        }
       ],
       "scored": true,
       "setup": "",
       "teardown": "",
       "type": "doctest"
      }
     ]
    },
    "q1b": {
     "name": "q1b",
     "points": null,
     "suites": [
      {
       "cases": [
        {
         "code": ">>> np.any(hurricanes.isna().any()).item() == False\nTrue",
         "hidden": false,
         "locked": false
        }
       ],
       "scored": true,
       "setup": "",
       "teardown": "",
       "type": "doctest"
      }
     ]
    },
    "q1c": {
     "name": "q1c",
     "points": null,
     "suites": [
      {
       "cases": [
        {
         "code": ">>> your_ans == 'Maria'\nTrue",
         "hidden": false,
         "locked": false
        }
       ],
       "scored": true,
       "setup": "",
       "teardown": "",
       "type": "doctest"
      }
     ]
    },
    "q1d": {
     "name": "q1d",
     "points": null,
     "suites": [
      {
       "cases": [
        {
         "code": ">>> hurricanes_normalized.shape == (110, 2)\nTrue",
         "hidden": false,
         "locked": false
        }
       ],
       "scored": true,
       "setup": "",
       "teardown": "",
       "type": "doctest"
      }
     ]
    },
    "q1e": {
     "name": "q1e",
     "points": null,
     "suites": [
      {
       "cases": [
        {
         "code": ">>> your_ans == 21\nTrue",
         "hidden": false,
         "locked": false
        }
       ],
       "scored": true,
       "setup": "",
       "teardown": "",
       "type": "doctest"
      }
     ]
    },
    "q1f": {
     "name": "q1f",
     "points": null,
     "suites": [
      {
       "cases": [
        {
         "code": ">>> len(your_ans) == 2\nTrue",
         "hidden": false,
         "locked": false
        },
        {
         "code": ">>> ('Irma' in your_ans) == True\nTrue",
         "hidden": false,
         "locked": false
        },
        {
         "code": ">>> ('Maria' in your_ans) == True\nTrue",
         "hidden": false,
         "locked": false
        }
       ],
       "scored": true,
       "setup": "",
       "teardown": "",
       "type": "doctest"
      }
     ]
    },
    "q1g": {
     "name": "q1g",
     "points": null,
     "suites": [
      {
       "cases": [
        {
         "code": ">>> your_ans.item() == 2017\nTrue",
         "hidden": false,
         "locked": false
        }
       ],
       "scored": true,
       "setup": "",
       "teardown": "",
       "type": "doctest"
      }
     ]
    },
    "q1h": {
     "name": "q1h",
     "points": null,
     "suites": [
      {
       "cases": [
        {
         "code": ">>> len(your_ans) == 14\nTrue",
         "hidden": false,
         "locked": false
        },
        {
         "code": ">>> 'Harvey' in your_ans\nTrue",
         "hidden": false,
         "locked": false
        }
       ],
       "scored": true,
       "setup": "",
       "teardown": "",
       "type": "doctest"
      }
     ]
    }
   }
  }
 },
 "nbformat": 4,
 "nbformat_minor": 5
}
