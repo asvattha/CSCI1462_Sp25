{
 "cells": [
  {
   "cell_type": "code",
   "execution_count": null,
   "id": "bc5d9f4b",
   "metadata": {
    "deletable": false,
    "editable": false
   },
   "outputs": [],
   "source": [
    "# Initialize Otter\n",
    "import otter\n",
    "grader = otter.Notebook(\"Lab04.ipynb\")"
   ]
  },
  {
   "cell_type": "markdown",
   "id": "268c0320-134d-4a86-a403-d7f7dda02e5d",
   "metadata": {},
   "source": [
    "Due Date: 28 Mar 2025 by 11:59 pm\n",
    "\n",
    "Grading Rubric:\n",
    "\n",
    "| Question | Points |\n",
    "| ----- |---- |\n",
    "| 1(a) | 10 |\n",
    "| 1(b) | 10 |\n",
    "| 1(c) | 10 |\n",
    "| 1(d) | 10 |\n",
    "| 1(e) | 10 |\n",
    "| 1(f) | 10 |\n",
    "| 2(a) | 10 |\n",
    "| 2(b) | 10 |\n",
    "| 2(c) | 20 |\n",
    "| Total | 100 |"
   ]
  },
  {
   "cell_type": "code",
   "execution_count": null,
   "id": "5ef01342-1c86-42d6-8ae7-f08588b8c76c",
   "metadata": {},
   "outputs": [],
   "source": [
    "import numpy as np\n",
    "import matplotlib.pyplot as plt\n",
    "import pandas as pd"
   ]
  },
  {
   "cell_type": "markdown",
   "id": "f63eaadf-b16f-4393-80db-eda66a131d70",
   "metadata": {},
   "source": [
    "Instructions: \n",
    "\n",
    "Submission: Please upload the notebook (.ipynb) file on D2L --> Lab -- > Lab04 --> Lab04_Dropbox\n",
    "\n",
    "1. The lab assignment is individual-based assignment. However, you are encouraged to discuss with your classmates, but DO NOT show your code and copy from others. It will be considered as plagiarism, and proper actions will be taken as per the syllabus.\n",
    "\n",
    "2. Just because your question has passed the autograder test, doesn't mean necessarily that your answer is correct. So make sure you answer those questions carefully. The instructor has some hidden tests, and only when your question passes those tests successfully during grading, you will be given full points for the question.\n",
    "\n",
    "3. If you are stuck somewhere, feel free to reach out to me. "
   ]
  },
  {
   "cell_type": "markdown",
   "id": "ab0b0466-7c3d-42e9-aa0a-a450a6b8560b",
   "metadata": {},
   "source": [
    "Objectives: To practice and learn about the following topics: \n",
    "1. Data Visualization\n",
    "2. Histogram\n",
    "3. Intro to Probability"
   ]
  },
  {
   "cell_type": "markdown",
   "id": "c3aa5884-48e4-450d-b916-53f4103e4918",
   "metadata": {},
   "source": [
    "# 1. Histogram"
   ]
  },
  {
   "cell_type": "markdown",
   "id": "adef3672-b392-4c96-859f-734e2740644f",
   "metadata": {},
   "source": [
    "Consider the table **nba_salaries** whih contains the NBA players and their salaries for the year 2017-2018. "
   ]
  },
  {
   "cell_type": "code",
   "execution_count": null,
   "id": "0fed5f48-650d-4ba7-95b6-e1c102f0def8",
   "metadata": {},
   "outputs": [],
   "source": [
    "nba_salaries = pd.read_csv('data/NBA_season1718_salary.csv', usecols=[1, 2, 3])\n",
    "nba_salaries.head()"
   ]
  },
  {
   "cell_type": "markdown",
   "id": "2981be35-ddc0-40af-8c16-56fd041b464f",
   "metadata": {
    "deletable": false,
    "editable": false
   },
   "source": [
    "### Question 1(a) [10 points]\n",
    "\n",
    "Create a dataframe **nba** which stores only the two columns: `Player` and `Salary` (converted to millions, rounded upto two decimal points). "
   ]
  },
  {
   "cell_type": "code",
   "execution_count": null,
   "id": "d23a25e6-0cc5-4dc2-a793-3c7fa531cde1",
   "metadata": {
    "tags": []
   },
   "outputs": [],
   "source": [
    "nba = pd.DataFrame({ ... : ...,\n",
    "                     ... : ...\n",
    "                   })\n",
    "\n",
    "nba.head()"
   ]
  },
  {
   "cell_type": "code",
   "execution_count": null,
   "id": "db167476",
   "metadata": {
    "deletable": false,
    "editable": false
   },
   "outputs": [],
   "source": [
    "grader.check(\"q1a\")"
   ]
  },
  {
   "cell_type": "markdown",
   "id": "7bff5c7b-b53d-4b89-9e7b-8e00d8a97013",
   "metadata": {
    "deletable": false,
    "editable": false
   },
   "source": [
    "<!-- BEGIN QUESTION -->\n",
    "\n",
    "### Question 1(b) [10 points]\n",
    "\n",
    "Run the following cell to see the salary distribution for the nba players. "
   ]
  },
  {
   "cell_type": "code",
   "execution_count": null,
   "id": "fa681f66-1c5c-4499-8ba3-dd41d78d7c2a",
   "metadata": {
    "deletable": false,
    "editable": false
   },
   "outputs": [],
   "source": [
    "bins = np.array([0, 2, 4, 12, 18, 36])\n",
    "plt.hist(nba['Salary'], bins = bins, edgecolor = 'black')\n",
    "plt.xticks(bins)\n",
    "plt.show()"
   ]
  },
  {
   "cell_type": "markdown",
   "id": "bf9f6e4e-3aa5-48ea-9f3b-12e58444ed5f",
   "metadata": {
    "deletable": false,
    "editable": false
   },
   "source": [
    "Why is the plot shown above is incorrect?"
   ]
  },
  {
   "cell_type": "markdown",
   "id": "032cc4ca",
   "metadata": {},
   "source": [
    "_Type your answer here, replacing this text._"
   ]
  },
  {
   "cell_type": "markdown",
   "id": "0b1b7ead-ac2f-4561-a1b4-f7c2adae03ec",
   "metadata": {
    "deletable": false,
    "editable": false
   },
   "source": [
    "<!-- END QUESTION -->\n",
    "\n",
    "<!-- BEGIN QUESTION -->\n",
    "\n",
    "### Question 1(c)  [10 points]\n",
    "\n",
    "Given `outs` and `bins` array in the code below, write python expression to find the percentage of entries in each bins. Store the result in a numpy array `percentage_of_entries`"
   ]
  },
  {
   "cell_type": "code",
   "execution_count": null,
   "id": "fe2e18ef-3e8e-4076-81ef-352c68a9e114",
   "metadata": {
    "deletable": false,
    "editable": false
   },
   "outputs": [],
   "source": [
    "result = np.histogram(nba['Salary'], bins)\n",
    "outs = result[0]\n",
    "bins = result[1]"
   ]
  },
  {
   "cell_type": "code",
   "execution_count": null,
   "id": "9caabd65-bd7c-4e6a-8c2c-b12fc41244b5",
   "metadata": {
    "deletable": false,
    "editable": false
   },
   "outputs": [],
   "source": [
    "outs"
   ]
  },
  {
   "cell_type": "code",
   "execution_count": null,
   "id": "9721d274-b29e-4b02-877f-77d2ff90828b",
   "metadata": {
    "deletable": false,
    "editable": false
   },
   "outputs": [],
   "source": [
    "bins"
   ]
  },
  {
   "cell_type": "code",
   "execution_count": null,
   "id": "8810760f-50be-4191-95b2-534428fee593",
   "metadata": {
    "tags": []
   },
   "outputs": [],
   "source": [
    "percentage_of_entries = ...\n",
    "percentage_of_entries"
   ]
  },
  {
   "cell_type": "code",
   "execution_count": null,
   "id": "4a94716a",
   "metadata": {
    "deletable": false,
    "editable": false
   },
   "outputs": [],
   "source": [
    "grader.check(\"q1c\")"
   ]
  },
  {
   "cell_type": "markdown",
   "id": "39d5752f-4d45-4bbc-8403-4699d76f39c5",
   "metadata": {
    "deletable": false,
    "editable": false
   },
   "source": [
    "<!-- END QUESTION -->\n",
    "\n",
    "<!-- BEGIN QUESTION -->\n",
    "\n",
    "### Question 1(d) [10 points]\n",
    "\n",
    "What will be the sum of percentages of entries in all bins? Do not write any code for this. "
   ]
  },
  {
   "cell_type": "markdown",
   "id": "562dd92e",
   "metadata": {},
   "source": [
    "_Type your answer here, replacing this text._"
   ]
  },
  {
   "cell_type": "markdown",
   "id": "f090f110-4084-4a79-aaf3-291dcdf0a1c2",
   "metadata": {
    "deletable": false,
    "editable": false
   },
   "source": [
    "<!-- END QUESTION -->\n",
    "\n",
    "<!-- BEGIN QUESTION -->\n",
    "\n",
    "### Question 1(e) [10 points]\n",
    "\n",
    "Based on the table given below, which bin contains more players: [2, 4) or [4, 12)? Give reasoning. Do not write any code for this. \n",
    "\n",
    "| bin(million dollars) | [0, 2) | [2, 4) | [4, 12) | [12, 18) | [18, 36) |\n",
    "| --- | --- | --- | --- | --- | --- |\n",
    "| height (percent per million dollars) | 21.03 | 9.16  | 2.68 | 1.57 | 0.485 | \n",
    "\n",
    "Hint: see Question1(c)"
   ]
  },
  {
   "cell_type": "markdown",
   "id": "c14c73c9",
   "metadata": {},
   "source": [
    "_Type your answer here, replacing this text._"
   ]
  },
  {
   "cell_type": "markdown",
   "id": "7628942f-1196-434a-abac-4c780300023d",
   "metadata": {
    "deletable": false,
    "editable": false
   },
   "source": [
    "<!-- END QUESTION -->\n",
    "\n",
    "<!-- BEGIN QUESTION -->\n",
    "\n",
    "### Question 1(f) [10 points]\n",
    "\n",
    "To see more detail in the [18, 36) range, the histogram of nba player salaries has been redrawn with bins as shown below. \n",
    "\n",
    "| bin(million dollars) | [0, 2) | [2, 4) | [4, 12) | [12, 18) | [18, 26) | [26, 36] |\n",
    "| --- | --- | --- | --- | --- | --- | --- |\n",
    "| height (percent per million dollars) | 21.03 | 9.16  | 2.68 | 1.57 | (i) | (ii) |\n",
    "\n",
    "The expression `nba.shape[0]` evaluates to 573. \n",
    "\n",
    "The expression `nba.query('18 <= Salary < 26').shape[0]` evaluates to 37. \n",
    "\n",
    "Provide a mathematical expression to find the missing height (i) and (ii) in the above table. Show your solution process. DO NOT write any code for this.\n",
    "\n",
    "The value of (i) is ______________\n",
    "\n",
    "The value of (ii) is ________________"
   ]
  },
  {
   "cell_type": "code",
   "execution_count": null,
   "id": "4808ef35-5ca1-421e-aa61-07958f751014",
   "metadata": {
    "deletable": false,
    "editable": false
   },
   "outputs": [],
   "source": [
    "nba.shape[0]"
   ]
  },
  {
   "cell_type": "code",
   "execution_count": null,
   "id": "f1f13d6b-91a7-4516-bf6e-fe81dd9abc64",
   "metadata": {
    "deletable": false,
    "editable": false
   },
   "outputs": [],
   "source": [
    "nba.query('18 <= Salary < 26').shape[0]"
   ]
  },
  {
   "cell_type": "markdown",
   "id": "828f8b66",
   "metadata": {},
   "source": [
    "_Type your answer here, replacing this text._"
   ]
  },
  {
   "cell_type": "markdown",
   "id": "a99f4570-f06f-4854-bd72-df65cb16612b",
   "metadata": {
    "deletable": false,
    "editable": false
   },
   "source": [
    "<!-- END QUESTION -->\n",
    "\n",
    "# 2. Probability \n",
    "\n",
    "Please show the solution process and leave the answers in the mathematical form for the following questions."
   ]
  },
  {
   "cell_type": "markdown",
   "id": "013cc8d8-30e7-4a59-9531-42acc30fb51e",
   "metadata": {
    "deletable": false,
    "editable": false
   },
   "source": [
    "<!-- BEGIN QUESTION -->\n",
    "\n",
    "### Question 2(a) [10 points]\n",
    "\n",
    "Consider a group of four people, how many ways are there to choose a two-person committee?"
   ]
  },
  {
   "cell_type": "markdown",
   "id": "19f7bf43",
   "metadata": {},
   "source": [
    "_Type your answer here, replacing this text._"
   ]
  },
  {
   "cell_type": "markdown",
   "id": "b6c9107a-1da3-42b0-8ac9-1a4137e4ec9d",
   "metadata": {
    "deletable": false,
    "editable": false
   },
   "source": [
    "<!-- END QUESTION -->\n",
    "\n",
    "<!-- BEGIN QUESTION -->\n",
    "\n",
    "### Question 2(b) [10 points]\n",
    "\n",
    "Consider a group of four people, how many ways are there to break the people into two teams of two? "
   ]
  },
  {
   "cell_type": "markdown",
   "id": "b3e24af9",
   "metadata": {},
   "source": [
    "_Type your answer here, replacing this text._"
   ]
  },
  {
   "cell_type": "markdown",
   "id": "cfef7bfe-a7a5-470e-bcc1-f0e111becb40",
   "metadata": {
    "deletable": false,
    "editable": false
   },
   "source": [
    "<!-- END QUESTION -->\n",
    "\n",
    "<!-- BEGIN QUESTION -->\n",
    "\n",
    "### Question 2(c) [20 points]\n",
    "\n",
    "Isaac Newton was consulted about the following problem by Samuel Pepys, who wanted the information for gambling purposes. What is the probability of the following events? \n",
    "\n",
    "(i) At least one 6 appears when 6 fair dice are rolled. \n",
    "\n",
    "(ii) At least two 6's appear when 12 fair dice are rolled. \n",
    "\n",
    "(iii) At least three 6's appear when 18 fair dice are rolled. "
   ]
  },
  {
   "cell_type": "markdown",
   "id": "3ec6f126",
   "metadata": {},
   "source": [
    "_Type your answer here, replacing this text._"
   ]
  },
  {
   "cell_type": "markdown",
   "id": "179730f1",
   "metadata": {
    "deletable": false,
    "editable": false
   },
   "source": [
    "<!-- END QUESTION -->\n",
    "\n"
   ]
  }
 ],
 "metadata": {
  "kernelspec": {
   "display_name": "Python 3 (ipykernel)",
   "language": "python",
   "name": "python3"
  },
  "language_info": {
   "codemirror_mode": {
    "name": "ipython",
    "version": 3
   },
   "file_extension": ".py",
   "mimetype": "text/x-python",
   "name": "python",
   "nbconvert_exporter": "python",
   "pygments_lexer": "ipython3",
   "version": "3.12.6"
  },
  "otter": {
   "OK_FORMAT": true,
   "tests": {
    "q1a": {
     "name": "q1a",
     "points": null,
     "suites": [
      {
       "cases": [
        {
         "code": ">>> nba.shape == (573, 2)\nTrue",
         "hidden": false,
         "locked": false
        },
        {
         "code": ">>> len(nba.columns) == 2\nTrue",
         "hidden": false,
         "locked": false
        },
        {
         "code": ">>> np.any('Salary' in nba.columns) == True\nnp.True_",
         "hidden": false,
         "locked": false
        }
       ],
       "scored": true,
       "setup": "",
       "teardown": "",
       "type": "doctest"
      }
     ]
    },
    "q1c": {
     "name": "q1c",
     "points": null,
     "suites": [
      {
       "cases": [
        {
         "code": ">>> len(percentage_of_entries) == 5\nTrue",
         "hidden": false,
         "locked": false
        },
        {
         "code": ">>> int(percentage_of_entries[-1]) == 8\nTrue",
         "hidden": false,
         "locked": false
        }
       ],
       "scored": true,
       "setup": "",
       "teardown": "",
       "type": "doctest"
      }
     ]
    }
   }
  }
 },
 "nbformat": 4,
 "nbformat_minor": 5
}
