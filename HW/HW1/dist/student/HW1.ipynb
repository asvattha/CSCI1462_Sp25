{
 "cells": [
  {
   "cell_type": "code",
   "execution_count": null,
   "id": "99d4527d",
   "metadata": {
    "deletable": false,
    "editable": false
   },
   "outputs": [],
   "source": [
    "# Initialize Otter\n",
    "import otter\n",
    "grader = otter.Notebook(\"HW1.ipynb\")"
   ]
  },
  {
   "cell_type": "code",
   "execution_count": null,
   "id": "512b0a50-8c19-4ea5-a06d-b80ef0b3e65b",
   "metadata": {},
   "outputs": [],
   "source": [
    "import pandas as pd\n",
    "import numpy as np"
   ]
  },
  {
   "cell_type": "markdown",
   "id": "43b94999-dc00-42bc-85ff-7ff24a22c24d",
   "metadata": {},
   "source": [
    "**Due data: 10 Feb 2025 by 11:59 pm**\n",
    "\n",
    "Rubric: \n",
    "| Question | Points | \n",
    "| ---- | --- |\n",
    "| 1.1 | 10 |\n",
    "| 1.2 | 10 |\n",
    "| 1.3 | 10 |\n",
    "| 2.1 | 10 |\n",
    "| 2.2 | 10 |\n",
    "| 3.1 | 10 |\n",
    "| 3.2 | 10 |\n",
    "| 3.3 | 10 |\n",
    "| 4.1 | 10 |\n",
    "| 4.2 | 10 |\n",
    "| Total | 100 |"
   ]
  },
  {
   "cell_type": "markdown",
   "id": "34c00758-68f1-49f8-a4b2-e00d77bb7717",
   "metadata": {},
   "source": [
    "Instructions: \n",
    "\n",
    "1. Please upload your notebook (.ipynb) file to D2L under HW >> HW1 Dropbox.\n",
    "2. The homework assignment is meant to be completed individually. Do not share or copy code with others, as violations will result in consequences outlined in the syllabus.\n",
    "3. Passing the autograder test does not guarantee that your answer is correct. Be sure to answer questions carefully, as the instructor has additional hidden tests. Full points will only be awarded if your answers pass these tests during grading.\n",
    "4. If you encounter any difficulties, don't hesitate to contact me for assistance."
   ]
  },
  {
   "cell_type": "markdown",
   "id": "8d2ec705-c618-4881-b5e0-d5bca878ca03",
   "metadata": {},
   "source": [
    "Objectives: To practice and learn about the following topics:\n",
    "1. Variables and Expressions\n",
    "2. Functions\n",
    "3. Observation and Causality\n",
    "4. Data Structures"
   ]
  },
  {
   "cell_type": "markdown",
   "id": "5ea0aefe-64e8-4588-a25a-60d61095ba3c",
   "metadata": {},
   "source": [
    "# 1. Variables and Expressions"
   ]
  },
  {
   "cell_type": "markdown",
   "id": "610be05d-62c5-4215-ac19-d08bd5a5567a",
   "metadata": {
    "deletable": false,
    "editable": false
   },
   "source": [
    "<!-- BEGIN QUESTION -->\n",
    "\n",
    "### Question 1.1 [10 points]\n",
    "\n",
    "Executing the given code (below) will result in Python generating an error message. \n",
    "\n",
    "Identify the issue with the code provided below. Give explanation behind the error. "
   ]
  },
  {
   "cell_type": "raw",
   "id": "f6a8dfb6-2649-4509-bd7a-e30268c958e5",
   "metadata": {
    "deletable": false,
    "editable": false
   },
   "source": [
    "10 = 2 * 5"
   ]
  },
  {
   "cell_type": "markdown",
   "id": "70066a6c",
   "metadata": {},
   "source": [
    "_Type your answer here, replacing this text._"
   ]
  },
  {
   "cell_type": "markdown",
   "id": "b7133b83-1c8d-4646-827e-6b911ab66f37",
   "metadata": {
    "deletable": false,
    "editable": false
   },
   "source": [
    "<!-- END QUESTION -->\n",
    "\n",
    "<!-- BEGIN QUESTION -->\n",
    "\n",
    "### Question 1.2 [10 points]\n",
    "\n",
    "For the sequence of code provided, indicate the values of the variables after each statement is executed (i.e., although this is one program, we are executing each statement in separate cells to observe the current values of the variables). If a variable does not have a value at that point, write \"N/A\"\n",
    "\n",
    "The first example has been completed for you: \n",
    "\n",
    "| Line number | Code | Value of x | Value of y | Value of z |\n",
    "| ----- | ----- | :----: | :-----: | :----: | \n",
    "| 1) |  x = 1 | 1 | N/A | N/A |\n",
    "| 2) | y = 1 | | | |\n",
    "| 3) | z = 3 | | | |\n",
    "| 4) | x = z | | | |\n",
    "| 5) | z = 5 | | | |\n",
    "| 6) | x = y + 2 | | | |\n",
    "| 7) | y = y - 3 | | | |\n",
    "| 8) | z = x + y | | | |\n",
    "\n",
    "Note: To verify your solution, execute each line of code in separate cells and use `print(f\"x: {x}, y: {y}, z: {z}\")` to observe the values of the variables after executing each line.\n",
    "\n",
    "Format your answer as follows: `1) x: 1, y: N/A, z: N/A`\n",
    "\n",
    "Here, `1)` indicates the line number, `x: 1` shows the value of x after line 1, `y: N/A` indicates that y has no value yet after line 1, and `z: N/A` shows that z also has no value after line 1.\n"
   ]
  },
  {
   "cell_type": "markdown",
   "id": "ab65f545",
   "metadata": {},
   "source": [
    "_Type your answer here, replacing this text._"
   ]
  },
  {
   "cell_type": "markdown",
   "id": "efb1a999-f487-4dc2-b24e-9792f4a6ce48",
   "metadata": {
    "deletable": false,
    "editable": false
   },
   "source": [
    "<!-- END QUESTION -->\n",
    "\n",
    "<!-- BEGIN QUESTION -->\n",
    "\n",
    "### Question 1.3 [10 points]\n",
    "\n",
    "Give the code snippet: \n",
    "\n",
    "```\n",
    "x = 10.0\n",
    "y = (x < 100.5)\n",
    "```\n",
    "What is the value of y? Just provide the answer without writing any code."
   ]
  },
  {
   "cell_type": "markdown",
   "id": "112cdd1f",
   "metadata": {},
   "source": [
    "_Type your answer here, replacing this text._"
   ]
  },
  {
   "cell_type": "markdown",
   "id": "559d1357-66af-485b-abf2-d8b2a8df4733",
   "metadata": {
    "deletable": false,
    "editable": false
   },
   "source": [
    "<!-- END QUESTION -->\n",
    "\n",
    "# 2. Functions"
   ]
  },
  {
   "cell_type": "markdown",
   "id": "a903be54-7c28-4b56-b8da-616c8d01e437",
   "metadata": {
    "deletable": false,
    "editable": false
   },
   "source": [
    "### Question 2.1 [10 points]\n",
    "\n",
    "In Python, there are many string functions available, but most programmers don’t memorize them all. Instead, they usually consult online resources for documentation and examples. Websites like StackOverflow are helpful for finding advice on how to use these methods effectively. For this task, you need to learn about the startswith() function for strings by researching it online.\n",
    "\n",
    "Here’s the task:\n",
    "\n",
    "Create a function called `checkFirstName` that takes two inputs: a full name and a search keyword. The function should return `True` if the first name matches the search keyword, and `False` otherwise. Do not use if-else statements, as these haven’t been covered yet. Instead, use the `startswith` method, which returns `True` or `False` based on whether the first name starts with the search keyword. Remember that both the name and the search keyword might be in any case, such as `PeTer gene HerNandez` or `peter gene HERNANDEZ`, where both cases have the first name `Peter`. Your function should work for any full name and search keyword. "
   ]
  },
  {
   "cell_type": "code",
   "execution_count": null,
   "id": "6243284d-4c85-4781-af33-e5727f7d33e0",
   "metadata": {
    "tags": []
   },
   "outputs": [],
   "source": [
    "def checkFirstName(...):\n",
    "    isFirstName = ...\n",
    "    return isFirstName"
   ]
  },
  {
   "cell_type": "code",
   "execution_count": null,
   "id": "8632b638-bae6-487f-88d9-a50c72ef9e3b",
   "metadata": {
    "tags": []
   },
   "outputs": [],
   "source": [
    "isFirstNameFound = checkFirstName(\"Peter Gene Hernandez\", \"peTEr\")\n",
    "isFirstNameFound"
   ]
  },
  {
   "cell_type": "code",
   "execution_count": null,
   "id": "610962d8",
   "metadata": {
    "deletable": false,
    "editable": false
   },
   "outputs": [],
   "source": [
    "grader.check(\"q2.1\")"
   ]
  },
  {
   "cell_type": "markdown",
   "id": "b09137f2-3b91-404e-aa64-5d5b3dbf1dff",
   "metadata": {
    "deletable": false,
    "editable": false
   },
   "source": [
    "<!-- BEGIN QUESTION -->\n",
    "\n",
    "### Question 2.2 [10 points]\n",
    "\n",
    "Strings and numbers are distinct data types. For instance, 5 is a number (integer type), while \"5\" is a string (string type).\n",
    "\n",
    "Attempting to add a number (int) and a string (str), such as 5 + \"5\", results in an error because the operation is not valid.\n",
    "\n",
    "Fortunately, Python provides built-in functions to convert between these data types: you can convert a number to a string and vice versa.\n",
    "\n",
    "|Function name | Description | \n",
    "| --- | --- | \n",
    "| int | convert a string of digits or a float (real number) to an integer (int) value | \n",
    "| float | convert a string of digits (perhaps with decimal points) or an int to a float (real number) value | \n",
    "| str | convert any number (integer or real number) to a string | \n",
    "\n",
    "What is the value of `example` after executing the following code?\n",
    "\n",
    "```\n",
    "expr = 2 + int(\"10\") + float(\"8\") # When a float and int is added, the result is float.\n",
    "example = \"Salary \" + str(expr)\n",
    "```\n",
    "\n",
    "Please provide the answer directly in the markdown cell below, without running the code."
   ]
  },
  {
   "cell_type": "markdown",
   "id": "2fd51427",
   "metadata": {},
   "source": [
    "_Type your answer here, replacing this text._"
   ]
  },
  {
   "cell_type": "markdown",
   "id": "d407297a-4bf2-4cde-bca1-0dcdda99249a",
   "metadata": {
    "deletable": false,
    "editable": false
   },
   "source": [
    "<!-- END QUESTION -->\n",
    "\n",
    "# 3. Data Structures"
   ]
  },
  {
   "cell_type": "markdown",
   "id": "cbd7cc47-d441-4fc7-84e9-e0474aaefff6",
   "metadata": {
    "deletable": false,
    "editable": false
   },
   "source": [
    "### Question 3.1 [10 points]\n",
    "\n",
    "Write a Python code to add 600 after 500 in the list provided below. Use the `insert` method to add 600, rather than manually inserting it.\n",
    "\n",
    "Your final list, `my_list`, should appear as follows:\n",
    "\n",
    "[1, 2, [30, 40, [500, 600, 700], 40, 30], 2, 1]"
   ]
  },
  {
   "cell_type": "code",
   "execution_count": null,
   "id": "65a1d4fe-6005-4f32-944d-111f183a8874",
   "metadata": {
    "tags": []
   },
   "outputs": [],
   "source": [
    "my_list = [1, 2, [30, 40, [500, 700], 40, 30], 2, 1]\n",
    "...\n",
    "my_list"
   ]
  },
  {
   "cell_type": "code",
   "execution_count": null,
   "id": "b9115961",
   "metadata": {
    "deletable": false,
    "editable": false
   },
   "outputs": [],
   "source": [
    "grader.check(\"q3.1\")"
   ]
  },
  {
   "cell_type": "markdown",
   "id": "ccf0dd3b-2d29-4200-ab72-56292d9c7322",
   "metadata": {
    "deletable": false,
    "editable": false
   },
   "source": [
    "### Question 3.2 [10 points]\n",
    "\n",
    "In the 2010s, Cambridge Analytica, a data analytics firm, collected data from millions of Facebook users through an application **without their consent** and aimed to use this information for electoral manipulation. Data from social media can reveal extensive details about an individual's lifestyle, beliefs, and personal information, potentially influencing their political views.\n",
    "\n",
    "As data analysts, it is important to be cautious of such unethical uses of data.\n",
    "\n",
    "In this task, you will explore how to extract sensitive information from social media data, though in a ethical manner, since the tweet used in this question is publicly available.\n",
    "\n",
    "You have a sample of tweets from Donald Trump during his presidency (2017-2021). Your goal is to identify and extract the Twitter user screen name mentioned in his tweets.\n",
    "\n",
    "Your code should return the string, `henrymcmaster`.\n",
    "\n",
    "Hint: Use the `user_mentions` key to access the required information."
   ]
  },
  {
   "cell_type": "code",
   "execution_count": null,
   "id": "96571f02-bd3b-4533-b18f-5806a1dade41",
   "metadata": {
    "deletable": false,
    "editable": false
   },
   "outputs": [],
   "source": [
    "trump_tweet ={\"created_at\":[\"Tue Jun 26 01:35:03 +0000 2018\"],\"id\":[1.01142255594771e+18],\"id_str\":[\"1011422555947712513\"],\"full_text\":[\"Thank you South Carolina. Now let’s get out tomorrow and VOTE for @HenryMcMaster! https://t.co/5xlz0wfMfu\"],\"display_text_range\":[[0],[105]],\"entities\":{\"hashtags\":[],\"symbols\":[],\"user_mentions\":[{\"screen_name\":[\"henrymcmaster\"],\"name\":[\"Henry McMaster\"],\"id\":[16335288],\"id_str\":[\"16335288\"],\"indices\":[[66],[80]]}],\"urls\":[{\"url\":[\"https://t.co/5xlz0wfMfu\"],\"expanded_url\":[\"https://www.pscp.tv/w/bgGOtTFvTlFsTFJub1dwUXd8MXlvSk1WZHJWQm54Uf-J8fPu1RO4E84ax-LuK1bAbiCpnzBBZmdPfI9FAhGV?t=11s\"],\"display_url\":[\"pscp.tv/w/bgGOtTFvTlFs…\"],\"indices\":[[82],[105]]}]},\"source\":[r\"<a href=\\\"http://twitter.com/download/iphone\\\" rel=\\\"nofollow\\\">Twitter for iPhone<\\/a>\"], \"lang\":[\"en\"]}\n",
    "trump_tweet"
   ]
  },
  {
   "cell_type": "code",
   "execution_count": null,
   "id": "5d5b9587-7a50-44d4-bd6f-5f21edd5621c",
   "metadata": {
    "tags": []
   },
   "outputs": [],
   "source": [
    "# Do not simply type the name in the blanks. Write a python code to extract that information. \n",
    "trump_mentions = ...\n",
    "trump_mentions"
   ]
  },
  {
   "cell_type": "code",
   "execution_count": null,
   "id": "80a3e578",
   "metadata": {
    "deletable": false,
    "editable": false
   },
   "outputs": [],
   "source": [
    "grader.check(\"q3.2\")"
   ]
  },
  {
   "cell_type": "markdown",
   "id": "8c997c7b-21c4-455a-99bd-9d15dad7135a",
   "metadata": {
    "deletable": false,
    "editable": false
   },
   "source": [
    "### Question 3.3 [10 points]\n",
    "\n",
    "Utilize the `replace` string method to convert the text `HitchHiker` into `MatchMaker`. Note that you should replace only specific substrings within the original string, rather than replacing the entire string.\n",
    "\n",
    "Store your result in the variable, `your_ans`. \n",
    "\n",
    "Do NOT replace the entire string with another string. In other words, do not replace entire `HitchHiker` string with `MatchMaker` string. Simply replace substring within `HitchHiker` to make it `MatchMaker`. "
   ]
  },
  {
   "cell_type": "code",
   "execution_count": null,
   "id": "edbfc111-adf4-4ea5-8d0c-40c49e7a8ff7",
   "metadata": {
    "tags": []
   },
   "outputs": [],
   "source": [
    "my_str = \"HitchHiker\"\n",
    "your_ans = ...\n",
    "print(your_ans)"
   ]
  },
  {
   "cell_type": "code",
   "execution_count": null,
   "id": "78e3a947",
   "metadata": {
    "deletable": false,
    "editable": false
   },
   "outputs": [],
   "source": [
    "grader.check(\"q3.3\")"
   ]
  },
  {
   "cell_type": "markdown",
   "id": "b42eb1bc-af05-4dd6-99e3-8530269c6607",
   "metadata": {},
   "source": [
    "# 4. Observation and Causality"
   ]
  },
  {
   "cell_type": "markdown",
   "id": "10116d5c-4a46-4d06-ad15-cb0649f065b9",
   "metadata": {
    "deletable": false,
    "editable": false
   },
   "source": [
    "<!-- BEGIN QUESTION -->\n",
    "\n",
    "### Question 4.1 [10 points]\n",
    "\n",
    "We have learned that `an association between two variables does not necessarily imply causation` (one causes the other). Which of the following examples best illustrates this concept?\n",
    "Select only one answer. Explain why you selected or rejected each option. Even if your answer is correct, you will not receive credit unless your explanation is accurate.\n",
    "\n",
    "A) Jon Snow found that customers of the S&V water company had a higher mortality rate from cholera compared to customers of the Lambeth company. This was because Lambeth sourced their water from a cleaner upstream source than S&V, not because dirty water directly caused cholera.\n",
    "\n",
    "B) Data indicates a link between smoking and lung cancer. This is because smoking directly causes lung cancer.\n",
    "\n",
    "C) A study by the American Heart Association found a positive correlation between literacy and health (lower literacy, poorer health). However, this is not because literacy itself affects health; rather, it’s due to the fact that schools in impoverished areas are less effective, leading to higher illiteracy rates. Poverty increases health risks because people in poorer conditions can't afford good medical care. Therefore, illiteracy often correlates with poorer health due to poverty.\n",
    "\n",
    "D) A study shows that literacy is positively associated with health. This is because individuals with poor health are unable to study effectively and therefore are often illiterate.\n"
   ]
  },
  {
   "cell_type": "markdown",
   "id": "fa0544ce",
   "metadata": {},
   "source": [
    "_Type your answer here, replacing this text._"
   ]
  },
  {
   "cell_type": "markdown",
   "id": "fb7b05e4-a736-4be3-94f1-b285d1fbee6f",
   "metadata": {
    "deletable": false,
    "editable": false
   },
   "source": [
    "<!-- END QUESTION -->\n",
    "\n",
    "<!-- BEGIN QUESTION -->\n",
    "\n",
    "### Question 4.2 [10 points]\n",
    "\n",
    "To establish the causality between literacy and health relationship, which of the following would be the best way to test? Select only one answer.\n",
    "\n",
    "A. Run a randomized controlled experiment\n",
    "\n",
    "B. Brainstorm some confounding factors, and check if any of them have association with literacy and health. \n",
    "\n",
    "C. Ask people in the poverty striken neighborhood to find how many of them are illiterate and unhealthy, and if the number is greater, then we can conclude the causality. "
   ]
  },
  {
   "cell_type": "markdown",
   "id": "6ae1bdc6",
   "metadata": {},
   "source": [
    "_Type your answer here, replacing this text._"
   ]
  },
  {
   "cell_type": "markdown",
   "id": "87349e2d",
   "metadata": {
    "deletable": false,
    "editable": false
   },
   "source": [
    "<!-- END QUESTION -->\n",
    "\n"
   ]
  }
 ],
 "metadata": {
  "kernelspec": {
   "display_name": "Python 3 (ipykernel)",
   "language": "python",
   "name": "python3"
  },
  "language_info": {
   "codemirror_mode": {
    "name": "ipython",
    "version": 3
   },
   "file_extension": ".py",
   "mimetype": "text/x-python",
   "name": "python",
   "nbconvert_exporter": "python",
   "pygments_lexer": "ipython3",
   "version": "3.12.4"
  },
  "otter": {
   "OK_FORMAT": true,
   "tests": {
    "q2.1": {
     "name": "q2.1",
     "points": null,
     "suites": [
      {
       "cases": [
        {
         "code": ">>> checkFirstName('peter gene hernandez', 'PETER') == True\nTrue",
         "hidden": false,
         "locked": false
        },
        {
         "code": ">>> checkFirstName('petter gene hernandez', 'PETER') == False\nTrue",
         "hidden": false,
         "locked": false
        },
        {
         "code": ">>> checkFirstName('adam sullivan', 'AdAm') == True\nTrue",
         "hidden": false,
         "locked": false
        }
       ],
       "scored": true,
       "setup": "",
       "teardown": "",
       "type": "doctest"
      }
     ]
    },
    "q3.1": {
     "name": "q3.1",
     "points": null,
     "suites": [
      {
       "cases": [
        {
         "code": ">>> my_list[2][2][1] == 600\nTrue",
         "hidden": false,
         "locked": false
        }
       ],
       "scored": true,
       "setup": "",
       "teardown": "",
       "type": "doctest"
      }
     ]
    },
    "q3.2": {
     "name": "q3.2",
     "points": null,
     "suites": [
      {
       "cases": [
        {
         "code": ">>> trump_mentions == 'henrymcmaster'\nTrue",
         "hidden": false,
         "locked": false
        }
       ],
       "scored": true,
       "setup": "",
       "teardown": "",
       "type": "doctest"
      }
     ]
    },
    "q3.3": {
     "name": "q3.3",
     "points": null,
     "suites": [
      {
       "cases": [
        {
         "code": ">>> your_ans == 'MatchMaker'\nTrue",
         "hidden": false,
         "locked": false
        }
       ],
       "scored": true,
       "setup": "",
       "teardown": "",
       "type": "doctest"
      }
     ]
    }
   }
  }
 },
 "nbformat": 4,
 "nbformat_minor": 5
}
