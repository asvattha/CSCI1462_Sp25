{
 "cells": [
  {
   "cell_type": "code",
   "execution_count": null,
   "id": "44e4ebe2",
   "metadata": {
    "deletable": false,
    "editable": false
   },
   "outputs": [],
   "source": [
    "# Initialize Otter\n",
    "import otter\n",
    "grader = otter.Notebook(\"HW3.ipynb\")"
   ]
  },
  {
   "cell_type": "markdown",
   "id": "1f627360-8c2c-45f4-835c-6670ceff8108",
   "metadata": {},
   "source": [
    "Due Date: 18 Apr 2025 by 11:59 pm\n",
    "\n",
    "Grading Rubric:\n",
    "\n",
    "| Question | Points |\n",
    "| ----- |---- |\n",
    "| 1(a) | 5 |\n",
    "| 1(b) | 5 |\n",
    "| 1(c) | 10 |\n",
    "| 1(d) | 10 |\n",
    "| 2(a) | 10 |\n",
    "| 2(b) | 10 |\n",
    "| 2(c) | 10 |\n",
    "| 2(d) | 10 |\n",
    "| 2(e) | 10 |\n",
    "| 3(a) | 5 |\n",
    "| 3(b) | 15 |\n",
    "| Total | 100 |"
   ]
  },
  {
   "cell_type": "code",
   "execution_count": null,
   "id": "7d7f248c-a5cc-4aa9-a676-da635276f567",
   "metadata": {},
   "outputs": [],
   "source": [
    "import numpy as np\n",
    "import matplotlib.pyplot as plt\n",
    "import pandas as pd\n",
    "\n",
    "from matplotlib.ticker import PercentFormatter"
   ]
  },
  {
   "cell_type": "markdown",
   "id": "9e0acca9-1585-41f1-9c70-54e50abcd4be",
   "metadata": {},
   "source": [
    "Instructions: \n",
    "\n",
    "Submission: Please upload the notebook (.ipynb) file on D2L --> HW -- > HW03 --> HW03_Dropbox\n",
    "\n",
    "1. The HW assignment is individual-based assignment. However, you are encouraged to discuss with your classmates, but DO NOT show your code and copy from others. It will be considered as plagiarism, and proper actions will be taken as per the syllabus.\n",
    "\n",
    "2. Just because your question has passed the autograder test, doesn't mean necessarily that your answer is correct. So make sure you answer those questions carefully. The instructor has some hidden tests, and only when your question passes those tests successfully during grading, you will be given full points for the question.\n",
    "\n",
    "3. If you are stuck somewhere, feel free to reach out to me. "
   ]
  },
  {
   "cell_type": "markdown",
   "id": "331c580f-4435-440b-a957-57259eb81f5a",
   "metadata": {},
   "source": [
    "Objectives: To practice and learn about the following topics: \n",
    "1. Histogram\n",
    "2. Intro to Probability"
   ]
  },
  {
   "cell_type": "markdown",
   "id": "c9dbdeb2-73cc-4f36-950c-23725322de66",
   "metadata": {},
   "source": [
    "# 1. Histogram\n",
    "\n",
    "The data below shows the median household income (in tens of thousands) in different cities of LA(louisiana), TX(texas) and NM (new mexico) for 900 families (300 each). "
   ]
  },
  {
   "cell_type": "code",
   "execution_count": null,
   "id": "adbf03d4-c98b-498d-a402-7f3ff33599c4",
   "metadata": {},
   "outputs": [],
   "source": [
    "income = pd.read_csv('data/income.csv')\n",
    "income.head()"
   ]
  },
  {
   "cell_type": "code",
   "execution_count": null,
   "id": "0f76bf9d-6a81-49a8-8dea-f9659bb017ad",
   "metadata": {},
   "outputs": [],
   "source": [
    "income.shape"
   ]
  },
  {
   "cell_type": "code",
   "execution_count": null,
   "id": "9be0afe9-dde2-4ee1-b888-5ff2208c2a24",
   "metadata": {},
   "outputs": [],
   "source": [
    "# Custom formatter to remove the percentage sign\n",
    "def custom_formatter(x, pos):\n",
    "    return f'{x * 100:.1f}' "
   ]
  },
  {
   "cell_type": "code",
   "execution_count": null,
   "id": "9de73743-7df8-4e1d-bc46-1ae0ebdef880",
   "metadata": {},
   "outputs": [],
   "source": [
    "fig = plt.figure(figsize=(20,5))\n",
    "bins = np.arange(0, 151, 10)\n",
    "import matplotlib.ticker as mtick\n",
    "\n",
    "plt.subplot(1, 3, 1)\n",
    "plt.hist(income.query('State == \"NM\"')['Median Income'], bins = bins, edgecolor = 'black', density = True)\n",
    "plt.xlabel(\"Income of families (dollars)\")\n",
    "plt.ylabel(\"% of Income per dollar\")\n",
    "plt.title(\"New Mexico\")\n",
    "plt.gca().yaxis.set_major_formatter(mtick.FuncFormatter(custom_formatter))\n",
    "plt.grid()\n",
    "\n",
    "plt.subplot(1, 3, 2)\n",
    "plt.hist(income.query('State == \"TX\"')['Median Income'], bins = bins, edgecolor = 'black', density = True)\n",
    "plt.xlabel(\"Income of families (dollars)\")\n",
    "plt.ylabel(\"% of Income per dollar\")\n",
    "plt.title(\"Texas\")\n",
    "plt.gca().yaxis.set_major_formatter(mtick.FuncFormatter(custom_formatter))\n",
    "plt.grid()\n",
    "\n",
    "plt.subplot(1, 3, 3)\n",
    "plt.hist(income.query('State == \"LA\"')['Median Income'], bins = bins, edgecolor = 'black', density = True)\n",
    "plt.xlabel(\"Income of families (dollars)\")\n",
    "plt.ylabel(\"% of Income per dollar\")\n",
    "plt.title(\"Louisiana\")\n",
    "plt.gca().yaxis.set_major_formatter(mtick.FuncFormatter(custom_formatter))\n",
    "plt.grid()\n",
    "\n",
    "plt.show()"
   ]
  },
  {
   "cell_type": "markdown",
   "id": "f156c414-7aa3-4dea-842f-3916ae6f88ce",
   "metadata": {},
   "source": [
    "The three histograms plotted above depict the distributions of median incomes for families in the three states. All bars are 10k dollars wide, and all bar heights are represented as income per dollar. \n",
    "\n",
    "Answer the following questions solely on the histogam provided above. You should not write any python code for this. "
   ]
  },
  {
   "cell_type": "markdown",
   "id": "a9932a8a-0c88-4acb-9e98-af1b776ad643",
   "metadata": {
    "deletable": false,
    "editable": false
   },
   "source": [
    "<!-- BEGIN QUESTION -->\n",
    "\n",
    "### Question 1(a) [5 points]\n",
    "\n",
    "Find the percentage of families in the state of Louisiana who have income at least 50k but less than 70k. (Do not write any code for this, consider the height of bar [60, 70) to be 0.9)"
   ]
  },
  {
   "cell_type": "markdown",
   "id": "b1cacdc6",
   "metadata": {},
   "source": [
    "_Type your answer here, replacing this text._"
   ]
  },
  {
   "cell_type": "markdown",
   "id": "31d809b1-c43c-4d76-8a6f-0ab6d8e80dc1",
   "metadata": {
    "deletable": false,
    "editable": false
   },
   "source": [
    "<!-- END QUESTION -->\n",
    "\n",
    "<!-- BEGIN QUESTION -->\n",
    "\n",
    "### Question 1(b) [5 points]\n",
    "\n",
    "By looking at the graph above, is it possible to accurately determine the percentage of families in the state of New Mexico who have income atleast 20k but less than 45k? Why or why not? "
   ]
  },
  {
   "cell_type": "markdown",
   "id": "22412e06",
   "metadata": {},
   "source": [
    "_Type your answer here, replacing this text._"
   ]
  },
  {
   "cell_type": "markdown",
   "id": "2ae5227f-cd26-437d-ba2e-9d685846f17b",
   "metadata": {
    "deletable": false,
    "editable": false
   },
   "source": [
    "<!-- END QUESTION -->\n",
    "\n",
    "<!-- BEGIN QUESTION -->\n",
    "\n",
    "### Question 1(c) [10 points]\n",
    "\n",
    "Find the **number** of families that have income of atleast 20k in the state of Louisiana? (Consider the height for the bar [10, 20) is 0.45)\n",
    "\n",
    "If your answer is in decimals, then consider only integer part as your answer. "
   ]
  },
  {
   "cell_type": "markdown",
   "id": "3af5968f",
   "metadata": {},
   "source": [
    "_Type your answer here, replacing this text._"
   ]
  },
  {
   "cell_type": "markdown",
   "id": "df5442f8-a0f7-4da2-8c73-61a3697dfe95",
   "metadata": {
    "deletable": false,
    "editable": false
   },
   "source": [
    "<!-- END QUESTION -->\n",
    "\n",
    "<!-- BEGIN QUESTION -->\n",
    "\n",
    "### Question 1(d) [10 points]\n",
    "\n",
    "Assume there are no families with income 110k in louisiana, and there are no families with income 100k in texas. \n",
    "\n",
    "Fill in the blanks below with the smallest range that can be determined from the histograms shown above. \n",
    "\n",
    "The percentage of families in Texas that have income higher than all the families in Louisiana is between ______ and _______. \n",
    "\n",
    "Consider the height of the bar [100, 100), [110, 120), [120, 130) and [130, 140] for the state of Texas is 0.25, 0.2, 0.15, 0.15 respectively \n",
    "\n",
    "Explain your answer. \n",
    "\n",
    "Note: This is difficult question. Please make sure you discuss with your friends (do not show the solution) or reach out to me if you are stuck. Do not skip it please. "
   ]
  },
  {
   "cell_type": "markdown",
   "id": "5ad27ce0",
   "metadata": {},
   "source": [
    "_Type your answer here, replacing this text._"
   ]
  },
  {
   "cell_type": "markdown",
   "id": "6e2d753c-7125-42ce-93aa-6768aadef9a7",
   "metadata": {
    "deletable": false,
    "editable": false
   },
   "source": [
    "<!-- END QUESTION -->\n",
    "\n",
    "# 2. Probability \n",
    "\n",
    "SFA dining food hall provides multiple stations serving a wide variety of menu items from homestyle favorites to diverse international flavors. Emily, a student at SFA, likes to get 3 servings of food items on her plate from any of those stations, and chooses each station independently and at random with replacement. For example, she could randomly get food items from salad station from three times, and thus end up with three servings on her plate, or, she may choose to randomly get a food item from Homestyle station, another from Innovate station, and third from Sweet Shoppe. \n",
    "\n",
    "The following table lists the food stations, and the probability that Emily chooses each. \n",
    "\n",
    "| Station | Probability |\n",
    "| --- | --- |\n",
    "| Sweet Shoppe | 0.35 |\n",
    "| Homestyle | 0.05 |\n",
    "| Deli | 0.15 |\n",
    "| Innovate | 0.1 |\n",
    "| Salad | 0.15 | \n",
    "| Pasta | 0.2 |\n",
    "\n",
    "Note: you may leave your answers as mathematical expressions. **Show your work**"
   ]
  },
  {
   "cell_type": "markdown",
   "id": "f3f68dde-e712-443c-9ebd-8822492d734a",
   "metadata": {
    "deletable": false,
    "editable": false
   },
   "source": [
    "<!-- BEGIN QUESTION -->\n",
    "\n",
    "### Question 2(a) [10 points]\n",
    "\n",
    "What is the probability that Emily ends up picking items in this exact order: \n",
    "\n",
    "Homestyle, Salad, Sweet Shoppe?"
   ]
  },
  {
   "cell_type": "markdown",
   "id": "d94beeee",
   "metadata": {},
   "source": [
    "_Type your answer here, replacing this text._"
   ]
  },
  {
   "cell_type": "markdown",
   "id": "3e77e709-924c-4561-a7c3-4d54f70ce781",
   "metadata": {
    "deletable": false,
    "editable": false
   },
   "source": [
    "<!-- END QUESTION -->\n",
    "\n",
    "<!-- BEGIN QUESTION -->\n",
    "\n",
    "### Question 2(b) [10 points]\n",
    "\n",
    "What is the probability that Emily does not get Pasta in any of her three servings? "
   ]
  },
  {
   "cell_type": "markdown",
   "id": "6871a85c",
   "metadata": {},
   "source": [
    "_Type your answer here, replacing this text._"
   ]
  },
  {
   "cell_type": "markdown",
   "id": "b1cf0dd8-3352-4f9a-8706-8729d7b796de",
   "metadata": {
    "deletable": false,
    "editable": false
   },
   "source": [
    "<!-- END QUESTION -->\n",
    "\n",
    "<!-- BEGIN QUESTION -->\n",
    "\n",
    "### Question 2(c) [10 points]\n",
    "\n",
    "What is the probability that Emily gets either three servings from Innovate station or three servings from Deli station? "
   ]
  },
  {
   "cell_type": "markdown",
   "id": "1b78f22f",
   "metadata": {},
   "source": [
    "_Type your answer here, replacing this text._"
   ]
  },
  {
   "cell_type": "markdown",
   "id": "699e5a61-6d90-463d-ae3a-4fcdeb534cb9",
   "metadata": {
    "deletable": false,
    "editable": false
   },
   "source": [
    "<!-- END QUESTION -->\n",
    "\n",
    "<!-- BEGIN QUESTION -->\n",
    "\n",
    "### Question 2(d) [10 points]\n",
    "\n",
    "What is the probability that Emily ends up with two servings from Homestyle station and one from Sweet Shoppe? "
   ]
  },
  {
   "cell_type": "markdown",
   "id": "4703ed11",
   "metadata": {},
   "source": [
    "_Type your answer here, replacing this text._"
   ]
  },
  {
   "cell_type": "markdown",
   "id": "d784ac3f-b69b-4d7d-87c9-bdf527f2eba2",
   "metadata": {
    "deletable": false,
    "editable": false
   },
   "source": [
    "<!-- END QUESTION -->\n",
    "\n",
    "<!-- BEGIN QUESTION -->\n",
    "\n",
    "### Question 2(e) [10 points]\n",
    "\n",
    "What is the probability that Emily gets one or more food items from Salad station? "
   ]
  },
  {
   "cell_type": "markdown",
   "id": "98f2b6f4",
   "metadata": {},
   "source": [
    "_Type your answer here, replacing this text._"
   ]
  },
  {
   "cell_type": "markdown",
   "id": "6ea1c3a6-88a5-4158-a6db-96389ec16ac4",
   "metadata": {
    "deletable": false,
    "editable": false
   },
   "source": [
    "<!-- END QUESTION -->\n",
    "\n",
    "### 3. Probability (using simulation)\n",
    "\n",
    "Isaac Newton was consulted about the following problem by Samuel Pepys, who wanted the information for the gambling purposes. You will act as Newton and try to answer the following questions. Write the simulation code to derive the result. "
   ]
  },
  {
   "cell_type": "markdown",
   "id": "afa27ea3-a3d6-4cfd-8f54-004a4f2e4ee6",
   "metadata": {
    "deletable": false,
    "editable": false
   },
   "source": [
    "<!-- BEGIN QUESTION -->\n",
    "\n",
    "### Question 3(a) [5 points]\n",
    "\n",
    "Find the probability that atleast two 6's appear when twelve fair dice are rolled. "
   ]
  },
  {
   "cell_type": "code",
   "execution_count": null,
   "id": "3537aeaf-08b7-4178-be74-2516d09ef1ad",
   "metadata": {
    "tags": []
   },
   "outputs": [],
   "source": [
    "dice_sides = np.arange(1, 7)"
   ]
  },
  {
   "cell_type": "code",
   "execution_count": null,
   "id": "fa8159a8-ab81-45a6-80c7-ad0383364183",
   "metadata": {
    "tags": []
   },
   "outputs": [],
   "source": [
    "def one_expt():\n",
    "    \"\"\"\n",
    "    Expt: Randomly pick six numbers from dice_sides\n",
    "    returns: count of the number of 6 appeared after performing the expt\n",
    "    \"\"\"\n",
    "    ..."
   ]
  },
  {
   "cell_type": "code",
   "execution_count": null,
   "id": "eb500c9a-89a8-45dc-a18c-7519483e0468",
   "metadata": {
    "tags": []
   },
   "outputs": [],
   "source": [
    "repetitions = 50000\n",
    "total_outcomes = []\n",
    "\n",
    "for ... in ... :\n",
    "    ... .append(...)\n"
   ]
  },
  {
   "cell_type": "code",
   "execution_count": null,
   "id": "8eaff732-1b80-4f46-80c2-9dd422cad72d",
   "metadata": {
    "tags": []
   },
   "outputs": [],
   "source": [
    "total_outcomes = np.array(total_outcomes)"
   ]
  },
  {
   "cell_type": "code",
   "execution_count": null,
   "id": "6818376c-202d-4fe6-8ec0-593b835799b8",
   "metadata": {
    "tags": []
   },
   "outputs": [],
   "source": [
    "count_no_6_appeared = ...\n",
    "count_only_one_6_appeared = ...\n",
    "\n",
    "prob = 1 - count_no_6_appeared / repetitions - count_only_one_6_appeared / repetitions\n",
    "prob"
   ]
  },
  {
   "cell_type": "code",
   "execution_count": null,
   "id": "637c2bf6",
   "metadata": {
    "deletable": false,
    "editable": false
   },
   "outputs": [],
   "source": [
    "grader.check(\"q3a\")"
   ]
  },
  {
   "cell_type": "markdown",
   "id": "ac7730a3-acab-4ee1-87c5-2b6a44afb8d8",
   "metadata": {
    "deletable": false,
    "editable": false
   },
   "source": [
    "<!-- END QUESTION -->\n",
    "\n",
    "<!-- BEGIN QUESTION -->\n",
    "\n",
    "## Question 3(b) [15 points]\n",
    "\n",
    "### Monty Hall Problem \n",
    "\n",
    "Monty Hall is trying out a new version of his game, with rules as follows. The contestant gets to choose one of four doors. One door has a car behind it, another has an\n",
    "apple, another has a book, and another has a goat. All 24 (4!) permutations for which door\n",
    "has which prize are equally likely. In order from least preferred to most preferred, the\n",
    "contestant’s preferences are: goat, apple, book, car.\n",
    "Monty, who knows which prize is behind each door, will open a door (other than the\n",
    "contestant’s initial choice) and then let the contestant choose whether to switch to\n",
    "another unopened door. Monty will reveal the least preferred prize (among the 3 doors\n",
    "other than the contestant’s initial choice) with probability p=0.7, the intermediately preferred\n",
    "prize with probability (1 − p) = 0.3, and the most preferred prize never.\n",
    "\n",
    "The contestant decides in advance to use the following strategy: Initially choose door\n",
    "After Monty opens a door, switch to one of the other two unopened doors, randomly\n",
    "choosing between them (with probability 1/2 each).\n",
    "\n",
    "Write a simulation code to find the probability that the contestant will get the car.\n",
    "\n",
    "Hint: \n",
    "1. Let the contestant pick a door randomly with equal probability.\n",
    "2. Sort the remaining doors, such that the last two items will be the least desired item by the contestant, and the items that Monty would pick with probability 0.3 and 0.7 respectively.\n",
    "3. Pick randomly an item from the last two items of the sorted remaining doors. This will be the Monty pick. \n",
    "4. Pick randomly from the left-over two items for contestant pick after he/she switches\n",
    "5. Check if the contestant pick is a car door or not and return accordingly."
   ]
  },
  {
   "cell_type": "code",
   "execution_count": null,
   "id": "65ec153b-764e-4d7b-b580-aaa41034e133",
   "metadata": {
    "tags": []
   },
   "outputs": [],
   "source": [
    "# Lets' assume that car is denoted by the digit 1, book by 2, apple by 3 and goat by 4 in ascending order.\n",
    "doors = {'car': 1, 'book': 2, 'apple': 3, 'goat': 4}"
   ]
  },
  {
   "cell_type": "code",
   "execution_count": null,
   "id": "fdd6b6f0-2954-46e0-ab43-44a9622f2eea",
   "metadata": {
    "tags": []
   },
   "outputs": [],
   "source": [
    "behind_closed_doors = np.array([1, 2, 3, 4])\n",
    "np.random.shuffle(behind_closed_doors) # shuffle the items\n",
    "behind_closed_doors"
   ]
  },
  {
   "cell_type": "code",
   "execution_count": null,
   "id": "eeca8114-30db-4f88-9e7b-374c2f3e53b2",
   "metadata": {
    "tags": []
   },
   "outputs": [],
   "source": [
    "def one_expt():\n",
    "    np.random.shuffle(behind_closed_doors) # Randomly shuffling the items behind the doors that only Monty knows about\n",
    "\n",
    "    #contestant_pick is the item that the contestant will pick randomly. Use np.random.choice to select randomly an item from behind closed doors\n",
    "    contestant_pick = np.random.choice(behind_closed_doors)\n",
    "\n",
    "    doors_left_to_pick = ...\n",
    "    doors_left_to_pick = np.sort(doors_left_to_pick)\n",
    "\n",
    "    #monty_pick is the item that the Monty will pick randomly. Use np.random.choice to select randomly an item from behind closed doors.\n",
    "    monty_pick = np.random.choice(..., p=...)\n",
    "\n",
    "     \n",
    "    doors_for_contestant = ...\n",
    "\n",
    "    contestant_pick_after_switch = ...\n",
    "    \n",
    "    if(contestant_pick_after_switch == 1):\n",
    "        ...\n",
    "    else:\n",
    "        ..."
   ]
  },
  {
   "cell_type": "code",
   "execution_count": null,
   "id": "e8d83bd0-b172-45b2-a021-c6076f7aa5b5",
   "metadata": {
    "tags": []
   },
   "outputs": [],
   "source": [
    "repetitions = 50000\n",
    "total_outcomes  = []\n",
    "\n",
    "for x in np.arange(repetitions):\n",
    "    ..."
   ]
  },
  {
   "cell_type": "code",
   "execution_count": null,
   "id": "72151485-2796-46b3-8af6-d3b94c236c89",
   "metadata": {
    "tags": []
   },
   "outputs": [],
   "source": [
    "total_outcomes = np.array(total_outcomes)"
   ]
  },
  {
   "cell_type": "code",
   "execution_count": null,
   "id": "b8fabdd3-2fc6-4fbb-a56a-c562b7a12cf1",
   "metadata": {
    "tags": []
   },
   "outputs": [],
   "source": [
    "prob = ...\n",
    "prob"
   ]
  },
  {
   "cell_type": "code",
   "execution_count": null,
   "id": "77f8111f",
   "metadata": {
    "deletable": false,
    "editable": false
   },
   "outputs": [],
   "source": [
    "grader.check(\"q3b\")"
   ]
  },
  {
   "cell_type": "markdown",
   "id": "56e02c4f",
   "metadata": {
    "deletable": false,
    "editable": false
   },
   "source": [
    "<!-- END QUESTION -->\n",
    "\n"
   ]
  }
 ],
 "metadata": {
  "kernelspec": {
   "display_name": "Python 3 (ipykernel)",
   "language": "python",
   "name": "python3"
  },
  "language_info": {
   "codemirror_mode": {
    "name": "ipython",
    "version": 3
   },
   "file_extension": ".py",
   "mimetype": "text/x-python",
   "name": "python",
   "nbconvert_exporter": "python",
   "pygments_lexer": "ipython3",
   "version": "3.12.6"
  },
  "otter": {
   "OK_FORMAT": true,
   "tests": {
    "q3a": {
     "name": "q3a",
     "points": null,
     "suites": [
      {
       "cases": [
        {
         "code": ">>> (prob > 0.5 and prob < 0.8).item() == True\nTrue",
         "hidden": false,
         "locked": false
        }
       ],
       "scored": true,
       "setup": "",
       "teardown": "",
       "type": "doctest"
      }
     ]
    },
    "q3b": {
     "name": "q3b",
     "points": null,
     "suites": [
      {
       "cases": [
        {
         "code": ">>> (0.3 < prob < 0.4).item() == True\nTrue",
         "hidden": false,
         "locked": false
        }
       ],
       "scored": true,
       "setup": "",
       "teardown": "",
       "type": "doctest"
      }
     ]
    }
   }
  }
 },
 "nbformat": 4,
 "nbformat_minor": 5
}
