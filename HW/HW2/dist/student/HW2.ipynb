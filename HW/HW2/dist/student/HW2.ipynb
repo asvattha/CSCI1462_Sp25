{
 "cells": [
  {
   "cell_type": "code",
   "execution_count": null,
   "id": "366d12b9",
   "metadata": {
    "deletable": false,
    "editable": false
   },
   "outputs": [],
   "source": [
    "# Initialize Otter\n",
    "import otter\n",
    "grader = otter.Notebook(\"HW2.ipynb\")"
   ]
  },
  {
   "cell_type": "code",
   "execution_count": null,
   "id": "014dca9d-9937-49a5-b54b-ecaa00e4fe23",
   "metadata": {},
   "outputs": [],
   "source": [
    "import pandas as pd\n",
    "import numpy as np"
   ]
  },
  {
   "cell_type": "markdown",
   "id": "8fb8cc27-5249-4517-9b34-f8457e7f5b04",
   "metadata": {},
   "source": [
    "**Due data:  3 March by 11:59 pm**\n",
    "\n",
    "Rubric: \n",
    "| Question | Points | \n",
    "| ---- | --- |\n",
    "| 1(a) | 10 |\n",
    "| 1(b) | 10 |\n",
    "| 1(c) | 10 |\n",
    "| 1(d) | 10 |\n",
    "| 2(a) | 10 |\n",
    "| 2(b) | 10 |\n",
    "| 2(c) | 10 |\n",
    "| 2(d) | 10 |\n",
    "| 2(e) | 10 |\n",
    "| 2(f) | 10 |\n",
    "| Total | 100 |"
   ]
  },
  {
   "cell_type": "markdown",
   "id": "e63830eb-8910-48e1-9f30-add5bf0ebbcb",
   "metadata": {},
   "source": [
    "Instructions: \n",
    "\n",
    "1. Please upload your notebook (.ipynb) file to D2L under HW >> HW2 Dropbox.\n",
    "2. The homework assignment is meant to be completed individually. Do not share or copy code with others, as violations will result in consequences outlined in the syllabus.\n",
    "3. Passing the autograder test does not guarantee that your answer is correct. Be sure to answer questions carefully, as the instructor has additional hidden tests. Full points will only be awarded if your answers pass these tests during grading.\n",
    "4. If you encounter any difficulties, don't hesitate to contact me for assistance."
   ]
  },
  {
   "cell_type": "markdown",
   "id": "7e246ea8-8992-4750-94a0-101ea2d299be",
   "metadata": {},
   "source": [
    "Objectives: To practice and learn about the following topics:\n",
    "1. Numpy\n",
    "2. Tables"
   ]
  },
  {
   "cell_type": "markdown",
   "id": "867e6c33-1b24-4856-805e-a60ffb3c5d11",
   "metadata": {},
   "source": [
    "# 1. Numpy\n",
    "\n",
    "A numpy array of integers, named `gotham` contains the rough population of the Gotham city for every 10 years from 1900 to 2020. It has total 13 items. \n",
    "\n",
    "```\n",
    "array([305500, 393300, ..., 25241897, 29217653])\n",
    "```\n",
    "\n",
    "Write a python code to answer the following: "
   ]
  },
  {
   "cell_type": "markdown",
   "id": "0890b753-a26b-46e6-9125-5839dcbc7287",
   "metadata": {
    "deletable": false,
    "editable": false
   },
   "source": [
    "<!-- BEGIN QUESTION -->\n",
    "\n",
    "### Question 1(a)\n",
    "\n",
    "What is the population in the year 2000? "
   ]
  },
  {
   "cell_type": "markdown",
   "id": "c28aeabf",
   "metadata": {},
   "source": [
    "_Type your answer here, replacing this text._"
   ]
  },
  {
   "cell_type": "markdown",
   "id": "7287e8d8-6998-479f-97e7-e906f98cb98a",
   "metadata": {
    "deletable": false,
    "editable": false
   },
   "source": [
    "<!-- END QUESTION -->\n",
    "\n",
    "<!-- BEGIN QUESTION -->\n",
    "\n",
    "### Question 1(b)\n",
    "\n",
    "The population change from 1930 to 1950. You should only show the change, expressed as number of persons. (Not as proportion or percentage change). \n",
    "\n",
    "That is, population change from 1930 to 1950 will be the `population in 1950 - population in 1930`. "
   ]
  },
  {
   "cell_type": "markdown",
   "id": "f510951a",
   "metadata": {},
   "source": [
    "_Type your answer here, replacing this text._"
   ]
  },
  {
   "cell_type": "markdown",
   "id": "cd51fc82-711c-44f7-b483-588b0a78723f",
   "metadata": {
    "deletable": false,
    "editable": false
   },
   "source": [
    "<!-- END QUESTION -->\n",
    "\n",
    "<!-- BEGIN QUESTION -->\n",
    "\n",
    "### Question 1(c)\n",
    "\n",
    "Find if the population ever increased by less than 500,000 in a decade. \n",
    "\n",
    "Note: Your answer should contain python expression which returns true or false. (Do not write True or False directly by yourself)\n",
    "\n",
    "Hint: Use `np.diff` method"
   ]
  },
  {
   "cell_type": "markdown",
   "id": "d67a7cf6",
   "metadata": {},
   "source": [
    "_Type your answer here, replacing this text._"
   ]
  },
  {
   "cell_type": "markdown",
   "id": "783cd314-4df4-4372-bd7b-b76e9854450e",
   "metadata": {
    "deletable": false,
    "editable": false
   },
   "source": [
    "<!-- END QUESTION -->\n",
    "\n",
    "<!-- BEGIN QUESTION -->\n",
    "\n",
    "### Question 1(d)\n",
    "\n",
    "Find the number of items in `gotham` that are atleast twice as large as the population in 1950. "
   ]
  },
  {
   "cell_type": "markdown",
   "id": "1df72d86",
   "metadata": {},
   "source": [
    "_Type your answer here, replacing this text._"
   ]
  },
  {
   "cell_type": "markdown",
   "id": "de6b84ca-dcda-4882-b5fd-90e3d97b7db1",
   "metadata": {
    "deletable": false,
    "editable": false
   },
   "source": [
    "<!-- END QUESTION -->\n",
    "\n",
    "# 2. Tables"
   ]
  },
  {
   "cell_type": "markdown",
   "id": "225f4e88-3fc0-426c-a009-684e4c221068",
   "metadata": {},
   "source": [
    "### Question 2\n",
    "\n",
    "A table named `instructor` contains one row for each SFA faculty member and these columns:\n",
    "- **Dept**: a string, the department of the faculty member\n",
    "- **Name**: a string, the first name fo the faculty member\n",
    "- **Designation**: a string, one of: Lecturer, Assitant Professor, Associate Professor, or Professor\n",
    "- **Salary**: an int, last year's salary paid by the university\n",
    "\n",
    "Write a python code to answer the following questions: "
   ]
  },
  {
   "cell_type": "code",
   "execution_count": null,
   "id": "f9eb0268-1121-4a63-9ef1-a9b3acc50b16",
   "metadata": {},
   "outputs": [],
   "source": [
    "instructor = pd.read_csv('data/instructor.csv')\n",
    "instructor.head(3)"
   ]
  },
  {
   "cell_type": "markdown",
   "id": "a4e7dc03-845e-42df-9768-e09a16382d0a",
   "metadata": {
    "deletable": false,
    "editable": false
   },
   "source": [
    "### Question 2(a)\n",
    "The total salary amount paid to all faculty by the university last year. "
   ]
  },
  {
   "cell_type": "code",
   "execution_count": null,
   "id": "7789f039-b333-43d0-81ad-b440fead7ec4",
   "metadata": {
    "tags": []
   },
   "outputs": [],
   "source": [
    "your_ans = ...\n",
    "your_ans"
   ]
  },
  {
   "cell_type": "code",
   "execution_count": null,
   "id": "6f50bf39",
   "metadata": {
    "deletable": false,
    "editable": false
   },
   "outputs": [],
   "source": [
    "grader.check(\"q2(a)\")"
   ]
  },
  {
   "cell_type": "markdown",
   "id": "6f5185ff-3dfc-495e-a3e2-da743c85a62e",
   "metadata": {
    "deletable": false,
    "editable": false
   },
   "source": [
    "### Question 2(b)\n",
    "\n",
    "The name of the second highest paid faculty member. (Assume no two faculty have the same salary)"
   ]
  },
  {
   "cell_type": "code",
   "execution_count": null,
   "id": "99167282-42f3-445a-96ca-679bb08c5064",
   "metadata": {
    "tags": []
   },
   "outputs": [],
   "source": [
    "your_ans = ...\n",
    "your_ans"
   ]
  },
  {
   "cell_type": "code",
   "execution_count": null,
   "id": "b2850bdc",
   "metadata": {
    "deletable": false,
    "editable": false
   },
   "outputs": [],
   "source": [
    "grader.check(\"q2(b)\")"
   ]
  },
  {
   "cell_type": "markdown",
   "id": "74306739-d462-4498-af05-a0ea078a2475",
   "metadata": {
    "deletable": false,
    "editable": false
   },
   "source": [
    "### Question 2(c)\n",
    "\n",
    "The name of the department that has the most lecturers. (Assume one department has more than the rest)"
   ]
  },
  {
   "cell_type": "code",
   "execution_count": null,
   "id": "d50dce8a-43a1-4070-8ed7-00d479bd18d7",
   "metadata": {
    "tags": []
   },
   "outputs": [],
   "source": [
    "your_ans = ...\n",
    "your_ans"
   ]
  },
  {
   "cell_type": "code",
   "execution_count": null,
   "id": "9b55910a",
   "metadata": {
    "deletable": false,
    "editable": false
   },
   "outputs": [],
   "source": [
    "grader.check(\"q2(c)\")"
   ]
  },
  {
   "cell_type": "markdown",
   "id": "f413a4e7-6028-4bd7-b859-ffa22d70d0c9",
   "metadata": {
    "deletable": false,
    "editable": false
   },
   "source": [
    "### Question 2(d)\n",
    "\n",
    "The average faculty salary after all instructors get a 10% raise in the present year. Round your answer upto two decimal points. "
   ]
  },
  {
   "cell_type": "code",
   "execution_count": null,
   "id": "5daeec31-c90e-4cdd-91a8-3275a2cd95d1",
   "metadata": {
    "tags": []
   },
   "outputs": [],
   "source": [
    "your_ans = ...\n",
    "your_ans"
   ]
  },
  {
   "cell_type": "code",
   "execution_count": null,
   "id": "9bb6ce62",
   "metadata": {
    "deletable": false,
    "editable": false
   },
   "outputs": [],
   "source": [
    "grader.check(\"q2(d)\")"
   ]
  },
  {
   "cell_type": "markdown",
   "id": "37a258e8-c63e-448f-963f-9adc905c1a5c",
   "metadata": {
    "deletable": false,
    "editable": false
   },
   "source": [
    "### Question 2(e)\n",
    "\n",
    "Find the departments which have both Lecturers and Professors. Your answer should return a **numpy array** of departments."
   ]
  },
  {
   "cell_type": "code",
   "execution_count": null,
   "id": "6c676432-d685-4565-bf0f-4e0098df2566",
   "metadata": {
    "tags": []
   },
   "outputs": [],
   "source": [
    "your_ans = ...\n",
    "your_ans"
   ]
  },
  {
   "cell_type": "code",
   "execution_count": null,
   "id": "72bf174c",
   "metadata": {
    "deletable": false,
    "editable": false
   },
   "outputs": [],
   "source": [
    "grader.check(\"q2(e)\")"
   ]
  },
  {
   "cell_type": "markdown",
   "id": "89ec6951-dccc-4b17-a9c1-7218ef51dfe3",
   "metadata": {
    "deletable": false,
    "editable": false
   },
   "source": [
    "### Question 2(f)\n",
    "\n",
    "Find the absolute difference between a department's average **Lecturer** salary and its average **Professor** salary. Round the absolute differences upto two decimal points. Your answer should be a **numpy array**. \n",
    "If a department don't have both, then simply drop those departments. \n",
    "\n",
    "Hint: For absolute difference, look into the numpy method `absolute` online here: [np.absolute documentation](https://numpy.org/doc/stable/reference/generated/numpy.absolute.html)"
   ]
  },
  {
   "cell_type": "code",
   "execution_count": null,
   "id": "ffcc591a-4435-4b80-b885-be38d37920f9",
   "metadata": {
    "tags": []
   },
   "outputs": [],
   "source": [
    "your_ans = ...\n",
    "your_ans"
   ]
  },
  {
   "cell_type": "code",
   "execution_count": null,
   "id": "c6086ce0",
   "metadata": {
    "deletable": false,
    "editable": false
   },
   "outputs": [],
   "source": [
    "grader.check(\"q2(f)\")"
   ]
  }
 ],
 "metadata": {
  "kernelspec": {
   "display_name": "Python 3 (ipykernel)",
   "language": "python",
   "name": "python3"
  },
  "language_info": {
   "codemirror_mode": {
    "name": "ipython",
    "version": 3
   },
   "file_extension": ".py",
   "mimetype": "text/x-python",
   "name": "python",
   "nbconvert_exporter": "python",
   "pygments_lexer": "ipython3",
   "version": "3.12.6"
  },
  "otter": {
   "OK_FORMAT": true,
   "tests": {
    "q2(a)": {
     "name": "q2(a)",
     "points": null,
     "suites": [
      {
       "cases": [
        {
         "code": ">>> your_ans.item() == 53181784\nTrue",
         "hidden": false,
         "locked": false
        }
       ],
       "scored": true,
       "setup": "",
       "teardown": "",
       "type": "doctest"
      }
     ]
    },
    "q2(b)": {
     "name": "q2(b)",
     "points": null,
     "suites": [
      {
       "cases": [
        {
         "code": ">>> your_ans == 'Sienna'\nTrue",
         "hidden": false,
         "locked": false
        }
       ],
       "scored": true,
       "setup": "",
       "teardown": "",
       "type": "doctest"
      }
     ]
    },
    "q2(c)": {
     "name": "q2(c)",
     "points": null,
     "suites": [
      {
       "cases": [
        {
         "code": ">>> your_ans == 'History'\nTrue",
         "hidden": false,
         "locked": false
        }
       ],
       "scored": true,
       "setup": "",
       "teardown": "",
       "type": "doctest"
      }
     ]
    },
    "q2(d)": {
     "name": "q2(d)",
     "points": null,
     "suites": [
      {
       "cases": [
        {
         "code": ">>> your_ans.item() == 116999.92\nTrue",
         "hidden": false,
         "locked": false
        }
       ],
       "scored": true,
       "setup": "",
       "teardown": "",
       "type": "doctest"
      }
     ]
    },
    "q2(e)": {
     "name": "q2(e)",
     "points": null,
     "suites": [
      {
       "cases": [
        {
         "code": ">>> your_ans.shape[0] == 19\nTrue",
         "hidden": false,
         "locked": false
        },
        {
         "code": ">>> ('CompSci' not in your_ans) == True\nTrue",
         "hidden": false,
         "locked": false
        }
       ],
       "scored": true,
       "setup": "",
       "teardown": "",
       "type": "doctest"
      }
     ]
    },
    "q2(f)": {
     "name": "q2(f)",
     "points": null,
     "suites": [
      {
       "cases": [
        {
         "code": ">>> len(your_ans) == 19\nTrue",
         "hidden": false,
         "locked": false
        },
        {
         "code": ">>> np.sort(your_ans)[0].item() == 261.08\nTrue",
         "hidden": false,
         "locked": false
        }
       ],
       "scored": true,
       "setup": "",
       "teardown": "",
       "type": "doctest"
      }
     ]
    }
   }
  }
 },
 "nbformat": 4,
 "nbformat_minor": 5
}
