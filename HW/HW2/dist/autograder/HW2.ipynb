{
 "cells": [
  {
   "cell_type": "code",
   "execution_count": null,
   "id": "2a303d6e",
   "metadata": {
    "deletable": false,
    "editable": false
   },
   "outputs": [],
   "source": [
    "# Initialize Otter\n",
    "import otter\n",
    "grader = otter.Notebook(\"HW2.ipynb\")"
   ]
  },
  {
   "cell_type": "code",
   "execution_count": 2,
   "id": "014dca9d-9937-49a5-b54b-ecaa00e4fe23",
   "metadata": {},
   "outputs": [],
   "source": [
    "import pandas as pd\n",
    "import numpy as np"
   ]
  },
  {
   "cell_type": "markdown",
   "id": "8fb8cc27-5249-4517-9b34-f8457e7f5b04",
   "metadata": {},
   "source": [
    "**Due data:  3 March by 11:59 pm**\n",
    "\n",
    "Rubric: \n",
    "| Question | Points | \n",
    "| ---- | --- |\n",
    "| 1(a) | 10 |\n",
    "| 1(b) | 10 |\n",
    "| 1(c) | 10 |\n",
    "| 1(d) | 10 |\n",
    "| 2(a) | 10 |\n",
    "| 2(b) | 10 |\n",
    "| 2(c) | 10 |\n",
    "| 2(d) | 10 |\n",
    "| 2(e) | 10 |\n",
    "| 2(f) | 10 |\n",
    "| Total | 100 |"
   ]
  },
  {
   "cell_type": "markdown",
   "id": "e63830eb-8910-48e1-9f30-add5bf0ebbcb",
   "metadata": {},
   "source": [
    "Instructions: \n",
    "\n",
    "1. Please upload your notebook (.ipynb) file to D2L under HW >> HW2 Dropbox.\n",
    "2. The homework assignment is meant to be completed individually. Do not share or copy code with others, as violations will result in consequences outlined in the syllabus.\n",
    "3. Passing the autograder test does not guarantee that your answer is correct. Be sure to answer questions carefully, as the instructor has additional hidden tests. Full points will only be awarded if your answers pass these tests during grading.\n",
    "4. If you encounter any difficulties, don't hesitate to contact me for assistance."
   ]
  },
  {
   "cell_type": "markdown",
   "id": "7e246ea8-8992-4750-94a0-101ea2d299be",
   "metadata": {},
   "source": [
    "Objectives: To practice and learn about the following topics:\n",
    "1. Numpy\n",
    "2. Tables"
   ]
  },
  {
   "cell_type": "markdown",
   "id": "867e6c33-1b24-4856-805e-a60ffb3c5d11",
   "metadata": {},
   "source": [
    "# 1. Numpy\n",
    "\n",
    "A numpy array of integers, named `gotham` contains the rough population of the Gotham city for every 10 years from 1900 to 2020. It has total 13 items. \n",
    "\n",
    "```\n",
    "array([305500, 393300, ..., 25241897, 29217653])\n",
    "```\n",
    "\n",
    "Write a python code to answer the following: "
   ]
  },
  {
   "cell_type": "markdown",
   "id": "0890b753-a26b-46e6-9125-5839dcbc7287",
   "metadata": {
    "deletable": false,
    "editable": false
   },
   "source": [
    "<!-- BEGIN QUESTION -->\n",
    "\n",
    "### Question 1(a)\n",
    "\n",
    "What is the population in the year 2000? "
   ]
  },
  {
   "cell_type": "markdown",
   "id": "ae22a377",
   "metadata": {},
   "source": [
    "_Type your answer here, replacing this text._"
   ]
  },
  {
   "cell_type": "markdown",
   "id": "eac7fc5d-9a33-432d-a204-913d9be7a27f",
   "metadata": {
    "tags": [
     "otter_assign_solution_cell"
    ]
   },
   "source": [
    "gotham[10]"
   ]
  },
  {
   "cell_type": "markdown",
   "id": "7287e8d8-6998-479f-97e7-e906f98cb98a",
   "metadata": {
    "deletable": false,
    "editable": false
   },
   "source": [
    "<!-- END QUESTION -->\n",
    "\n",
    "<!-- BEGIN QUESTION -->\n",
    "\n",
    "### Question 1(b)\n",
    "\n",
    "The population change from 1930 to 1950. You should only show the change, expressed as number of persons. (Not as proportion or percentage change). \n",
    "\n",
    "That is, population change from 1930 to 1950 will be the `population in 1950 - population in 1930`. "
   ]
  },
  {
   "cell_type": "markdown",
   "id": "8e423005",
   "metadata": {},
   "source": [
    "_Type your answer here, replacing this text._"
   ]
  },
  {
   "cell_type": "markdown",
   "id": "b607d9f8-05ba-4ed4-b420-a5d94cdecf66",
   "metadata": {
    "tags": [
     "otter_assign_solution_cell"
    ]
   },
   "source": [
    "gotham[5] - gotham[3]"
   ]
  },
  {
   "cell_type": "markdown",
   "id": "cd51fc82-711c-44f7-b483-588b0a78723f",
   "metadata": {
    "deletable": false,
    "editable": false
   },
   "source": [
    "<!-- END QUESTION -->\n",
    "\n",
    "<!-- BEGIN QUESTION -->\n",
    "\n",
    "### Question 1(c)\n",
    "\n",
    "Find if the population ever increased by less than 500,000 in a decade. \n",
    "\n",
    "Note: Your answer should contain python expression which returns true or false. (Do not write True or False directly by yourself)\n",
    "\n",
    "Hint: Use `np.diff` method"
   ]
  },
  {
   "cell_type": "markdown",
   "id": "15106927",
   "metadata": {},
   "source": [
    "_Type your answer here, replacing this text._"
   ]
  },
  {
   "cell_type": "markdown",
   "id": "4a4bff67-e4bd-4130-8b30-5984c60559ed",
   "metadata": {
    "tags": [
     "otter_assign_solution_cell"
    ]
   },
   "source": [
    "```\n",
    "population_change =  np.diff(gotham)\n",
    "less_than_500000 = (population_change < 500000)\n",
    "has_increased = (population_change > 0)\n",
    "both_cond = np.logical_and(less_than_500000, has_increased)\n",
    "np.sum(both_cond) > 0\n",
    "```"
   ]
  },
  {
   "cell_type": "markdown",
   "id": "783cd314-4df4-4372-bd7b-b76e9854450e",
   "metadata": {
    "deletable": false,
    "editable": false
   },
   "source": [
    "<!-- END QUESTION -->\n",
    "\n",
    "<!-- BEGIN QUESTION -->\n",
    "\n",
    "### Question 1(d)\n",
    "\n",
    "Find the number of items in `gotham` that are atleast twice as large as the population in 1950. "
   ]
  },
  {
   "cell_type": "markdown",
   "id": "0a965d17",
   "metadata": {},
   "source": [
    "_Type your answer here, replacing this text._"
   ]
  },
  {
   "cell_type": "markdown",
   "id": "60a9d2cd-3cd0-464e-b29a-9d9eb29fce21",
   "metadata": {
    "tags": [
     "otter_assign_solution_cell"
    ]
   },
   "source": [
    "np.sum(gotham > 2 * gotham[5])"
   ]
  },
  {
   "cell_type": "markdown",
   "id": "de6b84ca-dcda-4882-b5fd-90e3d97b7db1",
   "metadata": {
    "deletable": false,
    "editable": false
   },
   "source": [
    "<!-- END QUESTION -->\n",
    "\n",
    "# 2. Tables"
   ]
  },
  {
   "cell_type": "markdown",
   "id": "225f4e88-3fc0-426c-a009-684e4c221068",
   "metadata": {},
   "source": [
    "### Question 2\n",
    "\n",
    "A table named `instructor` contains one row for each SFA faculty member and these columns:\n",
    "- **Dept**: a string, the department of the faculty member\n",
    "- **Name**: a string, the first name fo the faculty member\n",
    "- **Designation**: a string, one of: Lecturer, Assitant Professor, Associate Professor, or Professor\n",
    "- **Salary**: an int, last year's salary paid by the university\n",
    "\n",
    "Write a python code to answer the following questions: "
   ]
  },
  {
   "cell_type": "code",
   "execution_count": 3,
   "id": "f9eb0268-1121-4a63-9ef1-a9b3acc50b16",
   "metadata": {},
   "outputs": [
    {
     "data": {
      "text/html": [
       "<div>\n",
       "<style scoped>\n",
       "    .dataframe tbody tr th:only-of-type {\n",
       "        vertical-align: middle;\n",
       "    }\n",
       "\n",
       "    .dataframe tbody tr th {\n",
       "        vertical-align: top;\n",
       "    }\n",
       "\n",
       "    .dataframe thead th {\n",
       "        text-align: right;\n",
       "    }\n",
       "</style>\n",
       "<table border=\"1\" class=\"dataframe\">\n",
       "  <thead>\n",
       "    <tr style=\"text-align: right;\">\n",
       "      <th></th>\n",
       "      <th>Dept</th>\n",
       "      <th>Name</th>\n",
       "      <th>Designation</th>\n",
       "      <th>Salary</th>\n",
       "    </tr>\n",
       "  </thead>\n",
       "  <tbody>\n",
       "    <tr>\n",
       "      <th>0</th>\n",
       "      <td>History</td>\n",
       "      <td>Layla</td>\n",
       "      <td>AssistantProfessor</td>\n",
       "      <td>132109</td>\n",
       "    </tr>\n",
       "    <tr>\n",
       "      <th>1</th>\n",
       "      <td>EarthSci</td>\n",
       "      <td>Nathan</td>\n",
       "      <td>AssistantProfessor</td>\n",
       "      <td>114457</td>\n",
       "    </tr>\n",
       "    <tr>\n",
       "      <th>2</th>\n",
       "      <td>CompSci</td>\n",
       "      <td>Victoria</td>\n",
       "      <td>AssociateProfessor</td>\n",
       "      <td>65040</td>\n",
       "    </tr>\n",
       "  </tbody>\n",
       "</table>\n",
       "</div>"
      ],
      "text/plain": [
       "       Dept      Name         Designation  Salary\n",
       "0   History     Layla  AssistantProfessor  132109\n",
       "1  EarthSci    Nathan  AssistantProfessor  114457\n",
       "2   CompSci  Victoria  AssociateProfessor   65040"
      ]
     },
     "execution_count": 3,
     "metadata": {},
     "output_type": "execute_result"
    }
   ],
   "source": [
    "instructor = pd.read_csv('data/instructor.csv')\n",
    "instructor.head(3)"
   ]
  },
  {
   "cell_type": "markdown",
   "id": "a4e7dc03-845e-42df-9768-e09a16382d0a",
   "metadata": {
    "deletable": false,
    "editable": false
   },
   "source": [
    "### Question 2(a)\n",
    "The total salary amount paid to all faculty by the university last year. "
   ]
  },
  {
   "cell_type": "code",
   "execution_count": 8,
   "id": "7789f039-b333-43d0-81ad-b440fead7ec4",
   "metadata": {
    "tags": [
     "otter_assign_solution_cell"
    ]
   },
   "outputs": [
    {
     "data": {
      "text/plain": [
       "np.int64(53181784)"
      ]
     },
     "execution_count": 8,
     "metadata": {},
     "output_type": "execute_result"
    }
   ],
   "source": [
    "your_ans = np.sum(instructor['Salary']) # SOLUTION\n",
    "your_ans"
   ]
  },
  {
   "cell_type": "code",
   "execution_count": null,
   "id": "91c09040",
   "metadata": {
    "deletable": false,
    "editable": false
   },
   "outputs": [],
   "source": [
    "grader.check(\"q2(a)\")"
   ]
  },
  {
   "cell_type": "markdown",
   "id": "6f5185ff-3dfc-495e-a3e2-da743c85a62e",
   "metadata": {
    "deletable": false,
    "editable": false
   },
   "source": [
    "### Question 2(b)\n",
    "\n",
    "The name of the second highest paid faculty member. (Assume no two faculty have the same salary)"
   ]
  },
  {
   "cell_type": "code",
   "execution_count": 10,
   "id": "99167282-42f3-445a-96ca-679bb08c5064",
   "metadata": {
    "tags": [
     "otter_assign_solution_cell"
    ]
   },
   "outputs": [
    {
     "data": {
      "text/plain": [
       "'Sienna'"
      ]
     },
     "execution_count": 10,
     "metadata": {},
     "output_type": "execute_result"
    }
   ],
   "source": [
    "your_ans = instructor.sort_values('Salary', axis=0, ascending=False).iloc[1, 1] # SOLUTION\n",
    "your_ans"
   ]
  },
  {
   "cell_type": "code",
   "execution_count": null,
   "id": "36d8e75f",
   "metadata": {
    "deletable": false,
    "editable": false
   },
   "outputs": [],
   "source": [
    "grader.check(\"q2(b)\")"
   ]
  },
  {
   "cell_type": "markdown",
   "id": "74306739-d462-4498-af05-a0ea078a2475",
   "metadata": {
    "deletable": false,
    "editable": false
   },
   "source": [
    "### Question 2(c)\n",
    "\n",
    "The name of the department that has the most lecturers. (Assume one department has more than the rest)"
   ]
  },
  {
   "cell_type": "code",
   "execution_count": 12,
   "id": "d50dce8a-43a1-4070-8ed7-00d479bd18d7",
   "metadata": {
    "tags": [
     "otter_assign_solution_cell"
    ]
   },
   "outputs": [
    {
     "data": {
      "text/plain": [
       "'History'"
      ]
     },
     "execution_count": 12,
     "metadata": {},
     "output_type": "execute_result"
    }
   ],
   "source": [
    "lecturers = instructor.query('Designation == \"Lecturer\"') # SOLUTION NO PROMPT\n",
    "grouped = lecturers[['Name', 'Dept']].groupby('Dept', as_index=False) # SOLUTION NO PROMPT\n",
    "lecturers_per_dept = grouped.count() # SOLUTION NO PROMPT\n",
    "lecturers_per_dept = lecturers_per_dept.rename(columns={'Name': 'Num_of_Lecturers'}) # SOLUTION NO PROMPT\n",
    "sorted_lecturers_per_dept = lecturers_per_dept.sort_values('Num_of_Lecturers', axis=0, ascending=False) # SOLUTION NO PROMPT\n",
    "your_ans = sorted_lecturers_per_dept.iloc[0, 0] # SOLUTION\n",
    "your_ans"
   ]
  },
  {
   "cell_type": "code",
   "execution_count": null,
   "id": "a9d2aded",
   "metadata": {
    "deletable": false,
    "editable": false
   },
   "outputs": [],
   "source": [
    "grader.check(\"q2(c)\")"
   ]
  },
  {
   "cell_type": "markdown",
   "id": "f413a4e7-6028-4bd7-b859-ffa22d70d0c9",
   "metadata": {
    "deletable": false,
    "editable": false
   },
   "source": [
    "### Question 2(d)\n",
    "\n",
    "The average faculty salary after all instructors get a 10% raise in the present year. Round your answer upto two decimal points. "
   ]
  },
  {
   "cell_type": "code",
   "execution_count": 14,
   "id": "5daeec31-c90e-4cdd-91a8-3275a2cd95d1",
   "metadata": {
    "tags": [
     "otter_assign_solution_cell"
    ]
   },
   "outputs": [
    {
     "data": {
      "text/plain": [
       "np.float64(116999.92)"
      ]
     },
     "execution_count": 14,
     "metadata": {},
     "output_type": "execute_result"
    }
   ],
   "source": [
    "result = np.mean(instructor['Salary'] * 1.1) # SOLUTION NO PROMPT\n",
    "your_ans = np.round(result, 2) # SOLUTION\n",
    "your_ans"
   ]
  },
  {
   "cell_type": "code",
   "execution_count": null,
   "id": "a090ae09",
   "metadata": {
    "deletable": false,
    "editable": false
   },
   "outputs": [],
   "source": [
    "grader.check(\"q2(d)\")"
   ]
  },
  {
   "cell_type": "markdown",
   "id": "37a258e8-c63e-448f-963f-9adc905c1a5c",
   "metadata": {
    "deletable": false,
    "editable": false
   },
   "source": [
    "### Question 2(e)\n",
    "\n",
    "Find the departments which have both Lecturers and Professors. Your answer should return a **numpy array** of departments."
   ]
  },
  {
   "cell_type": "code",
   "execution_count": 17,
   "id": "6c676432-d685-4565-bf0f-4e0098df2566",
   "metadata": {
    "tags": [
     "otter_assign_solution_cell"
    ]
   },
   "outputs": [
    {
     "data": {
      "text/plain": [
       "array(['AsianStudies', 'Aviation', 'Biology', 'Business', 'Chemistry',\n",
       "       'EarthSci', 'Economics', 'Education', 'English', 'ForestSci',\n",
       "       'Government', 'History', 'Journalism', 'Mathematics', 'Nursing',\n",
       "       'Physics', 'Psychology', 'Sociology', 'Statistics'], dtype=object)"
      ]
     },
     "execution_count": 17,
     "metadata": {},
     "output_type": "execute_result"
    }
   ],
   "source": [
    "lecturers_dept = instructor.query('Designation == \"Lecturer\"') # SOLUTION NO PROMPT\n",
    "professors_dept = instructor.query('Designation == \"Professor\"') # SOLUTION NO PROMPT\n",
    "merged_depts = pd.merge(lecturers_dept['Dept'], professors_dept['Dept'], how='inner') # SOLUTION NO PROMPT\n",
    "your_ans = np.unique(merged_depts) # SOLUTION\n",
    "your_ans"
   ]
  },
  {
   "cell_type": "code",
   "execution_count": null,
   "id": "994011bd",
   "metadata": {
    "deletable": false,
    "editable": false
   },
   "outputs": [],
   "source": [
    "grader.check(\"q2(e)\")"
   ]
  },
  {
   "cell_type": "markdown",
   "id": "89ec6951-dccc-4b17-a9c1-7218ef51dfe3",
   "metadata": {
    "deletable": false,
    "editable": false
   },
   "source": [
    "### Question 2(f)\n",
    "\n",
    "Find the absolute difference between a department's average **Lecturer** salary and its average **Professor** salary. Round the absolute differences upto two decimal points. Your answer should be a **numpy array**. \n",
    "If a department don't have both, then simply drop those departments. \n",
    "\n",
    "Hint: For absolute difference, look into the numpy method `absolute` online here: [np.absolute documentation](https://numpy.org/doc/stable/reference/generated/numpy.absolute.html)"
   ]
  },
  {
   "cell_type": "code",
   "execution_count": 20,
   "id": "ffcc591a-4435-4b80-b885-be38d37920f9",
   "metadata": {
    "tags": [
     "otter_assign_solution_cell"
    ]
   },
   "outputs": [
    {
     "data": {
      "text/plain": [
       "array([13171.18,  1490.07, 12475.12, 18571.33, 27608.77,  5553.81,\n",
       "         261.08, 25729.43, 32257.67,  7807.68, 14404.2 ,  5813.33,\n",
       "       22033.  , 29096.86, 25089.7 ,  5442.43, 11586.13,  1082.29,\n",
       "       22581.4 ])"
      ]
     },
     "execution_count": 20,
     "metadata": {},
     "output_type": "execute_result"
    }
   ],
   "source": [
    "lecturers_dept = instructor.query('Designation == \"Lecturer\"') # SOLUTION NO PROMPT\n",
    "grouped = lecturers_dept[['Dept', 'Salary']].groupby('Dept', as_index=False) # SOLUTION NO PROMPT\n",
    "avg_lec_salary = grouped.mean() # SOLUTION NO PROMPT\n",
    "avg_lec_salary = avg_lec_salary.rename(columns={'Salary': 'Avg_lec_salary'}) # SOLUTION NO PROMPT\n",
    "professors_dept = instructor.query('Designation == \"Professor\"') # SOLUTION NO PROMPT\n",
    "grouped = professors_dept[['Dept', 'Salary']].groupby('Dept', as_index=False) # SOLUTION NO PROMPT\n",
    "avg_prof_salary = grouped.mean() # SOLUTION NO PROMPT\n",
    "avg_prof_salary = avg_prof_salary.rename(columns={'Salary': 'Avg_prof_salary'}) # SOLUTION NO PROMPT\n",
    "result = pd.merge(avg_lec_salary, avg_prof_salary, how='inner', on='Dept') # SOLUTION NO PROMPT\n",
    "result = np.abs(result['Avg_lec_salary'] - result['Avg_prof_salary']) # SOLUTION NO PROMPT\n",
    "your_ans = np.array(np.round(result, 2)) # SOLUTION\n",
    "your_ans"
   ]
  },
  {
   "cell_type": "code",
   "execution_count": null,
   "id": "fc85f727",
   "metadata": {
    "deletable": false,
    "editable": false
   },
   "outputs": [],
   "source": [
    "grader.check(\"q2(f)\")"
   ]
  }
 ],
 "metadata": {
  "kernelspec": {
   "display_name": "Python 3 (ipykernel)",
   "language": "python",
   "name": "python3"
  },
  "language_info": {
   "codemirror_mode": {
    "name": "ipython",
    "version": 3
   },
   "file_extension": ".py",
   "mimetype": "text/x-python",
   "name": "python",
   "nbconvert_exporter": "python",
   "pygments_lexer": "ipython3",
   "version": "3.12.6"
  },
  "otter": {
   "OK_FORMAT": true,
   "tests": {
    "q2(a)": {
     "name": "q2(a)",
     "points": null,
     "suites": [
      {
       "cases": [
        {
         "code": ">>> your_ans.item() == 53181784\nTrue",
         "hidden": false,
         "locked": false
        }
       ],
       "scored": true,
       "setup": "",
       "teardown": "",
       "type": "doctest"
      }
     ]
    },
    "q2(b)": {
     "name": "q2(b)",
     "points": null,
     "suites": [
      {
       "cases": [
        {
         "code": ">>> your_ans == 'Sienna'\nTrue",
         "hidden": false,
         "locked": false
        }
       ],
       "scored": true,
       "setup": "",
       "teardown": "",
       "type": "doctest"
      }
     ]
    },
    "q2(c)": {
     "name": "q2(c)",
     "points": null,
     "suites": [
      {
       "cases": [
        {
         "code": ">>> your_ans == 'History'\nTrue",
         "hidden": false,
         "locked": false
        }
       ],
       "scored": true,
       "setup": "",
       "teardown": "",
       "type": "doctest"
      }
     ]
    },
    "q2(d)": {
     "name": "q2(d)",
     "points": null,
     "suites": [
      {
       "cases": [
        {
         "code": ">>> your_ans.item() == 116999.92\nTrue",
         "hidden": false,
         "locked": false
        }
       ],
       "scored": true,
       "setup": "",
       "teardown": "",
       "type": "doctest"
      }
     ]
    },
    "q2(e)": {
     "name": "q2(e)",
     "points": null,
     "suites": [
      {
       "cases": [
        {
         "code": ">>> your_ans.shape[0] == 19\nTrue",
         "hidden": false,
         "locked": false
        },
        {
         "code": ">>> ('CompSci' not in your_ans) == True\nTrue",
         "hidden": false,
         "locked": false
        }
       ],
       "scored": true,
       "setup": "",
       "teardown": "",
       "type": "doctest"
      }
     ]
    },
    "q2(f)": {
     "name": "q2(f)",
     "points": null,
     "suites": [
      {
       "cases": [
        {
         "code": ">>> len(your_ans) == 19\nTrue",
         "hidden": false,
         "locked": false
        },
        {
         "code": ">>> np.sort(your_ans)[0].item() == 261.08\nTrue",
         "hidden": false,
         "locked": false
        }
       ],
       "scored": true,
       "setup": "",
       "teardown": "",
       "type": "doctest"
      }
     ]
    }
   }
  }
 },
 "nbformat": 4,
 "nbformat_minor": 5
}
