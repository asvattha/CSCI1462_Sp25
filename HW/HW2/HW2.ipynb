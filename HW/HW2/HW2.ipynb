{
 "cells": [
  {
   "cell_type": "raw",
   "id": "f900105c-1cba-4e78-b355-cc8165d34128",
   "metadata": {},
   "source": [
    "# ASSIGNMENT CONFIG\n",
    "requirements:\n",
    "files:\n",
    "    - data\n",
    "solutions_pdf: false\n",
    "run_tests: false\n",
    "export_cell: false\n",
    "generate:\n",
    "    pdf: false"
   ]
  },
  {
   "cell_type": "code",
   "execution_count": 2,
   "id": "014dca9d-9937-49a5-b54b-ecaa00e4fe23",
   "metadata": {},
   "outputs": [],
   "source": [
    "import pandas as pd\n",
    "import numpy as np"
   ]
  },
  {
   "cell_type": "markdown",
   "id": "8fb8cc27-5249-4517-9b34-f8457e7f5b04",
   "metadata": {},
   "source": [
    "**Due data:  3 March by 11:59 pm**\n",
    "\n",
    "Rubric: \n",
    "| Question | Points | \n",
    "| ---- | --- |\n",
    "| 1(a) | 10 |\n",
    "| 1(b) | 10 |\n",
    "| 1(c) | 10 |\n",
    "| 1(d) | 10 |\n",
    "| 2(a) | 10 |\n",
    "| 2(b) | 10 |\n",
    "| 2(c) | 10 |\n",
    "| 2(d) | 10 |\n",
    "| 2(e) | 10 |\n",
    "| 2(f) | 10 |\n",
    "| Total | 100 |"
   ]
  },
  {
   "cell_type": "markdown",
   "id": "e63830eb-8910-48e1-9f30-add5bf0ebbcb",
   "metadata": {},
   "source": [
    "Instructions: \n",
    "\n",
    "1. Please upload your notebook (.ipynb) file to D2L under HW >> HW2 Dropbox.\n",
    "2. The homework assignment is meant to be completed individually. Do not share or copy code with others, as violations will result in consequences outlined in the syllabus.\n",
    "3. Passing the autograder test does not guarantee that your answer is correct. Be sure to answer questions carefully, as the instructor has additional hidden tests. Full points will only be awarded if your answers pass these tests during grading.\n",
    "4. If you encounter any difficulties, don't hesitate to contact me for assistance."
   ]
  },
  {
   "cell_type": "markdown",
   "id": "7e246ea8-8992-4750-94a0-101ea2d299be",
   "metadata": {},
   "source": [
    "Objectives: To practice and learn about the following topics:\n",
    "1. Numpy\n",
    "2. Tables"
   ]
  },
  {
   "cell_type": "markdown",
   "id": "867e6c33-1b24-4856-805e-a60ffb3c5d11",
   "metadata": {},
   "source": [
    "# 1. Numpy\n",
    "\n",
    "A numpy array of integers, named `gotham` contains the rough population of the Gotham city for every 10 years from 1900 to 2020. It has total 13 items. \n",
    "\n",
    "```\n",
    "array([305500, 393300, ..., 25241897, 29217653])\n",
    "```\n",
    "\n",
    "Write a python code to answer the following: "
   ]
  },
  {
   "cell_type": "raw",
   "id": "af3962eb-ce08-466a-80c8-3f4252bca423",
   "metadata": {},
   "source": [
    "# BEGIN QUESTION\n",
    "name: q1(a)\n",
    "manual: true"
   ]
  },
  {
   "cell_type": "markdown",
   "id": "0890b753-a26b-46e6-9125-5839dcbc7287",
   "metadata": {},
   "source": [
    "### Question 1(a)\n",
    "\n",
    "What is the population in the year 2000? "
   ]
  },
  {
   "cell_type": "raw",
   "id": "93aa4bca-6cb8-4204-a551-08f7d8a8c525",
   "metadata": {},
   "source": [
    "# BEGIN SOLUTION"
   ]
  },
  {
   "cell_type": "markdown",
   "id": "eac7fc5d-9a33-432d-a204-913d9be7a27f",
   "metadata": {},
   "source": [
    "gotham[10]"
   ]
  },
  {
   "cell_type": "raw",
   "id": "0fc57490-9465-4b89-9e68-2332607712a8",
   "metadata": {},
   "source": [
    "# END SOLUTION"
   ]
  },
  {
   "cell_type": "raw",
   "id": "4fe351ba-94eb-4abe-87e1-8c646465b8b9",
   "metadata": {},
   "source": [
    "# BEGIN TESTS"
   ]
  },
  {
   "cell_type": "raw",
   "id": "542ee491-811e-4060-8150-2f564ab462a0",
   "metadata": {},
   "source": [
    "# END TESTS"
   ]
  },
  {
   "cell_type": "raw",
   "id": "c9e27aff-5578-4a43-be4f-16a08e668fa9",
   "metadata": {},
   "source": [
    "# END QUESTION"
   ]
  },
  {
   "cell_type": "raw",
   "id": "80487eea-a957-4eb7-83e2-dd0caf4891d5",
   "metadata": {},
   "source": [
    "# BEGIN QUESTION\n",
    "name: q1(b)\n",
    "manual: true"
   ]
  },
  {
   "cell_type": "markdown",
   "id": "7287e8d8-6998-479f-97e7-e906f98cb98a",
   "metadata": {},
   "source": [
    "### Question 1(b)\n",
    "\n",
    "The population change from 1930 to 1950. You should only show the change, expressed as number of persons. (Not as proportion or percentage change). \n",
    "\n",
    "That is, population change from 1930 to 1950 will be the `population in 1950 - population in 1930`. "
   ]
  },
  {
   "cell_type": "raw",
   "id": "e2d884c1-31c0-4b94-bb36-85439ec03e83",
   "metadata": {},
   "source": [
    "# BEGIN SOLUTION"
   ]
  },
  {
   "cell_type": "markdown",
   "id": "b607d9f8-05ba-4ed4-b420-a5d94cdecf66",
   "metadata": {},
   "source": [
    "gotham[5] - gotham[3]"
   ]
  },
  {
   "cell_type": "raw",
   "id": "6592d579-56e1-43ed-8b9a-2785590c17fa",
   "metadata": {},
   "source": [
    "# END SOLUTION"
   ]
  },
  {
   "cell_type": "raw",
   "id": "10042762-1eda-4ca3-84a4-55098484f74f",
   "metadata": {},
   "source": [
    "# BEGIN TESTS"
   ]
  },
  {
   "cell_type": "raw",
   "id": "5b16ece8-a497-4460-bc09-c86cd04a5f0d",
   "metadata": {},
   "source": [
    "# END TESTS"
   ]
  },
  {
   "cell_type": "raw",
   "id": "93ea76d2-88a5-4d79-92d6-12ae784f8278",
   "metadata": {},
   "source": [
    "# END QUESTION"
   ]
  },
  {
   "cell_type": "raw",
   "id": "e4df8111-09f5-4ebc-abb9-cbaa7e985c3b",
   "metadata": {},
   "source": [
    "# BEGIN QUESTION\n",
    "name: q1(c)\n",
    "manual: true"
   ]
  },
  {
   "cell_type": "markdown",
   "id": "cd51fc82-711c-44f7-b483-588b0a78723f",
   "metadata": {},
   "source": [
    "### Question 1(c)\n",
    "\n",
    "Find if the population ever increased by less than 500,000 in a decade. \n",
    "\n",
    "Note: Your answer should contain python expression which returns true or false. (Do not write True or False directly by yourself)\n",
    "\n",
    "Hint: Use `np.diff` method"
   ]
  },
  {
   "cell_type": "raw",
   "id": "25c42a7f-929f-474c-a0c6-86fca5bbd848",
   "metadata": {},
   "source": [
    "# BEGIN SOLUTION"
   ]
  },
  {
   "cell_type": "markdown",
   "id": "4a4bff67-e4bd-4130-8b30-5984c60559ed",
   "metadata": {},
   "source": [
    "```\n",
    "population_change =  np.diff(gotham)\n",
    "less_than_500000 = (population_change < 500000)\n",
    "has_increased = (population_change > 0)\n",
    "both_cond = np.logical_and(less_than_500000, has_increased)\n",
    "np.sum(both_cond) > 0\n",
    "```"
   ]
  },
  {
   "cell_type": "raw",
   "id": "fefed9b5-e6fc-41a1-aba1-3764ef6748da",
   "metadata": {},
   "source": [
    "# END SOLUTION"
   ]
  },
  {
   "cell_type": "raw",
   "id": "da514fe9-1a83-464b-84b1-61c1c2d11cf4",
   "metadata": {},
   "source": [
    "# BEGIN TESTS"
   ]
  },
  {
   "cell_type": "raw",
   "id": "b2ba64f4-86d4-4ee9-8d0e-310510bac09a",
   "metadata": {},
   "source": [
    "# END TESTS"
   ]
  },
  {
   "cell_type": "raw",
   "id": "a8ac82fd-7e57-48e4-8782-f6b6f1a304fe",
   "metadata": {},
   "source": [
    "# END QUESTION"
   ]
  },
  {
   "cell_type": "raw",
   "id": "485eb3f3-8546-4a55-ad89-acffabe65bd8",
   "metadata": {},
   "source": [
    "# BEGIN QUESTION\n",
    "name: q1(d)\n",
    "manual: true"
   ]
  },
  {
   "cell_type": "markdown",
   "id": "783cd314-4df4-4372-bd7b-b76e9854450e",
   "metadata": {},
   "source": [
    "### Question 1(d)\n",
    "\n",
    "Find the number of items in `gotham` that are atleast twice as large as the population in 1950. "
   ]
  },
  {
   "cell_type": "raw",
   "id": "1cf6073a-ec70-4b0b-bdc5-a82ae889495e",
   "metadata": {},
   "source": [
    "# BEGIN SOLUTION"
   ]
  },
  {
   "cell_type": "markdown",
   "id": "60a9d2cd-3cd0-464e-b29a-9d9eb29fce21",
   "metadata": {},
   "source": [
    "np.sum(gotham > 2 * gotham[5])"
   ]
  },
  {
   "cell_type": "raw",
   "id": "57981c55-0802-453f-ab10-2fd750cae457",
   "metadata": {},
   "source": [
    "# END SOLUTION"
   ]
  },
  {
   "cell_type": "raw",
   "id": "d023bfbd-b0ff-4c7c-a4d8-f8570a4b3e4e",
   "metadata": {},
   "source": [
    "# BEGIN TESTS"
   ]
  },
  {
   "cell_type": "raw",
   "id": "cd099061-0cb0-4b92-9b83-b67a4c628974",
   "metadata": {},
   "source": [
    "# END TESTS"
   ]
  },
  {
   "cell_type": "raw",
   "id": "9d613f0d-b797-4633-a985-0771b19bc330",
   "metadata": {},
   "source": [
    "# END QUESTION"
   ]
  },
  {
   "cell_type": "markdown",
   "id": "de6b84ca-dcda-4882-b5fd-90e3d97b7db1",
   "metadata": {},
   "source": [
    "# 2. Tables"
   ]
  },
  {
   "cell_type": "markdown",
   "id": "225f4e88-3fc0-426c-a009-684e4c221068",
   "metadata": {},
   "source": [
    "### Question 2\n",
    "\n",
    "A table named `instructor` contains one row for each SFA faculty member and these columns:\n",
    "- **Dept**: a string, the department of the faculty member\n",
    "- **Name**: a string, the first name fo the faculty member\n",
    "- **Designation**: a string, one of: Lecturer, Assitant Professor, Associate Professor, or Professor\n",
    "- **Salary**: an int, last year's salary paid by the university\n",
    "\n",
    "Write a python code to answer the following questions: "
   ]
  },
  {
   "cell_type": "code",
   "execution_count": 3,
   "id": "f9eb0268-1121-4a63-9ef1-a9b3acc50b16",
   "metadata": {},
   "outputs": [
    {
     "data": {
      "text/html": [
       "<div>\n",
       "<style scoped>\n",
       "    .dataframe tbody tr th:only-of-type {\n",
       "        vertical-align: middle;\n",
       "    }\n",
       "\n",
       "    .dataframe tbody tr th {\n",
       "        vertical-align: top;\n",
       "    }\n",
       "\n",
       "    .dataframe thead th {\n",
       "        text-align: right;\n",
       "    }\n",
       "</style>\n",
       "<table border=\"1\" class=\"dataframe\">\n",
       "  <thead>\n",
       "    <tr style=\"text-align: right;\">\n",
       "      <th></th>\n",
       "      <th>Dept</th>\n",
       "      <th>Name</th>\n",
       "      <th>Designation</th>\n",
       "      <th>Salary</th>\n",
       "    </tr>\n",
       "  </thead>\n",
       "  <tbody>\n",
       "    <tr>\n",
       "      <th>0</th>\n",
       "      <td>History</td>\n",
       "      <td>Layla</td>\n",
       "      <td>AssistantProfessor</td>\n",
       "      <td>132109</td>\n",
       "    </tr>\n",
       "    <tr>\n",
       "      <th>1</th>\n",
       "      <td>EarthSci</td>\n",
       "      <td>Nathan</td>\n",
       "      <td>AssistantProfessor</td>\n",
       "      <td>114457</td>\n",
       "    </tr>\n",
       "    <tr>\n",
       "      <th>2</th>\n",
       "      <td>CompSci</td>\n",
       "      <td>Victoria</td>\n",
       "      <td>AssociateProfessor</td>\n",
       "      <td>65040</td>\n",
       "    </tr>\n",
       "  </tbody>\n",
       "</table>\n",
       "</div>"
      ],
      "text/plain": [
       "       Dept      Name         Designation  Salary\n",
       "0   History     Layla  AssistantProfessor  132109\n",
       "1  EarthSci    Nathan  AssistantProfessor  114457\n",
       "2   CompSci  Victoria  AssociateProfessor   65040"
      ]
     },
     "execution_count": 3,
     "metadata": {},
     "output_type": "execute_result"
    }
   ],
   "source": [
    "instructor = pd.read_csv('data/instructor.csv')\n",
    "instructor.head(3)"
   ]
  },
  {
   "cell_type": "raw",
   "id": "5c498127-1025-48a1-a5c6-ab78357a96f4",
   "metadata": {},
   "source": [
    "# BEGIN QUESTION\n",
    "name: q2(a)"
   ]
  },
  {
   "cell_type": "markdown",
   "id": "a4e7dc03-845e-42df-9768-e09a16382d0a",
   "metadata": {},
   "source": [
    "### Question 2(a)\n",
    "The total salary amount paid to all faculty by the university last year. "
   ]
  },
  {
   "cell_type": "raw",
   "id": "d558256c-6153-40c5-be80-14a615ca1206",
   "metadata": {},
   "source": [
    "# BEGIN SOLUTION"
   ]
  },
  {
   "cell_type": "code",
   "execution_count": 8,
   "id": "7789f039-b333-43d0-81ad-b440fead7ec4",
   "metadata": {},
   "outputs": [
    {
     "data": {
      "text/plain": [
       "np.int64(53181784)"
      ]
     },
     "execution_count": 8,
     "metadata": {},
     "output_type": "execute_result"
    }
   ],
   "source": [
    "your_ans = np.sum(instructor['Salary']) # SOLUTION\n",
    "your_ans"
   ]
  },
  {
   "cell_type": "raw",
   "id": "32a1f11f-cb6d-4af1-8cc2-2008c1106b71",
   "metadata": {},
   "source": [
    "# END SOLUTION"
   ]
  },
  {
   "cell_type": "raw",
   "id": "38f124b7-9f02-46d5-8b58-01be856dd2d2",
   "metadata": {},
   "source": [
    "# BEGIN TESTS"
   ]
  },
  {
   "cell_type": "code",
   "execution_count": 9,
   "id": "5fafd7bc-3f72-401d-bba5-ec5de5d9ceb5",
   "metadata": {},
   "outputs": [
    {
     "data": {
      "text/plain": [
       "True"
      ]
     },
     "execution_count": 9,
     "metadata": {},
     "output_type": "execute_result"
    }
   ],
   "source": [
    "your_ans.item() == 53181784"
   ]
  },
  {
   "cell_type": "raw",
   "id": "fb9794c2-4454-4a7f-aced-d8ad10e7448b",
   "metadata": {},
   "source": [
    "# END TESTS"
   ]
  },
  {
   "cell_type": "raw",
   "id": "f8015fe4-5983-4fb9-89dd-76353a9ee660",
   "metadata": {},
   "source": [
    "# END QUESTION"
   ]
  },
  {
   "cell_type": "raw",
   "id": "252e4b09-deac-4886-a127-59f4e67ec753",
   "metadata": {},
   "source": [
    "# BEGIN QUESTION\n",
    "name: q2(b)"
   ]
  },
  {
   "cell_type": "markdown",
   "id": "6f5185ff-3dfc-495e-a3e2-da743c85a62e",
   "metadata": {},
   "source": [
    "### Question 2(b)\n",
    "\n",
    "The name of the second highest paid faculty member. (Assume no two faculty have the same salary)"
   ]
  },
  {
   "cell_type": "raw",
   "id": "1c910ea4-3b50-46e0-b059-72b1be451728",
   "metadata": {},
   "source": [
    "# BEGIN SOLUTION"
   ]
  },
  {
   "cell_type": "code",
   "execution_count": 10,
   "id": "99167282-42f3-445a-96ca-679bb08c5064",
   "metadata": {},
   "outputs": [
    {
     "data": {
      "text/plain": [
       "'Sienna'"
      ]
     },
     "execution_count": 10,
     "metadata": {},
     "output_type": "execute_result"
    }
   ],
   "source": [
    "your_ans = instructor.sort_values('Salary', axis=0, ascending=False).iloc[1, 1] # SOLUTION\n",
    "your_ans"
   ]
  },
  {
   "cell_type": "raw",
   "id": "c5b6e541-5973-4f35-abe5-d8ad9a14ae58",
   "metadata": {},
   "source": [
    "# END SOLUTION"
   ]
  },
  {
   "cell_type": "raw",
   "id": "39e11bb3-3830-4045-89ae-e9c7300a876c",
   "metadata": {},
   "source": [
    "# BEGIN TESTS"
   ]
  },
  {
   "cell_type": "code",
   "execution_count": 11,
   "id": "0f6465cd-daa1-4058-82f5-8f6dedb4adac",
   "metadata": {},
   "outputs": [
    {
     "data": {
      "text/plain": [
       "True"
      ]
     },
     "execution_count": 11,
     "metadata": {},
     "output_type": "execute_result"
    }
   ],
   "source": [
    "your_ans == \"Sienna\""
   ]
  },
  {
   "cell_type": "raw",
   "id": "7b1526f7-fbb8-4359-9c34-cc1b496376c9",
   "metadata": {},
   "source": [
    "# END TESTS"
   ]
  },
  {
   "cell_type": "raw",
   "id": "4628bc5e-5d36-4e4e-8bc7-6ac0765a8dd5",
   "metadata": {},
   "source": [
    "# END QUESTION"
   ]
  },
  {
   "cell_type": "raw",
   "id": "f3c91a92-dc1d-45bb-b3c6-0139ec13cda9",
   "metadata": {},
   "source": [
    "# BEGIN QUESTION\n",
    "name: q2(c)"
   ]
  },
  {
   "cell_type": "markdown",
   "id": "74306739-d462-4498-af05-a0ea078a2475",
   "metadata": {},
   "source": [
    "### Question 2(c)\n",
    "\n",
    "The name of the department that has the most lecturers. (Assume one department has more than the rest)"
   ]
  },
  {
   "cell_type": "raw",
   "id": "4f55a82a-57c0-4102-bdd4-a30f2e13e48a",
   "metadata": {},
   "source": [
    "# BEGIN SOLUTION"
   ]
  },
  {
   "cell_type": "code",
   "execution_count": 12,
   "id": "d50dce8a-43a1-4070-8ed7-00d479bd18d7",
   "metadata": {},
   "outputs": [
    {
     "data": {
      "text/plain": [
       "'History'"
      ]
     },
     "execution_count": 12,
     "metadata": {},
     "output_type": "execute_result"
    }
   ],
   "source": [
    "lecturers = instructor.query('Designation == \"Lecturer\"') # SOLUTION NO PROMPT\n",
    "grouped = lecturers[['Name', 'Dept']].groupby('Dept', as_index=False) # SOLUTION NO PROMPT\n",
    "lecturers_per_dept = grouped.count() # SOLUTION NO PROMPT\n",
    "lecturers_per_dept = lecturers_per_dept.rename(columns={'Name': 'Num_of_Lecturers'}) # SOLUTION NO PROMPT\n",
    "sorted_lecturers_per_dept = lecturers_per_dept.sort_values('Num_of_Lecturers', axis=0, ascending=False) # SOLUTION NO PROMPT\n",
    "your_ans = sorted_lecturers_per_dept.iloc[0, 0] # SOLUTION\n",
    "your_ans"
   ]
  },
  {
   "cell_type": "raw",
   "id": "52f1d9c2-63f2-45fa-adc8-0cc719a46610",
   "metadata": {},
   "source": [
    "# END SOLUTION"
   ]
  },
  {
   "cell_type": "raw",
   "id": "895c78c0-bc8b-41e6-a2f6-b28358156573",
   "metadata": {},
   "source": [
    "# BEGIN TESTS"
   ]
  },
  {
   "cell_type": "code",
   "execution_count": 13,
   "id": "9d4ea954-db4a-49da-9e72-1556782ad935",
   "metadata": {},
   "outputs": [
    {
     "data": {
      "text/plain": [
       "True"
      ]
     },
     "execution_count": 13,
     "metadata": {},
     "output_type": "execute_result"
    }
   ],
   "source": [
    "your_ans == \"History\""
   ]
  },
  {
   "cell_type": "raw",
   "id": "664b3cae-5879-400c-8b4f-3e50fd641e6e",
   "metadata": {},
   "source": [
    "# END TESTS"
   ]
  },
  {
   "cell_type": "raw",
   "id": "5e5014a2-c96f-48ca-a01d-a80aa5516f90",
   "metadata": {},
   "source": [
    "# END QUESTION"
   ]
  },
  {
   "cell_type": "raw",
   "id": "84f55418-36d3-4776-b06e-76883e9558b2",
   "metadata": {},
   "source": [
    "# BEGIN QUESTION\n",
    "name: q2(d)"
   ]
  },
  {
   "cell_type": "markdown",
   "id": "f413a4e7-6028-4bd7-b859-ffa22d70d0c9",
   "metadata": {},
   "source": [
    "### Question 2(d)\n",
    "\n",
    "The average faculty salary after all instructors get a 10% raise in the present year. Round your answer upto two decimal points. "
   ]
  },
  {
   "cell_type": "raw",
   "id": "74260ec2-fc21-4205-8043-26b831421f30",
   "metadata": {},
   "source": [
    "# BEGIN SOLUTION"
   ]
  },
  {
   "cell_type": "code",
   "execution_count": 14,
   "id": "5daeec31-c90e-4cdd-91a8-3275a2cd95d1",
   "metadata": {},
   "outputs": [
    {
     "data": {
      "text/plain": [
       "np.float64(116999.92)"
      ]
     },
     "execution_count": 14,
     "metadata": {},
     "output_type": "execute_result"
    }
   ],
   "source": [
    "result = np.mean(instructor['Salary'] * 1.1) # SOLUTION NO PROMPT\n",
    "your_ans = np.round(result, 2) # SOLUTION\n",
    "your_ans"
   ]
  },
  {
   "cell_type": "raw",
   "id": "abfc515a-b957-4aae-8573-1d9645d246d7",
   "metadata": {},
   "source": [
    "# END SOLUTION"
   ]
  },
  {
   "cell_type": "raw",
   "id": "ea6c444c-32aa-4426-b19c-750d6c702756",
   "metadata": {},
   "source": [
    "# BEGIN TESTS"
   ]
  },
  {
   "cell_type": "code",
   "execution_count": 16,
   "id": "08facc3a-7054-4d6c-b179-63fae13dd177",
   "metadata": {},
   "outputs": [
    {
     "data": {
      "text/plain": [
       "True"
      ]
     },
     "execution_count": 16,
     "metadata": {},
     "output_type": "execute_result"
    }
   ],
   "source": [
    "your_ans.item() == 116999.92"
   ]
  },
  {
   "cell_type": "raw",
   "id": "d2fe81e6-72bc-4719-a3a7-9711801e7cd7",
   "metadata": {},
   "source": [
    "# END TESTS"
   ]
  },
  {
   "cell_type": "raw",
   "id": "4294a830-892a-4196-bce9-922c7836239f",
   "metadata": {},
   "source": [
    "# END QUESTION"
   ]
  },
  {
   "cell_type": "raw",
   "id": "498135ce-3261-4964-a351-a2b36c2b61eb",
   "metadata": {},
   "source": [
    "# BEGIN QUESTION\n",
    "name: q2(e)"
   ]
  },
  {
   "cell_type": "markdown",
   "id": "37a258e8-c63e-448f-963f-9adc905c1a5c",
   "metadata": {},
   "source": [
    "### Question 2(e)\n",
    "\n",
    "Find the departments which have both Lecturers and Professors. Your answer should return a **numpy array** of departments."
   ]
  },
  {
   "cell_type": "raw",
   "id": "3b39671a-6c87-4a03-869b-285d6d0e1033",
   "metadata": {},
   "source": [
    "# BEGIN SOLUTION"
   ]
  },
  {
   "cell_type": "code",
   "execution_count": 17,
   "id": "6c676432-d685-4565-bf0f-4e0098df2566",
   "metadata": {},
   "outputs": [
    {
     "data": {
      "text/plain": [
       "array(['AsianStudies', 'Aviation', 'Biology', 'Business', 'Chemistry',\n",
       "       'EarthSci', 'Economics', 'Education', 'English', 'ForestSci',\n",
       "       'Government', 'History', 'Journalism', 'Mathematics', 'Nursing',\n",
       "       'Physics', 'Psychology', 'Sociology', 'Statistics'], dtype=object)"
      ]
     },
     "execution_count": 17,
     "metadata": {},
     "output_type": "execute_result"
    }
   ],
   "source": [
    "lecturers_dept = instructor.query('Designation == \"Lecturer\"') # SOLUTION NO PROMPT\n",
    "professors_dept = instructor.query('Designation == \"Professor\"') # SOLUTION NO PROMPT\n",
    "merged_depts = pd.merge(lecturers_dept['Dept'], professors_dept['Dept'], how='inner') # SOLUTION NO PROMPT\n",
    "your_ans = np.unique(merged_depts) # SOLUTION\n",
    "your_ans"
   ]
  },
  {
   "cell_type": "raw",
   "id": "cccaab25-cec9-43dc-b12a-7d73a6c33480",
   "metadata": {},
   "source": [
    "# END SOLUTION"
   ]
  },
  {
   "cell_type": "raw",
   "id": "fac7b6f6-4459-484f-b8bb-c74128a82030",
   "metadata": {},
   "source": [
    "# BEGIN TESTS"
   ]
  },
  {
   "cell_type": "code",
   "execution_count": 18,
   "id": "29466f8b-fbfb-43c4-807a-013155618e7d",
   "metadata": {},
   "outputs": [
    {
     "data": {
      "text/plain": [
       "True"
      ]
     },
     "execution_count": 18,
     "metadata": {},
     "output_type": "execute_result"
    }
   ],
   "source": [
    "your_ans.shape[0] == 19"
   ]
  },
  {
   "cell_type": "code",
   "execution_count": 19,
   "id": "2b5b524a-d127-4902-810f-aedcb5602021",
   "metadata": {},
   "outputs": [
    {
     "data": {
      "text/plain": [
       "True"
      ]
     },
     "execution_count": 19,
     "metadata": {},
     "output_type": "execute_result"
    }
   ],
   "source": [
    "(\"CompSci\" not in your_ans) == True"
   ]
  },
  {
   "cell_type": "raw",
   "id": "8b43a626-4e5c-4535-96ef-1750b0683991",
   "metadata": {},
   "source": [
    "# END TESTS"
   ]
  },
  {
   "cell_type": "raw",
   "id": "6a025eec-8cff-4622-83bb-c863cc1047f7",
   "metadata": {},
   "source": [
    "# END QUESTION"
   ]
  },
  {
   "cell_type": "raw",
   "id": "46b6bb05-4609-402c-ae03-9023400af405",
   "metadata": {},
   "source": [
    "# BEGIN QUESTION\n",
    "name: q2(f)"
   ]
  },
  {
   "cell_type": "markdown",
   "id": "89ec6951-dccc-4b17-a9c1-7218ef51dfe3",
   "metadata": {},
   "source": [
    "### Question 2(f)\n",
    "\n",
    "Find the absolute difference between a department's average **Lecturer** salary and its average **Professor** salary. Round the absolute differences upto two decimal points. Your answer should be a **numpy array**. \n",
    "If a department don't have both, then simply drop those departments. \n",
    "\n",
    "Hint: For absolute difference, look into the numpy method `absolute` online here: [np.absolute documentation](https://numpy.org/doc/stable/reference/generated/numpy.absolute.html)"
   ]
  },
  {
   "cell_type": "raw",
   "id": "83f08673-e2c9-4c83-9f08-40742d69a9c4",
   "metadata": {},
   "source": [
    "# BEGIN SOLUTION"
   ]
  },
  {
   "cell_type": "code",
   "execution_count": 20,
   "id": "ffcc591a-4435-4b80-b885-be38d37920f9",
   "metadata": {},
   "outputs": [
    {
     "data": {
      "text/plain": [
       "array([13171.18,  1490.07, 12475.12, 18571.33, 27608.77,  5553.81,\n",
       "         261.08, 25729.43, 32257.67,  7807.68, 14404.2 ,  5813.33,\n",
       "       22033.  , 29096.86, 25089.7 ,  5442.43, 11586.13,  1082.29,\n",
       "       22581.4 ])"
      ]
     },
     "execution_count": 20,
     "metadata": {},
     "output_type": "execute_result"
    }
   ],
   "source": [
    "lecturers_dept = instructor.query('Designation == \"Lecturer\"') # SOLUTION NO PROMPT\n",
    "grouped = lecturers_dept[['Dept', 'Salary']].groupby('Dept', as_index=False) # SOLUTION NO PROMPT\n",
    "avg_lec_salary = grouped.mean() # SOLUTION NO PROMPT\n",
    "avg_lec_salary = avg_lec_salary.rename(columns={'Salary': 'Avg_lec_salary'}) # SOLUTION NO PROMPT\n",
    "professors_dept = instructor.query('Designation == \"Professor\"') # SOLUTION NO PROMPT\n",
    "grouped = professors_dept[['Dept', 'Salary']].groupby('Dept', as_index=False) # SOLUTION NO PROMPT\n",
    "avg_prof_salary = grouped.mean() # SOLUTION NO PROMPT\n",
    "avg_prof_salary = avg_prof_salary.rename(columns={'Salary': 'Avg_prof_salary'}) # SOLUTION NO PROMPT\n",
    "result = pd.merge(avg_lec_salary, avg_prof_salary, how='inner', on='Dept') # SOLUTION NO PROMPT\n",
    "result = np.abs(result['Avg_lec_salary'] - result['Avg_prof_salary']) # SOLUTION NO PROMPT\n",
    "your_ans = np.array(np.round(result, 2)) # SOLUTION\n",
    "your_ans"
   ]
  },
  {
   "cell_type": "raw",
   "id": "8f4c8e5b-a923-4d51-aad0-45e0021aeb8e",
   "metadata": {},
   "source": [
    "# END SOLUTION"
   ]
  },
  {
   "cell_type": "raw",
   "id": "db59cba1-7e79-412e-aa9b-ec0b7472172b",
   "metadata": {},
   "source": [
    "# BEGIN TESTS"
   ]
  },
  {
   "cell_type": "code",
   "execution_count": 21,
   "id": "b42ffe71-94eb-40ff-aaad-c00b01dcd940",
   "metadata": {},
   "outputs": [
    {
     "data": {
      "text/plain": [
       "True"
      ]
     },
     "execution_count": 21,
     "metadata": {},
     "output_type": "execute_result"
    }
   ],
   "source": [
    "len(your_ans) == 19"
   ]
  },
  {
   "cell_type": "code",
   "execution_count": 23,
   "id": "b7cc881a-d1b0-4dc8-817f-d40d6014fc76",
   "metadata": {},
   "outputs": [
    {
     "data": {
      "text/plain": [
       "True"
      ]
     },
     "execution_count": 23,
     "metadata": {},
     "output_type": "execute_result"
    }
   ],
   "source": [
    "(np.sort(your_ans)[0]).item() == 261.08"
   ]
  },
  {
   "cell_type": "raw",
   "id": "0ffb4d49-8729-4ff2-b33c-02eee56a2ccb",
   "metadata": {},
   "source": [
    "# END TESTS"
   ]
  },
  {
   "cell_type": "raw",
   "id": "9733dbe6-11c4-426a-8944-b58d2f2e26ad",
   "metadata": {},
   "source": [
    "# END QUESTION"
   ]
  }
 ],
 "metadata": {
  "kernelspec": {
   "display_name": "Python 3 (ipykernel)",
   "language": "python",
   "name": "python3"
  },
  "language_info": {
   "codemirror_mode": {
    "name": "ipython",
    "version": 3
   },
   "file_extension": ".py",
   "mimetype": "text/x-python",
   "name": "python",
   "nbconvert_exporter": "python",
   "pygments_lexer": "ipython3",
   "version": "3.12.6"
  }
 },
 "nbformat": 4,
 "nbformat_minor": 5
}
