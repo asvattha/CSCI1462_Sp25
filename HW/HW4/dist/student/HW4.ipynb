{
 "cells": [
  {
   "cell_type": "code",
   "execution_count": null,
   "id": "d826e882",
   "metadata": {
    "deletable": false,
    "editable": false
   },
   "outputs": [],
   "source": [
    "# Initialize Otter\n",
    "import otter\n",
    "grader = otter.Notebook(\"HW4.ipynb\")"
   ]
  },
  {
   "cell_type": "markdown",
   "id": "3b3ededd-634a-4f4d-a0f7-390f0c21284f",
   "metadata": {},
   "source": [
    "Due Date: 30 Apr 2025 by 11:59 pm\n",
    "\n",
    "Grading Rubric:\n",
    "\n",
    "| Question | Points |\n",
    "| ----- |---- |\n",
    "| 1 | 10 |\n",
    "| 2 | 10 |\n",
    "| 3 | 10 |\n",
    "| 4 | 10 |\n",
    "| 5 | 20 |\n",
    "| 6 | 10 |\n",
    "| 7 | 10 |\n",
    "| 8 | 10 |\n",
    "| 9 | 10 |\n",
    "| Total | 100 |"
   ]
  },
  {
   "cell_type": "code",
   "execution_count": null,
   "id": "77aa8c8e-1d34-47ca-8378-9a0fa39ad7c8",
   "metadata": {},
   "outputs": [],
   "source": [
    "import numpy as np\n",
    "import matplotlib.pyplot as plt"
   ]
  },
  {
   "cell_type": "markdown",
   "id": "0657cda5-dc2a-438e-ba46-d8b0a9adb5f9",
   "metadata": {},
   "source": [
    "Instructions: \n",
    "\n",
    "Submission: Please upload the notebook (.ipynb) file on D2L --> HW -- > HW04 --> HW04_Dropbox\n",
    "\n",
    "1. The HW assignment is individual-based assignment. However, you are encouraged to discuss with your classmates, but DO NOT show your code and copy from others. It will be considered as plagiarism, and proper actions will be taken as per the syllabus.\n",
    "\n",
    "2. Just because your question has passed the autograder test, doesn't mean necessarily that your answer is correct. So make sure you answer those questions carefully. The instructor has some hidden tests, and only when your question passes those tests successfully during grading, you will be given full points for the question.\n",
    "\n",
    "3. If you are stuck somewhere, feel free to reach out to me. "
   ]
  },
  {
   "cell_type": "markdown",
   "id": "e5467d8e-c5be-4382-958e-04330dd59e71",
   "metadata": {},
   "source": [
    "Objectives: To practice and learn about the following topics: \n",
    "1. Hypothesis Testing"
   ]
  },
  {
   "cell_type": "markdown",
   "id": "cd0ac798-44d7-4039-80a4-47e304b492fe",
   "metadata": {},
   "source": [
    "# Examining Therapeautic Touch\n",
    "\n",
    "Therapeutic touch (commonly shortened to `TT`), known by some as \"non-contact therapeutic touch\" claim promotes healing and reduces pain and anxiety. Practitioners of therapeutic touch state that by placing their hands on, or near, a patient, they are able to detect and manipulate what they say is the patient's energy field (HEF) and can massage it in order to promote health and relaxation in individuals. \n",
    "\n",
    "![Therapeautic Touch](https://th.bing.com/th/id/OIP.TXN-_fvGH4iEmbUrxW498AHaE6?rs=1&pid=ImgDetMain)\n"
   ]
  },
  {
   "cell_type": "markdown",
   "id": "573b326f-fcd8-43c0-94ad-c327e319ffd2",
   "metadata": {},
   "source": [
    "## Emily Rosa\n",
    "\n",
    "Emily Rosa, a 4th grade student who was very familiar with the world of TT, decided to test whether or not TT practioners could truly interact with a person's HEF for her 4th grade science fair project. She later, at age nine, conceived and executed a scientific study of therapeautic touch which was published in the Journal of the American Medical Association in 1998. She is the youngest person to have a research paper published in a peer reviewed medical journal. \n",
    "\n",
    "### Emily's Experiment\n",
    "\n",
    "Emily's experiment was clean, simple and effective. Due to her parent's occupations in the medical field, she has wide access to people who claimed to be TT practitioners. \n",
    "\n",
    "Emily tok 21 TT practitioners and used them for her science experiment. She would take a TT practitioner and ask them to extend their hands through a screen (which they can't see through). Emily would be on the other side and would flip a **fair coin**. Depending on how the coin landed, she would put out either her left hand or her right hand. The TT practitioner would then have to answer which hand Emily put out. If a practitioner could truly interact with a person's HEF, it would be expected that they answered correctly. \n",
    "\n",
    "Overall, through 210 samples, the practitioner picked the correct hand 44% of the time. \n",
    "\n",
    "<img src=\"https://scchen.com/en/post/if-emily-rosa-met-thomas-bayes/joc71352f1.gif\" style=\"width:400px;\"/>\n",
    "\n",
    "\n",
    "Emily's main goal here was to text whether or not the TT practitioner's guesses were random, like the flip of a coin. In most medical experiments, this is the norm. We want to test whether or not the treatment has an effect, not whether or not the treatment actually works. \n",
    "\n",
    "We will now begin to formulate this experiment in terms of the steps of the hypothesis testing we learnt in this course. "
   ]
  },
  {
   "cell_type": "markdown",
   "id": "f7fb0d9a-839a-45a0-9a2e-aebdabefac1d",
   "metadata": {
    "deletable": false,
    "editable": false
   },
   "source": [
    "<!-- BEGIN QUESTION -->\n",
    "\n",
    "### Question 1: \n",
    "What is Emily's null hypothesis for how lily the TT practitioners are to choose the correct hand? What alternative hypothesis is she meant to discredit?  "
   ]
  },
  {
   "cell_type": "markdown",
   "id": "922efc16",
   "metadata": {},
   "source": [
    "_Type your answer here, replacing this text._"
   ]
  },
  {
   "cell_type": "markdown",
   "id": "a83f8967-7631-4612-a9bb-49853795a1ed",
   "metadata": {
    "deletable": false,
    "editable": false
   },
   "source": [
    "<!-- END QUESTION -->\n",
    "\n",
    "### Question 2: \n",
    "\n",
    "Remember that the practitioner got the correct answer 44% (0.44) of the time. According to Emily's null hypothesis, what proportion of times do we expect the practitioner to guess the correct hand and incorrect hand? \n",
    "\n",
    "Make sure your answer is a number between 0 and 1. "
   ]
  },
  {
   "cell_type": "code",
   "execution_count": null,
   "id": "b34750dd-6b1d-4c02-91ba-7947762cccc2",
   "metadata": {
    "tags": []
   },
   "outputs": [],
   "source": [
    "pop_dist = ...\n",
    "pop_dist"
   ]
  },
  {
   "cell_type": "markdown",
   "id": "b5e224b7-2692-498a-b8c5-c446b137d897",
   "metadata": {
    "deletable": false,
    "editable": false
   },
   "source": [
    "The goal is to see if the difference from this true distribution is due to something other than chance. "
   ]
  },
  {
   "cell_type": "code",
   "execution_count": null,
   "id": "447b9493",
   "metadata": {
    "deletable": false,
    "editable": false
   },
   "outputs": [],
   "source": [
    "grader.check(\"q2\")"
   ]
  },
  {
   "cell_type": "markdown",
   "id": "3cc45a6b-c6d0-4a8e-8ed9-e06300922a50",
   "metadata": {
    "deletable": false,
    "editable": false
   },
   "source": [
    "### Question 3: \n",
    "\n",
    "We usually use a statistic to help determine which model the evidence points towards. What is a statistic that we can use to compare outcomes under Emily's null hypothesis model to what was observed? (Choose one)\n",
    "\n",
    "1. The difference between the true distribution and the sample distribution\n",
    "2. The sum of the absolute difference between the true distribution and the sample distribution divide by 2\n",
    "3. The sum of the difference between the true distribution and the sample distribution"
   ]
  },
  {
   "cell_type": "code",
   "execution_count": null,
   "id": "01aa7bf2-8ba6-47d5-9733-c558b39870f1",
   "metadata": {
    "tags": []
   },
   "outputs": [],
   "source": [
    "# Assign 1, 2 or 3 to your_choice variable\n",
    "your_choice = ...\n",
    "your_choice"
   ]
  },
  {
   "cell_type": "code",
   "execution_count": null,
   "id": "cc8260dc",
   "metadata": {
    "deletable": false,
    "editable": false
   },
   "outputs": [],
   "source": [
    "grader.check(\"q3\")"
   ]
  },
  {
   "cell_type": "markdown",
   "id": "bbd9236c-d614-453a-b739-a551a688e020",
   "metadata": {
    "deletable": false,
    "editable": false
   },
   "source": [
    "### Question 4:\n",
    "\n",
    "Define the function `calculate_statistic` which takes in a sampled distribution and true distribution, and returns the value of the statistic chosen in Question 3. "
   ]
  },
  {
   "cell_type": "code",
   "execution_count": null,
   "id": "dcf19bfa-0616-4785-b109-70c149259d72",
   "metadata": {
    "tags": []
   },
   "outputs": [],
   "source": [
    "def calculate_statistic(dist1, dist2):\n",
    "    statistic = ...\n",
    "    return np.round(statistic, 2)"
   ]
  },
  {
   "cell_type": "code",
   "execution_count": null,
   "id": "4ff7d1c5",
   "metadata": {
    "deletable": false,
    "editable": false
   },
   "outputs": [],
   "source": [
    "grader.check(\"q4\")"
   ]
  },
  {
   "cell_type": "markdown",
   "id": "fbbe6cd3-cc13-419e-99fb-250771f1ebc3",
   "metadata": {
    "deletable": false,
    "editable": false
   },
   "source": [
    "### Question 5:\n",
    "\n",
    "Assign `observed_statistic` to calculate the observed statistic from Emily's experiment. Round it upto two decimal points. "
   ]
  },
  {
   "cell_type": "code",
   "execution_count": null,
   "id": "edb6f0d7-749e-4425-b8ba-8285e9c61f17",
   "metadata": {
    "tags": []
   },
   "outputs": [],
   "source": [
    "sample_dist = ...\n",
    "\n",
    "observed_statistic = ...\n",
    "observed_statistic"
   ]
  },
  {
   "cell_type": "code",
   "execution_count": null,
   "id": "c0430570",
   "metadata": {
    "deletable": false,
    "editable": false
   },
   "outputs": [],
   "source": [
    "grader.check(\"q5\")"
   ]
  },
  {
   "cell_type": "markdown",
   "id": "d940039e-e294-4bc6-9618-d6a6b9055e46",
   "metadata": {
    "deletable": false,
    "editable": false
   },
   "source": [
    "### Question 6: \n",
    "\n",
    "To begin simulating, we should start by creating a representation of Emily's null model to use for our simulation. Complete the `one_simulation` function, which simulates one experiment, which consists of 210 hand choices, as Emily evaluated in real life and find a statistic to summarize this instance of simulation.  "
   ]
  },
  {
   "cell_type": "code",
   "execution_count": null,
   "id": "9251db35-67c7-4f91-826f-3f71241710c0",
   "metadata": {
    "tags": []
   },
   "outputs": [],
   "source": [
    "def one_simulation():\n",
    "    emp_dist = np.random.multinomial(n=..., pvals=...) / ... \n",
    "    statistic = ...\n",
    "    return statistic"
   ]
  },
  {
   "cell_type": "code",
   "execution_count": null,
   "id": "6c5ee4f9-5078-4094-a391-ed939aee08ad",
   "metadata": {
    "tags": []
   },
   "outputs": [],
   "source": [
    "one_simulation()"
   ]
  },
  {
   "cell_type": "code",
   "execution_count": null,
   "id": "948cfc0b",
   "metadata": {
    "deletable": false,
    "editable": false
   },
   "outputs": [],
   "source": [
    "grader.check(\"q6\")"
   ]
  },
  {
   "cell_type": "markdown",
   "id": "6b1a90b1-e84a-4741-a442-4966094e2830",
   "metadata": {
    "deletable": false,
    "editable": false
   },
   "source": [
    "### Question 7: \n",
    "\n",
    "Let's now see what the distribution of the statistic is actuall like under Emily's null model. Complete the code given below to run the Emily's experiement for many repetitions and then plot the histogram of the distribution of the statistics. "
   ]
  },
  {
   "cell_type": "code",
   "execution_count": null,
   "id": "d20b7eb3-1723-4278-96ca-c984402fe657",
   "metadata": {
    "tags": []
   },
   "outputs": [],
   "source": [
    "repetitions = 20000\n",
    "total_statistics = []\n",
    "\n",
    "for _ in np.arange(repetitions):\n",
    "    ...\n",
    "\n",
    "total_statistics = np.array(total_statistics)"
   ]
  },
  {
   "cell_type": "code",
   "execution_count": null,
   "id": "d696fbc1-d9cd-4cf3-80ec-eee430f6621c",
   "metadata": {
    "tags": []
   },
   "outputs": [],
   "source": [
    "plt.hist(total_statistics, bins=np.arange(0, 0.5, 0.01), edgecolor='black', density=True)\n",
    "plt.scatter(observed_statistic, 0.3, color='red')\n",
    "plt.xlabel('Statistics')\n",
    "plt.show()"
   ]
  },
  {
   "cell_type": "markdown",
   "id": "11bb5e17-b7c7-4a35-a36d-86fea6066d51",
   "metadata": {
    "deletable": false,
    "editable": false
   },
   "source": [
    "We can make a visual argument as to whether we believe the observed statistic is consistent with Emily's model. Here, since large values of the test statistic suggest the alternative model (where the chance of getting the correct hand is something other than 50%), we can formalize our analysis by finding what proportion of simulated statistics were as large or larger than our observed statistic (the area at or to the right of the observed statistic). If this area is small enough (less than 5%), we'll declare that the observed data are inconsisted with our simulated model, and hence we reject the null hypothesis. "
   ]
  },
  {
   "cell_type": "markdown",
   "id": "7fd1a2fd-89ee-40e3-88a9-fcef24a8bb4d",
   "metadata": {
    "deletable": false,
    "editable": false
   },
   "source": [
    "### Question 8:\n",
    "\n",
    "Calculate the p_value of the simulated statistics. In other words, find the percentage of entries of statistics in the histogram plot in Queston 8, that is greater than or equal to the observerd statistic. "
   ]
  },
  {
   "cell_type": "code",
   "execution_count": null,
   "id": "5dd54348-3d4f-4348-b594-46ec302bb51f",
   "metadata": {
    "tags": []
   },
   "outputs": [],
   "source": [
    "p_value = ...\n",
    "p_value"
   ]
  },
  {
   "cell_type": "code",
   "execution_count": null,
   "id": "89f8822a",
   "metadata": {
    "deletable": false,
    "editable": false
   },
   "outputs": [],
   "source": [
    "grader.check(\"q8\")"
   ]
  },
  {
   "cell_type": "markdown",
   "id": "cac5e539-9273-4f76-9e95-433f4b2c284c",
   "metadata": {
    "deletable": false,
    "editable": false
   },
   "source": [
    "<!-- BEGIN QUESTION -->\n",
    "\n",
    "### Question 9: \n",
    "\n",
    "Make your final conclusion, of whether you should accept or reject the null hypothesis. "
   ]
  },
  {
   "cell_type": "markdown",
   "id": "93a7351d",
   "metadata": {},
   "source": [
    "_Type your answer here, replacing this text._"
   ]
  },
  {
   "cell_type": "markdown",
   "id": "37be3a79",
   "metadata": {
    "deletable": false,
    "editable": false
   },
   "source": [
    "<!-- END QUESTION -->\n",
    "\n"
   ]
  }
 ],
 "metadata": {
  "kernelspec": {
   "display_name": "Python 3 (ipykernel)",
   "language": "python",
   "name": "python3"
  },
  "language_info": {
   "codemirror_mode": {
    "name": "ipython",
    "version": 3
   },
   "file_extension": ".py",
   "mimetype": "text/x-python",
   "name": "python",
   "nbconvert_exporter": "python",
   "pygments_lexer": "ipython3",
   "version": "3.12.6"
  },
  "otter": {
   "OK_FORMAT": true,
   "tests": {
    "q2": {
     "name": "q2",
     "points": null,
     "suites": [
      {
       "cases": [
        {
         "code": ">>> pop_dist.shape == (2,)\nTrue",
         "hidden": false,
         "locked": false
        },
        {
         "code": ">>> (0 < pop_dist[1] < 1 and 0 < pop_dist[0] < 1).item() == True\nTrue",
         "hidden": false,
         "locked": false
        }
       ],
       "scored": true,
       "setup": "",
       "teardown": "",
       "type": "doctest"
      }
     ]
    },
    "q3": {
     "name": "q3",
     "points": null,
     "suites": [
      {
       "cases": [
        {
         "code": ">>> (0 < your_choice < 4) == True\nTrue",
         "hidden": false,
         "locked": false
        }
       ],
       "scored": true,
       "setup": "",
       "teardown": "",
       "type": "doctest"
      }
     ]
    },
    "q4": {
     "name": "q4",
     "points": null,
     "suites": [
      {
       "cases": [
        {
         "code": ">>> calculate_statistic(np.array([0.5, 0.5]), np.array([0.4, 0.1])).item() == 0.25\nTrue",
         "hidden": false,
         "locked": false
        },
        {
         "code": ">>> calculate_statistic(np.array([0.4, 0.1]), np.array([0.4, 0.1])).item() == 0\nTrue",
         "hidden": false,
         "locked": false
        }
       ],
       "scored": true,
       "setup": "",
       "teardown": "",
       "type": "doctest"
      }
     ]
    },
    "q5": {
     "name": "q5",
     "points": null,
     "suites": [
      {
       "cases": [
        {
         "code": ">>> observed_statistic.item() == 0.06\nTrue",
         "hidden": false,
         "locked": false
        }
       ],
       "scored": true,
       "setup": "",
       "teardown": "",
       "type": "doctest"
      }
     ]
    },
    "q6": {
     "name": "q6",
     "points": null,
     "suites": [
      {
       "cases": [
        {
         "code": ">>> (0 < one_simulation() < 1).item() == True\nTrue",
         "hidden": false,
         "locked": false
        }
       ],
       "scored": true,
       "setup": "",
       "teardown": "",
       "type": "doctest"
      }
     ]
    },
    "q8": {
     "name": "q8",
     "points": null,
     "suites": [
      {
       "cases": [
        {
         "code": ">>> (p_value > 0.05).item() == True\nTrue",
         "hidden": false,
         "locked": false
        }
       ],
       "scored": true,
       "setup": "",
       "teardown": "",
       "type": "doctest"
      }
     ]
    }
   }
  }
 },
 "nbformat": 4,
 "nbformat_minor": 5
}
