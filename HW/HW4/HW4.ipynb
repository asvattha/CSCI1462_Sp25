{
 "cells": [
  {
   "cell_type": "raw",
   "id": "2845f44c-15ff-4755-b01a-c3bc59261d0b",
   "metadata": {},
   "source": [
    "# ASSIGNMENT CONFIG\n",
    "requirements:\n",
    "solutions_pdf: false\n",
    "run_tests: false\n",
    "export_cell: false\n",
    "generate:\n",
    "    pdf: false"
   ]
  },
  {
   "cell_type": "markdown",
   "id": "3b3ededd-634a-4f4d-a0f7-390f0c21284f",
   "metadata": {},
   "source": [
    "Due Date: 30 Apr 2025 by 11:59 pm\n",
    "\n",
    "Grading Rubric:\n",
    "\n",
    "| Question | Points |\n",
    "| ----- |---- |\n",
    "| 1 | 10 |\n",
    "| 2 | 10 |\n",
    "| 3 | 10 |\n",
    "| 4 | 10 |\n",
    "| 5 | 20 |\n",
    "| 6 | 10 |\n",
    "| 7 | 10 |\n",
    "| 8 | 10 |\n",
    "| 9 | 10 |\n",
    "| Total | 100 |"
   ]
  },
  {
   "cell_type": "code",
   "execution_count": 1,
   "id": "77aa8c8e-1d34-47ca-8378-9a0fa39ad7c8",
   "metadata": {},
   "outputs": [],
   "source": [
    "import numpy as np\n",
    "import matplotlib.pyplot as plt"
   ]
  },
  {
   "cell_type": "markdown",
   "id": "0657cda5-dc2a-438e-ba46-d8b0a9adb5f9",
   "metadata": {},
   "source": [
    "Instructions: \n",
    "\n",
    "Submission: Please upload the notebook (.ipynb) file on D2L --> HW -- > HW04 --> HW04_Dropbox\n",
    "\n",
    "1. The HW assignment is individual-based assignment. However, you are encouraged to discuss with your classmates, but DO NOT show your code and copy from others. It will be considered as plagiarism, and proper actions will be taken as per the syllabus.\n",
    "\n",
    "2. Just because your question has passed the autograder test, doesn't mean necessarily that your answer is correct. So make sure you answer those questions carefully. The instructor has some hidden tests, and only when your question passes those tests successfully during grading, you will be given full points for the question.\n",
    "\n",
    "3. If you are stuck somewhere, feel free to reach out to me. "
   ]
  },
  {
   "cell_type": "markdown",
   "id": "e5467d8e-c5be-4382-958e-04330dd59e71",
   "metadata": {},
   "source": [
    "Objectives: To practice and learn about the following topics: \n",
    "1. Hypothesis Testing"
   ]
  },
  {
   "cell_type": "markdown",
   "id": "cd0ac798-44d7-4039-80a4-47e304b492fe",
   "metadata": {},
   "source": [
    "# Examining Therapeautic Touch\n",
    "\n",
    "Therapeutic touch (commonly shortened to `TT`), known by some as \"non-contact therapeutic touch\" claim promotes healing and reduces pain and anxiety. Practitioners of therapeutic touch state that by placing their hands on, or near, a patient, they are able to detect and manipulate what they say is the patient's energy field (HEF) and can massage it in order to promote health and relaxation in individuals. \n",
    "\n",
    "![Therapeautic Touch](https://th.bing.com/th/id/OIP.TXN-_fvGH4iEmbUrxW498AHaE6?rs=1&pid=ImgDetMain)\n"
   ]
  },
  {
   "cell_type": "markdown",
   "id": "573b326f-fcd8-43c0-94ad-c327e319ffd2",
   "metadata": {},
   "source": [
    "## Emily Rosa\n",
    "\n",
    "Emily Rosa, a 4th grade student who was very familiar with the world of TT, decided to test whether or not TT practioners could truly interact with a person's HEF for her 4th grade science fair project. She later, at age nine, conceived and executed a scientific study of therapeautic touch which was published in the Journal of the American Medical Association in 1998. She is the youngest person to have a research paper published in a peer reviewed medical journal. \n",
    "\n",
    "### Emily's Experiment\n",
    "\n",
    "Emily's experiment was clean, simple and effective. Due to her parent's occupations in the medical field, she has wide access to people who claimed to be TT practitioners. \n",
    "\n",
    "Emily tok 21 TT practitioners and used them for her science experiment. She would take a TT practitioner and ask them to extend their hands through a screen (which they can't see through). Emily would be on the other side and would flip a **fair coin**. Depending on how the coin landed, she would put out either her left hand or her right hand. The TT practitioner would then have to answer which hand Emily put out. If a practitioner could truly interact with a person's HEF, it would be expected that they answered correctly. \n",
    "\n",
    "Overall, through 210 samples, the practitioner picked the correct hand 44% of the time. \n",
    "\n",
    "<img src=\"https://scchen.com/en/post/if-emily-rosa-met-thomas-bayes/joc71352f1.gif\" style=\"width:400px;\"/>\n",
    "\n",
    "\n",
    "Emily's main goal here was to text whether or not the TT practitioner's guesses were random, like the flip of a coin. In most medical experiments, this is the norm. We want to test whether or not the treatment has an effect, not whether or not the treatment actually works. \n",
    "\n",
    "We will now begin to formulate this experiment in terms of the steps of the hypothesis testing we learnt in this course. "
   ]
  },
  {
   "cell_type": "raw",
   "id": "cecd67f2-a324-412b-86e0-9ec9f37befb8",
   "metadata": {},
   "source": [
    "# BEGIN QUESTION\n",
    "name: q1\n",
    "manual: true"
   ]
  },
  {
   "cell_type": "markdown",
   "id": "f7fb0d9a-839a-45a0-9a2e-aebdabefac1d",
   "metadata": {},
   "source": [
    "### Question 1: \n",
    "What is Emily's null hypothesis for how lily the TT practitioners are to choose the correct hand? What alternative hypothesis is she meant to discredit?  "
   ]
  },
  {
   "cell_type": "raw",
   "id": "e59123ad-7290-4274-821b-348eb07e5aad",
   "metadata": {},
   "source": [
    "# BEGIN SOLUTION"
   ]
  },
  {
   "cell_type": "markdown",
   "id": "db4ab677-0b44-40d1-82cf-5fc4282f9b8e",
   "metadata": {},
   "source": [
    "Emily's null hypothesis is that the TT practitioners guesses were random and it is just by chance that 44% of the time, the TT practitioners were right. The TT practice do not have any significant impact on it's patients. \n",
    "\n",
    "The alternative hypothesis is that the observed data is not by chance, and there is some other reasons behind the practice of TT for such guesses. "
   ]
  },
  {
   "cell_type": "raw",
   "id": "eed14ef3-9410-409e-b447-675cd934fbcf",
   "metadata": {},
   "source": [
    "# END SOLUTION"
   ]
  },
  {
   "cell_type": "raw",
   "id": "ebf0136e-6f66-4831-b571-174f562801ca",
   "metadata": {},
   "source": [
    "# BEGIN TESTS"
   ]
  },
  {
   "cell_type": "raw",
   "id": "004c5e00-ca9a-4bd8-afa8-7ea66cd7aadd",
   "metadata": {},
   "source": [
    "# END TESTS"
   ]
  },
  {
   "cell_type": "raw",
   "id": "4e0ffe62-e6b7-4dd1-9a4a-c458f1b12a33",
   "metadata": {},
   "source": [
    "# END QUESTION"
   ]
  },
  {
   "cell_type": "raw",
   "id": "34bda9df-d8e1-4c1d-8ac1-1bbc9640dcf7",
   "metadata": {},
   "source": [
    "# BEGIN QUESTION\n",
    "name: q2\n",
    "manual: false"
   ]
  },
  {
   "cell_type": "markdown",
   "id": "a83f8967-7631-4612-a9bb-49853795a1ed",
   "metadata": {},
   "source": [
    "### Question 2: \n",
    "\n",
    "Remember that the practitioner got the correct answer 44% (0.44) of the time. According to Emily's null hypothesis, what proportion of times do we expect the practitioner to guess the correct hand and incorrect hand? \n",
    "\n",
    "Make sure your answer is a number between 0 and 1. "
   ]
  },
  {
   "cell_type": "raw",
   "id": "7e1ab90f-9ca3-43cc-8769-eb26d766d3ec",
   "metadata": {},
   "source": [
    "# BEGIN SOLUTION"
   ]
  },
  {
   "cell_type": "code",
   "execution_count": 2,
   "id": "b34750dd-6b1d-4c02-91ba-7947762cccc2",
   "metadata": {},
   "outputs": [
    {
     "data": {
      "text/plain": [
       "array([0.5, 0.5])"
      ]
     },
     "execution_count": 2,
     "metadata": {},
     "output_type": "execute_result"
    }
   ],
   "source": [
    "pop_dist = np.array([0.5, 0.5]) # SOLUTION\n",
    "pop_dist"
   ]
  },
  {
   "cell_type": "raw",
   "id": "1949577e-5836-4b9b-a652-34991954d1a3",
   "metadata": {},
   "source": [
    "# END SOLUTION"
   ]
  },
  {
   "cell_type": "markdown",
   "id": "b5e224b7-2692-498a-b8c5-c446b137d897",
   "metadata": {},
   "source": [
    "The goal is to see if the difference from this true distribution is due to something other than chance. "
   ]
  },
  {
   "cell_type": "raw",
   "id": "8ffad95a-c91b-4370-93dd-1dbbcc5e576c",
   "metadata": {},
   "source": [
    "# BEGIN TESTS"
   ]
  },
  {
   "cell_type": "code",
   "execution_count": 3,
   "id": "61fe55b3-ee43-4e71-8d8e-8e08d55cf357",
   "metadata": {},
   "outputs": [
    {
     "data": {
      "text/plain": [
       "True"
      ]
     },
     "execution_count": 3,
     "metadata": {},
     "output_type": "execute_result"
    }
   ],
   "source": [
    "pop_dist.shape == (2,)"
   ]
  },
  {
   "cell_type": "code",
   "execution_count": 4,
   "id": "3fc065ca-6d69-4af6-9e6e-14ae6d42c96c",
   "metadata": {},
   "outputs": [
    {
     "data": {
      "text/plain": [
       "True"
      ]
     },
     "execution_count": 4,
     "metadata": {},
     "output_type": "execute_result"
    }
   ],
   "source": [
    "((0 < pop_dist[1] < 1) and (0 < pop_dist[0] < 1)).item() == True"
   ]
  },
  {
   "cell_type": "raw",
   "id": "3a959fe0-2a39-4a4b-848d-f3231fcb52c0",
   "metadata": {},
   "source": [
    "# END TESTS"
   ]
  },
  {
   "cell_type": "raw",
   "id": "6e107fe8-4802-4ea2-ba65-84616cf9e225",
   "metadata": {},
   "source": [
    "# END QUESTION"
   ]
  },
  {
   "cell_type": "raw",
   "id": "c0ae3a73-0a5d-4a03-b156-08f19b87637e",
   "metadata": {},
   "source": [
    "# BEGIN QUESTION\n",
    "name: q3\n",
    "manual: false"
   ]
  },
  {
   "cell_type": "markdown",
   "id": "3cc45a6b-c6d0-4a8e-8ed9-e06300922a50",
   "metadata": {},
   "source": [
    "### Question 3: \n",
    "\n",
    "We usually use a statistic to help determine which model the evidence points towards. What is a statistic that we can use to compare outcomes under Emily's null hypothesis model to what was observed? (Choose one)\n",
    "\n",
    "1. The difference between the true distribution and the sample distribution\n",
    "2. The sum of the absolute difference between the true distribution and the sample distribution divide by 2\n",
    "3. The sum of the difference between the true distribution and the sample distribution"
   ]
  },
  {
   "cell_type": "raw",
   "id": "ea1fb826-17cb-41a2-95eb-985940454578",
   "metadata": {},
   "source": [
    "# BEGIN SOLUTION"
   ]
  },
  {
   "cell_type": "code",
   "execution_count": 5,
   "id": "01aa7bf2-8ba6-47d5-9733-c558b39870f1",
   "metadata": {},
   "outputs": [
    {
     "data": {
      "text/plain": [
       "2"
      ]
     },
     "execution_count": 5,
     "metadata": {},
     "output_type": "execute_result"
    }
   ],
   "source": [
    "# Assign 1, 2 or 3 to your_choice variable\n",
    "your_choice = 2 # SOLUTION\n",
    "your_choice"
   ]
  },
  {
   "cell_type": "raw",
   "id": "7f63683a-642c-4855-b0c5-a7af2f9cae9b",
   "metadata": {},
   "source": [
    "# END SOLUTION"
   ]
  },
  {
   "cell_type": "raw",
   "id": "1aae42bf-f13c-4875-89c3-130f4af59a51",
   "metadata": {},
   "source": [
    "# BEGIN TESTS"
   ]
  },
  {
   "cell_type": "code",
   "execution_count": 6,
   "id": "81b5f55c-de9e-481a-a789-4e7053ca678e",
   "metadata": {},
   "outputs": [
    {
     "data": {
      "text/plain": [
       "True"
      ]
     },
     "execution_count": 6,
     "metadata": {},
     "output_type": "execute_result"
    }
   ],
   "source": [
    "(0 < your_choice < 4) == True"
   ]
  },
  {
   "cell_type": "raw",
   "id": "83554fee-29e0-4a50-b18a-86ae40c6734c",
   "metadata": {},
   "source": [
    "# END TESTS"
   ]
  },
  {
   "cell_type": "raw",
   "id": "54aaa119-a106-4c21-976b-011d58447f97",
   "metadata": {},
   "source": [
    "# END QUESTION"
   ]
  },
  {
   "cell_type": "raw",
   "id": "df8abf66-5300-4da5-ad40-840d3997936f",
   "metadata": {},
   "source": [
    "# BEGIN QUESTION\n",
    "name: q4\n",
    "manual: false"
   ]
  },
  {
   "cell_type": "markdown",
   "id": "bbd9236c-d614-453a-b739-a551a688e020",
   "metadata": {},
   "source": [
    "### Question 4:\n",
    "\n",
    "Define the function `calculate_statistic` which takes in a sampled distribution and true distribution, and returns the value of the statistic chosen in Question 3. "
   ]
  },
  {
   "cell_type": "raw",
   "id": "93ed1fdc-8bf3-4031-9f6e-3bb5c59ddc08",
   "metadata": {},
   "source": [
    "# BEGIN SOLUTION"
   ]
  },
  {
   "cell_type": "code",
   "execution_count": 7,
   "id": "dcf19bfa-0616-4785-b109-70c149259d72",
   "metadata": {},
   "outputs": [],
   "source": [
    "def calculate_statistic(dist1, dist2):\n",
    "    statistic = np.sum(np.abs(dist1 - dist2)) / 2 # SOLUTION\n",
    "    return np.round(statistic, 2)"
   ]
  },
  {
   "cell_type": "raw",
   "id": "e3855d93-95b8-4038-8b22-5dae8751088b",
   "metadata": {},
   "source": [
    "# END SOLUTION"
   ]
  },
  {
   "cell_type": "raw",
   "id": "a090e6ce-40ff-4f99-bcba-aa1ab23f933b",
   "metadata": {},
   "source": [
    "# BEGIN TESTS"
   ]
  },
  {
   "cell_type": "code",
   "execution_count": 8,
   "id": "412325fa-95d5-4d5f-a257-4571648179e6",
   "metadata": {},
   "outputs": [
    {
     "data": {
      "text/plain": [
       "True"
      ]
     },
     "execution_count": 8,
     "metadata": {},
     "output_type": "execute_result"
    }
   ],
   "source": [
    "calculate_statistic(np.array([0.5, 0.5]), np.array([0.4, 0.1])).item() == 0.25"
   ]
  },
  {
   "cell_type": "code",
   "execution_count": 9,
   "id": "050d2e3e-a2d4-4174-8c04-779126f5cce6",
   "metadata": {},
   "outputs": [
    {
     "data": {
      "text/plain": [
       "True"
      ]
     },
     "execution_count": 9,
     "metadata": {},
     "output_type": "execute_result"
    }
   ],
   "source": [
    "calculate_statistic(np.array([0.4, 0.1]), np.array([0.4, 0.1])).item() == 0"
   ]
  },
  {
   "cell_type": "raw",
   "id": "e62175f5-067d-494f-8286-6fd36dc2a08c",
   "metadata": {},
   "source": [
    "# END TESTS"
   ]
  },
  {
   "cell_type": "raw",
   "id": "ff2c4661-b77c-4cf7-adb9-832ad0f902fe",
   "metadata": {},
   "source": [
    "# END QUESTION"
   ]
  },
  {
   "cell_type": "raw",
   "id": "00c5184b-adcf-40ea-abf9-5ce8dd9669f2",
   "metadata": {},
   "source": [
    "# BEGIN QUESTION\n",
    "name: q5\n",
    "manual: false"
   ]
  },
  {
   "cell_type": "markdown",
   "id": "fbbe6cd3-cc13-419e-99fb-250771f1ebc3",
   "metadata": {},
   "source": [
    "### Question 5:\n",
    "\n",
    "Assign `observed_statistic` to calculate the observed statistic from Emily's experiment. Round it upto two decimal points. "
   ]
  },
  {
   "cell_type": "raw",
   "id": "295b1124-79f2-49b0-9902-3d4558a4bb66",
   "metadata": {},
   "source": [
    "# BEGIN SOLUTION"
   ]
  },
  {
   "cell_type": "code",
   "execution_count": 10,
   "id": "edb6f0d7-749e-4425-b8ba-8285e9c61f17",
   "metadata": {},
   "outputs": [
    {
     "data": {
      "text/plain": [
       "np.float64(0.06)"
      ]
     },
     "execution_count": 10,
     "metadata": {},
     "output_type": "execute_result"
    }
   ],
   "source": [
    "sample_dist = np.array([0.44, 0.56]) # SOLUTION\n",
    "\n",
    "observed_statistic = np.round(calculate_statistic(sample_dist, pop_dist), 2) # SOLUTION\n",
    "observed_statistic"
   ]
  },
  {
   "cell_type": "raw",
   "id": "d8a14043-bdec-4b89-8fdd-cee09b4d8a57",
   "metadata": {},
   "source": [
    "# END SOLUTION"
   ]
  },
  {
   "cell_type": "raw",
   "id": "16844b56-f545-4d64-98d1-31b21e2ef739",
   "metadata": {},
   "source": [
    "# BEGIN TESTS"
   ]
  },
  {
   "cell_type": "code",
   "execution_count": 11,
   "id": "c2479fc0-2f98-4ea6-851e-8e872302d8a9",
   "metadata": {},
   "outputs": [
    {
     "data": {
      "text/plain": [
       "True"
      ]
     },
     "execution_count": 11,
     "metadata": {},
     "output_type": "execute_result"
    }
   ],
   "source": [
    "observed_statistic.item() == 0.06"
   ]
  },
  {
   "cell_type": "raw",
   "id": "64a320f5-8cb9-4377-b1b9-82d8303d5003",
   "metadata": {},
   "source": [
    "# END TESTS"
   ]
  },
  {
   "cell_type": "raw",
   "id": "30c23ffb-b8b6-4e14-922f-e3945d649807",
   "metadata": {},
   "source": [
    "# END QUESTION"
   ]
  },
  {
   "cell_type": "raw",
   "id": "acdf4883-81df-42b1-9934-8e7613e95549",
   "metadata": {},
   "source": [
    "# BEGIN QUESTION\n",
    "name: q6\n",
    "manual: false"
   ]
  },
  {
   "cell_type": "markdown",
   "id": "d940039e-e294-4bc6-9618-d6a6b9055e46",
   "metadata": {},
   "source": [
    "### Question 6: \n",
    "\n",
    "To begin simulating, we should start by creating a representation of Emily's null model to use for our simulation. Complete the `one_simulation` function, which simulates one experiment, which consists of 210 hand choices, as Emily evaluated in real life and find a statistic to summarize this instance of simulation.  "
   ]
  },
  {
   "cell_type": "raw",
   "id": "f5bea939-9a89-434d-a5f4-48966f916565",
   "metadata": {},
   "source": [
    "# BEGIN SOLUTION"
   ]
  },
  {
   "cell_type": "code",
   "execution_count": 12,
   "id": "9251db35-67c7-4f91-826f-3f71241710c0",
   "metadata": {},
   "outputs": [],
   "source": [
    "def one_simulation():\n",
    "    \"\"\"# BEGIN PROMPT\n",
    "    emp_dist = np.random.multinomial(n=..., pvals=...) / ... \n",
    "    \"\"\"# END PROMPT\n",
    "    sample_dist = np.random.multinomial(n=210, pvals=pop_dist) / 210 # SOLUTION NO PROMPT\n",
    "    statistic = calculate_statistic(sample_dist, pop_dist) # SOLUTION\n",
    "    return statistic"
   ]
  },
  {
   "cell_type": "code",
   "execution_count": 13,
   "id": "6c5ee4f9-5078-4094-a391-ed939aee08ad",
   "metadata": {},
   "outputs": [
    {
     "data": {
      "text/plain": [
       "np.float64(0.0)"
      ]
     },
     "execution_count": 13,
     "metadata": {},
     "output_type": "execute_result"
    }
   ],
   "source": [
    "one_simulation()"
   ]
  },
  {
   "cell_type": "raw",
   "id": "d049e963-514a-42c4-bb96-3f8d87d4b6ff",
   "metadata": {},
   "source": [
    "# END SOLUTION"
   ]
  },
  {
   "cell_type": "raw",
   "id": "503a6ebc-975f-4c95-9866-fb92f5f7e3e8",
   "metadata": {},
   "source": [
    "# BEGIN TESTS"
   ]
  },
  {
   "cell_type": "code",
   "execution_count": 14,
   "id": "45a21890-94f4-4197-a068-7d4dddbed233",
   "metadata": {},
   "outputs": [
    {
     "data": {
      "text/plain": [
       "True"
      ]
     },
     "execution_count": 14,
     "metadata": {},
     "output_type": "execute_result"
    }
   ],
   "source": [
    "(0 < one_simulation() < 1).item() == True"
   ]
  },
  {
   "cell_type": "raw",
   "id": "567a114f-4fba-48ce-89b5-1a66baf8286e",
   "metadata": {},
   "source": [
    "# END TESTS"
   ]
  },
  {
   "cell_type": "raw",
   "id": "2de2d68b-e1cb-42a9-a257-7fbada931ddc",
   "metadata": {},
   "source": [
    "# END QUESTION"
   ]
  },
  {
   "cell_type": "raw",
   "id": "21837c18-8426-4d9f-b9a1-a2693c66c0d8",
   "metadata": {},
   "source": [
    "# BEGIN QUESTION\n",
    "name: q7\n",
    "manual: false"
   ]
  },
  {
   "cell_type": "markdown",
   "id": "6b1a90b1-e84a-4741-a442-4966094e2830",
   "metadata": {},
   "source": [
    "### Question 7: \n",
    "\n",
    "Let's now see what the distribution of the statistic is actuall like under Emily's null model. Complete the code given below to run the Emily's experiement for many repetitions and then plot the histogram of the distribution of the statistics. "
   ]
  },
  {
   "cell_type": "raw",
   "id": "cdf31ed5-af1b-4aea-9106-b4ef4ecd79cb",
   "metadata": {},
   "source": [
    "# BEGIN SOLUTION"
   ]
  },
  {
   "cell_type": "code",
   "execution_count": 15,
   "id": "d20b7eb3-1723-4278-96ca-c984402fe657",
   "metadata": {},
   "outputs": [],
   "source": [
    "repetitions = 20000\n",
    "total_statistics = []\n",
    "\n",
    "for _ in np.arange(repetitions):\n",
    "    ...\n",
    "    statistic = one_simulation() # SOLUTION NO PROMPT\n",
    "    total_statistics.append(statistic) # SOLUTION NO PROMPT\n",
    "\n",
    "total_statistics = np.array(total_statistics)"
   ]
  },
  {
   "cell_type": "code",
   "execution_count": 16,
   "id": "d696fbc1-d9cd-4cf3-80ec-eee430f6621c",
   "metadata": {},
   "outputs": [
    {
     "data": {
      "image/png": "[encoded data removed]",
      "text/plain": [
       "<Figure size 640x480 with 1 Axes>"
      ]
     },
     "metadata": {},
     "output_type": "display_data"
    }
   ],
   "source": [
    "plt.hist(total_statistics, bins=np.arange(0, 0.5, 0.01), edgecolor='black', density=True)\n",
    "plt.scatter(observed_statistic, 0.3, color='red')\n",
    "plt.xlabel('Statistics')\n",
    "plt.show()"
   ]
  },
  {
   "cell_type": "raw",
   "id": "f598872c-60d8-4dad-aadf-9c74f211dfce",
   "metadata": {},
   "source": [
    "# END SOLUTION"
   ]
  },
  {
   "cell_type": "markdown",
   "id": "11bb5e17-b7c7-4a35-a36d-86fea6066d51",
   "metadata": {},
   "source": [
    "We can make a visual argument as to whether we believe the observed statistic is consistent with Emily's model. Here, since large values of the test statistic suggest the alternative model (where the chance of getting the correct hand is something other than 50%), we can formalize our analysis by finding what proportion of simulated statistics were as large or larger than our observed statistic (the area at or to the right of the observed statistic). If this area is small enough (less than 5%), we'll declare that the observed data are inconsisted with our simulated model, and hence we reject the null hypothesis. "
   ]
  },
  {
   "cell_type": "raw",
   "id": "ad3b7118-dfd6-4bcc-80b8-9f6e5689e0c7",
   "metadata": {},
   "source": [
    "# BEGIN TESTS"
   ]
  },
  {
   "cell_type": "raw",
   "id": "8b128799-70a0-4c86-9962-2cb19b631ef8",
   "metadata": {},
   "source": [
    "# END TESTS"
   ]
  },
  {
   "cell_type": "raw",
   "id": "f47ed075-e306-4f06-bac1-38cbc20418c3",
   "metadata": {},
   "source": [
    "# END QUESTION"
   ]
  },
  {
   "cell_type": "raw",
   "id": "a1fa4fb4-d3b6-4d0b-babf-2f623a56a552",
   "metadata": {},
   "source": [
    "# BEGIN QUESTION\n",
    "name: q8\n",
    "manual: false"
   ]
  },
  {
   "cell_type": "markdown",
   "id": "7fd1a2fd-89ee-40e3-88a9-fcef24a8bb4d",
   "metadata": {},
   "source": [
    "### Question 8:\n",
    "\n",
    "Calculate the p_value of the simulated statistics. In other words, find the percentage of entries of statistics in the histogram plot in Queston 8, that is greater than or equal to the observerd statistic. "
   ]
  },
  {
   "cell_type": "raw",
   "id": "5ed50f6b-170f-48de-9d4a-58d57cfa9a7d",
   "metadata": {},
   "source": [
    "# BEGIN SOLUTION"
   ]
  },
  {
   "cell_type": "code",
   "execution_count": 17,
   "id": "5dd54348-3d4f-4348-b594-46ec302bb51f",
   "metadata": {},
   "outputs": [
    {
     "data": {
      "text/plain": [
       "np.float64(0.1139)"
      ]
     },
     "execution_count": 17,
     "metadata": {},
     "output_type": "execute_result"
    }
   ],
   "source": [
    "p_value = np.sum(total_statistics >= observed_statistic) / repetitions # SOLUTION\n",
    "p_value"
   ]
  },
  {
   "cell_type": "raw",
   "id": "e0b18357-d2a4-4737-96b4-0925532578c0",
   "metadata": {},
   "source": [
    "# END SOLUTION"
   ]
  },
  {
   "cell_type": "raw",
   "id": "7e23e2c1-e37a-4b41-a73c-0852dd72a7d7",
   "metadata": {},
   "source": [
    "# BEGIN TESTS"
   ]
  },
  {
   "cell_type": "code",
   "execution_count": 18,
   "id": "337dd044-3bb3-4a43-8dd1-965b3c532abf",
   "metadata": {},
   "outputs": [
    {
     "data": {
      "text/plain": [
       "True"
      ]
     },
     "execution_count": 18,
     "metadata": {},
     "output_type": "execute_result"
    }
   ],
   "source": [
    "(p_value > 0.05).item() == True"
   ]
  },
  {
   "cell_type": "raw",
   "id": "3424011f-2779-4996-b0b6-058973c5c75f",
   "metadata": {},
   "source": [
    "# END TESTS"
   ]
  },
  {
   "cell_type": "raw",
   "id": "93549fff-2051-4f61-a0da-a96c07e146f9",
   "metadata": {},
   "source": [
    "# END QUESTION"
   ]
  },
  {
   "cell_type": "raw",
   "id": "5528cf64-b017-4a32-a1ed-271185b1efb7",
   "metadata": {},
   "source": [
    "# BEGIN QUESTION\n",
    "name: q9\n",
    "manual: true"
   ]
  },
  {
   "cell_type": "markdown",
   "id": "cac5e539-9273-4f76-9e95-433f4b2c284c",
   "metadata": {},
   "source": [
    "### Question 9: \n",
    "\n",
    "Make your final conclusion, of whether you should accept or reject the null hypothesis. "
   ]
  },
  {
   "cell_type": "raw",
   "id": "33371f83-f667-4951-96c6-3658d479c0c2",
   "metadata": {},
   "source": [
    "# BEGIN SOLUTION"
   ]
  },
  {
   "cell_type": "markdown",
   "id": "0147b346-fb65-4b4e-a41a-7646ca6c753b",
   "metadata": {},
   "source": [
    "We accept (fail to reject) the null hypothesis."
   ]
  },
  {
   "cell_type": "raw",
   "id": "ea872982-722b-4447-9b8c-269b32e19e54",
   "metadata": {},
   "source": [
    "# END SOLUTION"
   ]
  },
  {
   "cell_type": "raw",
   "id": "1c94a9bc-839e-459e-bba7-8f34995db572",
   "metadata": {},
   "source": [
    "# BEGIN TESTS"
   ]
  },
  {
   "cell_type": "raw",
   "id": "ce567d0e-8e82-4fe3-a856-dae290321b6e",
   "metadata": {},
   "source": [
    "# END TESTS"
   ]
  },
  {
   "cell_type": "raw",
   "id": "a91a8e3d-67a5-4858-b829-9b321206b823",
   "metadata": {},
   "source": [
    "# END QUESTION"
   ]
  }
 ],
 "metadata": {
  "kernelspec": {
   "display_name": "Python 3 (ipykernel)",
   "language": "python",
   "name": "python3"
  },
  "language_info": {
   "codemirror_mode": {
    "name": "ipython",
    "version": 3
   },
   "file_extension": ".py",
   "mimetype": "text/x-python",
   "name": "python",
   "nbconvert_exporter": "python",
   "pygments_lexer": "ipython3",
   "version": "3.12.6"
  }
 },
 "nbformat": 4,
 "nbformat_minor": 5
}
